{
 "cells": [
  {
   "cell_type": "code",
   "execution_count": 28,
   "metadata": {},
   "outputs": [
    {
     "name": "stdout",
     "output_type": "stream",
     "text": [
      "The Cython extension is already loaded. To reload it, use:\n",
      "  %reload_ext Cython\n"
     ]
    }
   ],
   "source": [
    "%load_ext Cython\n",
    "import numpy as np\n",
    "import theano as th\n",
    "import theano.tensor as T\n",
    "import tensorflow as tf\n",
    "import numba as nb\n",
    "import math\n",
    "import time\n",
    "import cv2\n",
    "import socket"
   ]
  },
  {
   "cell_type": "code",
   "execution_count": 39,
   "metadata": {},
   "outputs": [],
   "source": [
    "%%cython\n",
    "from cython cimport boundscheck, wraparound\n",
    "from libc.stdlib cimport malloc\n",
    "from cython.parallel cimport prange\n",
    "cimport numpy as cnp\n",
    "import numpy as np\n",
    "\n",
    "cpdef float[:] cython_mul(float[:,:] a, float[:] b):\n",
    "    cdef:\n",
    "        int i, j, k, n, m\n",
    "        float *mardas\n",
    "    n = a.shape[0]\n",
    "    m = a.shape[1]\n",
    "    mardas = <float*> malloc(n * sizeof(float))\n",
    "    with boundscheck(False), wraparound(False):\n",
    "        for j in prange(n, nogil=True):\n",
    "            mardas[j] = 0\n",
    "    with boundscheck(False), wraparound(False):\n",
    "        for j in prange(n, nogil=True):\n",
    "            for i in range(m):\n",
    "                mardas[j] += a[j, i] * b[i]\n",
    "    return <float[:n]> mardas"
   ]
  },
  {
   "cell_type": "code",
   "execution_count": 40,
   "metadata": {},
   "outputs": [],
   "source": [
    "N = 10000\n",
    "a = np.random.rand(N, N).astype('float32')\n",
    "b = np.random.rand(N).astype('float32')"
   ]
  },
  {
   "cell_type": "code",
   "execution_count": 41,
   "metadata": {},
   "outputs": [
    {
     "data": {
      "text/plain": [
       "array([-0.00561523, -0.0090332 ,  0.00488281, ...,  0.00341797,\n",
       "       -0.0012207 , -0.00244141], dtype=float32)"
      ]
     },
     "execution_count": 41,
     "metadata": {},
     "output_type": "execute_result"
    }
   ],
   "source": [
    "np.array(cython_mul(a, b)) - a.dot(b)"
   ]
  },
  {
   "cell_type": "code",
   "execution_count": 42,
   "metadata": {},
   "outputs": [
    {
     "name": "stdout",
     "output_type": "stream",
     "text": [
      "111 ms ± 569 µs per loop (mean ± std. dev. of 7 runs, 10 loops each)\n"
     ]
    }
   ],
   "source": [
    "%timeit cython_mul(a, b)"
   ]
  },
  {
   "cell_type": "code",
   "execution_count": 51,
   "metadata": {},
   "outputs": [],
   "source": [
    "th.config.openmp = True\n",
    "ath = th.tensor.matrix()\n",
    "bth = th.tensor.matrix()\n",
    "out = ath.dot(bth)\n",
    "f = th.function([ath, bth], out)"
   ]
  },
  {
   "cell_type": "code",
   "execution_count": 53,
   "metadata": {},
   "outputs": [
    {
     "name": "stdout",
     "output_type": "stream",
     "text": [
      "425 ms ± 1.31 ms per loop (mean ± std. dev. of 7 runs, 1 loop each)\n"
     ]
    }
   ],
   "source": [
    "bb = b.reshape(-1, 1)\n",
    "%timeit f(a, bb)"
   ]
  },
  {
   "cell_type": "code",
   "execution_count": 49,
   "metadata": {},
   "outputs": [],
   "source": [
    "atf = tf.placeholder(shape=[None, None], dtype=tf.float32)\n",
    "btf = tf.placeholder(shape=[None, 1], dtype=tf.float32)\n",
    "out = tf.matmul(atf, btf)\n",
    "sess= tf.Session()\n",
    "feed_dict = {atf: a, btf: b.reshape(-1, 1)}"
   ]
  },
  {
   "cell_type": "code",
   "execution_count": 50,
   "metadata": {},
   "outputs": [
    {
     "name": "stdout",
     "output_type": "stream",
     "text": [
      "44.3 ms ± 2.17 ms per loop (mean ± std. dev. of 7 runs, 1 loop each)\n"
     ]
    }
   ],
   "source": [
    "%timeit sess.run(out, feed_dict=feed_dict)"
   ]
  },
  {
   "cell_type": "code",
   "execution_count": 54,
   "metadata": {},
   "outputs": [
    {
     "name": "stdout",
     "output_type": "stream",
     "text": [
      "41.9 ms ± 164 µs per loop (mean ± std. dev. of 7 runs, 10 loops each)\n"
     ]
    }
   ],
   "source": [
    "bb = b.reshape(-1, 1)\n",
    "%timeit a.dot(b)"
   ]
  },
  {
   "cell_type": "code",
   "execution_count": 56,
   "metadata": {},
   "outputs": [],
   "source": [
    "@nb.vectorize(['float32(float32, float32)'])\n",
    "def mul_numba(a, b):\n",
    "    return a * b"
   ]
  },
  {
   "cell_type": "code",
   "execution_count": 57,
   "metadata": {},
   "outputs": [
    {
     "data": {
      "text/plain": [
       "array([[0.30815125, 0.03520628, 0.294531  , ..., 0.82657033, 0.04556881,\n",
       "        0.03632921],\n",
       "       [0.30391175, 0.48041525, 0.12499926, ..., 0.10415496, 0.21428944,\n",
       "        0.01982157],\n",
       "       [0.06418305, 0.11020334, 0.1917314 , ..., 0.8691895 , 0.04590769,\n",
       "        0.03038564],\n",
       "       ...,\n",
       "       [0.3571819 , 0.8580767 , 0.26147088, ..., 0.6585892 , 0.11944653,\n",
       "        0.04103302],\n",
       "       [0.25646242, 0.6363841 , 0.18894507, ..., 0.40003654, 0.07482015,\n",
       "        0.03396439],\n",
       "       [0.28920603, 0.09723116, 0.20632674, ..., 0.72940606, 0.06852794,\n",
       "        0.06087457]], dtype=float32)"
      ]
     },
     "execution_count": 57,
     "metadata": {},
     "output_type": "execute_result"
    }
   ],
   "source": [
    "mul_numba(a, b)"
   ]
  },
  {
   "cell_type": "code",
   "execution_count": 58,
   "metadata": {},
   "outputs": [],
   "source": [
    "@nb.vectorize(['float32(float32, float32)'], target='cuda')\n",
    "def expon_gpu(x, y):\n",
    "    return math.exp(x) + math.exp(y)"
   ]
  },
  {
   "cell_type": "code",
   "execution_count": 59,
   "metadata": {},
   "outputs": [],
   "source": [
    "@nb.jit(\"float32(float32, float32)\")\n",
    "def mul_jit(a, b):\n",
    "    n = a.shape[0]\n",
    "    m = a.shape[1]\n",
    "    out = np.zeros(n)\n",
    "    for i in range(n):\n",
    "        for j in range(m):\n",
    "            out[i] += a[i, j] * b[j]\n",
    "    return out\n",
    "            "
   ]
  },
  {
   "cell_type": "code",
   "execution_count": 60,
   "metadata": {},
   "outputs": [
    {
     "name": "stdout",
     "output_type": "stream",
     "text": [
      "127 ms ± 2.16 ms per loop (mean ± std. dev. of 7 runs, 1 loop each)\n"
     ]
    }
   ],
   "source": [
    "c = np.zeros(N)\n",
    "%timeit mul_jit(a, b)"
   ]
  },
  {
   "cell_type": "code",
   "execution_count": 20,
   "metadata": {},
   "outputs": [
    {
     "data": {
      "text/plain": [
       "array([ 5.99537385e-04, -1.51222142e-04, -3.62341161e-04, ...,\n",
       "       -2.59238186e-06, -5.31115625e-04, -5.42285883e-04])"
      ]
     },
     "execution_count": 20,
     "metadata": {},
     "output_type": "execute_result"
    }
   ],
   "source": [
    "mul_jit(a, b) - a.dot(b)"
   ]
  },
  {
   "cell_type": "code",
   "execution_count": null,
   "metadata": {},
   "outputs": [],
   "source": []
  }
 ],
 "metadata": {
  "kernelspec": {
   "display_name": "Python 3",
   "language": "python",
   "name": "python3"
  },
  "language_info": {
   "codemirror_mode": {
    "name": "ipython",
    "version": 3
   },
   "file_extension": ".py",
   "mimetype": "text/x-python",
   "name": "python",
   "nbconvert_exporter": "python",
   "pygments_lexer": "ipython3",
   "version": "3.6.8"
  }
 },
 "nbformat": 4,
 "nbformat_minor": 2
}
