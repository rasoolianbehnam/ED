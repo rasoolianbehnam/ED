{
 "cells": [
  {
   "cell_type": "code",
   "execution_count": 1,
   "metadata": {},
   "outputs": [],
   "source": [
    "from pycuda import gpuarray\n",
    "import pycuda.autoinit\n",
    "import pycuda.driver as drv\n",
    "from pycuda.compiler import SourceModule\n",
    "import numpy as np\n",
    "import matplotlib.pyplot as plt\n",
    "import time\n",
    "from IPython.display import clear_output\n",
    "%load_ext autoreload\n",
    "%autoreload 1"
   ]
  },
  {
   "cell_type": "code",
   "execution_count": 10,
   "metadata": {},
   "outputs": [],
   "source": [
    "with open(\"new_file.cu\", 'r') as f:\n",
    "    code = f.read()\n",
    "index = code.find('int main')\n",
    "code = code[:index]\n",
    "ker = SourceModule(code)"
   ]
  },
  {
   "cell_type": "code",
   "execution_count": 3,
   "metadata": {},
   "outputs": [],
   "source": [
    "before_poisson_cu    = ker.get_function('before_poisson_cu')\n",
    "poisson_solve_1it_cu = ker.get_function('poisson_solve_1it_cu')\n",
    "after_poisson_cu     = ker.get_function('after_poisson_cu')\n",
    "sum_ne_cu            = ker.get_function('sum_ne_cu')\n",
    "update_ne_cu         = ker.get_function('update_ne_cu')"
   ]
  },
  {
   "cell_type": "code",
   "execution_count": 4,
   "metadata": {},
   "outputs": [],
   "source": [
    "##important note: make sure to convert EVERYTHING into numpy numbers otherwise you're screwed\n",
    "imax = np.int32(64)\n",
    "jmax = np.int32(64)\n",
    "kmax = np.int32(64)\n",
    "n1 = np.int32(imax+3)\n",
    "n2 = np.int32(jmax+3)\n",
    "n3 = np.int32(kmax+3)\n",
    "qi = np.float32(1.6E-19)\n",
    "qe = np.float32(-1.6E-19)\n",
    "kr = np.float32(0)\n",
    "ki = np.float32(0)\n",
    "si = np.float32(0)\n",
    "alpha = np.float32(0)\n",
    "q     = np.float32(1.6E-19)\n",
    "pie   = np.float32(3.14159)\n",
    "tmax  = np.float32(200)\n",
    "\n",
    "\n",
    "Kb    = np.float32(1.38E-23)\n",
    "B     = np.float32(0.5)\n",
    "Te    = np.float32(2.5*11604.5)\n",
    "Ti    = np.float32(0.025*11604.5)\n",
    "me    = np.float32(9.109E-31)\n",
    "mi    = np.float32(6.633E-26)\n",
    "ki    = np.float32(0.0)\n",
    "dt    = np.float32(1.0E-14)\n",
    "h     = np.float32(4.0E-4)\n",
    "eps0  = np.float32(8.854E-12)\n",
    "si    = np.float32(0.0)\n",
    "sf    = np.float32(0.0)\n",
    "\n",
    "\n",
    "N=np.int32(n1*n2*n3)\n",
    "iterations = np.int32(40);\n",
    "tmax = np.int32(1000)\n",
    "\n",
    "original_ne = np.ones(N).astype(np.float32)*1e-9\n",
    "original_ni = np.ones(N).astype(np.float32)*1e-9\n",
    "original_difxne = np.ones(N).astype(np.float32)*1e-9\n",
    "original_difyne = np.ones(N).astype(np.float32)*1e-9\n",
    "original_difxni = np.ones(N).astype(np.float32)*1e-9\n",
    "original_difyni = np.ones(N).astype(np.float32)*1e-9\n",
    "original_difxyne = np.ones(N).astype(np.float32)*1e-9\n",
    "original_difxyni = np.ones(N).astype(np.float32)*1e-9\n",
    "original_Exy = np.ones(N).astype(np.float32)*1e-9\n",
    "original_fexy = np.ones(N).astype(np.float32)*1e-9\n",
    "original_fixy = np.ones(N).astype(np.float32)*1e-9\n",
    "original_g = np.ones(N).astype(np.float32)*1e-9\n",
    "original_R = np.ones(N).astype(np.float32)*1e-9\n",
    "original_Ex = np.ones(N).astype(np.float32)*1e-9\n",
    "original_Ey = np.ones(N).astype(np.float32)*1e-9\n",
    "original_fex = np.ones(N).astype(np.float32)*1e-9\n",
    "original_fey = np.ones(N).astype(np.float32)*1e-9\n",
    "original_fix = np.ones(N).astype(np.float32)*1e-9\n",
    "original_fiy = np.ones(N).astype(np.float32)*1e-9\n",
    "original_V = np.ones(N).astype(np.float32)*1e-9\n",
    "original_L = np.ones(N).astype(np.float32)*1e-9\n",
    "original_difzne = np.ones(N).astype(np.float32)*1e-9\n",
    "original_difzni = np.ones(N).astype(np.float32)*1e-9\n",
    "original_Ez = np.ones(N).astype(np.float32)*1e-9\n",
    "original_fez = np.ones(N).astype(np.float32)*1e-9\n",
    "original_fiz = np.ones(N).astype(np.float32)*1e-9\n",
    "\n",
    "   \n",
    "nn  =np.float32(10.0/(Kb*Ti)) #neutral density=p/(Kb.T)\n",
    "nue =np.float32(nn*1.1E-19*np.sqrt(2.55*Kb*Te/me)) # electron collision frequency= neutral density * sigma_e*Vth_e\n",
    "nui =np.float32(nn*4.4E-19*np.sqrt(2.55*Kb*Ti/mi))\n",
    "wce =np.float32(q*B/me)\n",
    "wci =np.float32(q*B/mi)\n",
    "mue =np.float32(q/(me*nue))\n",
    "mui =np.float32(q/(mi*nui))\n",
    "dife=np.float32(Kb*Te/(me*nue))\n",
    "difi=np.float32(Kb*Ti/(mi*nui))\n",
    "ki=np.float32(0.00002/(nn*dt))\n",
    "denominator_e= np.float32((1+wce*wce/(nue*nue)))\n",
    "denominator_i= np.float32(1+wci*wci/(nui*nui))\n",
    "# Ta and W are just some constants needed for the iterative method that we have used to solve Poisson eq.\n",
    "Ta=np.float32(np.arccos((np.cos(pie/imax)+np.cos(pie/jmax)+np.cos(pie/kmax))/3.0))# needs to be float checked\n",
    "w=np.float32(2.0/(1.0+np.sin(Ta)))\n",
    "# -----------------------------------------------------------------------------------------------\n",
    "#Density initialization\n",
    "# To add multiple Gaussian sources, just simply use the density_initialization function at the (x,y) points that you want\n",
    "x_position = 15; y_position = 15; z_position = 15;\n",
    "\n"
   ]
  },
  {
   "cell_type": "code",
   "execution_count": 5,
   "metadata": {},
   "outputs": [],
   "source": [
    "for i in range(1, imax-1):\n",
    "    for j in range(1, jmax-1):\n",
    "        for k in range(1, kmax-1):\n",
    "            original_ne[k + n3 * (j + n2 * (i))]= 5.0E14\n",
    "            original_ni[k + n3 * (j + n2 * (i))]=5.0E14\n",
    "            \n",
    "for i in range(18, 22):\n",
    "    for j in range(18, 22):\n",
    "        for k in range(20, 40):\n",
    "            original_ne[k + n3 * (j + n2 * (i))]=5.0E15;\n",
    "            original_ni[k + n3 * (j + n2 * (i))]=5.0E15;\n",
    "\n",
    "for i in range(38, 42):\n",
    "    for j in range(18, 22):\n",
    "        for k in range(20, 40):\n",
    "            original_ne[k + n3 * (j + n2 * (i))]=5.0E15;\n",
    "            original_ni[k + n3 * (j + n2 * (i))]=5.0E15;\n",
    "\n",
    "for i in range(18, 22):\n",
    "    for j in range(38, 42):\n",
    "        for k in range(20, 40):\n",
    "            original_ne[k + n3 * (j + n2 * (i))]=5.0E15;\n",
    "            original_ni[k + n3 * (j + n2 * (i))]=5.0E15;\n",
    "\n",
    "for i in range(38, 42):\n",
    "    for j in range(38, 42):\n",
    "        for k in range(20, 40):\n",
    "            original_ne[k + n3 * (j + n2 * (i))]=5.0E15;\n",
    "            original_ni[k + n3 * (j + n2 * (i))]=5.0E15;\n",
    "\n",
    "for k in range(1, kmax+1):\n",
    "    for j in range(1, jmax+1):\n",
    "        for i in range(1, imax+1):\n",
    "            si=si+original_ne[k + n3 * (j + n2 * (i))] ;\n",
    "si = np.float32(si)"
   ]
  },
  {
   "cell_type": "code",
   "execution_count": 6,
   "metadata": {},
   "outputs": [],
   "source": [
    "ne = gpuarray.to_gpu(original_ne)\n",
    "ni = gpuarray.to_gpu(original_ni)\n",
    "difxne = gpuarray.to_gpu(original_difxne)\n",
    "difyne = gpuarray.to_gpu(original_difyne)\n",
    "difxni = gpuarray.to_gpu(original_difxni)\n",
    "difyni = gpuarray.to_gpu(original_difyni)\n",
    "difxyne = gpuarray.to_gpu(original_difxyne)\n",
    "difxyni = gpuarray.to_gpu(original_difxyni)\n",
    "Exy = gpuarray.to_gpu(original_Exy)\n",
    "fexy = gpuarray.to_gpu(original_fexy)\n",
    "fixy = gpuarray.to_gpu(original_fixy)\n",
    "g = gpuarray.to_gpu(original_g)\n",
    "R = gpuarray.to_gpu(original_R)\n",
    "Ex = gpuarray.to_gpu(original_Ex)\n",
    "Ey = gpuarray.to_gpu(original_Ey)\n",
    "fex = gpuarray.to_gpu(original_fex)\n",
    "fey = gpuarray.to_gpu(original_fey)\n",
    "fix = gpuarray.to_gpu(original_fix)\n",
    "fiy = gpuarray.to_gpu(original_fiy)\n",
    "V = gpuarray.to_gpu(original_V)\n",
    "L = gpuarray.to_gpu(original_L)\n",
    "difzne = gpuarray.to_gpu(original_difzne)\n",
    "difzni = gpuarray.to_gpu(original_difzni)\n",
    "Ez = gpuarray.to_gpu(original_Ez)\n",
    "fez = gpuarray.to_gpu(original_fez)\n",
    "fiz = gpuarray.to_gpu(original_fiz)\n",
    "\n",
    "g_temp =  gpuarray.to_gpu(g)\n",
    "ne_temp = gpuarray.to_gpu(ne)\n",
    "ni_temp = gpuarray.to_gpu(ni)\n",
    "\n",
    "original_values = np.array([qi,qe,kr,ki,si,sf,alpha,q,pie,Ta,w,eps0,Te,Ti,B,Kb,me,mi,nue,nui,denominator_e,denominator_i,nn,dt,h,wce,wci,mue,mui,dife,difi]).astype(np.float32)\n",
    "values = gpuarray.to_gpu(original_values)\n",
    "\n",
    "sf_temp = gpuarray.zeros(1, dtype='float32')"
   ]
  },
  {
   "cell_type": "code",
   "execution_count": 7,
   "metadata": {},
   "outputs": [
    {
     "data": {
      "text/plain": [
       "[1e-09, 1e-09, 500000000000000.0, 0.0]"
      ]
     },
     "execution_count": 7,
     "metadata": {},
     "output_type": "execute_result"
    }
   ],
   "source": [
    "def test(p = None):\n",
    "    if p is None:\n",
    "        p = [V, g, ne]\n",
    "    p  = [a.get()[5 + (kmax+3) * (5 + (jmax+3) * 5)] for a in p]\n",
    "    p.append(sf_temp.get()[0])\n",
    "    return p\n",
    "test()"
   ]
  },
  {
   "cell_type": "code",
   "execution_count": 13,
   "metadata": {},
   "outputs": [
    {
     "name": "stdout",
     "output_type": "stream",
     "text": [
      "took  4.923717498779297\n"
     ]
    }
   ],
   "source": [
    "grid  = (int(N+128)//128, 1, 1)\n",
    "block = (128, 1, 1)\n",
    "s = time.time()\n",
    "for i in range(100):\n",
    "    #print(i, test())\n",
    "    before_poisson_cu(imax, jmax, kmax, ne, ni, g, g_temp, values, grid=grid, block=block)\n",
    "    for kk in range(iterations):#(kk=0; kk<iterations; kk++) {\n",
    "        poisson_solve_1it_cu(imax, jmax, kmax, n1, n2, n3, N, V, g, R, w, h, np.int32(1), grid=grid, block=block);\n",
    "        poisson_solve_1it_cu(imax, jmax, kmax, n1, n2, n3, N, V, g, R, w, h, np.int32(0), grid=grid, block=block);\n",
    "    \n",
    "    after_poisson_cu( imax,  jmax,  kmax,  ne, ni , difxne, difyne, difxni , difyni, difxyne, difxyni, Exy, fexy, fixy, R, Ex, Ey , fex, fey, fix, fiy, V, difzne, difzni, Ez, fez, fiz , values, sf_temp\n",
    "                     , grid=grid, block=block)\n",
    "    sum_ne_cu(imax, jmax, kmax, ne, sf_temp, grid=grid, block=block);\n",
    "    ##sf_temp = gpuarray.sum(ne)\n",
    "    update_ne_cu(imax, jmax, kmax, ne, ni, sf_temp, si, grid=grid, block=block);\n",
    "f = time.time()\n",
    "print(\"took \", f-s)"
   ]
  },
  {
   "cell_type": "code",
   "execution_count": 12,
   "metadata": {},
   "outputs": [
    {
     "data": {
      "text/plain": [
       "[0.009040242, -7.688398, 500826040000000.0, 1.2512165e+20]"
      ]
     },
     "execution_count": 12,
     "metadata": {},
     "output_type": "execute_result"
    }
   ],
   "source": [
    "def test(p = None):\n",
    "    if p is None:\n",
    "        p = [V, g, ne]\n",
    "    p  = [a.get()[5 + (kmax+3) * (5 + (jmax+3) * 5)] for a in p]\n",
    "    p.append(sf_temp.get()[0])\n",
    "    return p\n",
    "test()"
   ]
  },
  {
   "cell_type": "code",
   "execution_count": 96,
   "metadata": {},
   "outputs": [],
   "source": [
    "new_ker = SourceModule(\"\"\"\n",
    "__global__ void poisson_solve_1it_cu(int imax, int jmax, int kmax, int n1, int n2, int n3, int N, float* V, float* g, float *R, float w, float h, int oddEven) {\n",
    "    int index_x = threadIdx.x + blockDim.x * blockIdx.x;\n",
    "    //int stride_x = blockDim.x * gridDim.x;\n",
    "    int I = index_x;\n",
    "        //for (int I = index_x; I < N; I +=stride_x) {\n",
    "            int k = I % n3;\n",
    "            int s1 = (I - k) / n3;\n",
    "            int j = s1 % n2;\n",
    "            int i = (s1 - j) / n2;\n",
    "            if (i * j * k == 0 || i >= imax-1 || j >= jmax-1 || k >= kmax-1) return;\n",
    "            if ((i+j+k) % 2 == oddEven) return;\n",
    "            float r =\n",
    "                (V[k + n3 * (j + n2 * (i+1))]+\n",
    "                     V[k + n3 * (j + n2 * (i-1))]+\n",
    "                     V[k + n3 * (j+1 + n2 * (i))]+\n",
    "                     V[k + n3 * (j-1 + n2 * (i))]+\n",
    "                     V[k+1 + n3 * (j + n2 * (i))]+\n",
    "                     V[k-1 + n3 * (j + n2 * (i))]\n",
    "                 ) / 6.0 - V[k + n3 * (j + n2 * (i))]- (h*h)*g[k + n3 * (j + n2 * (i))]/6.0;\n",
    "            V[k + n3 * (j + n2 * (i))] = V[k + n3 * (j + n2 * (i))] + w*r;\n",
    "        //}\n",
    "}\n",
    "\"\"\")\n",
    "poisson_out_of_place = new_ker.get_function(\"poisson_solve_1it_cu\")"
   ]
  },
  {
   "cell_type": "code",
   "execution_count": 102,
   "metadata": {},
   "outputs": [
    {
     "name": "stdout",
     "output_type": "stream",
     "text": [
      "took  0.023944854736328125\n"
     ]
    }
   ],
   "source": [
    "grid  = (int(N)//1024+1, 1, 1)\n",
    "block = (int(1024), 1, 1)\n",
    "s = time.time()\n",
    "for i in range(10):\n",
    "    #print(i, test([V, R]))\n",
    "    before_poisson_cu(imax, jmax, kmax, ne, ni, g, g_temp, values, grid=grid, block=block)\n",
    "    for kk in range(40):#(kk=0; kk<iterations; kk++) {\n",
    "        poisson_out_of_place(imax, jmax, kmax, n1, n2, n3, N, V, g, R, w, h, np.int32(0), block=block, grid=grid)\n",
    "        poisson_out_of_place(imax, jmax, kmax, n1, n2, n3, N, V, g, R, w, h, np.int32(1), block=block, grid=grid)\n",
    "        #tmp = V\n",
    "        #V = R\n",
    "        #R = tmp\n",
    "        #V[:] = R[:]\n",
    "    \n",
    "    after_poisson_cu( imax,  jmax,  kmax,  ne, ni , difxne, difyne, difxni , difyni, difxyne, difxyni, Exy, fexy, fixy, R, Ex, Ey , fex, fey, fix, fiy, V, difzne, difzni, Ez, fez, fiz , values, sf_temp\n",
    "                    , grid=grid, block=block)\n",
    "    sum_ne_cu(imax, jmax, kmax, ne, sf_temp, grid=grid, block=block);\n",
    "    #sf_temp = gpuarray.sum(ne)\n",
    "    update_ne_cu(imax, jmax, kmax, ne, ni, sf_temp, si, grid=grid, block=block);\n",
    "f = time.time()\n",
    "print(\"took \", f-s)"
   ]
  },
  {
   "cell_type": "code",
   "execution_count": 103,
   "metadata": {},
   "outputs": [
    {
     "data": {
      "text/plain": [
       "[nan, nan, nan, array([nan], dtype=float32)]"
      ]
     },
     "execution_count": 103,
     "metadata": {},
     "output_type": "execute_result"
    }
   ],
   "source": [
    "def test():\n",
    "    p = [V, g, ne]\n",
    "    p  = [a.get()[5 + (kmax+3) * (5 + (jmax+3) * 5)] for a in p]\n",
    "    p.append(sf_temp.get())\n",
    "    return p\n",
    "test()"
   ]
  },
  {
   "cell_type": "code",
   "execution_count": null,
   "metadata": {},
   "outputs": [],
   "source": []
  }
 ],
 "metadata": {
  "kernelspec": {
   "display_name": "Python 3",
   "language": "python",
   "name": "python3"
  },
  "language_info": {
   "codemirror_mode": {
    "name": "ipython",
    "version": 3
   },
   "file_extension": ".py",
   "mimetype": "text/x-python",
   "name": "python",
   "nbconvert_exporter": "python",
   "pygments_lexer": "ipython3",
   "version": "3.7.2"
  }
 },
 "nbformat": 4,
 "nbformat_minor": 2
}
