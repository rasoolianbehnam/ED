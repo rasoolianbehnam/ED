{
 "cells": [
  {
   "cell_type": "code",
   "execution_count": 1,
   "metadata": {},
   "outputs": [],
   "source": [
    "from pycuda import gpuarray\n",
    "import pycuda.autoinit\n",
    "import pycuda.driver as drv\n",
    "from pycuda.compiler import SourceModule\n",
    "import numpy as np\n",
    "import matplotlib.pyplot as plt\n",
    "import time\n",
    "from IPython.display import clear_output\n",
    "%load_ext autoreload\n",
    "%autoreload 1"
   ]
  },
  {
   "cell_type": "code",
   "execution_count": 2,
   "metadata": {},
   "outputs": [],
   "source": [
    "code = \"\"\n",
    "with open(\"new_file_original.cu\", 'r') as f:\n",
    "    code = f.read()\n",
    "index = code.find('int main')\n",
    "code = code[:index]\n",
    "ker = SourceModule(code)"
   ]
  },
  {
   "cell_type": "code",
   "execution_count": 3,
   "metadata": {},
   "outputs": [],
   "source": [
    "before_poisson_cu    = ker.get_function('before_poisson_cu')\n",
    "poisson_solve_1it_cu = ker.get_function('poisson_solve_1it_cu')\n",
    "after_poisson_cu     = ker.get_function('after_poisson_cu')\n",
    "sum_ne_cu            = ker.get_function('sum_ne_cu')\n",
    "update_ne_cu         = ker.get_function('update_ne_cu')"
   ]
  },
  {
   "cell_type": "code",
   "execution_count": 4,
   "metadata": {},
   "outputs": [],
   "source": [
    "##important note: make sure to convert EVERYTHING into numpy numbers otherwise you're screwed\n",
    "imax = np.int32(64)\n",
    "jmax = np.int32(64)\n",
    "kmax = np.int32(64)\n",
    "n1 = np.int32(imax+3)\n",
    "n2 = np.int32(jmax+3)\n",
    "n3 = np.int32(kmax+3)\n",
    "qi = np.float32(1.6E-19)\n",
    "qe = np.float32(-1.6E-19)\n",
    "kr = np.float32(0)\n",
    "ki = np.float32(0)\n",
    "si = np.float32(0)\n",
    "alpha = np.float32(0)\n",
    "q     = np.float32(1.6E-19)\n",
    "pie   = np.float32(3.14159)\n",
    "tmax  = np.float32(200)\n",
    "\n",
    "\n",
    "Kb    = np.float32(1.38E-23)\n",
    "B     = np.float32(0.5)\n",
    "Te    = np.float32(2.5*11604.5)\n",
    "Ti    = np.float32(0.025*11604.5)\n",
    "me    = np.float32(9.109E-31)\n",
    "mi    = np.float32(6.633E-26)\n",
    "ki    = np.float32(0.0)\n",
    "dt    = np.float32(1.0E-14)\n",
    "h     = np.float32(4.0E-4)\n",
    "eps0  = np.float32(8.854E-12)\n",
    "si    = np.float32(0.0)\n",
    "sf    = np.float32(0.0)\n",
    "\n",
    "\n",
    "N=np.int32(n1*n2*n3)\n",
    "iterations = np.int32(40);\n",
    "tmax = np.int32(1000)\n",
    "\n",
    "original_ne = np.ones(N).astype(np.float32)*1e-9\n",
    "original_ni = np.ones(N).astype(np.float32)*1e-9\n",
    "original_difxne = np.ones(N).astype(np.float32)*1e-9\n",
    "original_difyne = np.ones(N).astype(np.float32)*1e-9\n",
    "original_difxni = np.ones(N).astype(np.float32)*1e-9\n",
    "original_difyni = np.ones(N).astype(np.float32)*1e-9\n",
    "original_difxyne = np.ones(N).astype(np.float32)*1e-9\n",
    "original_difxyni = np.ones(N).astype(np.float32)*1e-9\n",
    "original_Exy = np.ones(N).astype(np.float32)*1e-9\n",
    "original_fexy = np.ones(N).astype(np.float32)*1e-9\n",
    "original_fixy = np.ones(N).astype(np.float32)*1e-9\n",
    "original_g = np.ones(N).astype(np.float32)*1e-9\n",
    "original_R = np.ones(N).astype(np.float32)*1e-9\n",
    "original_Ex = np.ones(N).astype(np.float32)*1e-9\n",
    "original_Ey = np.ones(N).astype(np.float32)*1e-9\n",
    "original_fex = np.ones(N).astype(np.float32)*1e-9\n",
    "original_fey = np.ones(N).astype(np.float32)*1e-9\n",
    "original_fix = np.ones(N).astype(np.float32)*1e-9\n",
    "original_fiy = np.ones(N).astype(np.float32)*1e-9\n",
    "original_V = np.ones(N).astype(np.float32)*1e-9\n",
    "original_L = np.ones(N).astype(np.float32)*1e-9\n",
    "original_difzne = np.ones(N).astype(np.float32)*1e-9\n",
    "original_difzni = np.ones(N).astype(np.float32)*1e-9\n",
    "original_Ez = np.ones(N).astype(np.float32)*1e-9\n",
    "original_fez = np.ones(N).astype(np.float32)*1e-9\n",
    "original_fiz = np.ones(N).astype(np.float32)*1e-9\n",
    "\n",
    "   \n",
    "nn  =np.float32(10.0/(Kb*Ti)) #neutral density=p/(Kb.T)\n",
    "nue =np.float32(nn*1.1E-19*np.sqrt(2.55*Kb*Te/me)) # electron collision frequency= neutral density * sigma_e*Vth_e\n",
    "nui =np.float32(nn*4.4E-19*np.sqrt(2.55*Kb*Ti/mi))\n",
    "wce =np.float32(q*B/me)\n",
    "wci =np.float32(q*B/mi)\n",
    "mue =np.float32(q/(me*nue))\n",
    "mui =np.float32(q/(mi*nui))\n",
    "dife=np.float32(Kb*Te/(me*nue))\n",
    "difi=np.float32(Kb*Ti/(mi*nui))\n",
    "ki=np.float32(0.00002/(nn*dt))\n",
    "denominator_e= np.float32((1+wce*wce/(nue*nue)))\n",
    "denominator_i= np.float32(1+wci*wci/(nui*nui))\n",
    "# Ta and W are just some constants needed for the iterative method that we have used to solve Poisson eq.\n",
    "Ta=np.float32(np.arccos((np.cos(pie/imax)+np.cos(pie/jmax)+np.cos(pie/kmax))/3.0))# needs to be float checked\n",
    "w=np.float32(2.0/(1.0+np.sin(Ta)))\n",
    "# -----------------------------------------------------------------------------------------------\n",
    "#Density initialization\n",
    "# To add multiple Gaussian sources, just simply use the density_initialization function at the (x,y) points that you want\n",
    "x_position = 15; y_position = 15; z_position = 15;\n",
    "\n"
   ]
  },
  {
   "cell_type": "code",
   "execution_count": 5,
   "metadata": {},
   "outputs": [],
   "source": [
    "for i in range(1, imax-1):\n",
    "    for j in range(1, jmax-1):\n",
    "        for k in range(1, kmax-1):\n",
    "            original_ne[k + n3 * (j + n2 * (i))]= 5.0E14\n",
    "            original_ni[k + n3 * (j + n2 * (i))]=5.0E14"
   ]
  },
  {
   "cell_type": "code",
   "execution_count": 6,
   "metadata": {},
   "outputs": [],
   "source": [
    "for i in range(18, 22):\n",
    "    for j in range(18, 22):\n",
    "        for k in range(20, 40):\n",
    "            original_ne[k + n3 * (j + n2 * (i))]=5.0E15;\n",
    "            original_ni[k + n3 * (j + n2 * (i))]=5.0E15;\n",
    "\n",
    "for i in range(38, 42):\n",
    "    for j in range(18, 22):\n",
    "        for k in range(20, 40):\n",
    "            original_ne[k + n3 * (j + n2 * (i))]=5.0E15;\n",
    "            original_ni[k + n3 * (j + n2 * (i))]=5.0E15;\n",
    "\n",
    "for i in range(18, 22):\n",
    "    for j in range(38, 42):\n",
    "        for k in range(20, 40):\n",
    "            original_ne[k + n3 * (j + n2 * (i))]=5.0E15;\n",
    "            original_ni[k + n3 * (j + n2 * (i))]=5.0E15;\n",
    "\n",
    "for i in range(38, 42):\n",
    "    for j in range(38, 42):\n",
    "        for k in range(20, 40):\n",
    "            original_ne[k + n3 * (j + n2 * (i))]=5.0E15;\n",
    "            original_ni[k + n3 * (j + n2 * (i))]=5.0E15;\n",
    "\n",
    "for k in range(1, kmax+1):\n",
    "    for j in range(1, jmax+1):\n",
    "        for i in range(1, imax+1):\n",
    "            si=si+original_ne[k + n3 * (j + n2 * (i))] ;"
   ]
  },
  {
   "cell_type": "code",
   "execution_count": 7,
   "metadata": {},
   "outputs": [],
   "source": [
    "ne = gpuarray.to_gpu(original_ne)\n",
    "ni = gpuarray.to_gpu(original_ni)\n",
    "difxne = gpuarray.to_gpu(original_difxne)\n",
    "difyne = gpuarray.to_gpu(original_difyne)\n",
    "difxni = gpuarray.to_gpu(original_difxni)\n",
    "difyni = gpuarray.to_gpu(original_difyni)\n",
    "difxyne = gpuarray.to_gpu(original_difxyne)\n",
    "difxyni = gpuarray.to_gpu(original_difxyni)\n",
    "Exy = gpuarray.to_gpu(original_Exy)\n",
    "fexy = gpuarray.to_gpu(original_fexy)\n",
    "fixy = gpuarray.to_gpu(original_fixy)\n",
    "g = gpuarray.to_gpu(original_g)\n",
    "R = gpuarray.to_gpu(original_R)\n",
    "Ex = gpuarray.to_gpu(original_Ex)\n",
    "Ey = gpuarray.to_gpu(original_Ey)\n",
    "fex = gpuarray.to_gpu(original_fex)\n",
    "fey = gpuarray.to_gpu(original_fey)\n",
    "fix = gpuarray.to_gpu(original_fix)\n",
    "fiy = gpuarray.to_gpu(original_fiy)\n",
    "V = gpuarray.to_gpu(original_V)\n",
    "L = gpuarray.to_gpu(original_L)\n",
    "difzne = gpuarray.to_gpu(original_difzne)\n",
    "difzni = gpuarray.to_gpu(original_difzni)\n",
    "Ez = gpuarray.to_gpu(original_Ez)\n",
    "fez = gpuarray.to_gpu(original_fez)\n",
    "fiz = gpuarray.to_gpu(original_fiz)\n"
   ]
  },
  {
   "cell_type": "code",
   "execution_count": 8,
   "metadata": {},
   "outputs": [],
   "source": [
    "g_temp =  gpuarray.to_gpu(g)\n",
    "ne_temp = gpuarray.to_gpu(ne)\n",
    "ni_temp = gpuarray.to_gpu(ni)\n",
    "\n",
    "original_values = np.array([qi,qe,kr,ki,si,sf,alpha,q,pie,Ta,w,eps0,Te,Ti,B,Kb,me,mi,nue,nui,denominator_e,denominator_i,nn,dt,h,wce,wci,mue,mui,dife,difi]).astype(np.float32)\n",
    "values = gpuarray.to_gpu(original_values)\n",
    "\n",
    "sf_temp = gpuarray.zeros(1, dtype='float32')#.float32(0)"
   ]
  },
  {
   "cell_type": "code",
   "execution_count": 9,
   "metadata": {},
   "outputs": [],
   "source": [
    "def test():\n",
    "    p = [V, g, ne]\n",
    "    p  = [a.get()[5 + (kmax+3) * (5 + (jmax+3) * 5)] for a in p]\n",
    "    p.append(sf_temp.get()[0])\n",
    "    return p"
   ]
  },
  {
   "cell_type": "code",
   "execution_count": 10,
   "metadata": {},
   "outputs": [
    {
     "name": "stdout",
     "output_type": "stream",
     "text": [
      "took  5.424477815628052\n"
     ]
    }
   ],
   "source": [
    "grid  = (int(N)//512, 1, 1)\n",
    "block = (512, 1, 1)\n",
    "s = time.time()\n",
    "for i in range(100):\n",
    "    #print(i, test())\n",
    "    before_poisson_cu(imax, jmax, kmax, tmax, ne, ni, difxne, difyne, difxni, difyni, difxyne\n",
    "                      , difxyni, Exy, fexy, fixy, g, g_temp, R\n",
    "                      , Ex, Ey, fex, fey, fix, fiy, V, L, difzne, difzni, Ez, fez, fiz, values\n",
    "                      , grid=grid, block=block)\n",
    "    for kk in range(iterations):#(kk=0; kk<iterations; kk++) {\n",
    "        poisson_solve_1it_cu(imax, jmax, kmax, n1, n2, n3, N, iterations, V, g, R, w, h, np.int32(1), grid=grid, block=block);\n",
    "        poisson_solve_1it_cu(imax, jmax, kmax, n1, n2, n3, N, iterations, V, g, R, w, h, np.int32(0), grid=grid, block=block);\n",
    "    after_poisson_cu(imax, jmax, kmax, tmax, ne, ni, ne_temp, ni_temp, difxne\n",
    "                     , difyne, difxni, difyni, difxyne, difxyni, Exy, fexy, fixy, g\n",
    "                     , g_temp, R, Ex, Ey, fex, fey, fix, fiy, V, L, difzne, difzni, Ez, fez\n",
    "                     , fiz, values, sf_temp\n",
    "                     , grid=grid, block=block)\n",
    "    sum_ne_cu(imax, jmax, kmax, ne, sf_temp, grid=grid, block=block);\n",
    "    ##sf_temp = gpuarray.sum(ne)\n",
    "    update_ne_cu(imax, jmax, kmax, ne, ni, sf_temp, si, grid=grid, block=block);\n",
    "f = time.time()\n",
    "print(\"took \", f-s)"
   ]
  },
  {
   "cell_type": "code",
   "execution_count": 11,
   "metadata": {},
   "outputs": [
    {
     "data": {
      "text/plain": [
       "[0.0045128553, -8.456896, 500693360000000.0, 1.2512141e+20]"
      ]
     },
     "execution_count": 11,
     "metadata": {},
     "output_type": "execute_result"
    }
   ],
   "source": [
    "test()"
   ]
  },
  {
   "cell_type": "code",
   "execution_count": 22,
   "metadata": {},
   "outputs": [],
   "source": [
    "val = \"\"\"qi\n",
    "qe\n",
    "kr\n",
    "ki\n",
    "si\n",
    "sf\n",
    "alpha\n",
    "q\n",
    "pie\n",
    "Ta\n",
    "w\n",
    "eps0\n",
    "Te\n",
    "Ti\n",
    "B\n",
    "Kb\n",
    "me\n",
    "mi\n",
    "nue\n",
    "nui\n",
    "denominator_e\n",
    "denominator_i\n",
    "nn\n",
    "dt\n",
    "h\n",
    "wce\n",
    "wci\n",
    "mue\n",
    "mui\n",
    "dife\n",
    "difi\"\"\""
   ]
  },
  {
   "cell_type": "code",
   "execution_count": 23,
   "metadata": {},
   "outputs": [],
   "source": [
    "arrays = \"\"\"ne = gpuarray.to_gpu(original_ne) \n",
    "ni = gpuarray.to_gpu(original_ni) \n",
    "difxne = gpuarray.to_gpu(original_difxne) \n",
    "difyne = gpuarray.to_gpu(original_difyne) \n",
    "difxni = gpuarray.to_gpu(original_difxni) \n",
    "difyni = gpuarray.to_gpu(original_difyni) \n",
    "difxyne = gpuarray.to_gpu(original_difxyne) \n",
    "difxyni = gpuarray.to_gpu(original_difxyni) \n",
    "Exy = gpuarray.to_gpu(original_Exy) \n",
    "fexy = gpuarray.to_gpu(original_fexy) \n",
    "fixy = gpuarray.to_gpu(original_fixy) \n",
    "g = gpuarray.to_gpu(original_g) \n",
    "R = gpuarray.to_gpu(original_R) \n",
    "Ex = gpuarray.to_gpu(original_Ex) \n",
    "Ey = gpuarray.to_gpu(original_Ey) \n",
    "fex = gpuarray.to_gpu(original_fex) \n",
    "fey = gpuarray.to_gpu(original_fey) \n",
    "fix = gpuarray.to_gpu(original_fix) \n",
    "fiy = gpuarray.to_gpu(original_fiy) \n",
    "V = gpuarray.to_gpu(original_V) \n",
    "L = gpuarray.to_gpu(original_L) \n",
    "difzne = gpuarray.to_gpu(original_difzne) \n",
    "difzni = gpuarray.to_gpu(original_difzni) \n",
    "Ez = gpuarray.to_gpu(original_Ez) \n",
    "fez = gpuarray.to_gpu(original_fez) \n",
    "fiz = gpuarray.to_gpu(original_fiz)\"\"\""
   ]
  },
  {
   "cell_type": "code",
   "execution_count": 24,
   "metadata": {},
   "outputs": [
    {
     "name": "stdout",
     "output_type": "stream",
     "text": [
      "values[0] = qi;\n",
      "values[1] = qe;\n",
      "values[2] = kr;\n",
      "values[3] = ki;\n",
      "values[4] = si;\n",
      "values[5] = sf;\n",
      "values[6] = alpha;\n",
      "values[7] = q;\n",
      "values[8] = pie;\n",
      "values[9] = Ta;\n",
      "values[10] = w;\n",
      "values[11] = eps0;\n",
      "values[12] = Te;\n",
      "values[13] = Ti;\n",
      "values[14] = B;\n",
      "values[15] = Kb;\n",
      "values[16] = me;\n",
      "values[17] = mi;\n",
      "values[18] = nue;\n",
      "values[19] = nui;\n",
      "values[20] = denominator_e;\n",
      "values[21] = denominator_i;\n",
      "values[22] = nn;\n",
      "values[23] = dt;\n",
      "values[24] = h;\n",
      "values[25] = wce;\n",
      "values[26] = wci;\n",
      "values[27] = mue;\n",
      "values[28] = mui;\n",
      "values[29] = dife;\n",
      "values[30] = difi;\n"
     ]
    }
   ],
   "source": [
    "i = 0\n",
    "for line in val.split(\"\\n\"):\n",
    "    print(\"values[%d] = %s;\"%(i, line))\n",
    "    i += 1"
   ]
  },
  {
   "cell_type": "code",
   "execution_count": 16,
   "metadata": {},
   "outputs": [
    {
     "name": "stdout",
     "output_type": "stream",
     "text": [
      "ne = gpuarray.to_gpu(original_ne)\n",
      "ni = gpuarray.to_gpu(original_ni)\n",
      "difxne = gpuarray.to_gpu(original_difxne)\n",
      "difyne = gpuarray.to_gpu(original_difyne)\n",
      "difxni = gpuarray.to_gpu(original_difxni)\n",
      "difyni = gpuarray.to_gpu(original_difyni)\n",
      "difxyne = gpuarray.to_gpu(original_difxyne)\n",
      "difxyni = gpuarray.to_gpu(original_difxyni)\n",
      "Exy = gpuarray.to_gpu(original_Exy)\n",
      "fexy = gpuarray.to_gpu(original_fexy)\n",
      "fixy = gpuarray.to_gpu(original_fixy)\n",
      "g = gpuarray.to_gpu(original_g)\n",
      "R = gpuarray.to_gpu(original_R)\n",
      "Ex = gpuarray.to_gpu(original_Ex)\n",
      "Ey = gpuarray.to_gpu(original_Ey)\n",
      "fex = gpuarray.to_gpu(original_fex)\n",
      "fey = gpuarray.to_gpu(original_fey)\n",
      "fix = gpuarray.to_gpu(original_fix)\n",
      "fiy = gpuarray.to_gpu(original_fiy)\n",
      "V = gpuarray.to_gpu(original_V)\n",
      "L = gpuarray.to_gpu(original_L)\n",
      "difzne = gpuarray.to_gpu(original_difzne)\n",
      "difzni = gpuarray.to_gpu(original_difzni)\n",
      "Ez = gpuarray.to_gpu(original_Ez)\n",
      "fez = gpuarray.to_gpu(original_fez)\n",
      "fiz = gpuarray.to_gpu(original_fiz)\n"
     ]
    }
   ],
   "source": [
    "for line in arrays.split(\"\\n\"):\n",
    "    if line.strip() == \"\":\n",
    "        continue\n",
    "    val = line.split(\"=\")[0].strip()\n",
    "    print(\"%s = gpuarray.to_gpu(original_%s)\"%(val, val))"
   ]
  },
  {
   "cell_type": "code",
   "execution_count": 11,
   "metadata": {},
   "outputs": [],
   "source": [
    "#with open(\"new_file.cu\", 'w') as f:\n",
    "#    f.write(code)"
   ]
  },
  {
   "cell_type": "code",
   "execution_count": 56,
   "metadata": {},
   "outputs": [],
   "source": [
    "sf_temp = gpuarray.zeros(1, dtype='float32')"
   ]
  },
  {
   "cell_type": "code",
   "execution_count": 57,
   "metadata": {},
   "outputs": [
    {
     "data": {
      "text/plain": [
       "array([0.], dtype=float32)"
      ]
     },
     "execution_count": 57,
     "metadata": {},
     "output_type": "execute_result"
    }
   ],
   "source": [
    "sf_temp.get()"
   ]
  },
  {
   "cell_type": "code",
   "execution_count": 27,
   "metadata": {},
   "outputs": [],
   "source": []
  },
  {
   "cell_type": "code",
   "execution_count": 28,
   "metadata": {},
   "outputs": [
    {
     "data": {
      "text/plain": [
       "';\\n   }\\n\\n}\\n'"
      ]
     },
     "execution_count": 28,
     "metadata": {},
     "output_type": "execute_result"
    }
   ],
   "source": [
    "code[index-10:index]"
   ]
  },
  {
   "cell_type": "code",
   "execution_count": 36,
   "metadata": {},
   "outputs": [
    {
     "name": "stdout",
     "output_type": "stream",
     "text": [
      "1.600000e-19 1.600000e-19\n",
      "-1.600000e-19 -1.600000e-19\n",
      "0.000000e+00 0.000000e+00\n",
      "8.007105e-13 8.007105e-13\n",
      "1.251209e+20 1.251209e+20\n",
      "0.000000e+00 0.000000e+00\n",
      "0.000000e+00 0.000000e+00\n",
      "1.600000e-19 1.600000e-19\n",
      "3.141590e+00 3.141590e+00\n",
      "*** 4.908735e-02 4.908792e-02\n",
      "*** 1.906455e+00 1.906454e+00\n",
      "8.854000e-12 8.854000e-12\n",
      "2.901125e+04 2.901125e+04\n",
      "2.901125e+02 2.901125e+02\n",
      "5.000000e-01 5.000000e-01\n",
      "1.380000e-23 1.380000e-23\n",
      "9.109000e-31 9.109000e-31\n",
      "6.633000e-26 6.633000e-26\n",
      "2.908739e+08 2.908739e+08\n",
      "4.311665e+05 4.311665e+05\n",
      "9.116622e+04 9.116622e+04\n",
      "*** 8.824740e+00 8.824739e+00\n",
      "2.497782e+21 2.497782e+21\n",
      "1.000000e-14 1.000000e-14\n",
      "4.000000e-04 4.000000e-04\n",
      "8.782523e+10 8.782523e+10\n",
      "1.206091e+06 1.206091e+06\n",
      "6.038716e+02 6.038716e+02\n",
      "5.594547e+00 5.594547e+00\n",
      "1.511020e+03 1.511020e+03\n",
      "1.399879e-01 1.399879e-01\n"
     ]
    }
   ],
   "source": [
    "response = \"\"\"1.600000e-19\n",
    "-1.600000e-19\n",
    "0.000000e+00\n",
    "8.007105e-13\n",
    "1.251209e+20\n",
    "0.000000e+00\n",
    "0.000000e+00\n",
    "1.600000e-19\n",
    "3.141590e+00\n",
    "4.908792e-02\n",
    "1.906454e+00\n",
    "8.854000e-12\n",
    "2.901125e+04\n",
    "2.901125e+02\n",
    "5.000000e-01\n",
    "1.380000e-23\n",
    "9.109000e-31\n",
    "6.633000e-26\n",
    "2.908739e+08\n",
    "4.311665e+05\n",
    "9.116622e+04\n",
    "8.824739e+00\n",
    "2.497782e+21\n",
    "1.000000e-14\n",
    "4.000000e-04\n",
    "8.782523e+10\n",
    "1.206091e+06\n",
    "6.038716e+02\n",
    "5.594547e+00\n",
    "1.511020e+03\n",
    "1.399879e-01\"\"\"\n",
    "corrects = response.split(\"\\n\")\n",
    "for value, correct in zip(values.get(), corrects):\n",
    "    mine = \"%e\"%value\n",
    "    if mine == correct:\n",
    "        print(\"%s %s\"%(mine, correct))\n",
    "    else:\n",
    "        print(\"*** %s %s\"%(mine, correct))"
   ]
  },
  {
   "cell_type": "code",
   "execution_count": 15,
   "metadata": {},
   "outputs": [
    {
     "data": {
      "text/plain": [
       "array(1.2512018e+20, dtype=float32)"
      ]
     },
     "execution_count": 15,
     "metadata": {},
     "output_type": "execute_result"
    }
   ],
   "source": [
    "sf_temp"
   ]
  },
  {
   "cell_type": "code",
   "execution_count": 14,
   "metadata": {},
   "outputs": [
    {
     "data": {
      "text/plain": [
       "pycuda.gpuarray.GPUArray"
      ]
     },
     "execution_count": 14,
     "metadata": {},
     "output_type": "execute_result"
    }
   ],
   "source": [
    "gpuarray.sum(ne)"
   ]
  },
  {
   "cell_type": "code",
   "execution_count": 18,
   "metadata": {},
   "outputs": [
    {
     "data": {
      "text/plain": [
       "array(1.2522016e+20, dtype=float32)"
      ]
     },
     "execution_count": 18,
     "metadata": {},
     "output_type": "execute_result"
    }
   ],
   "source": [
    "gpuarray.sum(ne)"
   ]
  },
  {
   "cell_type": "code",
   "execution_count": 5,
   "metadata": {},
   "outputs": [],
   "source": [
    "code = \"\"\n",
    "with open(\"new_file.cu\", 'r') as f:\n",
    "    code = f.read()\n",
    "index = code.find('int main')\n",
    "code = code[:index]   \n",
    "#code = \"\"\"\n",
    "#__global__ void mardas(int imax, int jmax, int kmax, int n1, int n2, int n3, int N, float* V) {\n",
    "#    int index_x = threadIdx.x + blockDim.x * blockIdx.x;\n",
    "#    int stride_x = blockDim.x * gridDim.x;\n",
    "#        for (int I = index_x; I < N; I +=stride_x) {\n",
    "#             int k = I % n3; \n",
    "#             int s1 = (I - k) / n3; \n",
    "#             int j = s1 % n2; \n",
    "#             int i = (s1 - j) / n2; \n",
    "#            if (i * j * k == 0 || i >= imax-1 || j >= jmax-1 || k >= kmax-1) continue;\n",
    "#            V[k + n3 * (j + n2 * i)] = k + n3 * (j+n2*i);\n",
    "#        }   \n",
    "#}\n",
    "#\"\"\"\n",
    "\n",
    "ker = SourceModule(code)"
   ]
  },
  {
   "cell_type": "code",
   "execution_count": 6,
   "metadata": {},
   "outputs": [
    {
     "name": "stdout",
     "output_type": "stream",
     "text": [
      "21355.543\n",
      "42875000.0\n"
     ]
    }
   ],
   "source": [
    "grid  = (512, 1, 1)\n",
    "block = (int(N)//512, 1, 1)\n",
    "imax = jmax = kmax = np.int32(32)\n",
    "n1 = n2 = n3 = np.int32(imax + 3)\n",
    "N = np.int32(n1*n2*n3)\n",
    "mardas = ker.get_function(\"mardas\")\n",
    "V = gpuarray.to_gpu(np.random.rand(N).astype('float32'))\n",
    "R = gpuarray.to_gpu(np.random.rand(N).astype('float32'))\n",
    "g = gpuarray.to_gpu(np.random.rand(N).astype('float32')) / 100\n",
    "print(V.get().sum())\n",
    "#mardas(imax, jmax, jmax, n1, n2, n3, N, V,  grid=grid, block=block);\n",
    "for i in range(40):\n",
    "    mardas(imax, jmax, kmax, n1, n2, n3, N, iterations, V, g, R, w, h, np.int32(1), grid=grid, block=block);\n",
    "    mardas(imax, jmax, kmax, n1, n2, n3, N, iterations, V, g, R, w, h, np.int32(0), grid=grid, block=block);\n",
    "print(V.get().sum())"
   ]
  },
  {
   "cell_type": "code",
   "execution_count": 16,
   "metadata": {},
   "outputs": [],
   "source": [
    "with open(\"new_file.cu\", 'w') as f:\n",
    "    f.write(code)"
   ]
  },
  {
   "cell_type": "code",
   "execution_count": null,
   "metadata": {},
   "outputs": [],
   "source": []
  }
 ],
 "metadata": {
  "kernelspec": {
   "display_name": "Python 3",
   "language": "python",
   "name": "python3"
  },
  "language_info": {
   "codemirror_mode": {
    "name": "ipython",
    "version": 3
   },
   "file_extension": ".py",
   "mimetype": "text/x-python",
   "name": "python",
   "nbconvert_exporter": "python",
   "pygments_lexer": "ipython3",
   "version": "3.7.2"
  }
 },
 "nbformat": 4,
 "nbformat_minor": 2
}
