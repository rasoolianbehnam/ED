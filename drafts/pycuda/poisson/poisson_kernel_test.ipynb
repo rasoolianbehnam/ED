{
 "cells": [
  {
   "cell_type": "code",
   "execution_count": 1,
   "metadata": {},
   "outputs": [],
   "source": [
    "from pycuda import gpuarray\n",
    "import pycuda.autoinit\n",
    "import pycuda.driver as drv\n",
    "from pycuda.compiler import SourceModule\n",
    "import numpy as np\n",
    "import matplotlib.pyplot as plt\n",
    "import time\n",
    "from IPython.display import clear_output\n",
    "%load_ext autoreload\n",
    "%autoreload 1"
   ]
  },
  {
   "cell_type": "code",
   "execution_count": 2,
   "metadata": {},
   "outputs": [],
   "source": [
    "##important note: make sure to convert EVERYTHING into numpy numbers otherwise you're screwed\n",
    "imax = np.int32(16)\n",
    "jmax = np.int32(16)\n",
    "kmax = np.int32(16)\n",
    "n1 = np.int32(imax+3)\n",
    "n2 = np.int32(jmax+3)\n",
    "n3 = np.int32(kmax+3)\n",
    "qi = np.float32(1.6E-19)\n",
    "qe = np.float32(-1.6E-19)\n",
    "kr = np.float32(0)\n",
    "ki = np.float32(0)\n",
    "si = np.float32(0)\n",
    "alpha = np.float32(0)\n",
    "q     = np.float32(1.6E-19)\n",
    "pie   = np.float32(3.14159)\n",
    "tmax  = np.float32(200)\n",
    "\n",
    "\n",
    "Kb    = np.float32(1.38E-23)\n",
    "B     = np.float32(0.5)\n",
    "Te    = np.float32(2.5*11604.5)\n",
    "Ti    = np.float32(0.025*11604.5)\n",
    "me    = np.float32(9.109E-31)\n",
    "mi    = np.float32(6.633E-26)\n",
    "ki    = np.float32(0.0)\n",
    "dt    = np.float32(1.0E-14)\n",
    "h     = np.float32(4.0E-4)\n",
    "eps0  = np.float32(8.854E-12)\n",
    "si    = np.float32(0.0)\n",
    "sf    = np.float32(0.0)\n",
    "\n",
    "N=np.int32(n1*n2*n3)\n",
    "iterations = np.int32(40);\n",
    "tmax = np.int32(1000)\n",
    "\n",
    "nn  =np.float32(10.0/(Kb*Ti)) #neutral density=p/(Kb.T)\n",
    "nue =np.float32(nn*1.1E-19*np.sqrt(2.55*Kb*Te/me)) # electron collision frequency= neutral density * sigma_e*Vth_e\n",
    "nui =np.float32(nn*4.4E-19*np.sqrt(2.55*Kb*Ti/mi))\n",
    "wce =np.float32(q*B/me)\n",
    "wci =np.float32(q*B/mi)\n",
    "mue =np.float32(q/(me*nue))\n",
    "mui =np.float32(q/(mi*nui))\n",
    "dife=np.float32(Kb*Te/(me*nue))\n",
    "difi=np.float32(Kb*Ti/(mi*nui))\n",
    "ki=np.float32(0.00002/(nn*dt))\n",
    "denominator_e= np.float32((1+wce*wce/(nue*nue)))\n",
    "denominator_i= np.float32(1+wci*wci/(nui*nui))\n",
    "# Ta and W are just some constants needed for the iterative method that we have used to solve Poisson eq.\n",
    "Ta=np.float32(np.arccos((np.cos(pie/imax)+np.cos(pie/jmax)+np.cos(pie/kmax))/3.0))# needs to be float checked\n",
    "w=np.float32(2.0/(1.0+np.sin(Ta)))\n",
    "# -----------------------------------------------------------------------------------------------\n",
    "#Density initialization\n",
    "# To add multiple Gaussian sources, just simply use the density_initialization function at the (x,y) points that you want\n",
    "x_position = 15; y_position = 15; z_position = 15;\n",
    "\n"
   ]
  },
  {
   "cell_type": "code",
   "execution_count": 3,
   "metadata": {},
   "outputs": [],
   "source": [
    "new_ker = SourceModule(\"\"\"\n",
    "__global__ void poisson_solve_1it_cu(float *V, float *g, float *R, int imax, int jmax, int kmax, int n1, int n2, int n3, int N, float w, float h, int oddEven) {\n",
    "    int index_x = threadIdx.x + blockDim.x * blockIdx.x;\n",
    "    //int stride_x = blockDim.x * gridDim.x;\n",
    "    int I = index_x;\n",
    "        //for (int I = index_x; I < N; I +=stride_x) {\n",
    "            int k = I % n3;\n",
    "            int s1 = (I - k) / n3;\n",
    "            int j = s1 % n2;\n",
    "            int i = (s1 - j) / n2;\n",
    "            if (i * j * k == 0 || i >= imax-1 || j >= jmax-1 || k >= kmax-1) return;\n",
    "            if ((i+j+k) % 2 == oddEven) return;\n",
    "            float r =\n",
    "                (V[k + n3 * (j + n2 * (i+1))]+\n",
    "                     V[k + n3 * (j + n2 * (i-1))]+\n",
    "                     V[k + n3 * (j+1 + n2 * (i))]+\n",
    "                     V[k + n3 * (j-1 + n2 * (i))]+\n",
    "                     V[k+1 + n3 * (j + n2 * (i))]+\n",
    "                     V[k-1 + n3 * (j + n2 * (i))]\n",
    "                 ) / 6.0 - V[k + n3 * (j + n2 * (i))]- (h*h)*g[k + n3 * (j + n2 * (i))]/6.0;\n",
    "            V[k + n3 * (j + n2 * (i))] = V[k + n3 * (j + n2 * (i))] + w*r;\n",
    "        //}\n",
    "}\n",
    "\"\"\")\n",
    "gpu_poisson_out_of_place_odd_even = new_ker.get_function(\"poisson_solve_1it_cu\")"
   ]
  },
  {
   "cell_type": "code",
   "execution_count": 3,
   "metadata": {},
   "outputs": [],
   "source": [
    "new_ker = SourceModule(\"\"\"\n",
    "__global__ void poisson_solve_1it_cu(float *V, float *g, float *R, int imax, int jmax, int kmax, int n1, int n2, int n3, int N, float w, float h) {\n",
    "    int index_x = threadIdx.x + blockDim.x * blockIdx.x;\n",
    "    //int stride_x = blockDim.x * gridDim.x;\n",
    "    int I = index_x;\n",
    "        //for (int I = index_x; I < N; I +=stride_x) {\n",
    "            int k = I % n3;\n",
    "            int s1 = (I - k) / n3;\n",
    "            int j = s1 % n2;\n",
    "            int i = (s1 - j) / n2;\n",
    "            if (i * j * k == 0 || i >= imax-1 || j >= jmax-1 || k >= kmax-1) return;\n",
    "            float r =\n",
    "                (V[k + n3 * (j + n2 * (i+1))]+\n",
    "                     V[k + n3 * (j + n2 * (i-1))]+\n",
    "                     V[k + n3 * (j+1 + n2 * (i))]+\n",
    "                     V[k + n3 * (j-1 + n2 * (i))]+\n",
    "                     V[k+1 + n3 * (j + n2 * (i))]+\n",
    "                     V[k-1 + n3 * (j + n2 * (i))]\n",
    "                 ) / 6.0 - V[k + n3 * (j + n2 * (i))]- (h*h)*g[k + n3 * (j + n2 * (i))]/6.0;\n",
    "            V[k + n3 * (j + n2 * (i))] = V[k + n3 * (j + n2 * (i))] + w*r;\n",
    "        //}\n",
    "}\n",
    "\"\"\")\n",
    "gpu_poisson_out_of_place_odd_even = new_ker.get_function(\"poisson_solve_1it_cu\")"
   ]
  },
  {
   "cell_type": "code",
   "execution_count": 4,
   "metadata": {},
   "outputs": [],
   "source": [
    "def python_poisson_out_of_place_odd_even(V, g, R, imax, jmax, kmax, n1, n2, n3, N, w, h, oddEven):\n",
    "    R = V.copy()\n",
    "    for I in range(N):\n",
    "        k = I % n3;\n",
    "        s1 = (I - k) // n3\n",
    "        j = s1 % n2;\n",
    "        i = (s1 - j) // n2\n",
    "        if (i * j * k == 0 or i >= imax-1 or j >= jmax-1 or k >= kmax-1 or (i+j+k)%2==oddEven):\n",
    "            continue\n",
    "        r = (V[k + n3 * (j + n2 * (i+1))]+\n",
    "                 V[k + n3 * (j + n2 * (i-1))]+\n",
    "                 V[k + n3 * (j+1 + n2 * (i))]+\n",
    "                 V[k + n3 * (j-1 + n2 * (i))]+\n",
    "                 V[k+1 + n3 * (j + n2 * (i))]+\n",
    "                 V[k-1 + n3 * (j + n2 * (i))]\n",
    "             ) / 6.0 - V[k + n3 * (j + n2 * (i))]- \\\n",
    "                (h*h)*g[k + n3 * (j + n2 * (i))]/6.0;\n",
    "        V[k + n3 * (j + n2 * (i))] = V[k + n3 * (j + n2 * (i))] + w*r;"
   ]
  },
  {
   "cell_type": "code",
   "execution_count": 9,
   "metadata": {},
   "outputs": [],
   "source": [
    "def python_poisson_out_of_place(V, g, R, imax, jmax, kmax, n1, n2, n3, N, w, h):\n",
    "    R = V.copy()\n",
    "    for I in range(N):\n",
    "        k = I % n3;\n",
    "        s1 = (I - k) // n3\n",
    "        j = s1 % n2;\n",
    "        i = (s1 - j) // n2\n",
    "        if (i * j * k == 0 or i >= imax-1 or j >= jmax-1 or k >= kmax-1):\n",
    "            continue\n",
    "        r = (V[k + n3 * (j + n2 * (i+1))]+\n",
    "                 V[k + n3 * (j + n2 * (i-1))]+\n",
    "                 V[k + n3 * (j+1 + n2 * (i))]+\n",
    "                 V[k + n3 * (j-1 + n2 * (i))]+\n",
    "                 V[k+1 + n3 * (j + n2 * (i))]+\n",
    "                 V[k-1 + n3 * (j + n2 * (i))]\n",
    "             ) / 6.0 - V[k + n3 * (j + n2 * (i))]- \\\n",
    "                (h*h)*g[k + n3 * (j + n2 * (i))]/6.0;\n",
    "        V[k + n3 * (j + n2 * (i))] = V[k + n3 * (j + n2 * (i))] + w*r;"
   ]
  },
  {
   "cell_type": "code",
   "execution_count": 5,
   "metadata": {},
   "outputs": [],
   "source": [
    "original_g = np.random.rand(N).astype(np.float32) * 10\n",
    "original_V = np.random.rand(N).astype(np.float32) * 10\n",
    "original_R = np.random.rand(N).astype(np.float32)"
   ]
  },
  {
   "cell_type": "code",
   "execution_count": 6,
   "metadata": {},
   "outputs": [],
   "source": [
    "cpu_g = original_g.copy()\n",
    "cpu_V = original_V.copy()\n",
    "cpu_R = original_R.copy()\n",
    "for i in range(iterations):\n",
    "    python_poisson_out_of_place_odd_even(cpu_V, cpu_g, cpu_R, imax, jmax, kmax, n1, n2, n3, N, w, h, 0)\n",
    "    python_poisson_out_of_place_odd_even(cpu_V, cpu_g, cpu_R, imax, jmax, kmax, n1, n2, n3, N, w, h, 1)"
   ]
  },
  {
   "cell_type": "code",
   "execution_count": 7,
   "metadata": {},
   "outputs": [],
   "source": [
    "gpu_g = gpuarray.to_gpu(original_g)\n",
    "gpu_V = gpuarray.to_gpu(original_V)\n",
    "gpu_R = gpuarray.to_gpu(original_R)\n",
    "for i in range(iterations):\n",
    "    gpu_poisson_out_of_place_odd_even(gpu_V, gpu_g, gpu_R, imax, jmax, kmax, n1, n2, n3, N, w, h, np.int32(0)\n",
    "                         , grid=(int(N)//512, 1, 1), block=(512, 1, 1))\n",
    "    gpu_poisson_out_of_place_odd_even(gpu_V, gpu_g, gpu_R, imax, jmax, kmax, n1, n2, n3, N, w, h, np.int32(1)\n",
    "                         , grid=(int(N)//512, 1, 1), block=(512, 1, 1))"
   ]
  },
  {
   "cell_type": "code",
   "execution_count": 8,
   "metadata": {},
   "outputs": [
    {
     "data": {
      "text/plain": [
       "True"
      ]
     },
     "execution_count": 8,
     "metadata": {},
     "output_type": "execute_result"
    }
   ],
   "source": [
    "np.allclose(cpu_V, gpu_V.get())"
   ]
  },
  {
   "cell_type": "code",
   "execution_count": 11,
   "metadata": {},
   "outputs": [],
   "source": [
    "cpu_g = original_g.copy()\n",
    "cpu_V = original_V.copy()\n",
    "cpu_R = original_R.copy()\n",
    "for i in range(iterations):\n",
    "    python_poisson_out_of_place(cpu_V, cpu_g, cpu_R, imax, jmax, kmax, n1, n2, n3, N, w, h)"
   ]
  },
  {
   "cell_type": "code",
   "execution_count": 12,
   "metadata": {},
   "outputs": [
    {
     "data": {
      "text/plain": [
       "False"
      ]
     },
     "execution_count": 12,
     "metadata": {},
     "output_type": "execute_result"
    }
   ],
   "source": [
    "np.allclose(cpu_V, gpu_V.get())"
   ]
  },
  {
   "cell_type": "code",
   "execution_count": null,
   "metadata": {},
   "outputs": [],
   "source": []
  }
 ],
 "metadata": {
  "kernelspec": {
   "display_name": "Python 3",
   "language": "python",
   "name": "python3"
  },
  "language_info": {
   "codemirror_mode": {
    "name": "ipython",
    "version": 3
   },
   "file_extension": ".py",
   "mimetype": "text/x-python",
   "name": "python",
   "nbconvert_exporter": "python",
   "pygments_lexer": "ipython3",
   "version": "3.7.2"
  }
 },
 "nbformat": 4,
 "nbformat_minor": 2
}
