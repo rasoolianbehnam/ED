{
 "cells": [
  {
   "cell_type": "code",
   "execution_count": 1,
   "metadata": {},
   "outputs": [],
   "source": [
    "from pycuda import gpuarray\n",
    "import pycuda.autoinit\n",
    "import pycuda.driver as drv\n",
    "from pycuda.compiler import SourceModule\n",
    "import numpy as np\n",
    "import matplotlib.pyplot as plt\n",
    "import time\n",
    "from IPython.display import clear_output\n",
    "%load_ext autoreload\n",
    "%autoreload 1"
   ]
  },
  {
   "cell_type": "code",
   "execution_count": 2,
   "metadata": {},
   "outputs": [
    {
     "name": "stderr",
     "output_type": "stream",
     "text": [
      "/home/bzr0014/anaconda3/envs/theano/lib/python3.7/site-packages/ipykernel_launcher.py:5: UserWarning: The CUDA compiler succeeded, but said the following:\n",
      "kernel.cu(43): warning: variable \"myTime\" was declared but never referenced\n",
      "\n",
      "kernel.cu(43): warning: variable \"kk\" was declared but never referenced\n",
      "\n",
      "kernel.cu(80): warning: variable \"stride_x\" was declared but never referenced\n",
      "\n",
      "kernel.cu(82): warning: variable \"myTime\" was declared but never referenced\n",
      "\n",
      "kernel.cu(82): warning: variable \"kk\" was declared but never referenced\n",
      "\n",
      "kernel.cu(82): warning: variable \"N\" was set but never used\n",
      "\n",
      "kernel.cu(283): warning: variable \"i\" was declared but never referenced\n",
      "\n",
      "kernel.cu(283): warning: variable \"j\" was declared but never referenced\n",
      "\n",
      "kernel.cu(283): warning: variable \"k\" was declared but never referenced\n",
      "\n",
      "kernel.cu(283): warning: variable \"myTime\" was declared but never referenced\n",
      "\n",
      "kernel.cu(283): warning: variable \"kk\" was declared but never referenced\n",
      "\n",
      "kernel.cu(283): warning: variable \"I\" was declared but never referenced\n",
      "\n",
      "kernel.cu(283): warning: variable \"s1\" was declared but never referenced\n",
      "\n",
      "kernel.cu(300): warning: variable \"i\" was declared but never referenced\n",
      "\n",
      "kernel.cu(300): warning: variable \"j\" was declared but never referenced\n",
      "\n",
      "kernel.cu(300): warning: variable \"k\" was declared but never referenced\n",
      "\n",
      "kernel.cu(300): warning: variable \"myTime\" was declared but never referenced\n",
      "\n",
      "kernel.cu(300): warning: variable \"kk\" was declared but never referenced\n",
      "\n",
      "kernel.cu(300): warning: variable \"I\" was declared but never referenced\n",
      "\n",
      "kernel.cu(300): warning: variable \"s1\" was declared but never referenced\n",
      "\n",
      "\n",
      "  \"\"\"\n"
     ]
    }
   ],
   "source": [
    "with open(\"new_file.cu\", 'r') as f:\n",
    "    code = f.read()\n",
    "index = code.find('int main')\n",
    "code = code[:index]\n",
    "ker = SourceModule(code)"
   ]
  },
  {
   "cell_type": "code",
   "execution_count": 3,
   "metadata": {},
   "outputs": [],
   "source": [
    "before_poisson_cu    = ker.get_function('before_poisson_cu')\n",
    "poisson_solve_1it_cu = ker.get_function('poisson_solve_1it_cu')\n",
    "after_poisson_cu     = ker.get_function('after_poisson_cu')\n",
    "sum_ne_cu            = ker.get_function('sum_ne_cu')\n",
    "update_ne_cu         = ker.get_function('update_ne_cu')"
   ]
  },
  {
   "cell_type": "code",
   "execution_count": 4,
   "metadata": {},
   "outputs": [],
   "source": [
    "##important note: make sure to convert EVERYTHING into numpy numbers otherwise you're screwed\n",
    "imax = np.int32(64)\n",
    "jmax = np.int32(64)\n",
    "kmax = np.int32(64)\n",
    "n1 = np.int32(imax+3)\n",
    "n2 = np.int32(jmax+3)\n",
    "n3 = np.int32(kmax+3)\n",
    "qi = np.float32(1.6E-19)\n",
    "qe = np.float32(-1.6E-19)\n",
    "kr = np.float32(0)\n",
    "ki = np.float32(0)\n",
    "si = np.float32(0)\n",
    "alpha = np.float32(0)\n",
    "q     = np.float32(1.6E-19)\n",
    "pie   = np.float32(3.14159)\n",
    "tmax  = np.float32(200)\n",
    "\n",
    "\n",
    "Kb    = np.float32(1.38E-23)\n",
    "B     = np.float32(0.5)\n",
    "Te    = np.float32(2.5*11604.5)\n",
    "Ti    = np.float32(0.025*11604.5)\n",
    "me    = np.float32(9.109E-31)\n",
    "mi    = np.float32(6.633E-26)\n",
    "ki    = np.float32(0.0)\n",
    "dt    = np.float32(1.0E-14)\n",
    "h     = np.float32(4.0E-4)\n",
    "eps0  = np.float32(8.854E-12)\n",
    "si    = np.float32(0.0)\n",
    "sf    = np.float32(0.0)\n",
    "\n",
    "\n",
    "N=np.int32(n1*n2*n3)\n",
    "iterations = np.int32(40);\n",
    "tmax = np.int32(1000)\n",
    "\n",
    "original_ne = np.ones(N).astype(np.float32)*1e-9\n",
    "original_ni = np.ones(N).astype(np.float32)*1e-9\n",
    "original_difxne = np.ones(N).astype(np.float32)*1e-9\n",
    "original_difyne = np.ones(N).astype(np.float32)*1e-9\n",
    "original_difxni = np.ones(N).astype(np.float32)*1e-9\n",
    "original_difyni = np.ones(N).astype(np.float32)*1e-9\n",
    "original_difxyne = np.ones(N).astype(np.float32)*1e-9\n",
    "original_difxyni = np.ones(N).astype(np.float32)*1e-9\n",
    "original_Exy = np.ones(N).astype(np.float32)*1e-9\n",
    "original_fexy = np.ones(N).astype(np.float32)*1e-9\n",
    "original_fixy = np.ones(N).astype(np.float32)*1e-9\n",
    "original_g = np.ones(N).astype(np.float32)*1e-9\n",
    "original_R = np.ones(N).astype(np.float32)*1e-9\n",
    "original_Ex = np.ones(N).astype(np.float32)*1e-9\n",
    "original_Ey = np.ones(N).astype(np.float32)*1e-9\n",
    "original_fex = np.ones(N).astype(np.float32)*1e-9\n",
    "original_fey = np.ones(N).astype(np.float32)*1e-9\n",
    "original_fix = np.ones(N).astype(np.float32)*1e-9\n",
    "original_fiy = np.ones(N).astype(np.float32)*1e-9\n",
    "original_V = np.ones(N).astype(np.float32)*1e-9\n",
    "original_L = np.ones(N).astype(np.float32)*1e-9\n",
    "original_difzne = np.ones(N).astype(np.float32)*1e-9\n",
    "original_difzni = np.ones(N).astype(np.float32)*1e-9\n",
    "original_Ez = np.ones(N).astype(np.float32)*1e-9\n",
    "original_fez = np.ones(N).astype(np.float32)*1e-9\n",
    "original_fiz = np.ones(N).astype(np.float32)*1e-9\n",
    "\n",
    "   \n",
    "nn  =np.float32(10.0/(Kb*Ti)) #neutral density=p/(Kb.T)\n",
    "nue =np.float32(nn*1.1E-19*np.sqrt(2.55*Kb*Te/me)) # electron collision frequency= neutral density * sigma_e*Vth_e\n",
    "nui =np.float32(nn*4.4E-19*np.sqrt(2.55*Kb*Ti/mi))\n",
    "wce =np.float32(q*B/me)\n",
    "wci =np.float32(q*B/mi)\n",
    "mue =np.float32(q/(me*nue))\n",
    "mui =np.float32(q/(mi*nui))\n",
    "dife=np.float32(Kb*Te/(me*nue))\n",
    "difi=np.float32(Kb*Ti/(mi*nui))\n",
    "ki=np.float32(0.00002/(nn*dt))\n",
    "denominator_e= np.float32((1+wce*wce/(nue*nue)))\n",
    "denominator_i= np.float32(1+wci*wci/(nui*nui))\n",
    "# Ta and W are just some constants needed for the iterative method that we have used to solve Poisson eq.\n",
    "Ta=np.float32(np.arccos((np.cos(pie/imax)+np.cos(pie/jmax)+np.cos(pie/kmax))/3.0))# needs to be float checked\n",
    "w=np.float32(2.0/(1.0+np.sin(Ta)))\n",
    "# -----------------------------------------------------------------------------------------------\n",
    "#Density initialization\n",
    "# To add multiple Gaussian sources, just simply use the density_initialization function at the (x,y) points that you want\n",
    "x_position = 15; y_position = 15; z_position = 15;\n",
    "\n"
   ]
  },
  {
   "cell_type": "code",
   "execution_count": 5,
   "metadata": {},
   "outputs": [],
   "source": [
    "for i in range(1, imax-1):\n",
    "    for j in range(1, jmax-1):\n",
    "        for k in range(1, kmax-1):\n",
    "            original_ne[k + n3 * (j + n2 * (i))]= 5.0E14\n",
    "            original_ni[k + n3 * (j + n2 * (i))]=5.0E14\n",
    "            \n",
    "for i in range(18, 22):\n",
    "    for j in range(18, 22):\n",
    "        for k in range(20, 40):\n",
    "            original_ne[k + n3 * (j + n2 * (i))]=5.0E15;\n",
    "            original_ni[k + n3 * (j + n2 * (i))]=5.0E15;\n",
    "\n",
    "for i in range(38, 42):\n",
    "    for j in range(18, 22):\n",
    "        for k in range(20, 40):\n",
    "            original_ne[k + n3 * (j + n2 * (i))]=5.0E15;\n",
    "            original_ni[k + n3 * (j + n2 * (i))]=5.0E15;\n",
    "\n",
    "for i in range(18, 22):\n",
    "    for j in range(38, 42):\n",
    "        for k in range(20, 40):\n",
    "            original_ne[k + n3 * (j + n2 * (i))]=5.0E15;\n",
    "            original_ni[k + n3 * (j + n2 * (i))]=5.0E15;\n",
    "\n",
    "for i in range(38, 42):\n",
    "    for j in range(38, 42):\n",
    "        for k in range(20, 40):\n",
    "            original_ne[k + n3 * (j + n2 * (i))]=5.0E15;\n",
    "            original_ni[k + n3 * (j + n2 * (i))]=5.0E15;\n",
    "\n",
    "for k in range(1, kmax+1):\n",
    "    for j in range(1, jmax+1):\n",
    "        for i in range(1, imax+1):\n",
    "            si=si+original_ne[k + n3 * (j + n2 * (i))] ;\n",
    "si = np.float32(si)"
   ]
  },
  {
   "cell_type": "code",
   "execution_count": 6,
   "metadata": {},
   "outputs": [],
   "source": [
    "ne = gpuarray.to_gpu(original_ne)\n",
    "ni = gpuarray.to_gpu(original_ni)\n",
    "difxne = gpuarray.to_gpu(original_difxne)\n",
    "difyne = gpuarray.to_gpu(original_difyne)\n",
    "difxni = gpuarray.to_gpu(original_difxni)\n",
    "difyni = gpuarray.to_gpu(original_difyni)\n",
    "difxyne = gpuarray.to_gpu(original_difxyne)\n",
    "difxyni = gpuarray.to_gpu(original_difxyni)\n",
    "Exy = gpuarray.to_gpu(original_Exy)\n",
    "fexy = gpuarray.to_gpu(original_fexy)\n",
    "fixy = gpuarray.to_gpu(original_fixy)\n",
    "g = gpuarray.to_gpu(original_g)\n",
    "R = gpuarray.to_gpu(original_R)\n",
    "Ex = gpuarray.to_gpu(original_Ex)\n",
    "Ey = gpuarray.to_gpu(original_Ey)\n",
    "fex = gpuarray.to_gpu(original_fex)\n",
    "fey = gpuarray.to_gpu(original_fey)\n",
    "fix = gpuarray.to_gpu(original_fix)\n",
    "fiy = gpuarray.to_gpu(original_fiy)\n",
    "V = gpuarray.to_gpu(original_V)\n",
    "L = gpuarray.to_gpu(original_L)\n",
    "difzne = gpuarray.to_gpu(original_difzne)\n",
    "difzni = gpuarray.to_gpu(original_difzni)\n",
    "Ez = gpuarray.to_gpu(original_Ez)\n",
    "fez = gpuarray.to_gpu(original_fez)\n",
    "fiz = gpuarray.to_gpu(original_fiz)\n",
    "\n",
    "g_temp =  gpuarray.to_gpu(g)\n",
    "ne_temp = gpuarray.to_gpu(ne)\n",
    "ni_temp = gpuarray.to_gpu(ni)\n",
    "\n",
    "original_values = np.array([qi,qe,kr,ki,si,sf,alpha,q,pie,Ta,w,eps0,Te,Ti,B,Kb,me,mi,nue,nui,denominator_e,denominator_i,nn,dt,h,wce,wci,mue,mui,dife,difi]).astype(np.float32)\n",
    "values = gpuarray.to_gpu(original_values)\n",
    "\n",
    "sf_temp = gpuarray.zeros(1, dtype='float32')"
   ]
  },
  {
   "cell_type": "code",
   "execution_count": 7,
   "metadata": {},
   "outputs": [
    {
     "data": {
      "text/plain": [
       "[1e-09, 1e-09, 500000000000000.0, 0.0]"
      ]
     },
     "execution_count": 7,
     "metadata": {},
     "output_type": "execute_result"
    }
   ],
   "source": [
    "def test(p = None):\n",
    "    if p is None:\n",
    "        p = [V, g, ne]\n",
    "    p  = [a.get()[5 + (kmax+3) * (5 + (jmax+3) * 5)] for a in p]\n",
    "    p.append(sf_temp.get()[0])\n",
    "    return p\n",
    "test()"
   ]
  },
  {
   "cell_type": "code",
   "execution_count": 8,
   "metadata": {},
   "outputs": [
    {
     "name": "stdout",
     "output_type": "stream",
     "text": [
      "took  4.923827648162842\n"
     ]
    }
   ],
   "source": [
    "grid  = (int(N+128)//128, 1, 1)\n",
    "block = (128, 1, 1)\n",
    "s = time.time()\n",
    "for i in range(100):\n",
    "    #print(i, test())\n",
    "    before_poisson_cu(imax, jmax, kmax, ne, ni, g, g_temp, values, grid=grid, block=block)\n",
    "    for kk in range(iterations):#(kk=0; kk<iterations; kk++) {\n",
    "        poisson_solve_1it_cu(imax, jmax, kmax, n1, n2, n3, N, V, g, R, w, h, np.int32(1), grid=grid, block=block);\n",
    "        poisson_solve_1it_cu(imax, jmax, kmax, n1, n2, n3, N, V, g, R, w, h, np.int32(0), grid=grid, block=block);\n",
    "    \n",
    "    after_poisson_cu( imax,  jmax,  kmax,  ne, ni , difxne, difyne, difxni , difyni, difxyne, difxyni, Exy, fexy, fixy, R, Ex, Ey , fex, fey, fix, fiy, V, difzne, difzni, Ez, fez, fiz , values, sf_temp\n",
    "                     , grid=grid, block=block)\n",
    "    sum_ne_cu(imax, jmax, kmax, ne, sf_temp, grid=grid, block=block);\n",
    "    ##sf_temp = gpuarray.sum(ne)\n",
    "    update_ne_cu(imax, jmax, kmax, ne, ni, sf_temp, si, grid=grid, block=block);\n",
    "f = time.time()\n",
    "print(\"took \", f-s)"
   ]
  },
  {
   "cell_type": "code",
   "execution_count": 9,
   "metadata": {},
   "outputs": [
    {
     "data": {
      "text/plain": [
       "[0.004509041, -7.682781, 500694900000000.0, 1.2512141e+20]"
      ]
     },
     "execution_count": 9,
     "metadata": {},
     "output_type": "execute_result"
    }
   ],
   "source": [
    "def test(p = None):\n",
    "    if p is None:\n",
    "        p = [V, g, ne]\n",
    "    p  = [a.get()[5 + (kmax+3) * (5 + (jmax+3) * 5)] for a in p]\n",
    "    p.append(sf_temp.get()[0])\n",
    "    return p\n",
    "test()"
   ]
  },
  {
   "cell_type": "code",
   "execution_count": 96,
   "metadata": {},
   "outputs": [],
   "source": [
    "new_ker = SourceModule(\"\"\"\n",
    "__global__ void poisson_solve_1it_cu(int imax, int jmax, int kmax, int n1, int n2, int n3, int N, float* V, float* g, float *R, float w, float h, int oddEven) {\n",
    "    int index_x = threadIdx.x + blockDim.x * blockIdx.x;\n",
    "    //int stride_x = blockDim.x * gridDim.x;\n",
    "    int I = index_x;\n",
    "        //for (int I = index_x; I < N; I +=stride_x) {\n",
    "            int k = I % n3;\n",
    "            int s1 = (I - k) / n3;\n",
    "            int j = s1 % n2;\n",
    "            int i = (s1 - j) / n2;\n",
    "            if (i * j * k == 0 || i >= imax-1 || j >= jmax-1 || k >= kmax-1) return;\n",
    "            if ((i+j+k) % 2 == oddEven) return;\n",
    "            float r =\n",
    "                (V[k + n3 * (j + n2 * (i+1))]+\n",
    "                     V[k + n3 * (j + n2 * (i-1))]+\n",
    "                     V[k + n3 * (j+1 + n2 * (i))]+\n",
    "                     V[k + n3 * (j-1 + n2 * (i))]+\n",
    "                     V[k+1 + n3 * (j + n2 * (i))]+\n",
    "                     V[k-1 + n3 * (j + n2 * (i))]\n",
    "                 ) / 6.0 - V[k + n3 * (j + n2 * (i))]- (h*h)*g[k + n3 * (j + n2 * (i))]/6.0;\n",
    "            V[k + n3 * (j + n2 * (i))] = V[k + n3 * (j + n2 * (i))] + w*r;\n",
    "        //}\n",
    "}\n",
    "\"\"\")\n",
    "poisson_out_of_place = new_ker.get_function(\"poisson_solve_1it_cu\")"
   ]
  },
  {
   "cell_type": "code",
   "execution_count": 102,
   "metadata": {},
   "outputs": [
    {
     "name": "stdout",
     "output_type": "stream",
     "text": [
      "took  0.023944854736328125\n"
     ]
    }
   ],
   "source": [
    "grid  = (int(N)//1024+1, 1, 1)\n",
    "block = (int(1024), 1, 1)\n",
    "s = time.time()\n",
    "for i in range(10):\n",
    "    #print(i, test([V, R]))\n",
    "    before_poisson_cu(imax, jmax, kmax, ne, ni, g, g_temp, values, grid=grid, block=block)\n",
    "    for kk in range(40):#(kk=0; kk<iterations; kk++) {\n",
    "        poisson_out_of_place(imax, jmax, kmax, n1, n2, n3, N, V, g, R, w, h, np.int32(0), block=block, grid=grid)\n",
    "        poisson_out_of_place(imax, jmax, kmax, n1, n2, n3, N, V, g, R, w, h, np.int32(1), block=block, grid=grid)\n",
    "        #tmp = V\n",
    "        #V = R\n",
    "        #R = tmp\n",
    "        #V[:] = R[:]\n",
    "    \n",
    "    after_poisson_cu( imax,  jmax,  kmax,  ne, ni , difxne, difyne, difxni , difyni, difxyne, difxyni, Exy, fexy, fixy, R, Ex, Ey , fex, fey, fix, fiy, V, difzne, difzni, Ez, fez, fiz , values, sf_temp\n",
    "                    , grid=grid, block=block)\n",
    "    sum_ne_cu(imax, jmax, kmax, ne, sf_temp, grid=grid, block=block);\n",
    "    #sf_temp = gpuarray.sum(ne)\n",
    "    update_ne_cu(imax, jmax, kmax, ne, ni, sf_temp, si, grid=grid, block=block);\n",
    "f = time.time()\n",
    "print(\"took \", f-s)"
   ]
  },
  {
   "cell_type": "code",
   "execution_count": 103,
   "metadata": {},
   "outputs": [
    {
     "data": {
      "text/plain": [
       "[nan, nan, nan, array([nan], dtype=float32)]"
      ]
     },
     "execution_count": 103,
     "metadata": {},
     "output_type": "execute_result"
    }
   ],
   "source": [
    "def test():\n",
    "    p = [V, g, ne]\n",
    "    p  = [a.get()[5 + (kmax+3) * (5 + (jmax+3) * 5)] for a in p]\n",
    "    p.append(sf_temp.get())\n",
    "    return p\n",
    "test()"
   ]
  },
  {
   "cell_type": "code",
   "execution_count": 104,
   "metadata": {},
   "outputs": [
    {
     "data": {
      "text/plain": [
       "\"#include <stdio.h>\\n#include <stdlib.h>\\n#include <math.h>\\n#include <stdio.h>\\n#include <stdlib.h>\\n#include <math.h>\\n\\n\\n__global__ void mardas(int imax, int jmax, int kmax, int n1, int n2, int n3, int N, int iterations, float* V, float* g, float *R, float w, float h, int oddEven) {\\n    int index_x = threadIdx.x + blockDim.x * blockIdx.x;\\n    int stride_x = blockDim.x * gridDim.x;\\n        for (int I = index_x; I < N; I +=stride_x) {\\n            V[I] = 1000;\\n        }\\n}\\n\\n__global__ void poisson_solve_1it_cu(int imax, int jmax, int kmax, int n1, int n2, int n3, int N, float* V, float* g, float *R, float w, float h, int oddEven) {\\n    int index_x = threadIdx.x + blockDim.x * blockIdx.x;\\n    int stride_x = blockDim.x * gridDim.x;\\n        for (int I = index_x; I < N; I +=stride_x) {\\n             int k = I % n3;\\n             int s1 = (I - k) / n3;\\n             int j = s1 % n2;\\n             int i = (s1 - j) / n2;\\n            if (i * j * k == 0 || i >= imax-1 || j >= jmax-1 || k >= kmax-1) continue;\\n            if ((i+j+k)%2==oddEven) continue;\\n            R[k + n3 * (j + n2 * (i))]=\\n                (V[k + n3 * (j + n2 * (i+1))]+\\n                     V[k + n3 * (j + n2 * (i-1))]+\\n                     V[k + n3 * (j+1 + n2 * (i))]+\\n                     V[k + n3 * (j-1 + n2 * (i))]+\\n                     V[k+1 + n3 * (j + n2 * (i))]+\\n                     V[k-1 + n3 * (j + n2 * (i))]\\n                 ) / 6.0 - V[k + n3 * (j + n2 * (i))]- (h*h)*g[k + n3 * (j + n2 * (i))]/6.0;\\n            V[k + n3 * (j + n2 * (i))] += w*R[k + n3 * (j + n2 * (i))];\\n        }\\n}\\n__global__ void before_poisson_cu(int imax, int jmax, int kmax, float* ne,float* ni, float *g, float* g_temp, float *values) {\\n\\n    int index_x = threadIdx.x + blockDim.x * blockIdx.x;\\n    int stride_x = blockDim.x * gridDim.x;\\n    int  n1=imax+3, n2 = jmax+3, n3 = kmax+3,i,j,k,myTime,kk,I,N,s1;\\n    N=n1*n2*n3;\\n    float qi = values[0];\\n    float qe = values[1];\\n    float w = values[10];\\n    float eps0 = values[11];\\n    float h = values[24];\\n    for (int I=index_x; I<N; I+=stride_x) g_temp[I] = w*h*h*g[I]/6.;\\n    for (int I=index_x; I<N; I+=stride_x) {\\n        int k = I % n3;\\n        int s1 = (I - k) / n3;\\n        int j = s1 % n2;\\n        int i = (s1 - j) / n2;\\n        if (i >= 1 && i < imax-1\\n                && j >= 1 && j < jmax-1\\n                && k >= 1 && k < kmax-1) {\\n            g_temp[I] += w/6.*(g_temp[I-1]+g_temp[I-n3]+g_temp[I-n3*n2]);\\n        }\\n        else {\\n            g_temp[I] = 0;\\n        }\\n    }\\n\\n      for ( I = index_x; I < N; I += stride_x) {\\n         k = I % n3;\\n         s1 = (I - k) / n3;\\n         j = s1 % n2;\\n         i = (s1 - j) / n2;\\n        if (i * j * k == 0 || i >= imax-1 || j >= jmax-1 || k >= kmax-1) continue;\\n        g[k + n3 * (j + n2 * (i))]=-(ne[k + n3 * (j + n2 * (i))]*qe+ni[k + n3 * (j + n2 * (i))]*qi)/eps0;\\n    }\\n\\n}\\n\\n\\n__global__ void after_poisson_cu(int imax, int jmax, int kmax, float *ne, float *ni , float *difxne, float *difyne, float *difxni , float *difyni, float *difxyne, float *difxyni, float *Exy, float *fexy , float *fixy, float *R, float *Ex, float *Ey , float *fex, float *fey, float *fix, float *fiy, float *V, float *difzne, float *difzni, float *Ez, float *fez, float *fiz , float *values, float *sf_temp) {\\n    int index_x = threadIdx.x + blockDim.x * blockIdx.x;\\n    int stride_x = blockDim.x * gridDim.x;\\n    int  n1=imax+3, n2 = jmax+3, n3 = kmax+3,i,j,k,myTime,kk,I,N,s1;\\n    N=n1*n2*n3;\\n    float q = values[7];\\n    float me = values[16];\\n    float mi = values[17];\\n    float nue = values[18];\\n    float nui = values[19];\\n    float denominator_e = values[20];\\n    float denominator_i = values[21];\\n    float dt = values[23];\\n    float h = values[24];\\n    float wce = values[25];\\n    float wci = values[26];\\n    float mue = values[27];\\n    float mui = values[28];\\n    float dife = values[29];\\n    float difi = values[30];\\n\\n  for ( I = index_x; I < N; I += stride_x) {\\n         k = I % n3;\\n         s1 = (I - k) / n3;\\n         j = s1 % n2;\\n         i = (s1 - j) / n2;\\n        if (i >= imax-1 || j >= jmax || k >= kmax) continue;\\n        Ex[k + n3 * (j + n2 * (i))]= (V[k + n3 * (j + n2 * (i))]-V[k + n3 * (j + n2 * (i+1))])/h;\\n        difxne[k + n3 * (j + n2 * (i))]=(ne[k + n3 * (j + n2 * (i+1))]-ne[k + n3 * (j + n2 * (i))])/h;\\n        difxni[k + n3 * (j + n2 * (i))]=(ni[k + n3 * (j + n2 * (i+1))]-ni[k + n3 * (j + n2 * (i))])/h;\\n        }\\n\\n\\n    for ( I = index_x; I < N; I += stride_x) {\\n         k = I % n3;\\n         s1 = (I - k) / n3;\\n         j = s1 % n2;\\n         i = (s1 - j) / n2;\\n        if (i >= imax || j >= jmax-1 || k >= kmax) continue;\\n        Ey[k + n3 * (j + n2 * (i))]= (V[k + n3 * (j + n2 * (i))]-V[k + n3 * (j+1 + n2 * (i))])/h;\\n        difyne[k + n3 * (j + n2 * (i))]=(ne[k + n3 * (j+1 + n2 * (i))]-ne[k + n3 * (j + n2 * (i))])/h;\\n        difyni[k + n3 * (j + n2 * (i))]=(ni[k + n3 * (j+1 + n2 * (i))]-ni[k + n3 * (j + n2 * (i))])/h;\\n        }\\n\\n\\n    for ( I = index_x; I < N; I += stride_x) {\\n         k = I % n3;\\n         s1 = (I - k) / n3;\\n         j = s1 % n2;\\n         i = (s1 - j) / n2;\\n        if (i >= imax || j >= jmax || k >= kmax-1) continue;\\n       Ez[k + n3 * (j + n2 * (i))]= (V[k + n3 * (j + n2 * (i))]-V[k+1 + n3 * (j + n2 * (i))])/h;\\n       difzne[k + n3 * (j + n2 * (i))]=(ne[k+1 + n3 * (j + n2 * (i))]-ne[k + n3 * (j + n2 * (i))])/h;\\n       difzni[k + n3 * (j + n2 * (i))]=(ni[k+1 + n3 * (j + n2 * (i))]-ni[k + n3 * (j + n2 * (i))])/h;\\n     }\\n\\n// -----------------------------------------------------------------------------------------------\\n       /* Since I am using mid points for Calculating electric field and density gradient,\\n        to calculate Ex at any point that I don't have it directly, the average over\\n        the neighboring points is used instead. these average variables are, exy, fexy, fixy, ...*/\\n        // Calculating the average values of Ex and gradiant_x\\n   for ( I = index_x; I < N; I += stride_x) {\\n         k = I % n3;\\n         s1 = (I - k) / n3;\\n         j = s1 % n2;\\n         i = (s1 - j) / n2;\\n\\n        Exy[k + n3 * (j + n2 * (i))]= 0.0 ;\\n        difxyne[k + n3 * (j + n2 * (i))]=0.0;\\n        difxyni[k + n3 * (j + n2 * (i))]=0.0;\\n    }\\n\\n    for ( I = index_x; I < N; I += stride_x) {\\n         k = I % n3;\\n         s1 = (I - k) / n3;\\n         j = s1 % n2;\\n         i = (s1 - j) / n2;\\n        if (i * k == 0 ||  i >= imax-1 || j >= jmax-1 || k >= kmax-1) continue;\\n        Exy[k + n3 * (j + n2 * (i))]= 0.25*(Ex[k + n3 * (j + n2 * (i))]+Ex[k + n3 * (j+1 + n2 * (i))]+Ex[k + n3 * (j + n2 * (i-1))]+Ex[k + n3 * (j+1 + n2 * (i-1))]) ;\\n        difxyne[k + n3 * (j + n2 * (i))]=0.25*(difxne[k + n3 * (j + n2 * (i))]+difxne[k + n3 * (j+1 + n2 * (i))]+difxne[k + n3 * (j + n2 * (i-1))]+difxne[k + n3 * (j+1 + n2 * (i-1))]);\\n        difxyni[k + n3 * (j + n2 * (i))]=0.25*(difxni[k + n3 * (j + n2 * (i))]+difxni[k + n3 * (j+1 + n2 * (i))]+difxni[k + n3 * (j + n2 * (i-1))]+difxni[k + n3 * (j+1 + n2 * (i-1))]);\\n    }\\n\\n\\n// -----------------------------------------------------------------------------------------------\\n        // Here we calculate the fluxes in y direction\\n\\n       for ( I = index_x; I < N; I += stride_x) {\\n         k = I % n3;\\n         s1 = (I - k) / n3;\\n         j = s1 % n2;\\n         i = (s1 - j) / n2;\\n        if (i * k == 0 ||  i >= imax-1 || j >= jmax-1 || k >= kmax-1) continue;\\n        fey[k + n3 * (j + n2 * (i))]= (-0.5*(ne[k + n3 * (j+1 + n2 * (i))]+ne[k + n3 * (j + n2 * (i))])*mue*Ey[k + n3 * (j + n2 * (i))]-dife*difyne[k + n3 * (j + n2 * (i))]\\n        -wce*q*0.5*(ne[k + n3 * (j+1 + n2 * (i))]+ne[k + n3 * (j + n2 * (i))])*Exy[k + n3 * (j + n2 * (i))]/(me*nue*nue)-wce*dife*difxyne[k + n3 * (j + n2 * (i))]/nue)/denominator_e;\\n        fiy[k + n3 * (j + n2 * (i))]= (0.5*(ni[k + n3 * (j+1 + n2 * (i))]+ni[k + n3 * (j + n2 * (i))])*mui*Ey[k + n3 * (j + n2 * (i))]-difi*difyni[k + n3 * (j + n2 * (i))]\\n        -wci*q*0.5*(ni[k + n3 * (j+1 + n2 * (i))]+ni[k + n3 * (j + n2 * (i))])*Exy[k + n3 * (j + n2 * (i))]/(mi*nui*nui)+wci*difi*difxyni[k + n3 * (j + n2 * (i))]/nui)/denominator_i;\\n    }\\n\\n\\n    for ( I =index_x; I < n1 * n3; I += stride_x) {\\n         k = I % n3;\\n         i = (I - k) / n3;\\n\\n        if (i * k == 0 ||  i >= imax-1 || k >= kmax-1) continue;\\n\\n        if (fey[k + n3 * (0 + n2 * (i))] > 0.0){\\n                fey[k + n3 * (0 + n2 * (i))] = 0.0;\\n                }\\n\\n        if (fiy[k + n3 * (0 + n2 * (i))] > 0.0){\\n                fiy[k + n3 * (0 + n2 * (i))] = 0.0;\\n                }\\n\\n        if (fey[k + n3 * (jmax-2 + n2 * (i))] < 0.0){\\n                fey[k + n3 * (jmax-2 + n2 * (i))] = 0.0;\\n                }\\n\\n        if (fiy[k + n3 * (jmax-2 + n2 * (i))] < 0.0){\\n                fiy[k + n3 * (jmax-2 + n2 * (i))] = 0.0;\\n                }\\n\\n    }\\n\\n// -----------------------------------------------------------------------------------------------\\n        // Calculating the average Exy and difxy to be used in x direction fluxes\\n       // Calculating the average values of Ey and gradiant_y\\n\\n\\n      for ( I = index_x; I < N; I += stride_x) {\\n         k = I % n3;\\n         s1 = (I - k) / n3;\\n         j = s1 % n2;\\n         i = (s1 - j) / n2;\\n\\n        Exy[k + n3 * (j + n2 * (i))]= 0.0 ;\\n        difxyne[k + n3 * (j + n2 * (i))]=0.0;\\n        difxyni[k + n3 * (j + n2 * (i))]=0.0;\\n    }\\n\\n\\n      for ( I = index_x; I < N; I += stride_x) {\\n         k = I % n3;\\n         s1 = (I - k) / n3;\\n         j = s1 % n2;\\n         i = (s1 - j) / n2;\\n        if (j * k == 0 || i >= imax-1 || j >= jmax-1 || k >= kmax-1) continue;\\n        Exy[k + n3 * (j + n2 * (i))]= 0.25*(Ey[k + n3 * (j + n2 * (i))]+Ey[k + n3 * (j-1 + n2 * (i))]+Ey[k + n3 * (j + n2 * (i+1))]+Ey[k + n3 * (j-1 + n2 * (i+1))]);\\n        difxyne[k + n3 * (j + n2 * (i))]= 0.25*(difyne[k + n3 * (j + n2 * (i))]+difyne[k + n3 * (j-1 + n2 * (i))]+difyne[k + n3 * (j + n2 * (i+1))]+difyne[k + n3 * (j-1 + n2 * (i+1))]);\\n        difxyni[k + n3 * (j + n2 * (i))]= 0.25*(difyni[k + n3 * (j + n2 * (i))]+difyni[k + n3 * (j-1 + n2 * (i))]+difyni[k + n3 * (j + n2 * (i+1))]+difyni[k + n3 * (j-1 + n2 * (i+1))]);\\n\\n    }\\n\\n// -----------------------------------------------------------------------------------------------\\n        // Now ready to calculate the fluxes in x direction\\n\\n    for ( I = index_x; I < N; I += stride_x) {\\n         k = I % n3;\\n         s1 = (I - k) / n3;\\n         j = s1 % n2;\\n         i = (s1 - j) / n2;\\n        if (j * k == 0 || i >= imax-1 || j >= jmax-1 || k >= kmax-1) continue;\\n        fex[k + n3 * (j + n2 * (i))]=(-0.5*(ne[k + n3 * (j + n2 * (i))]+ne[k + n3 * (j + n2 * (i+1))])*mue*Ex[k + n3 * (j + n2 * (i))]-dife*difxne[k + n3 * (j + n2 * (i))]\\n        +wce*dife*difxyne[k + n3 * (j + n2 * (i))]/nue+wce*q*0.5*(ne[k + n3 * (j + n2 * (i))]+ne[k + n3 * (j + n2 * (i+1))])/(me*nue*nue)*Exy[k + n3 * (j + n2 * (i))])/denominator_e;\\n        fix[k + n3 * (j + n2 * (i))]=(0.5*(ni[k + n3 * (j + n2 * (i))]+ni[k + n3 * (j + n2 * (i+1))])*mui*Ex[k + n3 * (j + n2 * (i))]-difi*difxni[k + n3 * (j + n2 * (i))]\\n        -wci*difi*difxyni[k + n3 * (j + n2 * (i))]/nui+wci*q*0.5*(ni[k + n3 * (j + n2 * (i))]+ni[k + n3 * (j + n2 * (i+1))])*Exy[k + n3 * (j + n2 * (i))]/(mi*nui*nui))/denominator_i;\\n    }\\n\\n\\n    for ( I = index_x; I < n2 * n3; I += stride_x) {\\n         k = I % n3;\\n         j = (I - k) / n3;\\n\\n        if (j * k == 0 ||  j >= jmax-1 || k >= kmax-1) continue;\\n\\n        if (fex[k + n3 * (j + n2 * (0))] > 0.0){\\n                fex[k + n3 * (j + n2 * (0))] = 0.0;\\n                }\\n\\n        if (fix[k + n3 * (j + n2 * (0))] > 0.0){\\n                fix[k + n3 * (j + n2 * (0))] = 0.0;\\n                }\\n\\n        if (fex[k + n3 * (j + n2 * (imax-2))] < 0.0){\\n                fex[k + n3 * (j + n2 * (imax-2))] = 0.0;\\n                }\\n\\n        if (fix[k + n3 * (j + n2 * (imax-2))] < 0.0){\\n                fix[k + n3 * (j + n2 * (imax-2))] = 0.0;\\n                }\\n\\n    }\\n\\n// -----------------------------------------------------------------------------------------------\\n\\n        // Now we calculate the fluxes in z direction\\n      for ( I = index_x; I < N; I += stride_x) {\\n         k = I % n3;\\n         s1 = (I - k) / n3;\\n         j = s1 % n2;\\n         i = (s1 - j) / n2;\\n        if (i * j == 0 || i >= imax-1 || j >= jmax-1 || k >= kmax-1) continue;\\n        fez[k + n3 * (j + n2 * (i))]=-0.5*(ne[k + n3 * (j + n2 * (i))]+ne[k+1 + n3 * (j + n2 * (i))])*mue*Ez[k + n3 * (j + n2 * (i))]-dife*difzne[k + n3 * (j + n2 * (i))];\\n        fiz[k + n3 * (j + n2 * (i))]=0.5*(ni[k + n3 * (j + n2 * (i))]+ni[k+1 + n3 * (j + n2 * (i))])*mui*Ez[k + n3 * (j + n2 * (i))]-difi*difzni[k + n3 * (j + n2 * (i))];\\n\\n    }\\n       // BC on fluxes\\n\\n    for ( I = index_x; I < n1 * n2; I += stride_x) {\\n         j = I % n2;\\n         i = (I - j) / n2;\\n        if (i * j == 0 || i >= imax-1 || j >= jmax-1) continue;\\n        if (fez[0 + n3 * (j + n2 * (i))]>0.0){\\n            fez[0 + n3 * (j + n2 * (i))]=0.0;\\n        }\\n        if (fiz[0 + n3 * (j + n2 * (i))]>0.0){\\n            fiz[0 + n3 * (j + n2 * (i))]=0.0;\\n        }\\n        if (fez[kmax-2 + n3 * (j + n2 * (i))]<0.0){\\n            fez[kmax-2 + n3 * (j + n2 * (i))]=0.0;\\n        }\\n        if (fiz[kmax-2 + n3 * (j + n2 * (i))]<0.0){\\n            fiz[kmax-2 + n3 * (j + n2 * (i))]=0.0;\\n        }\\n    }\\n// -----------------------------------------------------------------------------------------------\\n\\n\\n       for ( I = index_x; I < N; I += stride_x) {\\n         k = I % n3;\\n         s1 = (I - k) / n3;\\n         j = s1 % n2;\\n         i = (s1 - j) / n2;\\n        if (i * j * k == 0 || i >= imax || j >= jmax || k >= kmax) continue;\\n        ne[k + n3 * (j + n2 * (i))]=ne[k + n3 * (j + n2 * (i))]-dt*(fex[k + n3 * (j + n2 * (i))]-fex[k + n3 * (j + n2 * (i-1))]+fey[k + n3 * (j + n2 * (i))]-fey[k + n3 * (j-1 + n2 * (i))]+fez[k + n3 * (j + n2 * (i))]-fez[k-1 + n3 * (j + n2 * (i))])/h ;\\n        ni[k + n3 * (j + n2 * (i))]=ni[k + n3 * (j + n2 * (i))]-dt*(fix[k + n3 * (j + n2 * (i))]-fix[k + n3 * (j + n2 * (i-1))]+fiy[k + n3 * (j + n2 * (i))]-fiy[k + n3 * (j-1 + n2 * (i))]+fiz[k + n3 * (j + n2 * (i))]-fiz[k-1 + n3 * (j + n2 * (i))])/h ;\\n    }\\n\\n\\n\\n\\n\\n        for ( I = index_x; I < n1 * n2; I += stride_x) {\\n         j = I % n2;\\n         i = (I - j) / n2;\\n        if (i * j == 0 || i >= imax || j >= jmax ) continue;\\n\\n        ne[0 + n3 * (j + n2 * (i))] = -dt*fez[0 + n3 * (j + n2 * (i))]/h ;\\n        ni[0 + n3 * (j + n2 * (i))] = -dt*fiz[0 + n3 * (j + n2 * (i))]/h ;\\n\\n    }\\n\\n     for ( I = index_x; I < n1 * n3; I += stride_x) {\\n         k = I % n3;\\n         i = (I - k) / n3;\\n\\n        if (i * k == 0 ||  i >= imax || k >= kmax) continue;\\n\\n        ne[k + n3 * (0 + n2 * (i))] = -dt*fey[k + n3 * (0 + n2 * (i))]/h ;\\n        ni[k + n3 * (0 + n2 * (i))] = -dt*fiy[k + n3 * (0 + n2 * (i))]/h ;\\n\\n    }\\n\\n\\n\\n\\n      for ( I = index_x; I < n2 * n3; I += stride_x) {\\n         k = I % n3;\\n         j = (I - k) / n3;\\n        if (j * k == 0 ||  j >= jmax || k >= kmax) continue;\\n\\n       ne[k + n3 * (j + n2 * (0))]= -dt*fex[k + n3 * (j + n2 * (0))]/h ;\\n       ni[k + n3 * (j + n2 * (0))]= -dt*fix[k + n3 * (j + n2 * (0))]/h ;\\n\\n\\n    }\\n\\n\\n\\n\\n        // BC on densities\\n\\n     for ( I = index_x; I < n1 * n3; I += stride_x) {\\n         k = I % n3;\\n         i = (I - k) / n3;\\n\\n        if (i * k == 0 ||  i >= imax || k >= kmax) continue;\\n\\n        ne[k + n3 * (0 + n2 * (i))] = 0.0 ;\\n        ni[k + n3 * (0 + n2 * (i))] = 0.0 ;\\n\\n        ne[k + n3 * (jmax-1 + n2 * (i))] = 0.0 ;\\n        ni[k + n3 * (jmax-1 + n2 * (i))] = 0.0 ;\\n\\n    }\\n\\n\\n\\n\\n      for ( I = index_x; I < n2 * n3; I += stride_x) {\\n         k = I % n3;\\n         j = (I - k) / n3;\\n        if (j * k == 0 ||  j >= jmax || k >= kmax) continue;\\n\\n       ne[k + n3 * (j + n2 * (0))]= 0.0 ;\\n       ni[k + n3 * (j + n2 * (0))]= 0.0 ;\\n\\n       ne[k + n3 * (j + n2 * (imax-1))]= 0.0 ;\\n       ni[k + n3 * (j + n2 * (imax-1))]= 0.0 ;\\n\\n\\n    }\\n\\n\\n\\n    for ( I = index_x; I < n1*n2; I += stride_x) {\\n         j = I % n2;\\n         i = (I - j) / n2;\\n        if (i * j == 0 || i >= imax+1 || j >= jmax+1) continue;\\n        ne[kmax-1 + n3 * (j + n2 * (i))]=0.0;\\n        ne[0 + n3 * (j + n2 * (i))]=0.0;\\n        ni[kmax-1 + n3 * (j + n2 * (i))]=0.0;\\n        ni[0 + n3 * (j + n2 * (i))]=0.0;\\n\\n    }\\n\\n\\n\\n    sf_temp[0] = 0;\\n}\\n\\n\\n\\n__global__ void sum_ne_cu(int imax, int jmax, int kmax, float* mat, float* res) {\\n    int index_x = threadIdx.x + blockDim.x * blockIdx.x;\\n    int stride_x = blockDim.x * gridDim.x;\\n    int  n1=imax+3, n2 = jmax+3, n3 = kmax+3,i,j,k,myTime,kk,I,N,s1;\\n    N=n1*n2*n3;\\n    for (int I = index_x; I < N; I += stride_x) {\\n        int k = I % n3;\\n        int s1 = (I - k) / n3;\\n        int j = s1 % n2;\\n        int i = (s1 - j) / n2;\\n       if (i * j * k == 0 || i >= imax-1 || j >= jmax-1 || k >= kmax-1) continue;\\n       atomicAdd(res, mat[I]);\\n    }\\n}\\n\\n\\n\\n__global__ void update_ne_cu(int imax, int jmax, int kmax, float* ne, float* ni, float *sf, float si) {\\n    int index_x = threadIdx.x + blockDim.x * blockIdx.x;\\n    int stride_x = blockDim.x * gridDim.x;\\n    int  n1=imax+3, n2 = jmax+3, n3 = kmax+3,i,j,k,myTime,kk,I,N,s1;\\n    N=n1*n2*n3;\\n    float alpha=(si-sf[0])/(sf[0]);\\n   for ( int I = index_x; I < N; I += stride_x) {\\n        int k = I % n3;\\n        int s1 = (I - k) / n3;\\n        int j = s1 % n2;\\n        int i = (s1 - j) / n2;\\n       if (i * j * k == 0 || i >= imax-1 || j >= jmax-1 || k >= kmax-1) continue;\\n       ne[k + n3 * (j + n2 * (i))]=ne[k + n3 * (j + n2 * (i))]+alpha*ne[k + n3 * (j + n2 * (i))] ;\\n       ni[k + n3 * (j + n2 * (i))]=ni[k + n3 * (j + n2 * (i))]+alpha*ne[k + n3 * (j + n2 * (i))] ;\\n   }\\n\\n}\\n\""
      ]
     },
     "execution_count": 104,
     "metadata": {},
     "output_type": "execute_result"
    }
   ],
   "source": [
    "code\n"
   ]
  },
  {
   "cell_type": "code",
   "execution_count": null,
   "metadata": {},
   "outputs": [],
   "source": []
  }
 ],
 "metadata": {
  "kernelspec": {
   "display_name": "Python 3",
   "language": "python",
   "name": "python3"
  },
  "language_info": {
   "codemirror_mode": {
    "name": "ipython",
    "version": 3
   },
   "file_extension": ".py",
   "mimetype": "text/x-python",
   "name": "python",
   "nbconvert_exporter": "python",
   "pygments_lexer": "ipython3",
   "version": "3.7.2"
  }
 },
 "nbformat": 4,
 "nbformat_minor": 2
}
