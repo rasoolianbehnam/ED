{
 "cells": [
  {
   "cell_type": "code",
   "execution_count": 1,
   "metadata": {},
   "outputs": [],
   "source": [
    "from pycuda import gpuarray\n",
    "import pycuda.autoinit\n",
    "import pycuda.driver as drv\n",
    "from pycuda.compiler import SourceModule\n",
    "import numpy as np\n",
    "import matplotlib.pyplot as plt\n",
    "from IPython.display import clear_output\n",
    "%load_ext autoreload\n",
    "%autoreload 1"
   ]
  },
  {
   "cell_type": "code",
   "execution_count": 2,
   "metadata": {},
   "outputs": [],
   "source": [
    "ker = SourceModule(\"\"\"\n",
    "#define _x (threadIdx.x + blockIdx.x * blockDim.x)\n",
    "#define _y (threadIdx.y + blockIdx.y * blockDim.y)\n",
    "\n",
    "#define _width (blockDim.x * gridDim.x) //total number of threads in dimension 0\n",
    "#define _height (blockDim.y * gridDim.y) //total number of threads in dimension 1\n",
    "\n",
    "#define _xm(x) ( (x + _width) % _width )\n",
    "#define _ym(y) ( (y + _height) % _height )\n",
    "\n",
    "#define _index(x, y) (_xm(x) + _ym(y) * _width)\n",
    "\n",
    "__device__ int nbrs(int x, int y, int * in) {\n",
    "    return in[_index(x-1, y-1)] + in[_index(x-1, y)] + in[_index(x-1, y+1)] \\\n",
    "           + in[_index(x, y-1)] + in[_index(x, y+1)] \\\n",
    "           + in[_index(x+1, y-1)] + in[_index(x+1, y)] + in[_index(x+1, y+1)];\n",
    "}\n",
    "\n",
    "__global__ void conway_ker(int * lattice_out, int * lattice) {\n",
    "    int x = _x, y = _y;\n",
    "    int n = nbrs(x, y, lattice);\n",
    "    if (lattice[_index(x, y)] == 1)\n",
    "        switch (n) {\n",
    "            case 2:\n",
    "            case 3: lattice_out[_index(x, y)] = 1;\n",
    "                    break;\n",
    "            default: lattice_out[_index(x, y)] = 0;\n",
    "        }\n",
    "    else if (lattice[_index(x, y)] == 0 )\n",
    "        switch(n) {\n",
    "            case 3: lattice_out[_index(x, y)] = 1;\n",
    "                    break;\n",
    "            default: lattice_out[_index(x, y)] = 0;\n",
    "        }\n",
    "}\n",
    "\"\"\")\n",
    "conway_ker = ker.get_function(\"conway_ker\")"
   ]
  },
  {
   "cell_type": "code",
   "execution_count": 34,
   "metadata": {},
   "outputs": [],
   "source": [
    "def update_gpu(newLattice_gpu, lattice_gpu, N):\n",
    "    for i in range(300):\n",
    "        conway_ker(newLattice_gpu, lattice_gpu, grid=(N//32, N//32, 1), block=(32, 32, 1))\n",
    "        tmp = lattice_gpu\n",
    "        lattice_gpu = newLattice_gpu\n",
    "        newLattice_gpu = tmp\n",
    "        plt.imshow(lattice_gpu.get())\n",
    "        plt.show()\n",
    "        clear_output(wait=True)"
   ]
  },
  {
   "cell_type": "code",
   "execution_count": 37,
   "metadata": {},
   "outputs": [
    {
     "data": {
      "image/png": "[encoded data removed]",
      "text/plain": [
       "<Figure size 432x288 with 1 Axes>"
      ]
     },
     "metadata": {
      "needs_background": "light"
     },
     "output_type": "display_data"
    }
   ],
   "source": [
    "N = int(32 * 32)\n",
    "lattice = np.random.choice([1, 0], N*N, p=[.25, .75]).reshape(N, N).astype('int32')\n",
    "lattice_gpu = gpuarray.to_gpu(lattice)\n",
    "newLattice_gpu = gpuarray.empty_like(lattice_gpu)\n",
    "update_gpu(newLattice_gpu, lattice_gpu, N)"
   ]
  },
  {
   "cell_type": "code",
   "execution_count": null,
   "metadata": {},
   "outputs": [],
   "source": []
  }
 ],
 "metadata": {
  "kernelspec": {
   "display_name": "Python 3",
   "language": "python",
   "name": "python3"
  },
  "language_info": {
   "codemirror_mode": {
    "name": "ipython",
    "version": 3
   },
   "file_extension": ".py",
   "mimetype": "text/x-python",
   "name": "python",
   "nbconvert_exporter": "python",
   "pygments_lexer": "ipython3",
   "version": "3.7.2"
  }
 },
 "nbformat": 4,
 "nbformat_minor": 2
}
