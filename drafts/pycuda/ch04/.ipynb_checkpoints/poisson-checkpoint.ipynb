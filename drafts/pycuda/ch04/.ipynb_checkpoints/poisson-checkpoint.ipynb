{
 "cells": [
  {
   "cell_type": "code",
   "execution_count": 1,
   "metadata": {},
   "outputs": [],
   "source": [
    "from pycuda import gpuarray\n",
    "import pycuda.autoinit\n",
    "import pycuda.driver as drv\n",
    "from pycuda.compiler import SourceModule\n",
    "import numpy as np\n",
    "import matplotlib.pyplot as plt\n",
    "from IPython.display import clear_output\n",
    "%load_ext autoreload\n",
    "%autoreload 1"
   ]
  },
  {
   "cell_type": "code",
   "execution_count": 73,
   "metadata": {},
   "outputs": [],
   "source": [
    "ker = SourceModule(\"\"\"\n",
    "#define _x  ( threadIdx.x + blockIdx.x * blockDim.x )\n",
    "#define _y  ( threadIdx.y + blockIdx.y * blockDim.y )\n",
    "#define _z  ( threadIdx.z + blockIdx.z * blockDim.z )\n",
    "#define _width  ( blockDim.x * gridDim.x )\n",
    "#define _height ( blockDim.y * gridDim.y  )\n",
    "#define _depth  ( blockDim.z * gridDim.z  )\n",
    "#define _xm(x)  ( (x + _width) % _width )\n",
    "#define _ym(y)  ( (y + _height) % _height )\n",
    "#define _zm(z)  ( (z + _depth) % _depth )\n",
    "#define _index(x,y,z)  ( _zm(z)  + _depth * (_ym(y) + _xm(x) * _height) )\n",
    "\n",
    "__global__ void poisson(float* V, int iters, int imax, int jmax, int kmax) {\n",
    "    //int x = _x, y = _y, z = _z;\n",
    "    for (int kk=0; kk<iters; kk++) {\n",
    "        for (int x = _x; x < imax+1; x += _width) {\n",
    "            for (int y = _y; y < jmax+1; y += _height) {\n",
    "                for (int z = _z; z < kmax-1; z += _depth) {\n",
    "                    float r = 0;\n",
    "                    if (x >= 1  && y >= 1 && z >= 1 ) {\n",
    "                            r = V[_index(x+1,y,z)]\n",
    "                                     +V[_index(x-1,y,z)]\n",
    "                                     +V[_index(x,y+1,z)]\n",
    "                                     +V[_index(x,y-1,z)]\n",
    "                                     +V[_index(x,y,z+1)]\n",
    "                                     +V[_index(x,y,z-1)];\n",
    "                            r = r/6.0-V[_index(x,y,z)]/6.0;\n",
    "                    }\n",
    "                    __syncthreads();\n",
    "                    V[_index(x,y,z)]=r;                   \n",
    "                }\n",
    "            }\n",
    "        }\n",
    "    }\n",
    "}\n",
    "__global__ void test(float* V) {\n",
    "    int x = _x, y = _y, z = _z;\n",
    "    V[_index(x,y,z)] = _index(x,y,z);\n",
    "}\n",
    "\"\"\")\n",
    "\n",
    "\n",
    "poisson_ker = ker.get_function(\"poisson\")\n",
    "test_ker    = ker.get_function(\"test\")"
   ]
  },
  {
   "cell_type": "code",
   "execution_count": 74,
   "metadata": {},
   "outputs": [],
   "source": [
    "v = np.zeros((8, 8, 8)).astype(np.float32)\n",
    "v_gpu = gpuarray.to_gpu(v)\n",
    "test_ker(v_gpu, grid=(1,1,1), block=(8,8,8))\n",
    "v = v_gpu.get()\n",
    "for i in range(511):\n",
    "    unravelled_index = np.unravel_index(i, v.shape)\n",
    "    assert i == int(v[unravelled_index])"
   ]
  },
  {
   "cell_type": "code",
   "execution_count": 75,
   "metadata": {},
   "outputs": [],
   "source": [
    "def python_poisson(V, iters, imax, jmax, kmax):\n",
    "    R = V.copy()\n",
    "    for kk in range(iters):\n",
    "        for x in range(1, imax+1):\n",
    "            for y in range(1, jmax+1):\n",
    "                for z in range(1, kmax-1):\n",
    "                    r = V[x+1,y,z]\\\n",
    "                             +V[x-1,y,z]\\\n",
    "                             +V[x,y+1,z]\\\n",
    "                             +V[x,y-1,z]\\\n",
    "                             +V[x,y,z+1]\\\n",
    "                             +V[x,y,z-1]\n",
    "                    r = r/6.0-V[x,y,z]/6.0;\n",
    "                    R[x,y,z]=r\n",
    "        V[:] = R[:]\n",
    "    return R"
   ]
  },
  {
   "cell_type": "code",
   "execution_count": 76,
   "metadata": {},
   "outputs": [],
   "source": [
    "imax = jmax = kmax = 30\n",
    "V_orig = np.random.rand(imax+2, jmax+2, kmax+2).astype(np.float32) * 10\n",
    "V_orig[0] = 0\n",
    "V_orig[:,0,:] = 0\n",
    "V_orig[:,:,0] = 0\n",
    "V_orig[-1] = 0\n",
    "V_orig[:,-1,:] = 0\n",
    "V_orig[:,:,-1] = 0\n",
    "g = np.random.rand(imax+2, jmax+2, kmax+2).astype(np.float32) * 10"
   ]
  },
  {
   "cell_type": "code",
   "execution_count": 77,
   "metadata": {},
   "outputs": [],
   "source": [
    "V = V_orig.copy()\n",
    "V = python_poisson(V, 2, imax, jmax, kmax)"
   ]
  },
  {
   "cell_type": "code",
   "execution_count": 78,
   "metadata": {},
   "outputs": [],
   "source": [
    "V_gpu = gpuarray.to_gpu(V_orig.copy())\n",
    "g_gpu = gpuarray.to_gpu(g)\n",
    "poisson_ker(V_gpu, np.int32(2), np.int32(imax), np.int32(jmax), np.int32(kmax), grid=(1,1,32), block=(32, 32, 1))"
   ]
  },
  {
   "cell_type": "code",
   "execution_count": 79,
   "metadata": {},
   "outputs": [],
   "source": [
    "max_index = np.argmax(np.abs(V_gpu.get() - V))\n",
    "unravelled_index = np.unravel_index(max_index, V.shape)"
   ]
  },
  {
   "cell_type": "code",
   "execution_count": 80,
   "metadata": {},
   "outputs": [
    {
     "name": "stdout",
     "output_type": "stream",
     "text": [
      "1.3628291\n",
      "9.867972\n"
     ]
    },
    {
     "data": {
      "text/plain": [
       "False"
      ]
     },
     "execution_count": 80,
     "metadata": {},
     "output_type": "execute_result"
    }
   ],
   "source": [
    "print(V[unravelled_index])\n",
    "print(V_gpu.get()[unravelled_index])\n",
    "np.allclose(V_gpu.get(), V)"
   ]
  },
  {
   "cell_type": "code",
   "execution_count": 15,
   "metadata": {},
   "outputs": [
    {
     "data": {
      "text/plain": [
       "(27, 15, 16)"
      ]
     },
     "execution_count": 15,
     "metadata": {},
     "output_type": "execute_result"
    }
   ],
   "source": [
    "unravelled_index"
   ]
  },
  {
   "cell_type": "code",
   "execution_count": 173,
   "metadata": {},
   "outputs": [
    {
     "data": {
      "text/plain": [
       "4.425444"
      ]
     },
     "execution_count": 173,
     "metadata": {},
     "output_type": "execute_result"
    }
   ],
   "source": [
    "V_gpu.get()[unravelled_index]"
   ]
  },
  {
   "cell_type": "code",
   "execution_count": 175,
   "metadata": {},
   "outputs": [
    {
     "data": {
      "text/plain": [
       "1.9709917"
      ]
     },
     "execution_count": 175,
     "metadata": {},
     "output_type": "execute_result"
    }
   ],
   "source": [
    "V[unravelled_index]"
   ]
  },
  {
   "cell_type": "code",
   "execution_count": 181,
   "metadata": {},
   "outputs": [
    {
     "data": {
      "text/plain": [
       "739"
      ]
     },
     "execution_count": 181,
     "metadata": {},
     "output_type": "execute_result"
    }
   ],
   "source": [
    "len(np.where(np.abs(V_gpu.get() - V) > 1)[0])"
   ]
  },
  {
   "cell_type": "code",
   "execution_count": null,
   "metadata": {},
   "outputs": [],
   "source": []
  }
 ],
 "metadata": {
  "kernelspec": {
   "display_name": "Python 3",
   "language": "python",
   "name": "python3"
  },
  "language_info": {
   "codemirror_mode": {
    "name": "ipython",
    "version": 3
   },
   "file_extension": ".py",
   "mimetype": "text/x-python",
   "name": "python",
   "nbconvert_exporter": "python",
   "pygments_lexer": "ipython3",
   "version": "3.7.2"
  }
 },
 "nbformat": 4,
 "nbformat_minor": 2
}
