{
 "cells": [
  {
   "cell_type": "code",
   "execution_count": 57,
   "metadata": {},
   "outputs": [
    {
     "name": "stdout",
     "output_type": "stream",
     "text": [
      "The autoreload extension is already loaded. To reload it, use:\n",
      "  %reload_ext autoreload\n"
     ]
    }
   ],
   "source": [
    "from pycuda import gpuarray\n",
    "import pycuda.autoinit\n",
    "import pycuda.driver as drv\n",
    "from pycuda.compiler import SourceModule\n",
    "import numpy as np\n",
    "import matplotlib.pyplot as plt\n",
    "from IPython.display import clear_output\n",
    "%load_ext autoreload\n",
    "%autoreload 1"
   ]
  },
  {
   "cell_type": "code",
   "execution_count": 58,
   "metadata": {},
   "outputs": [],
   "source": [
    "ker = SourceModule(\"\"\"\n",
    "#define _x  ( threadIdx.x + blockIdx.x * blockDim.x )\n",
    "#define _y  ( threadIdx.y + blockIdx.y * blockDim.y )\n",
    "#define _z  ( threadIdx.z + blockIdx.z * blockDim.z )\n",
    "#define _width  ( blockDim.x * gridDim.x )\n",
    "#define _height ( blockDim.y * gridDim.y  )\n",
    "#define _depth  ( blockDim.z * gridDim.z  )\n",
    "#define _xm(x)  ( (x + _width) % _width )\n",
    "#define _ym(y)  ( (y + _height) % _height )\n",
    "#define _zm(z)  ( (z + _depth) % _depth )\n",
    "#define _index(x,y,z)  ( _zm(z)  + _depth * (_ym(y) + _xm(x) * _height) )\n",
    "\n",
    "__global__ void poisson_out_of_place(float* V_new, float* V, int imax, int jmax, int kmax) {\n",
    "    int x = _x, y = _y, z = _z;\n",
    "    float r = 0;\n",
    "    if (x >= 1  && y >= 1 && z >= 1 && x < imax+1 && y < jmax+1 && z < kmax-1) {\n",
    "            r = V[_index(x+1,y,z)]\n",
    "                     +V[_index(x-1,y,z)]\n",
    "                     +V[_index(x,y+1,z)]\n",
    "                     +V[_index(x,y-1,z)]\n",
    "                     +V[_index(x,y,z+1)]\n",
    "                     +V[_index(x,y,z-1)];\n",
    "            r = r/6.0-V[_index(x,y,z)]/6.0;\n",
    "            V_new[_index(x,y,z)]=r;                   \n",
    "    }\n",
    "}\n",
    "__global__ void poisson_in_place(float* V, int iters, int imax, int jmax, int kmax, int oddEven) {\n",
    "    //int x = _x, y = _y, z = _z;\n",
    "    for (int kk=0; kk<iters; kk++) {\n",
    "        for (int x = _x; x < imax+1; x += _width) {\n",
    "            for (int y = _y; y < jmax+1; y += _height) {\n",
    "                for (int z = _z; z < kmax-1; z += _depth) {\n",
    "                    float r = 0;\n",
    "                    if (x >= 1  && y >= 1 && z >= 1 ) {\n",
    "                        if ((x+y+z)%2==oddEven) {\n",
    "                            r = V[_index(x+1,y,z)]\n",
    "                                     +V[_index(x-1,y,z)]\n",
    "                                     +V[_index(x,y+1,z)]\n",
    "                                     +V[_index(x,y-1,z)]\n",
    "                                     +V[_index(x,y,z+1)]\n",
    "                                     +V[_index(x,y,z-1)];\n",
    "                            r = r/6.0-V[_index(x,y,z)]/6.0;\n",
    "                        }\n",
    "                        V[_index(x,y,z)]=r;                   \n",
    "                    }\n",
    "                }\n",
    "            }\n",
    "        }\n",
    "    }\n",
    "}\n",
    "__global__ void test(float* V) {\n",
    "    int x = _x, y = _y, z = _z;\n",
    "    V[_index(x,y,z)] = _index(x,y,z);\n",
    "}\n",
    "\"\"\")\n",
    "\n",
    "\n",
    "poisson_ker_out_of_place = ker.get_function(\"poisson_out_of_place\")\n",
    "poisson_ker_in_place = ker.get_function(\"poisson_in_place\")\n",
    "test_ker    = ker.get_function(\"test\")"
   ]
  },
  {
   "cell_type": "code",
   "execution_count": 59,
   "metadata": {},
   "outputs": [],
   "source": [
    "n1 = n2 = n3 = np.int32(16)\n",
    "v = np.zeros((n1, n2, n3)).astype(np.float32)\n",
    "v_gpu = gpuarray.to_gpu(v)\n",
    "test_ker(v_gpu, n1, n2, n3,  grid=(int(n1)//16,int(n2)//16,int(n3)//4), block=(16,16,4))\n",
    "v = v_gpu.get()\n",
    "for i in range(n1*n2*n3):\n",
    "    unravelled_index = np.unravel_index(i, v.shape)\n",
    "    if i != int(v[unravelled_index]):\n",
    "        print(i, unravelled_index, v[unravelled_index])\n",
    "        break"
   ]
  },
  {
   "cell_type": "code",
   "execution_count": 60,
   "metadata": {},
   "outputs": [],
   "source": [
    "def python_poisson_out_of_place(V, iters, imax, jmax, kmax):\n",
    "    R = V.copy()\n",
    "    for kk in range(iters):\n",
    "        for x in range(1, imax+1):\n",
    "            for y in range(1, jmax+1):\n",
    "                for z in range(1, kmax-1):\n",
    "                    r = V[x+1,y,z]\\\n",
    "                             +V[x-1,y,z]\\\n",
    "                             +V[x,y+1,z]\\\n",
    "                             +V[x,y-1,z]\\\n",
    "                             +V[x,y,z+1]\\\n",
    "                             +V[x,y,z-1]\n",
    "                    r = r/6.0-V[x,y,z]/6.0;\n",
    "                    R[x,y,z]=r\n",
    "        V[:] = R[:]\n",
    "    return R\n",
    "def python_poisson_in_place(V, iters, imax, jmax, kmax):\n",
    "    for kk in range(iters):\n",
    "        for x in range(1, imax+1):\n",
    "            for y in range(1, jmax+1):\n",
    "                for z in range(1, kmax-1):\n",
    "                    r = V[x+1,y,z]\\\n",
    "                             +V[x-1,y,z]\\\n",
    "                             +V[x,y+1,z]\\\n",
    "                             +V[x,y-1,z]\\\n",
    "                             +V[x,y,z+1]\\\n",
    "                             +V[x,y,z-1]\n",
    "                    r = r/6.0-V[x,y,z]/6.0;\n",
    "                    V[x,y,z]=r"
   ]
  },
  {
   "cell_type": "code",
   "execution_count": 61,
   "metadata": {},
   "outputs": [],
   "source": [
    "imax = jmax = kmax = 14\n",
    "V_orig = np.random.rand(imax+2, jmax+2, kmax+2).astype(np.float32) * 10\n",
    "V_orig[0] = 0\n",
    "V_orig[:,0,:] = 0\n",
    "V_orig[:,:,0] = 0\n",
    "V_orig[-1] = 0\n",
    "V_orig[:,-1,:] = 0\n",
    "V_orig[:,:,-1] = 0\n",
    "g = np.random.rand(imax+2, jmax+2, kmax+2).astype(np.float32) * 10\n",
    "n_iters = 1"
   ]
  },
  {
   "cell_type": "markdown",
   "metadata": {},
   "source": [
    "# out of place check"
   ]
  },
  {
   "cell_type": "code",
   "execution_count": 62,
   "metadata": {},
   "outputs": [],
   "source": [
    "V = V_orig.copy()\n",
    "V = python_poisson_out_of_place(V, n_iters, imax, jmax, kmax)"
   ]
  },
  {
   "cell_type": "code",
   "execution_count": 63,
   "metadata": {},
   "outputs": [],
   "source": [
    "V_gpu  = gpuarray.to_gpu(V_orig.copy())\n",
    "V2_gpu = gpuarray.to_gpu(V_orig.copy())\n",
    "g_gpu  = gpuarray.to_gpu(g)\n",
    "for _ in range(n_iters):\n",
    "    poisson_ker_out_of_place(V2_gpu, V_gpu, np.int32(imax), np.int32(jmax), np.int32(kmax), grid=(2,2,2), block=(8, 8, 8))\n",
    "    tmp = V_gpu\n",
    "    V_gpu = V2_gpu\n",
    "    V2_gpu = tmp\n",
    "    #V_gpu[:] = V2_gpu[:]"
   ]
  },
  {
   "cell_type": "code",
   "execution_count": 64,
   "metadata": {},
   "outputs": [
    {
     "data": {
      "text/plain": [
       "(0, 0, 0)"
      ]
     },
     "execution_count": 64,
     "metadata": {},
     "output_type": "execute_result"
    }
   ],
   "source": [
    "max_index = np.argmax(np.abs(V_gpu.get() - V))\n",
    "unravelled_index = np.unravel_index(max_index, V.shape)\n",
    "unravelled_index"
   ]
  },
  {
   "cell_type": "code",
   "execution_count": 65,
   "metadata": {},
   "outputs": [
    {
     "name": "stdout",
     "output_type": "stream",
     "text": [
      "0.0\n",
      "0.0\n"
     ]
    },
    {
     "data": {
      "text/plain": [
       "True"
      ]
     },
     "execution_count": 65,
     "metadata": {},
     "output_type": "execute_result"
    }
   ],
   "source": [
    "print(V[unravelled_index])\n",
    "print(V_gpu.get()[unravelled_index])\n",
    "np.allclose(V_gpu.get(), V)"
   ]
  },
  {
   "cell_type": "markdown",
   "metadata": {},
   "source": [
    "# in place check"
   ]
  },
  {
   "cell_type": "code",
   "execution_count": 15,
   "metadata": {},
   "outputs": [],
   "source": [
    "V = V_orig.copy()\n",
    "python_poisson_in_place(V, n_iters, imax, jmax, kmax)"
   ]
  },
  {
   "cell_type": "code",
   "execution_count": 16,
   "metadata": {},
   "outputs": [],
   "source": [
    "V_gpu  = gpuarray.to_gpu(V_orig.copy())\n",
    "g_gpu  = gpuarray.to_gpu(g)\n",
    "for _ in range(n_iters):\n",
    "    poisson_ker_in_place(V_gpu, np.int32(1), np.int32(imax), np.int32(jmax), np.int32(kmax), np.int32(1), grid=(1,1,32), block=(32, 32, 1))\n",
    "    poisson_ker_in_place(V_gpu, np.int32(1), np.int32(imax), np.int32(jmax), np.int32(kmax), np.int32(0), grid=(1,1,32), block=(32, 32, 1))"
   ]
  },
  {
   "cell_type": "code",
   "execution_count": 17,
   "metadata": {},
   "outputs": [],
   "source": [
    "max_index = np.argmax(np.abs(V_gpu.get() - V))\n",
    "unravelled_index = np.unravel_index(max_index, V.shape)"
   ]
  },
  {
   "cell_type": "code",
   "execution_count": 18,
   "metadata": {},
   "outputs": [
    {
     "name": "stdout",
     "output_type": "stream",
     "text": [
      "2.974674\n",
      "0.0\n"
     ]
    },
    {
     "data": {
      "text/plain": [
       "False"
      ]
     },
     "execution_count": 18,
     "metadata": {},
     "output_type": "execute_result"
    }
   ],
   "source": [
    "print(V[unravelled_index])\n",
    "print(V_gpu.get()[unravelled_index])\n",
    "np.allclose(V_gpu.get(), V)"
   ]
  },
  {
   "cell_type": "code",
   "execution_count": 55,
   "metadata": {},
   "outputs": [
    {
     "data": {
      "text/plain": [
       "(10, 29, 3)"
      ]
     },
     "execution_count": 55,
     "metadata": {},
     "output_type": "execute_result"
    }
   ],
   "source": [
    "unravelled_index"
   ]
  },
  {
   "cell_type": "code",
   "execution_count": 173,
   "metadata": {},
   "outputs": [
    {
     "data": {
      "text/plain": [
       "4.425444"
      ]
     },
     "execution_count": 173,
     "metadata": {},
     "output_type": "execute_result"
    }
   ],
   "source": [
    "V_gpu.get()[unravelled_index]"
   ]
  },
  {
   "cell_type": "code",
   "execution_count": 175,
   "metadata": {},
   "outputs": [
    {
     "data": {
      "text/plain": [
       "1.9709917"
      ]
     },
     "execution_count": 175,
     "metadata": {},
     "output_type": "execute_result"
    }
   ],
   "source": [
    "V[unravelled_index]"
   ]
  },
  {
   "cell_type": "code",
   "execution_count": 181,
   "metadata": {},
   "outputs": [
    {
     "data": {
      "text/plain": [
       "739"
      ]
     },
     "execution_count": 181,
     "metadata": {},
     "output_type": "execute_result"
    }
   ],
   "source": [
    "len(np.where(np.abs(V_gpu.get() - V) > 1)[0])"
   ]
  },
  {
   "cell_type": "code",
   "execution_count": null,
   "metadata": {},
   "outputs": [],
   "source": []
  }
 ],
 "metadata": {
  "kernelspec": {
   "display_name": "Python 3",
   "language": "python",
   "name": "python3"
  },
  "language_info": {
   "codemirror_mode": {
    "name": "ipython",
    "version": 3
   },
   "file_extension": ".py",
   "mimetype": "text/x-python",
   "name": "python",
   "nbconvert_exporter": "python",
   "pygments_lexer": "ipython3",
   "version": "3.7.2"
  }
 },
 "nbformat": 4,
 "nbformat_minor": 2
}
