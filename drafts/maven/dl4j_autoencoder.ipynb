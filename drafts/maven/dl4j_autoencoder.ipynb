{
 "cells": [
  {
   "cell_type": "code",
   "execution_count": 2,
   "metadata": {},
   "outputs": [],
   "source": [
    "%maven org.nd4j:nd4j-cuda-9.0:1.0.0-beta\n",
    "%maven org.deeplearning4j:deeplearning4j-cuda-9.0:1.0.0-beta\n",
    "%maven org.datavec:datavec-api:1.0.0-beta\n",
    "%maven org.knowm.xchart:xchart:3.5.2\n",
    "    \n",
    "%maven org.scala-lang:scala-library:2.13.0-M5-6e0cba7"
   ]
  },
  {
   "cell_type": "code",
   "execution_count": 11,
   "metadata": {},
   "outputs": [],
   "source": [
    "import org.deeplearning4j.datasets.iterator.impl.MnistDataSetIterator;\n",
    "import org.deeplearning4j.nn.api.OptimizationAlgorithm;\n",
    "import org.deeplearning4j.nn.conf.MultiLayerConfiguration;\n",
    "import org.deeplearning4j.nn.conf.NeuralNetConfiguration;\n",
    "import org.deeplearning4j.nn.conf.Updater;\n",
    "import org.deeplearning4j.nn.conf.layers.DenseLayer;\n",
    "import org.deeplearning4j.nn.conf.layers.OutputLayer;\n",
    "import org.deeplearning4j.nn.multilayer.MultiLayerNetwork;\n",
    "import org.deeplearning4j.nn.weights.WeightInit;\n",
    "import org.deeplearning4j.optimize.solvers.StochasticGradientDescent;\n",
    "import org.nd4j.linalg.activations.Activation;\n",
    "import org.nd4j.linalg.dataset.api.iterator.DataSetIterator;\n",
    "import org.nd4j.linalg.lossfunctions.LossFunctions;\n",
    "import org.nd4j.linalg.learning.config.Sgd;\n",
    "import java.util.ArrayList;\n",
    "\n",
    "import org.nd4j.linalg.factory.Nd4j;\n",
    "import org.nd4j.linalg.api.ndarray.INDArray;\n",
    "import org.nd4j.linalg.dataset.SplitTestAndTrain;\n",
    "import org.nd4j.linalg.dataset.DataSet;\n",
    "import org.deeplearning4j.optimize.listeners.ScoreIterationListener ;\n",
    "\n",
    "import java.awt.image.BufferedImage;\n",
    "\n",
    "import org.datavec.image.loader.NativeImageLoader;\n",
    "import org.nd4j.linalg.api.ndarray.INDArray;\n",
    "\n",
    "import javax.swing.*;\n",
    "import java.awt.*;\n",
    "import java.awt.image.BufferedImage;\n",
    "import java.io.File;\n",
    "import java.io.IOException;\n",
    "\n",
    "import org.deeplearning4j.util.ModelSerializer;\n",
    "\n",
    "import java.util.Date;\n",
    "import java.text.SimpleDateFormat;"
   ]
  },
  {
   "cell_type": "code",
   "execution_count": 82,
   "metadata": {},
   "outputs": [],
   "source": [
    "public  static void writeNDArrayToImage(INDArray array, BufferedImage image) {\n",
    "    for (int i=0; i<array.shape()[2]; i++) {\n",
    "        for (int j=0; j<array.shape()[3]; j++) {\n",
    "            int g, r, b;\n",
    "            g = (int) array.getDouble(0, 0, i, j);\n",
    "            r = (int) array.getDouble(0, 1, i, j);\n",
    "            b = (int) array.getDouble(0, 2, i, j);\n",
    "            Color color = new Color(r, g, b);\n",
    "            image.setRGB(j, i, color.getRGB());\n",
    "        }\n",
    "    }\n",
    "}\n",
    "\n",
    "public  static BufferedImage NDArrayToImage(INDArray array) {\n",
    "    /*assume array is w*h*c*/\n",
    "    int W = array.shape()[0];\n",
    "    int H = array.shape()[1];\n",
    "    int C = array.shape()[2];\n",
    "    array.muli(array.gt(0));\n",
    "    array = array.mul(array.lte(255)).add(array.gt(255).mul(255));\n",
    "    if (C == 1) {\n",
    "        INDArray zeros = Nd4j.zerosLike(array);\n",
    "        array = Nd4j.concat(2, Nd4j.concat(2, array, array), array);\n",
    "    }\n",
    "    BufferedImage img = new BufferedImage(H, W, BufferedImage.TYPE_INT_RGB);\n",
    "    for (int i=0; i<W; i++) {\n",
    "        for (int j=0; j<H; j++) {\n",
    "            int g, r, b;\n",
    "            g = (int) array.getDouble(i, j, 0);\n",
    "            r = (int) array.getDouble(i, j, 1);\n",
    "            b = (int) array.getDouble(i, j, 2);\n",
    "            Color color = new Color(r, g, b);\n",
    "            img.setRGB(j, i, color.getRGB());\n",
    "        }\n",
    "    }\n",
    "    return img;\n",
    "}\n"
   ]
  },
  {
   "cell_type": "code",
   "execution_count": 8,
   "metadata": {},
   "outputs": [],
   "source": [
    "private File getMostRecentModel(String beginning) {\n",
    "    File folder = new File(\"./\");\n",
    "    File[] listOfFiles = folder.listFiles();\n",
    "    String mostCurrentFile = \"\";\n",
    "    for (int i = 0; i < listOfFiles.length; i++) {\n",
    "        File currentFile = listOfFiles[i];\n",
    "        if (currentFile.isFile() && currentFile.getName().startsWith(beginning) \n",
    "                                 && currentFile.getName().compareTo(mostCurrentFile) > 0) {\n",
    "        mostCurrentFile = currentFile.getName();\n",
    "        } \n",
    "    }\n",
    "    if (mostCurrentFile.compareTo(\"\") == 0) return null;\n",
    "    return new File(mostCurrentFile);\n",
    "}"
   ]
  },
  {
   "cell_type": "code",
   "execution_count": 5,
   "metadata": {},
   "outputs": [],
   "source": [
    "private static MultiLayerNetwork createNN() {\n",
    "        MultiLayerConfiguration conf = new NeuralNetConfiguration.Builder()\n",
    "            .seed(12345)\n",
    "            .weightInit(WeightInit.XAVIER)\n",
    "            .updater(Updater.ADAGRAD)\n",
    "            .activation(Activation.RELU)\n",
    "            .l2(.0001)\n",
    "            .updater(new Sgd(.05))\n",
    "            .list()\n",
    "            .layer(0, new DenseLayer.Builder().nIn(784).nOut(250).build())\n",
    "            .layer(1, new DenseLayer.Builder().nIn(250).nOut(10).build())\n",
    "            .layer(2, new DenseLayer.Builder().nIn(10).nOut(250).build())\n",
    "            .layer(3, new OutputLayer.Builder().nIn(250).nOut(784)\n",
    "                    .lossFunction(LossFunctions.LossFunction.MSE).build())\n",
    "            .build();\n",
    "        MultiLayerNetwork net = new MultiLayerNetwork(conf);\n",
    "        return net;\n",
    "    }"
   ]
  },
  {
   "cell_type": "code",
   "execution_count": 6,
   "metadata": {},
   "outputs": [
    {
     "name": "stderr",
     "output_type": "stream",
     "text": [
      "[IJava-executor-0] INFO org.nd4j.linalg.factory.Nd4jBackend - Loaded [JCublasBackend] backend\n",
      "[IJava-executor-0] INFO org.nd4j.nativeblas.NativeOpsHolder - Number of threads used for NativeOps: 32\n",
      "[IJava-executor-0] INFO org.nd4j.nativeblas.Nd4jBlas - Number of threads used for BLAS: 0\n",
      "[IJava-executor-0] INFO org.nd4j.linalg.api.ops.executioner.DefaultOpExecutioner - Backend used: [CUDA]; OS: [Linux]\n",
      "[IJava-executor-0] INFO org.nd4j.linalg.api.ops.executioner.DefaultOpExecutioner - Cores: [8]; Memory: [4.9GB];\n",
      "[IJava-executor-0] INFO org.nd4j.linalg.api.ops.executioner.DefaultOpExecutioner - Blas vendor: [CUBLAS]\n",
      "[IJava-executor-0] INFO org.nd4j.linalg.jcublas.ops.executioner.CudaExecutioner - Device Name: [GeForce GT 640]; CC: [3.0]; Total/free memory: [4225040384]\n"
     ]
    }
   ],
   "source": [
    "Random rnd = new Random(12345);\n",
    "DataSetIterator dsi = new MnistDataSetIterator(100, 50000, false);\n",
    "ArrayList<INDArray> featuresTrain = new ArrayList<INDArray>();\n",
    "ArrayList<INDArray> featuresTest = new ArrayList<INDArray>();\n",
    "ArrayList<INDArray> labelsTest = new ArrayList<INDArray>();\n",
    "\n",
    "while (dsi.hasNext()) {\n",
    "    DataSet ds = dsi.next();\n",
    "    SplitTestAndTrain split = ds.splitTestAndTrain(80, rnd);\n",
    "    featuresTrain.add(split.getTrain().getFeatures());\n",
    "    featuresTest.add(split.getTest().getFeatures());\n",
    "    labelsTest.add(split.getTest().getLabels().argMax(1));\n",
    "}"
   ]
  },
  {
   "cell_type": "code",
   "execution_count": 65,
   "metadata": {},
   "outputs": [
    {
     "name": "stdout",
     "output_type": "stream",
     "text": [
      "Loading model: mardas.model-2018-55-13-02-55-01\n"
     ]
    }
   ],
   "source": [
    "File f = getMostRecentModel(\"mardas.model\");\n",
    "MultiLayerNetwork net;\n",
    "if (f != null) {\n",
    "    System.out.println(\"Loading model: \" + f);\n",
    "    net = ModelSerializer.restoreMultiLayerNetwork(f, true);\n",
    "    net.setListeners(new ScoreIterationListener(30));\n",
    "    net.init();\n",
    "} else {\n",
    "    System.out.println(\"Creating a new model\");\n",
    "    net = createNN();\n",
    "}"
   ]
  },
  {
   "cell_type": "code",
   "execution_count": 66,
   "metadata": {},
   "outputs": [
    {
     "name": "stderr",
     "output_type": "stream",
     "text": [
      "[IJava-executor-8] INFO org.deeplearning4j.optimize.listeners.ScoreIterationListener - Score at iteration 9660 is 0.06976469037351764\n",
      "[IJava-executor-8] INFO org.deeplearning4j.optimize.listeners.ScoreIterationListener - Score at iteration 9690 is 0.07140591251406204\n",
      "[IJava-executor-8] INFO org.deeplearning4j.optimize.listeners.ScoreIterationListener - Score at iteration 9720 is 0.057002746647611666\n",
      "[IJava-executor-8] INFO org.deeplearning4j.optimize.listeners.ScoreIterationListener - Score at iteration 9750 is 0.07190075241213548\n",
      "[IJava-executor-8] INFO org.deeplearning4j.optimize.listeners.ScoreIterationListener - Score at iteration 9780 is 0.06681300507139507\n",
      "[IJava-executor-8] INFO org.deeplearning4j.optimize.listeners.ScoreIterationListener - Score at iteration 9810 is 0.06719703362791041\n",
      "[IJava-executor-8] INFO org.deeplearning4j.optimize.listeners.ScoreIterationListener - Score at iteration 9840 is 0.06788123878811476\n",
      "[IJava-executor-8] INFO org.deeplearning4j.optimize.listeners.ScoreIterationListener - Score at iteration 9870 is 0.061383717530457904\n",
      "[IJava-executor-8] INFO org.deeplearning4j.optimize.listeners.ScoreIterationListener - Score at iteration 9900 is 0.06367773548181738\n",
      "[IJava-executor-8] INFO org.deeplearning4j.optimize.listeners.ScoreIterationListener - Score at iteration 9930 is 0.06454574727090553\n",
      "[IJava-executor-8] INFO org.deeplearning4j.optimize.listeners.ScoreIterationListener - Score at iteration 9960 is 0.05707808685347404\n",
      "[IJava-executor-8] INFO org.deeplearning4j.optimize.listeners.ScoreIterationListener - Score at iteration 9990 is 0.06398003963281637\n",
      "[IJava-executor-8] INFO org.deeplearning4j.optimize.listeners.ScoreIterationListener - Score at iteration 10020 is 0.07518832785209026\n",
      "[IJava-executor-8] INFO org.deeplearning4j.optimize.listeners.ScoreIterationListener - Score at iteration 10050 is 0.06129201820685577\n",
      "[IJava-executor-8] INFO org.deeplearning4j.optimize.listeners.ScoreIterationListener - Score at iteration 10080 is 0.0701442426298057\n",
      "[IJava-executor-8] INFO org.deeplearning4j.optimize.listeners.ScoreIterationListener - Score at iteration 10110 is 0.06713744029867019\n",
      "[IJava-executor-8] INFO org.deeplearning4j.optimize.listeners.ScoreIterationListener - Score at iteration 10140 is 0.06888314480928692\n",
      "[IJava-executor-8] INFO org.deeplearning4j.optimize.listeners.ScoreIterationListener - Score at iteration 10170 is 0.06422482571226687\n",
      "[IJava-executor-8] INFO org.deeplearning4j.optimize.listeners.ScoreIterationListener - Score at iteration 10200 is 0.07883850363953025\n",
      "[IJava-executor-8] INFO org.deeplearning4j.optimize.listeners.ScoreIterationListener - Score at iteration 10230 is 0.06254244015580172\n",
      "[IJava-executor-8] INFO org.deeplearning4j.optimize.listeners.ScoreIterationListener - Score at iteration 10260 is 0.0647982479040516\n",
      "[IJava-executor-8] INFO org.deeplearning4j.optimize.listeners.ScoreIterationListener - Score at iteration 10290 is 0.06275911393326941\n",
      "[IJava-executor-8] INFO org.deeplearning4j.optimize.listeners.ScoreIterationListener - Score at iteration 10320 is 0.06519694127088511\n",
      "[IJava-executor-8] INFO org.deeplearning4j.optimize.listeners.ScoreIterationListener - Score at iteration 10350 is 0.0718788857694502\n",
      "[IJava-executor-8] INFO org.deeplearning4j.optimize.listeners.ScoreIterationListener - Score at iteration 10380 is 0.0745271855591027\n",
      "[IJava-executor-8] INFO org.deeplearning4j.optimize.listeners.ScoreIterationListener - Score at iteration 10410 is 0.06474418240664864\n",
      "[IJava-executor-8] INFO org.deeplearning4j.optimize.listeners.ScoreIterationListener - Score at iteration 10440 is 0.06491253162720645\n",
      "[IJava-executor-8] INFO org.deeplearning4j.optimize.listeners.ScoreIterationListener - Score at iteration 10470 is 0.06325638816454879\n",
      "[IJava-executor-8] INFO org.deeplearning4j.optimize.listeners.ScoreIterationListener - Score at iteration 10500 is 0.06641559392150714\n",
      "[IJava-executor-8] INFO org.deeplearning4j.optimize.listeners.ScoreIterationListener - Score at iteration 10530 is 0.07241270025372326\n",
      "[IJava-executor-8] INFO org.deeplearning4j.optimize.listeners.ScoreIterationListener - Score at iteration 10560 is 0.06103176930389349\n",
      "[IJava-executor-8] INFO org.deeplearning4j.optimize.listeners.ScoreIterationListener - Score at iteration 10590 is 0.05981145923483121\n",
      "[IJava-executor-8] INFO org.deeplearning4j.optimize.listeners.ScoreIterationListener - Score at iteration 10620 is 0.0675035145120679\n",
      "[IJava-executor-8] INFO org.deeplearning4j.optimize.listeners.ScoreIterationListener - Score at iteration 10650 is 0.06512759735461765\n",
      "[IJava-executor-8] INFO org.deeplearning4j.optimize.listeners.ScoreIterationListener - Score at iteration 10680 is 0.06940143770014337\n",
      "[IJava-executor-8] INFO org.deeplearning4j.optimize.listeners.ScoreIterationListener - Score at iteration 10710 is 0.06486808535230246\n",
      "[IJava-executor-8] INFO org.deeplearning4j.optimize.listeners.ScoreIterationListener - Score at iteration 10740 is 0.06922241752826665\n",
      "[IJava-executor-8] INFO org.deeplearning4j.optimize.listeners.ScoreIterationListener - Score at iteration 10770 is 0.06073918967095808\n",
      "[IJava-executor-8] INFO org.deeplearning4j.optimize.listeners.ScoreIterationListener - Score at iteration 10800 is 0.07370861212750691\n",
      "[IJava-executor-8] INFO org.deeplearning4j.optimize.listeners.ScoreIterationListener - Score at iteration 10830 is 0.05971231837490334\n",
      "[IJava-executor-8] INFO org.deeplearning4j.optimize.listeners.ScoreIterationListener - Score at iteration 10860 is 0.06334301810547202\n",
      "[IJava-executor-8] INFO org.deeplearning4j.optimize.listeners.ScoreIterationListener - Score at iteration 10890 is 0.06350136252036162\n",
      "[IJava-executor-8] INFO org.deeplearning4j.optimize.listeners.ScoreIterationListener - Score at iteration 10920 is 0.06694112469742354\n",
      "[IJava-executor-8] INFO org.deeplearning4j.optimize.listeners.ScoreIterationListener - Score at iteration 10950 is 0.059400324804231505\n",
      "[IJava-executor-8] INFO org.deeplearning4j.optimize.listeners.ScoreIterationListener - Score at iteration 10980 is 0.05813745653940133\n",
      "[IJava-executor-8] INFO org.deeplearning4j.optimize.listeners.ScoreIterationListener - Score at iteration 11010 is 0.0652226617295285\n",
      "[IJava-executor-8] INFO org.deeplearning4j.optimize.listeners.ScoreIterationListener - Score at iteration 11040 is 0.06361331768201947\n",
      "[IJava-executor-8] INFO org.deeplearning4j.optimize.listeners.ScoreIterationListener - Score at iteration 11070 is 0.053911545802953\n",
      "[IJava-executor-8] INFO org.deeplearning4j.optimize.listeners.ScoreIterationListener - Score at iteration 11100 is 0.06388731670282954\n",
      "[IJava-executor-8] INFO org.deeplearning4j.optimize.listeners.ScoreIterationListener - Score at iteration 11130 is 0.07070815318339758\n",
      "[IJava-executor-8] INFO org.deeplearning4j.optimize.listeners.ScoreIterationListener - Score at iteration 11160 is 0.06625665379965681\n",
      "[IJava-executor-8] INFO org.deeplearning4j.optimize.listeners.ScoreIterationListener - Score at iteration 11190 is 0.06896535757116637\n",
      "[IJava-executor-8] INFO org.deeplearning4j.optimize.listeners.ScoreIterationListener - Score at iteration 11220 is 0.05515431863131416\n",
      "[IJava-executor-8] INFO org.deeplearning4j.optimize.listeners.ScoreIterationListener - Score at iteration 11250 is 0.06922787523030673\n",
      "[IJava-executor-8] INFO org.deeplearning4j.optimize.listeners.ScoreIterationListener - Score at iteration 11280 is 0.06461928188049004\n",
      "[IJava-executor-8] INFO org.deeplearning4j.optimize.listeners.ScoreIterationListener - Score at iteration 11310 is 0.06476172416424453\n",
      "[IJava-executor-8] INFO org.deeplearning4j.optimize.listeners.ScoreIterationListener - Score at iteration 11340 is 0.06566969739534659\n",
      "[IJava-executor-8] INFO org.deeplearning4j.optimize.listeners.ScoreIterationListener - Score at iteration 11370 is 0.05915117650076744\n",
      "[IJava-executor-8] INFO org.deeplearning4j.optimize.listeners.ScoreIterationListener - Score at iteration 11400 is 0.060543747291415526\n",
      "[IJava-executor-8] INFO org.deeplearning4j.optimize.listeners.ScoreIterationListener - Score at iteration 11430 is 0.06267196059422098\n"
     ]
    },
    {
     "name": "stderr",
     "output_type": "stream",
     "text": [
      "[IJava-executor-8] INFO org.deeplearning4j.optimize.listeners.ScoreIterationListener - Score at iteration 11460 is 0.05512815886992588\n",
      "[IJava-executor-8] INFO org.deeplearning4j.optimize.listeners.ScoreIterationListener - Score at iteration 11490 is 0.0616365254087239\n",
      "[IJava-executor-8] INFO org.deeplearning4j.optimize.listeners.ScoreIterationListener - Score at iteration 11520 is 0.07223458332050597\n",
      "[IJava-executor-8] INFO org.deeplearning4j.optimize.listeners.ScoreIterationListener - Score at iteration 11550 is 0.05947325520039466\n",
      "[IJava-executor-8] INFO org.deeplearning4j.optimize.listeners.ScoreIterationListener - Score at iteration 11580 is 0.06766770205205022\n",
      "[IJava-executor-8] INFO org.deeplearning4j.optimize.listeners.ScoreIterationListener - Score at iteration 11610 is 0.06486048393882729\n",
      "[IJava-executor-8] INFO org.deeplearning4j.optimize.listeners.ScoreIterationListener - Score at iteration 11640 is 0.0666843324446714\n",
      "[IJava-executor-8] INFO org.deeplearning4j.optimize.listeners.ScoreIterationListener - Score at iteration 11670 is 0.062020222248094094\n",
      "[IJava-executor-8] INFO org.deeplearning4j.optimize.listeners.ScoreIterationListener - Score at iteration 11700 is 0.07697959874993368\n",
      "[IJava-executor-8] INFO org.deeplearning4j.optimize.listeners.ScoreIterationListener - Score at iteration 11730 is 0.06050077731097211\n",
      "[IJava-executor-8] INFO org.deeplearning4j.optimize.listeners.ScoreIterationListener - Score at iteration 11760 is 0.06277428519722664\n",
      "[IJava-executor-8] INFO org.deeplearning4j.optimize.listeners.ScoreIterationListener - Score at iteration 11790 is 0.06112623586966961\n",
      "[IJava-executor-8] INFO org.deeplearning4j.optimize.listeners.ScoreIterationListener - Score at iteration 11820 is 0.06334422141591972\n",
      "[IJava-executor-8] INFO org.deeplearning4j.optimize.listeners.ScoreIterationListener - Score at iteration 11850 is 0.0696088124023963\n",
      "[IJava-executor-8] INFO org.deeplearning4j.optimize.listeners.ScoreIterationListener - Score at iteration 11880 is 0.07230578177292961\n",
      "[IJava-executor-8] INFO org.deeplearning4j.optimize.listeners.ScoreIterationListener - Score at iteration 11910 is 0.06294274655906396\n",
      "[IJava-executor-8] INFO org.deeplearning4j.optimize.listeners.ScoreIterationListener - Score at iteration 11940 is 0.0631998786677809\n",
      "[IJava-executor-8] INFO org.deeplearning4j.optimize.listeners.ScoreIterationListener - Score at iteration 11970 is 0.06199738616312519\n",
      "[IJava-executor-8] INFO org.deeplearning4j.optimize.listeners.ScoreIterationListener - Score at iteration 12000 is 0.06453950751003937\n",
      "[IJava-executor-8] INFO org.deeplearning4j.optimize.listeners.ScoreIterationListener - Score at iteration 12030 is 0.07047999414073265\n",
      "[IJava-executor-8] INFO org.deeplearning4j.optimize.listeners.ScoreIterationListener - Score at iteration 12060 is 0.059432725846434595\n",
      "[IJava-executor-8] INFO org.deeplearning4j.optimize.listeners.ScoreIterationListener - Score at iteration 12090 is 0.05832088342609816\n",
      "[IJava-executor-8] INFO org.deeplearning4j.optimize.listeners.ScoreIterationListener - Score at iteration 12120 is 0.06582579554759302\n",
      "[IJava-executor-8] INFO org.deeplearning4j.optimize.listeners.ScoreIterationListener - Score at iteration 12150 is 0.0635005689498847\n",
      "[IJava-executor-8] INFO org.deeplearning4j.optimize.listeners.ScoreIterationListener - Score at iteration 12180 is 0.06795155339654264\n",
      "[IJava-executor-8] INFO org.deeplearning4j.optimize.listeners.ScoreIterationListener - Score at iteration 12210 is 0.063417923262089\n",
      "[IJava-executor-8] INFO org.deeplearning4j.optimize.listeners.ScoreIterationListener - Score at iteration 12240 is 0.06761696790555023\n",
      "[IJava-executor-8] INFO org.deeplearning4j.optimize.listeners.ScoreIterationListener - Score at iteration 12270 is 0.05903233740995316\n",
      "[IJava-executor-8] INFO org.deeplearning4j.optimize.listeners.ScoreIterationListener - Score at iteration 12300 is 0.07274212803682437\n",
      "[IJava-executor-8] INFO org.deeplearning4j.optimize.listeners.ScoreIterationListener - Score at iteration 12330 is 0.058708211618382175\n",
      "[IJava-executor-8] INFO org.deeplearning4j.optimize.listeners.ScoreIterationListener - Score at iteration 12360 is 0.06218525931375547\n",
      "[IJava-executor-8] INFO org.deeplearning4j.optimize.listeners.ScoreIterationListener - Score at iteration 12390 is 0.06203912685661709\n",
      "[IJava-executor-8] INFO org.deeplearning4j.optimize.listeners.ScoreIterationListener - Score at iteration 12420 is 0.06573204338466268\n",
      "[IJava-executor-8] INFO org.deeplearning4j.optimize.listeners.ScoreIterationListener - Score at iteration 12450 is 0.05815015614659961\n",
      "[IJava-executor-8] INFO org.deeplearning4j.optimize.listeners.ScoreIterationListener - Score at iteration 12480 is 0.05697691998465356\n",
      "[IJava-executor-8] INFO org.deeplearning4j.optimize.listeners.ScoreIterationListener - Score at iteration 12510 is 0.06379785073291824\n",
      "[IJava-executor-8] INFO org.deeplearning4j.optimize.listeners.ScoreIterationListener - Score at iteration 12540 is 0.06226186797724651\n",
      "[IJava-executor-8] INFO org.deeplearning4j.optimize.listeners.ScoreIterationListener - Score at iteration 12570 is 0.053142952757442\n",
      "[IJava-executor-8] INFO org.deeplearning4j.optimize.listeners.ScoreIterationListener - Score at iteration 12600 is 0.0626633876104121\n",
      "[IJava-executor-8] INFO org.deeplearning4j.optimize.listeners.ScoreIterationListener - Score at iteration 12630 is 0.06929530242424484\n",
      "[IJava-executor-8] INFO org.deeplearning4j.optimize.listeners.ScoreIterationListener - Score at iteration 12660 is 0.0646818092863222\n",
      "[IJava-executor-8] INFO org.deeplearning4j.optimize.listeners.ScoreIterationListener - Score at iteration 12690 is 0.06767611570133192\n",
      "[IJava-executor-8] INFO org.deeplearning4j.optimize.listeners.ScoreIterationListener - Score at iteration 12720 is 0.05416919275863128\n",
      "[IJava-executor-8] INFO org.deeplearning4j.optimize.listeners.ScoreIterationListener - Score at iteration 12750 is 0.0678154709821456\n",
      "[IJava-executor-8] INFO org.deeplearning4j.optimize.listeners.ScoreIterationListener - Score at iteration 12780 is 0.06347633378859771\n",
      "[IJava-executor-8] INFO org.deeplearning4j.optimize.listeners.ScoreIterationListener - Score at iteration 12810 is 0.06371071286992147\n",
      "[IJava-executor-8] INFO org.deeplearning4j.optimize.listeners.ScoreIterationListener - Score at iteration 12840 is 0.06445972546062528\n",
      "[IJava-executor-8] INFO org.deeplearning4j.optimize.listeners.ScoreIterationListener - Score at iteration 12870 is 0.05807077058517104\n",
      "[IJava-executor-8] INFO org.deeplearning4j.optimize.listeners.ScoreIterationListener - Score at iteration 12900 is 0.05947549648296359\n",
      "[IJava-executor-8] INFO org.deeplearning4j.optimize.listeners.ScoreIterationListener - Score at iteration 12930 is 0.06164124475116939\n",
      "[IJava-executor-8] INFO org.deeplearning4j.optimize.listeners.ScoreIterationListener - Score at iteration 12960 is 0.05411565890210941\n",
      "[IJava-executor-8] INFO org.deeplearning4j.optimize.listeners.ScoreIterationListener - Score at iteration 12990 is 0.060625503389367154\n",
      "[IJava-executor-8] INFO org.deeplearning4j.optimize.listeners.ScoreIterationListener - Score at iteration 13020 is 0.07086019082581099\n",
      "[IJava-executor-8] INFO org.deeplearning4j.optimize.listeners.ScoreIterationListener - Score at iteration 13050 is 0.05844504877738967\n",
      "[IJava-executor-8] INFO org.deeplearning4j.optimize.listeners.ScoreIterationListener - Score at iteration 13080 is 0.06632359050685234\n",
      "[IJava-executor-8] INFO org.deeplearning4j.optimize.listeners.ScoreIterationListener - Score at iteration 13110 is 0.06352229583833388\n",
      "[IJava-executor-8] INFO org.deeplearning4j.optimize.listeners.ScoreIterationListener - Score at iteration 13140 is 0.06525719851001904\n",
      "[IJava-executor-8] INFO org.deeplearning4j.optimize.listeners.ScoreIterationListener - Score at iteration 13170 is 0.06079336613632933\n",
      "[IJava-executor-8] INFO org.deeplearning4j.optimize.listeners.ScoreIterationListener - Score at iteration 13200 is 0.07579724097675192\n",
      "[IJava-executor-8] INFO org.deeplearning4j.optimize.listeners.ScoreIterationListener - Score at iteration 13230 is 0.059519881184226645\n"
     ]
    },
    {
     "name": "stderr",
     "output_type": "stream",
     "text": [
      "[IJava-executor-8] INFO org.deeplearning4j.optimize.listeners.ScoreIterationListener - Score at iteration 13260 is 0.061649266053263804\n",
      "[IJava-executor-8] INFO org.deeplearning4j.optimize.listeners.ScoreIterationListener - Score at iteration 13290 is 0.060126184881541776\n",
      "[IJava-executor-8] INFO org.deeplearning4j.optimize.listeners.ScoreIterationListener - Score at iteration 13320 is 0.06226385080361724\n",
      "[IJava-executor-8] INFO org.deeplearning4j.optimize.listeners.ScoreIterationListener - Score at iteration 13350 is 0.06817278632033855\n",
      "[IJava-executor-8] INFO org.deeplearning4j.optimize.listeners.ScoreIterationListener - Score at iteration 13380 is 0.07085313290693993\n",
      "[IJava-executor-8] INFO org.deeplearning4j.optimize.listeners.ScoreIterationListener - Score at iteration 13410 is 0.06187817939421324\n",
      "[IJava-executor-8] INFO org.deeplearning4j.optimize.listeners.ScoreIterationListener - Score at iteration 13440 is 0.06223691351345149\n",
      "[IJava-executor-8] INFO org.deeplearning4j.optimize.listeners.ScoreIterationListener - Score at iteration 13470 is 0.061118378232096635\n",
      "[IJava-executor-8] INFO org.deeplearning4j.optimize.listeners.ScoreIterationListener - Score at iteration 13500 is 0.06345238310322741\n",
      "[IJava-executor-8] INFO org.deeplearning4j.optimize.listeners.ScoreIterationListener - Score at iteration 13530 is 0.0693387502828344\n",
      "[IJava-executor-8] INFO org.deeplearning4j.optimize.listeners.ScoreIterationListener - Score at iteration 13560 is 0.058389136787870576\n",
      "[IJava-executor-8] INFO org.deeplearning4j.optimize.listeners.ScoreIterationListener - Score at iteration 13590 is 0.057354431637544515\n",
      "[IJava-executor-8] INFO org.deeplearning4j.optimize.listeners.ScoreIterationListener - Score at iteration 13620 is 0.06451442049042835\n",
      "[IJava-executor-8] INFO org.deeplearning4j.optimize.listeners.ScoreIterationListener - Score at iteration 13650 is 0.06243038665549144\n",
      "[IJava-executor-8] INFO org.deeplearning4j.optimize.listeners.ScoreIterationListener - Score at iteration 13680 is 0.06690290743240859\n",
      "[IJava-executor-8] INFO org.deeplearning4j.optimize.listeners.ScoreIterationListener - Score at iteration 13710 is 0.062473624062278\n",
      "[IJava-executor-8] INFO org.deeplearning4j.optimize.listeners.ScoreIterationListener - Score at iteration 13740 is 0.06658986932226232\n",
      "[IJava-executor-8] INFO org.deeplearning4j.optimize.listeners.ScoreIterationListener - Score at iteration 13770 is 0.05791104594374902\n",
      "[IJava-executor-8] INFO org.deeplearning4j.optimize.listeners.ScoreIterationListener - Score at iteration 13800 is 0.07188626066010287\n",
      "[IJava-executor-8] INFO org.deeplearning4j.optimize.listeners.ScoreIterationListener - Score at iteration 13830 is 0.057801557794004255\n",
      "[IJava-executor-8] INFO org.deeplearning4j.optimize.listeners.ScoreIterationListener - Score at iteration 13860 is 0.06111290302661303\n",
      "[IJava-executor-8] INFO org.deeplearning4j.optimize.listeners.ScoreIterationListener - Score at iteration 13890 is 0.060967307080450076\n",
      "[IJava-executor-8] INFO org.deeplearning4j.optimize.listeners.ScoreIterationListener - Score at iteration 13920 is 0.0645483317228576\n",
      "[IJava-executor-8] INFO org.deeplearning4j.optimize.listeners.ScoreIterationListener - Score at iteration 13950 is 0.057145349045578865\n",
      "[IJava-executor-8] INFO org.deeplearning4j.optimize.listeners.ScoreIterationListener - Score at iteration 13980 is 0.05588480948888134\n",
      "[IJava-executor-8] INFO org.deeplearning4j.optimize.listeners.ScoreIterationListener - Score at iteration 14010 is 0.06236176219264124\n",
      "[IJava-executor-8] INFO org.deeplearning4j.optimize.listeners.ScoreIterationListener - Score at iteration 14040 is 0.06106481559150306\n",
      "[IJava-executor-8] INFO org.deeplearning4j.optimize.listeners.ScoreIterationListener - Score at iteration 14070 is 0.052372821348446466\n",
      "[IJava-executor-8] INFO org.deeplearning4j.optimize.listeners.ScoreIterationListener - Score at iteration 14100 is 0.06138616455537908\n",
      "[IJava-executor-8] INFO org.deeplearning4j.optimize.listeners.ScoreIterationListener - Score at iteration 14130 is 0.06781308871628283\n",
      "[IJava-executor-8] INFO org.deeplearning4j.optimize.listeners.ScoreIterationListener - Score at iteration 14160 is 0.06319359949678152\n",
      "[IJava-executor-8] INFO org.deeplearning4j.optimize.listeners.ScoreIterationListener - Score at iteration 14190 is 0.06645968186042932\n",
      "[IJava-executor-8] INFO org.deeplearning4j.optimize.listeners.ScoreIterationListener - Score at iteration 14220 is 0.053283371164646785\n",
      "[IJava-executor-8] INFO org.deeplearning4j.optimize.listeners.ScoreIterationListener - Score at iteration 14250 is 0.06643215314579097\n",
      "[IJava-executor-8] INFO org.deeplearning4j.optimize.listeners.ScoreIterationListener - Score at iteration 14280 is 0.062311856985097815\n",
      "[IJava-executor-8] INFO org.deeplearning4j.optimize.listeners.ScoreIterationListener - Score at iteration 14310 is 0.06272580987180795\n",
      "[IJava-executor-8] INFO org.deeplearning4j.optimize.listeners.ScoreIterationListener - Score at iteration 14340 is 0.06310005917731529\n",
      "[IJava-executor-8] INFO org.deeplearning4j.optimize.listeners.ScoreIterationListener - Score at iteration 14370 is 0.05685534563803164\n",
      "[IJava-executor-8] INFO org.deeplearning4j.optimize.listeners.ScoreIterationListener - Score at iteration 14400 is 0.05807017668136244\n",
      "[IJava-executor-8] INFO org.deeplearning4j.optimize.listeners.ScoreIterationListener - Score at iteration 14430 is 0.06045950075700103\n",
      "[IJava-executor-8] INFO org.deeplearning4j.optimize.listeners.ScoreIterationListener - Score at iteration 14460 is 0.05302855723140165\n",
      "[IJava-executor-8] INFO org.deeplearning4j.optimize.listeners.ScoreIterationListener - Score at iteration 14490 is 0.05884984401760714\n",
      "[IJava-executor-8] INFO org.deeplearning4j.optimize.listeners.ScoreIterationListener - Score at iteration 14520 is 0.06873611232712412\n",
      "[IJava-executor-8] INFO org.deeplearning4j.optimize.listeners.ScoreIterationListener - Score at iteration 14550 is 0.05729751609627428\n",
      "[IJava-executor-8] INFO org.deeplearning4j.optimize.listeners.ScoreIterationListener - Score at iteration 14580 is 0.06472976788112658\n",
      "[IJava-executor-8] INFO org.deeplearning4j.optimize.listeners.ScoreIterationListener - Score at iteration 14610 is 0.062009814969444445\n",
      "[IJava-executor-8] INFO org.deeplearning4j.optimize.listeners.ScoreIterationListener - Score at iteration 14640 is 0.06363324953076985\n",
      "[IJava-executor-8] INFO org.deeplearning4j.optimize.listeners.ScoreIterationListener - Score at iteration 14670 is 0.059207590163779744\n",
      "[IJava-executor-8] INFO org.deeplearning4j.optimize.listeners.ScoreIterationListener - Score at iteration 14700 is 0.07432787479151552\n",
      "[IJava-executor-8] INFO org.deeplearning4j.optimize.listeners.ScoreIterationListener - Score at iteration 14730 is 0.0580805645221779\n",
      "[IJava-executor-8] INFO org.deeplearning4j.optimize.listeners.ScoreIterationListener - Score at iteration 14760 is 0.06029040337136725\n",
      "[IJava-executor-8] INFO org.deeplearning4j.optimize.listeners.ScoreIterationListener - Score at iteration 14790 is 0.05875217472552101\n",
      "[IJava-executor-8] INFO org.deeplearning4j.optimize.listeners.ScoreIterationListener - Score at iteration 14820 is 0.06097587314853403\n",
      "[IJava-executor-8] INFO org.deeplearning4j.optimize.listeners.ScoreIterationListener - Score at iteration 14850 is 0.06656563474434908\n",
      "[IJava-executor-8] INFO org.deeplearning4j.optimize.listeners.ScoreIterationListener - Score at iteration 14880 is 0.06901618767903618\n",
      "[IJava-executor-8] INFO org.deeplearning4j.optimize.listeners.ScoreIterationListener - Score at iteration 14910 is 0.06047520559953736\n",
      "[IJava-executor-8] INFO org.deeplearning4j.optimize.listeners.ScoreIterationListener - Score at iteration 14940 is 0.06089383389425829\n",
      "[IJava-executor-8] INFO org.deeplearning4j.optimize.listeners.ScoreIterationListener - Score at iteration 14970 is 0.05995396566463734\n",
      "[IJava-executor-8] INFO org.deeplearning4j.optimize.listeners.ScoreIterationListener - Score at iteration 15000 is 0.062095954279684465\n",
      "[IJava-executor-8] INFO org.deeplearning4j.optimize.listeners.ScoreIterationListener - Score at iteration 15030 is 0.06768386341652911\n"
     ]
    },
    {
     "name": "stderr",
     "output_type": "stream",
     "text": [
      "[IJava-executor-8] INFO org.deeplearning4j.optimize.listeners.ScoreIterationListener - Score at iteration 15060 is 0.05703634978952891\n",
      "[IJava-executor-8] INFO org.deeplearning4j.optimize.listeners.ScoreIterationListener - Score at iteration 15090 is 0.0556678540721683\n",
      "[IJava-executor-8] INFO org.deeplearning4j.optimize.listeners.ScoreIterationListener - Score at iteration 15120 is 0.06298817244871857\n",
      "[IJava-executor-8] INFO org.deeplearning4j.optimize.listeners.ScoreIterationListener - Score at iteration 15150 is 0.061072214343276865\n",
      "[IJava-executor-8] INFO org.deeplearning4j.optimize.listeners.ScoreIterationListener - Score at iteration 15180 is 0.06547965880719209\n",
      "[IJava-executor-8] INFO org.deeplearning4j.optimize.listeners.ScoreIterationListener - Score at iteration 15210 is 0.060932084356539\n",
      "[IJava-executor-8] INFO org.deeplearning4j.optimize.listeners.ScoreIterationListener - Score at iteration 15240 is 0.06494800230299688\n",
      "[IJava-executor-8] INFO org.deeplearning4j.optimize.listeners.ScoreIterationListener - Score at iteration 15270 is 0.05647789655782457\n",
      "[IJava-executor-8] INFO org.deeplearning4j.optimize.listeners.ScoreIterationListener - Score at iteration 15300 is 0.07062406304410537\n",
      "[IJava-executor-8] INFO org.deeplearning4j.optimize.listeners.ScoreIterationListener - Score at iteration 15330 is 0.05652341178726241\n",
      "[IJava-executor-8] INFO org.deeplearning4j.optimize.listeners.ScoreIterationListener - Score at iteration 15360 is 0.05959236703068706\n",
      "[IJava-executor-8] INFO org.deeplearning4j.optimize.listeners.ScoreIterationListener - Score at iteration 15390 is 0.05991493850846008\n",
      "[IJava-executor-8] INFO org.deeplearning4j.optimize.listeners.ScoreIterationListener - Score at iteration 15420 is 0.06301069757184993\n",
      "[IJava-executor-8] INFO org.deeplearning4j.optimize.listeners.ScoreIterationListener - Score at iteration 15450 is 0.05597760328162613\n",
      "[IJava-executor-8] INFO org.deeplearning4j.optimize.listeners.ScoreIterationListener - Score at iteration 15480 is 0.05494247708756235\n",
      "[IJava-executor-8] INFO org.deeplearning4j.optimize.listeners.ScoreIterationListener - Score at iteration 15510 is 0.061307444785655654\n",
      "[IJava-executor-8] INFO org.deeplearning4j.optimize.listeners.ScoreIterationListener - Score at iteration 15540 is 0.05981200540674978\n",
      "[IJava-executor-8] INFO org.deeplearning4j.optimize.listeners.ScoreIterationListener - Score at iteration 15570 is 0.051561212371461385\n",
      "[IJava-executor-8] INFO org.deeplearning4j.optimize.listeners.ScoreIterationListener - Score at iteration 15600 is 0.06040833634946776\n",
      "[IJava-executor-8] INFO org.deeplearning4j.optimize.listeners.ScoreIterationListener - Score at iteration 15630 is 0.06655077763881781\n",
      "[IJava-executor-8] INFO org.deeplearning4j.optimize.listeners.ScoreIterationListener - Score at iteration 15660 is 0.061760966518433505\n",
      "[IJava-executor-8] INFO org.deeplearning4j.optimize.listeners.ScoreIterationListener - Score at iteration 15690 is 0.06545857723203312\n",
      "[IJava-executor-8] INFO org.deeplearning4j.optimize.listeners.ScoreIterationListener - Score at iteration 15720 is 0.05237043695881638\n",
      "[IJava-executor-8] INFO org.deeplearning4j.optimize.listeners.ScoreIterationListener - Score at iteration 15750 is 0.065188691323431\n",
      "[IJava-executor-8] INFO org.deeplearning4j.optimize.listeners.ScoreIterationListener - Score at iteration 15780 is 0.06127373112107776\n",
      "[IJava-executor-8] INFO org.deeplearning4j.optimize.listeners.ScoreIterationListener - Score at iteration 15810 is 0.06199020131166629\n",
      "[IJava-executor-8] INFO org.deeplearning4j.optimize.listeners.ScoreIterationListener - Score at iteration 15840 is 0.062144198323853914\n",
      "[IJava-executor-8] INFO org.deeplearning4j.optimize.listeners.ScoreIterationListener - Score at iteration 15870 is 0.05602097068143104\n",
      "[IJava-executor-8] INFO org.deeplearning4j.optimize.listeners.ScoreIterationListener - Score at iteration 15900 is 0.057225341764789564\n",
      "[IJava-executor-8] INFO org.deeplearning4j.optimize.listeners.ScoreIterationListener - Score at iteration 15930 is 0.05965961640911729\n",
      "[IJava-executor-8] INFO org.deeplearning4j.optimize.listeners.ScoreIterationListener - Score at iteration 15960 is 0.05236285645372386\n",
      "[IJava-executor-8] INFO org.deeplearning4j.optimize.listeners.ScoreIterationListener - Score at iteration 15990 is 0.05811549048464894\n",
      "[IJava-executor-8] INFO org.deeplearning4j.optimize.listeners.ScoreIterationListener - Score at iteration 16020 is 0.06777657862941584\n",
      "[IJava-executor-8] INFO org.deeplearning4j.optimize.listeners.ScoreIterationListener - Score at iteration 16050 is 0.05660477389056427\n",
      "[IJava-executor-8] INFO org.deeplearning4j.optimize.listeners.ScoreIterationListener - Score at iteration 16080 is 0.06389814365871778\n",
      "[IJava-executor-8] INFO org.deeplearning4j.optimize.listeners.ScoreIterationListener - Score at iteration 16110 is 0.061231771785287915\n",
      "[IJava-executor-8] INFO org.deeplearning4j.optimize.listeners.ScoreIterationListener - Score at iteration 16140 is 0.06280963261349867\n",
      "[IJava-executor-8] INFO org.deeplearning4j.optimize.listeners.ScoreIterationListener - Score at iteration 16170 is 0.058427706137627065\n",
      "[IJava-executor-8] INFO org.deeplearning4j.optimize.listeners.ScoreIterationListener - Score at iteration 16200 is 0.07337536425017475\n",
      "[IJava-executor-8] INFO org.deeplearning4j.optimize.listeners.ScoreIterationListener - Score at iteration 16230 is 0.05740000707383208\n",
      "[IJava-executor-8] INFO org.deeplearning4j.optimize.listeners.ScoreIterationListener - Score at iteration 16260 is 0.05954040685372591\n",
      "[IJava-executor-8] INFO org.deeplearning4j.optimize.listeners.ScoreIterationListener - Score at iteration 16290 is 0.05814971382914698\n",
      "[IJava-executor-8] INFO org.deeplearning4j.optimize.listeners.ScoreIterationListener - Score at iteration 16320 is 0.060144698359654705\n",
      "[IJava-executor-8] INFO org.deeplearning4j.optimize.listeners.ScoreIterationListener - Score at iteration 16350 is 0.06560152196071602\n",
      "[IJava-executor-8] INFO org.deeplearning4j.optimize.listeners.ScoreIterationListener - Score at iteration 16380 is 0.06808233976469821\n",
      "[IJava-executor-8] INFO org.deeplearning4j.optimize.listeners.ScoreIterationListener - Score at iteration 16410 is 0.059705444192216725\n",
      "[IJava-executor-8] INFO org.deeplearning4j.optimize.listeners.ScoreIterationListener - Score at iteration 16440 is 0.06012523648183874\n",
      "[IJava-executor-8] INFO org.deeplearning4j.optimize.listeners.ScoreIterationListener - Score at iteration 16470 is 0.059356928796541364\n",
      "[IJava-executor-8] INFO org.deeplearning4j.optimize.listeners.ScoreIterationListener - Score at iteration 16500 is 0.06125717865388373\n",
      "[IJava-executor-8] INFO org.deeplearning4j.optimize.listeners.ScoreIterationListener - Score at iteration 16530 is 0.06667826131047633\n",
      "[IJava-executor-8] INFO org.deeplearning4j.optimize.listeners.ScoreIterationListener - Score at iteration 16560 is 0.05634889779482849\n",
      "[IJava-executor-8] INFO org.deeplearning4j.optimize.listeners.ScoreIterationListener - Score at iteration 16590 is 0.05475498883562422\n",
      "[IJava-executor-8] INFO org.deeplearning4j.optimize.listeners.ScoreIterationListener - Score at iteration 16620 is 0.06202981539016352\n",
      "[IJava-executor-8] INFO org.deeplearning4j.optimize.listeners.ScoreIterationListener - Score at iteration 16650 is 0.06012917488840369\n"
     ]
    },
    {
     "ename": "EvaluationInterruptedException",
     "evalue": "Evaluator was interrupted while executing: 'for (int i=0; i<numEpochs; i++) {\n    for (INDArray data : featuresTrain) {\n        net.fit(data, data);\n    }\n}'",
     "output_type": "error",
     "traceback": [
      "\u001b[1m\u001b[30m|   \u001b[1m\u001b[30mfor (int i=0; i<numEpochs; i++) {\u001b[0m",
      "\u001b[1m\u001b[30m|   \u001b[1m\u001b[30m    for (INDArray data : featuresTrain) {\u001b[0m",
      "\u001b[1m\u001b[30m|   \u001b[1m\u001b[30m        net.fit(data, data);\u001b[0m",
      "\u001b[1m\u001b[30m|   \u001b[1m\u001b[30m    }\u001b[0m",
      "\u001b[1m\u001b[30m|   \u001b[1m\u001b[30m}\u001b[0m",
      "\u001b[1m\u001b[31mEvaluation interrupted.\u001b[0m"
     ]
    }
   ],
   "source": [
    "int numEpochs = 30;\n",
    "\n",
    "for (int i=0; i<numEpochs; i++) {\n",
    "    for (INDArray data : featuresTrain) {\n",
    "        net.fit(data, data);\n",
    "    }\n",
    "}"
   ]
  },
  {
   "cell_type": "code",
   "execution_count": 67,
   "metadata": {},
   "outputs": [
    {
     "name": "stdout",
     "output_type": "stream",
     "text": [
      "Saving the model as mardas.model-2018-03-13-03-03-19\n"
     ]
    }
   ],
   "source": [
    "SimpleDateFormat format = new SimpleDateFormat(\"yyyy-mm-dd-hh-mm-ss\");\n",
    "String fileName = \"mardas.model-\"+format.format(new Date());\n",
    "System.out.println(\"Saving the model as \" + fileName);\n",
    "ModelSerializer.writeModel(net, new File(fileName), true);"
   ]
  },
  {
   "cell_type": "code",
   "execution_count": 68,
   "metadata": {},
   "outputs": [
    {
     "name": "stderr",
     "output_type": "stream",
     "text": [
      "[IJava-executor-8] INFO org.deeplearning4j.optimize.listeners.ScoreIterationListener - Score at iteration 16770 is 0.05560352300705088\n"
     ]
    }
   ],
   "source": [
    "INDArray scores = Nd4j.zeros(20);\n",
    "for (int i=0; i<20; i++) {\n",
    "    scores.putScalar(i, net.score(new DataSet(featuresTest.get(0).getRow(i), featuresTest.get(0).getRow(i))));\n",
    "}"
   ]
  },
  {
   "cell_type": "code",
   "execution_count": 69,
   "metadata": {},
   "outputs": [
    {
     "data": {
      "text/plain": [
       "0.0945"
      ]
     },
     "execution_count": 69,
     "metadata": {},
     "output_type": "execute_result"
    }
   ],
   "source": [
    "scores.mean()"
   ]
  },
  {
   "cell_type": "code",
   "execution_count": 70,
   "metadata": {},
   "outputs": [
    {
     "data": {
      "text/plain": [
       "0.05996525377985682"
      ]
     },
     "execution_count": 70,
     "metadata": {},
     "output_type": "execute_result"
    }
   ],
   "source": [
    "net.score(new DataSet(featuresTest.get(0), featuresTest.get(0)))"
   ]
  },
  {
   "cell_type": "code",
   "execution_count": 71,
   "metadata": {},
   "outputs": [],
   "source": [
    "INDArray diff = net.output(featuresTest.get(0)).sub(featuresTest.get(0))"
   ]
  },
  {
   "cell_type": "code",
   "execution_count": 72,
   "metadata": {},
   "outputs": [
    {
     "data": {
      "text/plain": [
       "[0.0608, \n",
       " 0.0724, \n",
       " 0.0912, \n",
       " 0.0678, \n",
       " 0.0491, \n",
       " 0.0616, \n",
       " 0.0747, \n",
       " 0.0454, \n",
       " 0.0754, \n",
       " 0.0308, \n",
       " 0.0736, \n",
       " 0.0541, \n",
       " 0.0376, \n",
       " 0.0525, \n",
       " 0.0560, \n",
       " 0.0553, \n",
       " 0.0375, \n",
       " 0.1075, \n",
       " 0.0375, \n",
       " 0.0201]"
      ]
     },
     "execution_count": 72,
     "metadata": {},
     "output_type": "execute_result"
    }
   ],
   "source": [
    "diff.mul(diff).mean(1)"
   ]
  },
  {
   "cell_type": "code",
   "execution_count": 83,
   "metadata": {},
   "outputs": [
    {
     "data": {
      "image/png": "[encoded data removed]",
      "text/plain": [
       "BufferedImage@467eece8: type = 1 DirectColorModel: rmask=ff0000 gmask=ff00 bmask=ff amask=0 IntegerInterleavedRaster: width = 28 height = 28 #Bands = 3 xOff = 0 yOff = 0 dataOffset[0] 0"
      ]
     },
     "execution_count": 83,
     "metadata": {},
     "output_type": "execute_result"
    }
   ],
   "source": [
    "NDArrayToImage(featuresTest.get(3).getRow(0).reshape(28, 28, 1).mul(255))"
   ]
  },
  {
   "cell_type": "code",
   "execution_count": 84,
   "metadata": {},
   "outputs": [
    {
     "data": {
      "image/png": "[encoded data removed]",
      "text/plain": [
       "BufferedImage@692a7305: type = 1 DirectColorModel: rmask=ff0000 gmask=ff00 bmask=ff amask=0 IntegerInterleavedRaster: width = 28 height = 28 #Bands = 3 xOff = 0 yOff = 0 dataOffset[0] 0"
      ]
     },
     "execution_count": 84,
     "metadata": {},
     "output_type": "execute_result"
    }
   ],
   "source": [
    "NDArrayToImage(net.output(featuresTest.get(3).getRow(0)).reshape(28, 28, 1).mul(255))"
   ]
  },
  {
   "cell_type": "code",
   "execution_count": 24,
   "metadata": {},
   "outputs": [
    {
     "data": {
      "text/plain": [
       "28.0"
      ]
     },
     "execution_count": 24,
     "metadata": {},
     "output_type": "execute_result"
    }
   ],
   "source": []
  },
  {
   "cell_type": "code",
   "execution_count": 17,
   "metadata": {},
   "outputs": [],
   "source": []
  },
  {
   "cell_type": "code",
   "execution_count": null,
   "metadata": {},
   "outputs": [],
   "source": []
  },
  {
   "cell_type": "code",
   "execution_count": null,
   "metadata": {},
   "outputs": [],
   "source": []
  }
 ],
 "metadata": {
  "kernelspec": {
   "display_name": "Java",
   "language": "java",
   "name": "java"
  },
  "language_info": {
   "codemirror_mode": "java",
   "file_extension": ".java",
   "mimetype": "text/x-java-source",
   "name": "Java",
   "pygments_lexer": "java",
   "version": "11.0.1+13-LTS"
  }
 },
 "nbformat": 4,
 "nbformat_minor": 2
}
