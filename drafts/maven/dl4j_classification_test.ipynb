{
 "cells": [
  {
   "cell_type": "code",
   "execution_count": 1,
   "metadata": {},
   "outputs": [],
   "source": [
    "%maven org.nd4j:nd4j-native-platform:1.0.0-beta\n",
    "%maven org.deeplearning4j:deeplearning4j-core:1.0.0-beta\n",
    "%maven org.datavec:datavec-api:1.0.0-beta"
   ]
  },
  {
   "cell_type": "code",
   "execution_count": 9,
   "metadata": {},
   "outputs": [],
   "source": [
    "import org.datavec.api.util.ClassPathResource;\n",
    "import org.datavec.image.loader.NativeImageLoader;\n",
    "import org.deeplearning4j.nn.api.Layer;\n",
    "import org.deeplearning4j.nn.graph.ComputationGraph;\n",
    "import org.deeplearning4j.nn.workspace.LayerWorkspaceMgr;\n",
    "import org.nd4j.linalg.api.ndarray.INDArray;\n",
    "import org.nd4j.linalg.dataset.api.preprocessor.DataNormalization;\n",
    "import org.nd4j.linalg.dataset.api.preprocessor.VGG16ImagePreProcessor;\n",
    "import org.nd4j.linalg.factory.Nd4j;\n",
    "import org.nd4j.linalg.indexing.BooleanIndexing;\n",
    "import org.nd4j.linalg.indexing.conditions.Conditions;\n",
    "import org.nd4j.linalg.indexing.functions.Value;\n",
    "import org.nd4j.linalg.learning.AdamUpdater;\n",
    "import org.nd4j.linalg.learning.config.Adam;\n",
    "import org.nd4j.linalg.ops.transforms.Transforms;\n",
    "import org.slf4j.Logger;\n",
    "import org.slf4j.LoggerFactory;\n",
    "\n",
    "import javax.imageio.ImageIO;\n",
    "import java.awt.*;\n",
    "import java.awt.image.BufferedImage;\n",
    "import java.io.File;\n",
    "import java.io.IOException;\n",
    "import java.net.URL;\n",
    "import java.util.HashMap;\n",
    "import java.util.Map;\n",
    "import java.util.concurrent.ThreadLocalRandom;\n",
    "\n",
    "import org.datavec.api.split.FileSplit;\n",
    "\n",
    "import org.datavec.api.records.reader.RecordReader;\n",
    "import org.datavec.api.records.reader.impl.csv.CSVRecordReader;\n",
    "import org.datavec.api.split.FileSplit;\n",
    "import org.datavec.api.util.ClassPathResource;\n",
    "import org.deeplearning4j.datasets.datavec.RecordReaderDataSetIterator;\n",
    "import org.deeplearning4j.eval.Evaluation;\n",
    "import org.deeplearning4j.nn.api.OptimizationAlgorithm;\n",
    "import org.deeplearning4j.nn.conf.MultiLayerConfiguration;\n",
    "import org.deeplearning4j.nn.conf.NeuralNetConfiguration;\n",
    "import org.deeplearning4j.nn.conf.Updater;\n",
    "import org.deeplearning4j.nn.conf.layers.DenseLayer;\n",
    "import org.deeplearning4j.nn.conf.layers.OutputLayer;\n",
    "import org.deeplearning4j.nn.multilayer.MultiLayerNetwork;\n",
    "import org.deeplearning4j.nn.weights.WeightInit;\n",
    "import org.deeplearning4j.optimize.listeners.ScoreIterationListener;\n",
    "import org.nd4j.linalg.activations.Activation;\n",
    "import org.nd4j.linalg.api.ndarray.INDArray;\n",
    "import org.nd4j.linalg.dataset.DataSet;\n",
    "import org.nd4j.linalg.factory.Nd4j;\n",
    "import org.nd4j.linalg.learning.config.Nesterovs;\n",
    "import org.nd4j.linalg.lossfunctions.LossFunctions.LossFunction;\n",
    "import org.nd4j.linalg.dataset.api.iterator.DataSetIterator;"
   ]
  },
  {
   "cell_type": "code",
   "execution_count": 10,
   "metadata": {},
   "outputs": [],
   "source": [
    "RecordReader rr = new CSVRecordReader();\n",
    "rr.initialize(new FileSplit(\n",
    "    new File(\n",
    "        \"/home/bzr0014/git/dl4j-examples/dl4j-examples/src/main/resources/classification/linear_data_train.csv\")));"
   ]
  },
  {
   "cell_type": "code",
   "execution_count": 11,
   "metadata": {},
   "outputs": [],
   "source": [
    "DataSetIterator ds = new RecordReaderDataSetIterator(rr, 1000 /*batch size*/, 0 /*label index*/, 2 /*num labels*/);"
   ]
  },
  {
   "cell_type": "code",
   "execution_count": 14,
   "metadata": {},
   "outputs": [
    {
     "name": "stdout",
     "output_type": "stream",
     "text": [
      "===========INPUT===================\n",
      "[[    0.2727,    0.0202], \n",
      " [    0.8679,    0.5978], \n",
      " [    0.6863,    0.4257], \n",
      "  ..., \n",
      " [    0.5733,    0.6087], \n",
      " [    0.5004,    0.5795], \n",
      " [    0.7910,    0.5637]]\n",
      "=================OUTPUT==================\n",
      "[[    1.0000,         0], \n",
      " [         0,    1.0000], \n",
      " [         0,    1.0000], \n",
      "  ..., \n",
      " [         0,    1.0000], \n",
      " [         0,    1.0000], \n",
      " [         0,    1.0000]]\n"
     ]
    }
   ],
   "source": [
    "ds.reset();\n",
    "while (ds.hasNext()) {\n",
    "    System.out.println(ds.next());\n",
    "}"
   ]
  },
  {
   "cell_type": "code",
   "execution_count": 17,
   "metadata": {},
   "outputs": [
    {
     "data": {
      "text/plain": [
       "/home/bzr0014/git/exploit-development/drafts/maven"
      ]
     },
     "execution_count": 17,
     "metadata": {},
     "output_type": "execute_result"
    }
   ],
   "source": [
    "System.getProperty(\"user.dir\")"
   ]
  },
  {
   "cell_type": "code",
   "execution_count": null,
   "metadata": {},
   "outputs": [],
   "source": []
  }
 ],
 "metadata": {
  "kernelspec": {
   "display_name": "Java",
   "language": "java",
   "name": "java"
  },
  "language_info": {
   "codemirror_mode": "java",
   "file_extension": ".java",
   "mimetype": "text/x-java-source",
   "name": "Java",
   "pygments_lexer": "java",
   "version": "11.0.1+13-LTS"
  }
 },
 "nbformat": 4,
 "nbformat_minor": 2
}
