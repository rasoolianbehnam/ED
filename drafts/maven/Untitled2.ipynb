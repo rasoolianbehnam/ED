{
 "cells": [
  {
   "cell_type": "code",
   "execution_count": 59,
   "metadata": {},
   "outputs": [
    {
     "name": "stdout",
     "output_type": "stream",
     "text": [
      "The Cython extension is already loaded. To reload it, use:\n",
      "  %reload_ext Cython\n",
      "The autoreload extension is already loaded. To reload it, use:\n",
      "  %reload_ext autoreload\n"
     ]
    }
   ],
   "source": [
    "%load_ext Cython\n",
    "%load_ext autoreload\n",
    "%autoreload 1\n",
    "import numpy as np\n",
    "import tensorflow as tf\n",
    "import requests\n",
    "import matplotlib.pyplot as plt\n",
    "import matplotlib.image as mpimg\n",
    "import time\n",
    "from IPython.display import clear_output"
   ]
  },
  {
   "cell_type": "code",
   "execution_count": 40,
   "metadata": {},
   "outputs": [],
   "source": [
    "def lrelu(x, alpha=.01):\n",
    "  return tf.nn.relu(x) - alpha * tf.nn.relu(-x)"
   ]
  },
  {
   "cell_type": "code",
   "execution_count": 43,
   "metadata": {},
   "outputs": [],
   "source": [
    "def createNN(schome=\"nn\"):\n",
    "    input = tf.placeholder(shape=[None, 2], dtype=tf.float16, name=\"input\")\n",
    "    h1 = tf.contrib.layers.fully_connected(activation_fn=lrelu, inputs=input, num_outputs=100, scope=\"h1\")\n",
    "    h2 = tf.contrib.layers.fully_connected(activation_fn=lrelu, inputs=h1, num_outputs=100, scope=\"h2\")\n",
    "    h3 = tf.contrib.layers.fully_connected(activation_fn=lrelu, inputs=h2, num_outputs=100, scope=\"h3\")\n",
    "    h4 = tf.contrib.layers.fully_connected(activation_fn=lrelu, inputs=h3, num_outputs=100, scope=\"h4\")\n",
    "    h5 = tf.contrib.layers.fully_connected(activation_fn=lrelu, inputs=h4, num_outputs=100, scope=\"h5\")\n",
    "    output = tf.contrib.layers.fully_connected(activation_fn=lrelu, inputs=h5, num_outputs=3, scope=\"output\")"
   ]
  },
  {
   "cell_type": "code",
   "execution_count": 44,
   "metadata": {},
   "outputs": [],
   "source": [
    "tf.reset_default_graph()\n",
    "mynet = createNN(\"mardas\")"
   ]
  },
  {
   "cell_type": "code",
   "execution_count": 51,
   "metadata": {},
   "outputs": [],
   "source": [
    "image = mpimg.imread(\"/home/bzr0014/Pictures/test.jpg\")"
   ]
  },
  {
   "cell_type": "code",
   "execution_count": 65,
   "metadata": {},
   "outputs": [],
   "source": [
    "w,h,c = image.shape"
   ]
  },
  {
   "cell_type": "code",
   "execution_count": null,
   "metadata": {},
   "outputs": [],
   "source": [
    "size = w * h\n",
    "myInput = np.random(size, 2)\n",
    "trueLabels = np.zeros(size, 2)\n"
   ]
  }
 ],
 "metadata": {
  "kernelspec": {
   "display_name": "Python 3",
   "language": "python",
   "name": "python3"
  },
  "language_info": {
   "codemirror_mode": {
    "name": "ipython",
    "version": 3
   },
   "file_extension": ".py",
   "mimetype": "text/x-python",
   "name": "python",
   "nbconvert_exporter": "python",
   "pygments_lexer": "ipython3",
   "version": "3.5.2"
  }
 },
 "nbformat": 4,
 "nbformat_minor": 2
}
