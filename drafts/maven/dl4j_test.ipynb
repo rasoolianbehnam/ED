{
 "cells": [
  {
   "cell_type": "code",
   "execution_count": 1,
   "metadata": {},
   "outputs": [],
   "source": [
    "%maven org.nd4j:nd4j-cuda-9.0:1.0.0-beta\n",
    "%maven org.deeplearning4j:deeplearning4j-cuda-9.0:1.0.0-beta\n",
    "%maven org.datavec:datavec-api:1.0.0-beta\n",
    "%maven org.knowm.xchart:xchart:3.5.2\n",
    "\n",
    "//%maven org.nd4j:nd4j-native-platform:1.0.0-beta\n",
    "//%maven org.deeplearning4j:deeplearning4j-core:1.0.0-beta\n",
    "//%maven org.datavec:datavec-api:1.0.0-beta"
   ]
  },
  {
   "cell_type": "code",
   "execution_count": 11,
   "metadata": {},
   "outputs": [],
   "source": [
    "import org.deeplearning4j.api.storage.StatsStorage;\n",
    "import org.deeplearning4j.nn.api.OptimizationAlgorithm;\n",
    "import org.deeplearning4j.nn.conf.MultiLayerConfiguration;\n",
    "import org.deeplearning4j.nn.conf.NeuralNetConfiguration;\n",
    "import org.deeplearning4j.nn.conf.layers.DenseLayer;\n",
    "import org.deeplearning4j.nn.conf.layers.OutputLayer;\n",
    "import org.deeplearning4j.nn.multilayer.MultiLayerNetwork;\n",
    "import org.deeplearning4j.nn.weights.WeightInit;\n",
    "import org.nd4j.linalg.activations.Activation;\n",
    "import org.nd4j.linalg.api.ndarray.INDArray;\n",
    "import org.nd4j.linalg.dataset.DataSet;\n",
    "import org.nd4j.linalg.factory.Nd4j;\n",
    "import org.nd4j.linalg.learning.config.Nesterovs;\n",
    "import org.nd4j.linalg.lossfunctions.LossFunctions;\n",
    "import org.nd4j.linalg.indexing.NDArrayIndex;\n",
    "\n",
    "import org.datavec.image.loader.NativeImageLoader;\n",
    "import java.awt.*;\n",
    "import java.awt.image.BufferedImage;\n",
    "\n",
    "import java.io.*;\n",
    "\n",
    "import javax.imageio.ImageIO;\n",
    "\n",
    "import org.knowm.xchart.*;\n",
    "\n",
    "import org.apache.commons.io.FileUtils;\n",
    "import org.apache.commons.io.FilenameUtils;\n",
    "import org.datavec.api.records.reader.SequenceRecordReader;\n",
    "import org.datavec.api.records.reader.impl.csv.CSVSequenceRecordReader;\n",
    "import org.datavec.api.split.InputSplit;\n",
    "import org.datavec.api.split.NumberedFileInputSplit;\n",
    "import org.deeplearning4j.datasets.datavec.SequenceRecordReaderDataSetIterator;\n",
    "import org.deeplearning4j.datasets.iterator.AsyncDataSetIterator;\n",
    "import org.deeplearning4j.eval.Evaluation;\n",
    "import org.deeplearning4j.nn.conf.BackpropType;\n",
    "import org.deeplearning4j.nn.conf.GradientNormalization;\n",
    "import org.deeplearning4j.nn.conf.MultiLayerConfiguration;\n",
    "import org.deeplearning4j.nn.conf.NeuralNetConfiguration;\n",
    "import org.deeplearning4j.nn.conf.layers.*;\n",
    "import org.deeplearning4j.nn.conf.preprocessor.CnnToFeedForwardPreProcessor;\n",
    "import org.deeplearning4j.nn.conf.preprocessor.FeedForwardToRnnPreProcessor;\n",
    "import org.deeplearning4j.nn.conf.preprocessor.RnnToCnnPreProcessor;\n",
    "import org.deeplearning4j.nn.multilayer.MultiLayerNetwork;\n",
    "import org.deeplearning4j.nn.weights.WeightInit;\n",
    "import org.deeplearning4j.optimize.listeners.ScoreIterationListener;\n",
    "import org.nd4j.linalg.activations.Activation;\n",
    "import org.nd4j.linalg.api.ndarray.INDArray;\n",
    "import org.nd4j.linalg.dataset.DataSet;\n",
    "import org.nd4j.linalg.dataset.api.DataSetPreProcessor;\n",
    "import org.nd4j.linalg.dataset.api.iterator.DataSetIterator;\n",
    "import org.nd4j.linalg.factory.Nd4j;\n",
    "import org.nd4j.linalg.learning.config.AdaGrad;\n",
    "import org.nd4j.linalg.lossfunctions.LossFunctions;\n",
    "\n",
    "import java.io.File;\n",
    "import java.util.HashMap;\n",
    "import java.util.Map;\n"
   ]
  },
  {
   "cell_type": "code",
   "execution_count": 15,
   "metadata": {},
   "outputs": [],
   "source": [
    "InputSplit is1 = new NumberedFileInputSplit(\"/home/bzr0014/git/sesek2/Behnam Files/original/M%03d-MFC.jpg\", 1, 10);\n",
    "InputSplit is2 = new NumberedFileInputSplit(\"/home/bzr0014/git/sesek2/Behnam Files/original/M%03d-MS.jpg\", 1, 10);"
   ]
  },
  {
   "cell_type": "code",
   "execution_count": 17,
   "metadata": {},
   "outputs": [],
   "source": [
    "InputSplit is2 = new NumberedFileInputSplit(\"/home/bzr0014/git/sesek2/Behnam Files/original/M%03d-*.jpg\", 1, 10);"
   ]
  },
  {
   "cell_type": "code",
   "execution_count": 18,
   "metadata": {},
   "outputs": [
    {
     "data": {
      "text/plain": [
       "10"
      ]
     },
     "execution_count": 18,
     "metadata": {},
     "output_type": "execute_result"
    }
   ],
   "source": [
    "is2"
   ]
  },
  {
   "cell_type": "code",
   "execution_count": null,
   "metadata": {},
   "outputs": [],
   "source": []
  }
 ],
 "metadata": {
  "kernelspec": {
   "display_name": "Java",
   "language": "java",
   "name": "java"
  },
  "language_info": {
   "codemirror_mode": "java",
   "file_extension": ".java",
   "mimetype": "text/x-java-source",
   "name": "Java",
   "pygments_lexer": "java",
   "version": "11.0.1+13-LTS"
  }
 },
 "nbformat": 4,
 "nbformat_minor": 2
}
