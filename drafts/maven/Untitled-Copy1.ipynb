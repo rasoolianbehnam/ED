{
 "cells": [
  {
   "cell_type": "code",
   "execution_count": 1,
   "metadata": {},
   "outputs": [],
   "source": [
    "//%maven org.nd4j:nd4j-cuda-9.0:1.0.0-beta\n",
    "//%maven org.deeplearning4j:deeplearning4j-cuda-9.0:1.0.0-beta\n",
    "//%maven org.datavec:datavec-api:1.0.0-beta\n",
    "\n",
    "%maven org.nd4j:nd4j-native-platform:1.0.0-beta\n",
    "%maven org.deeplearning4j:deeplearning4j-core:1.0.0-beta\n",
    "%maven org.datavec:datavec-api:1.0.0-beta"
   ]
  },
  {
   "cell_type": "code",
   "execution_count": 2,
   "metadata": {},
   "outputs": [],
   "source": [
    "import org.deeplearning4j.datasets.iterator.*;\n",
    "import org.deeplearning4j.datasets.iterator.impl.*;\n",
    "import org.deeplearning4j.nn.api.*;\n",
    "import org.deeplearning4j.nn.multilayer.*;\n",
    "import org.deeplearning4j.nn.graph.*;\n",
    "import org.deeplearning4j.nn.conf.*;\n",
    "import org.deeplearning4j.nn.conf.inputs.*;\n",
    "import org.deeplearning4j.nn.conf.layers.*;\n",
    "import org.deeplearning4j.nn.weights.*;\n",
    "import org.deeplearning4j.optimize.listeners.*;\n",
    "import org.deeplearning4j.datasets.datavec.RecordReaderMultiDataSetIterator;\n",
    "import org.deeplearning4j.eval.Evaluation;\n",
    "\n",
    "import org.nd4j.linalg.learning.config.*; // for different updaters like Adam, Nesterovs, etc.\n",
    "import org.nd4j.linalg.activations.Activation; // defines different activation functions like RELU, SOFTMAX, etc.\n",
    "import org.nd4j.linalg.lossfunctions.LossFunctions;"
   ]
  },
  {
   "cell_type": "code",
   "execution_count": 3,
   "metadata": {},
   "outputs": [],
   "source": [
    "import org.nd4j.linalg.dataset.DataSet;\n",
    "import org.nd4j.linalg.dataset.MiniBatchFileDataSetIterator;\n",
    "import org.nd4j.linalg.api.ndarray.INDArray;\n",
    "import org.nd4j.linalg.factory.Nd4j;\n",
    "import org.nd4j.linalg.dataset.api.iterator.DataSetIterator;"
   ]
  },
  {
   "cell_type": "code",
   "execution_count": 4,
   "metadata": {},
   "outputs": [
    {
     "name": "stderr",
     "output_type": "stream",
     "text": [
      "[IJava-executor-0] INFO org.nd4j.linalg.factory.Nd4jBackend - Loaded [CpuBackend] backend\n",
      "[IJava-executor-0] INFO org.nd4j.nativeblas.NativeOpsHolder - Number of threads used for NativeOps: 2\n",
      "[IJava-executor-0] INFO org.nd4j.nativeblas.Nd4jBlas - Number of threads used for BLAS: 2\n",
      "[IJava-executor-0] INFO org.nd4j.linalg.api.ops.executioner.DefaultOpExecutioner - Backend used: [CPU]; OS: [Mac OS X]\n",
      "[IJava-executor-0] INFO org.nd4j.linalg.api.ops.executioner.DefaultOpExecutioner - Cores: [4]; Memory: [1.0GB];\n",
      "[IJava-executor-0] INFO org.nd4j.linalg.api.ops.executioner.DefaultOpExecutioner - Blas vendor: [OPENBLAS]\n"
     ]
    }
   ],
   "source": [
    "INDArray features = Nd4j.rand(new int[]{100, 1, 20, 20}).mul(5);\n",
    "INDArray labels = Nd4j.rand(100, 1);"
   ]
  },
  {
   "cell_type": "code",
   "execution_count": 5,
   "metadata": {},
   "outputs": [],
   "source": [
    "features = features.add(features.mean().neg()).div(features.std())"
   ]
  },
  {
   "cell_type": "code",
   "execution_count": 6,
   "metadata": {},
   "outputs": [],
   "source": [
    "DataSet d = new DataSet(features, labels);"
   ]
  },
  {
   "cell_type": "code",
   "execution_count": 7,
   "metadata": {},
   "outputs": [],
   "source": [
    "DataSetIterator di = new ListDataSetIterator(d.asList(), 10);"
   ]
  },
  {
   "cell_type": "code",
   "execution_count": 11,
   "metadata": {},
   "outputs": [],
   "source": [
    "MultiLayerConfiguration conf = new NeuralNetConfiguration.Builder()\n",
    "    .seed(123)\n",
    "    .optimizationAlgo(OptimizationAlgorithm.STOCHASTIC_GRADIENT_DESCENT)\n",
    "    .list()\n",
    "    .layer(0, new ConvolutionLayer.Builder().kernelSize(3, 3).stride(1, 1).nIn(1).nOut(20).dropOut(.5).build())\n",
    "    .layer(1, new OutputLayer.Builder().nOut(1).weightInit(WeightInit.XAVIER).build())\n",
    "    .setInputType(InputType.convolutional(20, 20, 1))\n",
    "    .pretrain(false).backprop(true)\n",
    "    .build()"
   ]
  },
  {
   "cell_type": "code",
   "execution_count": 9,
   "metadata": {},
   "outputs": [
    {
     "name": "stderr",
     "output_type": "stream",
     "text": [
      "[IJava-executor-0] INFO org.deeplearning4j.nn.multilayer.MultiLayerNetwork - Starting MultiLayerNetwork with WorkspaceModes set to [training: ENABLED; inference: ENABLED], cacheMode set to [NONE]\n"
     ]
    }
   ],
   "source": [
    "MultiLayerNetwork network = new MultiLayerNetwork(conf);\n",
    "network.init();\n",
    "network.setListeners(new ScoreIterationListener(1));"
   ]
  },
  {
   "cell_type": "code",
   "execution_count": 10,
   "metadata": {},
   "outputs": [
    {
     "name": "stderr",
     "output_type": "stream",
     "text": [
      "[IJava-executor-0] INFO org.deeplearning4j.optimize.listeners.ScoreIterationListener - Score at iteration 0 is 0.21345443725585939\n",
      "[IJava-executor-0] INFO org.deeplearning4j.optimize.listeners.ScoreIterationListener - Score at iteration 1 is 0.12254817485809326\n",
      "[IJava-executor-0] INFO org.deeplearning4j.optimize.listeners.ScoreIterationListener - Score at iteration 2 is 0.1757075548171997\n",
      "[IJava-executor-0] INFO org.deeplearning4j.optimize.listeners.ScoreIterationListener - Score at iteration 3 is 0.15083763599395753\n",
      "[IJava-executor-0] INFO org.deeplearning4j.optimize.listeners.ScoreIterationListener - Score at iteration 4 is 0.15294736623764038\n",
      "[IJava-executor-0] INFO org.deeplearning4j.optimize.listeners.ScoreIterationListener - Score at iteration 5 is 0.09834116697311401\n",
      "[IJava-executor-0] INFO org.deeplearning4j.optimize.listeners.ScoreIterationListener - Score at iteration 6 is 0.09018824100494385\n",
      "[IJava-executor-0] INFO org.deeplearning4j.optimize.listeners.ScoreIterationListener - Score at iteration 7 is 0.11184206008911132\n",
      "[IJava-executor-0] INFO org.deeplearning4j.optimize.listeners.ScoreIterationListener - Score at iteration 8 is 0.07750622034072877\n",
      "[IJava-executor-0] INFO org.deeplearning4j.optimize.listeners.ScoreIterationListener - Score at iteration 9 is 0.07304301261901855\n"
     ]
    },
    {
     "name": "stdout",
     "output_type": "stream",
     "text": [
      "*** Completed epoch 0.\n"
     ]
    },
    {
     "name": "stderr",
     "output_type": "stream",
     "text": [
      "[IJava-executor-0] INFO org.deeplearning4j.optimize.listeners.ScoreIterationListener - Score at iteration 10 is 0.0464309424161911\n",
      "[IJava-executor-0] INFO org.deeplearning4j.optimize.listeners.ScoreIterationListener - Score at iteration 11 is 0.030445587635040284\n",
      "[IJava-executor-0] INFO org.deeplearning4j.optimize.listeners.ScoreIterationListener - Score at iteration 12 is 0.04762949347496033\n",
      "[IJava-executor-0] INFO org.deeplearning4j.optimize.listeners.ScoreIterationListener - Score at iteration 13 is 0.04650494456291199\n",
      "[IJava-executor-0] INFO org.deeplearning4j.optimize.listeners.ScoreIterationListener - Score at iteration 14 is 0.053237038850784305\n",
      "[IJava-executor-0] INFO org.deeplearning4j.optimize.listeners.ScoreIterationListener - Score at iteration 15 is 0.03819569945335388\n",
      "[IJava-executor-0] INFO org.deeplearning4j.optimize.listeners.ScoreIterationListener - Score at iteration 16 is 0.03763069212436676\n",
      "[IJava-executor-0] INFO org.deeplearning4j.optimize.listeners.ScoreIterationListener - Score at iteration 17 is 0.050096333026885986\n",
      "[IJava-executor-0] INFO org.deeplearning4j.optimize.listeners.ScoreIterationListener - Score at iteration 18 is 0.03749174773693085\n",
      "[IJava-executor-0] INFO org.deeplearning4j.optimize.listeners.ScoreIterationListener - Score at iteration 19 is 0.037111198902130126\n"
     ]
    },
    {
     "name": "stdout",
     "output_type": "stream",
     "text": [
      "*** Completed epoch 1.\n"
     ]
    },
    {
     "name": "stderr",
     "output_type": "stream",
     "text": [
      "[IJava-executor-0] INFO org.deeplearning4j.optimize.listeners.ScoreIterationListener - Score at iteration 20 is 0.024755966663360596\n",
      "[IJava-executor-0] INFO org.deeplearning4j.optimize.listeners.ScoreIterationListener - Score at iteration 21 is 0.016694796085357667\n",
      "[IJava-executor-0] INFO org.deeplearning4j.optimize.listeners.ScoreIterationListener - Score at iteration 22 is 0.0266095370054245\n",
      "[IJava-executor-0] INFO org.deeplearning4j.optimize.listeners.ScoreIterationListener - Score at iteration 23 is 0.026741024851799012\n",
      "[IJava-executor-0] INFO org.deeplearning4j.optimize.listeners.ScoreIterationListener - Score at iteration 24 is 0.03151191473007202\n",
      "[IJava-executor-0] INFO org.deeplearning4j.optimize.listeners.ScoreIterationListener - Score at iteration 25 is 0.023284387588500977\n",
      "[IJava-executor-0] INFO org.deeplearning4j.optimize.listeners.ScoreIterationListener - Score at iteration 26 is 0.023425671458244323\n",
      "[IJava-executor-0] INFO org.deeplearning4j.optimize.listeners.ScoreIterationListener - Score at iteration 27 is 0.03187226355075836\n",
      "[IJava-executor-0] INFO org.deeplearning4j.optimize.listeners.ScoreIterationListener - Score at iteration 28 is 0.024477779865264893\n",
      "[IJava-executor-0] INFO org.deeplearning4j.optimize.listeners.ScoreIterationListener - Score at iteration 29 is 0.024664060771465303\n"
     ]
    },
    {
     "name": "stdout",
     "output_type": "stream",
     "text": [
      "*** Completed epoch 2.\n"
     ]
    }
   ],
   "source": [
    "for (int i=0; i<3; i++) {\n",
    "    network.fit(di);\n",
    "    System.out.println(\"*** Completed epoch \" + i + \".\");\n",
    "}"
   ]
  },
  {
   "cell_type": "code",
   "execution_count": null,
   "metadata": {},
   "outputs": [],
   "source": []
  }
 ],
 "metadata": {
  "kernelspec": {
   "display_name": "Java",
   "language": "java",
   "name": "java"
  },
  "language_info": {
   "codemirror_mode": "java",
   "file_extension": ".java",
   "mimetype": "text/x-java-source",
   "name": "Java",
   "pygments_lexer": "java",
   "version": "11.0.1+13-LTS"
  }
 },
 "nbformat": 4,
 "nbformat_minor": 2
}
