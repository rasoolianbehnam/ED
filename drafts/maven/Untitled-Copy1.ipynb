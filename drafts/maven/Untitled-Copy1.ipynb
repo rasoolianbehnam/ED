{
 "cells": [
  {
   "cell_type": "code",
   "execution_count": 1,
   "metadata": {},
   "outputs": [],
   "source": [
    "%maven org.nd4j:nd4j-cuda-9.0:1.0.0-beta\n",
    "%maven org.deeplearning4j:deeplearning4j-cuda-9.0:1.0.0-beta\n",
    "%maven org.datavec:datavec-api:1.0.0-beta\n",
    "\n",
    "//%maven org.nd4j:nd4j-native-platform:1.0.0-beta\n",
    "//%maven org.deeplearning4j:deeplearning4j-core:1.0.0-beta\n",
    "//%maven org.datavec:datavec-api:1.0.0-beta"
   ]
  },
  {
   "cell_type": "code",
   "execution_count": 2,
   "metadata": {},
   "outputs": [],
   "source": [
    "import org.deeplearning4j.datasets.iterator.*;\n",
    "import org.deeplearning4j.datasets.iterator.impl.*;\n",
    "import org.deeplearning4j.nn.api.*;\n",
    "import org.deeplearning4j.nn.multilayer.*;\n",
    "import org.deeplearning4j.nn.graph.*;\n",
    "import org.deeplearning4j.nn.conf.*;\n",
    "import org.deeplearning4j.nn.conf.inputs.*;\n",
    "import org.deeplearning4j.nn.conf.layers.*;\n",
    "import org.deeplearning4j.nn.weights.*;\n",
    "import org.deeplearning4j.optimize.listeners.*;\n",
    "import org.deeplearning4j.datasets.datavec.RecordReaderMultiDataSetIterator;\n",
    "import org.deeplearning4j.eval.Evaluation;\n",
    "\n",
    "import org.nd4j.linalg.learning.config.*; // for different updaters like Adam, Nesterovs, etc.\n",
    "import org.nd4j.linalg.activations.Activation; // defines different activation functions like RELU, SOFTMAX, etc.\n",
    "import org.nd4j.linalg.lossfunctions.LossFunctions;"
   ]
  },
  {
   "cell_type": "code",
   "execution_count": 3,
   "metadata": {},
   "outputs": [],
   "source": [
    "import org.nd4j.linalg.dataset.DataSet;\n",
    "import org.nd4j.linalg.dataset.MiniBatchFileDataSetIterator;\n",
    "import org.nd4j.linalg.api.ndarray.INDArray;\n",
    "import org.nd4j.linalg.factory.Nd4j;\n",
    "import org.nd4j.linalg.dataset.api.iterator.DataSetIterator;"
   ]
  },
  {
   "cell_type": "code",
   "execution_count": 5,
   "metadata": {},
   "outputs": [],
   "source": [
    "INDArray features = Nd4j.rand(new int[]{100, 1, 20, 20}).mul(5);\n",
    "INDArray labels = Nd4j.rand(100, 1);"
   ]
  },
  {
   "cell_type": "code",
   "execution_count": 7,
   "metadata": {},
   "outputs": [
    {
     "data": {
      "text/plain": [
       "[[[[    3.6598,    4.6477,    1.5436  ...    1.0645    0.8515,    1.5316], \n",
       "   [    2.2170,    4.5043,    3.7425  ...    0.0231    1.1926,    2.5139], \n",
       "   [    3.4177,    1.0760,    1.7559  ...    4.1069    2.9033,    4.4285], \n",
       "    ..., \n",
       "   [    4.4954,    4.8128,    4.8552  ...    2.5398    2.3941,    3.8950], \n",
       "   [    1.3535,    1.7540,    4.0907  ...    1.3173    1.1665,    1.7231], \n",
       "   [    1.0145,    2.7807,    4.0424  ...    2.1255    0.5702,    0.3294]]], \n",
       "\n",
       "\n",
       " [[[    1.0119,    1.1183,    1.6285  ...    2.8614    0.8561,    3.1408], \n",
       "   [    4.0638,    2.8890,    2.2406  ...    4.3256    1.1436,    3.8390], \n",
       "   [    1.8563,    2.9801,    1.9556  ...    3.3519    0.1953,    4.0642], \n",
       "    ..., \n",
       "   [    0.2446,    3.6767,    0.9542  ...    2.4629    3.9952,    1.8431], \n",
       "   [    0.9177,    1.7774,    2.0097  ...    2.6185    1.7257,    4.5988], \n",
       "   [    2.3880,    4.7112,    4.5031  ...    1.8687    2.7555,    3.2322]]], \n",
       "\n",
       "\n",
       " [[[    2.1197,    0.1079,    2.5330  ...    3.4760    2.9449,    0.5542], \n",
       "   [    4.8623,    2.2808,    1.0908  ...    3.0881    3.3195,    4.7270], \n",
       "   [    0.8910,    0.5387,    4.0722  ...    3.5616    0.4743,    3.3163], \n",
       "    ..., \n",
       "   [    4.4865,    3.5688,    3.2066  ...    4.8537    3.5561,    1.7593], \n",
       "   [    2.8182,    2.3137,    3.7782  ...    3.3314    2.4347,    0.5562], \n",
       "   [    2.3468,    2.3546,    2.7388  ...    2.1378    4.3828,    4.3249]]], \n",
       "\n",
       "\n",
       "  ..., \n",
       "\n",
       "\n",
       " [[[    2.3159,    0.5518,    4.4039  ...    3.4600    0.1866,    0.6844], \n",
       "   [    2.9660,    4.2319,    1.4973  ...    4.7320    3.1516,    0.9696], \n",
       "   [    4.6783,    2.3616,    2.0301  ...    1.8064    0.1464,    4.8975], \n",
       "    ..., \n",
       "   [    2.6844,    3.4505,    0.4844  ...    2.0780    3.2885,    2.6314], \n",
       "   [    2.2729,    3.7838,    0.9652  ...    4.3709    0.3271,    3.7319], \n",
       "   [    2.6850,    0.1472,    1.1959  ...    1.3047    0.7544,    2.2911]]], \n",
       "\n",
       "\n",
       " [[[    0.3919,    0.0358,    0.7184  ...    1.1811    2.7094,    4.3995], \n",
       "   [    1.4535,    3.1669,    0.2654  ...    0.0152    1.5881,    0.5365], \n",
       "   [    4.4266,    4.7306,    0.0528  ...    3.5755    3.5590,    3.0709], \n",
       "    ..., \n",
       "   [    3.1438,    1.6644,    1.2019  ...    3.4261    4.8922,    4.0252], \n",
       "   [    4.2984,    2.8608,    2.6889  ...    3.5573    1.0991,    4.5693], \n",
       "   [    3.8160,    3.4015,    0.9248  ...    0.9078    3.5374,    4.6378]]], \n",
       "\n",
       "\n",
       " [[[    1.5954,    2.6507,    2.4309  ...    2.6388    1.8069,    2.2851], \n",
       "   [    0.3821,    1.9844,    3.4449  ...    4.7764    3.9584,    2.2709], \n",
       "   [    2.1788,    4.9094,    4.8727  ...    1.0375    0.0963,    2.2672], \n",
       "    ..., \n",
       "   [    4.2663,    2.5270,    4.5260  ...    3.6541    2.8716,    1.1477], \n",
       "   [    4.9690,    4.8985,    3.5995  ...    1.1684    3.7782,    3.1573], \n",
       "   [    2.1548,    1.8205,    4.5096  ...    4.9301    4.7337,    3.3470]]]]"
      ]
     },
     "execution_count": 7,
     "metadata": {},
     "output_type": "execute_result"
    }
   ],
   "source": [
    "features.toString()"
   ]
  },
  {
   "cell_type": "code",
   "execution_count": 5,
   "metadata": {},
   "outputs": [],
   "source": [
    "features = features.add(features.mean().neg()).div(features.std())"
   ]
  },
  {
   "cell_type": "code",
   "execution_count": 6,
   "metadata": {},
   "outputs": [],
   "source": [
    "DataSet d = new DataSet(features, labels);"
   ]
  },
  {
   "cell_type": "code",
   "execution_count": 7,
   "metadata": {},
   "outputs": [],
   "source": [
    "DataSetIterator di = new ListDataSetIterator(d.asList(), 10);"
   ]
  },
  {
   "cell_type": "code",
   "execution_count": 8,
   "metadata": {},
   "outputs": [],
   "source": [
    "MultiLayerConfiguration conf = new NeuralNetConfiguration.Builder()\n",
    "    .seed(123)\n",
    "    .optimizationAlgo(OptimizationAlgorithm.STOCHASTIC_GRADIENT_DESCENT)\n",
    "    .list()\n",
    "    .layer(0, new ConvolutionLayer.Builder().kernelSize(3, 3).stride(1, 1).nIn(1).nOut(20).dropOut(.5).build())\n",
    "    .layer(1, new OutputLayer.Builder().nOut(1).weightInit(WeightInit.XAVIER).build())\n",
    "    .setInputType(InputType.convolutional(20, 20, 1))\n",
    "    .pretrain(false).backprop(true)\n",
    "    .build()"
   ]
  },
  {
   "cell_type": "code",
   "execution_count": 9,
   "metadata": {},
   "outputs": [
    {
     "name": "stderr",
     "output_type": "stream",
     "text": [
      "[IJava-executor-0] INFO org.deeplearning4j.nn.multilayer.MultiLayerNetwork - Starting MultiLayerNetwork with WorkspaceModes set to [training: ENABLED; inference: ENABLED], cacheMode set to [NONE]\n"
     ]
    }
   ],
   "source": [
    "MultiLayerNetwork network = new MultiLayerNetwork(conf);\n",
    "network.init();\n",
    "network.setListeners(new ScoreIterationListener(1));"
   ]
  },
  {
   "cell_type": "code",
   "execution_count": 10,
   "metadata": {},
   "outputs": [
    {
     "name": "stderr",
     "output_type": "stream",
     "text": [
      "[IJava-executor-0] INFO org.deeplearning4j.optimize.listeners.ScoreIterationListener - Score at iteration 0 is 0.18465788364410402\n",
      "[IJava-executor-0] INFO org.deeplearning4j.optimize.listeners.ScoreIterationListener - Score at iteration 1 is 0.2753016710281372\n",
      "[IJava-executor-0] INFO org.deeplearning4j.optimize.listeners.ScoreIterationListener - Score at iteration 2 is 0.12080224752426147\n",
      "[IJava-executor-0] INFO org.deeplearning4j.optimize.listeners.ScoreIterationListener - Score at iteration 3 is 0.19649918079376222\n",
      "[IJava-executor-0] INFO org.deeplearning4j.optimize.listeners.ScoreIterationListener - Score at iteration 4 is 0.11572840213775634\n",
      "[IJava-executor-0] INFO org.deeplearning4j.optimize.listeners.ScoreIterationListener - Score at iteration 5 is 0.06093320846557617\n",
      "[IJava-executor-0] INFO org.deeplearning4j.optimize.listeners.ScoreIterationListener - Score at iteration 6 is 0.07324883937835694\n",
      "[IJava-executor-0] INFO org.deeplearning4j.optimize.listeners.ScoreIterationListener - Score at iteration 7 is 0.08967291116714478\n",
      "[IJava-executor-0] INFO org.deeplearning4j.optimize.listeners.ScoreIterationListener - Score at iteration 8 is 0.05812628865242005\n",
      "[IJava-executor-0] INFO org.deeplearning4j.optimize.listeners.ScoreIterationListener - Score at iteration 9 is 0.05939708948135376\n"
     ]
    },
    {
     "name": "stdout",
     "output_type": "stream",
     "text": [
      "*** Completed epoch 0.\n"
     ]
    },
    {
     "name": "stderr",
     "output_type": "stream",
     "text": [
      "[IJava-executor-0] INFO org.deeplearning4j.optimize.listeners.ScoreIterationListener - Score at iteration 10 is 0.03940052688121796\n",
      "[IJava-executor-0] INFO org.deeplearning4j.optimize.listeners.ScoreIterationListener - Score at iteration 11 is 0.07562063932418824\n",
      "[IJava-executor-0] INFO org.deeplearning4j.optimize.listeners.ScoreIterationListener - Score at iteration 12 is 0.035659310221672055\n",
      "[IJava-executor-0] INFO org.deeplearning4j.optimize.listeners.ScoreIterationListener - Score at iteration 13 is 0.07124021053314208\n",
      "[IJava-executor-0] INFO org.deeplearning4j.optimize.listeners.ScoreIterationListener - Score at iteration 14 is 0.05120176672935486\n",
      "[IJava-executor-0] INFO org.deeplearning4j.optimize.listeners.ScoreIterationListener - Score at iteration 15 is 0.026362788677215577\n",
      "[IJava-executor-0] INFO org.deeplearning4j.optimize.listeners.ScoreIterationListener - Score at iteration 16 is 0.03158822357654571\n",
      "[IJava-executor-0] INFO org.deeplearning4j.optimize.listeners.ScoreIterationListener - Score at iteration 17 is 0.04229903221130371\n",
      "[IJava-executor-0] INFO org.deeplearning4j.optimize.listeners.ScoreIterationListener - Score at iteration 18 is 0.028895318508148193\n",
      "[IJava-executor-0] INFO org.deeplearning4j.optimize.listeners.ScoreIterationListener - Score at iteration 19 is 0.029845941066741943\n"
     ]
    },
    {
     "name": "stdout",
     "output_type": "stream",
     "text": [
      "*** Completed epoch 1.\n"
     ]
    },
    {
     "name": "stderr",
     "output_type": "stream",
     "text": [
      "[IJava-executor-0] INFO org.deeplearning4j.optimize.listeners.ScoreIterationListener - Score at iteration 20 is 0.023371633887290955\n",
      "[IJava-executor-0] INFO org.deeplearning4j.optimize.listeners.ScoreIterationListener - Score at iteration 21 is 0.03858671486377716\n",
      "[IJava-executor-0] INFO org.deeplearning4j.optimize.listeners.ScoreIterationListener - Score at iteration 22 is 0.019564956426620483\n",
      "[IJava-executor-0] INFO org.deeplearning4j.optimize.listeners.ScoreIterationListener - Score at iteration 23 is 0.041256952285766604\n",
      "[IJava-executor-0] INFO org.deeplearning4j.optimize.listeners.ScoreIterationListener - Score at iteration 24 is 0.028369739651679993\n",
      "[IJava-executor-0] INFO org.deeplearning4j.optimize.listeners.ScoreIterationListener - Score at iteration 25 is 0.015617898106575013\n",
      "[IJava-executor-0] INFO org.deeplearning4j.optimize.listeners.ScoreIterationListener - Score at iteration 26 is 0.021478107571601866\n",
      "[IJava-executor-0] INFO org.deeplearning4j.optimize.listeners.ScoreIterationListener - Score at iteration 27 is 0.027559065818786622\n",
      "[IJava-executor-0] INFO org.deeplearning4j.optimize.listeners.ScoreIterationListener - Score at iteration 28 is 0.01974385678768158\n",
      "[IJava-executor-0] INFO org.deeplearning4j.optimize.listeners.ScoreIterationListener - Score at iteration 29 is 0.0195864737033844\n"
     ]
    },
    {
     "name": "stdout",
     "output_type": "stream",
     "text": [
      "*** Completed epoch 2.\n"
     ]
    }
   ],
   "source": [
    "for (int i=0; i<3; i++) {\n",
    "    network.fit(di);\n",
    "    System.out.println(\"*** Completed epoch \" + i + \".\");\n",
    "}"
   ]
  },
  {
   "cell_type": "code",
   "execution_count": 8,
   "metadata": {},
   "outputs": [
    {
     "data": {
      "text/plain": [
       "/tmp"
      ]
     },
     "execution_count": 8,
     "metadata": {},
     "output_type": "execute_result"
    }
   ],
   "source": [
    "String tmp_dir = System.getProperty(\"java.io.tmpdir\");\n"
   ]
  },
  {
   "cell_type": "code",
   "execution_count": 21,
   "metadata": {},
   "outputs": [],
   "source": [
    "import org.datavec.image.loader.NativeImageLoader;"
   ]
  },
  {
   "cell_type": "code",
   "execution_count": 23,
   "metadata": {},
   "outputs": [],
   "source": [
    "NativeImageLoader loader = new NativeImageLoader(28, 28, 3);\n",
    "INDArray image = loader.asMatrix(new File(\"/home/bzr0014/Pictures/LSU_HIP.png\"));"
   ]
  },
  {
   "cell_type": "code",
   "execution_count": 29,
   "metadata": {},
   "outputs": [
    {
     "data": {
      "text/plain": [
       "[1, 3, 28, 28]"
      ]
     },
     "execution_count": 29,
     "metadata": {},
     "output_type": "execute_result"
    }
   ],
   "source": [
    "Arrays.toString(image.shape())"
   ]
  },
  {
   "cell_type": "code",
   "execution_count": 30,
   "metadata": {},
   "outputs": [],
   "source": [
    "int seed = 2345;\n",
    "        double learningRate = 0.05;\n",
    "        int numInputs = 2;   // x and y.\n",
    "        int numHiddenNodes = 100;\n",
    "        int numOutputs = 3 ; //R, G and B value.\n",
    "\n",
    "        MultiLayerConfiguration conf = new NeuralNetConfiguration.Builder()\n",
    "            .seed(seed)\n",
    "            .weightInit(WeightInit.XAVIER)\n",
    "            .updater(new Nesterovs(learningRate, 0.9))\n",
    "            .list()\n",
    "            .layer(0, new DenseLayer.Builder().nIn(numInputs).nOut(numHiddenNodes)\n",
    "                .activation(Activation.LEAKYRELU)\n",
    "                .build())\n",
    "            .layer(1, new DenseLayer.Builder().nIn(numHiddenNodes).nOut(numHiddenNodes)\n",
    "                .activation(Activation.LEAKYRELU)\n",
    "                .build())\n",
    "            .layer(2, new DenseLayer.Builder().nIn(numHiddenNodes).nOut(numHiddenNodes)\n",
    "                .activation(Activation.LEAKYRELU)\n",
    "                .build())\n",
    "            .layer(3, new DenseLayer.Builder().nIn(numHiddenNodes).nOut(numHiddenNodes)\n",
    "                .activation(Activation.LEAKYRELU)\n",
    "                .build())\n",
    "            .layer(4, new DenseLayer.Builder().nIn(numHiddenNodes).nOut(numHiddenNodes)\n",
    "                .activation(Activation.LEAKYRELU)\n",
    "                .build())\n",
    "            .layer(5, new OutputLayer.Builder(LossFunctions.LossFunction.L2)\n",
    "                .activation(Activation.IDENTITY)\n",
    "                .nIn(numHiddenNodes).nOut(numOutputs).build())\n",
    "            .build();\n",
    "\n",
    "        MultiLayerNetwork net = new MultiLayerNetwork(conf);\n",
    "        net.init();"
   ]
  },
  {
   "cell_type": "code",
   "execution_count": 36,
   "metadata": {},
   "outputs": [
    {
     "data": {
      "text/plain": [
       "[layer0, layer1, layer2, layer3, layer4, layer5]"
      ]
     },
     "execution_count": 36,
     "metadata": {},
     "output_type": "execute_result"
    }
   ],
   "source": [
    "net.getLayerNames()"
   ]
  },
  {
   "cell_type": "code",
   "execution_count": 42,
   "metadata": {},
   "outputs": [],
   "source": [
    "import org.deeplearning4j.nn.api.Layer"
   ]
  },
  {
   "cell_type": "code",
   "execution_count": 45,
   "metadata": {},
   "outputs": [
    {
     "data": {
      "text/plain": [
       "{W=[[   -0.1763,   -0.0715,   -0.1460,    0.0425,   -0.1897,    0.0922,    0.0464,   -0.0536,    0.0632,   -0.0231,   -0.0144,    0.1276,   -0.1895,    0.0014,   -0.2097,    0.0362,    0.0952,    0.1855,    0.2081,    0.4102,   -0.0354,    0.0105,   -0.1754,   -0.3234,    0.1678,   -0.0479,   -0.0963,    0.2717,    0.0268,   -0.0288,   -0.4067,    0.0410,    0.0891,    0.1048,   -0.0738,   -0.0762,    0.0015,    0.1213,   -0.1552,   -0.0129,   -0.0070,   -0.1444,    0.0290,   -0.0415,   -0.0335,   -0.1025,    0.0375,   -0.0405,   -0.0173,    0.0072,    0.1228,   -0.0794,   -0.2758,    0.1102,    0.1362,    0.0026,    0.1445,    0.0276,    0.0461,   -0.0537,   -0.2009,   -0.2256,   -0.1905,   -0.0724,    0.1469,   -0.1153,    0.0803,    0.0583,   -0.2742,    0.1661,   -0.1223,   -0.0542,   -0.1534,    0.1126,   -0.2364,   -0.2347,    0.0665,    0.0631,    0.0519,   -0.0588,   -0.0495,   -0.1931,    0.0838,   -0.1271,   -0.2515,   -0.0057,   -0.3719,    0.0924,    0.0603,    0.1344,   -0.0479,   -0.1463,   -0.0324,   -0.1474,    0.1036,   -0.0888,   -0.2374,   -0.0412,    0.2282,   -0.1096], \n",
       " [    0.0682,    0.0053,   -0.2528,   -0.1454,   -0.0283,    0.1176,   -0.1338,   -0.1352,   -0.1259,    0.2530,    0.2148,   -0.1988,    0.0648,   -0.1511,    0.0408,    0.0680,   -0.0046,   -0.1105,   -0.1943,    0.0914,    0.0392,    0.1094,    0.0697,   -0.0650,   -0.1059,    0.2059,   -0.2057,    0.0866,    0.0510,   -0.1750,    0.0743,   -0.2685,   -0.0879,   -0.1218,   -0.0019,    0.3215,   -0.2434,    0.3068,   -0.0947,   -0.0969,    0.0974,   -0.2950,   -0.1454,    0.1703,   -0.0152,    0.0328,   -0.1182,    0.1589,   -0.4272,   -0.1280,    0.1711,   -0.0074,    0.1520,   -0.1314,   -0.1241,    0.3190,    0.0419,    0.4187,    0.2729,   -0.1539,    0.0786,   -0.0600,    0.2353,   -0.1257,   -0.0461,    0.0254,   -0.1484,   -0.1806,    0.2015,   -0.1813,    0.0315,   -0.0962,    0.1956,   -0.0467,   -0.0287,   -0.1315,    0.0012,    0.1835,   -0.1215,   -0.1966,   -0.0779,   -0.1145,    0.0413,    0.2809,   -0.1683,   -0.0227,   -0.1108,    0.1399,    0.1154,   -0.0918,   -0.1263,    0.2919,    0.0087,    0.1290,    0.0683,   -0.0873,   -0.0487,   -0.2247,    0.0493,   -0.0231]], b=[[         0,         0,         0,         0,         0,         0,         0,         0,         0,         0,         0,         0,         0,         0,         0,         0,         0,         0,         0,         0,         0,         0,         0,         0,         0,         0,         0,         0,         0,         0,         0,         0,         0,         0,         0,         0,         0,         0,         0,         0,         0,         0,         0,         0,         0,         0,         0,         0,         0,         0,         0,         0,         0,         0,         0,         0,         0,         0,         0,         0,         0,         0,         0,         0,         0,         0,         0,         0,         0,         0,         0,         0,         0,         0,         0,         0,         0,         0,         0,         0,         0,         0,         0,         0,         0,         0,         0,         0,         0,         0,         0,         0,         0,         0,         0,         0,         0,         0,         0,         0]]}"
      ]
     },
     "execution_count": 45,
     "metadata": {},
     "output_type": "execute_result"
    }
   ],
   "source": [
    "net.getLayer(\"layer0\").paramTable()"
   ]
  },
  {
   "cell_type": "code",
   "execution_count": null,
   "metadata": {},
   "outputs": [],
   "source": [
    "net.getLayers()"
   ]
  }
 ],
 "metadata": {
  "kernelspec": {
   "display_name": "Java",
   "language": "java",
   "name": "java"
  },
  "language_info": {
   "codemirror_mode": "java",
   "file_extension": ".java",
   "mimetype": "text/x-java-source",
   "name": "Java",
   "pygments_lexer": "java",
   "version": "11.0.1+13-LTS"
  }
 },
 "nbformat": 4,
 "nbformat_minor": 2
}
