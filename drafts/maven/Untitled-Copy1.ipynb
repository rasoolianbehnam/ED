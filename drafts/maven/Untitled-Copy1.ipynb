{
 "cells": [
  {
   "cell_type": "code",
   "execution_count": 1,
   "metadata": {},
   "outputs": [],
   "source": [
    "//%maven org.nd4j:nd4j-cuda-9.0:1.0.0-beta\n",
    "//%maven org.deeplearning4j:deeplearning4j-cuda-9.0:1.0.0-beta\n",
    "//%maven org.datavec:datavec-api:1.0.0-beta\n",
    "\n",
    "%maven org.nd4j:nd4j-native-platform:1.0.0-beta\n",
    "%maven org.deeplearning4j:deeplearning4j-core:1.0.0-beta\n",
    "%maven org.datavec:datavec-api:1.0.0-beta"
   ]
  },
  {
   "cell_type": "code",
   "execution_count": 7,
   "metadata": {},
   "outputs": [],
   "source": [
    "import org.deeplearning4j.datasets.iterator.*;\n",
    "import org.deeplearning4j.datasets.iterator.impl.*;\n",
    "import org.deeplearning4j.nn.api.*;\n",
    "import org.deeplearning4j.nn.multilayer.*;\n",
    "import org.deeplearning4j.nn.graph.*;\n",
    "import org.deeplearning4j.nn.conf.*;\n",
    "import org.deeplearning4j.nn.conf.inputs.*;\n",
    "import org.deeplearning4j.nn.conf.layers.*;\n",
    "import org.deeplearning4j.nn.weights.*;\n",
    "import org.deeplearning4j.optimize.listeners.*;\n",
    "import org.deeplearning4j.datasets.datavec.RecordReaderMultiDataSetIterator;\n",
    "import org.deeplearning4j.eval.Evaluation;\n",
    "\n",
    "import org.nd4j.linalg.learning.config.*; // for different updaters like Adam, Nesterovs, etc.\n",
    "import org.nd4j.linalg.activations.Activation; // defines different activation functions like RELU, SOFTMAX, etc.\n",
    "import org.nd4j.linalg.lossfunctions.LossFunctions;\n",
    "import org.nd4j.linalg.indexing.conditions.GreaterThan"
   ]
  },
  {
   "cell_type": "code",
   "execution_count": 3,
   "metadata": {},
   "outputs": [],
   "source": [
    "import org.nd4j.linalg.dataset.DataSet;\n",
    "import org.nd4j.linalg.dataset.MiniBatchFileDataSetIterator;\n",
    "import org.nd4j.linalg.api.ndarray.INDArray;\n",
    "import org.nd4j.linalg.factory.Nd4j;\n",
    "import org.nd4j.linalg.dataset.api.iterator.DataSetIterator;"
   ]
  },
  {
   "cell_type": "code",
   "execution_count": 34,
   "metadata": {},
   "outputs": [],
   "source": [
    "INDArray features = Nd4j.rand(new int[]{100, 1, 20, 20}).mul(5);\n",
    "INDArray ones = Nd4j.ones(new int[]{100, 1, 20, 20}).mul(22);\n",
    "INDArray labels = Nd4j.rand(100, 1);"
   ]
  },
  {
   "cell_type": "code",
   "execution_count": 35,
   "metadata": {},
   "outputs": [
    {
     "data": {
      "text/plain": [
       "[[[[    2.1677,    0.3654,    0.3643  ...    1.3710    0.8520,    3.0000], \n",
       "   [    3.0000,    3.0000,    1.5545  ...    0.0757    3.0000,    2.0436], \n",
       "   [    3.0000,    3.0000,    3.0000  ...    1.0942    1.7830,    2.0918], \n",
       "    ..., \n",
       "   [    3.0000,    0.0809,    2.2502  ...    1.2629    2.7562,    3.0000], \n",
       "   [    1.0567,    2.5756,    1.4896  ...    3.0000    3.0000,    3.0000], \n",
       "   [    0.3929,    1.6279,    3.0000  ...    2.9354    3.0000,    3.0000]]], \n",
       "\n",
       "\n",
       " [[[    3.0000,    3.0000,    3.0000  ...    1.8164    1.9472,    3.0000], \n",
       "   [    1.3856,    1.3345,    3.0000  ...    3.0000    3.0000,    2.9744], \n",
       "   [    1.5613,    3.0000,    0.7618  ...    2.7281    0.2013,    0.6775], \n",
       "    ..., \n",
       "   [    1.2874,    2.5631,    2.2345  ...    3.0000    3.0000,    3.0000], \n",
       "   [    1.8011,    0.5864,    3.0000  ...    0.9495    3.0000,    3.0000], \n",
       "   [    3.0000,    0.9113,    2.4567  ...    1.7606    2.3075,    2.1296]]], \n",
       "\n",
       "\n",
       " [[[    1.1895,    1.0417,    1.9304  ...    2.0708    1.0581,    3.0000], \n",
       "   [    3.0000,    1.0594,    3.0000  ...    1.9735    1.7465,    0.7662], \n",
       "   [    3.0000,    2.3045,    3.0000  ...    3.0000    0.2356,    3.0000], \n",
       "    ..., \n",
       "   [    2.0493,    1.3714,    0.6715  ...    0.3969    0.0106,    2.6003], \n",
       "   [    3.0000,    1.2200,    3.0000  ...    3.0000    3.0000,    1.5962], \n",
       "   [    1.8309,    2.1497,    2.6991  ...    0.5864    3.0000,    2.9192]]], \n",
       "\n",
       "\n",
       "  ..., \n",
       "\n",
       "\n",
       " [[[    0.6365,    2.3883,    3.0000  ...    1.6441    1.3417,    0.1687], \n",
       "   [    1.7169,    1.9272,    0.4922  ...    2.9246    3.0000,    3.0000], \n",
       "   [    1.2054,    0.1518,    0.8985  ...    1.1959    1.9535,    3.0000], \n",
       "    ..., \n",
       "   [    0.9871,    3.0000,    3.0000  ...    2.3348    0.6606,    1.5250], \n",
       "   [    2.2980,    2.9475,    2.7092  ...    3.0000    2.1377,    0.8911], \n",
       "   [    0.0863,    3.0000,    1.4831  ...    0.9736    1.6906,    3.0000]]], \n",
       "\n",
       "\n",
       " [[[    2.8326,    3.0000,    1.8232  ...    2.5583    2.3851,    1.2221], \n",
       "   [    1.8707,    1.7821,    3.0000  ...    2.9772    1.4325,    1.6690], \n",
       "   [    2.3276,    0.8969,    0.4659  ...    0.0360    3.0000,    0.7548], \n",
       "    ..., \n",
       "   [    1.9116,    3.0000,    1.8392  ...    3.0000    0.8167,    1.0516], \n",
       "   [    1.3155,    2.2330,    3.0000  ...    0.9900    3.0000,    3.0000], \n",
       "   [    3.0000,    1.3268,    2.9836  ...    0.9217    3.0000,    3.0000]]], \n",
       "\n",
       "\n",
       " [[[    2.5112,    1.0092,    2.2038  ...    1.4082    1.0242,    2.7656], \n",
       "   [    3.0000,    2.2190,    2.5029  ...    1.6634    3.0000,    0.5429], \n",
       "   [    2.8622,    2.4996,    1.1480  ...    3.0000    2.2181,    2.8750], \n",
       "    ..., \n",
       "   [    0.4583,    3.0000,    2.2578  ...    0.1402    3.0000,    3.0000], \n",
       "   [    3.0000,    1.8945,    3.0000  ...    3.0000    3.0000,    1.6948], \n",
       "   [    3.0000,    2.9651,    1.7225  ...    3.0000    3.0000,    3.0000]]]]"
      ]
     },
     "execution_count": 35,
     "metadata": {},
     "output_type": "execute_result"
    }
   ],
   "source": [
    "features.mul(features.lte(3)).add(features.gt(3).mul(3))"
   ]
  },
  {
   "cell_type": "code",
   "execution_count": 5,
   "metadata": {},
   "outputs": [],
   "source": [
    "features = features.add(features.mean().neg()).div(features.std())"
   ]
  },
  {
   "cell_type": "code",
   "execution_count": 6,
   "metadata": {},
   "outputs": [],
   "source": [
    "DataSet d = new DataSet(features, labels);"
   ]
  },
  {
   "cell_type": "code",
   "execution_count": 7,
   "metadata": {},
   "outputs": [],
   "source": [
    "DataSetIterator di = new ListDataSetIterator(d.asList(), 10);"
   ]
  },
  {
   "cell_type": "code",
   "execution_count": 8,
   "metadata": {},
   "outputs": [],
   "source": [
    "MultiLayerConfiguration conf = new NeuralNetConfiguration.Builder()\n",
    "    .seed(123)\n",
    "    .optimizationAlgo(OptimizationAlgorithm.STOCHASTIC_GRADIENT_DESCENT)\n",
    "    .list()\n",
    "    .layer(0, new ConvolutionLayer.Builder().kernelSize(3, 3).stride(1, 1).nIn(1).nOut(20).dropOut(.5).build())\n",
    "    .layer(1, new OutputLayer.Builder().nOut(1).weightInit(WeightInit.XAVIER).build())\n",
    "    .setInputType(InputType.convolutional(20, 20, 1))\n",
    "    .pretrain(false).backprop(true)\n",
    "    .build()"
   ]
  },
  {
   "cell_type": "code",
   "execution_count": 9,
   "metadata": {},
   "outputs": [
    {
     "name": "stderr",
     "output_type": "stream",
     "text": [
      "[IJava-executor-0] INFO org.deeplearning4j.nn.multilayer.MultiLayerNetwork - Starting MultiLayerNetwork with WorkspaceModes set to [training: ENABLED; inference: ENABLED], cacheMode set to [NONE]\n"
     ]
    }
   ],
   "source": [
    "MultiLayerNetwork network = new MultiLayerNetwork(conf);\n",
    "network.init();\n",
    "network.setListeners(new ScoreIterationListener(1));"
   ]
  },
  {
   "cell_type": "code",
   "execution_count": 10,
   "metadata": {},
   "outputs": [
    {
     "name": "stderr",
     "output_type": "stream",
     "text": [
      "[IJava-executor-0] INFO org.deeplearning4j.optimize.listeners.ScoreIterationListener - Score at iteration 0 is 0.18465788364410402\n",
      "[IJava-executor-0] INFO org.deeplearning4j.optimize.listeners.ScoreIterationListener - Score at iteration 1 is 0.2753016710281372\n",
      "[IJava-executor-0] INFO org.deeplearning4j.optimize.listeners.ScoreIterationListener - Score at iteration 2 is 0.12080224752426147\n",
      "[IJava-executor-0] INFO org.deeplearning4j.optimize.listeners.ScoreIterationListener - Score at iteration 3 is 0.19649918079376222\n",
      "[IJava-executor-0] INFO org.deeplearning4j.optimize.listeners.ScoreIterationListener - Score at iteration 4 is 0.11572840213775634\n",
      "[IJava-executor-0] INFO org.deeplearning4j.optimize.listeners.ScoreIterationListener - Score at iteration 5 is 0.06093320846557617\n",
      "[IJava-executor-0] INFO org.deeplearning4j.optimize.listeners.ScoreIterationListener - Score at iteration 6 is 0.07324883937835694\n",
      "[IJava-executor-0] INFO org.deeplearning4j.optimize.listeners.ScoreIterationListener - Score at iteration 7 is 0.08967291116714478\n",
      "[IJava-executor-0] INFO org.deeplearning4j.optimize.listeners.ScoreIterationListener - Score at iteration 8 is 0.05812628865242005\n",
      "[IJava-executor-0] INFO org.deeplearning4j.optimize.listeners.ScoreIterationListener - Score at iteration 9 is 0.05939708948135376\n"
     ]
    },
    {
     "name": "stdout",
     "output_type": "stream",
     "text": [
      "*** Completed epoch 0.\n"
     ]
    },
    {
     "name": "stderr",
     "output_type": "stream",
     "text": [
      "[IJava-executor-0] INFO org.deeplearning4j.optimize.listeners.ScoreIterationListener - Score at iteration 10 is 0.03940052688121796\n",
      "[IJava-executor-0] INFO org.deeplearning4j.optimize.listeners.ScoreIterationListener - Score at iteration 11 is 0.07562063932418824\n",
      "[IJava-executor-0] INFO org.deeplearning4j.optimize.listeners.ScoreIterationListener - Score at iteration 12 is 0.035659310221672055\n",
      "[IJava-executor-0] INFO org.deeplearning4j.optimize.listeners.ScoreIterationListener - Score at iteration 13 is 0.07124021053314208\n",
      "[IJava-executor-0] INFO org.deeplearning4j.optimize.listeners.ScoreIterationListener - Score at iteration 14 is 0.05120176672935486\n",
      "[IJava-executor-0] INFO org.deeplearning4j.optimize.listeners.ScoreIterationListener - Score at iteration 15 is 0.026362788677215577\n",
      "[IJava-executor-0] INFO org.deeplearning4j.optimize.listeners.ScoreIterationListener - Score at iteration 16 is 0.03158822357654571\n",
      "[IJava-executor-0] INFO org.deeplearning4j.optimize.listeners.ScoreIterationListener - Score at iteration 17 is 0.04229903221130371\n",
      "[IJava-executor-0] INFO org.deeplearning4j.optimize.listeners.ScoreIterationListener - Score at iteration 18 is 0.028895318508148193\n",
      "[IJava-executor-0] INFO org.deeplearning4j.optimize.listeners.ScoreIterationListener - Score at iteration 19 is 0.029845941066741943\n"
     ]
    },
    {
     "name": "stdout",
     "output_type": "stream",
     "text": [
      "*** Completed epoch 1.\n"
     ]
    },
    {
     "name": "stderr",
     "output_type": "stream",
     "text": [
      "[IJava-executor-0] INFO org.deeplearning4j.optimize.listeners.ScoreIterationListener - Score at iteration 20 is 0.023371633887290955\n",
      "[IJava-executor-0] INFO org.deeplearning4j.optimize.listeners.ScoreIterationListener - Score at iteration 21 is 0.03858671486377716\n",
      "[IJava-executor-0] INFO org.deeplearning4j.optimize.listeners.ScoreIterationListener - Score at iteration 22 is 0.019564956426620483\n",
      "[IJava-executor-0] INFO org.deeplearning4j.optimize.listeners.ScoreIterationListener - Score at iteration 23 is 0.041256952285766604\n",
      "[IJava-executor-0] INFO org.deeplearning4j.optimize.listeners.ScoreIterationListener - Score at iteration 24 is 0.028369739651679993\n",
      "[IJava-executor-0] INFO org.deeplearning4j.optimize.listeners.ScoreIterationListener - Score at iteration 25 is 0.015617898106575013\n",
      "[IJava-executor-0] INFO org.deeplearning4j.optimize.listeners.ScoreIterationListener - Score at iteration 26 is 0.021478107571601866\n",
      "[IJava-executor-0] INFO org.deeplearning4j.optimize.listeners.ScoreIterationListener - Score at iteration 27 is 0.027559065818786622\n",
      "[IJava-executor-0] INFO org.deeplearning4j.optimize.listeners.ScoreIterationListener - Score at iteration 28 is 0.01974385678768158\n",
      "[IJava-executor-0] INFO org.deeplearning4j.optimize.listeners.ScoreIterationListener - Score at iteration 29 is 0.0195864737033844\n"
     ]
    },
    {
     "name": "stdout",
     "output_type": "stream",
     "text": [
      "*** Completed epoch 2.\n"
     ]
    }
   ],
   "source": [
    "for (int i=0; i<3; i++) {\n",
    "    network.fit(di);\n",
    "    System.out.println(\"*** Completed epoch \" + i + \".\");\n",
    "}"
   ]
  },
  {
   "cell_type": "code",
   "execution_count": 8,
   "metadata": {},
   "outputs": [
    {
     "data": {
      "text/plain": [
       "/tmp"
      ]
     },
     "execution_count": 8,
     "metadata": {},
     "output_type": "execute_result"
    }
   ],
   "source": [
    "String tmp_dir = System.getProperty(\"java.io.tmpdir\");\n"
   ]
  },
  {
   "cell_type": "code",
   "execution_count": 21,
   "metadata": {},
   "outputs": [],
   "source": [
    "import org.datavec.image.loader.NativeImageLoader;"
   ]
  },
  {
   "cell_type": "code",
   "execution_count": 23,
   "metadata": {},
   "outputs": [],
   "source": [
    "NativeImageLoader loader = new NativeImageLoader(28, 28, 3);\n",
    "INDArray image = loader.asMatrix(new File(\"/home/bzr0014/Pictures/LSU_HIP.png\"));"
   ]
  },
  {
   "cell_type": "code",
   "execution_count": 29,
   "metadata": {},
   "outputs": [
    {
     "data": {
      "text/plain": [
       "[1, 3, 28, 28]"
      ]
     },
     "execution_count": 29,
     "metadata": {},
     "output_type": "execute_result"
    }
   ],
   "source": [
    "Arrays.toString(image.shape())"
   ]
  },
  {
   "cell_type": "code",
   "execution_count": 30,
   "metadata": {},
   "outputs": [],
   "source": [
    "int seed = 2345;\n",
    "        double learningRate = 0.05;\n",
    "        int numInputs = 2;   // x and y.\n",
    "        int numHiddenNodes = 100;\n",
    "        int numOutputs = 3 ; //R, G and B value.\n",
    "\n",
    "        MultiLayerConfiguration conf = new NeuralNetConfiguration.Builder()\n",
    "            .seed(seed)\n",
    "            .weightInit(WeightInit.XAVIER)\n",
    "            .updater(new Nesterovs(learningRate, 0.9))\n",
    "            .list()\n",
    "            .layer(0, new DenseLayer.Builder().nIn(numInputs).nOut(numHiddenNodes)\n",
    "                .activation(Activation.LEAKYRELU)\n",
    "                .build())\n",
    "            .layer(1, new DenseLayer.Builder().nIn(numHiddenNodes).nOut(numHiddenNodes)\n",
    "                .activation(Activation.LEAKYRELU)\n",
    "                .build())\n",
    "            .layer(2, new DenseLayer.Builder().nIn(numHiddenNodes).nOut(numHiddenNodes)\n",
    "                .activation(Activation.LEAKYRELU)\n",
    "                .build())\n",
    "            .layer(3, new DenseLayer.Builder().nIn(numHiddenNodes).nOut(numHiddenNodes)\n",
    "                .activation(Activation.LEAKYRELU)\n",
    "                .build())\n",
    "            .layer(4, new DenseLayer.Builder().nIn(numHiddenNodes).nOut(numHiddenNodes)\n",
    "                .activation(Activation.LEAKYRELU)\n",
    "                .build())\n",
    "            .layer(5, new OutputLayer.Builder(LossFunctions.LossFunction.L2)\n",
    "                .activation(Activation.IDENTITY)\n",
    "                .nIn(numHiddenNodes).nOut(numOutputs).build())\n",
    "            .build();\n",
    "\n",
    "        MultiLayerNetwork net = new MultiLayerNetwork(conf);\n",
    "        net.init();"
   ]
  },
  {
   "cell_type": "code",
   "execution_count": 36,
   "metadata": {},
   "outputs": [
    {
     "data": {
      "text/plain": [
       "[layer0, layer1, layer2, layer3, layer4, layer5]"
      ]
     },
     "execution_count": 36,
     "metadata": {},
     "output_type": "execute_result"
    }
   ],
   "source": [
    "net.getLayerNames()"
   ]
  },
  {
   "cell_type": "code",
   "execution_count": 42,
   "metadata": {},
   "outputs": [],
   "source": [
    "import org.deeplearning4j.nn.api.Layer"
   ]
  },
  {
   "cell_type": "code",
   "execution_count": 6,
   "metadata": {},
   "outputs": [],
   "source": [
    "NativeImageLoader loader = new NativeImageLoader(200, 200, 3);\n"
   ]
  },
  {
   "cell_type": "code",
   "execution_count": 4,
   "metadata": {},
   "outputs": [],
   "source": [
    "import org.datavec.image.loader.NativeImageLoader;\n",
    "import org.nd4j.linalg.api.ndarray.INDArray;\n",
    "import org.nd4j.linalg.factory.Nd4j"
   ]
  },
  {
   "cell_type": "code",
   "execution_count": 7,
   "metadata": {},
   "outputs": [
    {
     "name": "stderr",
     "output_type": "stream",
     "text": [
      "[IJava-executor-0] INFO org.nd4j.linalg.factory.Nd4jBackend - Loaded [CpuBackend] backend\n",
      "[IJava-executor-0] INFO org.nd4j.nativeblas.NativeOpsHolder - Number of threads used for NativeOps: 2\n",
      "[IJava-executor-0] INFO org.nd4j.nativeblas.Nd4jBlas - Number of threads used for BLAS: 2\n",
      "[IJava-executor-0] INFO org.nd4j.linalg.api.ops.executioner.DefaultOpExecutioner - Backend used: [CPU]; OS: [Mac OS X]\n",
      "[IJava-executor-0] INFO org.nd4j.linalg.api.ops.executioner.DefaultOpExecutioner - Cores: [4]; Memory: [1.0GB];\n",
      "[IJava-executor-0] INFO org.nd4j.linalg.api.ops.executioner.DefaultOpExecutioner - Blas vendor: [OPENBLAS]\n"
     ]
    }
   ],
   "source": [
    "INDArray image = loader.asMatrix(new File(\n",
    "        \"/Users/behnamrasoolian/Dropbox/Photos/IMG_20140220_034619288.jpg\")) "
   ]
  },
  {
   "cell_type": "code",
   "execution_count": 8,
   "metadata": {},
   "outputs": [],
   "source": [
    "INDArray image = loader.asMatrix(new File(\"/Users/behnamrasoolian/Dropbox/Photos/IMG_20140220_034619288.jpg\"))"
   ]
  },
  {
   "cell_type": "code",
   "execution_count": 14,
   "metadata": {},
   "outputs": [
    {
     "data": {
      "text/plain": [
       "org.bytedeco.javacpp.opencv_core$Mat[width=200,height=200,depth=32,channels=3]"
      ]
     },
     "execution_count": 14,
     "metadata": {},
     "output_type": "execute_result"
    }
   ],
   "source": [
    "loader.asMat(image)"
   ]
  },
  {
   "cell_type": "code",
   "execution_count": null,
   "metadata": {},
   "outputs": [],
   "source": []
  },
  {
   "cell_type": "code",
   "execution_count": null,
   "metadata": {},
   "outputs": [],
   "source": []
  }
 ],
 "metadata": {
  "kernelspec": {
   "display_name": "Java",
   "language": "java",
   "name": "java"
  },
  "language_info": {
   "codemirror_mode": "java",
   "file_extension": ".java",
   "mimetype": "text/x-java-source",
   "name": "Java",
   "pygments_lexer": "java",
   "version": "11.0.1+13-LTS"
  }
 },
 "nbformat": 4,
 "nbformat_minor": 2
}
