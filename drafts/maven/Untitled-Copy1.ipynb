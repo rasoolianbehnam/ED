{
 "cells": [
  {
   "cell_type": "code",
   "execution_count": 24,
   "metadata": {},
   "outputs": [],
   "source": [
    "%maven org.nd4j:nd4j-cuda-9.0:1.0.0-beta\n",
    "%maven org.deeplearning4j:deeplearning4j-cuda-9.0:1.0.0-beta\n",
    "%maven org.datavec:datavec-api:1.0.0-beta"
   ]
  },
  {
   "cell_type": "code",
   "execution_count": 2,
   "metadata": {},
   "outputs": [],
   "source": [
    "import org.deeplearning4j.datasets.iterator.*;\n",
    "import org.deeplearning4j.datasets.iterator.impl.*;\n",
    "import org.deeplearning4j.nn.api.*;\n",
    "import org.deeplearning4j.nn.multilayer.*;\n",
    "import org.deeplearning4j.nn.graph.*;\n",
    "import org.deeplearning4j.nn.conf.*;\n",
    "import org.deeplearning4j.nn.conf.inputs.*;\n",
    "import org.deeplearning4j.nn.conf.layers.*;\n",
    "import org.deeplearning4j.nn.weights.*;\n",
    "import org.deeplearning4j.optimize.listeners.*;\n",
    "import org.deeplearning4j.datasets.datavec.RecordReaderMultiDataSetIterator;\n",
    "import org.deeplearning4j.eval.Evaluation;\n",
    "\n",
    "import org.nd4j.linalg.learning.config.*; // for different updaters like Adam, Nesterovs, etc.\n",
    "import org.nd4j.linalg.activations.Activation; // defines different activation functions like RELU, SOFTMAX, etc.\n",
    "import org.nd4j.linalg.lossfunctions.LossFunctions;"
   ]
  },
  {
   "cell_type": "code",
   "execution_count": 25,
   "metadata": {},
   "outputs": [],
   "source": [
    "MultiLayerConfiguration conf = new NeuralNetConfiguration.Builder()\n",
    "    .seed(123)\n",
    "    .optimizationAlgo(OptimizationAlgorithm.STOCHASTIC_GRADIENT_DESCENT)\n",
    "    .list()\n",
    "    .layer(0, new DenseLayer.Builder().nIn(784).nOut(100).weightInit(WeightInit.XAVIER).activation(Activation.RELU).build())\n",
    "    .layer(1, new OutputLayer.Builder().nIn(100).nOut(10).weightInit(WeightInit.XAVIER).activation(Activation.SIGMOID).build())\n",
    "    .pretrain(false).backprop(true)\n",
    "    .build()"
   ]
  },
  {
   "cell_type": "code",
   "execution_count": 21,
   "metadata": {},
   "outputs": [
    {
     "name": "stdout",
     "output_type": "stream",
     "text": [
      "LINE_GRADIENT_DESCENT\n",
      "CONJUGATE_GRADIENT\n",
      "HESSIAN_FREE\n",
      "LBFGS\n",
      "STOCHASTIC_GRADIENT_DESCENT\n"
     ]
    }
   ],
   "source": [
    "for (OptimizationAlgorithm o : OptimizationAlgorithm.values()) \n",
    "    System.out.println(o)"
   ]
  },
  {
   "cell_type": "code",
   "execution_count": 22,
   "metadata": {},
   "outputs": [],
   "source": [
    "conf.setIterationCount(1)"
   ]
  },
  {
   "cell_type": "code",
   "execution_count": 23,
   "metadata": {},
   "outputs": [
    {
     "data": {
      "text/plain": [
       "{\n",
       "  \"backprop\" : true,\n",
       "  \"backpropType\" : \"Standard\",\n",
       "  \"cacheMode\" : \"NONE\",\n",
       "  \"confs\" : [ {\n",
       "    \"cacheMode\" : \"NONE\",\n",
       "    \"epochCount\" : 0,\n",
       "    \"iterationCount\" : 0,\n",
       "    \"l1ByParam\" : { },\n",
       "    \"l2ByParam\" : { },\n",
       "    \"layer\" : {\n",
       "      \"@class\" : \"org.deeplearning4j.nn.conf.layers.DenseLayer\",\n",
       "      \"activationFn\" : {\n",
       "        \"@class\" : \"org.nd4j.linalg.activations.impl.ActivationReLU\"\n",
       "      },\n",
       "      \"biasInit\" : 0.0,\n",
       "      \"biasUpdater\" : null,\n",
       "      \"constraints\" : null,\n",
       "      \"dist\" : null,\n",
       "      \"gradientNormalization\" : \"None\",\n",
       "      \"gradientNormalizationThreshold\" : 1.0,\n",
       "      \"hasBias\" : true,\n",
       "      \"idropout\" : null,\n",
       "      \"iupdater\" : {\n",
       "        \"@class\" : \"org.nd4j.linalg.learning.config.Sgd\",\n",
       "        \"learningRate\" : 0.001\n",
       "      },\n",
       "      \"l1\" : 0.0,\n",
       "      \"l1Bias\" : 0.0,\n",
       "      \"l2\" : 0.0,\n",
       "      \"l2Bias\" : 0.0,\n",
       "      \"layerName\" : \"layer0\",\n",
       "      \"nin\" : 784,\n",
       "      \"nout\" : 100,\n",
       "      \"weightInit\" : \"XAVIER\",\n",
       "      \"weightNoise\" : null\n",
       "    },\n",
       "    \"maxNumLineSearchIterations\" : 5,\n",
       "    \"miniBatch\" : true,\n",
       "    \"minimize\" : true,\n",
       "    \"optimizationAlgo\" : \"STOCHASTIC_GRADIENT_DESCENT\",\n",
       "    \"pretrain\" : false,\n",
       "    \"seed\" : 123,\n",
       "    \"stepFunction\" : null,\n",
       "    \"variables\" : [ ]\n",
       "  }, {\n",
       "    \"cacheMode\" : \"NONE\",\n",
       "    \"epochCount\" : 0,\n",
       "    \"iterationCount\" : 0,\n",
       "    \"l1ByParam\" : { },\n",
       "    \"l2ByParam\" : { },\n",
       "    \"layer\" : {\n",
       "      \"@class\" : \"org.deeplearning4j.nn.conf.layers.OutputLayer\",\n",
       "      \"activationFn\" : {\n",
       "        \"@class\" : \"org.nd4j.linalg.activations.impl.ActivationSigmoid\"\n",
       "      },\n",
       "      \"biasInit\" : 0.0,\n",
       "      \"biasUpdater\" : null,\n",
       "      \"constraints\" : null,\n",
       "      \"dist\" : null,\n",
       "      \"gradientNormalization\" : \"None\",\n",
       "      \"gradientNormalizationThreshold\" : 1.0,\n",
       "      \"hasBias\" : true,\n",
       "      \"idropout\" : null,\n",
       "      \"iupdater\" : {\n",
       "        \"@class\" : \"org.nd4j.linalg.learning.config.Sgd\",\n",
       "        \"learningRate\" : 0.001\n",
       "      },\n",
       "      \"l1\" : 0.0,\n",
       "      \"l1Bias\" : 0.0,\n",
       "      \"l2\" : 0.0,\n",
       "      \"l2Bias\" : 0.0,\n",
       "      \"layerName\" : \"layer1\",\n",
       "      \"lossFn\" : {\n",
       "        \"@class\" : \"org.nd4j.linalg.lossfunctions.impl.LossMCXENT\",\n",
       "        \"softmaxClipEps\" : 1.0E-10,\n",
       "        \"configProperties\" : false\n",
       "      },\n",
       "      \"nin\" : 100,\n",
       "      \"nout\" : 10,\n",
       "      \"weightInit\" : \"XAVIER\",\n",
       "      \"weightNoise\" : null\n",
       "    },\n",
       "    \"maxNumLineSearchIterations\" : 5,\n",
       "    \"miniBatch\" : true,\n",
       "    \"minimize\" : true,\n",
       "    \"optimizationAlgo\" : \"STOCHASTIC_GRADIENT_DESCENT\",\n",
       "    \"pretrain\" : false,\n",
       "    \"seed\" : 123,\n",
       "    \"stepFunction\" : null,\n",
       "    \"variables\" : [ ]\n",
       "  } ],\n",
       "  \"epochCount\" : 0,\n",
       "  \"inferenceWorkspaceMode\" : \"ENABLED\",\n",
       "  \"inputPreProcessors\" : { },\n",
       "  \"iterationCount\" : 1,\n",
       "  \"pretrain\" : false,\n",
       "  \"tbpttBackLength\" : 20,\n",
       "  \"tbpttFwdLength\" : 20,\n",
       "  \"trainingWorkspaceMode\" : \"ENABLED\"\n",
       "}"
      ]
     },
     "execution_count": 23,
     "metadata": {},
     "output_type": "execute_result"
    }
   ],
   "source": [
    "conf.toJson()"
   ]
  },
  {
   "cell_type": "code",
   "execution_count": null,
   "metadata": {},
   "outputs": [],
   "source": []
  }
 ],
 "metadata": {
  "kernelspec": {
   "display_name": "Java",
   "language": "java",
   "name": "java"
  },
  "language_info": {
   "codemirror_mode": "java",
   "file_extension": ".java",
   "mimetype": "text/x-java-source",
   "name": "Java",
   "pygments_lexer": "java",
   "version": "11.0.1+13-LTS"
  }
 },
 "nbformat": 4,
 "nbformat_minor": 2
}
