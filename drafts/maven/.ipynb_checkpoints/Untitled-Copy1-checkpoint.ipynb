{
 "cells": [
  {
   "cell_type": "code",
   "execution_count": 1,
   "metadata": {},
   "outputs": [],
   "source": [
    "//%maven org.nd4j:nd4j-cuda-9.0:1.0.0-beta\n",
    "//%maven org.deeplearning4j:deeplearning4j-cuda-9.0:1.0.0-beta\n",
    "//%maven org.datavec:datavec-api:1.0.0-beta\n",
    "\n",
    "%maven org.nd4j:nd4j-native-platform:1.0.0-beta\n",
    "%maven org.deeplearning4j:deeplearning4j-core:1.0.0-beta\n",
    "%maven org.datavec:datavec-api:1.0.0-beta"
   ]
  },
  {
   "cell_type": "code",
   "execution_count": 2,
   "metadata": {},
   "outputs": [],
   "source": [
    "import org.deeplearning4j.datasets.iterator.*;\n",
    "import org.deeplearning4j.datasets.iterator.impl.*;\n",
    "import org.deeplearning4j.nn.api.*;\n",
    "import org.deeplearning4j.nn.multilayer.*;\n",
    "import org.deeplearning4j.nn.graph.*;\n",
    "import org.deeplearning4j.nn.conf.*;\n",
    "import org.deeplearning4j.nn.conf.inputs.*;\n",
    "import org.deeplearning4j.nn.conf.layers.*;\n",
    "import org.deeplearning4j.nn.weights.*;\n",
    "import org.deeplearning4j.optimize.listeners.*;\n",
    "import org.deeplearning4j.datasets.datavec.RecordReaderMultiDataSetIterator;\n",
    "import org.deeplearning4j.eval.Evaluation;\n",
    "\n",
    "import org.nd4j.linalg.learning.config.*; // for different updaters like Adam, Nesterovs, etc.\n",
    "import org.nd4j.linalg.activations.Activation; // defines different activation functions like RELU, SOFTMAX, etc.\n",
    "import org.nd4j.linalg.lossfunctions.LossFunctions;"
   ]
  },
  {
   "cell_type": "code",
   "execution_count": 3,
   "metadata": {},
   "outputs": [],
   "source": [
    "import org.nd4j.linalg.dataset.DataSet;\n",
    "import org.nd4j.linalg.dataset.MiniBatchFileDataSetIterator;\n",
    "import org.nd4j.linalg.api.ndarray.INDArray;\n",
    "import org.nd4j.linalg.factory.Nd4j;\n",
    "import org.nd4j.linalg.dataset.api.iterator.DataSetIterator;"
   ]
  },
  {
   "cell_type": "code",
   "execution_count": 26,
   "metadata": {},
   "outputs": [],
   "source": [
    "INDArray features = Nd4j.rand(new int[]{100, 1, 20, 20});\n",
    "INDArray labels = Nd4j.rand(100, 1);"
   ]
  },
  {
   "cell_type": "code",
   "execution_count": 27,
   "metadata": {},
   "outputs": [],
   "source": [
    "DataSet d = new DataSet(features, labels);"
   ]
  },
  {
   "cell_type": "code",
   "execution_count": 30,
   "metadata": {},
   "outputs": [],
   "source": [
    "DataSetIterator di = new ListDataSetIterator(d.asList(), 10);"
   ]
  },
  {
   "cell_type": "code",
   "execution_count": 38,
   "metadata": {},
   "outputs": [],
   "source": [
    "MultiLayerConfiguration conf = new NeuralNetConfiguration.Builder()\n",
    "    .seed(123)\n",
    "    .optimizationAlgo(OptimizationAlgorithm.STOCHASTIC_GRADIENT_DESCENT)\n",
    "    .list()\n",
    "    .layer(0, new ConvolutionLayer.Builder().kernelSize(3, 3).stride(1, 1).nIn(1).nOut(20).build())\n",
    "    .layer(1, new OutputLayer.Builder().nOut(1).weightInit(WeightInit.XAVIER).build())\n",
    "    .setInputType(InputType.convolutional(20, 20, 1))\n",
    "    .pretrain(false).backprop(true)\n",
    "    .build()"
   ]
  },
  {
   "cell_type": "code",
   "execution_count": 42,
   "metadata": {},
   "outputs": [],
   "source": [
    "MultiLayerNetwork network = new MultiLayerNetwork(conf);\n",
    "network.init();\n",
    "network.setListeners(new ScoreIterationListener(1));"
   ]
  },
  {
   "cell_type": "code",
   "execution_count": 43,
   "metadata": {},
   "outputs": [],
   "source": []
  },
  {
   "cell_type": "code",
   "execution_count": 44,
   "metadata": {},
   "outputs": [],
   "source": [
    "network.fit(d)"
   ]
  },
  {
   "cell_type": "code",
   "execution_count": null,
   "metadata": {},
   "outputs": [],
   "source": []
  }
 ],
 "metadata": {
  "kernelspec": {
   "display_name": "Java",
   "language": "java",
   "name": "java"
  },
  "language_info": {
   "codemirror_mode": "java",
   "file_extension": ".java",
   "mimetype": "text/x-java-source",
   "name": "Java",
   "pygments_lexer": "java",
   "version": "11.0.1+13-LTS"
  }
 },
 "nbformat": 4,
 "nbformat_minor": 2
}
