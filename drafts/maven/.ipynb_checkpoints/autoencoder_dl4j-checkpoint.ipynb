{
 "cells": [
  {
   "cell_type": "code",
   "execution_count": 2,
   "metadata": {},
   "outputs": [],
   "source": [
    "%maven org.nd4j:nd4j-cuda-9.0:1.0.0-beta\n",
    "%maven org.deeplearning4j:deeplearning4j-cuda-9.0:1.0.0-beta\n",
    "%maven org.datavec:datavec-api:1.0.0-beta\n",
    "%maven org.knowm.xchart:xchart:3.5.2\n",
    "    \n",
    "%maven org.scala-lang:scala-library:2.13.0-M5-6e0cba7"
   ]
  },
  {
   "cell_type": "code",
   "execution_count": 11,
   "metadata": {},
   "outputs": [],
   "source": [
    "import org.deeplearning4j.datasets.iterator.impl.MnistDataSetIterator;\n",
    "import org.deeplearning4j.nn.api.OptimizationAlgorithm;\n",
    "import org.deeplearning4j.nn.conf.MultiLayerConfiguration;\n",
    "import org.deeplearning4j.nn.conf.NeuralNetConfiguration;\n",
    "import org.deeplearning4j.nn.conf.Updater;\n",
    "import org.deeplearning4j.nn.conf.layers.DenseLayer;\n",
    "import org.deeplearning4j.nn.conf.layers.OutputLayer;\n",
    "import org.deeplearning4j.nn.multilayer.MultiLayerNetwork;\n",
    "import org.deeplearning4j.nn.weights.WeightInit;\n",
    "import org.deeplearning4j.optimize.solvers.StochasticGradientDescent;\n",
    "import org.nd4j.linalg.activations.Activation;\n",
    "import org.nd4j.linalg.dataset.api.iterator.DataSetIterator;\n",
    "import org.nd4j.linalg.lossfunctions.LossFunctions;\n",
    "import org.nd4j.linalg.learning.config.Sgd;\n",
    "import java.util.ArrayList;\n",
    "\n",
    "import org.nd4j.linalg.factory.Nd4j;\n",
    "import org.nd4j.linalg.api.ndarray.INDArray;\n",
    "import org.nd4j.linalg.dataset.SplitTestAndTrain;\n",
    "import org.nd4j.linalg.dataset.DataSet;\n",
    "import org.deeplearning4j.optimize.listeners.ScoreIterationListener ;\n",
    "\n",
    "import java.awt.image.BufferedImage;\n",
    "\n",
    "import org.datavec.image.loader.NativeImageLoader;\n",
    "import org.nd4j.linalg.api.ndarray.INDArray;\n",
    "\n",
    "import javax.swing.*;\n",
    "import java.awt.*;\n",
    "import java.awt.image.BufferedImage;\n",
    "import java.io.File;\n",
    "import java.io.IOException;\n",
    "\n",
    "import org.deeplearning4j.util.ModelSerializer;\n",
    "\n",
    "import java.util.Date;\n",
    "import java.text.SimpleDateFormat;"
   ]
  },
  {
   "cell_type": "code",
   "execution_count": 4,
   "metadata": {},
   "outputs": [],
   "source": [
    "public  static void writeNDArrayToImage(INDArray array, BufferedImage image) {\n",
    "    for (int i=0; i<array.shape()[2]; i++) {\n",
    "        for (int j=0; j<array.shape()[3]; j++) {\n",
    "            int g, r, b;\n",
    "            g = (int) array.getDouble(0, 0, i, j);\n",
    "            r = (int) array.getDouble(0, 1, i, j);\n",
    "            b = (int) array.getDouble(0, 2, i, j);\n",
    "            Color color = new Color(r, g, b);\n",
    "            image.setRGB(j, i, color.getRGB());\n",
    "        }\n",
    "    }\n",
    "}\n",
    "\n",
    "public  static BufferedImage NDArrayToImage(INDArray array) {\n",
    "    /*assume array is w*h*c*/\n",
    "    int W = array.shape()[0];\n",
    "    int H = array.shape()[1];\n",
    "    BufferedImage img = new BufferedImage(H, W, BufferedImage.TYPE_INT_RGB);\n",
    "    for (int i=0; i<array.shape()[2]; i++) {\n",
    "        for (int j=0; j<array.shape()[3]; j++) {\n",
    "            int g, r, b;\n",
    "            g = (int) array.getDouble(0, 0, i, j);\n",
    "            r = (int) array.getDouble(0, 1, i, j);\n",
    "            b = (int) array.getDouble(0, 2, i, j);\n",
    "            Color color = new Color(r, g, b);\n",
    "            img.setRGB(j, i, color.getRGB());\n",
    "        }\n",
    "    }\n",
    "    return img;\n",
    "}\n"
   ]
  },
  {
   "cell_type": "code",
   "execution_count": 8,
   "metadata": {},
   "outputs": [],
   "source": [
    "private File getMostRecentModel(String beginning) {\n",
    "    File folder = new File(\"./\");\n",
    "    File[] listOfFiles = folder.listFiles();\n",
    "    String mostCurrentFile = \"\";\n",
    "    for (int i = 0; i < listOfFiles.length; i++) {\n",
    "        File currentFile = listOfFiles[i];\n",
    "        if (currentFile.isFile() && currentFile.getName().startsWith(beginning) \n",
    "                                 && currentFile.getName().compareTo(mostCurrentFile) > 0) {\n",
    "        mostCurrentFile = currentFile.getName();\n",
    "        } \n",
    "    }\n",
    "    if (mostCurrentFile.compareTo(\"\") == 0) return null;\n",
    "    return new File(mostCurrentFile);\n",
    "}"
   ]
  },
  {
   "cell_type": "code",
   "execution_count": 5,
   "metadata": {},
   "outputs": [],
   "source": [
    "private static MultiLayerNetwork createNN() {\n",
    "        MultiLayerConfiguration conf = new NeuralNetConfiguration.Builder()\n",
    "            .seed(12345)\n",
    "            .weightInit(WeightInit.XAVIER)\n",
    "            .updater(Updater.ADAGRAD)\n",
    "            .activation(Activation.RELU)\n",
    "            .l2(.0001)\n",
    "            .updater(new Sgd(.05))\n",
    "            .list()\n",
    "            .layer(0, new DenseLayer.Builder().nIn(784).nOut(250).build())\n",
    "            .layer(1, new DenseLayer.Builder().nIn(250).nOut(10).build())\n",
    "            .layer(2, new DenseLayer.Builder().nIn(10).nOut(250).build())\n",
    "            .layer(3, new OutputLayer.Builder().nIn(250).nOut(784)\n",
    "                    .lossFunction(LossFunctions.LossFunction.MSE).build())\n",
    "            .build();\n",
    "        MultiLayerNetwork net = new MultiLayerNetwork(conf);\n",
    "        return net;\n",
    "    }"
   ]
  },
  {
   "cell_type": "code",
   "execution_count": 6,
   "metadata": {},
   "outputs": [
    {
     "name": "stderr",
     "output_type": "stream",
     "text": [
      "[IJava-executor-0] INFO org.nd4j.linalg.factory.Nd4jBackend - Loaded [JCublasBackend] backend\n",
      "[IJava-executor-0] INFO org.nd4j.nativeblas.NativeOpsHolder - Number of threads used for NativeOps: 32\n",
      "[IJava-executor-0] INFO org.nd4j.nativeblas.Nd4jBlas - Number of threads used for BLAS: 0\n",
      "[IJava-executor-0] INFO org.nd4j.linalg.api.ops.executioner.DefaultOpExecutioner - Backend used: [CUDA]; OS: [Linux]\n",
      "[IJava-executor-0] INFO org.nd4j.linalg.api.ops.executioner.DefaultOpExecutioner - Cores: [8]; Memory: [4.9GB];\n",
      "[IJava-executor-0] INFO org.nd4j.linalg.api.ops.executioner.DefaultOpExecutioner - Blas vendor: [CUBLAS]\n",
      "[IJava-executor-0] INFO org.nd4j.linalg.jcublas.ops.executioner.CudaExecutioner - Device Name: [GeForce GT 640]; CC: [3.0]; Total/free memory: [4225040384]\n"
     ]
    }
   ],
   "source": [
    "Random rnd = new Random(12345);\n",
    "DataSetIterator dsi = new MnistDataSetIterator(100, 50000, false);\n",
    "ArrayList<INDArray> featuresTrain = new ArrayList<INDArray>();\n",
    "ArrayList<INDArray> featuresTest = new ArrayList<INDArray>();\n",
    "ArrayList<INDArray> labelsTest = new ArrayList<INDArray>();\n",
    "\n",
    "while (dsi.hasNext()) {\n",
    "    DataSet ds = dsi.next();\n",
    "    SplitTestAndTrain split = ds.splitTestAndTrain(80, rnd);\n",
    "    featuresTrain.add(split.getTrain().getFeatures());\n",
    "    featuresTest.add(split.getTest().getFeatures());\n",
    "    labelsTest.add(split.getTest().getLabels().argMax(1));\n",
    "}"
   ]
  },
  {
   "cell_type": "code",
   "execution_count": 9,
   "metadata": {},
   "outputs": [
    {
     "name": "stdout",
     "output_type": "stream",
     "text": [
      "Loading modelmardas.model-dfdfd\n"
     ]
    },
    {
     "name": "stderr",
     "output_type": "stream",
     "text": [
      "[IJava-executor-0] INFO org.deeplearning4j.nn.multilayer.MultiLayerNetwork - Starting MultiLayerNetwork with WorkspaceModes set to [training: ENABLED; inference: ENABLED], cacheMode set to [NONE]\n"
     ]
    }
   ],
   "source": [
    "File f = getMostRecentModel(\"mardas.model\");\n",
    "MultiLayerNetwork net;\n",
    "if (f != null) {\n",
    "    System.out.println(\"Loading model\" + f);\n",
    "    net = ModelSerializer.restoreMultiLayerNetwork(f, true);\n",
    "    net.setListeners(new ScoreIterationListener(30));\n",
    "    net.init();\n",
    "} else {\n",
    "    System.out.println(\"Creating a new model\");\n",
    "    net = createNN();\n",
    "}"
   ]
  },
  {
   "cell_type": "code",
   "execution_count": 11,
   "metadata": {},
   "outputs": [
    {
     "name": "stderr",
     "output_type": "stream",
     "text": [
      "[IJava-executor-0] INFO org.deeplearning4j.optimize.listeners.ScoreIterationListener - Score at iteration 5460 is 0.06579830821240665\n",
      "[IJava-executor-2] INFO org.deeplearning4j.optimize.listeners.ScoreIterationListener - Score at iteration 780 is 0.08760784700552757\n",
      "[IJava-executor-0] INFO org.deeplearning4j.optimize.listeners.ScoreIterationListener - Score at iteration 5490 is 0.07092578753828502\n",
      "[IJava-executor-2] INFO org.deeplearning4j.optimize.listeners.ScoreIterationListener - Score at iteration 810 is 0.08597264504108873\n",
      "[IJava-executor-0] INFO org.deeplearning4j.optimize.listeners.ScoreIterationListener - Score at iteration 5520 is 0.0843645251895632\n",
      "[IJava-executor-2] INFO org.deeplearning4j.optimize.listeners.ScoreIterationListener - Score at iteration 840 is 0.09742470430587571\n",
      "[IJava-executor-0] INFO org.deeplearning4j.optimize.listeners.ScoreIterationListener - Score at iteration 5550 is 0.0798678474364846\n",
      "[IJava-executor-2] INFO org.deeplearning4j.optimize.listeners.ScoreIterationListener - Score at iteration 870 is 0.08042057287258145\n",
      "[IJava-executor-0] INFO org.deeplearning4j.optimize.listeners.ScoreIterationListener - Score at iteration 5580 is 0.08764425889368238\n",
      "[IJava-executor-2] INFO org.deeplearning4j.optimize.listeners.ScoreIterationListener - Score at iteration 900 is 0.07376446466105957\n",
      "[IJava-executor-0] INFO org.deeplearning4j.optimize.listeners.ScoreIterationListener - Score at iteration 5610 is 0.08284943087803619\n",
      "[IJava-executor-2] INFO org.deeplearning4j.optimize.listeners.ScoreIterationListener - Score at iteration 930 is 0.0757867994263402\n",
      "[IJava-executor-0] INFO org.deeplearning4j.optimize.listeners.ScoreIterationListener - Score at iteration 5640 is 0.08707815937503605\n",
      "[IJava-executor-2] INFO org.deeplearning4j.optimize.listeners.ScoreIterationListener - Score at iteration 960 is 0.08227137455077266\n",
      "[IJava-executor-0] INFO org.deeplearning4j.optimize.listeners.ScoreIterationListener - Score at iteration 5670 is 0.07337065340783513\n",
      "[IJava-executor-2] INFO org.deeplearning4j.optimize.listeners.ScoreIterationListener - Score at iteration 990 is 0.0801194598022544\n",
      "[IJava-executor-0] INFO org.deeplearning4j.optimize.listeners.ScoreIterationListener - Score at iteration 5700 is 0.0846969745938508\n",
      "[IJava-executor-2] INFO org.deeplearning4j.optimize.listeners.ScoreIterationListener - Score at iteration 1020 is 0.07436160279969088\n",
      "[IJava-executor-0] INFO org.deeplearning4j.optimize.listeners.ScoreIterationListener - Score at iteration 5730 is 0.09044354754614793\n",
      "[IJava-executor-2] INFO org.deeplearning4j.optimize.listeners.ScoreIterationListener - Score at iteration 1050 is 0.07760767199268988\n",
      "[IJava-executor-0] INFO org.deeplearning4j.optimize.listeners.ScoreIterationListener - Score at iteration 5760 is 0.07893221928990357\n",
      "[IJava-executor-2] INFO org.deeplearning4j.optimize.listeners.ScoreIterationListener - Score at iteration 1080 is 0.08154410316011301\n",
      "[IJava-executor-0] INFO org.deeplearning4j.optimize.listeners.ScoreIterationListener - Score at iteration 5790 is 0.07813888399173079\n",
      "[IJava-executor-2] INFO org.deeplearning4j.optimize.listeners.ScoreIterationListener - Score at iteration 1110 is 0.08013267161211528\n",
      "[IJava-executor-0] INFO org.deeplearning4j.optimize.listeners.ScoreIterationListener - Score at iteration 5820 is 0.08035940507601928\n",
      "[IJava-executor-2] INFO org.deeplearning4j.optimize.listeners.ScoreIterationListener - Score at iteration 1140 is 0.08129812684189633\n",
      "[IJava-executor-0] INFO org.deeplearning4j.optimize.listeners.ScoreIterationListener - Score at iteration 5850 is 0.08094849919936382\n",
      "[IJava-executor-2] INFO org.deeplearning4j.optimize.listeners.ScoreIterationListener - Score at iteration 1170 is 0.07890583816510016\n",
      "[IJava-executor-0] INFO org.deeplearning4j.optimize.listeners.ScoreIterationListener - Score at iteration 5880 is 0.06879141448379208\n",
      "[IJava-executor-2] INFO org.deeplearning4j.optimize.listeners.ScoreIterationListener - Score at iteration 1200 is 0.07970865890060778\n",
      "[IJava-executor-0] INFO org.deeplearning4j.optimize.listeners.ScoreIterationListener - Score at iteration 5910 is 0.07273742738353836\n",
      "[IJava-executor-2] INFO org.deeplearning4j.optimize.listeners.ScoreIterationListener - Score at iteration 1230 is 0.0892396966036294\n",
      "[IJava-executor-0] INFO org.deeplearning4j.optimize.listeners.ScoreIterationListener - Score at iteration 5940 is 0.07624208613902425\n",
      "[IJava-executor-2] INFO org.deeplearning4j.optimize.listeners.ScoreIterationListener - Score at iteration 1260 is 0.07776874018931011\n",
      "[IJava-executor-0] INFO org.deeplearning4j.optimize.listeners.ScoreIterationListener - Score at iteration 5970 is 0.07614387197886098\n",
      "[IJava-executor-2] INFO org.deeplearning4j.optimize.listeners.ScoreIterationListener - Score at iteration 1290 is 0.08070411911864386\n",
      "[IJava-executor-0] INFO org.deeplearning4j.optimize.listeners.ScoreIterationListener - Score at iteration 6000 is 0.07321873707760629\n",
      "[IJava-executor-2] INFO org.deeplearning4j.optimize.listeners.ScoreIterationListener - Score at iteration 1320 is 0.07907129790680853\n",
      "[IJava-executor-0] INFO org.deeplearning4j.optimize.listeners.ScoreIterationListener - Score at iteration 6030 is 0.0755374243090926\n",
      "[IJava-executor-2] INFO org.deeplearning4j.optimize.listeners.ScoreIterationListener - Score at iteration 1350 is 0.08269467681392961\n",
      "[IJava-executor-0] INFO org.deeplearning4j.optimize.listeners.ScoreIterationListener - Score at iteration 6060 is 0.0899078914334288\n",
      "[IJava-executor-2] INFO org.deeplearning4j.optimize.listeners.ScoreIterationListener - Score at iteration 1380 is 0.08722836023333831\n",
      "[IJava-executor-0] INFO org.deeplearning4j.optimize.listeners.ScoreIterationListener - Score at iteration 6090 is 0.07578218209208232\n",
      "[IJava-executor-2] INFO org.deeplearning4j.optimize.listeners.ScoreIterationListener - Score at iteration 1410 is 0.07814428155437989\n",
      "[IJava-executor-0] INFO org.deeplearning4j.optimize.listeners.ScoreIterationListener - Score at iteration 6120 is 0.07775187250165638\n",
      "[IJava-executor-2] INFO org.deeplearning4j.optimize.listeners.ScoreIterationListener - Score at iteration 1440 is 0.0812651078984476\n",
      "[IJava-executor-0] INFO org.deeplearning4j.optimize.listeners.ScoreIterationListener - Score at iteration 6150 is 0.07411571586523308\n",
      "[IJava-executor-2] INFO org.deeplearning4j.optimize.listeners.ScoreIterationListener - Score at iteration 1470 is 0.08291856278059682\n",
      "[IJava-executor-0] INFO org.deeplearning4j.optimize.listeners.ScoreIterationListener - Score at iteration 6180 is 0.07155903877859446\n",
      "[IJava-executor-2] INFO org.deeplearning4j.optimize.listeners.ScoreIterationListener - Score at iteration 1500 is 0.08210149457953396\n",
      "[IJava-executor-0] INFO org.deeplearning4j.optimize.listeners.ScoreIterationListener - Score at iteration 6210 is 0.07326765499697731\n",
      "[IJava-executor-2] INFO org.deeplearning4j.optimize.listeners.ScoreIterationListener - Score at iteration 1530 is 0.07526048358012596\n",
      "[IJava-executor-0] INFO org.deeplearning4j.optimize.listeners.ScoreIterationListener - Score at iteration 6240 is 0.07816517127020475\n",
      "[IJava-executor-2] INFO org.deeplearning4j.optimize.listeners.ScoreIterationListener - Score at iteration 1560 is 0.07879234960107777\n",
      "[IJava-executor-0] INFO org.deeplearning4j.optimize.listeners.ScoreIterationListener - Score at iteration 6270 is 0.07272938146733234\n",
      "[IJava-executor-2] INFO org.deeplearning4j.optimize.listeners.ScoreIterationListener - Score at iteration 1590 is 0.07221177058815662\n",
      "[IJava-executor-0] INFO org.deeplearning4j.optimize.listeners.ScoreIterationListener - Score at iteration 6300 is 0.07535650012394794\n",
      "[IJava-executor-2] INFO org.deeplearning4j.optimize.listeners.ScoreIterationListener - Score at iteration 1620 is 0.08574934563834341\n",
      "[IJava-executor-0] INFO org.deeplearning4j.optimize.listeners.ScoreIterationListener - Score at iteration 6330 is 0.08492323522997156\n",
      "[IJava-executor-2] INFO org.deeplearning4j.optimize.listeners.ScoreIterationListener - Score at iteration 1650 is 0.0812115017275994\n",
      "[IJava-executor-0] INFO org.deeplearning4j.optimize.listeners.ScoreIterationListener - Score at iteration 6360 is 0.0636868749528526\n"
     ]
    },
    {
     "name": "stderr",
     "output_type": "stream",
     "text": [
      "[IJava-executor-2] INFO org.deeplearning4j.optimize.listeners.ScoreIterationListener - Score at iteration 1680 is 0.07951864871333539\n",
      "[IJava-executor-0] INFO org.deeplearning4j.optimize.listeners.ScoreIterationListener - Score at iteration 6390 is 0.07462960605462239\n",
      "[IJava-executor-2] INFO org.deeplearning4j.optimize.listeners.ScoreIterationListener - Score at iteration 1710 is 0.07841398971577376\n",
      "[IJava-executor-0] INFO org.deeplearning4j.optimize.listeners.ScoreIterationListener - Score at iteration 6420 is 0.08071659259506189\n",
      "[IJava-executor-2] INFO org.deeplearning4j.optimize.listeners.ScoreIterationListener - Score at iteration 1740 is 0.08786489820785881\n",
      "[IJava-executor-0] INFO org.deeplearning4j.optimize.listeners.ScoreIterationListener - Score at iteration 6450 is 0.07556406265180818\n",
      "[IJava-executor-2] INFO org.deeplearning4j.optimize.listeners.ScoreIterationListener - Score at iteration 1770 is 0.07820404588022747\n",
      "[IJava-executor-0] INFO org.deeplearning4j.optimize.listeners.ScoreIterationListener - Score at iteration 6480 is 0.0838981859567611\n",
      "[IJava-executor-2] INFO org.deeplearning4j.optimize.listeners.ScoreIterationListener - Score at iteration 1800 is 0.08501870711289564\n",
      "[IJava-executor-0] INFO org.deeplearning4j.optimize.listeners.ScoreIterationListener - Score at iteration 6510 is 0.0677898157972729\n",
      "[IJava-executor-2] INFO org.deeplearning4j.optimize.listeners.ScoreIterationListener - Score at iteration 1830 is 0.0722996360483188\n",
      "[IJava-executor-0] INFO org.deeplearning4j.optimize.listeners.ScoreIterationListener - Score at iteration 6540 is 0.07689965476513903\n",
      "[IJava-executor-2] INFO org.deeplearning4j.optimize.listeners.ScoreIterationListener - Score at iteration 1860 is 0.08522506463946258\n",
      "[IJava-executor-0] INFO org.deeplearning4j.optimize.listeners.ScoreIterationListener - Score at iteration 6570 is 0.0741033884798759\n",
      "[IJava-executor-2] INFO org.deeplearning4j.optimize.listeners.ScoreIterationListener - Score at iteration 1890 is 0.09083692940833937\n",
      "[IJava-executor-0] INFO org.deeplearning4j.optimize.listeners.ScoreIterationListener - Score at iteration 6600 is 0.07831286692014544\n",
      "[IJava-executor-2] INFO org.deeplearning4j.optimize.listeners.ScoreIterationListener - Score at iteration 1920 is 0.07885603960305611\n",
      "[IJava-executor-0] INFO org.deeplearning4j.optimize.listeners.ScoreIterationListener - Score at iteration 6630 is 0.08799374501644917\n",
      "[IJava-executor-2] INFO org.deeplearning4j.optimize.listeners.ScoreIterationListener - Score at iteration 1950 is 0.08753488802518013\n",
      "[IJava-executor-0] INFO org.deeplearning4j.optimize.listeners.ScoreIterationListener - Score at iteration 6660 is 0.07672383528641653\n",
      "[IJava-executor-2] INFO org.deeplearning4j.optimize.listeners.ScoreIterationListener - Score at iteration 1980 is 0.08575714914946544\n",
      "[IJava-executor-0] INFO org.deeplearning4j.optimize.listeners.ScoreIterationListener - Score at iteration 6690 is 0.06780023629507335\n",
      "[IJava-executor-2] INFO org.deeplearning4j.optimize.listeners.ScoreIterationListener - Score at iteration 2010 is 0.08425077392012148\n",
      "[IJava-executor-0] INFO org.deeplearning4j.optimize.listeners.ScoreIterationListener - Score at iteration 6720 is 0.08111661392624087\n",
      "[IJava-executor-2] INFO org.deeplearning4j.optimize.listeners.ScoreIterationListener - Score at iteration 2040 is 0.08617069884125815\n",
      "[IJava-executor-0] INFO org.deeplearning4j.optimize.listeners.ScoreIterationListener - Score at iteration 6750 is 0.0734795591285106\n",
      "[IJava-executor-2] INFO org.deeplearning4j.optimize.listeners.ScoreIterationListener - Score at iteration 2070 is 0.06980118652631276\n",
      "[IJava-executor-0] INFO org.deeplearning4j.optimize.listeners.ScoreIterationListener - Score at iteration 6780 is 0.07779363886569088\n",
      "[IJava-executor-2] INFO org.deeplearning4j.optimize.listeners.ScoreIterationListener - Score at iteration 2100 is 0.08479966675450722\n",
      "[IJava-executor-0] INFO org.deeplearning4j.optimize.listeners.ScoreIterationListener - Score at iteration 6810 is 0.07332328876031177\n",
      "[IJava-executor-2] INFO org.deeplearning4j.optimize.listeners.ScoreIterationListener - Score at iteration 2130 is 0.07627466199074966\n",
      "[IJava-executor-0] INFO org.deeplearning4j.optimize.listeners.ScoreIterationListener - Score at iteration 6840 is 0.07116960321341355\n",
      "[IJava-executor-2] INFO org.deeplearning4j.optimize.listeners.ScoreIterationListener - Score at iteration 2160 is 0.08889222619968606\n",
      "[IJava-executor-0] INFO org.deeplearning4j.optimize.listeners.ScoreIterationListener - Score at iteration 6870 is 0.07688982886372969\n",
      "[IJava-executor-2] INFO org.deeplearning4j.optimize.listeners.ScoreIterationListener - Score at iteration 2190 is 0.08212440965365726\n",
      "[IJava-executor-0] INFO org.deeplearning4j.optimize.listeners.ScoreIterationListener - Score at iteration 6900 is 0.07358855923522731\n",
      "[IJava-executor-2] INFO org.deeplearning4j.optimize.listeners.ScoreIterationListener - Score at iteration 2220 is 0.07836024503655267\n",
      "[IJava-executor-0] INFO org.deeplearning4j.optimize.listeners.ScoreIterationListener - Score at iteration 6930 is 0.06836381010338302\n",
      "[IJava-executor-2] INFO org.deeplearning4j.optimize.listeners.ScoreIterationListener - Score at iteration 2250 is 0.08277035902858418\n",
      "[IJava-executor-0] INFO org.deeplearning4j.optimize.listeners.ScoreIterationListener - Score at iteration 6960 is 0.06358160674821062\n",
      "[IJava-executor-2] INFO org.deeplearning4j.optimize.listeners.ScoreIterationListener - Score at iteration 2280 is 0.08494504292736069\n",
      "[IJava-executor-0] INFO org.deeplearning4j.optimize.listeners.ScoreIterationListener - Score at iteration 6990 is 0.06869906849641082\n",
      "[IJava-executor-2] INFO org.deeplearning4j.optimize.listeners.ScoreIterationListener - Score at iteration 2310 is 0.08372944009634634\n",
      "[IJava-executor-0] INFO org.deeplearning4j.optimize.listeners.ScoreIterationListener - Score at iteration 7020 is 0.08108397489726606\n",
      "[IJava-executor-2] INFO org.deeplearning4j.optimize.listeners.ScoreIterationListener - Score at iteration 2340 is 0.09421720512433293\n",
      "[IJava-executor-0] INFO org.deeplearning4j.optimize.listeners.ScoreIterationListener - Score at iteration 7050 is 0.07642192403799239\n",
      "[IJava-executor-2] INFO org.deeplearning4j.optimize.listeners.ScoreIterationListener - Score at iteration 2370 is 0.07866051626266762\n",
      "[IJava-executor-0] INFO org.deeplearning4j.optimize.listeners.ScoreIterationListener - Score at iteration 7080 is 0.08370595693293457\n",
      "[IJava-executor-2] INFO org.deeplearning4j.optimize.listeners.ScoreIterationListener - Score at iteration 2400 is 0.07232989610025821\n",
      "[IJava-executor-0] INFO org.deeplearning4j.optimize.listeners.ScoreIterationListener - Score at iteration 7110 is 0.07880630789062483\n",
      "[IJava-executor-2] INFO org.deeplearning4j.optimize.listeners.ScoreIterationListener - Score at iteration 2430 is 0.07473234612013097\n",
      "[IJava-executor-0] INFO org.deeplearning4j.optimize.listeners.ScoreIterationListener - Score at iteration 7140 is 0.08402176434477573\n",
      "[IJava-executor-2] INFO org.deeplearning4j.optimize.listeners.ScoreIterationListener - Score at iteration 2460 is 0.08067874524324445\n",
      "[IJava-executor-0] INFO org.deeplearning4j.optimize.listeners.ScoreIterationListener - Score at iteration 7170 is 0.07033036219399058\n",
      "[IJava-executor-2] INFO org.deeplearning4j.optimize.listeners.ScoreIterationListener - Score at iteration 2490 is 0.07892038371947055\n",
      "[IJava-executor-0] INFO org.deeplearning4j.optimize.listeners.ScoreIterationListener - Score at iteration 7200 is 0.08180802295246786\n",
      "[IJava-executor-2] INFO org.deeplearning4j.optimize.listeners.ScoreIterationListener - Score at iteration 2520 is 0.07328845219642846\n",
      "[IJava-executor-0] INFO org.deeplearning4j.optimize.listeners.ScoreIterationListener - Score at iteration 7230 is 0.08595831336670876\n",
      "[IJava-executor-2] INFO org.deeplearning4j.optimize.listeners.ScoreIterationListener - Score at iteration 2550 is 0.07632515810170945\n",
      "[IJava-executor-0] INFO org.deeplearning4j.optimize.listeners.ScoreIterationListener - Score at iteration 7260 is 0.07544718766980418\n",
      "[IJava-executor-2] INFO org.deeplearning4j.optimize.listeners.ScoreIterationListener - Score at iteration 2580 is 0.08036206605139608\n"
     ]
    },
    {
     "name": "stderr",
     "output_type": "stream",
     "text": [
      "[IJava-executor-0] INFO org.deeplearning4j.optimize.listeners.ScoreIterationListener - Score at iteration 7290 is 0.07504822639814321\n",
      "[IJava-executor-2] INFO org.deeplearning4j.optimize.listeners.ScoreIterationListener - Score at iteration 2610 is 0.07912097525948306\n",
      "[IJava-executor-0] INFO org.deeplearning4j.optimize.listeners.ScoreIterationListener - Score at iteration 7320 is 0.0768674610581239\n",
      "[IJava-executor-2] INFO org.deeplearning4j.optimize.listeners.ScoreIterationListener - Score at iteration 2640 is 0.08024355969783083\n",
      "[IJava-executor-0] INFO org.deeplearning4j.optimize.listeners.ScoreIterationListener - Score at iteration 7350 is 0.07712938401233771\n",
      "[IJava-executor-2] INFO org.deeplearning4j.optimize.listeners.ScoreIterationListener - Score at iteration 2670 is 0.0779162942174014\n",
      "[IJava-executor-0] INFO org.deeplearning4j.optimize.listeners.ScoreIterationListener - Score at iteration 7380 is 0.06620421744725923\n",
      "[IJava-executor-2] INFO org.deeplearning4j.optimize.listeners.ScoreIterationListener - Score at iteration 2700 is 0.0788236484539569\n",
      "[IJava-executor-0] INFO org.deeplearning4j.optimize.listeners.ScoreIterationListener - Score at iteration 7410 is 0.06979739854583633\n",
      "[IJava-executor-2] INFO org.deeplearning4j.optimize.listeners.ScoreIterationListener - Score at iteration 2730 is 0.08808264503519854\n",
      "[IJava-executor-0] INFO org.deeplearning4j.optimize.listeners.ScoreIterationListener - Score at iteration 7440 is 0.07267888841628997\n"
     ]
    },
    {
     "ename": "EvaluationInterruptedException",
     "evalue": "Evaluator was interrupted while executing: 'for (int i=0; i<numEpochs; i++) {\n    for (INDArray data : featuresTrain) {\n        net.fit(data, data);\n    }\n}'",
     "output_type": "error",
     "traceback": [
      "\u001b[1m\u001b[30m|   \u001b[1m\u001b[30mfor (int i=0; i<numEpochs; i++) {\u001b[0m",
      "\u001b[1m\u001b[30m|   \u001b[1m\u001b[30m    for (INDArray data : featuresTrain) {\u001b[0m",
      "\u001b[1m\u001b[30m|   \u001b[1m\u001b[30m        net.fit(data, data);\u001b[0m",
      "\u001b[1m\u001b[30m|   \u001b[1m\u001b[30m    }\u001b[0m",
      "\u001b[1m\u001b[30m|   \u001b[1m\u001b[30m}\u001b[0m",
      "\u001b[1m\u001b[31mEvaluation interrupted.\u001b[0m"
     ]
    }
   ],
   "source": [
    "int numEpochs = 30;\n",
    "\n",
    "for (int i=0; i<numEpochs; i++) {\n",
    "    for (INDArray data : featuresTrain) {\n",
    "        net.fit(data, data);\n",
    "    }\n",
    "}"
   ]
  },
  {
   "cell_type": "code",
   "execution_count": 12,
   "metadata": {},
   "outputs": [],
   "source": [
    "SimpleDateFormat format = new SimpleDateFormat(\"yyyy-mm-dd-hh-mm-ss\");\n",
    "String fileName = \"mardas.model-\"+format.format(new Date());\n",
    "System.out.println(\"Saving the model as \" + )\n",
    "ModelSerializer.writeModel(net, new File(fileName), true);"
   ]
  },
  {
   "cell_type": "code",
   "execution_count": 13,
   "metadata": {},
   "outputs": [],
   "source": [
    "INDArray scores = Nd4j.zeros(20);\n",
    "for (int i=0; i<20; i++) {\n",
    "    scores.putScalar(i, net.score(new DataSet(featuresTest.get(0).getRow(i), featuresTest.get(0).getRow(i))));\n",
    "}"
   ]
  },
  {
   "cell_type": "code",
   "execution_count": 14,
   "metadata": {},
   "outputs": [
    {
     "data": {
      "text/plain": [
       "0.1162"
      ]
     },
     "execution_count": 14,
     "metadata": {},
     "output_type": "execute_result"
    }
   ],
   "source": [
    "scores.mean()"
   ]
  },
  {
   "cell_type": "code",
   "execution_count": 15,
   "metadata": {},
   "outputs": [
    {
     "data": {
      "text/plain": [
       "0.07856366871832961"
      ]
     },
     "execution_count": 15,
     "metadata": {},
     "output_type": "execute_result"
    }
   ],
   "source": [
    "net.score(new DataSet(featuresTest.get(0), featuresTest.get(0)))"
   ]
  },
  {
   "cell_type": "code",
   "execution_count": 16,
   "metadata": {},
   "outputs": [],
   "source": [
    "INDArray diff = net.output(featuresTest.get(0)).sub(featuresTest.get(0))"
   ]
  },
  {
   "cell_type": "code",
   "execution_count": 17,
   "metadata": {},
   "outputs": [
    {
     "data": {
      "text/plain": [
       "[0.0804, \n",
       " 0.1011, \n",
       " 0.1185, \n",
       " 0.0855, \n",
       " 0.0638, \n",
       " 0.0716, \n",
       " 0.0810, \n",
       " 0.0808, \n",
       " 0.1098, \n",
       " 0.0393, \n",
       " 0.0950, \n",
       " 0.0725, \n",
       " 0.0463, \n",
       " 0.0628, \n",
       " 0.0757, \n",
       " 0.0657, \n",
       " 0.0565, \n",
       " 0.1267, \n",
       " 0.0597, \n",
       " 0.0389]"
      ]
     },
     "execution_count": 17,
     "metadata": {},
     "output_type": "execute_result"
    }
   ],
   "source": [
    "diff.mul(diff).mean(1)"
   ]
  },
  {
   "cell_type": "code",
   "execution_count": 18,
   "metadata": {},
   "outputs": [
    {
     "ename": "UnresolvedReferenceException",
     "evalue": "Attempt to use definition snippet with unresolved references in MethodSnippet:NDArrayToImage/(INDArray)BufferedImage-\n\npublic  static BufferedImage NDArrayToImage(INDArray array) {\n    /*assume array is w*h*c*/\n    int W = array.shape()[0];\n    int H = array.shape()[1];\n    BufferedImage img = new BufferedImage(H, W, BufferedImage.TYPE_INT_RGB);\n    for (int i=0; i<array.shape()[2]; i++) {\n        for (int j=0; j<array.shape()[3]; j++) {\n            int g, r, b;\n            g = (int) array.getDouble(0, 0, i, j);\n            r = (int) array.getDouble(0, 1, i, j);\n            b = (int) array.getDouble(0, 2, i, j);\n            Color color = new Color(r, g, b);\n            image.setRGB(j, i, color.getRGB());\n        }\n    }\n    return img;\n}\n",
     "output_type": "error",
     "traceback": [
      "\u001b[1m\u001b[30m|   \u001b[1m\u001b[30m\u001b[0m",
      "\u001b[1m\u001b[30m|   \u001b[1m\u001b[30m\u001b[0m",
      "\u001b[1m\u001b[30m|   \u001b[1m\u001b[30mpublic  static BufferedImage NDArrayToImage(INDArray array) {\u001b[0m",
      "\u001b[1m\u001b[30m|   \u001b[1m\u001b[30m    /*assume array is w*h*c*/\u001b[0m",
      "\u001b[1m\u001b[30m|   \u001b[1m\u001b[30m    int W = array.shape()[0];\u001b[0m",
      "\u001b[1m\u001b[30m|   \u001b[1m\u001b[30m    int H = array.shape()[1];\u001b[0m",
      "\u001b[1m\u001b[30m|   \u001b[1m\u001b[30m    BufferedImage img = new BufferedImage(H, W, BufferedImage.TYPE_INT_RGB);\u001b[0m",
      "\u001b[1m\u001b[30m|   \u001b[1m\u001b[30m    for (int i=0; i<array.shape()[2]; i++) {\u001b[0m",
      "\u001b[1m\u001b[30m|   \u001b[1m\u001b[30m        for (int j=0; j<array.shape()[3]; j++) {\u001b[0m",
      "\u001b[1m\u001b[30m|   \u001b[1m\u001b[30m            int g, r, b;\u001b[0m",
      "\u001b[1m\u001b[30m|   \u001b[1m\u001b[30m            g = (int) array.getDouble(0, 0, i, j);\u001b[0m",
      "\u001b[1m\u001b[30m|   \u001b[1m\u001b[30m            r = (int) array.getDouble(0, 1, i, j);\u001b[0m",
      "\u001b[1m\u001b[30m|   \u001b[1m\u001b[30m            b = (int) array.getDouble(0, 2, i, j);\u001b[0m",
      "\u001b[1m\u001b[30m|   \u001b[1m\u001b[30m            Color color = new Color(r, g, b);\u001b[0m",
      "\u001b[1m\u001b[30m|   \u001b[1m\u001b[30m            image.setRGB(j, i, color.getRGB());\u001b[0m",
      "\u001b[1m\u001b[30m|   \u001b[1m\u001b[30m        }\u001b[0m",
      "\u001b[1m\u001b[30m|   \u001b[1m\u001b[30m    }\u001b[0m",
      "\u001b[1m\u001b[30m|   \u001b[1m\u001b[30m    return img;\u001b[0m",
      "\u001b[1m\u001b[30m|   \u001b[1m\u001b[30m}\u001b[0m",
      "\u001b[1m\u001b[31mUnresolved dependencies:\u001b[0m",
      "\u001b[1m\u001b[31m   - variable image\u001b[0m"
     ]
    }
   ],
   "source": [
    "NDArrayToImage(featuresTest.get(0))"
   ]
  },
  {
   "cell_type": "code",
   "execution_count": 57,
   "metadata": {},
   "outputs": [
    {
     "data": {
      "text/plain": [
       "mardas.mardas"
      ]
     },
     "execution_count": 57,
     "metadata": {},
     "output_type": "execute_result"
    }
   ],
   "source": [
    "new File(\"mardas.mardas\")"
   ]
  },
  {
   "cell_type": "code",
   "execution_count": 18,
   "metadata": {},
   "outputs": [
    {
     "data": {
      "text/plain": [
       "2018-59-13-01-59-34"
      ]
     },
     "execution_count": 18,
     "metadata": {},
     "output_type": "execute_result"
    }
   ],
   "source": []
  },
  {
   "cell_type": "code",
   "execution_count": 17,
   "metadata": {},
   "outputs": [],
   "source": []
  },
  {
   "cell_type": "code",
   "execution_count": null,
   "metadata": {},
   "outputs": [],
   "source": []
  },
  {
   "cell_type": "code",
   "execution_count": null,
   "metadata": {},
   "outputs": [],
   "source": []
  }
 ],
 "metadata": {
  "kernelspec": {
   "display_name": "Java",
   "language": "java",
   "name": "java"
  },
  "language_info": {
   "codemirror_mode": "java",
   "file_extension": ".java",
   "mimetype": "text/x-java-source",
   "name": "Java",
   "pygments_lexer": "java",
   "version": "11.0.1+13-LTS"
  }
 },
 "nbformat": 4,
 "nbformat_minor": 2
}
