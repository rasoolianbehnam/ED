{
 "cells": [
  {
   "cell_type": "code",
   "execution_count": 1,
   "metadata": {},
   "outputs": [],
   "source": [
    "%load_ext Cython\n",
    "%load_ext autoreload\n",
    "%autoreload 1\n",
    "\n",
    "import tensorflow as tf\n",
    "import numpy as np"
   ]
  },
  {
   "cell_type": "code",
   "execution_count": 52,
   "metadata": {},
   "outputs": [],
   "source": [
    "tf.reset_default_graph()\n",
    "n_steps = 28\n",
    "n_inputs = 28\n",
    "n_neurons = 150\n",
    "n_outputs = 10\n",
    "x = tf.placeholder(shape=[None, n_steps, n_inputs], dtype=tf.float32)\n",
    "y = tf.placeholder(shape=[None, n_outputs], dtype=tf.int32)\n",
    "\n",
    "basic_cell = tf.contrib.rnn.BasicRNNCell(num_units=n_neurons)\n",
    "outputs, stats = tf.nn.dynamic_rnn(basic_cell, x, dtype=tf.float32)\n",
    "\n",
    "init = tf.global_variables_initializer()"
   ]
  },
  {
   "cell_type": "code",
   "execution_count": 45,
   "metadata": {},
   "outputs": [],
   "source": [
    "rand_inputs = np.random.rand(1, 28, 28)"
   ]
  },
  {
   "cell_type": "code",
   "execution_count": 53,
   "metadata": {},
   "outputs": [],
   "source": [
    "with tf.Session() as sess:\n",
    "    init.run()\n",
    "    rand_outputs, rand_states = sess.run([outputs, stats], feed_dict={x:rand_inputs})"
   ]
  },
  {
   "cell_type": "code",
   "execution_count": 54,
   "metadata": {},
   "outputs": [
    {
     "data": {
      "text/plain": [
       "array([ 0.11523981, -0.39493182,  0.2383733 ,  0.34769198, -0.46416244,\n",
       "        0.30151606,  0.49777973,  0.6334354 ,  0.07087768, -0.14429162,\n",
       "        0.2775831 , -0.04138973, -0.23541023, -0.62575895, -0.3721154 ,\n",
       "       -0.6368723 , -0.161273  ,  0.358098  , -0.33964482,  0.54355395,\n",
       "       -0.8396565 ,  0.12484685,  0.34304366, -0.3250251 , -0.04292648,\n",
       "        0.62081516, -0.43375596, -0.4365469 ,  0.08404846,  0.1570287 ,\n",
       "       -0.20623137, -0.48736355,  0.25054246, -0.26486117,  0.48719224,\n",
       "        0.6497477 , -0.3026168 , -0.33208513,  0.36324307, -0.62868094,\n",
       "       -0.58524567, -0.38435328, -0.43733713, -0.20780076, -0.31592607,\n",
       "        0.02044297, -0.41014013,  0.01917899, -0.1448252 , -0.25866434,\n",
       "        0.02865904,  0.1710022 ,  0.19009353,  0.4224292 ,  0.29085666,\n",
       "        0.55425274, -0.26134673,  0.08137231,  0.27071795, -0.5246366 ,\n",
       "        0.19240211, -0.13695583, -0.04032285,  0.19333874,  0.7328808 ,\n",
       "        0.06603372,  0.06174026,  0.22441807, -0.6264341 , -0.02580821,\n",
       "       -0.01627344,  0.09438036, -0.05723179,  0.08569698, -0.23601499,\n",
       "        0.1527145 ,  0.2483915 ,  0.30301684, -0.46149132, -0.18826696,\n",
       "        0.29587495,  0.25459474,  0.35274515, -0.27877095,  0.5279671 ,\n",
       "        0.07294045,  0.07759616,  0.3712857 , -0.50600004,  0.10120492,\n",
       "        0.26976612,  0.39146775,  0.19207981,  0.64111644,  0.17003463,\n",
       "       -0.28359076, -0.3859332 , -0.11731249, -0.18275228,  0.14062104,\n",
       "       -0.09156913, -0.17185172,  0.18338211,  0.29464552, -0.22351614,\n",
       "       -0.06845532,  0.6318163 ,  0.8796776 , -0.7938556 ,  0.8373969 ,\n",
       "        0.23383078,  0.00480787,  0.20155588, -0.15653935,  0.18299821,\n",
       "       -0.09555159, -0.03278841,  0.4020381 , -0.65017974, -0.26998973,\n",
       "       -0.6901028 , -0.11037686, -0.62802434, -0.48704588, -0.269389  ,\n",
       "        0.81101644,  0.36762986,  0.8000909 ,  0.57011074,  0.3026258 ,\n",
       "       -0.3761805 , -0.06391396,  0.12389502, -0.0735811 ,  0.04933064,\n",
       "        0.55972755, -0.61029106,  0.15665074,  0.20048553,  0.26783198,\n",
       "       -0.3947064 , -0.13139449,  0.1780291 ,  0.0963723 ,  0.62292874,\n",
       "        0.2097014 ,  0.6673933 ,  0.15609653, -0.783436  ,  0.11635389],\n",
       "      dtype=float32)"
      ]
     },
     "execution_count": 54,
     "metadata": {},
     "output_type": "execute_result"
    }
   ],
   "source": [
    "rand_outputs[0, -1]"
   ]
  },
  {
   "cell_type": "code",
   "execution_count": 51,
   "metadata": {},
   "outputs": [
    {
     "data": {
      "text/plain": [
       "array([[ 0.25334945,  0.68239623, -0.01933608, -0.02843249,  0.21101102,\n",
       "         0.0289406 , -0.57016665, -0.18791878,  0.42972615,  0.43190762,\n",
       "        -0.14489332,  0.02093694, -0.44388723,  0.61956733, -0.15438493,\n",
       "        -0.3590388 , -0.2974504 ,  0.45481342, -0.4354085 ,  0.14077844,\n",
       "         0.1302475 , -0.16109201, -0.80498326, -0.05967611,  0.00756963,\n",
       "        -0.09226833, -0.42407987,  0.03030423,  0.30581847, -0.33779737,\n",
       "        -0.17701459, -0.14972317, -0.48494378,  0.34076345, -0.2451219 ,\n",
       "        -0.0701194 , -0.03331772, -0.24858503,  0.45227006, -0.24393806,\n",
       "        -0.09633259,  0.36208928,  0.18516494, -0.09635998,  0.3402545 ,\n",
       "        -0.77387625, -0.18552876, -0.74159473,  0.21950254, -0.06216757,\n",
       "         0.12672716,  0.21109487,  0.48043856,  0.64599025,  0.2043468 ,\n",
       "         0.37472022,  0.03612272, -0.21764623, -0.08878203, -0.03500884,\n",
       "        -0.2810688 , -0.30427346, -0.491198  ,  0.16859962, -0.1948321 ,\n",
       "        -0.11850542,  0.2093608 ,  0.70830685,  0.6130079 ,  0.67315227,\n",
       "        -0.41706485,  0.12474242, -0.32768118,  0.08398955,  0.33152878,\n",
       "         0.05624405, -0.33833754,  0.04424651, -0.46536618,  0.13427177,\n",
       "         0.45987454,  0.28388023,  0.6483064 ,  0.19572109,  0.16968627,\n",
       "         0.4749649 , -0.15644448,  0.28936297,  0.17498791,  0.01368146,\n",
       "        -0.1840727 , -0.4797329 ,  0.12808245,  0.7610982 , -0.27705067,\n",
       "         0.37659913, -0.02510733, -0.0444265 , -0.4900842 ,  0.1890525 ,\n",
       "        -0.07520562,  0.27712852, -0.06955681, -0.28839466, -0.47980365,\n",
       "        -0.15603827, -0.169601  ,  0.02350476,  0.36393437,  0.28711832,\n",
       "         0.4257794 ,  0.6660872 , -0.39060497, -0.34931576, -0.10642344,\n",
       "         0.25767872,  0.40145367, -0.24433164,  0.10581964,  0.08585914,\n",
       "        -0.32148123, -0.30148163,  0.6309665 , -0.09695977,  0.28342196,\n",
       "         0.5324224 ,  0.21310309, -0.6182326 ,  0.41397735,  0.40337244,\n",
       "         0.4359511 , -0.32249346,  0.05296032,  0.6724713 ,  0.79190904,\n",
       "        -0.2755163 ,  0.6018524 , -0.24750306,  0.3704776 ,  0.43709406,\n",
       "        -0.16335942,  0.08814678,  0.55526406,  0.234038  ,  0.38613155,\n",
       "        -0.01595678, -0.01351276,  0.33642855, -0.03307844,  0.3451247 ]],\n",
       "      dtype=float32)"
      ]
     },
     "execution_count": 51,
     "metadata": {},
     "output_type": "execute_result"
    }
   ],
   "source": [
    "rand_states"
   ]
  },
  {
   "cell_type": "code",
   "execution_count": 55,
   "metadata": {},
   "outputs": [],
   "source": [
    "from tensorflow.examples.tutorials.mnist import input_data"
   ]
  },
  {
   "cell_type": "code",
   "execution_count": 57,
   "metadata": {},
   "outputs": [
    {
     "name": "stdout",
     "output_type": "stream",
     "text": [
      "WARNING:tensorflow:From <ipython-input-57-80aa5e208d67>:1: read_data_sets (from tensorflow.contrib.learn.python.learn.datasets.mnist) is deprecated and will be removed in a future version.\n",
      "Instructions for updating:\n",
      "Please use alternatives such as official/mnist/dataset.py from tensorflow/models.\n",
      "WARNING:tensorflow:From /home/bzr0014/envs/AI/lib/python3.5/site-packages/tensorflow/contrib/learn/python/learn/datasets/mnist.py:260: maybe_download (from tensorflow.contrib.learn.python.learn.datasets.base) is deprecated and will be removed in a future version.\n",
      "Instructions for updating:\n",
      "Please write your own downloading logic.\n",
      "WARNING:tensorflow:From /home/bzr0014/envs/AI/lib/python3.5/site-packages/tensorflow/contrib/learn/python/learn/datasets/base.py:252: _internal_retry.<locals>.wrap.<locals>.wrapped_fn (from tensorflow.contrib.learn.python.learn.datasets.base) is deprecated and will be removed in a future version.\n",
      "Instructions for updating:\n",
      "Please use urllib or similar directly.\n",
      "Successfully downloaded train-images-idx3-ubyte.gz 9912422 bytes.\n",
      "WARNING:tensorflow:From /home/bzr0014/envs/AI/lib/python3.5/site-packages/tensorflow/contrib/learn/python/learn/datasets/mnist.py:262: extract_images (from tensorflow.contrib.learn.python.learn.datasets.mnist) is deprecated and will be removed in a future version.\n",
      "Instructions for updating:\n",
      "Please use tf.data to implement this functionality.\n",
      "Extracting /tmp/data/train-images-idx3-ubyte.gz\n",
      "Successfully downloaded train-labels-idx1-ubyte.gz 28881 bytes.\n",
      "WARNING:tensorflow:From /home/bzr0014/envs/AI/lib/python3.5/site-packages/tensorflow/contrib/learn/python/learn/datasets/mnist.py:267: extract_labels (from tensorflow.contrib.learn.python.learn.datasets.mnist) is deprecated and will be removed in a future version.\n",
      "Instructions for updating:\n",
      "Please use tf.data to implement this functionality.\n",
      "Extracting /tmp/data/train-labels-idx1-ubyte.gz\n",
      "Successfully downloaded t10k-images-idx3-ubyte.gz 1648877 bytes.\n",
      "Extracting /tmp/data/t10k-images-idx3-ubyte.gz\n",
      "Successfully downloaded t10k-labels-idx1-ubyte.gz 4542 bytes.\n",
      "Extracting /tmp/data/t10k-labels-idx1-ubyte.gz\n",
      "WARNING:tensorflow:From /home/bzr0014/envs/AI/lib/python3.5/site-packages/tensorflow/contrib/learn/python/learn/datasets/mnist.py:290: DataSet.__init__ (from tensorflow.contrib.learn.python.learn.datasets.mnist) is deprecated and will be removed in a future version.\n",
      "Instructions for updating:\n",
      "Please use alternatives such as official/mnist/dataset.py from tensorflow/models.\n"
     ]
    }
   ],
   "source": [
    "mnist = input_data.read_data_sets(\"/tmp/data/\")"
   ]
  },
  {
   "cell_type": "code",
   "execution_count": 59,
   "metadata": {},
   "outputs": [
    {
     "data": {
      "text/plain": [
       "(10000, 784)"
      ]
     },
     "execution_count": 59,
     "metadata": {},
     "output_type": "execute_result"
    }
   ],
   "source": [
    "mnist.test.images.shape"
   ]
  },
  {
   "cell_type": "code",
   "execution_count": null,
   "metadata": {},
   "outputs": [],
   "source": []
  }
 ],
 "metadata": {
  "kernelspec": {
   "display_name": "Python 3",
   "language": "python",
   "name": "python3"
  },
  "language_info": {
   "codemirror_mode": {
    "name": "ipython",
    "version": 3
   },
   "file_extension": ".py",
   "mimetype": "text/x-python",
   "name": "python",
   "nbconvert_exporter": "python",
   "pygments_lexer": "ipython3",
   "version": "3.5.2"
  }
 },
 "nbformat": 4,
 "nbformat_minor": 2
}
