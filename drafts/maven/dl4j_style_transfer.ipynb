{
 "cells": [
  {
   "cell_type": "code",
   "execution_count": 1,
   "metadata": {},
   "outputs": [],
   "source": [
    "//%maven org.nd4j:nd4j-cuda-9.0:1.0.0-beta\n",
    "//%maven org.deeplearning4j:deeplearning4j-cuda-9.0:1.0.0-beta\n",
    "//%maven org.datavec:datavec-api:1.0.0-beta\n",
    "//%maven org.knowm.xchart:xchart:3.5.2\n",
    "%maven org.deeplearning4j:deeplearning4j-zoo:1.0.0-beta\n",
    "\n",
    "%maven org.nd4j:nd4j-native-platform:1.0.0-beta\n",
    "%maven org.deeplearning4j:deeplearning4j-core:1.0.0-beta\n",
    "%maven org.datavec:datavec-api:1.0.0-beta"
   ]
  },
  {
   "cell_type": "code",
   "execution_count": 2,
   "metadata": {},
   "outputs": [],
   "source": [
    "import org.datavec.api.util.ClassPathResource;\n",
    "import org.datavec.image.loader.NativeImageLoader;\n",
    "import org.deeplearning4j.nn.api.Layer;\n",
    "import org.deeplearning4j.nn.graph.ComputationGraph;\n",
    "import org.deeplearning4j.nn.workspace.LayerWorkspaceMgr;\n",
    "import org.deeplearning4j.zoo.PretrainedType;\n",
    "import org.deeplearning4j.zoo.ZooModel;\n",
    "import org.deeplearning4j.zoo.model.VGG16;\n",
    "import org.nd4j.linalg.api.ndarray.INDArray;\n",
    "import org.nd4j.linalg.dataset.api.preprocessor.DataNormalization;\n",
    "import org.nd4j.linalg.dataset.api.preprocessor.VGG16ImagePreProcessor;\n",
    "import org.nd4j.linalg.factory.Nd4j;\n",
    "import org.nd4j.linalg.indexing.BooleanIndexing;\n",
    "import org.nd4j.linalg.indexing.conditions.Conditions;\n",
    "import org.nd4j.linalg.indexing.functions.Value;\n",
    "import org.nd4j.linalg.learning.AdamUpdater;\n",
    "import org.nd4j.linalg.learning.config.Adam;\n",
    "import org.nd4j.linalg.ops.transforms.Transforms;\n",
    "import org.slf4j.Logger;\n",
    "import org.slf4j.LoggerFactory;\n",
    "\n",
    "import javax.imageio.ImageIO;\n",
    "import java.awt.*;\n",
    "import java.awt.image.BufferedImage;\n",
    "import java.io.File;\n",
    "import java.io.IOException;\n",
    "import java.net.URL;\n",
    "import java.util.HashMap;\n",
    "import java.util.Map;\n",
    "import java.util.concurrent.ThreadLocalRandom;\n"
   ]
  },
  {
   "cell_type": "code",
   "execution_count": 3,
   "metadata": {},
   "outputs": [
    {
     "name": "stderr",
     "output_type": "stream",
     "text": [
      "[IJava-executor-0] INFO org.nd4j.linalg.factory.Nd4jBackend - Loaded [CpuBackend] backend\n",
      "[IJava-executor-0] INFO org.nd4j.nativeblas.NativeOpsHolder - Number of threads used for NativeOps: 4\n",
      "[IJava-executor-0] INFO org.nd4j.nativeblas.Nd4jBlas - Number of threads used for BLAS: 4\n",
      "[IJava-executor-0] INFO org.nd4j.linalg.api.ops.executioner.DefaultOpExecutioner - Backend used: [CPU]; OS: [Linux]\n",
      "[IJava-executor-0] INFO org.nd4j.linalg.api.ops.executioner.DefaultOpExecutioner - Cores: [8]; Memory: [4.9GB];\n",
      "[IJava-executor-0] INFO org.nd4j.linalg.api.ops.executioner.DefaultOpExecutioner - Blas vendor: [OPENBLAS]\n"
     ]
    }
   ],
   "source": [
    "private static final String CONTENT_LAYER_NAME = \"block4_conv2\";\n",
    "private static final double BETA_MOMENTUM = 0.8;\n",
    "private static final double BETA2_MOMENTUM = 0.999;\n",
    "private static final double EPSILON = 0.00000008;\n",
    "\n",
    "/**\n",
    " * Values suggested by\n",
    " * https://harishnarayanan.org/writing/artistic-style-transfer/\n",
    " * Other Values(5,100): http://www.chioka.in/tensorflow-implementation-neural-algorithm-of-artistic-style\n",
    " */\n",
    "private static final double ALPHA = 0.025;\n",
    "private static final double BETA = 5.0;\n",
    "\n",
    "private static final double LEARNING_RATE = 2;\n",
    "private static final double NOISE_RATION = 0.1;\n",
    "private static final int ITERATIONS = 1000;\n",
    "\n",
    "private static final String CONTENT_FILE = \"/home/bzr0014/git/dl4j-examples/dl4j-examples/src/main/resources/styletransfer/content.jpg\";\n",
    "private static final String STYLE_FILE = \"/home/bzr0014/git/dl4j-examples/dl4j-examples/src/main/resources/styletransfer/style.jpg\";\n",
    "private static final int SAVE_IMAGE_CHECKPOINT = 5;\n",
    "private static final String OUTPUT_PATH = \"/styletransfer/out/\";\n",
    "\n",
    "private static final int HEIGHT = 224;\n",
    "private static final int WIDTH = 224;\n",
    "private static final int CHANNELS = 3;\n",
    "private static final DataNormalization IMAGE_PRE_PROCESSOR = new VGG16ImagePreProcessor();\n",
    "private static final NativeImageLoader LOADER = new NativeImageLoader(HEIGHT, WIDTH, CHANNELS);\n"
   ]
  },
  {
   "cell_type": "code",
   "execution_count": 4,
   "metadata": {},
   "outputs": [],
   "source": [
    "private ComputationGraph loadModel() throws IOException {\n",
    "    ZooModel zooModel = VGG16.builder().build();\n",
    "    ComputationGraph vgg16 = (ComputationGraph) zooModel.initPretrained(PretrainedType.IMAGENET);\n",
    "    vgg16.initGradientsView();\n",
    "    return vgg16;\n",
    "}\n",
    "private INDArray loadImage(String contentFile) throws IOException {\n",
    "    INDArray content = LOADER.asMatrix(new File(contentFile));\n",
    "    IMAGE_PRE_PROCESSOR.transform(content);\n",
    "    return content;\n",
    "}\n",
    "private BufferedImage imageFromINDArray(INDArray array) {\n",
    "    int[] shape = array.shape();\n",
    "\n",
    "    long height = shape[2];\n",
    "    long width = shape[3];\n",
    "    BufferedImage image = new BufferedImage((int)width, (int)height, BufferedImage.TYPE_INT_RGB);\n",
    "    for (int x = 0; x < width; x++) {\n",
    "        for (int y = 0; y < height; y++) {\n",
    "            int red = array.getInt(0, 2, y, x);\n",
    "            int green = array.getInt(0, 1, y, x);\n",
    "            int blue = array.getInt(0, 0, y, x);\n",
    "\n",
    "            //handle out of bounds pixel values\n",
    "            red = Math.min(red, 255);\n",
    "            green = Math.min(green, 255);\n",
    "            blue = Math.min(blue, 255);\n",
    "\n",
    "            red = Math.max(red, 0);\n",
    "            green = Math.max(green, 0);\n",
    "            blue = Math.max(blue, 0);\n",
    "            image.setRGB(x, y, new Color(red, green, blue).getRGB());\n",
    "        }\n",
    "    }\n",
    "    return image;\n",
    "}"
   ]
  },
  {
   "cell_type": "code",
   "execution_count": 5,
   "metadata": {},
   "outputs": [
    {
     "name": "stderr",
     "output_type": "stream",
     "text": [
      "[IJava-executor-0] INFO org.deeplearning4j.zoo.ZooModel - Using cached model at /home/bzr0014/.deeplearning4j/vgg16_dl4j_inference.zip\n",
      "[IJava-executor-0] INFO org.deeplearning4j.zoo.ZooModel - Verifying download...\n",
      "[IJava-executor-0] INFO org.deeplearning4j.zoo.ZooModel - Checksum local is 3501732770, expecting 3501732770\n",
      "[IJava-executor-0] INFO org.deeplearning4j.nn.graph.ComputationGraph - Starting ComputationGraph with WorkspaceModes set to [training: NONE; inference: SINGLE], cacheMode set to [NONE]\n"
     ]
    }
   ],
   "source": [
    "ComputationGraph vgg16FineTune = loadModel();"
   ]
  },
  {
   "cell_type": "code",
   "execution_count": 6,
   "metadata": {},
   "outputs": [],
   "source": [
    "Map<String, INDArray> paramsTable = vgg16FineTune.paramTable();"
   ]
  },
  {
   "cell_type": "code",
   "execution_count": 7,
   "metadata": {},
   "outputs": [
    {
     "data": {
      "text/plain": [
       "[block1_conv1_b, block1_conv1_W, block1_conv2_b, block1_conv2_W, block2_conv1_b, block2_conv1_W, block2_conv2_b, block2_conv2_W, block3_conv1_b, block3_conv1_W, block3_conv2_b, block3_conv2_W, block3_conv3_b, block3_conv3_W, block4_conv1_b, block4_conv1_W, block4_conv2_b, block4_conv2_W, block4_conv3_b, block4_conv3_W, block5_conv1_b, block5_conv1_W, block5_conv2_b, block5_conv2_W, block5_conv3_b, block5_conv3_W, fc1_W, fc1_b, fc2_W, fc2_b, predictions_W, predictions_b]"
      ]
     },
     "execution_count": 7,
     "metadata": {},
     "output_type": "execute_result"
    }
   ],
   "source": [
    "paramsTable.keySet()"
   ]
  },
  {
   "cell_type": "code",
   "execution_count": 8,
   "metadata": {},
   "outputs": [],
   "source": [
    "INDArray content = loadImage(CONTENT_FILE);\n",
    "INDArray style = loadImage(STYLE_FILE);"
   ]
  },
  {
   "cell_type": "code",
   "execution_count": 9,
   "metadata": {},
   "outputs": [
    {
     "data": {
      "image/png": "[encoded data removed]",
      "text/plain": [
       "BufferedImage@434fc1d7: type = 1 DirectColorModel: rmask=ff0000 gmask=ff00 bmask=ff amask=0 IntegerInterleavedRaster: width = 224 height = 224 #Bands = 3 xOff = 0 yOff = 0 dataOffset[0] 0"
      ]
     },
     "execution_count": 9,
     "metadata": {},
     "output_type": "execute_result"
    }
   ],
   "source": [
    "imageFromINDArray(style)"
   ]
  },
  {
   "cell_type": "code",
   "execution_count": 10,
   "metadata": {},
   "outputs": [],
   "source": [
    "Map<String, INDArray> activationsContentMap = vgg16FineTune.feedForward(content, true);"
   ]
  },
  {
   "cell_type": "code",
   "execution_count": 11,
   "metadata": {},
   "outputs": [
    {
     "data": {
      "text/plain": [
       "[1, 1000]"
      ]
     },
     "execution_count": 11,
     "metadata": {},
     "output_type": "execute_result"
    }
   ],
   "source": [
    "Arrays.toString(activationsContentMap.get(\"predictions\").shape())"
   ]
  },
  {
   "cell_type": "code",
   "execution_count": 12,
   "metadata": {
    "scrolled": true
   },
   "outputs": [
    {
     "data": {
      "text/plain": [
       "0"
      ]
     },
     "execution_count": 12,
     "metadata": {},
     "output_type": "execute_result"
    }
   ],
   "source": [
    "activationsContentMap.get(\"predictions\").gt(.2).sum()"
   ]
  },
  {
   "cell_type": "code",
   "execution_count": 4,
   "metadata": {},
   "outputs": [],
   "source": []
  },
  {
   "cell_type": "code",
   "execution_count": 5,
   "metadata": {},
   "outputs": [
    {
     "name": "stderr",
     "output_type": "stream",
     "text": [
      "[IJava-executor-0] INFO org.deeplearning4j.nn.graph.ComputationGraph - Starting ComputationGraph with WorkspaceModes set to [training: ENABLED; inference: ENABLED], cacheMode set to [NONE]\n",
      "[IJava-executor-0] INFO org.nd4j.linalg.factory.Nd4jBackend - Loaded [CpuBackend] backend\n",
      "[IJava-executor-0] INFO org.nd4j.nativeblas.NativeOpsHolder - Number of threads used for NativeOps: 4\n",
      "[IJava-executor-0] INFO org.nd4j.nativeblas.Nd4jBlas - Number of threads used for BLAS: 4\n",
      "[IJava-executor-0] INFO org.nd4j.linalg.api.ops.executioner.DefaultOpExecutioner - Backend used: [CPU]; OS: [Linux]\n",
      "[IJava-executor-0] INFO org.nd4j.linalg.api.ops.executioner.DefaultOpExecutioner - Cores: [8]; Memory: [4.9GB];\n",
      "[IJava-executor-0] INFO org.nd4j.linalg.api.ops.executioner.DefaultOpExecutioner - Blas vendor: [OPENBLAS]\n"
     ]
    }
   ],
   "source": [
    "graph.init()"
   ]
  },
  {
   "cell_type": "code",
   "execution_count": 6,
   "metadata": {},
   "outputs": [],
   "source": [
    "int nIn = 4;\n",
    "int nHidden = 6;\n",
    "int nOut = 1;\n",
    "INDArray W1 = Nd4j.rand(nIn, nOut);"
   ]
  },
  {
   "cell_type": "code",
   "execution_count": 36,
   "metadata": {},
   "outputs": [],
   "source": [
    "import org.deeplearning4j.nn.conf.ComputationGraphConfiguration;\n",
    "import org.deeplearning4j.nn.conf.NeuralNetConfiguration;\n",
    "import org.deeplearning4j.nn.graph.ComputationGraph;\n",
    "import org.deeplearning4j.nn.conf.layers.DenseLayer;\n",
    "import org.nd4j.linalg.learning.config.NoOp;\n",
    "import org.nd4j.linalg.learning.config.Adam;\n",
    "import org.deeplearning4j.nn.weights.WeightInit;\n",
    "\n",
    "\n",
    "\n",
    "ComputationGraphConfiguration conf = new NeuralNetConfiguration.Builder()\n",
    "    .weightInit(WeightInit.XAVIER)\n",
    "    .graphBuilder()\n",
    "    .addInputs(\"input\")\n",
    "    .addLayer(\"fc1\", new DenseLayer.Builder().nIn(nIn).nOut(nOut).build(), \"input\")\n",
    "    //.addLayer(\"fc2\", new DenseLayer.Builder().nIn(6).nOut(5).build(), \"fc1\")\n",
    "    .setOutputs(\"fc1\")\n",
    "    .pretrain(false).backprop(true)\n",
    "    .build();\n",
    "\n",
    "ComputationGraph graph = new ComputationGraph(conf);\n",
    "graph.init();"
   ]
  },
  {
   "cell_type": "markdown",
   "metadata": {},
   "source": [
    "# Manual forward pass in a layer"
   ]
  },
  {
   "cell_type": "code",
   "execution_count": 37,
   "metadata": {},
   "outputs": [],
   "source": [
    "import org.deeplearning4j.nn.workspace.LayerWorkspaceMgr;\n",
    "import org.deeplearning4j.nn.gradient.Gradient;\n",
    "import org.nd4j.linalg.learning.AdamUpdater;\n",
    "import org.nd4j.linalg.learning.GradientUpdater;\n",
    "import org.nd4j.linalg.learning.config.Adam;\n",
    "import org.nd4j.linalg.learning.config.Sgd;\n",
    "import org.nd4j.linalg.learning.SgdUpdater;\n",
    "\n",
    "int numBatches = 500;\n",
    "int batchSize = 50;\n",
    "int size = numBatches * batchSize;\n",
    "INDArray X = Nd4j.rand(size, nIn);\n",
    "INDArray Y = X.mmul(W1).add(1).add(Nd4j.rand(size, nOut).mul(.000001)).reshape(numBatches, batchSize, nOut);\n",
    "Y.divi(Y.max());\n",
    "X = X.reshape(numBatches, batchSize, nIn);\n",
    "int gradientSize = graph.params().shape()[1];\n",
    "GradientUpdater updater;\n",
    "//updater = new AdamUpdater(new Adam(1e-4));\n",
    "updater = new SgdUpdater(new Sgd(1e-4));\n",
    "updater.setStateViewArray(Nd4j.zeros(1, gradientSize), graph.params().shape(), 'c', true);\n",
    "INDArray[] inputs;\n",
    "INDArray diff;\n",
    "Gradient g;\n",
    "Map<String, INDArray> map;\n",
    "inputs = new INDArray[] { null };\n",
    "int iteration;\n",
    "for (int epoch=0; epoch<50; epoch++) {\n",
    "    for (iteration=0; iteration<numBatches; iteration++) {\n",
    "        inputs[0] = X.getRow(iteration);\n",
    "        map = graph.feedForward(inputs, true, false); /*the las false is to\n",
    "        make the model save everything as it goes forward*/\n",
    "        diff = /*this is the derivative of the loss function\n",
    "                 to outputs: dL/dy' */\n",
    "            map.get(\"fc1\").sub(Y.getRow(iteration)).div(batchSize);\n",
    "        g = graph.backpropGradient(diff); /* g.gradient() now gives \n",
    "                                             a flat vector of gradients */\n",
    "        updater.applyUpdater(g.gradient(), iteration, epoch);\n",
    "        graph.params().subi(g.gradient());\n",
    "    }\n",
    "}"
   ]
  },
  {
   "cell_type": "code",
   "execution_count": 16,
   "metadata": {},
   "outputs": [
    {
     "data": {
      "text/plain": [
       "{fc1_W=[0.0223, \n",
       " -0.2373, \n",
       " 0.4886, \n",
       " -0.1670], fc1_b=0.6476}"
      ]
     },
     "execution_count": 16,
     "metadata": {},
     "output_type": "execute_result"
    }
   ],
   "source": [
    "graph.paramTable()"
   ]
  },
  {
   "cell_type": "markdown",
   "metadata": {},
   "source": [
    "# Layer-wise backpropagation"
   ]
  },
  {
   "cell_type": "code",
   "execution_count": 39,
   "metadata": {},
   "outputs": [
    {
     "data": {
      "text/plain": [
       "[50, 4]"
      ]
     },
     "execution_count": 39,
     "metadata": {},
     "output_type": "execute_result"
    }
   ],
   "source": [
    "graph.feedForward(inputs, true, false);\n",
    "Arrays.toString(graph.getLayer(\"fc1\").backpropGradient(diff, LayerWorkspaceMgr.noWorkspaces()).getSecond().shape());\n",
    "/*layer.backpropGradient(...) gives "
   ]
  },
  {
   "cell_type": "code",
   "execution_count": null,
   "metadata": {},
   "outputs": [],
   "source": []
  },
  {
   "cell_type": "code",
   "execution_count": null,
   "metadata": {},
   "outputs": [],
   "source": []
  },
  {
   "cell_type": "code",
   "execution_count": 11,
   "metadata": {},
   "outputs": [],
   "source": [
    "import org.deeplearning4j.nn.conf.ComputationGraphConfiguration;\n",
    "import org.deeplearning4j.nn.conf.NeuralNetConfiguration;\n",
    "import org.deeplearning4j.nn.graph.ComputationGraph;\n",
    "import org.deeplearning4j.nn.conf.layers.DenseLayer;\n",
    "import org.deeplearning4j.nn.conf.layers.OutputLayer;\n",
    "import org.nd4j.linalg.learning.config.NoOp;\n",
    "import org.nd4j.linalg.learning.config.Adam;\n",
    "import org.deeplearning4j.nn.weights.WeightInit;\n",
    "\n",
    "\n",
    "\n",
    "ComputationGraphConfiguration conf = new NeuralNetConfiguration.Builder()\n",
    "    .weightInit(WeightInit.XAVIER)\n",
    "    .graphBuilder()\n",
    "    .addInputs(\"input\")\n",
    "    .addLayer(\"fc1\", new OutputLayer.Builder(org.nd4j.linalg.lossfunctions.LossFunctions.LossFunction.MSE)\n",
    "    .nIn(nIn).nOut(nOut).build(), \"input\")\n",
    "    //.addLayer(\"fc2\", new DenseLayer.Builder().nIn(6).nOut(5).build(), \"fc1\")\n",
    "    .setOutputs(\"fc1\")\n",
    "    .pretrain(false).backprop(true)\n",
    "    .build();\n",
    "\n",
    "ComputationGraph graph = new ComputationGraph(conf);\n",
    "graph.init();"
   ]
  },
  {
   "cell_type": "code",
   "execution_count": 12,
   "metadata": {},
   "outputs": [],
   "source": [
    "import org.deeplearning4j.nn.workspace.LayerWorkspaceMgr;\n",
    "import org.deeplearning4j.nn.gradient.Gradient;\n",
    "import org.nd4j.linalg.learning.AdamUpdater;\n",
    "import org.nd4j.linalg.learning.GradientUpdater;\n",
    "import org.nd4j.linalg.learning.config.Adam;\n",
    "import org.nd4j.linalg.learning.config.Sgd;\n",
    "import org.nd4j.linalg.learning.SgdUpdater;\n",
    "import org.nd4j.linalg.dataset.DataSet;\n",
    "\n",
    "int numBatches = 500;\n",
    "int batchSize = 50;\n",
    "int size = numBatches * batchSize;\n",
    "INDArray X = Nd4j.rand(size, nIn);\n",
    "INDArray Y = X.mmul(W1).add(1).add(Nd4j.rand(size, nOut).mul(.0001)).reshape(numBatches, batchSize, nOut);\n",
    "Y.divi(Y.max());\n",
    "X = X.reshape(numBatches, batchSize, nIn);\n",
    "GradientUpdater updater;\n",
    "//updater = new AdamUpdater(new Adam(1e-4));\n",
    "updater = new SgdUpdater(new Sgd(1e-4));\n",
    "updater.setStateViewArray(Nd4j.zeros(1, 2 * gradientSize), graph.params().shape(), 'c', true);\n",
    "int gradientSize = graph.params().shape()[1];\n",
    "INDArray[] inputs;\n",
    "INDArray diff;\n",
    "Gradient g;\n",
    "Map<String, INDArray> map;\n",
    "inputs = new INDArray[] { null };\n",
    "int iteration;\n",
    "for (int epoch=0; epoch<500; epoch++) {\n",
    "    for (iteration=0; iteration<numBatches; iteration++) {\n",
    "        graph.fit(new DataSet(X.getRow(iteration), Y.getRow(iteration)));\n",
    "    }\n",
    "}"
   ]
  },
  {
   "cell_type": "code",
   "execution_count": 13,
   "metadata": {},
   "outputs": [
    {
     "data": {
      "text/plain": [
       "{fc1_W=[0.3125, \n",
       " 0.7098, \n",
       " 1.1181, \n",
       " 0.3111], fc1_b=-0.4688}"
      ]
     },
     "execution_count": 13,
     "metadata": {},
     "output_type": "execute_result"
    }
   ],
   "source": [
    "graph.paramTable()"
   ]
  },
  {
   "cell_type": "code",
   "execution_count": null,
   "metadata": {},
   "outputs": [],
   "source": [
    "ComputationGraphConfiguration conf = new NeuralNetConfiguration.Builder()\n",
    "    .weightInit(WeightInit.XAVIER)\n",
    "    .graphBuilder()\n",
    "    .addInputs(\"input1\")\n",
    "    .addInputs(\"input2\")\n",
    "    .addLayer(\"fc1\", new OutputLayer.Builder(org.nd4j.linalg.lossfunctions.LossFunctions.LossFunction.MSE)\n",
    "    .nIn(nIn).nOut(nOut).build(), \"input\")\n",
    "    //.addLayer(\"fc2\", new DenseLayer.Builder().nIn(6).nOut(5).build(), \"fc1\")\n",
    "    .setOutputs(\"fc1\")\n",
    "    .pretrain(false).backprop(true)\n",
    "    .build();\n",
    "\n",
    "ComputationGraph graph = new ComputationGraph(conf);\n",
    "graph.init();"
   ]
  }
 ],
 "metadata": {
  "kernelspec": {
   "display_name": "Java",
   "language": "java",
   "name": "java"
  },
  "language_info": {
   "codemirror_mode": "java",
   "file_extension": ".java",
   "mimetype": "text/x-java-source",
   "name": "Java",
   "pygments_lexer": "java",
   "version": "11.0.1+13-LTS"
  }
 },
 "nbformat": 4,
 "nbformat_minor": 2
}
