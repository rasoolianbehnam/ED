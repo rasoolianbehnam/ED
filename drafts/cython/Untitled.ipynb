{
 "cells": [
  {
   "cell_type": "code",
   "execution_count": 1,
   "metadata": {},
   "outputs": [],
   "source": [
    "%load_ext Cython"
   ]
  },
  {
   "cell_type": "code",
   "execution_count": 2,
   "metadata": {},
   "outputs": [],
   "source": [
    "%%cython\n",
    "def cy_fact_dynamic(n):\n",
    "    if n <= 1:\n",
    "        return 1\n",
    "    return n * cy_fact_dynamic(n-1)"
   ]
  },
  {
   "cell_type": "code",
   "execution_count": 3,
   "metadata": {},
   "outputs": [],
   "source": [
    "%%cython\n",
    "def cy_fact_static(long n):\n",
    "    if n <= 1:\n",
    "        return 1\n",
    "    return n * cy_fact_static(n-1)"
   ]
  },
  {
   "cell_type": "code",
   "execution_count": 4,
   "metadata": {},
   "outputs": [],
   "source": [
    "def py_fact(n):\n",
    "    if n <= 1:\n",
    "        return 1\n",
    "    return n * py_fact(n-1)"
   ]
  },
  {
   "cell_type": "code",
   "execution_count": 5,
   "metadata": {},
   "outputs": [],
   "source": [
    "%%cython \n",
    "cdef long cy_fact_static_pure(long n):\n",
    "    if n <= 1:\n",
    "        return 1\n",
    "    return n * cy_fact_static_pure(n-1)\n",
    "\n",
    "def cy_fact_wrap(long n):\n",
    "    return cy_fact_static_pure(n)"
   ]
  },
  {
   "cell_type": "code",
   "execution_count": 6,
   "metadata": {},
   "outputs": [],
   "source": [
    "%%cython\n",
    "cpdef long cy_fact_static_pure_cp(long n):\n",
    "    if n <= 1:\n",
    "        return 1\n",
    "    return n * cy_fact_static_pure_cp(n-1)"
   ]
  },
  {
   "cell_type": "code",
   "execution_count": 7,
   "metadata": {},
   "outputs": [
    {
     "name": "stdout",
     "output_type": "stream",
     "text": [
      "The slowest run took 4.31 times longer than the fastest. This could mean that an intermediate result is being cached.\n",
      "100000 loops, best of 3: 8.41 µs per loop\n"
     ]
    }
   ],
   "source": [
    "%timeit py_fact(30)"
   ]
  },
  {
   "cell_type": "code",
   "execution_count": 8,
   "metadata": {},
   "outputs": [
    {
     "name": "stdout",
     "output_type": "stream",
     "text": [
      "100000 loops, best of 3: 3.44 µs per loop\n"
     ]
    }
   ],
   "source": [
    "%timeit cy_fact_dynamic(30)"
   ]
  },
  {
   "cell_type": "code",
   "execution_count": 9,
   "metadata": {},
   "outputs": [
    {
     "name": "stdout",
     "output_type": "stream",
     "text": [
      "100000 loops, best of 3: 2.98 µs per loop\n"
     ]
    }
   ],
   "source": [
    "%timeit cy_fact_static(30)"
   ]
  },
  {
   "cell_type": "code",
   "execution_count": 10,
   "metadata": {},
   "outputs": [
    {
     "name": "stdout",
     "output_type": "stream",
     "text": [
      "The slowest run took 32.80 times longer than the fastest. This could mean that an intermediate result is being cached.\n",
      "10000000 loops, best of 3: 103 ns per loop\n"
     ]
    }
   ],
   "source": [
    "%timeit cy_fact_wrap(30)"
   ]
  },
  {
   "cell_type": "code",
   "execution_count": 11,
   "metadata": {},
   "outputs": [
    {
     "name": "stdout",
     "output_type": "stream",
     "text": [
      "The slowest run took 20.12 times longer than the fastest. This could mean that an intermediate result is being cached.\n",
      "10000000 loops, best of 3: 94.8 ns per loop\n"
     ]
    }
   ],
   "source": [
    "%timeit cy_fact_static_pure_cp(30)"
   ]
  },
  {
   "cell_type": "code",
   "execution_count": 12,
   "metadata": {},
   "outputs": [],
   "source": [
    "py_fact?"
   ]
  },
  {
   "cell_type": "code",
   "execution_count": 13,
   "metadata": {},
   "outputs": [
    {
     "name": "stdout",
     "output_type": "stream",
     "text": [
      "Help on function py_fact in module __main__:\n",
      "\n",
      "py_fact(n)\n",
      "\n"
     ]
    }
   ],
   "source": [
    "help(py_fact)"
   ]
  },
  {
   "cell_type": "code",
   "execution_count": 21,
   "metadata": {},
   "outputs": [],
   "source": [
    "%%cython\n",
    "cdef dict mardas = {}\n",
    "mardas['1'] = 2\n",
    "print mardas"
   ]
  },
  {
   "cell_type": "code",
   "execution_count": null,
   "metadata": {},
   "outputs": [],
   "source": []
  },
  {
   "cell_type": "code",
   "execution_count": null,
   "metadata": {},
   "outputs": [],
   "source": []
  }
 ],
 "metadata": {
  "kernelspec": {
   "display_name": "Python 2",
   "language": "python",
   "name": "python2"
  },
  "language_info": {
   "codemirror_mode": {
    "name": "ipython",
    "version": 2
   },
   "file_extension": ".py",
   "mimetype": "text/x-python",
   "name": "python",
   "nbconvert_exporter": "python",
   "pygments_lexer": "ipython2",
   "version": "2.7.10"
  }
 },
 "nbformat": 4,
 "nbformat_minor": 2
}
