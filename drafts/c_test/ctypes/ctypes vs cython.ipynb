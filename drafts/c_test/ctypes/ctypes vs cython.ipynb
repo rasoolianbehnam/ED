{
 "cells": [
  {
   "cell_type": "code",
   "execution_count": 1,
   "metadata": {},
   "outputs": [],
   "source": [
    "import ctypes\n",
    "import Cython\n",
    "import numpy as np\n",
    "%load_ext Cython"
   ]
  },
  {
   "cell_type": "code",
   "execution_count": 2,
   "metadata": {},
   "outputs": [],
   "source": [
    "%%cython\n",
    "cdef extern from \"/home/bzr0014/git/exploit-development/drafts/c_test/ctypes/sum.h\":\n",
    "    int our_function(int numbers, int* numbers)\n",
    "\n",
    "cpdef our_function_cython(int[:] numbers):\n",
    "    cdef int n = numbers.shape[0]\n",
    "    return our_function(n,  &numbers[0])"
   ]
  },
  {
   "cell_type": "code",
   "execution_count": 15,
   "metadata": {},
   "outputs": [
    {
     "name": "stderr",
     "output_type": "stream",
     "text": [
      "/home/bzr0014/envs/hack/local/lib/python2.7/site-packages/Cython/Compiler/Main.py:367: FutureWarning: Cython directive 'language_level' not set, using 2 for now (Py2). This will change in a later release! File: /home/bzr0014/.cache/ipython/cython/_cython_magic_4488488e5a1f0bf5aaa0221a15f002e9.pyx\n",
      "  tree = Parsing.p_module(s, pxd, full_module_name)\n"
     ]
    }
   ],
   "source": [
    "%%cython\n",
    "from cython.parallel cimport prange\n",
    "from cython cimport wraparound, boundscheck\n",
    "cpdef our_function_cython2(int[:] numbers):\n",
    "    cdef int i;\n",
    "    cdef int num_numbers = numbers.shape[0];\n",
    "    cdef int sum = 0;\n",
    "    with wraparound(False), boundscheck(False):\n",
    "        for i in prange(num_numbers, nogil=True):\n",
    "            sum += numbers[i];\n",
    "    return sum;"
   ]
  },
  {
   "cell_type": "code",
   "execution_count": 3,
   "metadata": {},
   "outputs": [],
   "source": [
    "_sum = ctypes.CDLL('./libsum.so')\n",
    "_sum.our_function.argtypes = (ctypes.c_int, ctypes.POINTER(ctypes.c_int))\n",
    "\n",
    "def our_function_ctype(numbers):\n",
    "    global _sum\n",
    "    num_numbers = len(numbers)\n",
    "    array_type = ctypes.c_int * num_numbers\n",
    "    result = _sum.our_function(ctypes.c_int(num_numbers), array_type(*numbers))\n",
    "    return int(result)"
   ]
  },
  {
   "cell_type": "code",
   "execution_count": 17,
   "metadata": {},
   "outputs": [],
   "source": [
    "a = np.random.randint(0, 1000, 10000).astype('int32')"
   ]
  },
  {
   "cell_type": "code",
   "execution_count": 18,
   "metadata": {},
   "outputs": [
    {
     "name": "stdout",
     "output_type": "stream",
     "text": [
      "100 loops, best of 3: 2.15 ms per loop\n"
     ]
    }
   ],
   "source": [
    "%timeit our_function_ctype(a)"
   ]
  },
  {
   "cell_type": "code",
   "execution_count": 19,
   "metadata": {},
   "outputs": [
    {
     "name": "stdout",
     "output_type": "stream",
     "text": [
      "The slowest run took 9.03 times longer than the fastest. This could mean that an intermediate result is being cached.\n",
      "100000 loops, best of 3: 9.85 µs per loop\n"
     ]
    }
   ],
   "source": [
    "%timeit np.sum(a)"
   ]
  },
  {
   "cell_type": "code",
   "execution_count": 20,
   "metadata": {},
   "outputs": [
    {
     "name": "stdout",
     "output_type": "stream",
     "text": [
      "100000 loops, best of 3: 3.91 µs per loop\n"
     ]
    }
   ],
   "source": [
    "%timeit our_function_cython(a)"
   ]
  },
  {
   "cell_type": "code",
   "execution_count": 21,
   "metadata": {},
   "outputs": [
    {
     "name": "stdout",
     "output_type": "stream",
     "text": [
      "100000 loops, best of 3: 4.88 µs per loop\n"
     ]
    }
   ],
   "source": [
    "%timeit our_function_cython2(a)"
   ]
  },
  {
   "cell_type": "code",
   "execution_count": null,
   "metadata": {},
   "outputs": [],
   "source": []
  }
 ],
 "metadata": {
  "kernelspec": {
   "display_name": "Python 2",
   "language": "python",
   "name": "python2"
  },
  "language_info": {
   "codemirror_mode": {
    "name": "ipython",
    "version": 2
   },
   "file_extension": ".py",
   "mimetype": "text/x-python",
   "name": "python",
   "nbconvert_exporter": "python",
   "pygments_lexer": "ipython2",
   "version": "2.7.12"
  }
 },
 "nbformat": 4,
 "nbformat_minor": 2
}
