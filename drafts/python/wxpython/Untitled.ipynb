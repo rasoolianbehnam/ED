{
 "cells": [
  {
   "cell_type": "code",
   "execution_count": 17,
   "metadata": {},
   "outputs": [],
   "source": [
    "import numpy as np\n",
    "import cv2\n",
    "import matplotlib.pyplot as plt\n",
    "import random\n",
    "import string\n",
    "import time\n",
    "\n",
    "from IPython.display import Markdown, HTML\n",
    "from IPython.display import clear_output"
   ]
  },
  {
   "cell_type": "code",
   "execution_count": 26,
   "metadata": {},
   "outputs": [],
   "source": [
    "scale = 3\n",
    "M = 640 * 2\n",
    "N = 640 * 2\n",
    "pad = 20 "
   ]
  },
  {
   "cell_type": "code",
   "execution_count": 30,
   "metadata": {},
   "outputs": [
    {
     "data": {
      "image/png": "[encoded data removed]",
      "text/plain": [
       "<Figure size 432x288 with 1 Axes>"
      ]
     },
     "metadata": {
      "needs_background": "light"
     },
     "output_type": "display_data"
    },
    {
     "data": {
      "text/markdown": [
       "## Correct answer: B"
      ],
      "text/plain": [
       "<IPython.core.display.Markdown object>"
      ]
     },
     "metadata": {},
     "output_type": "display_data"
    }
   ],
   "source": [
    "for i in range(5):\n",
    "    img = np.zeros((M + pad, N + pad))\n",
    "    imgs = [[None, None], [None, None]]\n",
    "    imgs[0][0] = img[pad//2:M//2, pad//2:N//2]\n",
    "    imgs[0][1] = img[pad+M//2:M+pad]\n",
    "    imgs[1][0] = img[pad//2:M//2, pad+N//2:N]\n",
    "    imgs[1][1] = img[pad+M//2:M, pad+N//2:N]\n",
    "\n",
    "    imgs[0][1][:, :] = 50\n",
    "    imgs[1][0][:, :] = 100\n",
    "    imgs[1][1][:, :] = 200\n",
    "\n",
    "    font = cv2.FONT_HERSHEY_COMPLEX\n",
    "    index = random.randint(0, 3)\n",
    "    i = index // 2\n",
    "    j = index % 2\n",
    "    letter = random.choice(string.ascii_letters).upper()\n",
    "    digit = random.randint(1, 9)\n",
    "    text = \"%s%d\"%(letter, digit)\n",
    "    #text = 'b2'\n",
    "    cv2.putText(imgs[i][j],text,(100*scale,100*scale), font, 4, 255, 4*scale, cv2.LINE_AA)\n",
    "\n",
    "    vowels = ['A', 'E', 'I', 'O', 'U']\n",
    "    correct = \"\"\n",
    "    if i == 0:\n",
    "        correct = 'N' if letter in vowels else 'B'\n",
    "    else:\n",
    "        correct = 'B' if digit % 2 else 'N'\n",
    "\n",
    "    plt.imshow(img)\n",
    "    plt.show()\n",
    "    display(Markdown(\"## Correct answer: \" + correct))\n",
    "    clear_output(wait=True)\n",
    "    time.sleep(2)"
   ]
  },
  {
   "cell_type": "code",
   "execution_count": null,
   "metadata": {},
   "outputs": [],
   "source": []
  }
 ],
 "metadata": {
  "kernelspec": {
   "display_name": "Python 3",
   "language": "python",
   "name": "python3"
  },
  "language_info": {
   "codemirror_mode": {
    "name": "ipython",
    "version": 3
   },
   "file_extension": ".py",
   "mimetype": "text/x-python",
   "name": "python",
   "nbconvert_exporter": "python",
   "pygments_lexer": "ipython3",
   "version": "3.7.2"
  }
 },
 "nbformat": 4,
 "nbformat_minor": 2
}
