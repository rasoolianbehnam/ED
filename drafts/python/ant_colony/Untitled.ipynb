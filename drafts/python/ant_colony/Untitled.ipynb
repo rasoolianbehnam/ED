{
 "cells": [
  {
   "cell_type": "code",
   "execution_count": 4,
   "metadata": {},
   "outputs": [],
   "source": [
    "import tensorflow as tf\n",
    "import numpy as np"
   ]
  },
  {
   "cell_type": "code",
   "execution_count": 46,
   "metadata": {},
   "outputs": [],
   "source": [
    "def mat_pow(a, k):\n",
    "    if k == 0:\n",
    "        m = np.eye(a.shape[0])\n",
    "    elif k % 2:\n",
    "        m = mat_pow(a, k-1)\n",
    "        m = tf.matmul(a, m)\n",
    "    else:\n",
    "        m = mat_pow(a, k // 2)\n",
    "        m = tf.matmul(m, m)\n",
    "    return m"
   ]
  },
  {
   "cell_type": "code",
   "execution_count": 357,
   "metadata": {},
   "outputs": [],
   "source": [
    "def check_connectivity_tf(mat_tf):\n",
    "    n, m = mat_tf.shape\n",
    "    assert n.value == m.value\n",
    "    mat_tf = tf.linalg.set_diag(mat_tf, tf.ones(n.value, dtype=tf.float64))\n",
    "    mat_tf = mat_pow(mat_tf, n.value)\n",
    "    return tf.cast(tf.reduce_sum(tf.cast\\\n",
    "                 (tf.equal(tf.reduce_sum(tf.cast\\\n",
    "                 (tf.not_equal(mat_tf, 0), tf.float64), axis=0), n.value) , tf.float64))\\\n",
    "                 > 0, tf.float64)\n",
    "def check_no_cycle_tf(mat_tf):\n",
    "    n, m = mat_tf.shape\n",
    "    assert n.value == m.value\n",
    "    a = tf.cast(tf.equal(tf.reduce_sum(mat_tf, axis=0), 1), tf.float64)\n",
    "    b = tf.cast(tf.equal(tf.reduce_sum(mat_tf, axis=1), 1), tf.float64)\n",
    "    return tf.cast(tf.equal(tf.reduce_sum(a), n.value), tf.float64) *\\\n",
    "           tf.cast(tf.equal(tf.reduce_sum(b), n.value), tf.float64)\n",
    "def check_diagonal_zero_tf(mat_tf):\n",
    "    return tf.reduce_sum(tf.diag_part(mat_tf))\n",
    "\n",
    "def check_connectivity(mat):\n",
    "    n, m = mat.shape\n",
    "    assert n == m\n",
    "    mat = mat * 1 \n",
    "    diag = range(n)\n",
    "    mat[diag, diag] = 1 \n",
    "    mat = np.linalg.matrix_power(mat, n); \n",
    "    #print(mat)\n",
    "    print(np.sum((mat != 0).sum(axis=0) == m) > 0)\n",
    "    \n",
    "def check_no_cycle(mat):\n",
    "    n, m = mat.shape\n",
    "    assert n == m\n",
    "    a = mat.sum(axis=0) == 1\n",
    "    b = mat.sum(axis=1) == 1\n",
    "    print((a.sum() == n) & (b.sum() == n))"
   ]
  },
  {
   "cell_type": "code",
   "execution_count": 365,
   "metadata": {},
   "outputs": [],
   "source": [
    "tf.reset_default_graph()\n",
    "N = 5\n",
    "\n",
    "mat = tf.placeholder(shape=[N, N], dtype=tf.float64)\n",
    "#mat = tf.nn.relu(tf.matmul(dist, W1) + b1)\n",
    "mat = tf.where(mat > 0, tf.ones(shape=[N, N], dtype=tf.float64), mat)\n",
    "pat = check_connectivity_tf(mat)\n",
    "cat = check_no_cycle_tf(mat)\n",
    "dia = check_diagonal_zero_tf(mat)"
   ]
  },
  {
   "cell_type": "code",
   "execution_count": 366,
   "metadata": {},
   "outputs": [
    {
     "data": {
      "text/plain": [
       "array([[ 0, 10,  5,  2,  8],\n",
       "       [10,  0,  6,  5,  4],\n",
       "       [ 5,  6,  0,  9,  2],\n",
       "       [ 2,  5,  9,  0,  7],\n",
       "       [ 8,  4,  2,  7,  0]])"
      ]
     },
     "execution_count": 366,
     "metadata": {},
     "output_type": "execute_result"
    }
   ],
   "source": [
    "a = np.array([[0, 1, 0, 0, 0], [0, 0, 1, 0, 0], [1, 0, 0, 0, 0], [0, 0,     0, 0, 1], [0, 0, 0, 1, 0]])\n",
    "b = np.array([[0, 0, 1, 0, 0], [0, 0, 0, 1, 0], [0, 0, 0, 0, 1], [1, 0, 0, 0, 0], [0, 1, 0, 0, 0]])\n",
    "c = np.array([[0, 0, 1, 0, 0], [0, 0, 0, 1, 0], [0, 0, 0, 0, 1], [1, 0, 0, 0, 0], [0, 1, 0, 0, 0]])\n",
    "d = np.array([[0,0,0,0,1],[0,0,1,0,0],[0,1,0,0,0],[1,0,0,0,0],[0,0,0,1,0]])\n",
    "my_dist = np.array([[0, 10, 5, 2, 8], [0, 0, 6, 5, 4], [0, 0, 0, 9, 2], [0, 0, 0, 0, 7], [0, 0, 0, 0, 0]])\n",
    "my_dist += my_dist.T\n",
    "my_dist"
   ]
  },
  {
   "cell_type": "code",
   "execution_count": 371,
   "metadata": {},
   "outputs": [
    {
     "name": "stdout",
     "output_type": "stream",
     "text": [
      "False\n",
      "True\n"
     ]
    }
   ],
   "source": [
    "#check_connectivity(a)\n",
    "#check_no_cycle(a)\n",
    "#check_connectivity(b)\n",
    "#check_no_cycle(b)\n",
    "#check_connectivity(c)\n",
    "#check_no_cycle(c)\n",
    "check_connectivity(d)\n",
    "check_no_cycle(c)"
   ]
  },
  {
   "cell_type": "code",
   "execution_count": 370,
   "metadata": {},
   "outputs": [
    {
     "name": "stdout",
     "output_type": "stream",
     "text": [
      "[[0. 0. 0. 0. 1.]\n",
      " [0. 0. 1. 0. 0.]\n",
      " [0. 1. 0. 0. 0.]\n",
      " [1. 0. 0. 0. 0.]\n",
      " [0. 0. 0. 1. 0.]] 0.0 1.0 0.0\n"
     ]
    }
   ],
   "source": [
    "init = tf.global_variables_initializer()\n",
    "with tf.Session() as sess:\n",
    "    init.run()\n",
    "    orig, mardas, raghas, pertas = sess.run([mat, pat, cat, dia], feed_dict = {mat: d})\n",
    "    print(orig, mardas, raghas, pertas)\n",
    "    #orig, mardas, raghas, pertas = sess.run([mat, pat, cat, dia], feed_dict = {dist: b})\n",
    "    #print(orig, mardas, raghas, pertas)\n",
    "    #orig, mardas, raghas, pertas = sess.run([mat, pat, cat, dia], feed_dict = {dist: c})\n",
    "    #print(orig, mardas, raghas, pertas)"
   ]
  },
  {
   "cell_type": "code",
   "execution_count": null,
   "metadata": {},
   "outputs": [],
   "source": []
  },
  {
   "cell_type": "code",
   "execution_count": null,
   "metadata": {},
   "outputs": [],
   "source": []
  }
 ],
 "metadata": {
  "kernelspec": {
   "display_name": "Python 3",
   "language": "python",
   "name": "python3"
  },
  "language_info": {
   "codemirror_mode": {
    "name": "ipython",
    "version": 3
   },
   "file_extension": ".py",
   "mimetype": "text/x-python",
   "name": "python",
   "nbconvert_exporter": "python",
   "pygments_lexer": "ipython3",
   "version": "3.5.2"
  }
 },
 "nbformat": 4,
 "nbformat_minor": 2
}
