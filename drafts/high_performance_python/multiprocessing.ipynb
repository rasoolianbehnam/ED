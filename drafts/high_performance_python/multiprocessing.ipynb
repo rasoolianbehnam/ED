{
 "cells": [
  {
   "cell_type": "code",
   "execution_count": 277,
   "metadata": {},
   "outputs": [
    {
     "name": "stdout",
     "output_type": "stream",
     "text": [
      "called function in process: 1\n",
      "called function in process: 0\n",
      "called function in process: 2\n",
      "called function in process: 3\n",
      "called function in process: 4\n"
     ]
    }
   ],
   "source": [
    "import multiprocessing\n",
    "import time\n",
    "def foo(i):\n",
    "    time.sleep(10)\n",
    "    print ('called function in process: %s' %i)\n",
    "    return\n",
    "if __name__ == '__main__':\n",
    "    Process_jobs = []\n",
    "    for i in range(5):\n",
    "        p = multiprocessing.Process(target=foo, args=(i,), name='mardas%02d'%i)\n",
    "        p.daemon = True\n",
    "        Process_jobs.append(p)\n",
    "        p.start()\n",
    "    for i in range(5):\n",
    "        p.join()"
   ]
  },
  {
   "cell_type": "code",
   "execution_count": 15,
   "metadata": {},
   "outputs": [
    {
     "name": "stdout",
     "output_type": "stream",
     "text": [
      "Results: {0: 0, 1: 2, 2: 4, 3: 6, 4: 8, 5: 10, 6: 12, 7: 14, 8: 16, 9: 18}\n",
      "10\n",
      "0\n"
     ]
    }
   ],
   "source": [
    "import multiprocessing\n",
    "import queue\n",
    "q  = multiprocessing.Queue()\n",
    "q2 = queue.Queue()\n",
    "\n",
    "def worker(dictionary, key, item):\n",
    "    dictionary[key] = item\n",
    "    q.put(key)\n",
    "    q2.put(key)\n",
    "if __name__ == '__main__':\n",
    "    mgr = multiprocessing.Manager()\n",
    "    dictionary = mgr.dict()\n",
    "    #dictionary = {}\n",
    "    jobs = [ multiprocessing.Process\\\n",
    "        (target=worker, args=(dictionary, i, i*2))\n",
    "        for i in range(10)\n",
    "        ]\n",
    "    for j in jobs:\n",
    "        j.start()\n",
    "    for j in jobs:\n",
    "        j.join()\n",
    "    print ('Results:', dictionary)\n",
    "    print(q.qsize())\n",
    "    print(q2.qsize())"
   ]
  },
  {
   "cell_type": "code",
   "execution_count": 176,
   "metadata": {},
   "outputs": [],
   "source": [
    "def create_process(fun, *args, **kwargs):\n",
    "    args=(*args, kwargs) if len(kwargs)>0 else (*args,)\n",
    "    return multiprocessing.Process(target=fun, args=args)"
   ]
  },
  {
   "cell_type": "code",
   "execution_count": 177,
   "metadata": {},
   "outputs": [],
   "source": [
    "def mardas(a, b, c=10):\n",
    "    print(\"%d -> %d\"%(a, b))\n",
    "    print(c)\n",
    "def raghas(a):\n",
    "    print(\"%s\" % a)"
   ]
  },
  {
   "cell_type": "code",
   "execution_count": 187,
   "metadata": {},
   "outputs": [],
   "source": [
    "p1 = create_process(mardas, 1, 2, c=3, d=4)\n",
    "p2 = create_process(raghas, 'a')"
   ]
  },
  {
   "cell_type": "code",
   "execution_count": 188,
   "metadata": {},
   "outputs": [
    {
     "name": "stdout",
     "output_type": "stream",
     "text": [
      "1 -> 2\n",
      "{'c': 3, 'd': 4}\n",
      "a\n"
     ]
    }
   ],
   "source": [
    "p1.start()\n",
    "p2.start()\n",
    "p1.join()\n",
    "p2.join()"
   ]
  },
  {
   "cell_type": "code",
   "execution_count": 303,
   "metadata": {},
   "outputs": [],
   "source": [
    "def run_functions_process(e, q):\n",
    "    while e.is_set():\n",
    "        print('ongoing')\n",
    "        time.sleep(5)\n",
    "        if not q.empty():\n",
    "            fun, args, kwargs = q.get()\n",
    "            if len(kwargs)==0:\n",
    "                fun(*args)\n",
    "            else:\n",
    "                fun(*args, **kwargs)\n",
    "    print(\"finished\")"
   ]
  },
  {
   "cell_type": "code",
   "execution_count": null,
   "metadata": {},
   "outputs": [],
   "source": []
  },
  {
   "cell_type": "code",
   "execution_count": 322,
   "metadata": {},
   "outputs": [],
   "source": [
    "q = multiprocessing.Queue()\n",
    "e = multiprocessing.Event()\n",
    "e.set()\n",
    "q.put((mardas, (2, 3, ), {'c': 11}))\n",
    "q.put((raghas, ('mardas',), {}))\n",
    "p = multiprocessing.Process(target=run_functions_process, args=(e, q))"
   ]
  },
  {
   "cell_type": "code",
   "execution_count": 323,
   "metadata": {},
   "outputs": [
    {
     "name": "stdout",
     "output_type": "stream",
     "text": [
      "finished\n"
     ]
    }
   ],
   "source": [
    "p.start()\n",
    "e.clear()"
   ]
  },
  {
   "cell_type": "code",
   "execution_count": 314,
   "metadata": {},
   "outputs": [],
   "source": []
  }
 ],
 "metadata": {
  "kernelspec": {
   "display_name": "Python 3",
   "language": "python",
   "name": "python3"
  },
  "language_info": {
   "codemirror_mode": {
    "name": "ipython",
    "version": 3
   },
   "file_extension": ".py",
   "mimetype": "text/x-python",
   "name": "python",
   "nbconvert_exporter": "python",
   "pygments_lexer": "ipython3",
   "version": "3.7.2"
  }
 },
 "nbformat": 4,
 "nbformat_minor": 2
}
