{
 "cells": [
  {
   "cell_type": "code",
   "execution_count": 11,
   "metadata": {},
   "outputs": [
    {
     "name": "stdout",
     "output_type": "stream",
     "text": [
      "Thread-94: abcdefghijklmnopqrstuvwxyz\n",
      "Thread-95: abcdefghijklmnopqrstuvwxyz\n",
      "Thread-96: abcdefghijklmnopqrstuvwxyz\n",
      "Thread-98: abcdefghijklmnopqrstuvwxyz\n",
      "Thread-97: abcdefghijklmnopqrstuvwxyz\n",
      "Thread-99: abcdefghijklmnopqrstuvwxyz\n",
      "Thread-100: abcdefghijklmnopqrstuvwxyz\n",
      "Thread-101: abcdefghijklmnopqrstuvwxyz\n",
      "Thread-102: abcdefghijklmnopqrstuvwxyz\n",
      "Thread-103: abcdefghijklmnopqrstuvwxyz\n",
      "Results: {0: 0, 1: 2, 2: 4, 4: 8, 3: 6, 5: 10, 6: 12, 7: 14, 8: 16, 9: 18}\n"
     ]
    }
   ],
   "source": [
    "import threading\n",
    "sem = threading.Semaphore()\n",
    "def worker(dictionary, key, item):\n",
    "    sem.acquire()\n",
    "    dictionary[key] = item\n",
    "    print(\"%s: abcdefghijklmnopqrstuvwxyz\"%(threading.current_thread().getName()))\n",
    "    sem.release()\n",
    "if __name__ == '__main__':\n",
    "    dictionary = {}\n",
    "    jobs = [ threading.Thread\\\n",
    "        (target=worker, args=(dictionary, i, i*2))\n",
    "        for i in range(10)\n",
    "        ]\n",
    "    for j in jobs:\n",
    "        j.start()\n",
    "    for j in jobs:\n",
    "        j.join()\n",
    "    print ('Results:', dictionary)"
   ]
  },
  {
   "cell_type": "code",
   "execution_count": 14,
   "metadata": {},
   "outputs": [
    {
     "data": {
      "text/latex": [
       "$m = 2k_1 + 1, n = 2k_2 + 1 \\Rightarrow m + n = 2k_1 + 2_k2 + 2 = 2(k_1+k_2+1) = 2k$\n"
      ],
      "text/plain": [
       "<IPython.core.display.Latex object>"
      ]
     },
     "metadata": {},
     "output_type": "display_data"
    }
   ],
   "source": [
    "%%latex\n",
    "$m = 2k_1 + 1, n = 2k_2 + 1 \\Rightarrow m + n = 2k_1 + 2_k2 + 2 = 2(k_1+k_2+1) = 2k$"
   ]
  },
  {
   "cell_type": "code",
   "execution_count": null,
   "metadata": {},
   "outputs": [],
   "source": []
  }
 ],
 "metadata": {
  "kernelspec": {
   "display_name": "Python 3",
   "language": "python",
   "name": "python3"
  },
  "language_info": {
   "codemirror_mode": {
    "name": "ipython",
    "version": 3
   },
   "file_extension": ".py",
   "mimetype": "text/x-python",
   "name": "python",
   "nbconvert_exporter": "python",
   "pygments_lexer": "ipython3",
   "version": "3.7.2"
  }
 },
 "nbformat": 4,
 "nbformat_minor": 2
}
