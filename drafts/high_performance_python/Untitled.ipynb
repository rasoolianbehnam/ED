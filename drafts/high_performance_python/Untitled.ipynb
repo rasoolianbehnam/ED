{
 "cells": [
  {
   "cell_type": "code",
<<<<<<< HEAD:drafts/high_performance_python/Untitled.ipynb
   "execution_count": 2,
=======
   "execution_count": 28,
>>>>>>> d355db86c991792240fe95f028173cf521714425:drafts/theano/Untitled.ipynb
   "metadata": {},
   "outputs": [
    {
     "name": "stdout",
     "output_type": "stream",
     "text": [
      "The Cython extension is already loaded. To reload it, use:\n",
      "  %reload_ext Cython\n"
     ]
    }
   ],
   "source": [
    "%load_ext Cython\n",
    "import numpy as np\n",
    "import theano as th\n",
    "import theano.tensor as T\n",
    "import tensorflow as tf\n",
    "import numba as nb\n",
    "import math\n",
    "import time\n",
    "import cv2\n",
    "import socket"
   ]
  },
  {
   "cell_type": "code",
<<<<<<< HEAD:drafts/high_performance_python/Untitled.ipynb
   "execution_count": 3,
   "metadata": {},
   "outputs": [],
   "source": [
    "%%cython\n",
    "def mardas(a):\n",
    "    return a * 2"
   ]
  },
  {
   "cell_type": "code",
=======
>>>>>>> d355db86c991792240fe95f028173cf521714425:drafts/theano/Untitled.ipynb
   "execution_count": 39,
   "metadata": {},
   "outputs": [],
   "source": [
    "%%cython\n",
    "from cython cimport boundscheck, wraparound\n",
    "from libc.stdlib cimport malloc\n",
    "from cython.parallel cimport prange\n",
    "cimport numpy as cnp\n",
    "import numpy as np\n",
    "\n",
    "cpdef float[:] cython_mul(float[:,:] a, float[:] b):\n",
    "    cdef:\n",
    "        int i, j, k, n, m\n",
    "        float *mardas\n",
    "    n = a.shape[0]\n",
    "    m = a.shape[1]\n",
    "    mardas = <float*> malloc(n * sizeof(float))\n",
    "    with boundscheck(False), wraparound(False):\n",
    "        for j in prange(n, nogil=True):\n",
    "            mardas[j] = 0\n",
    "    with boundscheck(False), wraparound(False):\n",
    "        for j in prange(n, nogil=True):\n",
    "            for i in range(m):\n",
    "                mardas[j] += a[j, i] * b[i]\n",
    "    return <float[:n]> mardas"
   ]
  },
  {
   "cell_type": "code",
   "execution_count": 40,
   "metadata": {},
   "outputs": [],
   "source": [
    "N = 10000\n",
    "a = np.random.rand(N, N).astype('float32')\n",
    "b = np.random.rand(N).astype('float32')"
   ]
  },
  {
   "cell_type": "code",
   "execution_count": 41,
   "metadata": {},
   "outputs": [
    {
     "data": {
      "text/plain": [
       "array([-0.00561523, -0.0090332 ,  0.00488281, ...,  0.00341797,\n",
       "       -0.0012207 , -0.00244141], dtype=float32)"
      ]
     },
     "execution_count": 41,
     "metadata": {},
     "output_type": "execute_result"
    }
   ],
   "source": [
    "np.array(cython_mul(a, b)) - a.dot(b)"
   ]
  },
  {
   "cell_type": "code",
   "execution_count": 42,
   "metadata": {},
   "outputs": [
    {
     "name": "stdout",
     "output_type": "stream",
     "text": [
      "111 ms ± 569 µs per loop (mean ± std. dev. of 7 runs, 10 loops each)\n"
     ]
    }
   ],
   "source": [
    "%timeit cython_mul(a, b)"
   ]
  },
  {
   "cell_type": "code",
   "execution_count": 51,
   "metadata": {},
   "outputs": [],
   "source": [
    "th.config.openmp = True\n",
    "ath = th.tensor.matrix()\n",
    "bth = th.tensor.matrix()\n",
    "out = ath.dot(bth)\n",
    "f = th.function([ath, bth], out)"
   ]
  },
  {
   "cell_type": "code",
   "execution_count": 53,
   "metadata": {},
   "outputs": [
    {
     "name": "stdout",
     "output_type": "stream",
     "text": [
      "425 ms ± 1.31 ms per loop (mean ± std. dev. of 7 runs, 1 loop each)\n"
     ]
    }
   ],
   "source": [
    "bb = b.reshape(-1, 1)\n",
    "%timeit f(a, bb)"
   ]
  },
  {
   "cell_type": "code",
   "execution_count": 49,
   "metadata": {},
   "outputs": [],
   "source": [
    "atf = tf.placeholder(shape=[None, None], dtype=tf.float32)\n",
    "btf = tf.placeholder(shape=[None, 1], dtype=tf.float32)\n",
    "out = tf.matmul(atf, btf)\n",
    "sess= tf.Session()\n",
    "feed_dict = {atf: a, btf: b.reshape(-1, 1)}"
   ]
  },
  {
   "cell_type": "code",
   "execution_count": 50,
   "metadata": {},
   "outputs": [
    {
     "name": "stdout",
     "output_type": "stream",
     "text": [
      "44.3 ms ± 2.17 ms per loop (mean ± std. dev. of 7 runs, 1 loop each)\n"
     ]
    }
   ],
   "source": [
    "%timeit sess.run(out, feed_dict=feed_dict)"
   ]
  },
  {
   "cell_type": "code",
   "execution_count": 54,
   "metadata": {},
   "outputs": [
    {
     "name": "stdout",
     "output_type": "stream",
     "text": [
      "41.9 ms ± 164 µs per loop (mean ± std. dev. of 7 runs, 10 loops each)\n"
     ]
    }
   ],
   "source": [
    "bb = b.reshape(-1, 1)\n",
    "%timeit a.dot(b)"
   ]
  },
  {
   "cell_type": "code",
<<<<<<< HEAD:drafts/high_performance_python/Untitled.ipynb
   "execution_count": 6,
=======
   "execution_count": 56,
>>>>>>> d355db86c991792240fe95f028173cf521714425:drafts/theano/Untitled.ipynb
   "metadata": {},
   "outputs": [],
   "source": [
    "@nb.vectorize(['float32(float32, float32)'])\n",
    "def mul_numba(a, b):\n",
    "    return a * b"
   ]
  },
  {
   "cell_type": "code",
<<<<<<< HEAD:drafts/high_performance_python/Untitled.ipynb
   "execution_count": 3,
=======
   "execution_count": 57,
>>>>>>> d355db86c991792240fe95f028173cf521714425:drafts/theano/Untitled.ipynb
   "metadata": {},
   "outputs": [
    {
     "data": {
      "text/plain": [
       "array([[0.30815125, 0.03520628, 0.294531  , ..., 0.82657033, 0.04556881,\n",
       "        0.03632921],\n",
       "       [0.30391175, 0.48041525, 0.12499926, ..., 0.10415496, 0.21428944,\n",
       "        0.01982157],\n",
       "       [0.06418305, 0.11020334, 0.1917314 , ..., 0.8691895 , 0.04590769,\n",
       "        0.03038564],\n",
       "       ...,\n",
       "       [0.3571819 , 0.8580767 , 0.26147088, ..., 0.6585892 , 0.11944653,\n",
       "        0.04103302],\n",
       "       [0.25646242, 0.6363841 , 0.18894507, ..., 0.40003654, 0.07482015,\n",
       "        0.03396439],\n",
       "       [0.28920603, 0.09723116, 0.20632674, ..., 0.72940606, 0.06852794,\n",
       "        0.06087457]], dtype=float32)"
      ]
     },
     "execution_count": 57,
     "metadata": {},
     "output_type": "execute_result"
    }
   ],
   "source": [
    "mul_numba(a, b)"
   ]
  },
  {
   "cell_type": "code",
<<<<<<< HEAD:drafts/high_performance_python/Untitled.ipynb
   "execution_count": 4,
=======
   "execution_count": 58,
>>>>>>> d355db86c991792240fe95f028173cf521714425:drafts/theano/Untitled.ipynb
   "metadata": {},
   "outputs": [],
   "source": [
    "@nb.vectorize(['float32(float32, float32)'], target='cuda')\n",
    "def expon_gpu(x, y):\n",
    "    return math.exp(x) + math.exp(y)"
   ]
  },
  {
   "cell_type": "code",
<<<<<<< HEAD:drafts/high_performance_python/Untitled.ipynb
   "execution_count": 8,
=======
   "execution_count": 59,
   "metadata": {},
   "outputs": [],
   "source": [
    "@nb.jit(\"float32(float32, float32)\")\n",
    "def mul_jit(a, b):\n",
    "    n = a.shape[0]\n",
    "    m = a.shape[1]\n",
    "    out = np.zeros(n)\n",
    "    for i in range(n):\n",
    "        for j in range(m):\n",
    "            out[i] += a[i, j] * b[j]\n",
    "    return out\n",
    "            "
   ]
  },
  {
   "cell_type": "code",
   "execution_count": 60,
>>>>>>> d355db86c991792240fe95f028173cf521714425:drafts/theano/Untitled.ipynb
   "metadata": {},
   "outputs": [
    {
     "name": "stdout",
     "output_type": "stream",
     "text": [
<<<<<<< HEAD:drafts/high_performance_python/Untitled.ipynb
      "CPU: 2.13869309425354\n",
      "theano: 0.8225557804107666\n"
=======
      "127 ms ± 2.16 ms per loop (mean ± std. dev. of 7 runs, 1 loop each)\n"
>>>>>>> d355db86c991792240fe95f028173cf521714425:drafts/theano/Untitled.ipynb
     ]
    }
   ],
   "source": [
<<<<<<< HEAD:drafts/high_performance_python/Untitled.ipynb
    "N = 1000000\n",
    "niter = 100\n",
    "a = np.random.rand(N).astype('float32')\n",
    "b = np.random.rand(N).astype('float32')\n",
    "# Trigger compilation\n",
    "expon_cpu(a, b)\n",
    "#expon_gpu(a, b)\n",
    "## Timing\n",
    "start = time.time()\n",
    "for i in range(niter):\n",
    "    expon_cpu(a, b)\n",
    "print(\"CPU:\", time.time() - start)\n",
    "start = time.time()\n",
    "for i in range(niter):\n",
    "    f(a, b)\n",
    "print(\"theano:\", time.time() - start)"
   ]
  },
  {
   "cell_type": "code",
   "execution_count": 19,
   "metadata": {},
   "outputs": [],
   "source": [
    "a = T.vector()\n",
    "b = T.vector()\n",
    "c = (a > 0) * 2\n",
    "f = th.function([a], c)"
=======
    "c = np.zeros(N)\n",
    "%timeit mul_jit(a, b)"
>>>>>>> d355db86c991792240fe95f028173cf521714425:drafts/theano/Untitled.ipynb
   ]
  },
  {
   "cell_type": "code",
   "execution_count": 20,
   "metadata": {},
   "outputs": [
    {
     "data": {
      "text/plain": [
<<<<<<< HEAD:drafts/high_performance_python/Untitled.ipynb
       "array([2, 0], dtype=int8)"
=======
       "array([ 5.99537385e-04, -1.51222142e-04, -3.62341161e-04, ...,\n",
       "       -2.59238186e-06, -5.31115625e-04, -5.42285883e-04])"
>>>>>>> d355db86c991792240fe95f028173cf521714425:drafts/theano/Untitled.ipynb
      ]
     },
     "execution_count": 20,
     "metadata": {},
     "output_type": "execute_result"
    }
   ],
   "source": [
<<<<<<< HEAD:drafts/high_performance_python/Untitled.ipynb
    "f([1, 0])"
   ]
  },
  {
   "cell_type": "code",
   "execution_count": 23,
   "metadata": {},
   "outputs": [
    {
     "data": {
      "text/plain": [
       "Alloc.0"
      ]
     },
     "execution_count": 23,
     "metadata": {},
     "output_type": "execute_result"
    }
   ],
   "source": [
    "T.ones((5, 5), dtype='uint8')"
   ]
  },
  {
   "cell_type": "code",
   "execution_count": 31,
   "metadata": {},
   "outputs": [
    {
     "ename": "TypeError",
     "evalue": "The generic 'SharedVariable' object is not subscriptable. This shared variable contains an object of type: <class 'list'>. Did you forget to cast it into a Numpy array before calling theano.shared()?",
     "output_type": "error",
     "traceback": [
      "\u001b[0;31m---------------------------------------------------------------------------\u001b[0m",
      "\u001b[0;31mTypeError\u001b[0m                                 Traceback (most recent call last)",
      "\u001b[0;32m<ipython-input-31-59ae7a1aeb6a>\u001b[0m in \u001b[0;36m<module>\u001b[0;34m\u001b[0m\n\u001b[1;32m      1\u001b[0m \u001b[0ma\u001b[0m \u001b[0;34m=\u001b[0m \u001b[0mth\u001b[0m\u001b[0;34m.\u001b[0m\u001b[0mshared\u001b[0m\u001b[0;34m(\u001b[0m\u001b[0;34m[\u001b[0m\u001b[0;36m1\u001b[0m\u001b[0;34m,\u001b[0m \u001b[0;36m2\u001b[0m\u001b[0;34m,\u001b[0m \u001b[0;36m3\u001b[0m\u001b[0;34m]\u001b[0m\u001b[0;34m)\u001b[0m\u001b[0;34m\u001b[0m\u001b[0;34m\u001b[0m\u001b[0m\n\u001b[1;32m      2\u001b[0m \u001b[0my\u001b[0m \u001b[0;34m=\u001b[0m \u001b[0mT\u001b[0m\u001b[0;34m.\u001b[0m\u001b[0mvector\u001b[0m\u001b[0;34m(\u001b[0m\u001b[0;34m)\u001b[0m\u001b[0;34m\u001b[0m\u001b[0;34m\u001b[0m\u001b[0m\n\u001b[0;32m----> 3\u001b[0;31m \u001b[0mb\u001b[0m \u001b[0;34m=\u001b[0m \u001b[0;34m(\u001b[0m\u001b[0ma\u001b[0m\u001b[0;34m,\u001b[0m \u001b[0mT\u001b[0m\u001b[0;34m.\u001b[0m\u001b[0mset_subtensor\u001b[0m\u001b[0;34m(\u001b[0m\u001b[0ma\u001b[0m\u001b[0;34m[\u001b[0m\u001b[0;36m0\u001b[0m\u001b[0;34m]\u001b[0m\u001b[0;34m,\u001b[0m \u001b[0my\u001b[0m\u001b[0;34m)\u001b[0m\u001b[0;34m)\u001b[0m\u001b[0;34m\u001b[0m\u001b[0;34m\u001b[0m\u001b[0m\n\u001b[0m\u001b[1;32m      4\u001b[0m \u001b[0;31m#b = (a, T.set_subtensor(a[0], 2))\u001b[0m\u001b[0;34m\u001b[0m\u001b[0;34m\u001b[0m\u001b[0;34m\u001b[0m\u001b[0m\n\u001b[1;32m      5\u001b[0m \u001b[0;31m#f = th.function([b], a)\u001b[0m\u001b[0;34m\u001b[0m\u001b[0;34m\u001b[0m\u001b[0;34m\u001b[0m\u001b[0m\n",
      "\u001b[0;32m~/anaconda3/envs/theano/lib/python3.7/site-packages/theano/compile/sharedvalue.py\u001b[0m in \u001b[0;36m__getitem__\u001b[0;34m(self, *args)\u001b[0m\n\u001b[1;32m    197\u001b[0m         raise TypeError(\n\u001b[1;32m    198\u001b[0m             \u001b[0;34m\"The generic 'SharedVariable' object is not subscriptable. \"\u001b[0m\u001b[0;34m\u001b[0m\u001b[0;34m\u001b[0m\u001b[0m\n\u001b[0;32m--> 199\u001b[0;31m             \"This shared variable contains %s\" % msg)\n\u001b[0m\u001b[1;32m    200\u001b[0m \u001b[0;34m\u001b[0m\u001b[0m\n\u001b[1;32m    201\u001b[0m     \u001b[0;32mdef\u001b[0m \u001b[0m_value_get\u001b[0m\u001b[0;34m(\u001b[0m\u001b[0mself\u001b[0m\u001b[0;34m)\u001b[0m\u001b[0;34m:\u001b[0m\u001b[0;34m\u001b[0m\u001b[0;34m\u001b[0m\u001b[0m\n",
      "\u001b[0;31mTypeError\u001b[0m: The generic 'SharedVariable' object is not subscriptable. This shared variable contains an object of type: <class 'list'>. Did you forget to cast it into a Numpy array before calling theano.shared()?"
     ]
    }
   ],
   "source": [
    "a = th.shared([1, 2, 3])\n",
    "y = T.vector()\n",
    "b = (a, T.set_subtensor(a[0], y))\n",
    "#b = (a, T.set_subtensor(a[0], 2))\n",
    "#f = th.function([b], a)"
   ]
  },
  {
   "cell_type": "code",
   "execution_count": 61,
   "metadata": {},
   "outputs": [
    {
     "data": {
      "text/plain": [
       "[]"
      ]
     },
     "execution_count": 61,
     "metadata": {},
     "output_type": "execute_result"
    }
   ],
   "source": [
    "from theano import tensor as T\n",
    "from theano import function, shared\n",
    "\n",
    "ar = np.array([0,1,2,3,4])\n",
    "X = shared(ar)\n",
    "Y = T.ones(1) * 100\n",
    "X_update = (X, T.set_subtensor(X[2:3], Y))\n",
    "f = function([], updates=[X_update])\n",
    "f()\n",
    "#print X.get_value() # [0 1 100 10 4]\n",
    "\n"
   ]
  },
  {
   "cell_type": "code",
   "execution_count": 60,
   "metadata": {},
   "outputs": [
    {
     "data": {
      "text/plain": [
       "array([0, 1, 2, 3, 4])"
      ]
     },
     "execution_count": 60,
     "metadata": {},
     "output_type": "execute_result"
    }
   ],
   "source": [
    "X.get_value()"
=======
    "mul_jit(a, b) - a.dot(b)"
>>>>>>> d355db86c991792240fe95f028173cf521714425:drafts/theano/Untitled.ipynb
   ]
  },
  {
   "cell_type": "code",
   "execution_count": null,
   "metadata": {},
   "outputs": [],
   "source": []
  }
 ],
 "metadata": {
  "kernelspec": {
   "display_name": "Python 3",
   "language": "python",
   "name": "python3"
  },
  "language_info": {
   "codemirror_mode": {
    "name": "ipython",
    "version": 3
   },
   "file_extension": ".py",
   "mimetype": "text/x-python",
   "name": "python",
   "nbconvert_exporter": "python",
   "pygments_lexer": "ipython3",
<<<<<<< HEAD:drafts/high_performance_python/Untitled.ipynb
   "version": "3.6.5"
=======
   "version": "3.6.8"
>>>>>>> d355db86c991792240fe95f028173cf521714425:drafts/theano/Untitled.ipynb
  }
 },
 "nbformat": 4,
 "nbformat_minor": 2
}
