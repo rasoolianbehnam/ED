{
 "cells": [
  {
   "cell_type": "code",
   "execution_count": 1,
   "metadata": {},
   "outputs": [],
   "source": [
    "class Particle:\n",
    "   def __init__(self, x, y, ang_vel):\n",
    "       self.x = x\n",
    "       self.y = y\n",
    "       self.ang_vel = ang_vel"
   ]
  },
  {
   "cell_type": "code",
   "execution_count": 2,
   "metadata": {},
   "outputs": [],
   "source": [
    "class ParticleSimulator:\n",
    "   def __init__(self, particles):\n",
    "       self.particles = particles\n",
    "   def evolve(self, dt):\n",
    "       timestep = 0.00001\n",
    "       nsteps = int(dt/timestep)\n",
    "       for i in range(nsteps):\n",
    "           for p in self.particles:\n",
    "               # 1. calculate the direction\n",
    "               norm = (p.x**2 + p.y**2)**0.5\n",
    "               v_x = -p.y/norm\n",
    "               v_y = p.x/norm\n",
    "               # 2. calculate the displacement\n",
    "               d_x = timestep * p.ang_vel * v_x\n",
    "               d_y = timestep * p.ang_vel * v_y\n",
    "               p.x += d_x\n",
    "               p.y += d_y\n",
    "               # 3. repeat for all the time steps"
   ]
  },
  {
   "cell_type": "code",
   "execution_count": 6,
   "metadata": {},
   "outputs": [],
   "source": [
    "from matplotlib import pyplot as plt\n",
    "from matplotlib import animation\n",
    "def visualize(simulator):\n",
    "   X = [p.x for p in simulator.particles]\n",
    "   Y = [p.y for p in simulator.particles]\n",
    "   fig = plt.figure()\n",
    "   ax = plt.subplot(111, aspect='equal')\n",
    "   line, = ax.plot(X, Y, 'ro')\n",
    "   # Axis limits\n",
    "   plt.xlim(-1, 1)\n",
    "   plt.ylim(-1, 1)\n",
    "   # It will be run when the animation starts\n",
    "   def init():\n",
    "       line.set_data([], [])\n",
    "       return line, # The comma is important!\n",
    "   def animate(i):\n",
    "       # We let the particle evolve for 0.01 time units\n",
    "       simulator.evolve(0.01)\n",
    "       X = [p.x for p in simulator.particles]\n",
    "       Y = [p.y for p in simulator.particles]\n",
    "       line.set_data(X, Y)\n",
    "       return line,\n",
    "           # Call the animate function each 10 ms\n",
    "   anim = animation.FuncAnimation(fig, animate, init_func=init, blit=True, interval=10)\n",
    "   plt.show()"
   ]
  },
  {
   "cell_type": "code",
   "execution_count": 9,
   "metadata": {},
   "outputs": [
    {
     "data": {
      "image/png": "[encoded data removed]",
      "text/plain": [
       "<Figure size 432x288 with 1 Axes>"
      ]
     },
     "metadata": {},
     "output_type": "display_data"
    }
   ],
   "source": [
    "def test_visualize():\n",
    "   particles = [Particle(0.3, 0.5, 1),\n",
    "                Particle(0.0, -0.5, -1),\n",
    "                Particle(-0.1, -0.4, 3)]\n",
    "   simulator = ParticleSimulator(particles)\n",
    "   visualize(simulator)\n",
    "if __name__ == '__main__':\n",
    "   test_visualize()\n"
   ]
  },
  {
   "cell_type": "code",
   "execution_count": 10,
   "metadata": {},
   "outputs": [],
   "source": [
    "def test_evolve():\n",
    "   particles = [Particle( 0.3,  0.5, +1),\n",
    "                Particle( 0.0, -0.5, -1),\n",
    "                Particle(-0.1, -0.4, +3)]\n",
    "   simulator = ParticleSimulator(particles)\n",
    "   simulator.evolve(0.1)\n",
    "   p0, p1, p2 = particles\n",
    "   def fequal(a, b, eps=1e-5):\n",
    "       return abs(a - b) < eps\n",
    "   assert fequal(p0.x, 0.210269)\n",
    "   assert fequal(p0.y, 0.543863)\n",
    "   assert fequal(p1.x, -0.099334)\n",
    "   assert fequal(p1.y, -0.490034)\n",
    "   assert fequal(p2.x,  0.191358)\n",
    "   assert fequal(p2.y, -0.365227)"
   ]
  },
  {
   "cell_type": "code",
   "execution_count": 11,
   "metadata": {},
   "outputs": [
    {
     "name": "stdout",
     "output_type": "stream",
     "text": [
      "         21 function calls in 0.023 seconds\n",
      "\n",
      "   Ordered by: standard name\n",
      "\n",
      "   ncalls  tottime  percall  cumtime  percall filename:lineno(function)\n",
      "        3    0.000    0.000    0.000    0.000 <ipython-input-1-051f5cb14649>:2(__init__)\n",
      "        1    0.000    0.000    0.023    0.023 <ipython-input-10-89f561686870>:1(test_evolve)\n",
      "        6    0.000    0.000    0.000    0.000 <ipython-input-10-89f561686870>:8(fequal)\n",
      "        1    0.000    0.000    0.000    0.000 <ipython-input-2-fb1c2c0a4675>:2(__init__)\n",
      "        1    0.023    0.023    0.023    0.023 <ipython-input-2-fb1c2c0a4675>:4(evolve)\n",
      "        1    0.000    0.000    0.023    0.023 <string>:1(<module>)\n",
      "        6    0.000    0.000    0.000    0.000 {built-in method builtins.abs}\n",
      "        1    0.000    0.000    0.023    0.023 {built-in method builtins.exec}\n",
      "        1    0.000    0.000    0.000    0.000 {method 'disable' of '_lsprof.Profiler' objects}\n",
      "\n",
      "\n"
     ]
    }
   ],
   "source": [
    "import cProfile\n",
    "cProfile.run(\"test_evolve()\")"
   ]
  },
  {
   "cell_type": "code",
   "execution_count": 14,
   "metadata": {},
   "outputs": [
    {
     "name": "stdout",
     "output_type": "stream",
     "text": [
      " "
     ]
    }
   ],
   "source": [
    "%prun test_evolve()"
   ]
  },
  {
   "cell_type": "code",
   "execution_count": null,
   "metadata": {},
   "outputs": [],
   "source": []
  }
 ],
 "metadata": {
  "kernelspec": {
   "display_name": "Python 3",
   "language": "python",
   "name": "python3"
  },
  "language_info": {
   "codemirror_mode": {
    "name": "ipython",
    "version": 3
   },
   "file_extension": ".py",
   "mimetype": "text/x-python",
   "name": "python",
   "nbconvert_exporter": "python",
   "pygments_lexer": "ipython3",
   "version": "3.6.5"
  }
 },
 "nbformat": 4,
 "nbformat_minor": 2
}
