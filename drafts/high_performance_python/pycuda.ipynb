{
 "cells": [
  {
   "cell_type": "code",
   "execution_count": 1,
   "metadata": {},
   "outputs": [
    {
     "ename": "ModuleNotFoundError",
     "evalue": "No module named 'tensorflow'",
     "output_type": "error",
     "traceback": [
      "\u001b[0;31m---------------------------------------------------------------------------\u001b[0m",
      "\u001b[0;31mModuleNotFoundError\u001b[0m                       Traceback (most recent call last)",
      "\u001b[0;32m<ipython-input-1-26707f4625f7>\u001b[0m in \u001b[0;36m<module>\u001b[0;34m\u001b[0m\n\u001b[1;32m      5\u001b[0m \u001b[0;32mimport\u001b[0m \u001b[0mmath\u001b[0m\u001b[0;34m\u001b[0m\u001b[0;34m\u001b[0m\u001b[0m\n\u001b[1;32m      6\u001b[0m \u001b[0;34m\u001b[0m\u001b[0m\n\u001b[0;32m----> 7\u001b[0;31m \u001b[0;32mimport\u001b[0m \u001b[0mtensorflow\u001b[0m \u001b[0;32mas\u001b[0m \u001b[0mtf\u001b[0m\u001b[0;34m\u001b[0m\u001b[0;34m\u001b[0m\u001b[0m\n\u001b[0m\u001b[1;32m      8\u001b[0m \u001b[0;34m\u001b[0m\u001b[0m\n\u001b[1;32m      9\u001b[0m \u001b[0;32mimport\u001b[0m \u001b[0mpycuda\u001b[0m\u001b[0;34m.\u001b[0m\u001b[0mdriver\u001b[0m \u001b[0;32mas\u001b[0m \u001b[0mdrv\u001b[0m\u001b[0;34m\u001b[0m\u001b[0;34m\u001b[0m\u001b[0m\n",
      "\u001b[0;31mModuleNotFoundError\u001b[0m: No module named 'tensorflow'"
     ]
    }
   ],
   "source": [
    "%load_ext Cython\n",
    "import cython\n",
    "\n",
    "import numba as nb\n",
    "import math\n",
    "\n",
    "import tensorflow as tf\n",
    "\n",
    "import pycuda.driver as drv\n",
    "import pycuda.tools\n",
    "import pycuda.autoinit\n",
    "import numpy\n",
    "import numpy as np\n",
    "from pycuda.compiler import SourceModule\n",
    "import pycuda.gpuarray as gpuarray\n",
    "import pycuda.cumath\n",
    "from pycuda.elementwise import ElementwiseKernel\n",
    "\n",
    "blocks = 64\n",
    "block_size = 128 * 8\n",
    "nbr_values = blocks * block_size\n",
    "\n",
    "print(\"Using nbr_values ==\", nbr_values)\n",
    "\n",
    "# Number of iterations for the calculations,\n",
    "# 100 is very quick, 2000000 will take a while\n",
    "n_iter = 100000\n",
    "print(\"Calculating %d iterations\" % (n_iter))\n",
    "\n",
    "# create two timers so we can speed-test each approach\n",
    "start = drv.Event()\n",
    "end = drv.Event()"
   ]
  },
  {
   "cell_type": "code",
   "execution_count": 128,
   "metadata": {},
   "outputs": [
    {
     "name": "stdout",
     "output_type": "stream",
     "text": [
      "SourceModule time and first three results:\n",
      "0.673472s, [0.005477 0.005477 0.005477]\n"
     ]
    }
   ],
   "source": [
    "######################\n",
    "# SourceModele SECTION\n",
    "# We write the C code and the indexing and we have lots of control\n",
    "\n",
    "mod = SourceModule(\"\"\"\n",
    "__global__ void gpusin(float *dest, float *a, int n_iter)\n",
    "{\n",
    "  const int i = blockDim.x*blockIdx.x + threadIdx.x;\n",
    "  for(int n = 0; n < n_iter; n++) {\n",
    "    a[i] = sin(a[i]);\n",
    "  }\n",
    "  dest[i] = a[i];\n",
    "}\n",
    "\"\"\")\n",
    "\n",
    "gpusin = mod.get_function(\"gpusin\")\n",
    "\n",
    "# create an array of 1s\n",
    "a = numpy.ones(nbr_values).astype(numpy.float32)\n",
    "# create a destination array that will receive the result\n",
    "dest = numpy.zeros_like(a)\n",
    "\n",
    "start.record() # start timing\n",
    "gpusin(drv.Out(dest), drv.In(a), numpy.int32(n_iter), grid=(blocks,1), block=(block_size,1,1) )\n",
    "end.record() # end timing\n",
    "# calculate the run length\n",
    "end.synchronize()\n",
    "secs = start.time_till(end)*1e-3\n",
    "print(\"SourceModule time and first three results:\")\n",
    "print(\"%fs, %s\" % (secs, str(dest[:3])))\n"
   ]
  },
  {
   "cell_type": "code",
   "execution_count": 129,
   "metadata": {},
   "outputs": [
    {
     "name": "stdout",
     "output_type": "stream",
     "text": [
      "Elementwise time and first three results:\n",
      "0.890893s, [0.005477 0.005477 0.005477]\n"
     ]
    }
   ],
   "source": [
    "#####################\n",
    "# Elementwise SECTION\n",
    "# use an ElementwiseKernel with sin in a for loop all in C call from Python\n",
    "kernel = ElementwiseKernel(\n",
    "   \"float *a, int n_iter\",\n",
    "   \"for(int n = 0; n < n_iter; n++) { a[i] = sin(a[i]);}\",\n",
    "   \"gpusin\")\n",
    "\n",
    "a = numpy.ones(nbr_values).astype(numpy.float32)\n",
    "a_gpu = gpuarray.to_gpu(a)\n",
    "start.record() # start timing\n",
    "kernel(a_gpu, numpy.int(n_iter))\n",
    "end.record() # end timing\n",
    "# calculate the run length\n",
    "end.synchronize()\n",
    "secs = start.time_till(end)*1e-3\n",
    "print(\"Elementwise time and first three results:\")\n",
    "print(\"%fs, %s\" % (secs, str(a_gpu.get()[:3])))\n"
   ]
  },
  {
   "cell_type": "code",
   "execution_count": 108,
   "metadata": {},
   "outputs": [
    {
     "name": "stdout",
     "output_type": "stream",
     "text": [
      "Elementwise Python looping time and first three results:\n",
      "2.559730s, [0.005477 0.005477 0.005477]\n"
     ]
    }
   ],
   "source": [
    "####################################\n",
    "# Elementwise Python looping SECTION\n",
    "# as Elementwise but the for loop is in Python, not in C\n",
    "kernel = ElementwiseKernel(\n",
    "   \"float *a\",\n",
    "   \"a[i] = sin(a[i]);\",\n",
    "   \"gpusin\")\n",
    "\n",
    "a = numpy.ones(nbr_values).astype(numpy.float32)\n",
    "a_gpu = gpuarray.to_gpu(a)\n",
    "start.record() # start timing\n",
    "for i in range(n_iter):\n",
    "    kernel(a_gpu)\n",
    "end.record() # end timing\n",
    "# calculate the run length\n",
    "end.synchronize()\n",
    "secs = start.time_till(end)*1e-3\n",
    "print(\"Elementwise Python looping time and first three results:\")\n",
    "print(\"%fs, %s\" % (secs, str(a_gpu.get()[:3])))"
   ]
  },
  {
   "cell_type": "code",
   "execution_count": 134,
   "metadata": {},
   "outputs": [
    {
     "name": "stdout",
     "output_type": "stream",
     "text": [
      "GPUArray time and first three results:\n",
      "6.921821s, [0.005477 0.005477 0.005477]\n"
     ]
    }
   ],
   "source": [
    "##################\n",
    "# GPUArray SECTION\n",
    "# The result is copied back to main memory on each iteration, this is a bottleneck\n",
    "\n",
    "a = numpy.ones(nbr_values).astype(numpy.float32)\n",
    "a_gpu = gpuarray.to_gpu(a)\n",
    "start.record() # start timing\n",
    "for i in range(n_iter):\n",
    "    a_gpu = pycuda.cumath.sin(a_gpu)\n",
    "end.record() # end timing\n",
    "# calculate the run length\n",
    "end.synchronize()\n",
    "secs = start.time_till(end)*1e-3\n",
    "print(\"GPUArray time and first three results:\")\n",
    "print(\"%fs, %s\" % (secs, str(a_gpu.get()[:3])))\n"
   ]
  },
  {
   "cell_type": "code",
   "execution_count": 133,
   "metadata": {},
   "outputs": [
    {
     "name": "stdout",
     "output_type": "stream",
     "text": [
      "CPU time and first three results:\n",
      "2.457248s, [0.005477 0.005477 0.005477]\n"
     ]
    }
   ],
   "source": [
    "#############\n",
    "# CPU SECTION\n",
    "# use numpy the calculate the result on the CPU for reference\n",
    "\n",
    "a = numpy.ones(nbr_values).astype(numpy.float32)\n",
    "start.record() # start timing\n",
    "start.synchronize()\n",
    "\n",
    "for i in range(n_iter):\n",
    "    a = numpy.sin(a)\n",
    "\n",
    "end.record() # end timing\n",
    "# calculate the run length\n",
    "end.synchronize()\n",
    "secs = start.time_till(end)*1e-3\n",
    "print(\"CPU time and first three results:\")\n",
    "print(\"%fs, %s\" % (secs, str(a[:3])))"
   ]
  },
  {
   "cell_type": "code",
   "execution_count": 110,
   "metadata": {},
   "outputs": [],
   "source": [
    "%%cython\n",
    "#############\n",
    "# Cython SECTION\n",
    "# use numpy the calculate the result on the CPU for reference\n",
    "from libc.math cimport sin\n",
    "from libc.stdlib cimport malloc\n",
    "from cython cimport wraparound, boundscheck\n",
    "from cython.parallel cimport prange\n",
    "import numpy as np\n",
    "cimport numpy as np\n",
    "cpdef cython_sin(float[:] a, int n_iter):\n",
    "    cdef int n = a.shape[0]\n",
    "    cdef int i, t\n",
    "    with wraparound(False), boundscheck(False):\n",
    "        for t in range(n_iter):\n",
    "            for i in prange(n, nogil=True):\n",
    "                a[i] = sin(a[i])\n",
    "def cython_sin2(float[:] a, int n_iter):        \n",
    "    cdef int i\n",
    "    for i in range(n_iter):\n",
    "        a = np.sin(a)\n",
    "    return a\n",
    "\n",
    "cpdef cython_sin3(float[:] a):\n",
    "    cdef int n = a.shape[0]\n",
    "    cdef int i\n",
    "    with wraparound(False), boundscheck(False):\n",
    "        for i in prange(n, nogil=True):\n",
    "            a[i] = sin(a[i])\n",
    "            \n",
    "cpdef cython_sin4(float[:] a):\n",
    "    cdef int n = a.shape[0]\n",
    "    cdef int i\n",
    "    cdef float* b = <float*> malloc(n * sizeof(float))\n",
    "    with wraparound(False), boundscheck(False):\n",
    "        for i in prange(n, nogil=True):\n",
    "            b[i] = sin(a[i])           \n",
    "    return <float[:n]> b"
   ]
  },
  {
   "cell_type": "code",
   "execution_count": 111,
   "metadata": {},
   "outputs": [
    {
     "name": "stdout",
     "output_type": "stream",
     "text": [
      "CPU time and first three results:\n",
      "45.384426s, [0.005477 0.005477 0.005477]\n"
     ]
    }
   ],
   "source": [
    "a = numpy.ones(nbr_values).astype(numpy.float32)\n",
    "start.record() # start timing\n",
    "start.synchronize()\n",
    "cython_sin(a, n_iter)\n",
    "end.record() # end timing\n",
    "# calculate the run length\n",
    "end.synchronize()\n",
    "secs = start.time_till(end)*1e-3\n",
    "print(\"CPU time and first three results:\")\n",
    "print(\"%fs, %s\" % (secs, str(np.array(a)[:3])))"
   ]
  },
  {
   "cell_type": "code",
   "execution_count": 131,
   "metadata": {},
   "outputs": [],
   "source": [
    "#############\n",
    "# Tensorflow SECTION\n",
    "# use numpy the calculate the result on the CPU for reference\n",
    "\n",
    "atf = tf.placeholder(tf.float32, [None])\n",
    "btf = atf\n",
    "for i in range(n_iter):\n",
    "    btf = tf.sin(btf)"
   ]
  },
  {
   "cell_type": "code",
   "execution_count": 132,
   "metadata": {},
   "outputs": [
    {
     "name": "stdout",
     "output_type": "stream",
     "text": [
      "CPU time and first three results:\n",
      "13.156031s, [0.005477 0.005477 0.005477]\n"
     ]
    }
   ],
   "source": [
    "a = numpy.ones(nbr_values).astype(numpy.float32)\n",
    "start.record() # start timing\n",
    "start.synchronize()\n",
    "with tf.Session() as sess:\n",
    "    a = sess.run(btf, feed_dict={atf: a})\n",
    "end.record() # end timing\n",
    "end.synchronize()\n",
    "# calculate the run length\n",
    "secs = start.time_till(end)*1e-3\n",
    "print(\"CPU time and first three results:\")\n",
    "print(\"%fs, %s\" % (secs, str(np.array(a)[:3])))"
   ]
  },
  {
   "cell_type": "code",
   "execution_count": 99,
   "metadata": {},
   "outputs": [],
   "source": [
    "%%cython\n",
    "from libc.math cimport pow\n",
    "from cython.parallel cimport prange\n",
    "from cython cimport boundscheck, wraparound\n",
    "def mysin(float[:] a):\n",
    "    cdef int i, n\n",
    "    n = a.shape[0]\n",
    "    with wraparound(False), boundscheck(False):\n",
    "        for i in prange(n, nogil=True):\n",
    "        #for i in range(n):\n",
    "            a[i] = (a[i]-1)**2\n",
    "    "
   ]
  },
  {
   "cell_type": "code",
   "execution_count": 100,
   "metadata": {},
   "outputs": [
    {
     "name": "stdout",
     "output_type": "stream",
     "text": [
      "4.38 µs ± 15.2 ns per loop (mean ± std. dev. of 7 runs, 100000 loops each)\n"
     ]
    }
   ],
   "source": [
    "a = np.ones(nbr_values).astype('float32')\n",
    "%timeit mysin(a)"
   ]
  },
  {
   "cell_type": "code",
   "execution_count": 101,
   "metadata": {},
   "outputs": [
    {
     "name": "stdout",
     "output_type": "stream",
     "text": [
      "7.32 µs ± 18.9 ns per loop (mean ± std. dev. of 7 runs, 100000 loops each)\n"
     ]
    }
   ],
   "source": [
    "a = np.ones(nbr_values).astype('float32')\n",
    "%timeit (a-1)**2"
   ]
  },
  {
   "cell_type": "code",
   "execution_count": 121,
   "metadata": {},
   "outputs": [],
   "source": [
    "@nb.vectorize(['float32(float32, int32)'], target='cuda')\n",
    "def numba_sin_gpu(a, n_iter):\n",
    "    b = a\n",
    "    for i in range(n_iter):\n",
    "        b = math.sin(b)\n",
    "    return b"
   ]
  },
  {
   "cell_type": "code",
   "execution_count": 130,
   "metadata": {},
   "outputs": [
    {
     "name": "stdout",
     "output_type": "stream",
     "text": [
      "CPU time and first three results:\n",
      "0.865828s, [0.005477 0.005477 0.005477]\n"
     ]
    }
   ],
   "source": [
    "a = numpy.ones(nbr_values).astype(numpy.float32)\n",
    "start.record() # start timing\n",
    "start.synchronize()\n",
    "\n",
    "a = numba_sin_gpu(a, n_iter)\n",
    "\n",
    "end.record() # end timing\n",
    "end.synchronize()\n",
    "# calculate the run length\n",
    "secs = start.time_till(end)*1e-3\n",
    "print(\"CPU time and first three results:\")\n",
    "print(\"%fs, %s\" % (secs, str(np.array(a)[:3])))"
   ]
  },
  {
   "cell_type": "code",
   "execution_count": 125,
   "metadata": {},
   "outputs": [],
   "source": [
    "@nb.vectorize(['float32(float32, int32)'], target='cpu')\n",
    "def numba_sin_cpu(a, n_iter):\n",
    "    b = a\n",
    "    for i in range(n_iter):\n",
    "        b = math.sin(b)\n",
    "    return b"
   ]
  },
  {
   "cell_type": "code",
   "execution_count": 126,
   "metadata": {},
   "outputs": [
    {
     "name": "stdout",
     "output_type": "stream",
     "text": [
      "CPU time and first three results:\n",
      "55.331465s, [0.005477 0.005477 0.005477]\n"
     ]
    }
   ],
   "source": [
    "a = numpy.ones(nbr_values).astype(numpy.float32)\n",
    "start.record() # start timing\n",
    "start.synchronize()\n",
    "\n",
    "a = numba_sin_cpu(a, n_iter)\n",
    "\n",
    "end.record() # end timing\n",
    "end.synchronize()\n",
    "# calculate the run length\n",
    "secs = start.time_till(end)*1e-3\n",
    "print(\"CPU time and first three results:\")\n",
    "print(\"%fs, %s\" % (secs, str(np.array(a)[:3])))"
   ]
  },
  {
   "cell_type": "code",
   "execution_count": 136,
   "metadata": {},
   "outputs": [],
   "source": [
    "import theano as th\n",
    "import theano.tensor as T"
   ]
  },
  {
   "cell_type": "code",
   "execution_count": 137,
   "metadata": {},
   "outputs": [
    {
     "ename": "RecursionError",
     "evalue": "maximum recursion depth exceeded",
     "output_type": "error",
     "traceback": [
      "\u001b[0;31m---------------------------------------------------------------------------\u001b[0m",
      "\u001b[0;31mRecursionError\u001b[0m                            Traceback (most recent call last)",
      "\u001b[0;32m<ipython-input-137-c045e7ee1394>\u001b[0m in \u001b[0;36m<module>\u001b[0;34m()\u001b[0m\n\u001b[1;32m      3\u001b[0m \u001b[0;32mfor\u001b[0m \u001b[0mi\u001b[0m \u001b[0;32min\u001b[0m \u001b[0mrange\u001b[0m\u001b[0;34m(\u001b[0m\u001b[0mn_iter\u001b[0m\u001b[0;34m)\u001b[0m\u001b[0;34m:\u001b[0m\u001b[0;34m\u001b[0m\u001b[0m\n\u001b[1;32m      4\u001b[0m     \u001b[0mbth\u001b[0m \u001b[0;34m=\u001b[0m \u001b[0mT\u001b[0m\u001b[0;34m.\u001b[0m\u001b[0msin\u001b[0m\u001b[0;34m(\u001b[0m\u001b[0mbth\u001b[0m\u001b[0;34m)\u001b[0m\u001b[0;34m\u001b[0m\u001b[0m\n\u001b[0;32m----> 5\u001b[0;31m \u001b[0mf\u001b[0m \u001b[0;34m=\u001b[0m \u001b[0mth\u001b[0m\u001b[0;34m.\u001b[0m\u001b[0mfunction\u001b[0m\u001b[0;34m(\u001b[0m\u001b[0;34m[\u001b[0m\u001b[0math\u001b[0m\u001b[0;34m]\u001b[0m\u001b[0;34m,\u001b[0m \u001b[0mbth\u001b[0m\u001b[0;34m)\u001b[0m\u001b[0;34m\u001b[0m\u001b[0m\n\u001b[0m",
      "\u001b[0;32m~/anaconda3/envs/tensorGpu/lib/python3.6/site-packages/theano/compile/function.py\u001b[0m in \u001b[0;36mfunction\u001b[0;34m(inputs, outputs, mode, updates, givens, no_default_updates, accept_inplace, name, rebuild_strict, allow_input_downcast, profile, on_unused_input)\u001b[0m\n\u001b[1;32m    318\u001b[0m                    \u001b[0mon_unused_input\u001b[0m\u001b[0;34m=\u001b[0m\u001b[0mon_unused_input\u001b[0m\u001b[0;34m,\u001b[0m\u001b[0;34m\u001b[0m\u001b[0m\n\u001b[1;32m    319\u001b[0m                    \u001b[0mprofile\u001b[0m\u001b[0;34m=\u001b[0m\u001b[0mprofile\u001b[0m\u001b[0;34m,\u001b[0m\u001b[0;34m\u001b[0m\u001b[0m\n\u001b[0;32m--> 320\u001b[0;31m                    output_keys=output_keys)\n\u001b[0m\u001b[1;32m    321\u001b[0m     \u001b[0;31m# We need to add the flag check_aliased inputs if we have any mutable or\u001b[0m\u001b[0;34m\u001b[0m\u001b[0;34m\u001b[0m\u001b[0m\n\u001b[1;32m    322\u001b[0m     \u001b[0;31m# borrowed used defined inputs\u001b[0m\u001b[0;34m\u001b[0m\u001b[0;34m\u001b[0m\u001b[0m\n",
      "\u001b[0;32m~/anaconda3/envs/tensorGpu/lib/python3.6/site-packages/theano/compile/pfunc.py\u001b[0m in \u001b[0;36mpfunc\u001b[0;34m(params, outputs, mode, updates, givens, no_default_updates, accept_inplace, name, rebuild_strict, allow_input_downcast, profile, on_unused_input, output_keys)\u001b[0m\n\u001b[1;32m    440\u001b[0m                                          \u001b[0mrebuild_strict\u001b[0m\u001b[0;34m=\u001b[0m\u001b[0mrebuild_strict\u001b[0m\u001b[0;34m,\u001b[0m\u001b[0;34m\u001b[0m\u001b[0m\n\u001b[1;32m    441\u001b[0m                                          \u001b[0mcopy_inputs_over\u001b[0m\u001b[0;34m=\u001b[0m\u001b[0;32mTrue\u001b[0m\u001b[0;34m,\u001b[0m\u001b[0;34m\u001b[0m\u001b[0m\n\u001b[0;32m--> 442\u001b[0;31m                                          no_default_updates=no_default_updates)\n\u001b[0m\u001b[1;32m    443\u001b[0m     \u001b[0;31m# extracting the arguments\u001b[0m\u001b[0;34m\u001b[0m\u001b[0;34m\u001b[0m\u001b[0m\n\u001b[1;32m    444\u001b[0m     \u001b[0minput_variables\u001b[0m\u001b[0;34m,\u001b[0m \u001b[0mcloned_extended_outputs\u001b[0m\u001b[0;34m,\u001b[0m \u001b[0mother_stuff\u001b[0m \u001b[0;34m=\u001b[0m \u001b[0moutput_vars\u001b[0m\u001b[0;34m\u001b[0m\u001b[0m\n",
      "\u001b[0;32m~/anaconda3/envs/tensorGpu/lib/python3.6/site-packages/theano/compile/pfunc.py\u001b[0m in \u001b[0;36mrebuild_collect_shared\u001b[0;34m(outputs, inputs, replace, updates, rebuild_strict, copy_inputs_over, no_default_updates)\u001b[0m\n\u001b[1;32m    216\u001b[0m         \u001b[0;32mfor\u001b[0m \u001b[0mv\u001b[0m \u001b[0;32min\u001b[0m \u001b[0moutputs\u001b[0m\u001b[0;34m:\u001b[0m\u001b[0;34m\u001b[0m\u001b[0m\n\u001b[1;32m    217\u001b[0m             \u001b[0;32mif\u001b[0m \u001b[0misinstance\u001b[0m\u001b[0;34m(\u001b[0m\u001b[0mv\u001b[0m\u001b[0;34m,\u001b[0m \u001b[0mVariable\u001b[0m\u001b[0;34m)\u001b[0m\u001b[0;34m:\u001b[0m\u001b[0;34m\u001b[0m\u001b[0m\n\u001b[0;32m--> 218\u001b[0;31m                 \u001b[0mcloned_v\u001b[0m \u001b[0;34m=\u001b[0m \u001b[0mclone_v_get_shared_updates\u001b[0m\u001b[0;34m(\u001b[0m\u001b[0mv\u001b[0m\u001b[0;34m,\u001b[0m \u001b[0mcopy_inputs_over\u001b[0m\u001b[0;34m)\u001b[0m\u001b[0;34m\u001b[0m\u001b[0m\n\u001b[0m\u001b[1;32m    219\u001b[0m                 \u001b[0mcloned_outputs\u001b[0m\u001b[0;34m.\u001b[0m\u001b[0mappend\u001b[0m\u001b[0;34m(\u001b[0m\u001b[0mcloned_v\u001b[0m\u001b[0;34m)\u001b[0m\u001b[0;34m\u001b[0m\u001b[0m\n\u001b[1;32m    220\u001b[0m             \u001b[0;32melif\u001b[0m \u001b[0misinstance\u001b[0m\u001b[0;34m(\u001b[0m\u001b[0mv\u001b[0m\u001b[0;34m,\u001b[0m \u001b[0mOut\u001b[0m\u001b[0;34m)\u001b[0m\u001b[0;34m:\u001b[0m\u001b[0;34m\u001b[0m\u001b[0m\n",
      "\u001b[0;32m~/anaconda3/envs/tensorGpu/lib/python3.6/site-packages/theano/compile/pfunc.py\u001b[0m in \u001b[0;36mclone_v_get_shared_updates\u001b[0;34m(v, copy_inputs_over)\u001b[0m\n\u001b[1;32m     90\u001b[0m             \u001b[0;32mif\u001b[0m \u001b[0mowner\u001b[0m \u001b[0;32mnot\u001b[0m \u001b[0;32min\u001b[0m \u001b[0mclone_d\u001b[0m\u001b[0;34m:\u001b[0m\u001b[0;34m\u001b[0m\u001b[0m\n\u001b[1;32m     91\u001b[0m                 \u001b[0;32mfor\u001b[0m \u001b[0mi\u001b[0m \u001b[0;32min\u001b[0m \u001b[0mowner\u001b[0m\u001b[0;34m.\u001b[0m\u001b[0minputs\u001b[0m\u001b[0;34m:\u001b[0m\u001b[0;34m\u001b[0m\u001b[0m\n\u001b[0;32m---> 92\u001b[0;31m                     \u001b[0mclone_v_get_shared_updates\u001b[0m\u001b[0;34m(\u001b[0m\u001b[0mi\u001b[0m\u001b[0;34m,\u001b[0m \u001b[0mcopy_inputs_over\u001b[0m\u001b[0;34m)\u001b[0m\u001b[0;34m\u001b[0m\u001b[0m\n\u001b[0m\u001b[1;32m     93\u001b[0m \u001b[0;34m\u001b[0m\u001b[0m\n\u001b[1;32m     94\u001b[0m                 clone_d[owner] = owner.clone_with_new_inputs(\n",
      "... last 1 frames repeated, from the frame below ...\n",
      "\u001b[0;32m~/anaconda3/envs/tensorGpu/lib/python3.6/site-packages/theano/compile/pfunc.py\u001b[0m in \u001b[0;36mclone_v_get_shared_updates\u001b[0;34m(v, copy_inputs_over)\u001b[0m\n\u001b[1;32m     90\u001b[0m             \u001b[0;32mif\u001b[0m \u001b[0mowner\u001b[0m \u001b[0;32mnot\u001b[0m \u001b[0;32min\u001b[0m \u001b[0mclone_d\u001b[0m\u001b[0;34m:\u001b[0m\u001b[0;34m\u001b[0m\u001b[0m\n\u001b[1;32m     91\u001b[0m                 \u001b[0;32mfor\u001b[0m \u001b[0mi\u001b[0m \u001b[0;32min\u001b[0m \u001b[0mowner\u001b[0m\u001b[0;34m.\u001b[0m\u001b[0minputs\u001b[0m\u001b[0;34m:\u001b[0m\u001b[0;34m\u001b[0m\u001b[0m\n\u001b[0;32m---> 92\u001b[0;31m                     \u001b[0mclone_v_get_shared_updates\u001b[0m\u001b[0;34m(\u001b[0m\u001b[0mi\u001b[0m\u001b[0;34m,\u001b[0m \u001b[0mcopy_inputs_over\u001b[0m\u001b[0;34m)\u001b[0m\u001b[0;34m\u001b[0m\u001b[0m\n\u001b[0m\u001b[1;32m     93\u001b[0m \u001b[0;34m\u001b[0m\u001b[0m\n\u001b[1;32m     94\u001b[0m                 clone_d[owner] = owner.clone_with_new_inputs(\n",
      "\u001b[0;31mRecursionError\u001b[0m: maximum recursion depth exceeded"
     ]
    }
   ],
   "source": [
    "ath = T.vector()\n",
    "bth = ath\n",
    "for i in range(n_iter):\n",
    "    bth = T.sin(bth)\n",
    "f = th.function([ath], bth)"
   ]
  },
  {
   "cell_type": "code",
   "execution_count": 126,
   "metadata": {},
   "outputs": [
    {
     "name": "stdout",
     "output_type": "stream",
     "text": [
      "CPU time and first three results:\n",
      "55.331465s, [0.005477 0.005477 0.005477]\n"
     ]
    }
   ],
   "source": [
    "a = numpy.ones(nbr_values).astype(numpy.float32)\n",
    "start.record() # start timing\n",
    "start.synchronize()\n",
    "\n",
    "a = numba_sin_cpu(a, n_iter)\n",
    "\n",
    "end.record() # end timing\n",
    "end.synchronize()\n",
    "# calculate the run length\n",
    "secs = start.time_till(end)*1e-3\n",
    "print(\"CPU time and first three results:\")\n",
    "print(\"%fs, %s\" % (secs, str(np.array(a)[:3])))"
   ]
  },
  {
   "cell_type": "code",
   "execution_count": null,
   "metadata": {},
   "outputs": [],
   "source": []
  }
 ],
 "metadata": {
  "kernelspec": {
   "display_name": "Python 3",
   "language": "python",
   "name": "python3"
  },
  "language_info": {
   "codemirror_mode": {
    "name": "ipython",
    "version": 3
   },
   "file_extension": ".py",
   "mimetype": "text/x-python",
   "name": "python",
   "nbconvert_exporter": "python",
   "pygments_lexer": "ipython3",
   "version": "3.7.2"
  }
 },
 "nbformat": 4,
 "nbformat_minor": 2
}
