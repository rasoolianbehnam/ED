{
 "cells": [
  {
   "cell_type": "code",
   "execution_count": 252,
   "metadata": {},
   "outputs": [],
   "source": [
    "from IPython.display import display, Math, Latex, Markdown\n",
    "import os\n",
    "import subprocess"
   ]
  },
  {
   "cell_type": "code",
   "execution_count": 224,
   "metadata": {},
   "outputs": [],
   "source": [
    "ps = {}"
   ]
  },
  {
   "cell_type": "code",
   "execution_count": 225,
   "metadata": {},
   "outputs": [
    {
     "data": {
      "text/markdown": [
       "$m = 2k_1 + 1, n = 2k_2 + 1 \\Rightarrow m + n = 2k_1 + 2_k2 + 2 = 2(k_1+k_2+1) = 2k$"
      ],
      "text/plain": [
       "<IPython.core.display.Markdown object>"
      ]
     },
     "metadata": {},
     "output_type": "display_data"
    }
   ],
   "source": [
    "text = ps[1.08] = r'$m = 2k_1 + 1, n = 2k_2 + 1 \\Rightarrow m + n = 2k_1 + 2_k2 + 2 = 2(k_1+k_2+1) = 2k$'\n",
    "display(Markdown(text))"
   ]
  },
  {
   "cell_type": "code",
   "execution_count": 226,
   "metadata": {},
   "outputs": [
    {
     "data": {
      "text/markdown": [
       "$m = 2k_1 + 1, n = 2k_2 \\Rightarrow m  \\times n = (2k_1 + 1)\\times (2_k2) = 2 \\times k2(2k_1+1) = 2k$"
      ],
      "text/plain": [
       "<IPython.core.display.Markdown object>"
      ]
     },
     "metadata": {},
     "output_type": "display_data"
    }
   ],
   "source": [
    "text = ps[1.11] = r\"\"\"$m = 2k_1 + 1, n = 2k_2 \\Rightarrow m  \\times n = (2k_1 + 1)\\times (2_k2) = 2 \\times k2(2k_1+1) = 2k$\"\"\"\n",
    "display(Markdown(text))"
   ]
  },
  {
   "cell_type": "code",
   "execution_count": 237,
   "metadata": {},
   "outputs": [
    {
     "data": {
      "text/markdown": [
       "$x \\in X  \\rightarrow x \\in X \\vee x \\in Y \\rightarrow x \\in X \\cup Y \\rightarrow X \\subseteq X \\cup Y$"
      ],
      "text/plain": [
       "<IPython.core.display.Markdown object>"
      ]
     },
     "metadata": {},
     "output_type": "display_data"
    }
   ],
   "source": [
    "text = ps[1.20] = r\"\"\"$x \\in X  \\rightarrow x \\in X \\vee x \\in Y \\rightarrow x \\in X \\cup Y \\rightarrow X \\subseteq X \\cup Y$\"\"\"\n",
    "display(Markdown(text))"
   ]
  },
  {
   "cell_type": "code",
   "execution_count": 228,
   "metadata": {},
   "outputs": [
    {
     "data": {
      "text/markdown": [
       "\n",
       "$A \\in \\wp(X) \\cup \\wp(Y) -> A \\in \\wp(X) \\vee A \\in \\wp(Y) \n",
       "\\rightarrow A \\subseteq X \\vee A \\subseteq Y \\rightarrow A \\subseteq X \\cup Y \\rightarrow A \\in \\wp(X \\cup Y)$\n"
      ],
      "text/plain": [
       "<IPython.core.display.Markdown object>"
      ]
     },
     "metadata": {},
     "output_type": "display_data"
    }
   ],
   "source": [
    "text = ps[1.26]= r\"\"\"\n",
    "$A \\in \\wp(X) \\cup \\wp(Y) -> A \\in \\wp(X) \\vee A \\in \\wp(Y) \n",
    "\\rightarrow A \\subseteq X \\vee A \\subseteq Y \\rightarrow A \\subseteq X \\cup Y \\rightarrow A \\in \\wp(X \\cup Y)$\n",
    "\"\"\"\n",
    "display(Markdown(text))"
   ]
  },
  {
   "cell_type": "code",
   "execution_count": 229,
   "metadata": {},
   "outputs": [
    {
     "data": {
      "text/markdown": [
       "\n",
       "(1): $a \\in X \\cup Y \\rightarrow a \\in X \\vee a \\in Y \\rightarrow a \\in Y \\vee a \\in X \\rightarrow a \\in Y \\cup X \\rightarrow X \\cup Y \\subseteq Y \\cup X$\n",
       "\n",
       "(2): $a \\in Y \\cup X \\rightarrow a \\in Y \\vee a \\in X \\rightarrow a \\in X \\vee a \\in Y \\rightarrow a \\in X \\cup Y \\rightarrow Y \\cup X \\subseteq X \\cup Y$\n",
       "\n",
       "(1) + (2) $\\rightarrow X \\cup Y = Y \\cup X$\n",
       "\n",
       "The same goes for $\\cap$\n"
      ],
      "text/plain": [
       "<IPython.core.display.Markdown object>"
      ]
     },
     "metadata": {},
     "output_type": "display_data"
    }
   ],
   "source": [
    "text = ps[1.45]= r\"\"\"\n",
    "(1): $a \\in X \\cup Y -> a \\in X \\vee a \\in Y -> a \\in Y \\vee a \\in X -> a \\in Y \\cup X -> X \\cup Y \\subseteq Y \\cup X$\n",
    "\n",
    "(2): $a \\in Y \\cup X -> a \\in Y \\vee a \\in X -> a \\in X \\vee a \\in Y -> a \\in X \\cup Y -> Y \\cup X \\subseteq X \\cup Y$\n",
    "\n",
    "(1) + (2) $-> X \\cup Y = Y \\cup X$\n",
    "\n",
    "The same goes for $\\cap$\n",
    "\"\"\".replace('->', '\\\\rightarrow')\n",
    "display(Markdown(text))"
   ]
  },
  {
   "cell_type": "code",
   "execution_count": 239,
   "metadata": {},
   "outputs": [
    {
     "data": {
      "text/markdown": [
       "\n",
       "Converse: for all $x \\in \\mathbb{R}$ if $x$ is irrational, then $x^2$ is irrational.\n",
       "\n",
       "Proof by contradiction: $x = sqrt(2)$ is irrational\n",
       "but $x$^$2 = 2$ is rational.\n"
      ],
      "text/plain": [
       "<IPython.core.display.Markdown object>"
      ]
     },
     "metadata": {},
     "output_type": "display_data"
    }
   ],
   "source": [
    "text = ps[2.02]= r\"\"\"\n",
    "Converse: for all $x \\in \\mathbb{R}$ if $x$ is irrational, then $x^2$ is irrational.\n",
    "\n",
    "Proof by contradiction: $x = sqrt(2)$ is irrational\n",
    "but $x$^$2 = 2$ is rational.\n",
    "\"\"\"\n",
    "display(Markdown(text))"
   ]
  },
  {
   "cell_type": "code",
   "execution_count": 243,
   "metadata": {},
   "outputs": [
    {
     "data": {
      "text/markdown": [
       "\n",
       "Since it says ''There exists'', it is sufficient to find a single example that satisfies the \n",
       "argument.\n",
       "\n",
       "Example: $a = 2, b = 1/2 \\rightarrow a$^$b = a$^$(1/2) =  sqrt(2)$\n"
      ],
      "text/plain": [
       "<IPython.core.display.Markdown object>"
      ]
     },
     "metadata": {},
     "output_type": "display_data"
    }
   ],
   "source": [
    "text = ps[2.14]= r\"\"\"\n",
    "Since it says ''There exists'', it is sufficient to find a single example that satisfies the \n",
    "argument.\n",
    "\n",
    "Example: $a = 2, b = 1/2 \\rightarrow a$^$b = a$^$(1/2) =  sqrt(2)$\n",
    "\"\"\"\n",
    "display(Markdown(text))"
   ]
  },
  {
   "cell_type": "code",
   "execution_count": 232,
   "metadata": {},
   "outputs": [
    {
     "data": {
      "text/markdown": [
       "\n",
       "Proof by contradiction:\n",
       "\n",
       "Assume $x > y$ then we have:\n",
       "\n",
       "$\\exists \\epsilon_1 > 0: x >= y + \\epsilon_1$ which is in direct contradiction with $x \\leq y + \\epsilon$\n",
       "\n",
       "As an example for $\\epsilon$, we can use $(x-y)/{2}$.\n"
      ],
      "text/plain": [
       "<IPython.core.display.Markdown object>"
      ]
     },
     "metadata": {},
     "output_type": "display_data"
    }
   ],
   "source": [
    "text = ps[2.15]= r\"\"\"\n",
    "Proof by contradiction:\n",
    "\n",
    "Assume $x > y$ then we have:\n",
    "\n",
    "$\\exists \\epsilon_1 > 0: x >= y + \\epsilon_1$ which is in direct contradiction with $x \\leq y + \\epsilon$\n",
    "\n",
    "As an example for $\\epsilon$, we can use $(x-y)/{2}$.\n",
    "\"\"\"\n",
    "display(Markdown(text))"
   ]
  },
  {
   "cell_type": "code",
   "execution_count": 233,
   "metadata": {},
   "outputs": [
    {
     "data": {
      "text/markdown": [
       "\n",
       "We have 2 cases:\n",
       "\n",
       "Case 1: $n$ is even which should be easy to prove.\n",
       "\n",
       "Case 2: $n$ is odd: $n = 2k+1 \\rightarrow n^3 + n = (8k^3 + 12k^2 + 6k+1) + (2k+1) = \n",
       "8k^3 + 12k^2+8k + 2 = 2(4k^3+6k^2+4k+1) = 2m$\n"
      ],
      "text/plain": [
       "<IPython.core.display.Markdown object>"
      ]
     },
     "metadata": {},
     "output_type": "display_data"
    }
   ],
   "source": [
    "text = ps[2.31]= r\"\"\"\n",
    "We have 2 cases:\n",
    "\n",
    "Case 1: $n$ is even which should be easy to prove.\n",
    "\n",
    "Case 2: $n$ is odd: $n = 2k+1 \\rightarrow n^3 + n = (8k^3 + 12k^2 + 6k+1) + (2k+1) = \n",
    "8k^3 + 12k^2+8k + 2 = 2(4k^3+6k^2+4k+1) = 2m$\n",
    "\"\"\"\n",
    "display(Markdown(text))"
   ]
  },
  {
   "cell_type": "code",
   "execution_count": 234,
   "metadata": {},
   "outputs": [
    {
     "data": {
      "text/markdown": [
       "\n",
       "$\\forall n \\in Z: n$ is odd $\\iff n+2$ is odd.\n",
       "\n",
       "\n",
       "First we prove \n",
       "$\\forall n \\in Z: n$ is odd $\\rightarrow n+2$ is odd:\n",
       "\n",
       "$n = 2k+1 \\rightarrow n+2 = 2k(even)+3(odd) \\rightarrow n+2$ is odd\n",
       "\n",
       "\n",
       "Second we prove \n",
       "$\\forall n \\in Z: n+2$ is odd $\\rightarrow n$ is odd:\n",
       "\n",
       "$n+2 = 2k+1 \\rightarrow n = 2k+1-2 = 2k-1 \\rightarrow n = 2k(odd) + (-1)(odd) \\rightarrow $ n is odd\n"
      ],
      "text/plain": [
       "<IPython.core.display.Markdown object>"
      ]
     },
     "metadata": {},
     "output_type": "display_data"
    }
   ],
   "source": [
    "text = ps[2.42]= r\"\"\"\n",
    "$\\forall n \\in Z: n$ is odd $\\iff n+2$ is odd.\n",
    "\n",
    "\n",
    "First we prove \n",
    "$\\forall n \\in Z: n$ is odd $\\rightarrow n+2$ is odd:\n",
    "\n",
    "$n = 2k+1 \\rightarrow n+2 = 2k(even)+3(odd) \\rightarrow n+2$ is odd\n",
    "\n",
    "\n",
    "Second we prove \n",
    "$\\forall n \\in Z: n+2$ is odd $\\rightarrow n$ is odd:\n",
    "\n",
    "$n+2 = 2k+1 \\rightarrow n = 2k+1-2 = 2k-1 \\rightarrow n = 2k(odd) + (-1)(odd) -> $ n is odd\n",
    "\"\"\".replace('->', \"\\\\rightarrow\")\n",
    "display(Markdown(text))"
   ]
  },
  {
   "cell_type": "code",
   "execution_count": 323,
   "metadata": {},
   "outputs": [
    {
     "data": {
      "text/markdown": [
       "\n",
       "$\\forall n \\in Z: n$ is odd $\\iff n+2$ is odd.\n",
       "\n",
       "\n",
       "First we prove \n",
       "$\\forall n \\in Z: n$ is odd $\\rightarrow n+2$ is odd:\n",
       "\n",
       "$n = 2k+1 \\rightarrow n+2 = 2k(even)+3(odd) \\rightarrow n+2$ is odd\n",
       "\n",
       "\n",
       "Second we prove \n",
       "$\\forall n \\in Z: n+2$ is odd $\\rightarrow n$ is odd:\n",
       "\n"
      ],
      "text/plain": [
       "<IPython.core.display.Markdown object>"
      ]
     },
     "metadata": {},
     "output_type": "display_data"
    }
   ],
   "source": [
    "text = ps[2.42]= r\"\"\"\n",
    "$\\forall n \\in Z: n$ is odd $\\iff n+2$ is odd.\n",
    "\n",
    "\n",
    "First we prove \n",
    "$\\forall n \\in Z: n$ is odd $\\rightarrow n+2$ is odd:\n",
    "\n",
    "$n = 2k+1 \\rightarrow n+2 = 2k(even)+3(odd) \\rightarrow n+2$ is odd\n",
    "\n",
    "\n",
    "Second we prove \n",
    "$\\forall n \\in Z: n+2$ is odd $\\rightarrow n$ is odd:\n",
    "\n",
    "\"\"\".replace('->', \"\\\\rightarrow\")\n",
    "display(Markdown(text))"
   ]
  },
  {
   "cell_type": "code",
   "execution_count": 391,
   "metadata": {},
   "outputs": [
    {
     "data": {
      "text/markdown": [
       "\n",
       "$n = 1: 1 \\times 2 = \\frac{1 \\times 2 \\times 3}{3} : True$\n",
       "\n",
       "Assume true for n prove for n+1:\n",
       "\n",
       "$1.2 + 2.3 + ... + n.(n+1) + (n+1).(n+2) = \\frac{n.(n+1).(n+2)}{3} + (n+1).(n+2)$\n",
       "\n",
       "$= \\frac{n}{3} \\times ((n+1).(n+2)) + 1 \\times ((n+1).(n+2)) = (n/3 + 1) \\times ((n+1).(n+2)) $\n",
       "\n",
       "$= (n+3)/3 \\times (n+1)(n+2) = \\frac{(n+1)(n+2)(n+3)}{3}$\n",
       "\n"
      ],
      "text/plain": [
       "<IPython.core.display.Markdown object>"
      ]
     },
     "metadata": {},
     "output_type": "display_data"
    }
   ],
   "source": [
    "text = ps[4.02]= r\"\"\"\n",
    "$n = 1: 1 * 2 = \\frac{1 * 2 * 3}{3} : True$\n",
    "\n",
    "Assume true for n prove for n+1:\n",
    "\n",
    "$1.2 + 2.3 + ... + n.(n+1) + (n+1).(n+2) = \\frac{n.(n+1).(n+2)}{3} + (n+1).(n+2)$\n",
    "\n",
    "$= \\frac{n}{3} * ((n+1).(n+2)) + 1 * ((n+1).(n+2)) = (n/3 + 1) * ((n+1).(n+2)) $\n",
    "\n",
    "$= (n+3)/3 * (n+1)(n+2) = \\frac{(n+1)(n+2)(n+3)}{3}$\n",
    "\n",
    "\"\"\".replace('->', \"\\\\rightarrow\").replace('*', \"\\\\times\")\n",
    "display(Markdown(text))"
   ]
  },
  {
   "cell_type": "code",
   "execution_count": 379,
   "metadata": {},
   "outputs": [
    {
     "data": {
      "text/markdown": [
       "\n",
       "$n = 3: 2\\times 3+1 <= 2^3 \\rightarrow  7 <= 8$ : True\n",
       "\n",
       "assume true for n, prove for n+1:\n",
       "\n",
       "$2\\times (n+1)+1 = 2\\times n + 3 = 2\\times n+1 + 2 \\le 2^n + 2$\n",
       "\n",
       "$\\forall n >= 1$ we have: $2^n+2 < 2^n \\times  2$\n",
       "\n",
       "$\\rightarrow  2\\times n+3 \\le 2^n+2 < 2^n\\times 2 \\rightarrow  2\\times n+3 <= 2^(n+1)$\n"
      ],
      "text/plain": [
       "<IPython.core.display.Markdown object>"
      ]
     },
     "metadata": {},
     "output_type": "display_data"
    }
   ],
   "source": [
    "text = ps[4.14]= r\"\"\"\n",
    "$n = 3: 2*3+1 <= 2^3 -> 7 <= 8$ : True\n",
    "\n",
    "assume true for n, prove for n+1:\n",
    "\n",
    "$2*(n+1)+1 = 2*n + 3 = 2*n+1 + 2 \\le 2^n + 2$\n",
    "\n",
    "$\\forall n >= 1$ we have: $2^n+2 < 2^n * 2$\n",
    "\n",
    "$-> 2*n+3 \\le 2^n+2 < 2^n*2 -> 2*n+3 <= 2^(n+1)$\n",
    "\"\"\".replace('->', \"\\\\rightarrow \").replace('*', \"\\\\times \")\n",
    "display(Markdown(text))"
   ]
  },
  {
   "cell_type": "code",
   "execution_count": 380,
   "metadata": {},
   "outputs": [
    {
     "data": {
      "text/markdown": [
       "\n",
       "$n=1: 11^1 - 6 = 5$ is divisible by 5\n",
       "\n",
       "assume true for n, prove for n+1:\n",
       "\n",
       "$11^{n+1} - 6 = 11 \\times  (11^n) - 66 + 60 = 11 \\times  (11^n-6) + 60$\n",
       "\n",
       "$11^n-6$ is divisible by 5 so 11 \\times  (11^n-6) is also divisible by 5: $5k_1$\n",
       "\n",
       "60 is also divisible by 5: $5k_2$\n",
       "\n",
       "$\\rightarrow  11^{n+1} - 6 = 5k_1 + 5k_2 = 5(k_1+k_2)$ which is divisible by 5.\n"
      ],
      "text/plain": [
       "<IPython.core.display.Markdown object>"
      ]
     },
     "metadata": {},
     "output_type": "display_data"
    }
   ],
   "source": [
    "text = ps[4.22]= r\"\"\"\n",
    "$n=1: 11^1 - 6 = 5$ is divisible by 5\n",
    "\n",
    "assume true for n, prove for n+1:\n",
    "\n",
    "$11^{n+1} - 6 = 11 * (11^n) - 66 + 60 = 11 * (11^n-6) + 60$ so\n",
    "\n",
    "$11^n-6$ is divisible by 5 so 11 * (11^n-6) is also divisible by 5: $5k_1$ so\n",
    "\n",
    "60 is also divisible by 5: $5k_2$ so\n",
    "\n",
    "$-> 11^{n+1} - 6 = 5k_1 + 5k_2 = 5(k_1+k_2)$ which is divisible by 5.\n",
    "\"\"\".replace('->', \"\\\\rightarrow \").replace('*', \"\\\\times \")\n",
    "display(Markdown(text))"
   ]
  },
  {
   "cell_type": "code",
   "execution_count": 384,
   "metadata": {},
   "outputs": [
    {
     "data": {
      "text/markdown": [
       "\n"
      ],
      "text/plain": [
       "<IPython.core.display.Markdown object>"
      ]
     },
     "metadata": {},
     "output_type": "display_data"
    }
   ],
   "source": [
    "text = ps[4.30]= r\"\"\"\n",
    "\"\"\".replace('->', \"\\\\rightarrow \").replace('*', \"\\\\times \")\n",
    "display(Markdown(text))"
   ]
  },
  {
   "cell_type": "code",
   "execution_count": 381,
   "metadata": {},
   "outputs": [
    {
     "data": {
      "text/markdown": [
       "\n",
       "The base case of induction is not true. In fact, you\n",
       "can't find any base case at all.\n"
      ],
      "text/plain": [
       "<IPython.core.display.Markdown object>"
      ]
     },
     "metadata": {},
     "output_type": "display_data"
    }
   ],
   "source": [
    "text = ps[4.48]= r\"\"\"\n",
    "The base case of induction is not true. In fact, you\n",
    "can't find any base case at all.\n",
    "\"\"\".replace('->', \"\\\\rightarrow \").replace('*', \"\\\\times \")\n",
    "display(Markdown(text))"
   ]
  },
  {
   "cell_type": "code",
   "execution_count": 329,
   "metadata": {},
   "outputs": [],
   "source": [
    "def grade(st, slist):\n",
    "    final_grade = 50\n",
    "    for t in slist:\n",
    "        condition = isinstance(t, (tuple, list))\n",
    "        i = t[0] if condition else t\n",
    "        p = 1\n",
    "        message = \"\"\n",
    "        if condition:\n",
    "            if len(t) > 1:\n",
    "                p = t[1]\n",
    "            if len(t) > 2:\n",
    "                message = t[2]\n",
    "        display(Markdown(\"**%3.2f**: %s  **[-1]**\"%(i, ps[i])))\n",
    "        final_grade -= p * 1\n",
    "    with open(\"grades/%s.md\"%st, 'w') as f:\n",
    "        f.write(\"## %s\\n\"%student)\n",
    "        for t in myList:\n",
    "            condition = isinstance(t, (tuple, list))\n",
    "            i = t[0] if condition else t\n",
    "            p = 1\n",
    "            message = \"\"\n",
    "            if condition:\n",
    "                if len(t) > 1:\n",
    "                    p = t[1]\n",
    "                if len(t) > 2:\n",
    "                    message = t[2]           \n",
    "            f.write(\"**%3.2f**: %s (%s)**[-1]**\\n\\n\"%(i, ps[i], message))\n",
    "        f.write(\"### final grade: %3.2f\"%final_grade)\n",
    "    #subprocess.getoutput(\"pandoc -o %s.pdf %s.md\"%(st, st))\n",
    "    #print(subprocess.getoutput('pandoc -o \"grades/%s.pdf\" \"grades/%s.md\" && rm \"grades/%s.md\"'%(st, st, st)))\n",
    "    print(subprocess.getoutput('pandoc -o \"grades/%s.pdf\" \"grades/%s.md\"'%(st, st)))\n",
    "    print(\"final grade: %3.2f\"%final_grade)\n"
   ]
  },
  {
   "cell_type": "code",
   "execution_count": 392,
   "metadata": {},
   "outputs": [
    {
     "data": {
      "text/markdown": [
       "**1.20**: $x \\in X  \\rightarrow x \\in X \\vee x \\in Y \\rightarrow x \\in X \\cup Y \\rightarrow X \\subseteq X \\cup Y$  **[-1]**"
      ],
      "text/plain": [
       "<IPython.core.display.Markdown object>"
      ]
     },
     "metadata": {},
     "output_type": "display_data"
    },
    {
     "data": {
      "text/markdown": [
       "**1.26**: \n",
       "$A \\in \\wp(X) \\cup \\wp(Y) -> A \\in \\wp(X) \\vee A \\in \\wp(Y) \n",
       "\\rightarrow A \\subseteq X \\vee A \\subseteq Y \\rightarrow A \\subseteq X \\cup Y \\rightarrow A \\in \\wp(X \\cup Y)$\n",
       "  **[-1]**"
      ],
      "text/plain": [
       "<IPython.core.display.Markdown object>"
      ]
     },
     "metadata": {},
     "output_type": "display_data"
    },
    {
     "data": {
      "text/markdown": [
       "**1.45**: \n",
       "(1): $a \\in X \\cup Y \\rightarrow a \\in X \\vee a \\in Y \\rightarrow a \\in Y \\vee a \\in X \\rightarrow a \\in Y \\cup X \\rightarrow X \\cup Y \\subseteq Y \\cup X$\n",
       "\n",
       "(2): $a \\in Y \\cup X \\rightarrow a \\in Y \\vee a \\in X \\rightarrow a \\in X \\vee a \\in Y \\rightarrow a \\in X \\cup Y \\rightarrow Y \\cup X \\subseteq X \\cup Y$\n",
       "\n",
       "(1) + (2) $\\rightarrow X \\cup Y = Y \\cup X$\n",
       "\n",
       "The same goes for $\\cap$\n",
       "  **[-1]**"
      ],
      "text/plain": [
       "<IPython.core.display.Markdown object>"
      ]
     },
     "metadata": {},
     "output_type": "display_data"
    },
    {
     "data": {
      "text/markdown": [
       "**2.15**: \n",
       "Proof by contradiction:\n",
       "\n",
       "Assume $x > y$ then we have:\n",
       "\n",
       "$\\exists \\epsilon_1 > 0: x >= y + \\epsilon_1$ which is in direct contradiction with $x \\leq y + \\epsilon$\n",
       "\n",
       "As an example for $\\epsilon$, we can use $(x-y)/{2}$.\n",
       "  **[-1]**"
      ],
      "text/plain": [
       "<IPython.core.display.Markdown object>"
      ]
     },
     "metadata": {},
     "output_type": "display_data"
    },
    {
     "data": {
      "text/markdown": [
       "**2.31**: \n",
       "We have 2 cases:\n",
       "\n",
       "Case 1: $n$ is even which should be easy to prove.\n",
       "\n",
       "Case 2: $n$ is odd: $n = 2k+1 \\rightarrow n^3 + n = (8k^3 + 12k^2 + 6k+1) + (2k+1) = \n",
       "8k^3 + 12k^2+8k + 2 = 2(4k^3+6k^2+4k+1) = 2m$\n",
       "  **[-1]**"
      ],
      "text/plain": [
       "<IPython.core.display.Markdown object>"
      ]
     },
     "metadata": {},
     "output_type": "display_data"
    },
    {
     "data": {
      "text/markdown": [
       "**4.02**: \n",
       "$n = 1: 1 \\times 2 = \\frac{1 \\times 2 \\times 3}{3} : True$\n",
       "\n",
       "Assume true for n prove for n+1:\n",
       "\n",
       "$1.2 + 2.3 + ... + n.(n+1) + (n+1).(n+2) = \\frac{n.(n+1).(n+2)}{3} + (n+1).(n+2)$\n",
       "\n",
       "$= \\frac{n}{3} \\times ((n+1).(n+2)) + 1 \\times ((n+1).(n+2)) = (n/3 + 1) \\times ((n+1).(n+2)) $\n",
       "\n",
       "$= (n+3)/3 \\times (n+1)(n+2) = \\frac{(n+1)(n+2)(n+3)}{3}$\n",
       "\n",
       "  **[-1]**"
      ],
      "text/plain": [
       "<IPython.core.display.Markdown object>"
      ]
     },
     "metadata": {},
     "output_type": "display_data"
    },
    {
     "name": "stdout",
     "output_type": "stream",
     "text": [
      "Error producing PDF.\n",
      "! Missing $ inserted.\n",
      "<inserted text> \n",
      "                $\n",
      "l.118 \\$= \\frac{n}{3}\n",
      "\n",
      "final grade: 43.50\n"
     ]
    }
   ],
   "source": [
    "student = \"William Andrasko\"\n",
    "myList = (\n",
    "    (1.20, .5),\n",
    "    1.26,\n",
    "    1.45,\n",
    "    2.15,\n",
    "    2.31,\n",
    "    (4.02, 2),\n",
    "    #(4.14, 2),\n",
    "    #(4.22, 2),\n",
    "    #(4.48, 2),\n",
    ")\n",
    "grade(student, myList)"
   ]
  },
  {
   "cell_type": "code",
   "execution_count": 311,
   "metadata": {},
   "outputs": [
    {
     "data": {
      "text/markdown": [
       "**1.20**: $x \\in X  \\rightarrow x \\in X \\vee x \\in Y \\rightarrow x \\in X \\cup Y \\rightarrow X \\subseteq X \\cup Y$  **[-1]**"
      ],
      "text/plain": [
       "<IPython.core.display.Markdown object>"
      ]
     },
     "metadata": {},
     "output_type": "display_data"
    },
    {
     "data": {
      "text/markdown": [
       "**1.26**: \n",
       "$A \\in \\wp(X) \\cup \\wp(Y) -> A \\in \\wp(X) \\vee A \\in \\wp(Y) \n",
       "\\rightarrow A \\subseteq X \\vee A \\subseteq Y \\rightarrow A \\subseteq X \\cup Y \\rightarrow A \\in \\wp(X \\cup Y)$\n",
       "  **[-1]**"
      ],
      "text/plain": [
       "<IPython.core.display.Markdown object>"
      ]
     },
     "metadata": {},
     "output_type": "display_data"
    },
    {
     "data": {
      "text/markdown": [
       "**1.45**: \n",
       "(1): $a \\in X \\cup Y \\rightarrow a \\in X \\vee a \\in Y \\rightarrow a \\in Y \\vee a \\in X \\rightarrow a \\in Y \\cup X \\rightarrow X \\cup Y \\subseteq Y \\cup X$\n",
       "\n",
       "(2): $a \\in Y \\cup X \\rightarrow a \\in Y \\vee a \\in X \\rightarrow a \\in X \\vee a \\in Y \\rightarrow a \\in X \\cup Y \\rightarrow Y \\cup X \\subseteq X \\cup Y$\n",
       "\n",
       "(1) + (2) $\\rightarrow X \\cup Y = Y \\cup X$\n",
       "\n",
       "The same goes for $\\cap$\n",
       "  **[-1]**"
      ],
      "text/plain": [
       "<IPython.core.display.Markdown object>"
      ]
     },
     "metadata": {},
     "output_type": "display_data"
    },
    {
     "name": "stdout",
     "output_type": "stream",
     "text": [
      "final grade: 47.50\n"
     ]
    }
   ],
   "source": [
    "student = \"Ariana Giovanelli\"\n",
    "myList = (\n",
    "    1.2, \n",
    "    [1.26], \n",
    "    [1.45, .5],\n",
    "    \n",
    ")\n",
    "grade(student, myList)"
   ]
  },
  {
   "cell_type": "code",
   "execution_count": 307,
   "metadata": {},
   "outputs": [
    {
     "data": {
      "text/markdown": [
       "**1.26**: \n",
       "$A \\in \\wp(X) \\cup \\wp(Y) -> A \\in \\wp(X) \\vee A \\in \\wp(Y) \n",
       "\\rightarrow A \\subseteq X \\vee A \\subseteq Y \\rightarrow A \\subseteq X \\cup Y \\rightarrow A \\in \\wp(X \\cup Y)$\n",
       "  **[-1]**"
      ],
      "text/plain": [
       "<IPython.core.display.Markdown object>"
      ]
     },
     "metadata": {},
     "output_type": "display_data"
    },
    {
     "name": "stdout",
     "output_type": "stream",
     "text": [
      "final grade: 49.50\n"
     ]
    }
   ],
   "source": [
    "student = \"John Harris\"\n",
    "myList = (\n",
    "    (1.26, .5),\n",
    "    \n",
    ")\n",
    "grade(student, myList)"
   ]
  },
  {
   "cell_type": "code",
   "execution_count": 313,
   "metadata": {},
   "outputs": [
    {
     "data": {
      "text/markdown": [
       "**1.20**: $x \\in X  \\rightarrow x \\in X \\vee x \\in Y \\rightarrow x \\in X \\cup Y \\rightarrow X \\subseteq X \\cup Y$  **[-1]**"
      ],
      "text/plain": [
       "<IPython.core.display.Markdown object>"
      ]
     },
     "metadata": {},
     "output_type": "display_data"
    },
    {
     "data": {
      "text/markdown": [
       "**1.26**: \n",
       "$A \\in \\wp(X) \\cup \\wp(Y) -> A \\in \\wp(X) \\vee A \\in \\wp(Y) \n",
       "\\rightarrow A \\subseteq X \\vee A \\subseteq Y \\rightarrow A \\subseteq X \\cup Y \\rightarrow A \\in \\wp(X \\cup Y)$\n",
       "  **[-1]**"
      ],
      "text/plain": [
       "<IPython.core.display.Markdown object>"
      ]
     },
     "metadata": {},
     "output_type": "display_data"
    },
    {
     "data": {
      "text/markdown": [
       "**2.02**: \n",
       "Converse: for all $x \\in \\mathbb{R}$ if $x$ is irrational, then $x^2$ is irrational.\n",
       "\n",
       "Proof by contradiction: $x = sqrt(2)$ is irrational\n",
       "but $x$^$2 = 2$ is rational.\n",
       "  **[-1]**"
      ],
      "text/plain": [
       "<IPython.core.display.Markdown object>"
      ]
     },
     "metadata": {},
     "output_type": "display_data"
    },
    {
     "name": "stdout",
     "output_type": "stream",
     "text": [
      "final grade: 47.50\n"
     ]
    }
   ],
   "source": [
    "student = \"Matt Henderson\"\n",
    "myList = (\n",
    "    1.20,\n",
    "    (1.26, .5),\n",
    "    (2.02),\n",
    "    \n",
    ")\n",
    "grade(student, myList)"
   ]
  },
  {
   "cell_type": "code",
   "execution_count": 330,
   "metadata": {},
   "outputs": [
    {
     "data": {
      "text/markdown": [
       "**1.20**: $x \\in X  \\rightarrow x \\in X \\vee x \\in Y \\rightarrow x \\in X \\cup Y \\rightarrow X \\subseteq X \\cup Y$  **[-1]**"
      ],
      "text/plain": [
       "<IPython.core.display.Markdown object>"
      ]
     },
     "metadata": {},
     "output_type": "display_data"
    },
    {
     "data": {
      "text/markdown": [
       "**2.02**: \n",
       "Converse: for all $x \\in \\mathbb{R}$ if $x$ is irrational, then $x^2$ is irrational.\n",
       "\n",
       "Proof by contradiction: $x = sqrt(2)$ is irrational\n",
       "but $x$^$2 = 2$ is rational.\n",
       "  **[-1]**"
      ],
      "text/plain": [
       "<IPython.core.display.Markdown object>"
      ]
     },
     "metadata": {},
     "output_type": "display_data"
    },
    {
     "data": {
      "text/markdown": [
       "**2.15**: \n",
       "Proof by contradiction:\n",
       "\n",
       "Assume $x > y$ then we have:\n",
       "\n",
       "$\\exists \\epsilon_1 > 0: x >= y + \\epsilon_1$ which is in direct contradiction with $x \\leq y + \\epsilon$\n",
       "\n",
       "As an example for $\\epsilon$, we can use $(x-y)/{2}$.\n",
       "  **[-1]**"
      ],
      "text/plain": [
       "<IPython.core.display.Markdown object>"
      ]
     },
     "metadata": {},
     "output_type": "display_data"
    },
    {
     "data": {
      "text/markdown": [
       "**2.42**: \n",
       "$\\forall n \\in Z: n$ is odd $\\iff n+2$ is odd.\n",
       "\n",
       "\n",
       "First we prove \n",
       "$\\forall n \\in Z: n$ is odd $\\rightarrow n+2$ is odd:\n",
       "\n",
       "$n = 2k+1 \\rightarrow n+2 = 2k(even)+3(odd) \\rightarrow n+2$ is odd\n",
       "\n",
       "\n",
       "Second we prove \n",
       "$\\forall n \\in Z: n+2$ is odd $\\rightarrow n$ is odd:\n",
       "\n",
       "  **[-1]**"
      ],
      "text/plain": [
       "<IPython.core.display.Markdown object>"
      ]
     },
     "metadata": {},
     "output_type": "display_data"
    },
    {
     "name": "stdout",
     "output_type": "stream",
     "text": [
      "\n",
      "final grade: 46.00\n"
     ]
    }
   ],
   "source": [
    "student = \"Nicholas Henning\"\n",
    "myList = (\n",
    "    1.20,\n",
    "    (2.02),\n",
    "    (2.15),\n",
    "    (2.42)\n",
    ")\n",
    "grade(student, myList)"
   ]
  },
  {
   "cell_type": "code",
   "execution_count": 331,
   "metadata": {},
   "outputs": [
    {
     "data": {
      "text/markdown": [
       "**1.20**: $x \\in X  \\rightarrow x \\in X \\vee x \\in Y \\rightarrow x \\in X \\cup Y \\rightarrow X \\subseteq X \\cup Y$  **[-1]**"
      ],
      "text/plain": [
       "<IPython.core.display.Markdown object>"
      ]
     },
     "metadata": {},
     "output_type": "display_data"
    },
    {
     "data": {
      "text/markdown": [
       "**2.14**: \n",
       "Since it says ''There exists'', it is sufficient to find a single example that satisfies the \n",
       "argument.\n",
       "\n",
       "Example: $a = 2, b = 1/2 \\rightarrow a$^$b = a$^$(1/2) =  sqrt(2)$\n",
       "  **[-1]**"
      ],
      "text/plain": [
       "<IPython.core.display.Markdown object>"
      ]
     },
     "metadata": {},
     "output_type": "display_data"
    },
    {
     "name": "stdout",
     "output_type": "stream",
     "text": [
      "\n",
      "final grade: 48.75\n"
     ]
    }
   ],
   "source": [
    "student = \"Jonathan Hill\"\n",
    "myList = (\n",
    "    (1.20, .25),\n",
    "    (2.14),\n",
    "    \n",
    ")\n",
    "grade(student, myList)"
   ]
  },
  {
   "cell_type": "code",
   "execution_count": 332,
   "metadata": {},
   "outputs": [
    {
     "data": {
      "text/markdown": [
       "**1.20**: $x \\in X  \\rightarrow x \\in X \\vee x \\in Y \\rightarrow x \\in X \\cup Y \\rightarrow X \\subseteq X \\cup Y$  **[-1]**"
      ],
      "text/plain": [
       "<IPython.core.display.Markdown object>"
      ]
     },
     "metadata": {},
     "output_type": "display_data"
    },
    {
     "data": {
      "text/markdown": [
       "**1.26**: \n",
       "$A \\in \\wp(X) \\cup \\wp(Y) -> A \\in \\wp(X) \\vee A \\in \\wp(Y) \n",
       "\\rightarrow A \\subseteq X \\vee A \\subseteq Y \\rightarrow A \\subseteq X \\cup Y \\rightarrow A \\in \\wp(X \\cup Y)$\n",
       "  **[-1]**"
      ],
      "text/plain": [
       "<IPython.core.display.Markdown object>"
      ]
     },
     "metadata": {},
     "output_type": "display_data"
    },
    {
     "data": {
      "text/markdown": [
       "**2.02**: \n",
       "Converse: for all $x \\in \\mathbb{R}$ if $x$ is irrational, then $x^2$ is irrational.\n",
       "\n",
       "Proof by contradiction: $x = sqrt(2)$ is irrational\n",
       "but $x$^$2 = 2$ is rational.\n",
       "  **[-1]**"
      ],
      "text/plain": [
       "<IPython.core.display.Markdown object>"
      ]
     },
     "metadata": {},
     "output_type": "display_data"
    },
    {
     "data": {
      "text/markdown": [
       "**2.15**: \n",
       "Proof by contradiction:\n",
       "\n",
       "Assume $x > y$ then we have:\n",
       "\n",
       "$\\exists \\epsilon_1 > 0: x >= y + \\epsilon_1$ which is in direct contradiction with $x \\leq y + \\epsilon$\n",
       "\n",
       "As an example for $\\epsilon$, we can use $(x-y)/{2}$.\n",
       "  **[-1]**"
      ],
      "text/plain": [
       "<IPython.core.display.Markdown object>"
      ]
     },
     "metadata": {},
     "output_type": "display_data"
    },
    {
     "name": "stdout",
     "output_type": "stream",
     "text": [
      "\n",
      "final grade: 46.00\n"
     ]
    }
   ],
   "source": [
    "student = \"Taylor Hitt\"\n",
    "myList = (\n",
    "    1.20,\n",
    "    1.26,\n",
    "    (2.02),\n",
    "    2.15\n",
    ")\n",
    "grade(student, myList)"
   ]
  },
  {
   "cell_type": "code",
   "execution_count": 333,
   "metadata": {},
   "outputs": [
    {
     "data": {
      "text/markdown": [
       "**1.20**: $x \\in X  \\rightarrow x \\in X \\vee x \\in Y \\rightarrow x \\in X \\cup Y \\rightarrow X \\subseteq X \\cup Y$  **[-1]**"
      ],
      "text/plain": [
       "<IPython.core.display.Markdown object>"
      ]
     },
     "metadata": {},
     "output_type": "display_data"
    },
    {
     "data": {
      "text/markdown": [
       "**1.26**: \n",
       "$A \\in \\wp(X) \\cup \\wp(Y) -> A \\in \\wp(X) \\vee A \\in \\wp(Y) \n",
       "\\rightarrow A \\subseteq X \\vee A \\subseteq Y \\rightarrow A \\subseteq X \\cup Y \\rightarrow A \\in \\wp(X \\cup Y)$\n",
       "  **[-1]**"
      ],
      "text/plain": [
       "<IPython.core.display.Markdown object>"
      ]
     },
     "metadata": {},
     "output_type": "display_data"
    },
    {
     "name": "stdout",
     "output_type": "stream",
     "text": [
      "\n",
      "final grade: 48.75\n"
     ]
    }
   ],
   "source": [
    "student = \"Mark Jager\"\n",
    "myList = (\n",
    "    1.20,\n",
    "    (1.26, .25),\n",
    "    \n",
    ")\n",
    "grade(student, myList)"
   ]
  },
  {
   "cell_type": "code",
   "execution_count": 335,
   "metadata": {},
   "outputs": [
    {
     "data": {
      "text/markdown": [
       "**1.20**: $x \\in X  \\rightarrow x \\in X \\vee x \\in Y \\rightarrow x \\in X \\cup Y \\rightarrow X \\subseteq X \\cup Y$  **[-1]**"
      ],
      "text/plain": [
       "<IPython.core.display.Markdown object>"
      ]
     },
     "metadata": {},
     "output_type": "display_data"
    },
    {
     "data": {
      "text/markdown": [
       "**1.26**: \n",
       "$A \\in \\wp(X) \\cup \\wp(Y) -> A \\in \\wp(X) \\vee A \\in \\wp(Y) \n",
       "\\rightarrow A \\subseteq X \\vee A \\subseteq Y \\rightarrow A \\subseteq X \\cup Y \\rightarrow A \\in \\wp(X \\cup Y)$\n",
       "  **[-1]**"
      ],
      "text/plain": [
       "<IPython.core.display.Markdown object>"
      ]
     },
     "metadata": {},
     "output_type": "display_data"
    },
    {
     "name": "stdout",
     "output_type": "stream",
     "text": [
      "\n",
      "final grade: 48.00\n"
     ]
    }
   ],
   "source": [
    "student = \"Dylan Jasper\"\n",
    "myList = (\n",
    "    1.20,\n",
    "    (1.26, 1),\n",
    "    \n",
    ")\n",
    "grade(student, myList)"
   ]
  },
  {
   "cell_type": "code",
   "execution_count": 336,
   "metadata": {},
   "outputs": [
    {
     "data": {
      "text/markdown": [
       "**1.20**: $x \\in X  \\rightarrow x \\in X \\vee x \\in Y \\rightarrow x \\in X \\cup Y \\rightarrow X \\subseteq X \\cup Y$  **[-1]**"
      ],
      "text/plain": [
       "<IPython.core.display.Markdown object>"
      ]
     },
     "metadata": {},
     "output_type": "display_data"
    },
    {
     "data": {
      "text/markdown": [
       "**1.26**: \n",
       "$A \\in \\wp(X) \\cup \\wp(Y) -> A \\in \\wp(X) \\vee A \\in \\wp(Y) \n",
       "\\rightarrow A \\subseteq X \\vee A \\subseteq Y \\rightarrow A \\subseteq X \\cup Y \\rightarrow A \\in \\wp(X \\cup Y)$\n",
       "  **[-1]**"
      ],
      "text/plain": [
       "<IPython.core.display.Markdown object>"
      ]
     },
     "metadata": {},
     "output_type": "display_data"
    },
    {
     "data": {
      "text/markdown": [
       "**1.45**: \n",
       "(1): $a \\in X \\cup Y \\rightarrow a \\in X \\vee a \\in Y \\rightarrow a \\in Y \\vee a \\in X \\rightarrow a \\in Y \\cup X \\rightarrow X \\cup Y \\subseteq Y \\cup X$\n",
       "\n",
       "(2): $a \\in Y \\cup X \\rightarrow a \\in Y \\vee a \\in X \\rightarrow a \\in X \\vee a \\in Y \\rightarrow a \\in X \\cup Y \\rightarrow Y \\cup X \\subseteq X \\cup Y$\n",
       "\n",
       "(1) + (2) $\\rightarrow X \\cup Y = Y \\cup X$\n",
       "\n",
       "The same goes for $\\cap$\n",
       "  **[-1]**"
      ],
      "text/plain": [
       "<IPython.core.display.Markdown object>"
      ]
     },
     "metadata": {},
     "output_type": "display_data"
    },
    {
     "data": {
      "text/markdown": [
       "**2.02**: \n",
       "Converse: for all $x \\in \\mathbb{R}$ if $x$ is irrational, then $x^2$ is irrational.\n",
       "\n",
       "Proof by contradiction: $x = sqrt(2)$ is irrational\n",
       "but $x$^$2 = 2$ is rational.\n",
       "  **[-1]**"
      ],
      "text/plain": [
       "<IPython.core.display.Markdown object>"
      ]
     },
     "metadata": {},
     "output_type": "display_data"
    },
    {
     "data": {
      "text/markdown": [
       "**2.14**: \n",
       "Since it says ''There exists'', it is sufficient to find a single example that satisfies the \n",
       "argument.\n",
       "\n",
       "Example: $a = 2, b = 1/2 \\rightarrow a$^$b = a$^$(1/2) =  sqrt(2)$\n",
       "  **[-1]**"
      ],
      "text/plain": [
       "<IPython.core.display.Markdown object>"
      ]
     },
     "metadata": {},
     "output_type": "display_data"
    },
    {
     "data": {
      "text/markdown": [
       "**2.15**: \n",
       "Proof by contradiction:\n",
       "\n",
       "Assume $x > y$ then we have:\n",
       "\n",
       "$\\exists \\epsilon_1 > 0: x >= y + \\epsilon_1$ which is in direct contradiction with $x \\leq y + \\epsilon$\n",
       "\n",
       "As an example for $\\epsilon$, we can use $(x-y)/{2}$.\n",
       "  **[-1]**"
      ],
      "text/plain": [
       "<IPython.core.display.Markdown object>"
      ]
     },
     "metadata": {},
     "output_type": "display_data"
    },
    {
     "name": "stdout",
     "output_type": "stream",
     "text": [
      "\n",
      "final grade: 44.25\n"
     ]
    }
   ],
   "source": [
    "student = \"Timothy Justice\"\n",
    "myList = (\n",
    "    1.20,\n",
    "    1.26,\n",
    "    (1.45, .75),\n",
    "    (2.02, .5),\n",
    "    (2.14, .5),\n",
    "    (2.15, 2),\n",
    "    \n",
    ")\n",
    "grade(student, myList)"
   ]
  },
  {
   "cell_type": "code",
   "execution_count": 337,
   "metadata": {},
   "outputs": [
    {
     "data": {
      "text/markdown": [
       "**1.20**: $x \\in X  \\rightarrow x \\in X \\vee x \\in Y \\rightarrow x \\in X \\cup Y \\rightarrow X \\subseteq X \\cup Y$  **[-1]**"
      ],
      "text/plain": [
       "<IPython.core.display.Markdown object>"
      ]
     },
     "metadata": {},
     "output_type": "display_data"
    },
    {
     "data": {
      "text/markdown": [
       "**1.26**: \n",
       "$A \\in \\wp(X) \\cup \\wp(Y) -> A \\in \\wp(X) \\vee A \\in \\wp(Y) \n",
       "\\rightarrow A \\subseteq X \\vee A \\subseteq Y \\rightarrow A \\subseteq X \\cup Y \\rightarrow A \\in \\wp(X \\cup Y)$\n",
       "  **[-1]**"
      ],
      "text/plain": [
       "<IPython.core.display.Markdown object>"
      ]
     },
     "metadata": {},
     "output_type": "display_data"
    },
    {
     "data": {
      "text/markdown": [
       "**1.45**: \n",
       "(1): $a \\in X \\cup Y \\rightarrow a \\in X \\vee a \\in Y \\rightarrow a \\in Y \\vee a \\in X \\rightarrow a \\in Y \\cup X \\rightarrow X \\cup Y \\subseteq Y \\cup X$\n",
       "\n",
       "(2): $a \\in Y \\cup X \\rightarrow a \\in Y \\vee a \\in X \\rightarrow a \\in X \\vee a \\in Y \\rightarrow a \\in X \\cup Y \\rightarrow Y \\cup X \\subseteq X \\cup Y$\n",
       "\n",
       "(1) + (2) $\\rightarrow X \\cup Y = Y \\cup X$\n",
       "\n",
       "The same goes for $\\cap$\n",
       "  **[-1]**"
      ],
      "text/plain": [
       "<IPython.core.display.Markdown object>"
      ]
     },
     "metadata": {},
     "output_type": "display_data"
    },
    {
     "data": {
      "text/markdown": [
       "**2.02**: \n",
       "Converse: for all $x \\in \\mathbb{R}$ if $x$ is irrational, then $x^2$ is irrational.\n",
       "\n",
       "Proof by contradiction: $x = sqrt(2)$ is irrational\n",
       "but $x$^$2 = 2$ is rational.\n",
       "  **[-1]**"
      ],
      "text/plain": [
       "<IPython.core.display.Markdown object>"
      ]
     },
     "metadata": {},
     "output_type": "display_data"
    },
    {
     "name": "stdout",
     "output_type": "stream",
     "text": [
      "\n",
      "final grade: 46.75\n"
     ]
    }
   ],
   "source": [
    "student = \"Jonathan Koh\"\n",
    "myList = (\n",
    "    1.20,\n",
    "    1.26,\n",
    "    1.45,\n",
    "    (2.02, .25),\n",
    "    \n",
    ")\n",
    "grade(student, myList)"
   ]
  },
  {
   "cell_type": "code",
   "execution_count": 338,
   "metadata": {},
   "outputs": [
    {
     "data": {
      "text/markdown": [
       "**1.20**: $x \\in X  \\rightarrow x \\in X \\vee x \\in Y \\rightarrow x \\in X \\cup Y \\rightarrow X \\subseteq X \\cup Y$  **[-1]**"
      ],
      "text/plain": [
       "<IPython.core.display.Markdown object>"
      ]
     },
     "metadata": {},
     "output_type": "display_data"
    },
    {
     "data": {
      "text/markdown": [
       "**1.26**: \n",
       "$A \\in \\wp(X) \\cup \\wp(Y) -> A \\in \\wp(X) \\vee A \\in \\wp(Y) \n",
       "\\rightarrow A \\subseteq X \\vee A \\subseteq Y \\rightarrow A \\subseteq X \\cup Y \\rightarrow A \\in \\wp(X \\cup Y)$\n",
       "  **[-1]**"
      ],
      "text/plain": [
       "<IPython.core.display.Markdown object>"
      ]
     },
     "metadata": {},
     "output_type": "display_data"
    },
    {
     "data": {
      "text/markdown": [
       "**1.45**: \n",
       "(1): $a \\in X \\cup Y \\rightarrow a \\in X \\vee a \\in Y \\rightarrow a \\in Y \\vee a \\in X \\rightarrow a \\in Y \\cup X \\rightarrow X \\cup Y \\subseteq Y \\cup X$\n",
       "\n",
       "(2): $a \\in Y \\cup X \\rightarrow a \\in Y \\vee a \\in X \\rightarrow a \\in X \\vee a \\in Y \\rightarrow a \\in X \\cup Y \\rightarrow Y \\cup X \\subseteq X \\cup Y$\n",
       "\n",
       "(1) + (2) $\\rightarrow X \\cup Y = Y \\cup X$\n",
       "\n",
       "The same goes for $\\cap$\n",
       "  **[-1]**"
      ],
      "text/plain": [
       "<IPython.core.display.Markdown object>"
      ]
     },
     "metadata": {},
     "output_type": "display_data"
    },
    {
     "data": {
      "text/markdown": [
       "**2.15**: \n",
       "Proof by contradiction:\n",
       "\n",
       "Assume $x > y$ then we have:\n",
       "\n",
       "$\\exists \\epsilon_1 > 0: x >= y + \\epsilon_1$ which is in direct contradiction with $x \\leq y + \\epsilon$\n",
       "\n",
       "As an example for $\\epsilon$, we can use $(x-y)/{2}$.\n",
       "  **[-1]**"
      ],
      "text/plain": [
       "<IPython.core.display.Markdown object>"
      ]
     },
     "metadata": {},
     "output_type": "display_data"
    },
    {
     "data": {
      "text/markdown": [
       "**2.42**: \n",
       "$\\forall n \\in Z: n$ is odd $\\iff n+2$ is odd.\n",
       "\n",
       "\n",
       "First we prove \n",
       "$\\forall n \\in Z: n$ is odd $\\rightarrow n+2$ is odd:\n",
       "\n",
       "$n = 2k+1 \\rightarrow n+2 = 2k(even)+3(odd) \\rightarrow n+2$ is odd\n",
       "\n",
       "\n",
       "Second we prove \n",
       "$\\forall n \\in Z: n+2$ is odd $\\rightarrow n$ is odd:\n",
       "\n",
       "  **[-1]**"
      ],
      "text/plain": [
       "<IPython.core.display.Markdown object>"
      ]
     },
     "metadata": {},
     "output_type": "display_data"
    },
    {
     "name": "stdout",
     "output_type": "stream",
     "text": [
      "\n",
      "final grade: 44.00\n"
     ]
    }
   ],
   "source": [
    "student = \"Leatherman Blythe\"\n",
    "myList = (\n",
    "    1.20,\n",
    "    1.26,\n",
    "    (1.45, 2),\n",
    "    (2.15, 1, \"this is not a contradiction, it's a counter-example.\"),\n",
    "    (2.42, 1)\n",
    ")\n",
    "grade(student, myList)"
   ]
  },
  {
   "cell_type": "code",
   "execution_count": 339,
   "metadata": {},
   "outputs": [
    {
     "data": {
      "text/markdown": [
       "**1.20**: $x \\in X  \\rightarrow x \\in X \\vee x \\in Y \\rightarrow x \\in X \\cup Y \\rightarrow X \\subseteq X \\cup Y$  **[-1]**"
      ],
      "text/plain": [
       "<IPython.core.display.Markdown object>"
      ]
     },
     "metadata": {},
     "output_type": "display_data"
    },
    {
     "data": {
      "text/markdown": [
       "**1.26**: \n",
       "$A \\in \\wp(X) \\cup \\wp(Y) -> A \\in \\wp(X) \\vee A \\in \\wp(Y) \n",
       "\\rightarrow A \\subseteq X \\vee A \\subseteq Y \\rightarrow A \\subseteq X \\cup Y \\rightarrow A \\in \\wp(X \\cup Y)$\n",
       "  **[-1]**"
      ],
      "text/plain": [
       "<IPython.core.display.Markdown object>"
      ]
     },
     "metadata": {},
     "output_type": "display_data"
    },
    {
     "name": "stdout",
     "output_type": "stream",
     "text": [
      "\n",
      "final grade: 48.00\n"
     ]
    }
   ],
   "source": [
    "student = \"Devin Long\"\n",
    "myList = (\n",
    "    1.20,\n",
    "    1.26,\n",
    "    \n",
    ")\n",
    "grade(student, myList)"
   ]
  },
  {
   "cell_type": "code",
   "execution_count": 341,
   "metadata": {},
   "outputs": [
    {
     "data": {
      "text/markdown": [
       "**1.20**: $x \\in X  \\rightarrow x \\in X \\vee x \\in Y \\rightarrow x \\in X \\cup Y \\rightarrow X \\subseteq X \\cup Y$  **[-1]**"
      ],
      "text/plain": [
       "<IPython.core.display.Markdown object>"
      ]
     },
     "metadata": {},
     "output_type": "display_data"
    },
    {
     "data": {
      "text/markdown": [
       "**1.26**: \n",
       "$A \\in \\wp(X) \\cup \\wp(Y) -> A \\in \\wp(X) \\vee A \\in \\wp(Y) \n",
       "\\rightarrow A \\subseteq X \\vee A \\subseteq Y \\rightarrow A \\subseteq X \\cup Y \\rightarrow A \\in \\wp(X \\cup Y)$\n",
       "  **[-1]**"
      ],
      "text/plain": [
       "<IPython.core.display.Markdown object>"
      ]
     },
     "metadata": {},
     "output_type": "display_data"
    },
    {
     "data": {
      "text/markdown": [
       "**1.45**: \n",
       "(1): $a \\in X \\cup Y \\rightarrow a \\in X \\vee a \\in Y \\rightarrow a \\in Y \\vee a \\in X \\rightarrow a \\in Y \\cup X \\rightarrow X \\cup Y \\subseteq Y \\cup X$\n",
       "\n",
       "(2): $a \\in Y \\cup X \\rightarrow a \\in Y \\vee a \\in X \\rightarrow a \\in X \\vee a \\in Y \\rightarrow a \\in X \\cup Y \\rightarrow Y \\cup X \\subseteq X \\cup Y$\n",
       "\n",
       "(1) + (2) $\\rightarrow X \\cup Y = Y \\cup X$\n",
       "\n",
       "The same goes for $\\cap$\n",
       "  **[-1]**"
      ],
      "text/plain": [
       "<IPython.core.display.Markdown object>"
      ]
     },
     "metadata": {},
     "output_type": "display_data"
    },
    {
     "data": {
      "text/markdown": [
       "**2.02**: \n",
       "Converse: for all $x \\in \\mathbb{R}$ if $x$ is irrational, then $x^2$ is irrational.\n",
       "\n",
       "Proof by contradiction: $x = sqrt(2)$ is irrational\n",
       "but $x$^$2 = 2$ is rational.\n",
       "  **[-1]**"
      ],
      "text/plain": [
       "<IPython.core.display.Markdown object>"
      ]
     },
     "metadata": {},
     "output_type": "display_data"
    },
    {
     "data": {
      "text/markdown": [
       "**2.14**: \n",
       "Since it says ''There exists'', it is sufficient to find a single example that satisfies the \n",
       "argument.\n",
       "\n",
       "Example: $a = 2, b = 1/2 \\rightarrow a$^$b = a$^$(1/2) =  sqrt(2)$\n",
       "  **[-1]**"
      ],
      "text/plain": [
       "<IPython.core.display.Markdown object>"
      ]
     },
     "metadata": {},
     "output_type": "display_data"
    },
    {
     "data": {
      "text/markdown": [
       "**2.15**: \n",
       "Proof by contradiction:\n",
       "\n",
       "Assume $x > y$ then we have:\n",
       "\n",
       "$\\exists \\epsilon_1 > 0: x >= y + \\epsilon_1$ which is in direct contradiction with $x \\leq y + \\epsilon$\n",
       "\n",
       "As an example for $\\epsilon$, we can use $(x-y)/{2}$.\n",
       "  **[-1]**"
      ],
      "text/plain": [
       "<IPython.core.display.Markdown object>"
      ]
     },
     "metadata": {},
     "output_type": "display_data"
    },
    {
     "data": {
      "text/markdown": [
       "**2.31**: \n",
       "We have 2 cases:\n",
       "\n",
       "Case 1: $n$ is even which should be easy to prove.\n",
       "\n",
       "Case 2: $n$ is odd: $n = 2k+1 \\rightarrow n^3 + n = (8k^3 + 12k^2 + 6k+1) + (2k+1) = \n",
       "8k^3 + 12k^2+8k + 2 = 2(4k^3+6k^2+4k+1) = 2m$\n",
       "  **[-1]**"
      ],
      "text/plain": [
       "<IPython.core.display.Markdown object>"
      ]
     },
     "metadata": {},
     "output_type": "display_data"
    },
    {
     "data": {
      "text/markdown": [
       "**2.42**: \n",
       "$\\forall n \\in Z: n$ is odd $\\iff n+2$ is odd.\n",
       "\n",
       "\n",
       "First we prove \n",
       "$\\forall n \\in Z: n$ is odd $\\rightarrow n+2$ is odd:\n",
       "\n",
       "$n = 2k+1 \\rightarrow n+2 = 2k(even)+3(odd) \\rightarrow n+2$ is odd\n",
       "\n",
       "\n",
       "Second we prove \n",
       "$\\forall n \\in Z: n+2$ is odd $\\rightarrow n$ is odd:\n",
       "\n",
       "  **[-1]**"
      ],
      "text/plain": [
       "<IPython.core.display.Markdown object>"
      ]
     },
     "metadata": {},
     "output_type": "display_data"
    },
    {
     "name": "stdout",
     "output_type": "stream",
     "text": [
      "\n",
      "final grade: 44.00\n"
     ]
    }
   ],
   "source": [
    "student = \"William Martinez\"\n",
    "myList = (\n",
    "   (1.20, .5),\n",
    "    1.26,\n",
    "    1.45,\n",
    "    (2.02, .5, \"No particular counter-example provided.\"),\n",
    "    (2.14, .5, \"No particular counter-example provided.\"),\n",
    "    (2.15),\n",
    "    (2.31, .5),\n",
    "    (2.42, 1),\n",
    "    \n",
    ")\n",
    "grade(student, myList)"
   ]
  },
  {
   "cell_type": "code",
   "execution_count": 342,
   "metadata": {},
   "outputs": [
    {
     "data": {
      "text/markdown": [
       "**1.20**: $x \\in X  \\rightarrow x \\in X \\vee x \\in Y \\rightarrow x \\in X \\cup Y \\rightarrow X \\subseteq X \\cup Y$  **[-1]**"
      ],
      "text/plain": [
       "<IPython.core.display.Markdown object>"
      ]
     },
     "metadata": {},
     "output_type": "display_data"
    },
    {
     "data": {
      "text/markdown": [
       "**1.26**: \n",
       "$A \\in \\wp(X) \\cup \\wp(Y) -> A \\in \\wp(X) \\vee A \\in \\wp(Y) \n",
       "\\rightarrow A \\subseteq X \\vee A \\subseteq Y \\rightarrow A \\subseteq X \\cup Y \\rightarrow A \\in \\wp(X \\cup Y)$\n",
       "  **[-1]**"
      ],
      "text/plain": [
       "<IPython.core.display.Markdown object>"
      ]
     },
     "metadata": {},
     "output_type": "display_data"
    },
    {
     "data": {
      "text/markdown": [
       "**1.45**: \n",
       "(1): $a \\in X \\cup Y \\rightarrow a \\in X \\vee a \\in Y \\rightarrow a \\in Y \\vee a \\in X \\rightarrow a \\in Y \\cup X \\rightarrow X \\cup Y \\subseteq Y \\cup X$\n",
       "\n",
       "(2): $a \\in Y \\cup X \\rightarrow a \\in Y \\vee a \\in X \\rightarrow a \\in X \\vee a \\in Y \\rightarrow a \\in X \\cup Y \\rightarrow Y \\cup X \\subseteq X \\cup Y$\n",
       "\n",
       "(1) + (2) $\\rightarrow X \\cup Y = Y \\cup X$\n",
       "\n",
       "The same goes for $\\cap$\n",
       "  **[-1]**"
      ],
      "text/plain": [
       "<IPython.core.display.Markdown object>"
      ]
     },
     "metadata": {},
     "output_type": "display_data"
    },
    {
     "data": {
      "text/markdown": [
       "**2.15**: \n",
       "Proof by contradiction:\n",
       "\n",
       "Assume $x > y$ then we have:\n",
       "\n",
       "$\\exists \\epsilon_1 > 0: x >= y + \\epsilon_1$ which is in direct contradiction with $x \\leq y + \\epsilon$\n",
       "\n",
       "As an example for $\\epsilon$, we can use $(x-y)/{2}$.\n",
       "  **[-1]**"
      ],
      "text/plain": [
       "<IPython.core.display.Markdown object>"
      ]
     },
     "metadata": {},
     "output_type": "display_data"
    },
    {
     "data": {
      "text/markdown": [
       "**2.31**: \n",
       "We have 2 cases:\n",
       "\n",
       "Case 1: $n$ is even which should be easy to prove.\n",
       "\n",
       "Case 2: $n$ is odd: $n = 2k+1 \\rightarrow n^3 + n = (8k^3 + 12k^2 + 6k+1) + (2k+1) = \n",
       "8k^3 + 12k^2+8k + 2 = 2(4k^3+6k^2+4k+1) = 2m$\n",
       "  **[-1]**"
      ],
      "text/plain": [
       "<IPython.core.display.Markdown object>"
      ]
     },
     "metadata": {},
     "output_type": "display_data"
    },
    {
     "data": {
      "text/markdown": [
       "**2.42**: \n",
       "$\\forall n \\in Z: n$ is odd $\\iff n+2$ is odd.\n",
       "\n",
       "\n",
       "First we prove \n",
       "$\\forall n \\in Z: n$ is odd $\\rightarrow n+2$ is odd:\n",
       "\n",
       "$n = 2k+1 \\rightarrow n+2 = 2k(even)+3(odd) \\rightarrow n+2$ is odd\n",
       "\n",
       "\n",
       "Second we prove \n",
       "$\\forall n \\in Z: n+2$ is odd $\\rightarrow n$ is odd:\n",
       "\n",
       "  **[-1]**"
      ],
      "text/plain": [
       "<IPython.core.display.Markdown object>"
      ]
     },
     "metadata": {},
     "output_type": "display_data"
    },
    {
     "name": "stdout",
     "output_type": "stream",
     "text": [
      "\n",
      "final grade: 45.25\n"
     ]
    }
   ],
   "source": [
    "student = \"Corwin McAvoy\"\n",
    "myList = (\n",
    "    1.20,\n",
    "    (1.26, .5),\n",
    "    (1.45, .5),\n",
    "    (2.15),\n",
    "    (2.31, .75),\n",
    "    (2.42, 1)\n",
    ")\n",
    "grade(student, myList)"
   ]
  },
  {
   "cell_type": "code",
   "execution_count": 343,
   "metadata": {},
   "outputs": [
    {
     "data": {
      "text/markdown": [
       "**1.20**: $x \\in X  \\rightarrow x \\in X \\vee x \\in Y \\rightarrow x \\in X \\cup Y \\rightarrow X \\subseteq X \\cup Y$  **[-1]**"
      ],
      "text/plain": [
       "<IPython.core.display.Markdown object>"
      ]
     },
     "metadata": {},
     "output_type": "display_data"
    },
    {
     "data": {
      "text/markdown": [
       "**1.26**: \n",
       "$A \\in \\wp(X) \\cup \\wp(Y) -> A \\in \\wp(X) \\vee A \\in \\wp(Y) \n",
       "\\rightarrow A \\subseteq X \\vee A \\subseteq Y \\rightarrow A \\subseteq X \\cup Y \\rightarrow A \\in \\wp(X \\cup Y)$\n",
       "  **[-1]**"
      ],
      "text/plain": [
       "<IPython.core.display.Markdown object>"
      ]
     },
     "metadata": {},
     "output_type": "display_data"
    },
    {
     "name": "stdout",
     "output_type": "stream",
     "text": [
      "\n",
      "final grade: 48.75\n"
     ]
    }
   ],
   "source": [
    "student = \"Marie-Elise McNeeley\"\n",
    "myList = (\n",
    "    (1.20, .5),\n",
    "    (1.26, .75),\n",
    "    \n",
    ")\n",
    "grade(student, myList)"
   ]
  },
  {
   "cell_type": "code",
   "execution_count": 344,
   "metadata": {},
   "outputs": [
    {
     "data": {
      "text/markdown": [
       "**1.20**: $x \\in X  \\rightarrow x \\in X \\vee x \\in Y \\rightarrow x \\in X \\cup Y \\rightarrow X \\subseteq X \\cup Y$  **[-1]**"
      ],
      "text/plain": [
       "<IPython.core.display.Markdown object>"
      ]
     },
     "metadata": {},
     "output_type": "display_data"
    },
    {
     "data": {
      "text/markdown": [
       "**1.26**: \n",
       "$A \\in \\wp(X) \\cup \\wp(Y) -> A \\in \\wp(X) \\vee A \\in \\wp(Y) \n",
       "\\rightarrow A \\subseteq X \\vee A \\subseteq Y \\rightarrow A \\subseteq X \\cup Y \\rightarrow A \\in \\wp(X \\cup Y)$\n",
       "  **[-1]**"
      ],
      "text/plain": [
       "<IPython.core.display.Markdown object>"
      ]
     },
     "metadata": {},
     "output_type": "display_data"
    },
    {
     "data": {
      "text/markdown": [
       "**1.45**: \n",
       "(1): $a \\in X \\cup Y \\rightarrow a \\in X \\vee a \\in Y \\rightarrow a \\in Y \\vee a \\in X \\rightarrow a \\in Y \\cup X \\rightarrow X \\cup Y \\subseteq Y \\cup X$\n",
       "\n",
       "(2): $a \\in Y \\cup X \\rightarrow a \\in Y \\vee a \\in X \\rightarrow a \\in X \\vee a \\in Y \\rightarrow a \\in X \\cup Y \\rightarrow Y \\cup X \\subseteq X \\cup Y$\n",
       "\n",
       "(1) + (2) $\\rightarrow X \\cup Y = Y \\cup X$\n",
       "\n",
       "The same goes for $\\cap$\n",
       "  **[-1]**"
      ],
      "text/plain": [
       "<IPython.core.display.Markdown object>"
      ]
     },
     "metadata": {},
     "output_type": "display_data"
    },
    {
     "data": {
      "text/markdown": [
       "**2.14**: \n",
       "Since it says ''There exists'', it is sufficient to find a single example that satisfies the \n",
       "argument.\n",
       "\n",
       "Example: $a = 2, b = 1/2 \\rightarrow a$^$b = a$^$(1/2) =  sqrt(2)$\n",
       "  **[-1]**"
      ],
      "text/plain": [
       "<IPython.core.display.Markdown object>"
      ]
     },
     "metadata": {},
     "output_type": "display_data"
    },
    {
     "data": {
      "text/markdown": [
       "**2.15**: \n",
       "Proof by contradiction:\n",
       "\n",
       "Assume $x > y$ then we have:\n",
       "\n",
       "$\\exists \\epsilon_1 > 0: x >= y + \\epsilon_1$ which is in direct contradiction with $x \\leq y + \\epsilon$\n",
       "\n",
       "As an example for $\\epsilon$, we can use $(x-y)/{2}$.\n",
       "  **[-1]**"
      ],
      "text/plain": [
       "<IPython.core.display.Markdown object>"
      ]
     },
     "metadata": {},
     "output_type": "display_data"
    },
    {
     "data": {
      "text/markdown": [
       "**2.42**: \n",
       "$\\forall n \\in Z: n$ is odd $\\iff n+2$ is odd.\n",
       "\n",
       "\n",
       "First we prove \n",
       "$\\forall n \\in Z: n$ is odd $\\rightarrow n+2$ is odd:\n",
       "\n",
       "$n = 2k+1 \\rightarrow n+2 = 2k(even)+3(odd) \\rightarrow n+2$ is odd\n",
       "\n",
       "\n",
       "Second we prove \n",
       "$\\forall n \\in Z: n+2$ is odd $\\rightarrow n$ is odd:\n",
       "\n",
       "  **[-1]**"
      ],
      "text/plain": [
       "<IPython.core.display.Markdown object>"
      ]
     },
     "metadata": {},
     "output_type": "display_data"
    },
    {
     "name": "stdout",
     "output_type": "stream",
     "text": [
      "\n",
      "final grade: 43.75\n"
     ]
    }
   ],
   "source": [
    "student = \"William Morrison\"\n",
    "myList = (\n",
    "    (1.20, 2, \"missing\"),\n",
    "    (1.26, 1),\n",
    "    (1.45, .5),\n",
    "    (2.14, .75, \"No counter-example provided.\"),\n",
    "    (2.15),\n",
    "    2.42\n",
    ")\n",
    "grade(student, myList)"
   ]
  },
  {
   "cell_type": "code",
   "execution_count": 345,
   "metadata": {},
   "outputs": [
    {
     "data": {
      "text/markdown": [
       "**1.20**: $x \\in X  \\rightarrow x \\in X \\vee x \\in Y \\rightarrow x \\in X \\cup Y \\rightarrow X \\subseteq X \\cup Y$  **[-1]**"
      ],
      "text/plain": [
       "<IPython.core.display.Markdown object>"
      ]
     },
     "metadata": {},
     "output_type": "display_data"
    },
    {
     "data": {
      "text/markdown": [
       "**1.26**: \n",
       "$A \\in \\wp(X) \\cup \\wp(Y) -> A \\in \\wp(X) \\vee A \\in \\wp(Y) \n",
       "\\rightarrow A \\subseteq X \\vee A \\subseteq Y \\rightarrow A \\subseteq X \\cup Y \\rightarrow A \\in \\wp(X \\cup Y)$\n",
       "  **[-1]**"
      ],
      "text/plain": [
       "<IPython.core.display.Markdown object>"
      ]
     },
     "metadata": {},
     "output_type": "display_data"
    },
    {
     "data": {
      "text/markdown": [
       "**1.45**: \n",
       "(1): $a \\in X \\cup Y \\rightarrow a \\in X \\vee a \\in Y \\rightarrow a \\in Y \\vee a \\in X \\rightarrow a \\in Y \\cup X \\rightarrow X \\cup Y \\subseteq Y \\cup X$\n",
       "\n",
       "(2): $a \\in Y \\cup X \\rightarrow a \\in Y \\vee a \\in X \\rightarrow a \\in X \\vee a \\in Y \\rightarrow a \\in X \\cup Y \\rightarrow Y \\cup X \\subseteq X \\cup Y$\n",
       "\n",
       "(1) + (2) $\\rightarrow X \\cup Y = Y \\cup X$\n",
       "\n",
       "The same goes for $\\cap$\n",
       "  **[-1]**"
      ],
      "text/plain": [
       "<IPython.core.display.Markdown object>"
      ]
     },
     "metadata": {},
     "output_type": "display_data"
    },
    {
     "data": {
      "text/markdown": [
       "**2.02**: \n",
       "Converse: for all $x \\in \\mathbb{R}$ if $x$ is irrational, then $x^2$ is irrational.\n",
       "\n",
       "Proof by contradiction: $x = sqrt(2)$ is irrational\n",
       "but $x$^$2 = 2$ is rational.\n",
       "  **[-1]**"
      ],
      "text/plain": [
       "<IPython.core.display.Markdown object>"
      ]
     },
     "metadata": {},
     "output_type": "display_data"
    },
    {
     "data": {
      "text/markdown": [
       "**2.14**: \n",
       "Since it says ''There exists'', it is sufficient to find a single example that satisfies the \n",
       "argument.\n",
       "\n",
       "Example: $a = 2, b = 1/2 \\rightarrow a$^$b = a$^$(1/2) =  sqrt(2)$\n",
       "  **[-1]**"
      ],
      "text/plain": [
       "<IPython.core.display.Markdown object>"
      ]
     },
     "metadata": {},
     "output_type": "display_data"
    },
    {
     "data": {
      "text/markdown": [
       "**2.15**: \n",
       "Proof by contradiction:\n",
       "\n",
       "Assume $x > y$ then we have:\n",
       "\n",
       "$\\exists \\epsilon_1 > 0: x >= y + \\epsilon_1$ which is in direct contradiction with $x \\leq y + \\epsilon$\n",
       "\n",
       "As an example for $\\epsilon$, we can use $(x-y)/{2}$.\n",
       "  **[-1]**"
      ],
      "text/plain": [
       "<IPython.core.display.Markdown object>"
      ]
     },
     "metadata": {},
     "output_type": "display_data"
    },
    {
     "data": {
      "text/markdown": [
       "**2.31**: \n",
       "We have 2 cases:\n",
       "\n",
       "Case 1: $n$ is even which should be easy to prove.\n",
       "\n",
       "Case 2: $n$ is odd: $n = 2k+1 \\rightarrow n^3 + n = (8k^3 + 12k^2 + 6k+1) + (2k+1) = \n",
       "8k^3 + 12k^2+8k + 2 = 2(4k^3+6k^2+4k+1) = 2m$\n",
       "  **[-1]**"
      ],
      "text/plain": [
       "<IPython.core.display.Markdown object>"
      ]
     },
     "metadata": {},
     "output_type": "display_data"
    },
    {
     "data": {
      "text/markdown": [
       "**2.42**: \n",
       "$\\forall n \\in Z: n$ is odd $\\iff n+2$ is odd.\n",
       "\n",
       "\n",
       "First we prove \n",
       "$\\forall n \\in Z: n$ is odd $\\rightarrow n+2$ is odd:\n",
       "\n",
       "$n = 2k+1 \\rightarrow n+2 = 2k(even)+3(odd) \\rightarrow n+2$ is odd\n",
       "\n",
       "\n",
       "Second we prove \n",
       "$\\forall n \\in Z: n+2$ is odd $\\rightarrow n$ is odd:\n",
       "\n",
       "  **[-1]**"
      ],
      "text/plain": [
       "<IPython.core.display.Markdown object>"
      ]
     },
     "metadata": {},
     "output_type": "display_data"
    },
    {
     "name": "stdout",
     "output_type": "stream",
     "text": [
      "\n",
      "final grade: 41.75\n"
     ]
    }
   ],
   "source": [
    "student = \"Michael Neilson\"\n",
    "myList = (\n",
    "    1.20,\n",
    "    1.26,\n",
    "    (1.45, 2, \"missing\"),\n",
    "    (2.02, .25, \"No counter-example provided.\"),\n",
    "    (2.14),\n",
    "    2.15,\n",
    "    2.31,\n",
    "    2.42\n",
    ")\n",
    "grade(student, myList)"
   ]
  },
  {
   "cell_type": "code",
   "execution_count": 346,
   "metadata": {},
   "outputs": [
    {
     "data": {
      "text/markdown": [
       "**1.20**: $x \\in X  \\rightarrow x \\in X \\vee x \\in Y \\rightarrow x \\in X \\cup Y \\rightarrow X \\subseteq X \\cup Y$  **[-1]**"
      ],
      "text/plain": [
       "<IPython.core.display.Markdown object>"
      ]
     },
     "metadata": {},
     "output_type": "display_data"
    },
    {
     "data": {
      "text/markdown": [
       "**1.26**: \n",
       "$A \\in \\wp(X) \\cup \\wp(Y) -> A \\in \\wp(X) \\vee A \\in \\wp(Y) \n",
       "\\rightarrow A \\subseteq X \\vee A \\subseteq Y \\rightarrow A \\subseteq X \\cup Y \\rightarrow A \\in \\wp(X \\cup Y)$\n",
       "  **[-1]**"
      ],
      "text/plain": [
       "<IPython.core.display.Markdown object>"
      ]
     },
     "metadata": {},
     "output_type": "display_data"
    },
    {
     "data": {
      "text/markdown": [
       "**2.15**: \n",
       "Proof by contradiction:\n",
       "\n",
       "Assume $x > y$ then we have:\n",
       "\n",
       "$\\exists \\epsilon_1 > 0: x >= y + \\epsilon_1$ which is in direct contradiction with $x \\leq y + \\epsilon$\n",
       "\n",
       "As an example for $\\epsilon$, we can use $(x-y)/{2}$.\n",
       "  **[-1]**"
      ],
      "text/plain": [
       "<IPython.core.display.Markdown object>"
      ]
     },
     "metadata": {},
     "output_type": "display_data"
    },
    {
     "data": {
      "text/markdown": [
       "**2.42**: \n",
       "$\\forall n \\in Z: n$ is odd $\\iff n+2$ is odd.\n",
       "\n",
       "\n",
       "First we prove \n",
       "$\\forall n \\in Z: n$ is odd $\\rightarrow n+2$ is odd:\n",
       "\n",
       "$n = 2k+1 \\rightarrow n+2 = 2k(even)+3(odd) \\rightarrow n+2$ is odd\n",
       "\n",
       "\n",
       "Second we prove \n",
       "$\\forall n \\in Z: n+2$ is odd $\\rightarrow n$ is odd:\n",
       "\n",
       "  **[-1]**"
      ],
      "text/plain": [
       "<IPython.core.display.Markdown object>"
      ]
     },
     "metadata": {},
     "output_type": "display_data"
    },
    {
     "name": "stdout",
     "output_type": "stream",
     "text": [
      "\n",
      "final grade: 46.75\n"
     ]
    }
   ],
   "source": [
    "student = \"Grant Phillips\"\n",
    "myList = (\n",
    "    (1.20, .5),\n",
    "    1.26,\n",
    "    2.15,\n",
    "    (2.42, .75)\n",
    ")\n",
    "grade(student, myList)"
   ]
  },
  {
   "cell_type": "code",
   "execution_count": 347,
   "metadata": {},
   "outputs": [
    {
     "data": {
      "text/markdown": [
       "**1.20**: $x \\in X  \\rightarrow x \\in X \\vee x \\in Y \\rightarrow x \\in X \\cup Y \\rightarrow X \\subseteq X \\cup Y$  **[-1]**"
      ],
      "text/plain": [
       "<IPython.core.display.Markdown object>"
      ]
     },
     "metadata": {},
     "output_type": "display_data"
    },
    {
     "name": "stdout",
     "output_type": "stream",
     "text": [
      "\n",
      "final grade: 49.50\n"
     ]
    }
   ],
   "source": [
    "student = \"Jonathan Puckett\"\n",
    "myList = (\n",
    "    (1.20, .5),\n",
    "    \n",
    ")\n",
    "grade(student, myList)"
   ]
  },
  {
   "cell_type": "code",
   "execution_count": 348,
   "metadata": {},
   "outputs": [
    {
     "name": "stdout",
     "output_type": "stream",
     "text": [
      "\n",
      "final grade: 50.00\n"
     ]
    }
   ],
   "source": [
    "student = \"Seth Salinas\"\n",
    "myList = (\n",
    "    \n",
    ")\n",
    "grade(student, myList)"
   ]
  },
  {
   "cell_type": "code",
   "execution_count": 349,
   "metadata": {},
   "outputs": [
    {
     "data": {
      "text/markdown": [
       "**1.20**: $x \\in X  \\rightarrow x \\in X \\vee x \\in Y \\rightarrow x \\in X \\cup Y \\rightarrow X \\subseteq X \\cup Y$  **[-1]**"
      ],
      "text/plain": [
       "<IPython.core.display.Markdown object>"
      ]
     },
     "metadata": {},
     "output_type": "display_data"
    },
    {
     "data": {
      "text/markdown": [
       "**1.26**: \n",
       "$A \\in \\wp(X) \\cup \\wp(Y) -> A \\in \\wp(X) \\vee A \\in \\wp(Y) \n",
       "\\rightarrow A \\subseteq X \\vee A \\subseteq Y \\rightarrow A \\subseteq X \\cup Y \\rightarrow A \\in \\wp(X \\cup Y)$\n",
       "  **[-1]**"
      ],
      "text/plain": [
       "<IPython.core.display.Markdown object>"
      ]
     },
     "metadata": {},
     "output_type": "display_data"
    },
    {
     "data": {
      "text/markdown": [
       "**2.02**: \n",
       "Converse: for all $x \\in \\mathbb{R}$ if $x$ is irrational, then $x^2$ is irrational.\n",
       "\n",
       "Proof by contradiction: $x = sqrt(2)$ is irrational\n",
       "but $x$^$2 = 2$ is rational.\n",
       "  **[-1]**"
      ],
      "text/plain": [
       "<IPython.core.display.Markdown object>"
      ]
     },
     "metadata": {},
     "output_type": "display_data"
    },
    {
     "data": {
      "text/markdown": [
       "**2.15**: \n",
       "Proof by contradiction:\n",
       "\n",
       "Assume $x > y$ then we have:\n",
       "\n",
       "$\\exists \\epsilon_1 > 0: x >= y + \\epsilon_1$ which is in direct contradiction with $x \\leq y + \\epsilon$\n",
       "\n",
       "As an example for $\\epsilon$, we can use $(x-y)/{2}$.\n",
       "  **[-1]**"
      ],
      "text/plain": [
       "<IPython.core.display.Markdown object>"
      ]
     },
     "metadata": {},
     "output_type": "display_data"
    },
    {
     "name": "stdout",
     "output_type": "stream",
     "text": [
      "\n",
      "final grade: 46.50\n"
     ]
    }
   ],
   "source": [
    "student = \"Evan Salzbrenner\"\n",
    "myList = (\n",
    "    (1.20, .5),\n",
    "    1.26,\n",
    "    (2.02, 1, \"no counter-example\"),\n",
    "    (2.15),\n",
    "    \n",
    ")\n",
    "grade(student, myList)"
   ]
  },
  {
   "cell_type": "code",
   "execution_count": 351,
   "metadata": {},
   "outputs": [
    {
     "data": {
      "text/markdown": [
       "**1.20**: $x \\in X  \\rightarrow x \\in X \\vee x \\in Y \\rightarrow x \\in X \\cup Y \\rightarrow X \\subseteq X \\cup Y$  **[-1]**"
      ],
      "text/plain": [
       "<IPython.core.display.Markdown object>"
      ]
     },
     "metadata": {},
     "output_type": "display_data"
    },
    {
     "data": {
      "text/markdown": [
       "**1.26**: \n",
       "$A \\in \\wp(X) \\cup \\wp(Y) -> A \\in \\wp(X) \\vee A \\in \\wp(Y) \n",
       "\\rightarrow A \\subseteq X \\vee A \\subseteq Y \\rightarrow A \\subseteq X \\cup Y \\rightarrow A \\in \\wp(X \\cup Y)$\n",
       "  **[-1]**"
      ],
      "text/plain": [
       "<IPython.core.display.Markdown object>"
      ]
     },
     "metadata": {},
     "output_type": "display_data"
    },
    {
     "data": {
      "text/markdown": [
       "**2.42**: \n",
       "$\\forall n \\in Z: n$ is odd $\\iff n+2$ is odd.\n",
       "\n",
       "\n",
       "First we prove \n",
       "$\\forall n \\in Z: n$ is odd $\\rightarrow n+2$ is odd:\n",
       "\n",
       "$n = 2k+1 \\rightarrow n+2 = 2k(even)+3(odd) \\rightarrow n+2$ is odd\n",
       "\n",
       "\n",
       "Second we prove \n",
       "$\\forall n \\in Z: n+2$ is odd $\\rightarrow n$ is odd:\n",
       "\n",
       "  **[-1]**"
      ],
      "text/plain": [
       "<IPython.core.display.Markdown object>"
      ]
     },
     "metadata": {},
     "output_type": "display_data"
    },
    {
     "name": "stdout",
     "output_type": "stream",
     "text": [
      "\n",
      "final grade: 48.00\n"
     ]
    }
   ],
   "source": [
    "student = \"Thomas Swokowski\"\n",
    "myList = (\n",
    "    (1.20, .5),\n",
    "    (1.26, .5),\n",
    "    2.42\n",
    ")\n",
    "grade(student, myList)"
   ]
  },
  {
   "cell_type": "code",
   "execution_count": 348,
   "metadata": {},
   "outputs": [
    {
     "name": "stdout",
     "output_type": "stream",
     "text": [
      "\n",
      "final grade: 50.00\n"
     ]
    }
   ],
   "source": [
    "student = \"Zamir Thind\"\n",
    "myList = (\n",
    "    (1.20, .5),\n",
    "    (2.02),\n",
    "    2.14,\n",
    "    \n",
    ")\n",
    "grade(student, myList)"
   ]
  },
  {
   "cell_type": "code",
   "execution_count": 353,
   "metadata": {},
   "outputs": [
    {
     "data": {
      "text/markdown": [
       "**1.20**: $x \\in X  \\rightarrow x \\in X \\vee x \\in Y \\rightarrow x \\in X \\cup Y \\rightarrow X \\subseteq X \\cup Y$  **[-1]**"
      ],
      "text/plain": [
       "<IPython.core.display.Markdown object>"
      ]
     },
     "metadata": {},
     "output_type": "display_data"
    },
    {
     "data": {
      "text/markdown": [
       "**1.26**: \n",
       "$A \\in \\wp(X) \\cup \\wp(Y) -> A \\in \\wp(X) \\vee A \\in \\wp(Y) \n",
       "\\rightarrow A \\subseteq X \\vee A \\subseteq Y \\rightarrow A \\subseteq X \\cup Y \\rightarrow A \\in \\wp(X \\cup Y)$\n",
       "  **[-1]**"
      ],
      "text/plain": [
       "<IPython.core.display.Markdown object>"
      ]
     },
     "metadata": {},
     "output_type": "display_data"
    },
    {
     "data": {
      "text/markdown": [
       "**1.45**: \n",
       "(1): $a \\in X \\cup Y \\rightarrow a \\in X \\vee a \\in Y \\rightarrow a \\in Y \\vee a \\in X \\rightarrow a \\in Y \\cup X \\rightarrow X \\cup Y \\subseteq Y \\cup X$\n",
       "\n",
       "(2): $a \\in Y \\cup X \\rightarrow a \\in Y \\vee a \\in X \\rightarrow a \\in X \\vee a \\in Y \\rightarrow a \\in X \\cup Y \\rightarrow Y \\cup X \\subseteq X \\cup Y$\n",
       "\n",
       "(1) + (2) $\\rightarrow X \\cup Y = Y \\cup X$\n",
       "\n",
       "The same goes for $\\cap$\n",
       "  **[-1]**"
      ],
      "text/plain": [
       "<IPython.core.display.Markdown object>"
      ]
     },
     "metadata": {},
     "output_type": "display_data"
    },
    {
     "data": {
      "text/markdown": [
       "**2.14**: \n",
       "Since it says ''There exists'', it is sufficient to find a single example that satisfies the \n",
       "argument.\n",
       "\n",
       "Example: $a = 2, b = 1/2 \\rightarrow a$^$b = a$^$(1/2) =  sqrt(2)$\n",
       "  **[-1]**"
      ],
      "text/plain": [
       "<IPython.core.display.Markdown object>"
      ]
     },
     "metadata": {},
     "output_type": "display_data"
    },
    {
     "data": {
      "text/markdown": [
       "**2.42**: \n",
       "$\\forall n \\in Z: n$ is odd $\\iff n+2$ is odd.\n",
       "\n",
       "\n",
       "First we prove \n",
       "$\\forall n \\in Z: n$ is odd $\\rightarrow n+2$ is odd:\n",
       "\n",
       "$n = 2k+1 \\rightarrow n+2 = 2k(even)+3(odd) \\rightarrow n+2$ is odd\n",
       "\n",
       "\n",
       "Second we prove \n",
       "$\\forall n \\in Z: n+2$ is odd $\\rightarrow n$ is odd:\n",
       "\n",
       "  **[-1]**"
      ],
      "text/plain": [
       "<IPython.core.display.Markdown object>"
      ]
     },
     "metadata": {},
     "output_type": "display_data"
    },
    {
     "name": "stdout",
     "output_type": "stream",
     "text": [
      "\n",
      "final grade: 43.50\n"
     ]
    }
   ],
   "source": [
    "student = \"Jimmy Tran\"\n",
    "myList = (\n",
    "    (1.20, .5),\n",
    "    (1.26),\n",
    "    (1.45, 2),\n",
    "    2.14,\n",
    "    (2.42, 2)\n",
    "    \n",
    ")\n",
    "grade(student, myList)"
   ]
  },
  {
   "cell_type": "code",
   "execution_count": 354,
   "metadata": {},
   "outputs": [
    {
     "data": {
      "text/markdown": [
       "**1.20**: $x \\in X  \\rightarrow x \\in X \\vee x \\in Y \\rightarrow x \\in X \\cup Y \\rightarrow X \\subseteq X \\cup Y$  **[-1]**"
      ],
      "text/plain": [
       "<IPython.core.display.Markdown object>"
      ]
     },
     "metadata": {},
     "output_type": "display_data"
    },
    {
     "data": {
      "text/markdown": [
       "**2.02**: \n",
       "Converse: for all $x \\in \\mathbb{R}$ if $x$ is irrational, then $x^2$ is irrational.\n",
       "\n",
       "Proof by contradiction: $x = sqrt(2)$ is irrational\n",
       "but $x$^$2 = 2$ is rational.\n",
       "  **[-1]**"
      ],
      "text/plain": [
       "<IPython.core.display.Markdown object>"
      ]
     },
     "metadata": {},
     "output_type": "display_data"
    },
    {
     "data": {
      "text/markdown": [
       "**2.14**: \n",
       "Since it says ''There exists'', it is sufficient to find a single example that satisfies the \n",
       "argument.\n",
       "\n",
       "Example: $a = 2, b = 1/2 \\rightarrow a$^$b = a$^$(1/2) =  sqrt(2)$\n",
       "  **[-1]**"
      ],
      "text/plain": [
       "<IPython.core.display.Markdown object>"
      ]
     },
     "metadata": {},
     "output_type": "display_data"
    },
    {
     "data": {
      "text/markdown": [
       "**2.15**: \n",
       "Proof by contradiction:\n",
       "\n",
       "Assume $x > y$ then we have:\n",
       "\n",
       "$\\exists \\epsilon_1 > 0: x >= y + \\epsilon_1$ which is in direct contradiction with $x \\leq y + \\epsilon$\n",
       "\n",
       "As an example for $\\epsilon$, we can use $(x-y)/{2}$.\n",
       "  **[-1]**"
      ],
      "text/plain": [
       "<IPython.core.display.Markdown object>"
      ]
     },
     "metadata": {},
     "output_type": "display_data"
    },
    {
     "data": {
      "text/markdown": [
       "**2.42**: \n",
       "$\\forall n \\in Z: n$ is odd $\\iff n+2$ is odd.\n",
       "\n",
       "\n",
       "First we prove \n",
       "$\\forall n \\in Z: n$ is odd $\\rightarrow n+2$ is odd:\n",
       "\n",
       "$n = 2k+1 \\rightarrow n+2 = 2k(even)+3(odd) \\rightarrow n+2$ is odd\n",
       "\n",
       "\n",
       "Second we prove \n",
       "$\\forall n \\in Z: n+2$ is odd $\\rightarrow n$ is odd:\n",
       "\n",
       "  **[-1]**"
      ],
      "text/plain": [
       "<IPython.core.display.Markdown object>"
      ]
     },
     "metadata": {},
     "output_type": "display_data"
    },
    {
     "name": "stdout",
     "output_type": "stream",
     "text": [
      "\n",
      "final grade: 46.00\n"
     ]
    }
   ],
   "source": [
    "student = \"Robert Turner\"\n",
    "myList = (\n",
    "    (1.20, .5),\n",
    "    (2.02, .5),\n",
    "    2.14,\n",
    "    2.15,\n",
    "    2.42\n",
    ")\n",
    "grade(student, myList)"
   ]
  },
  {
   "cell_type": "code",
   "execution_count": 355,
   "metadata": {},
   "outputs": [
    {
     "data": {
      "text/markdown": [
       "**1.20**: $x \\in X  \\rightarrow x \\in X \\vee x \\in Y \\rightarrow x \\in X \\cup Y \\rightarrow X \\subseteq X \\cup Y$  **[-1]**"
      ],
      "text/plain": [
       "<IPython.core.display.Markdown object>"
      ]
     },
     "metadata": {},
     "output_type": "display_data"
    },
    {
     "data": {
      "text/markdown": [
       "**1.26**: \n",
       "$A \\in \\wp(X) \\cup \\wp(Y) -> A \\in \\wp(X) \\vee A \\in \\wp(Y) \n",
       "\\rightarrow A \\subseteq X \\vee A \\subseteq Y \\rightarrow A \\subseteq X \\cup Y \\rightarrow A \\in \\wp(X \\cup Y)$\n",
       "  **[-1]**"
      ],
      "text/plain": [
       "<IPython.core.display.Markdown object>"
      ]
     },
     "metadata": {},
     "output_type": "display_data"
    },
    {
     "data": {
      "text/markdown": [
       "**1.45**: \n",
       "(1): $a \\in X \\cup Y \\rightarrow a \\in X \\vee a \\in Y \\rightarrow a \\in Y \\vee a \\in X \\rightarrow a \\in Y \\cup X \\rightarrow X \\cup Y \\subseteq Y \\cup X$\n",
       "\n",
       "(2): $a \\in Y \\cup X \\rightarrow a \\in Y \\vee a \\in X \\rightarrow a \\in X \\vee a \\in Y \\rightarrow a \\in X \\cup Y \\rightarrow Y \\cup X \\subseteq X \\cup Y$\n",
       "\n",
       "(1) + (2) $\\rightarrow X \\cup Y = Y \\cup X$\n",
       "\n",
       "The same goes for $\\cap$\n",
       "  **[-1]**"
      ],
      "text/plain": [
       "<IPython.core.display.Markdown object>"
      ]
     },
     "metadata": {},
     "output_type": "display_data"
    },
    {
     "data": {
      "text/markdown": [
       "**2.42**: \n",
       "$\\forall n \\in Z: n$ is odd $\\iff n+2$ is odd.\n",
       "\n",
       "\n",
       "First we prove \n",
       "$\\forall n \\in Z: n$ is odd $\\rightarrow n+2$ is odd:\n",
       "\n",
       "$n = 2k+1 \\rightarrow n+2 = 2k(even)+3(odd) \\rightarrow n+2$ is odd\n",
       "\n",
       "\n",
       "Second we prove \n",
       "$\\forall n \\in Z: n+2$ is odd $\\rightarrow n$ is odd:\n",
       "\n",
       "  **[-1]**"
      ],
      "text/plain": [
       "<IPython.core.display.Markdown object>"
      ]
     },
     "metadata": {},
     "output_type": "display_data"
    },
    {
     "name": "stdout",
     "output_type": "stream",
     "text": [
      "\n",
      "final grade: 46.50\n"
     ]
    }
   ],
   "source": [
    "student = \"Jose Alberto Vega\"\n",
    "myList = (\n",
    "    (1.20, 1),\n",
    "    (1.26),\n",
    "    1.45,\n",
    "    (2.42, .5)\n",
    ")\n",
    "grade(student, myList)"
   ]
  },
  {
   "cell_type": "code",
   "execution_count": 356,
   "metadata": {},
   "outputs": [
    {
     "data": {
      "text/markdown": [
       "**1.20**: $x \\in X  \\rightarrow x \\in X \\vee x \\in Y \\rightarrow x \\in X \\cup Y \\rightarrow X \\subseteq X \\cup Y$  **[-1]**"
      ],
      "text/plain": [
       "<IPython.core.display.Markdown object>"
      ]
     },
     "metadata": {},
     "output_type": "display_data"
    },
    {
     "data": {
      "text/markdown": [
       "**1.26**: \n",
       "$A \\in \\wp(X) \\cup \\wp(Y) -> A \\in \\wp(X) \\vee A \\in \\wp(Y) \n",
       "\\rightarrow A \\subseteq X \\vee A \\subseteq Y \\rightarrow A \\subseteq X \\cup Y \\rightarrow A \\in \\wp(X \\cup Y)$\n",
       "  **[-1]**"
      ],
      "text/plain": [
       "<IPython.core.display.Markdown object>"
      ]
     },
     "metadata": {},
     "output_type": "display_data"
    },
    {
     "name": "stdout",
     "output_type": "stream",
     "text": [
      "\n",
      "final grade: 49.00\n"
     ]
    }
   ],
   "source": [
    "student = \"Adam Walker\"\n",
    "myList = (\n",
    "    (1.20, .5),\n",
    "    (1.26, .5),\n",
    "    \n",
    ")\n",
    "grade(student, myList)"
   ]
  },
  {
   "cell_type": "code",
   "execution_count": 357,
   "metadata": {},
   "outputs": [
    {
     "data": {
      "text/markdown": [
       "**1.20**: $x \\in X  \\rightarrow x \\in X \\vee x \\in Y \\rightarrow x \\in X \\cup Y \\rightarrow X \\subseteq X \\cup Y$  **[-1]**"
      ],
      "text/plain": [
       "<IPython.core.display.Markdown object>"
      ]
     },
     "metadata": {},
     "output_type": "display_data"
    },
    {
     "data": {
      "text/markdown": [
       "**1.26**: \n",
       "$A \\in \\wp(X) \\cup \\wp(Y) -> A \\in \\wp(X) \\vee A \\in \\wp(Y) \n",
       "\\rightarrow A \\subseteq X \\vee A \\subseteq Y \\rightarrow A \\subseteq X \\cup Y \\rightarrow A \\in \\wp(X \\cup Y)$\n",
       "  **[-1]**"
      ],
      "text/plain": [
       "<IPython.core.display.Markdown object>"
      ]
     },
     "metadata": {},
     "output_type": "display_data"
    },
    {
     "data": {
      "text/markdown": [
       "**1.45**: \n",
       "(1): $a \\in X \\cup Y \\rightarrow a \\in X \\vee a \\in Y \\rightarrow a \\in Y \\vee a \\in X \\rightarrow a \\in Y \\cup X \\rightarrow X \\cup Y \\subseteq Y \\cup X$\n",
       "\n",
       "(2): $a \\in Y \\cup X \\rightarrow a \\in Y \\vee a \\in X \\rightarrow a \\in X \\vee a \\in Y \\rightarrow a \\in X \\cup Y \\rightarrow Y \\cup X \\subseteq X \\cup Y$\n",
       "\n",
       "(1) + (2) $\\rightarrow X \\cup Y = Y \\cup X$\n",
       "\n",
       "The same goes for $\\cap$\n",
       "  **[-1]**"
      ],
      "text/plain": [
       "<IPython.core.display.Markdown object>"
      ]
     },
     "metadata": {},
     "output_type": "display_data"
    },
    {
     "data": {
      "text/markdown": [
       "**2.02**: \n",
       "Converse: for all $x \\in \\mathbb{R}$ if $x$ is irrational, then $x^2$ is irrational.\n",
       "\n",
       "Proof by contradiction: $x = sqrt(2)$ is irrational\n",
       "but $x$^$2 = 2$ is rational.\n",
       "  **[-1]**"
      ],
      "text/plain": [
       "<IPython.core.display.Markdown object>"
      ]
     },
     "metadata": {},
     "output_type": "display_data"
    },
    {
     "name": "stdout",
     "output_type": "stream",
     "text": [
      "\n",
      "final grade: 47.00\n"
     ]
    }
   ],
   "source": [
    "student = \"Kevin Walton\"\n",
    "myList = (\n",
    "    1.20,\n",
    "    1.26,\n",
    "    (1.45, .5),\n",
    "    (2.02, .5),\n",
    "    \n",
    ")\n",
    "grade(student, myList)"
   ]
  },
  {
   "cell_type": "code",
   "execution_count": 358,
   "metadata": {},
   "outputs": [
    {
     "data": {
      "text/markdown": [
       "**1.20**: $x \\in X  \\rightarrow x \\in X \\vee x \\in Y \\rightarrow x \\in X \\cup Y \\rightarrow X \\subseteq X \\cup Y$  **[-1]**"
      ],
      "text/plain": [
       "<IPython.core.display.Markdown object>"
      ]
     },
     "metadata": {},
     "output_type": "display_data"
    },
    {
     "data": {
      "text/markdown": [
       "**1.26**: \n",
       "$A \\in \\wp(X) \\cup \\wp(Y) -> A \\in \\wp(X) \\vee A \\in \\wp(Y) \n",
       "\\rightarrow A \\subseteq X \\vee A \\subseteq Y \\rightarrow A \\subseteq X \\cup Y \\rightarrow A \\in \\wp(X \\cup Y)$\n",
       "  **[-1]**"
      ],
      "text/plain": [
       "<IPython.core.display.Markdown object>"
      ]
     },
     "metadata": {},
     "output_type": "display_data"
    },
    {
     "data": {
      "text/markdown": [
       "**2.42**: \n",
       "$\\forall n \\in Z: n$ is odd $\\iff n+2$ is odd.\n",
       "\n",
       "\n",
       "First we prove \n",
       "$\\forall n \\in Z: n$ is odd $\\rightarrow n+2$ is odd:\n",
       "\n",
       "$n = 2k+1 \\rightarrow n+2 = 2k(even)+3(odd) \\rightarrow n+2$ is odd\n",
       "\n",
       "\n",
       "Second we prove \n",
       "$\\forall n \\in Z: n+2$ is odd $\\rightarrow n$ is odd:\n",
       "\n",
       "  **[-1]**"
      ],
      "text/plain": [
       "<IPython.core.display.Markdown object>"
      ]
     },
     "metadata": {},
     "output_type": "display_data"
    },
    {
     "name": "stdout",
     "output_type": "stream",
     "text": [
      "\n",
      "final grade: 48.50\n"
     ]
    }
   ],
   "source": [
    "student = \"Randall Ward\"\n",
    "myList = (\n",
    "    (1.20, .5),\n",
    "    (1.26, .5),\n",
    "    (2.42, .5)\n",
    ")\n",
    "grade(student, myList)"
   ]
  },
  {
   "cell_type": "code",
   "execution_count": 359,
   "metadata": {},
   "outputs": [
    {
     "data": {
      "text/markdown": [
       "**1.20**: $x \\in X  \\rightarrow x \\in X \\vee x \\in Y \\rightarrow x \\in X \\cup Y \\rightarrow X \\subseteq X \\cup Y$  **[-1]**"
      ],
      "text/plain": [
       "<IPython.core.display.Markdown object>"
      ]
     },
     "metadata": {},
     "output_type": "display_data"
    },
    {
     "data": {
      "text/markdown": [
       "**1.26**: \n",
       "$A \\in \\wp(X) \\cup \\wp(Y) -> A \\in \\wp(X) \\vee A \\in \\wp(Y) \n",
       "\\rightarrow A \\subseteq X \\vee A \\subseteq Y \\rightarrow A \\subseteq X \\cup Y \\rightarrow A \\in \\wp(X \\cup Y)$\n",
       "  **[-1]**"
      ],
      "text/plain": [
       "<IPython.core.display.Markdown object>"
      ]
     },
     "metadata": {},
     "output_type": "display_data"
    },
    {
     "data": {
      "text/markdown": [
       "**1.45**: \n",
       "(1): $a \\in X \\cup Y \\rightarrow a \\in X \\vee a \\in Y \\rightarrow a \\in Y \\vee a \\in X \\rightarrow a \\in Y \\cup X \\rightarrow X \\cup Y \\subseteq Y \\cup X$\n",
       "\n",
       "(2): $a \\in Y \\cup X \\rightarrow a \\in Y \\vee a \\in X \\rightarrow a \\in X \\vee a \\in Y \\rightarrow a \\in X \\cup Y \\rightarrow Y \\cup X \\subseteq X \\cup Y$\n",
       "\n",
       "(1) + (2) $\\rightarrow X \\cup Y = Y \\cup X$\n",
       "\n",
       "The same goes for $\\cap$\n",
       "  **[-1]**"
      ],
      "text/plain": [
       "<IPython.core.display.Markdown object>"
      ]
     },
     "metadata": {},
     "output_type": "display_data"
    },
    {
     "data": {
      "text/markdown": [
       "**2.02**: \n",
       "Converse: for all $x \\in \\mathbb{R}$ if $x$ is irrational, then $x^2$ is irrational.\n",
       "\n",
       "Proof by contradiction: $x = sqrt(2)$ is irrational\n",
       "but $x$^$2 = 2$ is rational.\n",
       "  **[-1]**"
      ],
      "text/plain": [
       "<IPython.core.display.Markdown object>"
      ]
     },
     "metadata": {},
     "output_type": "display_data"
    },
    {
     "data": {
      "text/markdown": [
       "**2.15**: \n",
       "Proof by contradiction:\n",
       "\n",
       "Assume $x > y$ then we have:\n",
       "\n",
       "$\\exists \\epsilon_1 > 0: x >= y + \\epsilon_1$ which is in direct contradiction with $x \\leq y + \\epsilon$\n",
       "\n",
       "As an example for $\\epsilon$, we can use $(x-y)/{2}$.\n",
       "  **[-1]**"
      ],
      "text/plain": [
       "<IPython.core.display.Markdown object>"
      ]
     },
     "metadata": {},
     "output_type": "display_data"
    },
    {
     "data": {
      "text/markdown": [
       "**2.31**: \n",
       "We have 2 cases:\n",
       "\n",
       "Case 1: $n$ is even which should be easy to prove.\n",
       "\n",
       "Case 2: $n$ is odd: $n = 2k+1 \\rightarrow n^3 + n = (8k^3 + 12k^2 + 6k+1) + (2k+1) = \n",
       "8k^3 + 12k^2+8k + 2 = 2(4k^3+6k^2+4k+1) = 2m$\n",
       "  **[-1]**"
      ],
      "text/plain": [
       "<IPython.core.display.Markdown object>"
      ]
     },
     "metadata": {},
     "output_type": "display_data"
    },
    {
     "name": "stdout",
     "output_type": "stream",
     "text": [
      "\n",
      "final grade: 45.50\n"
     ]
    }
   ],
   "source": [
    "student = \"Candace Williams\"\n",
    "myList = (\n",
    "    (1.20, .5),\n",
    "    (1.26, .25),\n",
    "    (1.45, 1, \"wrong problem\"),\n",
    "    (2.02, .5),\n",
    "    (2.15, .75),\n",
    "    (2.31, 1.5),\n",
    "    \n",
    "    \n",
    ")\n",
    "grade(student, myList)"
   ]
  },
  {
   "cell_type": "code",
   "execution_count": 360,
   "metadata": {},
   "outputs": [
    {
     "data": {
      "text/markdown": [
       "**1.20**: $x \\in X  \\rightarrow x \\in X \\vee x \\in Y \\rightarrow x \\in X \\cup Y \\rightarrow X \\subseteq X \\cup Y$  **[-1]**"
      ],
      "text/plain": [
       "<IPython.core.display.Markdown object>"
      ]
     },
     "metadata": {},
     "output_type": "display_data"
    },
    {
     "data": {
      "text/markdown": [
       "**1.26**: \n",
       "$A \\in \\wp(X) \\cup \\wp(Y) -> A \\in \\wp(X) \\vee A \\in \\wp(Y) \n",
       "\\rightarrow A \\subseteq X \\vee A \\subseteq Y \\rightarrow A \\subseteq X \\cup Y \\rightarrow A \\in \\wp(X \\cup Y)$\n",
       "  **[-1]**"
      ],
      "text/plain": [
       "<IPython.core.display.Markdown object>"
      ]
     },
     "metadata": {},
     "output_type": "display_data"
    },
    {
     "data": {
      "text/markdown": [
       "**2.02**: \n",
       "Converse: for all $x \\in \\mathbb{R}$ if $x$ is irrational, then $x^2$ is irrational.\n",
       "\n",
       "Proof by contradiction: $x = sqrt(2)$ is irrational\n",
       "but $x$^$2 = 2$ is rational.\n",
       "  **[-1]**"
      ],
      "text/plain": [
       "<IPython.core.display.Markdown object>"
      ]
     },
     "metadata": {},
     "output_type": "display_data"
    },
    {
     "name": "stdout",
     "output_type": "stream",
     "text": [
      "\n",
      "final grade: 46.00\n"
     ]
    }
   ],
   "source": [
    "student = \"Erick Woullard\"\n",
    "myList = (\n",
    "   (1.20, 2),\n",
    "    (1.26),\n",
    "    (2.02, 1),\n",
    ")\n",
    "grade(student, myList)"
   ]
  },
  {
   "cell_type": "code",
   "execution_count": 361,
   "metadata": {},
   "outputs": [
    {
     "data": {
      "text/markdown": [
       "**1.20**: $x \\in X  \\rightarrow x \\in X \\vee x \\in Y \\rightarrow x \\in X \\cup Y \\rightarrow X \\subseteq X \\cup Y$  **[-1]**"
      ],
      "text/plain": [
       "<IPython.core.display.Markdown object>"
      ]
     },
     "metadata": {},
     "output_type": "display_data"
    },
    {
     "data": {
      "text/markdown": [
       "**1.26**: \n",
       "$A \\in \\wp(X) \\cup \\wp(Y) -> A \\in \\wp(X) \\vee A \\in \\wp(Y) \n",
       "\\rightarrow A \\subseteq X \\vee A \\subseteq Y \\rightarrow A \\subseteq X \\cup Y \\rightarrow A \\in \\wp(X \\cup Y)$\n",
       "  **[-1]**"
      ],
      "text/plain": [
       "<IPython.core.display.Markdown object>"
      ]
     },
     "metadata": {},
     "output_type": "display_data"
    },
    {
     "data": {
      "text/markdown": [
       "**2.15**: \n",
       "Proof by contradiction:\n",
       "\n",
       "Assume $x > y$ then we have:\n",
       "\n",
       "$\\exists \\epsilon_1 > 0: x >= y + \\epsilon_1$ which is in direct contradiction with $x \\leq y + \\epsilon$\n",
       "\n",
       "As an example for $\\epsilon$, we can use $(x-y)/{2}$.\n",
       "  **[-1]**"
      ],
      "text/plain": [
       "<IPython.core.display.Markdown object>"
      ]
     },
     "metadata": {},
     "output_type": "display_data"
    },
    {
     "name": "stdout",
     "output_type": "stream",
     "text": [
      "\n",
      "final grade: 46.25\n"
     ]
    }
   ],
   "source": [
    "student = \"Ashley Wright\"\n",
    "myList = (\n",
    "    (1.20, 2),\n",
    "    (1.26, .75),\n",
    "    (2.15),\n",
    ")\n",
    "grade(student, myList)"
   ]
  },
  {
   "cell_type": "code",
   "execution_count": 363,
   "metadata": {},
   "outputs": [
    {
     "data": {
      "text/markdown": [
       "**1.20**: $x \\in X  \\rightarrow x \\in X \\vee x \\in Y \\rightarrow x \\in X \\cup Y \\rightarrow X \\subseteq X \\cup Y$  **[-1]**"
      ],
      "text/plain": [
       "<IPython.core.display.Markdown object>"
      ]
     },
     "metadata": {},
     "output_type": "display_data"
    },
    {
     "data": {
      "text/markdown": [
       "**1.26**: \n",
       "$A \\in \\wp(X) \\cup \\wp(Y) -> A \\in \\wp(X) \\vee A \\in \\wp(Y) \n",
       "\\rightarrow A \\subseteq X \\vee A \\subseteq Y \\rightarrow A \\subseteq X \\cup Y \\rightarrow A \\in \\wp(X \\cup Y)$\n",
       "  **[-1]**"
      ],
      "text/plain": [
       "<IPython.core.display.Markdown object>"
      ]
     },
     "metadata": {},
     "output_type": "display_data"
    },
    {
     "data": {
      "text/markdown": [
       "**2.02**: \n",
       "Converse: for all $x \\in \\mathbb{R}$ if $x$ is irrational, then $x^2$ is irrational.\n",
       "\n",
       "Proof by contradiction: $x = sqrt(2)$ is irrational\n",
       "but $x$^$2 = 2$ is rational.\n",
       "  **[-1]**"
      ],
      "text/plain": [
       "<IPython.core.display.Markdown object>"
      ]
     },
     "metadata": {},
     "output_type": "display_data"
    },
    {
     "data": {
      "text/markdown": [
       "**2.31**: \n",
       "We have 2 cases:\n",
       "\n",
       "Case 1: $n$ is even which should be easy to prove.\n",
       "\n",
       "Case 2: $n$ is odd: $n = 2k+1 \\rightarrow n^3 + n = (8k^3 + 12k^2 + 6k+1) + (2k+1) = \n",
       "8k^3 + 12k^2+8k + 2 = 2(4k^3+6k^2+4k+1) = 2m$\n",
       "  **[-1]**"
      ],
      "text/plain": [
       "<IPython.core.display.Markdown object>"
      ]
     },
     "metadata": {},
     "output_type": "display_data"
    },
    {
     "data": {
      "text/markdown": [
       "**2.42**: \n",
       "$\\forall n \\in Z: n$ is odd $\\iff n+2$ is odd.\n",
       "\n",
       "\n",
       "First we prove \n",
       "$\\forall n \\in Z: n$ is odd $\\rightarrow n+2$ is odd:\n",
       "\n",
       "$n = 2k+1 \\rightarrow n+2 = 2k(even)+3(odd) \\rightarrow n+2$ is odd\n",
       "\n",
       "\n",
       "Second we prove \n",
       "$\\forall n \\in Z: n+2$ is odd $\\rightarrow n$ is odd:\n",
       "\n",
       "  **[-1]**"
      ],
      "text/plain": [
       "<IPython.core.display.Markdown object>"
      ]
     },
     "metadata": {},
     "output_type": "display_data"
    },
    {
     "name": "stdout",
     "output_type": "stream",
     "text": [
      "\n",
      "final grade: 47.50\n"
     ]
    }
   ],
   "source": [
    "student = \"Matthew Wright\"\n",
    "myList = (\n",
    "    (1.20, .5),\n",
    "    (1.26, .5),\n",
    "    (2.02, .5),\n",
    "    (2.31, .5),\n",
    "    (2.42, .5)\n",
    ")\n",
    "grade(student, myList)"
   ]
  },
  {
   "cell_type": "code",
   "execution_count": 383,
   "metadata": {
    "scrolled": false
   },
   "outputs": [
    {
     "data": {
      "text/markdown": [
       "**4.02**: \n",
       "$n = 1: 1 \\times 2 = \\frac{1 \\times 2 \\times 3}{3} : True$\n",
       "\n",
       "Assume true for n prove for n+1:\n",
       "\n",
       "$1.2 + 2.3 + ... + n.(n+1) + (n+1).(n+2) = \\frac{n.(n+1).(n+2)}{3} + (n+1).(n+2)$\n",
       "\n",
       "$= \\frac{n}{3} \\times ((n+1).(n+2)) + 1 \\times ((n+1).(n+2)) = (n/3 + 1) \\times ((n+1).(n+2)) $\n",
       "\n",
       "$= (n+3)/3 \\times (n+1)(n+2)\n",
       "= \\frac{(n+1)(n+2)(n+3)}{3}$\n",
       "\n",
       "  **[-1]**"
      ],
      "text/plain": [
       "<IPython.core.display.Markdown object>"
      ]
     },
     "metadata": {},
     "output_type": "display_data"
    },
    {
     "data": {
      "text/markdown": [
       "**4.14**: \n",
       "$n = 3: 2\\times 3+1 <= 2^3 \\rightarrow  7 <= 8$ : True\n",
       "\n",
       "assume true for n, prove for n+1:\n",
       "\n",
       "$2\\times (n+1)+1 = 2\\times n + 3 = 2\\times n+1 + 2 \\le 2^n + 2$\n",
       "\n",
       "$\\forall n >= 1$ we have: $2^n+2 < 2^n \\times  2$\n",
       "\n",
       "$\\rightarrow  2\\times n+3 \\le 2^n+2 < 2^n\\times 2 \\rightarrow  2\\times n+3 <= 2^(n+1)$\n",
       "  **[-1]**"
      ],
      "text/plain": [
       "<IPython.core.display.Markdown object>"
      ]
     },
     "metadata": {},
     "output_type": "display_data"
    },
    {
     "data": {
      "text/markdown": [
       "**4.22**: \n",
       "$n=1: 11^1 - 6 = 5$ is divisible by 5\n",
       "\n",
       "assume true for n, prove for n+1:\n",
       "\n",
       "$11^{n+1} - 6 = 11 \\times  (11^n) - 66 + 60 = 11 \\times  (11^n-6) + 60$\n",
       "\n",
       "$11^n-6$ is divisible by 5 so 11 \\times  (11^n-6) is also divisible by 5: $5k_1$\n",
       "\n",
       "60 is also divisible by 5: $5k_2$\n",
       "\n",
       "$\\rightarrow  11^{n+1} - 6 = 5k_1 + 5k_2 = 5(k_1+k_2)$ which is divisible by 5.\n",
       "  **[-1]**"
      ],
      "text/plain": [
       "<IPython.core.display.Markdown object>"
      ]
     },
     "metadata": {},
     "output_type": "display_data"
    },
    {
     "data": {
      "text/markdown": [
       "**4.48**: \n",
       "The base case of induction is not true. In fact, you\n",
       "can't find any base case at all.\n",
       "  **[-1]**"
      ],
      "text/plain": [
       "<IPython.core.display.Markdown object>"
      ]
     },
     "metadata": {},
     "output_type": "display_data"
    }
   ],
   "source": [
    "for key, val in ps.items():\n",
    "    if key >= 4:\n",
    "        display(Markdown(\"**%3.2f**: %s  **[-1]**\"%(key, val)))"
   ]
  },
  {
   "cell_type": "code",
   "execution_count": null,
   "metadata": {},
   "outputs": [],
   "source": []
  }
 ],
 "metadata": {
  "kernelspec": {
   "display_name": "Python 3",
   "language": "python",
   "name": "python3"
  },
  "language_info": {
   "codemirror_mode": {
    "name": "ipython",
    "version": 3
   },
   "file_extension": ".py",
   "mimetype": "text/x-python",
   "name": "python",
   "nbconvert_exporter": "python",
   "pygments_lexer": "ipython3",
   "version": "3.7.2"
  }
 },
 "nbformat": 4,
 "nbformat_minor": 2
}
