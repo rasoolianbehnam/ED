{
 "cells": [
  {
   "cell_type": "code",
   "execution_count": 1,
   "metadata": {},
   "outputs": [
    {
     "data": {
      "text/plain": []
     },
     "metadata": {},
     "output_type": "display_data"
    }
   ],
   "source": [
    "classpath.addPath(System.getProperty(\"user.home\") + \"/git/dl4j-examples/dl4j-examples/target/classes\")"
   ]
  },
  {
   "cell_type": "code",
   "execution_count": null,
   "metadata": {
    "scrolled": true
   },
   "outputs": [
    {
     "name": "stdout",
     "output_type": "stream",
     "text": [
      "3.45%...6.90%...10.34%...13.79%..."
     ]
    }
   ],
   "source": [
    "import java.io.File\n",
    "val f:File = new File(System.getProperty(\"user.home\") + \"/git/dl4j-examples/dl4j-examples/target/dependency\")\n",
    "val n = f.listFiles.size\n",
    "var i = 0\n",
    "f.listFiles.map(_.toString).filter(_.endsWith(\"jar\")).foreach((f: String) => { \n",
    "    classpath.addPath(f.toString)\n",
    "    i += 1\n",
    "    if (i%10==0) print(f\"${i.toDouble / n * 100}%4.2f%%...\")\n",
    "})"
   ]
  },
  {
   "cell_type": "code",
   "execution_count": 3,
   "metadata": {},
   "outputs": [
    {
     "data": {
      "text/plain": [
       "\u001b[32mimport \u001b[36morg.deeplearning4j.nn.multilayer.MultiLayerNetwork\u001b[0m\n",
       "\u001b[32mimport \u001b[36morg.deeplearning4j.nn.conf.MultiLayerConfiguration\u001b[0m\n",
       "\u001b[32mimport \u001b[36morg.deeplearning4j.nn.conf.NeuralNetConfiguration\u001b[0m\n",
       "\u001b[32mimport \u001b[36morg.deeplearning4j.nn.weights.WeightInit\u001b[0m\n",
       "\u001b[32mimport \u001b[36morg.nd4j.linalg.learning.config.Adam\u001b[0m\n",
       "\u001b[32mimport \u001b[36morg.deeplearning4j.nn.conf.layers.LSTM\u001b[0m\n",
       "\u001b[32mimport \u001b[36morg.nd4j.linalg.activations.Activation\u001b[0m\n",
       "\u001b[32mimport \u001b[36morg.nd4j.linalg.lossfunctions.LossFunctions\u001b[0m\n",
       "\u001b[32mimport \u001b[36morg.deeplearning4j.nn.conf.layers.RnnOutputLayer\u001b[0m\n",
       "defined \u001b[32mfunction \u001b[36mcreateModel\u001b[0m"
      ]
     },
     "metadata": {},
     "output_type": "display_data"
    }
   ],
   "source": [
    "import org.deeplearning4j.nn.multilayer.MultiLayerNetwork\n",
    "import org.deeplearning4j.nn.conf.MultiLayerConfiguration\n",
    "import org.deeplearning4j.nn.conf.NeuralNetConfiguration\n",
    "import org.deeplearning4j.nn.weights.WeightInit\n",
    "import org.nd4j.linalg.learning.config.Adam\n",
    "import org.deeplearning4j.nn.conf.layers.LSTM\n",
    "import org.nd4j.linalg.activations.Activation\n",
    "import org.nd4j.linalg.lossfunctions.LossFunctions\n",
    "import org.deeplearning4j.nn.conf.layers.RnnOutputLayer\n",
    "def createModel(): MultiLayerNetwork = {\n",
    "    val conf: MultiLayerConfiguration = new  NeuralNetConfiguration.Builder()\n",
    "    .seed(123456)\n",
    "    .optimizationAlgo(org.deeplearning4j.nn.api.OptimizationAlgorithm.STOCHASTIC_GRADIENT_DESCENT)\n",
    "    .updater(new Adam(2e-3))\n",
    "    .l2(1e-5)\n",
    "    .weightInit(WeightInit.XAVIER)\n",
    "    .list()\n",
    "    .layer(0, new LSTM.Builder().name(\"encoder0\").nIn(784).nOut(800).build())\n",
    "    .layer(1, new LSTM.Builder().name(\"encoder1\").nIn(800).nOut(250).build())\n",
    "    .layer(2, new LSTM.Builder().name(\"encoder2\").nIn(250).nOut(10).build())\n",
    "    .layer(3, new LSTM.Builder().name(\"encoder3\").nIn(10).nOut(250).build())\n",
    "    .layer(4, new LSTM.Builder().name(\"encoder4\").nIn(250).nOut(800).build())\n",
    "    .layer(5, new RnnOutputLayer.Builder().name(\"output\").nIn(800).nOut(784)\n",
    "           .activation(Activation.IDENTITY).lossFunction(LossFunctions.LossFunction.MSE).build()\n",
    "          )\n",
    "    .pretrain(false).backprop(true)\n",
    "    .build()\n",
    "    val net:MultiLayerNetwork = new MultiLayerNetwork(conf)\n",
    "    net.init()\n",
    "    net\n",
    "}"
   ]
  },
  {
   "cell_type": "code",
   "execution_count": 4,
   "metadata": {},
   "outputs": [
    {
     "data": {
      "text/plain": [
       "defined \u001b[32mfunction \u001b[36mcreateModel2\u001b[0m"
      ]
     },
     "metadata": {},
     "output_type": "display_data"
    }
   ],
   "source": [
    "def createModel2(): MultiLayerNetwork = {\n",
    "    val conf: MultiLayerConfiguration = new  NeuralNetConfiguration.Builder()\n",
    "    .seed(123456)\n",
    "    .optimizationAlgo(org.deeplearning4j.nn.api.OptimizationAlgorithm.STOCHASTIC_GRADIENT_DESCENT)\n",
    "    .updater(new Adam(2e-3))\n",
    "    .l2(1e-5)\n",
    "    .weightInit(WeightInit.XAVIER)\n",
    "    .list()\n",
    "    .layer(0, new LSTM.Builder().name(\"encoder0\").nIn(28).nOut(30).build())\n",
    "    .layer(1, new LSTM.Builder().name(\"encoder1\").nIn(30).nOut(10).build())\n",
    "    .layer(2, new LSTM.Builder().name(\"encoder2\").nIn(10).nOut(30).build())\n",
    "    .layer(3, new RnnOutputLayer.Builder().name(\"output\").nIn(30).nOut(28)\n",
    "           .activation(Activation.IDENTITY).lossFunction(LossFunctions.LossFunction.MSE).build()\n",
    "          )\n",
    "    .pretrain(false).backprop(true)\n",
    "    .build()\n",
    "    val net:MultiLayerNetwork = new MultiLayerNetwork(conf)\n",
    "    net.init()\n",
    "    net\n",
    "}"
   ]
  },
  {
   "cell_type": "code",
   "execution_count": 5,
   "metadata": {},
   "outputs": [
    {
     "data": {
      "text/plain": [
       "\u001b[32mimport \u001b[36morg.deeplearning4j.ui.api.Utils\u001b[0m\n",
       "\u001b[32mimport \u001b[36morg.nd4j.linalg.dataset.api.iterator.DataSetIterator\u001b[0m\n",
       "\u001b[32mimport \u001b[36morg.deeplearning4j.examples.unsupervised.anomalydetection.MnistIterator\u001b[0m\n",
       "\u001b[32mimport \u001b[36morg.deeplearning4j.examples.unsupervised.anomalydetection.MnistLoader\u001b[0m\n",
       "\u001b[32mimport \u001b[36morg.deeplearning4j.examples.unsupervised.anomalydetection.MnistIterator\u001b[0m\n",
       "\u001b[32mimport \u001b[36morg.nd4j.linalg.api.ndarray.INDArray\u001b[0m\n",
       "\u001b[32mimport \u001b[36morg.deeplearning4j.datasets.iterator.impl.MnistDataSetIterator\u001b[0m\n",
       "\u001b[32mimport \u001b[36mjava.util.Random\u001b[0m\n",
       "\u001b[32mimport \u001b[36mjava.util.ArrayList\u001b[0m"
      ]
     },
     "metadata": {},
     "output_type": "display_data"
    }
   ],
   "source": [
    "import org.deeplearning4j.ui.api.Utils\n",
    "import org.nd4j.linalg.dataset.api.iterator.DataSetIterator\n",
    "import org.deeplearning4j.examples.unsupervised.anomalydetection.MnistIterator\n",
    "import org.deeplearning4j.examples.unsupervised.anomalydetection.MnistLoader\n",
    "import org.deeplearning4j.examples.unsupervised.anomalydetection.MnistIterator\n",
    "import org.nd4j.linalg.api.ndarray.INDArray\n",
    "import org.deeplearning4j.datasets.iterator.impl.MnistDataSetIterator\n",
    "import java.util.Random\n",
    "import java.util.ArrayList"
   ]
  },
  {
   "cell_type": "code",
   "execution_count": 6,
   "metadata": {},
   "outputs": [
    {
     "data": {
      "text/plain": [
       "\u001b[36mfeaturesTrain\u001b[0m: java.util.ArrayList[org.nd4j.linalg.api.ndarray.INDArray] = []\n",
       "\u001b[36mfeaturesTest\u001b[0m: java.util.ArrayList[org.nd4j.linalg.api.ndarray.INDArray] = []\n",
       "\u001b[36mlabelsTest\u001b[0m: java.util.ArrayList[org.nd4j.linalg.api.ndarray.INDArray] = []\n",
       "\u001b[36mrand\u001b[0m: java.util.Random = java.util.Random@35c7c8d3"
      ]
     },
     "metadata": {},
     "output_type": "display_data"
    }
   ],
   "source": [
    "val featuresTrain = new ArrayList[INDArray]\n",
    "val featuresTest = new ArrayList[INDArray]\n",
    "val labelsTest = new ArrayList[INDArray]\n",
    "val rand = new Random(12345)"
   ]
  },
  {
   "cell_type": "code",
   "execution_count": 7,
   "metadata": {},
   "outputs": [
    {
     "name": "stdout",
     "output_type": "stream",
     "text": [
      "o.n.l.f.Nd4jBackend - Loaded [CpuBackend] backend\n",
      "o.n.n.NativeOpsHolder - Number of threads used for NativeOps: 2\n",
      "o.n.n.Nd4jBlas - Number of threads used for BLAS: 2\n",
      "o.n.l.a.o.e.DefaultOpExecutioner - Backend used: [CPU]; OS: [Mac OS X]\n",
      "o.n.l.a.o.e.DefaultOpExecutioner - Cores: [4]; Memory: [0.9GB];\n",
      "o.n.l.a.o.e.DefaultOpExecutioner - Blas vendor: [MKL]\n",
      "o.d.n.m.MultiLayerNetwork - Starting MultiLayerNetwork with WorkspaceModes set to [training: ENABLED; inference: ENABLED], cacheMode set to [NONE]\n"
     ]
    },
    {
     "data": {
      "text/plain": [
       "\u001b[36mnet\u001b[0m: org.deeplearning4j.nn.multilayer.MultiLayerNetwork = org.deeplearning4j.nn.multilayer.MultiLayerNetwork@1f8334a2\n",
       "\u001b[36miter\u001b[0m: org.deeplearning4j.datasets.iterator.impl.MnistDataSetIterator = org.deeplearning4j.datasets.iterator.impl.MnistDataSetIterator@1655df71"
      ]
     },
     "metadata": {},
     "output_type": "display_data"
    }
   ],
   "source": [
    "/* main function */\n",
    "val net = createModel2()\n",
    "net.setListeners(new org.deeplearning4j.optimize.listeners.ScoreIterationListener(10))\n",
    "val iter = new MnistDataSetIterator(100,5000,false)"
   ]
  },
  {
   "cell_type": "code",
   "execution_count": 8,
   "metadata": {},
   "outputs": [
    {
     "data": {
      "text/plain": []
     },
     "metadata": {},
     "output_type": "display_data"
    }
   ],
   "source": [
    "while (iter.hasNext()) {\n",
    "    val ds = iter.next;\n",
    "    val split = ds.splitTestAndTrain(80, rand)\n",
    "    featuresTrain.add(split.getTrain.getFeatures().reshape(80, 28, 28))\n",
    "    featuresTest.add(split.getTest.getFeatures.reshape(20, 28, 28))\n",
    "    labelsTest.add(split.getTest.getLabels.argMax(1))\n",
    "}"
   ]
  },
  {
   "cell_type": "code",
   "execution_count": 9,
   "metadata": {},
   "outputs": [
    {
     "name": "stdout",
     "output_type": "stream",
     "text": [
      "o.d.o.l.ScoreIterationListener - Score at iteration 0 is 6.724102584218065\n",
      "o.d.o.l.ScoreIterationListener - Score at iteration 10 is 3.4469664196607472\n",
      "o.d.o.l.ScoreIterationListener - Score at iteration 20 is 3.130182747159287\n",
      "o.d.o.l.ScoreIterationListener - Score at iteration 30 is 2.454385762962058\n",
      "o.d.o.l.ScoreIterationListener - Score at iteration 40 is 2.518729729360114\n",
      "Epoch 1 complete\n"
     ]
    },
    {
     "data": {
      "text/plain": [
       "\u001b[36mnEpochs\u001b[0m: Int = \u001b[32m1\u001b[0m"
      ]
     },
     "metadata": {},
     "output_type": "display_data"
    }
   ],
   "source": [
    "val nEpochs = 1\n",
    "(1 to nEpochs).foreach{ epoch =>  \n",
    "    for(data <- featuresTrain.toArray){\n",
    "        net.fit(data.asInstanceOf[INDArray],data.asInstanceOf[INDArray]);\n",
    "    }\n",
    "    println(\"Epoch \" + epoch + \" complete\");\n",
    "}"
   ]
  },
  {
   "cell_type": "code",
   "execution_count": 10,
   "metadata": {},
   "outputs": [
    {
     "data": {
      "text/plain": [
       "\u001b[32mimport \u001b[36mscala.collection.mutable.ListBuffer\u001b[0m\n",
       "\u001b[36mevalList\u001b[0m: collection.mutable.ListBuffer[(Double, org.nd4j.linalg.api.ndarray.INDArray)] = \u001b[33mListBuffer\u001b[0m()\n",
       "\u001b[36mtotalScore\u001b[0m: Double = \u001b[32m0.0\u001b[0m"
      ]
     },
     "metadata": {},
     "output_type": "display_data"
    }
   ],
   "source": [
    "import scala.collection.mutable.ListBuffer\n",
    "val evalList = ListBuffer[(Double, INDArray)]()\n",
    "var totalScore:Double = 0"
   ]
  },
  {
   "cell_type": "code",
   "execution_count": 11,
   "metadata": {
    "scrolled": true
   },
   "outputs": [
    {
     "name": "stdout",
     "output_type": "stream",
     "text": [
      "featuresTest 0 complete\n",
      "featuresTest 1 complete\n",
      "featuresTest 2 complete\n",
      "featuresTest 3 complete\n",
      "featuresTest 4 complete\n",
      "featuresTest 5 complete\n",
      "featuresTest 6 complete\n",
      "featuresTest 7 complete\n",
      "featuresTest 8 complete\n",
      "featuresTest 9 complete\n",
      "featuresTest 10 complete\n",
      "featuresTest 11 complete\n",
      "featuresTest 12 complete\n",
      "featuresTest 13 complete\n",
      "featuresTest 14 complete\n",
      "featuresTest 15 complete\n",
      "featuresTest 16 complete\n",
      "featuresTest 17 complete\n",
      "featuresTest 18 complete\n",
      "featuresTest 19 complete\n",
      "featuresTest 20 complete\n",
      "featuresTest 21 complete\n",
      "featuresTest 22 complete\n",
      "featuresTest 23 complete\n",
      "featuresTest 24 complete\n",
      "featuresTest 25 complete\n",
      "featuresTest 26 complete\n",
      "featuresTest 27 complete\n",
      "featuresTest 28 complete\n",
      "featuresTest 29 complete\n",
      "featuresTest 30 complete\n",
      "featuresTest 31 complete\n",
      "featuresTest 32 complete\n",
      "featuresTest 33 complete\n",
      "featuresTest 34 complete\n",
      "featuresTest 35 complete\n",
      "featuresTest 36 complete\n",
      "featuresTest 37 complete\n",
      "featuresTest 38 complete\n",
      "featuresTest 39 complete\n",
      "featuresTest 40 complete\n",
      "featuresTest 41 complete\n",
      "featuresTest 42 complete\n",
      "featuresTest 43 complete\n",
      "featuresTest 44 complete\n",
      "featuresTest 45 complete\n",
      "featuresTest 46 complete\n",
      "featuresTest 47 complete\n",
      "featuresTest 48 complete\n",
      "featuresTest 49 complete\n"
     ]
    },
    {
     "data": {
      "text/plain": [
       "\u001b[32mimport \u001b[36morg.nd4j.linalg.dataset.DataSet\u001b[0m"
      ]
     },
     "metadata": {},
     "output_type": "display_data"
    }
   ],
   "source": [
    "import org.nd4j.linalg.dataset.DataSet \n",
    "\n",
    "(0 until featuresTest.size).foreach( i => {\n",
    "    val testData = featuresTest.get(i)\n",
    "    val nRows = testData.shape()(0).asInstanceOf[Int]\n",
    "    (1 until nRows).foreach( j => {\n",
    "        val example = testData.getRow(j).reshape(1, 28, 28)\n",
    "        val score = net.score(new DataSet(example, example))\n",
    "        totalScore = totalScore + score\n",
    "        evalList.append((score, example))\n",
    "    })\n",
    "    println(\"featuresTest \" + i + \" complete\")\n",
    "})"
   ]
  },
  {
   "cell_type": "code",
   "execution_count": 12,
   "metadata": {
    "scrolled": true
   },
   "outputs": [
    {
     "data": {
      "text/plain": [
       "\u001b[36msortedEvalList\u001b[0m: collection.mutable.ListBuffer[(Double, org.nd4j.linalg.api.ndarray.INDArray)] = \u001b[33mListBuffer\u001b[0m(\n",
       "  \u001b[33m\u001b[0m(\n",
       "    \u001b[32m5.231053246153825\u001b[0m,\n",
       "    [[[         0,         0,         0,         0,         0,         0,         0,         0,         0,         0,         0,         0,         0,         0,         0,         0,         0,         0,         0,         0,         0,         0,         0,         0,         0,         0,         0,         0], \n",
       "  [         0,         0,         0,         0,         0,         0,         0,         0,         0,         0,         0,         0,         0,         0,         0,         0,         0,         0,         0,         0,         0,         0,         0,         0,         0,         0,         0,         0], \n",
       "  [         0,         0,         0,         0,         0,         0,         0,         0,         0,         0,         0,         0,         0,         0,         0,         0,         0,         0,         0,         0,         0,         0,         0,         0,         0,         0,         0,         0], \n",
       "  [         0,         0,         0,         0,         0,         0,         0,         0,         0,         0,         0,         0,         0,         0,         0,         0,         0,         0,         0,         0,         0,         0,         0,         0,         0,         0,         0,         0], \n",
       "  [         0,         0,         0,         0,         0,         0,         0,\u001b[33m...\u001b[0m"
      ]
     },
     "metadata": {},
     "output_type": "display_data"
    }
   ],
   "source": [
    "val sortedEvalList = evalList.sortWith(_._1 > _._1)"
   ]
  },
  {
   "cell_type": "code",
   "execution_count": 15,
   "metadata": {},
   "outputs": [
    {
     "data": {
      "text/plain": [
       "\u001b[32mimport \u001b[36morg.deeplearning4j.examples.unsupervised.anomalydetection.VisualizerUtil\u001b[0m"
      ]
     },
     "metadata": {},
     "output_type": "display_data"
    }
   ],
   "source": [
    "import org.deeplearning4j.examples.unsupervised.anomalydetection.VisualizerUtil"
   ]
  },
  {
   "cell_type": "code",
   "execution_count": 17,
   "metadata": {},
   "outputs": [
    {
     "data": {
      "text/plain": [
       "\u001b[36mnormalList\u001b[0m: collection.mutable.Buffer[org.nd4j.linalg.api.ndarray.INDArray] = \u001b[33mArrayBuffer\u001b[0m(\n",
       "  [[[         0,         0,         0,         0,         0,         0,         0,         0,         0,         0,         0,         0,         0,         0,         0,         0,         0,         0,         0,         0,         0,         0,         0,         0,         0,         0,         0,         0], \n",
       "  [         0,         0,         0,         0,         0,         0,         0,         0,         0,         0,         0,         0,         0,         0,         0,         0,         0,         0,         0,         0,         0,         0,         0,         0,         0,         0,         0,         0], \n",
       "  [         0,         0,         0,         0,         0,         0,         0,         0,         0,         0,         0,         0,         0,         0,         0,         0,         0,         0,         0,         0,         0,         0,         0,         0,         0,         0,         0,         0], \n",
       "  [         0,         0,         0,         0,         0,         0,         0,         0,         0,         0,         0,         0,         0,         0,         0,         0,         0,         0,         0,         0,         0,         0,         0,         0,         0,         0,         0,         0], \n",
       "  [         0,         0,         0,         0,         0,         0,         0,         0,         0,         0,         0,         0,         0,         0,    0.2353,    0.5882,    0.9961,    0.9961,    0.9961,    0.5216,    0.2157,      \u001b[33m...\u001b[0m"
      ]
     },
     "metadata": {},
     "output_type": "display_data"
    }
   ],
   "source": [
    "val normalList = (for (i <- 1 to 60 if i < sortedEvalList.size) yield sortedEvalList(i)._2).toBuffer"
   ]
  },
  {
   "cell_type": "code",
   "execution_count": 18,
   "metadata": {},
   "outputs": [
    {
     "data": {
      "text/plain": [
       "\u001b[32mimport \u001b[36mscala.collection.JavaConversions.bufferAsJavaList\u001b[0m\n",
       "\u001b[36mbestVisualizer\u001b[0m: org.deeplearning4j.examples.unsupervised.anomalydetection.VisualizerUtil = org.deeplearning4j.examples.unsupervised.anomalydetection.VisualizerUtil@59f7f77b"
      ]
     },
     "metadata": {},
     "output_type": "display_data"
    }
   ],
   "source": [
    "import scala.collection.JavaConversions.bufferAsJavaList\n",
    "\n",
    "val bestVisualizer = new VisualizerUtil(2.0, normalList, \"best (High Rec. Error)\")"
   ]
  },
  {
   "cell_type": "code",
   "execution_count": 19,
   "metadata": {},
   "outputs": [
    {
     "data": {
      "text/plain": []
     },
     "metadata": {},
     "output_type": "display_data"
    }
   ],
   "source": [
    "bestVisualizer.visualize"
   ]
  },
  {
   "cell_type": "code",
   "execution_count": 2,
   "metadata": {},
   "outputs": [
    {
     "name": "stdout",
     "output_type": "stream",
     "text": [
      "()\n"
     ]
    },
    {
     "data": {
      "text/plain": [
       "\u001b[36mx\u001b[0m: \u001b[32mInt\u001b[0m = \u001b[32m2\u001b[0m"
      ]
     },
     "metadata": {},
     "output_type": "display_data"
    }
   ],
   "source": [
    "val x = 2\n",
    "val $result = x match { case 2 => () }\n",
    "println($result)"
   ]
  },
  {
   "cell_type": "code",
   "execution_count": 4,
   "metadata": {},
   "outputs": [
    {
     "data": {
      "text/plain": [
       "\u001b[36ma\u001b[0m: \u001b[32mArray\u001b[0m[\u001b[32mInt\u001b[0m] = \u001b[33mArray\u001b[0m(\u001b[32m1\u001b[0m, \u001b[32m2\u001b[0m)"
      ]
     },
     "metadata": {},
     "output_type": "display_data"
    }
   ],
   "source": [
    "val a = Array(1, 2)"
   ]
  },
  {
   "cell_type": "code",
   "execution_count": null,
   "metadata": {},
   "outputs": [],
   "source": []
  },
  {
   "cell_type": "code",
   "execution_count": 36,
   "metadata": {},
   "outputs": [
    {
     "data": {
      "text/plain": [
       "defined \u001b[32mclass \u001b[36mItem\u001b[0m\n",
       "defined \u001b[32mclass \u001b[36mArticle\u001b[0m\n",
       "defined \u001b[32mclass \u001b[36mBundle\u001b[0m\n",
       "defined \u001b[32mclass \u001b[36mMultiple\u001b[0m"
      ]
     },
     "metadata": {},
     "output_type": "display_data"
    }
   ],
   "source": [
    "abstract class Item\n",
    "case class Article(description: String, price: Double) extends Item\n",
    "case class Bundle(description: String, discount: Double, items: Item*) extends Item\n",
    "case class Multiple(num: Int, item: Item) extends Item"
   ]
  },
  {
   "cell_type": "code",
   "execution_count": 45,
   "metadata": {},
   "outputs": [
    {
     "data": {
      "text/plain": [
       "\u001b[36ma\u001b[0m: \u001b[32mBundle\u001b[0m = Bundle(Father's day special,20.0,WrappedArray(Article(Scala for the Impatient,39.95), Bundle(Anchor Distillery Sampler,10.0,WrappedArray(Article(Old Potrero Straight Rye Whiskey,79.95), Article(Junípero Gin,32.95)))))\n",
       "\u001b[36mb\u001b[0m: \u001b[32mBundle\u001b[0m = Bundle(Father's day special,20.0,WrappedArray(Article(Scala for the Impatient,39.95), Bundle(Anchor Distillery Sampler,10.0,WrappedArray(Article(Old Potrero Straight Rye Whiskey,79.95), Article(Junípero Gin,32.95))), Multiple(10,Article(mardas,15.0))))"
      ]
     },
     "metadata": {},
     "output_type": "display_data"
    }
   ],
   "source": [
    "val a = Bundle(\"Father's day special\", 20.0,\n",
    "    Article(\"Scala for the Impatient\", 39.95),\n",
    "    Bundle(\"Anchor Distillery Sampler\", 10.0,\n",
    "        Article(\"Old Potrero Straight Rye Whiskey\", 79.95),\n",
    "        Article(\"Junípero Gin\", 32.95)))\n",
    "val b = Bundle(\"Father's day special\", 20.0,\n",
    "    Article(\"Scala for the Impatient\", 39.95),\n",
    "    Bundle(\"Anchor Distillery Sampler\", 10.0,\n",
    "        Article(\"Old Potrero Straight Rye Whiskey\", 79.95),\n",
    "        Article(\"Junípero Gin\", 32.95)), \n",
    "    Multiple(10, Article(\"mardas\", 15)))"
   ]
  },
  {
   "cell_type": "code",
   "execution_count": 43,
   "metadata": {},
   "outputs": [
    {
     "data": {
      "text/plain": [
       "defined \u001b[32mfunction \u001b[36mprice\u001b[0m"
      ]
     },
     "metadata": {},
     "output_type": "display_data"
    }
   ],
   "source": [
    "def price(it: Item): Double = it match {\n",
    "    case Article(_, p) => p\n",
    "    case Bundle(_, disc, its @ _*) => its.map(price _).sum - disc\n",
    "    case Multiple(n, item) => n * price(item)\n",
    "}"
   ]
  },
  {
   "cell_type": "code",
   "execution_count": 46,
   "metadata": {},
   "outputs": [
    {
     "data": {
      "text/plain": [
       "\u001b[36mres45\u001b[0m: \u001b[32mDouble\u001b[0m = \u001b[32m150.0\u001b[0m"
      ]
     },
     "metadata": {},
     "output_type": "display_data"
    }
   ],
   "source": [
    "price(b) - price(a)"
   ]
  },
  {
   "cell_type": "code",
   "execution_count": 30,
   "metadata": {},
   "outputs": [
    {
     "data": {
      "text/plain": [
       "\u001b[36ma\u001b[0m: (\u001b[32mInt\u001b[0m, \u001b[32mInt\u001b[0m) = \u001b[33m\u001b[0m(\u001b[32m1\u001b[0m, \u001b[32m2\u001b[0m)\n",
       "defined \u001b[32mfunction \u001b[36mswapPairs\u001b[0m\n",
       "defined \u001b[32mfunction \u001b[36mswapFirstPairsInArray\u001b[0m\n",
       "\u001b[36mres29_3\u001b[0m: (\u001b[32mInt\u001b[0m, \u001b[32mInt\u001b[0m) = \u001b[33m\u001b[0m(\u001b[32m2\u001b[0m, \u001b[32m1\u001b[0m)\n",
       "\u001b[36mres29_4\u001b[0m: \u001b[32mArray\u001b[0m[\u001b[32mInt\u001b[0m] = \u001b[33mArray\u001b[0m(\u001b[32m4\u001b[0m, \u001b[32m3\u001b[0m, \u001b[32m5\u001b[0m)"
      ]
     },
     "metadata": {},
     "output_type": "display_data"
    }
   ],
   "source": [
    "val a = (1, 2)\n",
    "def swapPairs(a: (Int, Int)) = {\n",
    "    a match { case (x, y) => (y, x) \n",
    "            }\n",
    "}\n",
    "def swapFirstPairsInArray(a: Array[Int]) = {\n",
    "    a match { case Array(x, y, rest @ _*) => Array(y, x) ++ rest\n",
    "            }\n",
    "}\n",
    "swapPairs(a)\n",
    "swapFirstPairsInArray(Array(3, 4, 5))"
   ]
  },
  {
   "cell_type": "code",
   "execution_count": 49,
   "metadata": {},
   "outputs": [
    {
     "data": {
      "text/plain": [
       "\u001b[36ma\u001b[0m: \u001b[32mList\u001b[0m[\u001b[32mAny\u001b[0m] = \u001b[33mList\u001b[0m(List(3, 8), 2, List(5))"
      ]
     },
     "metadata": {},
     "output_type": "display_data"
    }
   ],
   "source": [
    "var a = List(List(3, 8), 2, List(5))"
   ]
  },
  {
   "cell_type": "code",
   "execution_count": 52,
   "metadata": {},
   "outputs": [
    {
     "data": {
      "text/plain": [
       "defined \u001b[32mfunction \u001b[36msumList\u001b[0m"
      ]
     },
     "metadata": {},
     "output_type": "display_data"
    }
   ],
   "source": [
    "def sumList(a: Seq[Any]) : Int = {a match {\n",
    "    case List(x: Int, rest @_*) => x + sumList(rest)\n",
    "    case List(x: List[Any], rest @ _*) => sumList(x) + sumList(rest)\n",
    "    case _ => 0\n",
    "}}"
   ]
  },
  {
   "cell_type": "code",
   "execution_count": 53,
   "metadata": {},
   "outputs": [
    {
     "data": {
      "text/plain": [
       "\u001b[36mres52\u001b[0m: \u001b[32mInt\u001b[0m = \u001b[32m18\u001b[0m"
      ]
     },
     "metadata": {},
     "output_type": "display_data"
    }
   ],
   "source": [
    "sumList(a)"
   ]
  },
  {
   "cell_type": "code",
   "execution_count": 80,
   "metadata": {},
   "outputs": [
    {
     "data": {
      "text/plain": [
       "defined \u001b[32mclass \u001b[36mBinaryTree\u001b[0m\n",
       "defined \u001b[32mclass \u001b[36mLeaf\u001b[0m\n",
       "defined \u001b[32mclass \u001b[36mNode\u001b[0m"
      ]
     },
     "metadata": {},
     "output_type": "display_data"
    }
   ],
   "source": [
    "sealed abstract class BinaryTree\n",
    "case class Leaf(value: Int) extends BinaryTree\n",
    "case class Node(fun: (Int*) => Int, children: BinaryTree*) extends BinaryTree"
   ]
  },
  {
   "cell_type": "code",
   "execution_count": 240,
   "metadata": {},
   "outputs": [
    {
     "data": {
      "text/plain": [
       "defined \u001b[32mfunction \u001b[36msumBinTree\u001b[0m"
      ]
     },
     "metadata": {},
     "output_type": "display_data"
    }
   ],
   "source": [
    "def sumBinTree(a: BinaryTree): Int = {a match {\n",
    "    case Node(op, x, rest @ _*) =>  sumBinTree(x) + sumBinTree(Node(op, rest : _*))\n",
    "    case Leaf(x) => x\n",
    "    case Node(op) => 0\n",
    "}\n",
    "}"
   ]
  },
  {
   "cell_type": "code",
   "execution_count": 241,
   "metadata": {},
   "outputs": [
    {
     "data": {
      "text/plain": [
       "defined \u001b[32mfunction \u001b[36madd\u001b[0m\n",
       "defined \u001b[32mfunction \u001b[36mmul\u001b[0m\n",
       "defined \u001b[32mfunction \u001b[36msub\u001b[0m\n",
       "\u001b[36ma\u001b[0m: \u001b[32mNode\u001b[0m = Node(<function1>,WrappedArray(Node(<function1>,WrappedArray(Leaf(3), Leaf(8))), Leaf(2), Node(<function1>,WrappedArray(Leaf(5)))))"
      ]
     },
     "metadata": {},
     "output_type": "display_data"
    }
   ],
   "source": [
    "def add(a: Int*) = a.foldLeft(0)((x, y) => {println(s\"$x + $y\"); x + y})\n",
    "def mul(a: Int*) = a.foldLeft(1)((x, y) => {println(s\"$x * $y\"); x * y}) \n",
    "def sub(a: Int*) = a.foldLeft(0)((x, y) => {println(s\"$x - $y\"); x - y})\n",
    "val a = Node(add, Node(mul, Leaf(3), Leaf(8)), Leaf(2), Node(sub, Leaf(5)))"
   ]
  },
  {
   "cell_type": "code",
   "execution_count": 242,
   "metadata": {},
   "outputs": [
    {
     "data": {
      "text/plain": [
       "\u001b[36mres241\u001b[0m: \u001b[32mInt\u001b[0m = \u001b[32m18\u001b[0m"
      ]
     },
     "metadata": {},
     "output_type": "display_data"
    }
   ],
   "source": [
    "sumBinTree(a)"
   ]
  },
  {
   "cell_type": "code",
   "execution_count": 134,
   "metadata": {},
   "outputs": [
    {
     "data": {
      "text/plain": [
       "defined \u001b[32mfunction \u001b[36mevalBinTree\u001b[0m"
      ]
     },
     "metadata": {},
     "output_type": "display_data"
    }
   ],
   "source": [
    "def evalBinTree(a: BinaryTree): Int = {a match {\n",
    "    case Leaf(x) => {x}\n",
    "    case Node(op, x, rest @ _*) => {\n",
    "        val a = op(evalBinTree(x), evalBinTree(Node(op, rest : _*)))\n",
    "        //println(f\"x = ${x}, rest=${rest}, op_result=${a}\")\n",
    "        a\n",
    "    }\n",
    "    case Node(op) => op()\n",
    "    }\n",
    "}"
   ]
  },
  {
   "cell_type": "code",
   "execution_count": 135,
   "metadata": {},
   "outputs": [
    {
     "name": "stdout",
     "output_type": "stream",
     "text": [
      "1 * 8\n",
      "8 * 1\n",
      "1 * 3\n",
      "3 * 8\n",
      "0 - 5\n",
      "-5 - 0\n",
      "0 + -5\n",
      "-5 + 0\n",
      "0 + 2\n",
      "2 + -5\n",
      "0 + 24\n",
      "24 + -3\n"
     ]
    },
    {
     "data": {
      "text/plain": [
       "\u001b[36mres134\u001b[0m: \u001b[32mInt\u001b[0m = \u001b[32m21\u001b[0m"
      ]
     },
     "metadata": {},
     "output_type": "display_data"
    }
   ],
   "source": [
    "evalBinTree(a)"
   ]
  },
  {
   "cell_type": "code",
   "execution_count": 226,
   "metadata": {},
   "outputs": [
    {
     "data": {
      "text/plain": [
       "defined \u001b[32mfunction \u001b[36mf\u001b[0m\n",
       "defined \u001b[32mfunction \u001b[36mg\u001b[0m\n",
       "defined \u001b[32mfunction \u001b[36mcompose\u001b[0m"
      ]
     },
     "metadata": {},
     "output_type": "display_data"
    }
   ],
   "source": [
    "def f(x: Double) = if (x != 1) Some(1 / (x - 1)) else None\n",
    "def g(x: Double) = if (x >= 0) Some(math.sqrt(x)) else None\n",
    "def compose(f: Double => Option[Double], g: Double => Option[Double]) = {\n",
    "    (x: Double) => {\n",
    "        f(x) match {\n",
    "            case Some(y) => g(y)\n",
    "            case None => None\n",
    "        }\n",
    "    }\n",
    "}\n",
    "//val h = compose(g, f) // h(x) should be g(f(x))"
   ]
  },
  {
   "cell_type": "code",
   "execution_count": 227,
   "metadata": {},
   "outputs": [
    {
     "data": {
      "text/plain": [
       "\u001b[36mh\u001b[0m: \u001b[32mDouble\u001b[0m => \u001b[32mOption\u001b[0m[\u001b[32mDouble\u001b[0m] = <function1>"
      ]
     },
     "metadata": {},
     "output_type": "display_data"
    }
   ],
   "source": [
    "val h = compose(f, g)"
   ]
  },
  {
   "cell_type": "code",
   "execution_count": 229,
   "metadata": {},
   "outputs": [
    {
     "data": {
      "text/plain": [
       "\u001b[36mres228_0\u001b[0m: \u001b[32mOption\u001b[0m[\u001b[32mDouble\u001b[0m] = None\n",
       "\u001b[36mres228_1\u001b[0m: \u001b[32mOption\u001b[0m[\u001b[32mDouble\u001b[0m] = None\n",
       "\u001b[36mres228_2\u001b[0m: \u001b[32mDouble\u001b[0m = \u001b[32m1.0\u001b[0m"
      ]
     },
     "metadata": {},
     "output_type": "display_data"
    }
   ],
   "source": [
    "h(0)\n",
    "h(1)\n",
    "h(2).get"
   ]
  },
  {
   "cell_type": "code",
   "execution_count": 154,
   "metadata": {},
   "outputs": [
    {
     "data": {
      "text/plain": [
       "\u001b[36mff\u001b[0m: \u001b[32mDouble\u001b[0m => \u001b[32mOption\u001b[0m[\u001b[32mDouble\u001b[0m] = <function1>"
      ]
     },
     "metadata": {},
     "output_type": "display_data"
    }
   ],
   "source": [
    "var ff = f _ "
   ]
  },
  {
   "cell_type": "code",
   "execution_count": 232,
   "metadata": {},
   "outputs": [
    {
     "data": {
      "text/plain": [
       "\u001b[36ma\u001b[0m: \u001b[32mList\u001b[0m[\u001b[32mOption\u001b[0m[\u001b[32mInt\u001b[0m]] = \u001b[33mList\u001b[0m(None, \u001b[33mSome\u001b[0m(\u001b[32m2\u001b[0m), None, \u001b[33mSome\u001b[0m(\u001b[32m4\u001b[0m), None, \u001b[33mSome\u001b[0m(\u001b[32m6\u001b[0m), None, \u001b[33mSome\u001b[0m(\u001b[32m8\u001b[0m), None, \u001b[33mSome\u001b[0m(\u001b[32m10\u001b[0m))"
      ]
     },
     "metadata": {},
     "output_type": "display_data"
    }
   ],
   "source": [
    "val a = (1 to 10).map(x => if (x%2==0) Some(x) else None).toList"
   ]
  },
  {
   "cell_type": "code",
   "execution_count": 233,
   "metadata": {},
   "outputs": [
    {
     "data": {
      "text/plain": [
       "\u001b[36mres232\u001b[0m: \u001b[32mInt\u001b[0m = \u001b[32m30\u001b[0m"
      ]
     },
     "metadata": {},
     "output_type": "display_data"
    }
   ],
   "source": [
    "a.map(_.getOrElse(0)).sum"
   ]
  },
  {
   "cell_type": "code",
   "execution_count": null,
   "metadata": {},
   "outputs": [],
   "source": []
  }
 ],
 "metadata": {
  "kernelspec": {
   "display_name": "Scala 2.11",
   "language": "scala211",
   "name": "scala211"
  },
  "language_info": {
   "codemirror_mode": "text/x-scala",
   "file_extension": ".scala",
   "mimetype": "text/x-scala",
   "name": "scala211",
   "pygments_lexer": "scala",
   "version": "2.11.7"
  }
 },
 "nbformat": 4,
 "nbformat_minor": 2
}
