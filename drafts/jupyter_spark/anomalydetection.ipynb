{
 "cells": [
  {
   "cell_type": "code",
   "execution_count": 1,
   "metadata": {},
   "outputs": [
    {
     "data": {
      "text/plain": []
     },
     "metadata": {},
     "output_type": "display_data"
    }
   ],
   "source": [
    "classpath.addPath(System.getProperty(\"user.home\") + \"/git/dl4j-examples/dl4j-examples/target/classes\")"
   ]
  },
  {
   "cell_type": "code",
   "execution_count": null,
   "metadata": {
    "scrolled": true
   },
   "outputs": [
    {
     "name": "stdout",
     "output_type": "stream",
     "text": [
      "Added 3.36%\n",
      "Added 6.71%\n",
      "Added 10.07%\n",
      "Added 13.42%\n",
      "Added 16.78%\n",
      "Added 20.13%\n",
      "Added 23.49%\n",
      "Added 26.85%\n",
      "Added 30.20%\n",
      "Added 33.56%\n",
      "Added 36.91%\n",
      "Added 40.27%\n",
      "Added 43.62%\n",
      "Added 46.98%\n",
      "Added 50.34%\n",
      "Added 53.69%\n",
      "Added 57.05%\n",
      "Added 60.40%\n",
      "Added 63.76%\n",
      "Added 67.11%\n",
      "Added 70.47%\n",
      "Added 73.83%\n",
      "Added 77.18%\n"
     ]
    }
   ],
   "source": [
    "import java.io.File\n",
    "val f:File = new File(System.getProperty(\"user.home\") + \"/git/dl4j-examples/dl4j-examples/target/dependency\")\n",
    "val n = f.listFiles.size\n",
    "var i = 0\n",
    "f.listFiles.foreach((f: File) => { \n",
    "    if (f.toString.endsWith(\"jar\")) {\n",
    "        i += 1\n",
    "        if (i%10==0) println(f\"Added ${i.toDouble / n * 100}%4.2f%%\")\n",
    "        classpath.addPath(f.toString)\n",
    "    }\n",
    "})"
   ]
  },
  {
   "cell_type": "code",
   "execution_count": 3,
   "metadata": {},
   "outputs": [
    {
     "data": {
      "text/plain": [
       "\u001b[32mimport \u001b[36morg.deeplearning4j.nn.multilayer.MultiLayerNetwork\u001b[0m\n",
       "\u001b[32mimport \u001b[36morg.deeplearning4j.nn.conf.MultiLayerConfiguration\u001b[0m\n",
       "\u001b[32mimport \u001b[36morg.deeplearning4j.nn.conf.NeuralNetConfiguration\u001b[0m\n",
       "\u001b[32mimport \u001b[36morg.deeplearning4j.nn.weights.WeightInit\u001b[0m\n",
       "\u001b[32mimport \u001b[36morg.nd4j.linalg.learning.config.Adam\u001b[0m\n",
       "\u001b[32mimport \u001b[36morg.deeplearning4j.nn.conf.layers.LSTM\u001b[0m\n",
       "\u001b[32mimport \u001b[36morg.nd4j.linalg.activations.Activation\u001b[0m\n",
       "\u001b[32mimport \u001b[36morg.nd4j.linalg.lossfunctions.LossFunctions\u001b[0m\n",
       "\u001b[32mimport \u001b[36morg.deeplearning4j.nn.conf.layers.RnnOutputLayer\u001b[0m\n",
       "defined \u001b[32mfunction \u001b[36mcreateModel\u001b[0m"
      ]
     },
     "metadata": {},
     "output_type": "display_data"
    }
   ],
   "source": [
    "import org.deeplearning4j.nn.multilayer.MultiLayerNetwork\n",
    "import org.deeplearning4j.nn.conf.MultiLayerConfiguration\n",
    "import org.deeplearning4j.nn.conf.NeuralNetConfiguration\n",
    "import org.deeplearning4j.nn.weights.WeightInit\n",
    "import org.nd4j.linalg.learning.config.Adam\n",
    "import org.deeplearning4j.nn.conf.layers.LSTM\n",
    "import org.nd4j.linalg.activations.Activation\n",
    "import org.nd4j.linalg.lossfunctions.LossFunctions\n",
    "import org.deeplearning4j.nn.conf.layers.RnnOutputLayer\n",
    "def createModel(): MultiLayerNetwork = {\n",
    "    val conf: MultiLayerConfiguration = new  NeuralNetConfiguration.Builder()\n",
    "    .seed(123456)\n",
    "    .optimizationAlgo(org.deeplearning4j.nn.api.OptimizationAlgorithm.STOCHASTIC_GRADIENT_DESCENT)\n",
    "    .updater(new Adam(2e-3))\n",
    "    .l2(1e-5)\n",
    "    .weightInit(WeightInit.XAVIER)\n",
    "    .list()\n",
    "    .layer(0, new LSTM.Builder().name(\"encoder0\").nIn(784).nOut(800).build())\n",
    "    .layer(1, new LSTM.Builder().name(\"encoder1\").nIn(800).nOut(250).build())\n",
    "    .layer(2, new LSTM.Builder().name(\"encoder2\").nIn(250).nOut(10).build())\n",
    "    .layer(3, new LSTM.Builder().name(\"encoder3\").nIn(10).nOut(250).build())\n",
    "    .layer(4, new LSTM.Builder().name(\"encoder4\").nIn(250).nOut(800).build())\n",
    "    .layer(5, new RnnOutputLayer.Builder().name(\"output\").nIn(800).nOut(784)\n",
    "           .activation(Activation.IDENTITY).lossFunction(LossFunctions.LossFunction.MSE).build()\n",
    "          )\n",
    "    .pretrain(false).backprop(true)\n",
    "    .build()\n",
    "    val net:MultiLayerNetwork = new MultiLayerNetwork(conf)\n",
    "    net.init()\n",
    "    net\n",
    "}"
   ]
  },
  {
   "cell_type": "code",
   "execution_count": 4,
   "metadata": {},
   "outputs": [
    {
     "data": {
      "text/plain": [
       "defined \u001b[32mfunction \u001b[36mcreateModel2\u001b[0m"
      ]
     },
     "metadata": {},
     "output_type": "display_data"
    }
   ],
   "source": [
    "def createModel2(): MultiLayerNetwork = {\n",
    "    val conf: MultiLayerConfiguration = new  NeuralNetConfiguration.Builder()\n",
    "    .seed(123456)\n",
    "    .optimizationAlgo(org.deeplearning4j.nn.api.OptimizationAlgorithm.STOCHASTIC_GRADIENT_DESCENT)\n",
    "    .updater(new Adam(2e-3))\n",
    "    .l2(1e-5)\n",
    "    .weightInit(WeightInit.XAVIER)\n",
    "    .list()\n",
    "    .layer(0, new LSTM.Builder().name(\"encoder0\").nIn(28).nOut(30).build())\n",
    "    .layer(1, new LSTM.Builder().name(\"encoder1\").nIn(30).nOut(10).build())\n",
    "    .layer(2, new LSTM.Builder().name(\"encoder2\").nIn(10).nOut(30).build())\n",
    "    .layer(3, new RnnOutputLayer.Builder().name(\"output\").nIn(30).nOut(28)\n",
    "           .activation(Activation.IDENTITY).lossFunction(LossFunctions.LossFunction.MSE).build()\n",
    "          )\n",
    "    .pretrain(false).backprop(true)\n",
    "    .build()\n",
    "    val net:MultiLayerNetwork = new MultiLayerNetwork(conf)\n",
    "    net.init()\n",
    "    net\n",
    "}"
   ]
  },
  {
   "cell_type": "code",
   "execution_count": 5,
   "metadata": {},
   "outputs": [
    {
     "data": {
      "text/plain": [
       "\u001b[32mimport \u001b[36morg.deeplearning4j.ui.api.Utils\u001b[0m\n",
       "\u001b[32mimport \u001b[36morg.nd4j.linalg.dataset.api.iterator.DataSetIterator\u001b[0m\n",
       "\u001b[32mimport \u001b[36morg.deeplearning4j.examples.unsupervised.anomalydetection.MnistIterator\u001b[0m\n",
       "\u001b[32mimport \u001b[36morg.deeplearning4j.examples.unsupervised.anomalydetection.MnistLoader\u001b[0m\n",
       "\u001b[32mimport \u001b[36morg.deeplearning4j.examples.unsupervised.anomalydetection.MnistIterator\u001b[0m\n",
       "\u001b[32mimport \u001b[36morg.nd4j.linalg.api.ndarray.INDArray\u001b[0m\n",
       "\u001b[32mimport \u001b[36morg.deeplearning4j.datasets.iterator.impl.MnistDataSetIterator\u001b[0m\n",
       "\u001b[32mimport \u001b[36mjava.util.Random\u001b[0m\n",
       "\u001b[32mimport \u001b[36mjava.util.ArrayList\u001b[0m"
      ]
     },
     "metadata": {},
     "output_type": "display_data"
    }
   ],
   "source": [
    "import org.deeplearning4j.ui.api.Utils\n",
    "import org.nd4j.linalg.dataset.api.iterator.DataSetIterator\n",
    "import org.deeplearning4j.examples.unsupervised.anomalydetection.MnistIterator\n",
    "import org.deeplearning4j.examples.unsupervised.anomalydetection.MnistLoader\n",
    "import org.deeplearning4j.examples.unsupervised.anomalydetection.MnistIterator\n",
    "import org.nd4j.linalg.api.ndarray.INDArray\n",
    "import org.deeplearning4j.datasets.iterator.impl.MnistDataSetIterator\n",
    "import java.util.Random\n",
    "import java.util.ArrayList"
   ]
  },
  {
   "cell_type": "code",
   "execution_count": 6,
   "metadata": {},
   "outputs": [
    {
     "data": {
      "text/plain": [
       "\u001b[36mfeaturesTrain\u001b[0m: java.util.ArrayList[org.nd4j.linalg.api.ndarray.INDArray] = []\n",
       "\u001b[36mfeaturesTest\u001b[0m: java.util.ArrayList[org.nd4j.linalg.api.ndarray.INDArray] = []\n",
       "\u001b[36mlabelsTest\u001b[0m: java.util.ArrayList[org.nd4j.linalg.api.ndarray.INDArray] = []\n",
       "\u001b[36mrand\u001b[0m: java.util.Random = java.util.Random@35c7c8d3"
      ]
     },
     "metadata": {},
     "output_type": "display_data"
    }
   ],
   "source": [
    "val featuresTrain = new ArrayList[INDArray]\n",
    "val featuresTest = new ArrayList[INDArray]\n",
    "val labelsTest = new ArrayList[INDArray]\n",
    "val rand = new Random(12345)"
   ]
  },
  {
   "cell_type": "code",
   "execution_count": 7,
   "metadata": {},
   "outputs": [
    {
     "name": "stdout",
     "output_type": "stream",
     "text": [
      "o.n.l.f.Nd4jBackend - Loaded [CpuBackend] backend\n",
      "o.n.n.NativeOpsHolder - Number of threads used for NativeOps: 2\n",
      "o.n.n.Nd4jBlas - Number of threads used for BLAS: 2\n",
      "o.n.l.a.o.e.DefaultOpExecutioner - Backend used: [CPU]; OS: [Mac OS X]\n",
      "o.n.l.a.o.e.DefaultOpExecutioner - Cores: [4]; Memory: [0.9GB];\n",
      "o.n.l.a.o.e.DefaultOpExecutioner - Blas vendor: [MKL]\n",
      "o.d.n.m.MultiLayerNetwork - Starting MultiLayerNetwork with WorkspaceModes set to [training: ENABLED; inference: ENABLED], cacheMode set to [NONE]\n"
     ]
    },
    {
     "data": {
      "text/plain": [
       "\u001b[36mnet\u001b[0m: org.deeplearning4j.nn.multilayer.MultiLayerNetwork = org.deeplearning4j.nn.multilayer.MultiLayerNetwork@1f8334a2\n",
       "\u001b[36miter\u001b[0m: org.deeplearning4j.datasets.iterator.impl.MnistDataSetIterator = org.deeplearning4j.datasets.iterator.impl.MnistDataSetIterator@1655df71"
      ]
     },
     "metadata": {},
     "output_type": "display_data"
    }
   ],
   "source": [
    "/* main function */\n",
    "val net = createModel2()\n",
    "net.setListeners(new org.deeplearning4j.optimize.listeners.ScoreIterationListener(10))\n",
    "val iter = new MnistDataSetIterator(100,5000,false)"
   ]
  },
  {
   "cell_type": "code",
   "execution_count": 8,
   "metadata": {},
   "outputs": [
    {
     "data": {
      "text/plain": []
     },
     "metadata": {},
     "output_type": "display_data"
    }
   ],
   "source": [
    "while (iter.hasNext()) {\n",
    "    val ds = iter.next;\n",
    "    val split = ds.splitTestAndTrain(80, rand)\n",
    "    featuresTrain.add(split.getTrain.getFeatures().reshape(80, 28, 28))\n",
    "    featuresTest.add(split.getTest.getFeatures.reshape(20, 28, 28))\n",
    "    labelsTest.add(split.getTest.getLabels.argMax(1))\n",
    "}"
   ]
  },
  {
   "cell_type": "code",
   "execution_count": 9,
   "metadata": {},
   "outputs": [
    {
     "name": "stdout",
     "output_type": "stream",
     "text": [
      "o.d.o.l.ScoreIterationListener - Score at iteration 0 is 6.724102584218065\n",
      "o.d.o.l.ScoreIterationListener - Score at iteration 10 is 3.4469664196607472\n",
      "o.d.o.l.ScoreIterationListener - Score at iteration 20 is 3.130182747159287\n",
      "o.d.o.l.ScoreIterationListener - Score at iteration 30 is 2.454385762962058\n",
      "o.d.o.l.ScoreIterationListener - Score at iteration 40 is 2.518729729360114\n",
      "Epoch 1 complete\n"
     ]
    },
    {
     "data": {
      "text/plain": [
       "\u001b[36mnEpochs\u001b[0m: Int = \u001b[32m1\u001b[0m"
      ]
     },
     "metadata": {},
     "output_type": "display_data"
    }
   ],
   "source": [
    "val nEpochs = 1\n",
    "(1 to nEpochs).foreach{ epoch =>  \n",
    "    for(data <- featuresTrain.toArray){\n",
    "        net.fit(data.asInstanceOf[INDArray],data.asInstanceOf[INDArray]);\n",
    "    }\n",
    "    println(\"Epoch \" + epoch + \" complete\");\n",
    "}"
   ]
  },
  {
   "cell_type": "code",
   "execution_count": 10,
   "metadata": {},
   "outputs": [
    {
     "data": {
      "text/plain": [
       "\u001b[32mimport \u001b[36mscala.collection.mutable.ListBuffer\u001b[0m\n",
       "\u001b[36mevalList\u001b[0m: collection.mutable.ListBuffer[(Double, org.nd4j.linalg.api.ndarray.INDArray)] = \u001b[33mListBuffer\u001b[0m()\n",
       "\u001b[36mtotalScore\u001b[0m: Double = \u001b[32m0.0\u001b[0m"
      ]
     },
     "metadata": {},
     "output_type": "display_data"
    }
   ],
   "source": [
    "import scala.collection.mutable.ListBuffer\n",
    "val evalList = ListBuffer[(Double, INDArray)]()\n",
    "var totalScore:Double = 0"
   ]
  },
  {
   "cell_type": "code",
   "execution_count": 11,
   "metadata": {
    "scrolled": true
   },
   "outputs": [
    {
     "name": "stdout",
     "output_type": "stream",
     "text": [
      "featuresTest 0 complete\n",
      "featuresTest 1 complete\n",
      "featuresTest 2 complete\n",
      "featuresTest 3 complete\n",
      "featuresTest 4 complete\n",
      "featuresTest 5 complete\n",
      "featuresTest 6 complete\n",
      "featuresTest 7 complete\n",
      "featuresTest 8 complete\n",
      "featuresTest 9 complete\n",
      "featuresTest 10 complete\n",
      "featuresTest 11 complete\n",
      "featuresTest 12 complete\n",
      "featuresTest 13 complete\n",
      "featuresTest 14 complete\n",
      "featuresTest 15 complete\n",
      "featuresTest 16 complete\n",
      "featuresTest 17 complete\n",
      "featuresTest 18 complete\n",
      "featuresTest 19 complete\n",
      "featuresTest 20 complete\n",
      "featuresTest 21 complete\n",
      "featuresTest 22 complete\n",
      "featuresTest 23 complete\n",
      "featuresTest 24 complete\n",
      "featuresTest 25 complete\n",
      "featuresTest 26 complete\n",
      "featuresTest 27 complete\n",
      "featuresTest 28 complete\n",
      "featuresTest 29 complete\n",
      "featuresTest 30 complete\n",
      "featuresTest 31 complete\n",
      "featuresTest 32 complete\n",
      "featuresTest 33 complete\n",
      "featuresTest 34 complete\n",
      "featuresTest 35 complete\n",
      "featuresTest 36 complete\n",
      "featuresTest 37 complete\n",
      "featuresTest 38 complete\n",
      "featuresTest 39 complete\n",
      "featuresTest 40 complete\n",
      "featuresTest 41 complete\n",
      "featuresTest 42 complete\n",
      "featuresTest 43 complete\n",
      "featuresTest 44 complete\n",
      "featuresTest 45 complete\n",
      "featuresTest 46 complete\n",
      "featuresTest 47 complete\n",
      "featuresTest 48 complete\n",
      "featuresTest 49 complete\n"
     ]
    },
    {
     "data": {
      "text/plain": [
       "\u001b[32mimport \u001b[36morg.nd4j.linalg.dataset.DataSet\u001b[0m"
      ]
     },
     "metadata": {},
     "output_type": "display_data"
    }
   ],
   "source": [
    "import org.nd4j.linalg.dataset.DataSet \n",
    "\n",
    "(0 until featuresTest.size).foreach( i => {\n",
    "    val testData = featuresTest.get(i)\n",
    "    val nRows = testData.shape()(0).asInstanceOf[Int]\n",
    "    (1 until nRows).foreach( j => {\n",
    "        val example = testData.getRow(j).reshape(1, 28, 28)\n",
    "        val score = net.score(new DataSet(example, example))\n",
    "        totalScore = totalScore + score\n",
    "        evalList.append((score, example))\n",
    "    })\n",
    "    println(\"featuresTest \" + i + \" complete\")\n",
    "})"
   ]
  },
  {
   "cell_type": "code",
   "execution_count": 12,
   "metadata": {
    "scrolled": true
   },
   "outputs": [
    {
     "data": {
      "text/plain": [
       "\u001b[36msortedEvalList\u001b[0m: collection.mutable.ListBuffer[(Double, org.nd4j.linalg.api.ndarray.INDArray)] = \u001b[33mListBuffer\u001b[0m(\n",
       "  \u001b[33m\u001b[0m(\n",
       "    \u001b[32m5.231053246153825\u001b[0m,\n",
       "    [[[         0,         0,         0,         0,         0,         0,         0,         0,         0,         0,         0,         0,         0,         0,         0,         0,         0,         0,         0,         0,         0,         0,         0,         0,         0,         0,         0,         0], \n",
       "  [         0,         0,         0,         0,         0,         0,         0,         0,         0,         0,         0,         0,         0,         0,         0,         0,         0,         0,         0,         0,         0,         0,         0,         0,         0,         0,         0,         0], \n",
       "  [         0,         0,         0,         0,         0,         0,         0,         0,         0,         0,         0,         0,         0,         0,         0,         0,         0,         0,         0,         0,         0,         0,         0,         0,         0,         0,         0,         0], \n",
       "  [         0,         0,         0,         0,         0,         0,         0,         0,         0,         0,         0,         0,         0,         0,         0,         0,         0,         0,         0,         0,         0,         0,         0,         0,         0,         0,         0,         0], \n",
       "  [         0,         0,         0,         0,         0,         0,         0,\u001b[33m...\u001b[0m"
      ]
     },
     "metadata": {},
     "output_type": "display_data"
    }
   ],
   "source": [
    "val sortedEvalList = evalList.sortWith(_._1 > _._1)"
   ]
  },
  {
   "cell_type": "code",
   "execution_count": 15,
   "metadata": {},
   "outputs": [
    {
     "data": {
      "text/plain": [
       "\u001b[32mimport \u001b[36morg.deeplearning4j.examples.unsupervised.anomalydetection.VisualizerUtil\u001b[0m"
      ]
     },
     "metadata": {},
     "output_type": "display_data"
    }
   ],
   "source": [
    "import org.deeplearning4j.examples.unsupervised.anomalydetection.VisualizerUtil"
   ]
  },
  {
   "cell_type": "code",
   "execution_count": 17,
   "metadata": {},
   "outputs": [
    {
     "data": {
      "text/plain": [
       "\u001b[36mnormalList\u001b[0m: collection.mutable.Buffer[org.nd4j.linalg.api.ndarray.INDArray] = \u001b[33mArrayBuffer\u001b[0m(\n",
       "  [[[         0,         0,         0,         0,         0,         0,         0,         0,         0,         0,         0,         0,         0,         0,         0,         0,         0,         0,         0,         0,         0,         0,         0,         0,         0,         0,         0,         0], \n",
       "  [         0,         0,         0,         0,         0,         0,         0,         0,         0,         0,         0,         0,         0,         0,         0,         0,         0,         0,         0,         0,         0,         0,         0,         0,         0,         0,         0,         0], \n",
       "  [         0,         0,         0,         0,         0,         0,         0,         0,         0,         0,         0,         0,         0,         0,         0,         0,         0,         0,         0,         0,         0,         0,         0,         0,         0,         0,         0,         0], \n",
       "  [         0,         0,         0,         0,         0,         0,         0,         0,         0,         0,         0,         0,         0,         0,         0,         0,         0,         0,         0,         0,         0,         0,         0,         0,         0,         0,         0,         0], \n",
       "  [         0,         0,         0,         0,         0,         0,         0,         0,         0,         0,         0,         0,         0,         0,    0.2353,    0.5882,    0.9961,    0.9961,    0.9961,    0.5216,    0.2157,      \u001b[33m...\u001b[0m"
      ]
     },
     "metadata": {},
     "output_type": "display_data"
    }
   ],
   "source": [
    "val normalList = (for (i <- 1 to 60 if i < sortedEvalList.size) yield sortedEvalList(i)._2).toBuffer"
   ]
  },
  {
   "cell_type": "code",
   "execution_count": 18,
   "metadata": {},
   "outputs": [
    {
     "data": {
      "text/plain": [
       "\u001b[32mimport \u001b[36mscala.collection.JavaConversions.bufferAsJavaList\u001b[0m\n",
       "\u001b[36mbestVisualizer\u001b[0m: org.deeplearning4j.examples.unsupervised.anomalydetection.VisualizerUtil = org.deeplearning4j.examples.unsupervised.anomalydetection.VisualizerUtil@59f7f77b"
      ]
     },
     "metadata": {},
     "output_type": "display_data"
    }
   ],
   "source": [
    "import scala.collection.JavaConversions.bufferAsJavaList\n",
    "\n",
    "val bestVisualizer = new VisualizerUtil(2.0, normalList, \"best (High Rec. Error)\")"
   ]
  },
  {
   "cell_type": "code",
   "execution_count": 19,
   "metadata": {},
   "outputs": [
    {
     "data": {
      "text/plain": []
     },
     "metadata": {},
     "output_type": "display_data"
    }
   ],
   "source": [
    "bestVisualizer.visualize"
   ]
  },
  {
   "cell_type": "code",
   "execution_count": null,
   "metadata": {},
   "outputs": [],
   "source": []
  }
 ],
 "metadata": {
  "kernelspec": {
   "display_name": "Scala 2.10",
   "language": "scala210",
   "name": "scala210"
  },
  "language_info": {
   "codemirror_mode": "text/x-scala",
   "file_extension": ".scala",
   "mimetype": "text/x-scala",
   "name": "scala210",
   "pygments_lexer": "scala",
   "version": "2.10.6"
  }
 },
 "nbformat": 4,
 "nbformat_minor": 2
}
