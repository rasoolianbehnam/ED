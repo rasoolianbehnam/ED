{
 "cells": [
  {
   "cell_type": "code",
   "execution_count": 1,
   "metadata": {
    "scrolled": true
   },
   "outputs": [
    {
     "data": {
      "text/plain": [
       "\u001b[32mimport \u001b[36mjava.io.File\u001b[0m"
      ]
     },
     "metadata": {},
     "output_type": "display_data"
    }
   ],
   "source": []
  },
  {
   "cell_type": "code",
   "execution_count": 2,
   "metadata": {},
   "outputs": [
    {
     "data": {
      "text/plain": [
       "\u001b[36mf\u001b[0m: \u001b[32mFile\u001b[0m = target/dependency"
      ]
     },
     "metadata": {},
     "output_type": "display_data"
    }
   ],
   "source": []
  },
  {
   "cell_type": "code",
   "execution_count": 42,
   "metadata": {
    "scrolled": true
   },
   "outputs": [
    {
     "name": "stdout",
     "output_type": "stream",
     "text": [
      "target/dependency/leptonica-1.75.3-1.4.1-windows-x86_64.jar\n",
      "target/dependency/nd4j-native-1.0.0-beta.jar\n",
      "target/dependency/opencv-3.4.1-1.4.1-android-x86.jar\n",
      "target/dependency/slf4j-log4j12-1.7.16.jar\n",
      "target/dependency/t-digest-3.2.jar\n",
      "target/dependency/nd4j-buffer-1.0.0-beta.jar\n",
      "target/dependency/stax2-api-3.1.4.jar\n",
      "target/dependency/parquet-column-1.8.1.jar\n",
      "target/dependency/deeplearning4j-nn-1.0.0-beta.jar\n",
      "target/dependency/flatbuffers-1.2.0-3f79e055.jar\n",
      "target/dependency/spark-unsafe_2.11-2.1.0.jar\n",
      "target/dependency/jai-imageio-core-1.3.0.jar\n",
      "target/dependency/spark-catalyst_2.11-2.1.0.jar\n",
      "target/dependency/opencv-3.4.1-1.4.1-ios-arm64.jar\n",
      "target/dependency/openblas-platform-0.2.20-1.4.1.jar\n",
      "target/dependency/deeplearning4j-tsne-1.0.0-beta.jar\n",
      "target/dependency/common-io-3.1.1.jar\n",
      "target/dependency/scala-xml_2.11-1.0.2.jar\n",
      "target/dependency/hdf5-1.10.1-1.4.1-linux-x86_64.jar\n",
      "target/dependency/hk2-locator-2.4.0-b34.jar\n",
      "target/dependency/hk2-utils-2.4.0-b34.jar\n",
      "target/dependency/leptonica-platform-1.75.3-1.4.1.jar\n",
      "target/dependency/curator-framework-2.4.0.jar\n",
      "target/dependency/libfreenect2-0.2.0-1.4.1.jar\n",
      "target/dependency/metrics-json-3.1.2.jar\n",
      "target/dependency/nearestneighbor-core-1.0.0-beta.jar\n",
      "target/dependency/imageio-metadata-3.1.1.jar\n",
      "target/dependency/jersey-server-2.22.2.jar\n",
      "target/dependency/commons-beanutils-1.7.0.jar\n",
      "target/dependency/deeplearning4j-ui-components-1.0.0-beta.jar\n",
      "target/dependency/protobuf-java-util-shaded-351-0.9.jar\n",
      "target/dependency/datavec-data-image-1.0.0-beta.jar\n",
      "target/dependency/jul-to-slf4j-1.7.16.jar\n",
      "target/dependency/jersey-guava-2.22.2.jar\n",
      "target/dependency/stream-2.7.0.jar\n",
      "target/dependency/aopalliance-1.0.jar\n",
      "target/dependency/commons-codec-1.10.jar\n",
      "target/dependency/javax.annotation-api-1.2.jar\n",
      "target/dependency/unused-1.0.0.jar\n",
      "target/dependency/videoinput-0.200-1.4.1.jar\n",
      "target/dependency/javax.inject-1.jar\n",
      "target/dependency/univocity-parsers-2.2.1.jar\n",
      "target/dependency/javax.inject-2.4.0-b34.jar\n",
      "target/dependency/jersey-common-2.22.2.jar\n",
      "target/dependency/joda-time-2.2.jar\n",
      "target/dependency/scalap-2.11.0.jar\n",
      "target/dependency/leptonica-1.75.3-1.4.1-linux-x86.jar\n",
      "target/dependency/fastutil-6.5.7.jar\n",
      "target/dependency/commons-math-2.1.jar\n",
      "target/dependency/hdf5-platform-1.10.1-1.4.1.jar\n",
      "target/dependency/parquet-jackson-1.8.1.jar\n",
      "target/dependency/nd4j-native-1.0.0-beta-ios-arm64.jar\n",
      "target/dependency/javax.servlet-api-3.1.0.jar\n",
      "target/dependency/mkl-platform-2018.1-1.4.1.jar\n",
      "target/dependency/openblas-0.2.20-1.4.1-windows-x86.jar\n",
      "target/dependency/jackson-1.0.0-beta.jar\n",
      "target/dependency/guava-20.0.jar\n",
      "target/dependency/leptonica-1.75.3-1.4.1-linux-x86_64.jar\n",
      "target/dependency/leptonica-1.75.3-1.4.1-android-x86_64.jar\n",
      "target/dependency/hdf5-1.10.1-1.4.1-macosx-x86_64.jar\n",
      "target/dependency/openblas-0.2.20-1.4.1-android-x86_64.jar\n",
      "target/dependency/snappy-java-1.1.2.6.jar\n",
      "target/dependency/avro-mapred-1.7.7-hadoop2.jar\n",
      "target/dependency/hadoop-yarn-api-2.2.0.jar\n",
      "target/dependency/spark-sql_2.11-2.1.0.jar\n",
      "target/dependency/annotations-13.0.jar\n",
      "target/dependency/hadoop-mapreduce-client-shuffle-2.2.0.jar\n",
      "target/dependency/jackson-databind-2.6.5.jar\n",
      "target/dependency/gson-2.7.jar\n",
      "target/dependency/metrics-jvm-3.1.2.jar\n",
      "target/dependency/jersey-client-2.22.2.jar\n",
      "target/dependency/cloning-1.9.3.jar\n",
      "target/dependency/snakeyaml-1.12.jar\n",
      "target/dependency/openblas-0.2.20-1.4.1-android-x86.jar\n",
      "target/dependency/hadoop-mapreduce-client-jobclient-2.2.0.jar\n",
      "target/dependency/hadoop-mapreduce-client-app-2.2.0.jar\n",
      "target/dependency/nd4j-base64-1.0.0-beta.jar\n",
      "target/dependency/commons-crypto-1.0.0.jar\n",
      "target/dependency/scala-library-2.11.8.jar\n",
      "target/dependency/hadoop-yarn-client-2.2.0.jar\n",
      "target/dependency/ffmpeg-3.4.2-1.4.1.jar\n",
      "target/dependency/opencv-3.4.1-1.4.1-android-arm.jar\n",
      "target/dependency/metrics-graphite-3.1.2.jar\n",
      "target/dependency/opencv-3.4.1-1.4.1.jar\n",
      "target/dependency/leptonica-1.75.3-1.4.1-android-arm.jar\n",
      "target/dependency/chill_2.11-0.8.0.jar\n",
      "target/dependency/opencv-3.4.1-1.4.1-android-arm64.jar\n",
      "target/dependency/openblas-0.2.20-1.4.1-android-arm64.jar\n",
      "target/dependency/libdc1394-2.2.5-1.4.1.jar\n",
      "target/dependency/hadoop-auth-2.2.0.jar\n",
      "target/dependency/hdf5-1.10.1-1.4.1-windows-x86.jar\n",
      "target/dependency/deeplearning4j-modelimport-1.0.0-beta.jar\n",
      "target/dependency/leptonica-1.75.3-1.4.1-android-x86.jar\n",
      "target/dependency/antlr4-runtime-4.5.3.jar\n",
      "target/dependency/commons-lang-2.5.jar\n",
      "target/dependency/commons-net-2.2.jar\n",
      "target/dependency/hadoop-yarn-common-2.2.0.jar\n",
      "target/dependency/oro-2.0.8.jar\n",
      "target/dependency/jets3t-0.7.1.jar\n",
      "target/dependency/javacpp-1.4.1.jar\n",
      "target/dependency/jersey-media-jaxb-2.22.2.jar\n",
      "target/dependency/leptonica-1.75.3-1.4.1-windows-x86.jar\n",
      "target/dependency/curator-client-2.4.0.jar\n",
      "target/dependency/hadoop-client-2.2.0.jar\n",
      "target/dependency/openblas-0.2.20-1.4.1-linux-x86.jar\n",
      "target/dependency/deeplearning4j-datavec-iterators-1.0.0-beta.jar\n",
      "target/dependency/mkl-2018.1-1.4.1-linux-x86_64.jar\n",
      "target/dependency/openblas-0.2.20-1.4.1-linux-armhf.jar\n",
      "target/dependency/opencv-3.4.1-1.4.1-ios-x86_64.jar\n",
      "target/dependency/commons-httpclient-3.1.jar\n",
      "target/dependency/nd4j-native-1.0.0-beta-macosx-x86_64.jar\n",
      "target/dependency/minlog-1.3.0.jar\n",
      "target/dependency/nd4j-native-1.0.0-beta-linux-x86_64.jar\n",
      "target/dependency/xmlenc-0.52.jar\n",
      "target/dependency/openblas-0.2.20-1.4.1-windows-x86_64.jar\n",
      "target/dependency/spark-network-shuffle_2.11-2.1.0.jar\n",
      "target/dependency/commons-lang3-3.4.jar\n",
      "target/dependency/json4s-ast_2.11-3.2.11.jar\n",
      "target/dependency/spark-launcher_2.11-2.1.0.jar\n",
      "target/dependency/imageio-psd-3.1.1.jar\n",
      "target/dependency/log4j-1.2.17.jar\n",
      "target/dependency/janino-3.0.0.jar\n",
      "target/dependency/leptonica-1.75.3-1.4.1.jar\n",
      "target/dependency/neoitertools-1.0.0.jar\n",
      "target/dependency/leptonica-1.75.3-1.4.1-linux-ppc64le.jar\n",
      "target/dependency/imageio-tiff-3.1.1.jar\n",
      "target/dependency/pyrolite-4.13.jar\n",
      "target/dependency/librealsense-1.12.1-1.4.1.jar\n",
      "target/dependency/javassist-3.18.1-GA.jar\n",
      "target/dependency/leptonica-1.75.3-1.4.1-linux-armhf.jar\n",
      "target/dependency/hadoop-annotations-2.2.0.jar\n",
      "target/dependency/commons-digester-1.8.jar\n",
      "target/dependency/openblas-0.2.20-1.4.1-android-arm.jar\n",
      "target/dependency/RoaringBitmap-0.5.11.jar\n",
      "target/dependency/mkl-2018.1-1.4.1-macosx-x86_64.jar\n",
      "target/dependency/opencv-3.4.1-1.4.1-android-x86_64.jar\n",
      "target/dependency/opencv-3.4.1-1.4.1-linux-x86.jar\n",
      "target/dependency/openblas-0.2.20-1.4.1-linux-ppc64le.jar\n",
      "target/dependency/protobuf-java-shaded-351-0.9.jar\n",
      "target/dependency/leveldbjni-all-1.8.jar\n",
      "target/dependency/jackson-core-asl-1.9.11.jar\n",
      "target/dependency/artoolkitplus-2.3.1-1.4.1.jar\n",
      "target/dependency/freemarker-2.3.23.jar\n",
      "target/dependency/aopalliance-repackaged-2.4.0-b34.jar\n",
      "target/dependency/openblas-0.2.20-1.4.1-linux-x86_64.jar\n",
      "target/dependency/jcl-over-slf4j-1.7.16.jar\n",
      "target/dependency/hadoop-hdfs-2.2.0.jar\n",
      "target/dependency/mkl-2018.1-1.4.1-linux-x86.jar\n",
      "target/dependency/hadoop-common-2.2.0.jar\n",
      "target/dependency/xbean-asm5-shaded-4.4.jar\n",
      "target/dependency/scala-reflect-2.11.8.jar\n",
      "target/dependency/javax.ws.rs-api-2.0.1.jar\n",
      "target/dependency/chill-java-0.8.0.jar\n",
      "target/dependency/opencv-3.4.1-1.4.1-linux-x86_64.jar\n",
      "target/dependency/validation-api-1.1.0.Final.jar\n",
      "target/dependency/commons-math3-3.4.1.jar\n",
      "target/dependency/nd4j-native-1.0.0-beta-android-x86_64.jar\n",
      "target/dependency/common-image-3.1.1.jar\n",
      "target/dependency/datavec-hadoop-1.0.0-beta.jar\n",
      "target/dependency/imageio-core-3.1.1.jar\n",
      "target/dependency/spark-network-common_2.11-2.1.0.jar\n",
      "target/dependency/slf4j-api-1.7.12.jar\n",
      "target/dependency/zookeeper-3.4.5.jar\n",
      "target/dependency/json4s-jackson_2.11-3.2.11.jar\n",
      "target/dependency/nd4j-native-1.0.0-beta-linux-ppc64le.jar\n",
      "target/dependency/threadly-4.10.0.jar\n",
      "target/dependency/nd4j-native-1.0.0-beta-android-arm64.jar\n",
      "target/dependency/parquet-encoding-1.8.1.jar\n",
      "target/dependency/nd4j-native-1.0.0-beta-android-arm.jar\n",
      "target/dependency/ivy-2.4.0.jar\n",
      "target/dependency/parquet-format-2.3.0-incubating.jar\n",
      "target/dependency/openblas-0.2.20-1.4.1.jar\n",
      "target/dependency/commons-beanutils-core-1.8.0.jar\n",
      "target/dependency/metrics-core-3.1.2.jar\n",
      "target/dependency/nd4j-native-platform-1.0.0-beta.jar\n",
      "target/dependency/nd4j-api-1.0.0-beta.jar\n",
      "target/dependency/scala-compiler-2.11.0.jar\n",
      "target/dependency/hadoop-mapreduce-client-common-2.2.0.jar\n",
      "target/dependency/scalatest_2.11-2.2.6.jar\n"
     ]
    },
    {
     "name": "stdout",
     "output_type": "stream",
     "text": [
      "target/dependency/deeplearning4j-util-1.0.0-beta.jar\n",
      "target/dependency/commons-collections-3.2.1.jar\n",
      "target/dependency/datavec-api-1.0.0-beta.jar\n",
      "target/dependency/opencv-3.4.1-1.4.1-windows-x86.jar\n",
      "target/dependency/curator-recipes-2.4.0.jar\n",
      "target/dependency/leptonica-1.75.3-1.4.1-android-arm64.jar\n",
      "target/dependency/jackson-annotations-2.6.0.jar\n",
      "target/dependency/jackson-module-paranamer-2.6.5.jar\n",
      "target/dependency/spark-tags_2.11-2.1.0.jar\n",
      "target/dependency/opencsv-2.3.jar\n",
      "target/dependency/nd4j-native-api-1.0.0-beta.jar\n",
      "target/dependency/jackson-module-scala_2.11-2.6.5.jar\n",
      "target/dependency/hdf5-1.10.1-1.4.1.jar\n",
      "target/dependency/opencv-3.4.1-1.4.1-windows-x86_64.jar\n",
      "target/dependency/hk2-api-2.4.0-b34.jar\n",
      "target/dependency/mkl-2018.1-1.4.1.jar\n",
      "target/dependency/opencv-3.4.1-1.4.1-linux-ppc64le.jar\n",
      "target/dependency/spark-core_2.11-2.1.0.jar\n",
      "target/dependency/nd4j-native-1.0.0-beta-windows-x86_64.jar\n",
      "target/dependency/imageio-jpeg-3.1.1.jar\n",
      "target/dependency/opencv-platform-3.4.1-1.4.1.jar\n",
      "target/dependency/opencv-3.4.1-1.4.1-macosx-x86_64.jar\n",
      "target/dependency/spark-sketch_2.11-2.1.0.jar\n",
      "target/dependency/avro-1.7.7.jar\n",
      "target/dependency/openblas-0.2.20-1.4.1-ios-arm64.jar\n",
      "target/dependency/mkl-2018.1-1.4.1-windows-x86.jar\n",
      "target/dependency/netty-all-4.0.42.Final.jar\n",
      "target/dependency/kryo-shaded-3.0.3.jar\n",
      "target/dependency/avro-ipc-1.7.7-tests.jar\n",
      "target/dependency/imageio-bmp-3.1.1.jar\n",
      "target/dependency/compress-lzf-1.0.3.jar\n",
      "target/dependency/jersey-container-servlet-2.22.2.jar\n",
      "target/dependency/deeplearning4j-core-1.0.0-beta.jar\n",
      "target/dependency/mkl-2018.1-1.4.1-windows-x86_64.jar\n",
      "target/dependency/osgi-resource-locator-1.0.1.jar\n",
      "target/dependency/commons-compiler-3.0.0.jar\n",
      "target/dependency/commons-cli-1.2.jar\n",
      "target/dependency/hadoop-yarn-server-common-2.2.0.jar\n",
      "target/dependency/common-lang-3.1.1.jar\n",
      "target/dependency/hdf5-1.10.1-1.4.1-linux-x86.jar\n",
      "target/dependency/lz4-1.3.0.jar\n",
      "target/dependency/deeplearning4j-datasets-1.0.0-beta.jar\n",
      "target/dependency/nd4j-native-1.0.0-beta-ios-x86_64.jar\n",
      "target/dependency/parquet-hadoop-1.8.1.jar\n",
      "target/dependency/commons-io-2.4.jar\n",
      "target/dependency/nd4j-context-1.0.0-beta.jar\n",
      "target/dependency/netty-3.8.0.Final.jar\n",
      "target/dependency/libfreenect-0.5.3-1.4.1.jar\n",
      "target/dependency/flycapture-2.11.3.121-1.4.1.jar\n",
      "target/dependency/openblas-0.2.20-1.4.1-ios-x86_64.jar\n",
      "target/dependency/commons-compress-1.16.1.jar\n",
      "target/dependency/javacv-1.4.1.jar\n",
      "target/dependency/commons-configuration-1.6.jar\n",
      "target/dependency/hadoop-mapreduce-client-core-2.2.0.jar\n",
      "target/dependency/deeplearning4j-utility-iterators-1.0.0-beta.jar\n",
      "target/dependency/jetty-util-6.1.26.jar\n",
      "target/dependency/opencv-3.4.1-1.4.1-linux-armhf.jar\n",
      "target/dependency/avro-ipc-1.7.7.jar\n",
      "target/dependency/leptonica-1.75.3-1.4.1-macosx-x86_64.jar\n",
      "target/dependency/hdf5-1.10.1-1.4.1-linux-ppc64le.jar\n",
      "target/dependency/jackson-core-2.6.5.jar\n",
      "target/dependency/json4s-core_2.11-3.2.11.jar\n",
      "target/dependency/scala-parser-combinators_2.11-1.0.1.jar\n",
      "target/dependency/py4j-0.10.4.jar\n",
      "target/dependency/paranamer-2.6.jar\n",
      "target/dependency/jackson-mapper-asl-1.9.11.jar\n",
      "target/dependency/flandmark-1.07-1.4.1.jar\n",
      "target/dependency/datavec-spark_2.11-1.0.0-beta_spark_2.jar\n",
      "target/dependency/jersey-container-servlet-core-2.22.2.jar\n",
      "target/dependency/objenesis-2.6.jar\n",
      "target/dependency/nd4j-common-1.0.0-beta.jar\n",
      "target/dependency/nd4j-jackson-1.0.0-beta.jar\n",
      "target/dependency/lombok-1.16.20.jar\n",
      "target/dependency/parquet-common-1.8.1.jar\n",
      "target/dependency/guice-3.0.jar\n",
      "target/dependency/hdf5-1.10.1-1.4.1-windows-x86_64.jar\n",
      "target/dependency/openblas-0.2.20-1.4.1-macosx-x86_64.jar\n",
      "target/dependency/protobuf-java-2.5.0.jar\n",
      "target/dependency/nd4j-native-1.0.0-beta-android-x86.jar\n"
     ]
    },
    {
     "data": {
      "text/plain": [
       "\u001b[36mparseLine\u001b[0m: \u001b[32mFile\u001b[0m => \u001b[32mUnit\u001b[0m = <function1>"
      ]
     },
     "metadata": {},
     "output_type": "display_data"
    }
   ],
   "source": [
    "import java.io.File\n",
    "val f:File = new File(\"target/dependency\")\n",
    "var parseLine = (f: File) => { \n",
    "        if (f.toString.endsWith(\"jar\")) {\n",
    "        println(f)\n",
    "        classpath.addPath(f.toString)\n",
    "    }\n",
    "}\n",
    "f.listFiles.foreach(parseLine)"
   ]
  },
  {
   "cell_type": "code",
   "execution_count": 41,
   "metadata": {},
   "outputs": [
    {
     "data": {
      "text/plain": [
       "\u001b[32mimport \u001b[36morg.apache.spark.{SparkConf, SparkContext}\u001b[0m\n",
       "\u001b[32mimport \u001b[36morg.apache.spark.SparkContext._\u001b[0m"
      ]
     },
     "metadata": {},
     "output_type": "display_data"
    }
   ],
   "source": [
    "import org.apache.spark.{SparkConf, SparkContext}\n",
    "// Implicit conversions, such as methods defined in\n",
    "// org.apache.spark.rdd.PairRDDFunctions\n",
    "// (http://spark.apache.org/docs/latest/api/scala/index.html#org.apache.spark.rdd.PairRDDFunctions)\n",
    "import org.apache.spark.SparkContext._"
   ]
  },
  {
   "cell_type": "code",
   "execution_count": 5,
   "metadata": {},
   "outputs": [
    {
     "name": "stderr",
     "output_type": "stream",
     "text": [
      "Using Spark's default log4j profile: org/apache/spark/log4j-defaults.properties\n",
      "19/01/08 12:13:55 INFO SparkContext: Running Spark version 2.1.0\n",
      "19/01/08 12:13:55 WARN NativeCodeLoader: Unable to load native-hadoop library for your platform... using builtin-java classes where applicable\n",
      "19/01/08 12:13:55 WARN Utils: Your hostname, phoenix resolves to a loopback address: 127.0.1.1; using 10.33.9.66 instead (on interface eno1)\n",
      "19/01/08 12:13:55 WARN Utils: Set SPARK_LOCAL_IP if you need to bind to another address\n",
      "19/01/08 12:13:55 INFO SecurityManager: Changing view acls to: bzr0014\n",
      "19/01/08 12:13:55 INFO SecurityManager: Changing modify acls to: bzr0014\n",
      "19/01/08 12:13:55 INFO SecurityManager: Changing view acls groups to: \n",
      "19/01/08 12:13:55 INFO SecurityManager: Changing modify acls groups to: \n",
      "19/01/08 12:13:55 INFO SecurityManager: SecurityManager: authentication disabled; ui acls disabled; users  with view permissions: Set(bzr0014); groups with view permissions: Set(); users  with modify permissions: Set(bzr0014); groups with modify permissions: Set()\n",
      "19/01/08 12:13:56 INFO Utils: Successfully started service 'sparkDriver' on port 41203.\n",
      "19/01/08 12:13:56 INFO SparkEnv: Registering MapOutputTracker\n",
      "19/01/08 12:13:56 INFO SparkEnv: Registering BlockManagerMaster\n",
      "19/01/08 12:13:56 INFO BlockManagerMasterEndpoint: Using org.apache.spark.storage.DefaultTopologyMapper for getting topology information\n",
      "19/01/08 12:13:56 INFO BlockManagerMasterEndpoint: BlockManagerMasterEndpoint up\n",
      "19/01/08 12:13:56 INFO DiskBlockManager: Created local directory at /tmp/blockmgr-63f53677-2a79-45b6-b047-3a69329af9a1\n",
      "19/01/08 12:13:56 INFO MemoryStore: MemoryStore started with capacity 2.4 GB\n",
      "19/01/08 12:13:56 INFO SparkEnv: Registering OutputCommitCoordinator\n",
      "19/01/08 12:13:56 WARN Utils: Service 'SparkUI' could not bind on port 4040. Attempting port 4041.\n",
      "19/01/08 12:13:56 INFO Utils: Successfully started service 'SparkUI' on port 4041.\n",
      "19/01/08 12:13:56 INFO SparkUI: Bound SparkUI to 0.0.0.0, and started at http://10.33.9.66:4041\n",
      "19/01/08 12:13:56 INFO Executor: Starting executor ID driver on host localhost\n",
      "19/01/08 12:13:56 INFO Utils: Successfully started service 'org.apache.spark.network.netty.NettyBlockTransferService' on port 40675.\n",
      "19/01/08 12:13:56 INFO NettyBlockTransferService: Server created on 10.33.9.66:40675\n",
      "19/01/08 12:13:56 INFO BlockManager: Using org.apache.spark.storage.RandomBlockReplicationPolicy for block replication policy\n",
      "19/01/08 12:13:56 INFO BlockManagerMaster: Registering BlockManager BlockManagerId(driver, 10.33.9.66, 40675, None)\n",
      "19/01/08 12:13:56 INFO BlockManagerMasterEndpoint: Registering block manager 10.33.9.66:40675 with 2.4 GB RAM, BlockManagerId(driver, 10.33.9.66, 40675, None)\n",
      "19/01/08 12:13:56 INFO BlockManagerMaster: Registered BlockManager BlockManagerId(driver, 10.33.9.66, 40675, None)\n",
      "19/01/08 12:13:56 INFO BlockManager: Initialized BlockManager: BlockManagerId(driver, 10.33.9.66, 40675, None)\n"
     ]
    },
    {
     "data": {
      "text/plain": [
       "\u001b[36msc\u001b[0m: \u001b[32mSparkContext\u001b[0m = org.apache.spark.SparkContext@75b0407d"
      ]
     },
     "metadata": {},
     "output_type": "display_data"
    }
   ],
   "source": [
    "val sc = new SparkContext(\"local\", \"Word Count (2)\", new SparkConf())"
   ]
  },
  {
   "cell_type": "code",
   "execution_count": 9,
   "metadata": {},
   "outputs": [
    {
     "data": {
      "text/plain": [
       "\u001b[36mmardas\u001b[0m: \u001b[32morg\u001b[0m.\u001b[32mapache\u001b[0m.\u001b[32mspark\u001b[0m.\u001b[32mrdd\u001b[0m.\u001b[32mRDD\u001b[0m[\u001b[32mString\u001b[0m] = MapPartitionsRDD[5] at map at Main.scala:25"
      ]
     },
     "metadata": {},
     "output_type": "display_data"
    }
   ],
   "source": [
    "val mardas = sc.textFile(\"/home/bzr0014/git/spark-scala-tutorial/data/kjvdat.txt\").map(line => line.toLowerCase)"
   ]
  },
  {
   "cell_type": "code",
   "execution_count": 43,
   "metadata": {},
   "outputs": [
    {
     "data": {
      "text/plain": [
       "defined \u001b[32mclass \u001b[36mLine\u001b[0m\n",
       "\u001b[36msplitRDD\u001b[0m: \u001b[32morg\u001b[0m.\u001b[32mapache\u001b[0m.\u001b[32mspark\u001b[0m.\u001b[32mrdd\u001b[0m.\u001b[32mRDD\u001b[0m[\u001b[32mString\u001b[0m] = MapPartitionsRDD[15] at map at Main.scala:25"
      ]
     },
     "metadata": {},
     "output_type": "display_data"
    }
   ],
   "source": [
    "case class Line(book:String, chapter: Int, verse: Int, text: String)\n",
    "val splitRDD = mardas.map {\n",
    "    case line\n",
    "}"
   ]
  },
  {
   "cell_type": "code",
   "execution_count": 27,
   "metadata": {},
   "outputs": [
    {
     "data": {
      "text/plain": [
       "\u001b[36mres26\u001b[0m: \u001b[32mArray\u001b[0m[\u001b[32mString\u001b[0m] = \u001b[33mArray\u001b[0m(\n",
       "  \u001b[32m\"in the beginning god created the heaven and the earth.~\"\u001b[0m,\n",
       "  \u001b[32m\"and the earth was without form, and void; and darkness was upon the face of the deep. and the spirit of god moved upon the face of the waters.~\"\u001b[0m,\n",
       "  \u001b[32m\"and god said, let there be light: and there was light.~\"\u001b[0m\n",
       ")"
      ]
     },
     "metadata": {},
     "output_type": "display_data"
    }
   ],
   "source": [
    "splitRDD.take(3)"
   ]
  },
  {
   "cell_type": "code",
   "execution_count": 39,
   "metadata": {},
   "outputs": [
    {
     "data": {
      "text/plain": [
       "\u001b[36muserDir\u001b[0m: () => \u001b[32mString\u001b[0m = <function0>"
      ]
     },
     "metadata": {},
     "output_type": "display_data"
    }
   ],
   "source": [
    "val userDir = () => {\n",
    "    val end = \"/target/dependency\"\n",
    "    System.getProperty(\"user.dir\")+end\n",
    "}"
   ]
  },
  {
   "cell_type": "code",
   "execution_count": 44,
   "metadata": {},
   "outputs": [
    {
     "data": {
      "text/plain": [
       "\u001b[36mres43\u001b[0m: \u001b[32mString\u001b[0m = \u001b[32m\"/home/bzr0014/git/exploit-development/drafts/jupyter_spark/target/dependency\"\u001b[0m"
      ]
     },
     "metadata": {},
     "output_type": "display_data"
    }
   ],
   "source": [
    "userDir()"
   ]
  },
  {
   "cell_type": "code",
   "execution_count": 45,
   "metadata": {},
   "outputs": [
    {
     "data": {
      "text/plain": [
       "\u001b[32mimport \u001b[36mjava.net._\u001b[0m\n",
       "\u001b[36mserver\u001b[0m: \u001b[32mjava\u001b[0m.\u001b[32mnet\u001b[0m.\u001b[32mServerSocket\u001b[0m = ServerSocket[addr=0.0.0.0/0.0.0.0,localport=8998]"
      ]
     },
     "metadata": {},
     "output_type": "display_data"
    }
   ],
   "source": [
    "import java.net._\n",
    "val server = new ServerSocket(8998)"
   ]
  },
  {
   "cell_type": "code",
   "execution_count": 47,
   "metadata": {},
   "outputs": [
    {
     "data": {
      "text/plain": [
       "\u001b[32mimport \u001b[36mjava.util.HashMap\u001b[0m\n",
       "\u001b[36mmap\u001b[0m: \u001b[32mjava\u001b[0m.\u001b[32mutil\u001b[0m.\u001b[32mHashMap\u001b[0m[\u001b[32mString\u001b[0m, \u001b[32mString\u001b[0m] = {}"
      ]
     },
     "metadata": {},
     "output_type": "display_data"
    }
   ],
   "source": [
    "import java.util.HashMap\n",
    "val map = new HashMap[String, String]()"
   ]
  },
  {
   "cell_type": "code",
   "execution_count": 48,
   "metadata": {},
   "outputs": [
    {
     "data": {
      "text/plain": [
       "\u001b[36mres47\u001b[0m: \u001b[32mString\u001b[0m = null"
      ]
     },
     "metadata": {},
     "output_type": "display_data"
    }
   ],
   "source": [
    "map.put(\"mardas\", \"pertas\")"
   ]
  },
  {
   "cell_type": "code",
   "execution_count": 49,
   "metadata": {},
   "outputs": [
    {
     "data": {
      "text/plain": [
       "\u001b[36mres48\u001b[0m: \u001b[32mHashMap\u001b[0m[\u001b[32mString\u001b[0m, \u001b[32mString\u001b[0m] = {mardas=pertas}"
      ]
     },
     "metadata": {},
     "output_type": "display_data"
    }
   ],
   "source": [
    "map"
   ]
  },
  {
   "cell_type": "code",
   "execution_count": 8,
   "metadata": {},
   "outputs": [
    {
     "data": {
      "text/plain": [
       "\u001b[36ma\u001b[0m: \u001b[32mList\u001b[0m[\u001b[32mInt\u001b[0m] = \u001b[33mList\u001b[0m(\u001b[32m5\u001b[0m, \u001b[32m3\u001b[0m, \u001b[32m2\u001b[0m, \u001b[32m10\u001b[0m, \u001b[32m9\u001b[0m)"
      ]
     },
     "metadata": {},
     "output_type": "display_data"
    }
   ],
   "source": [
    "val a = List(5, 3, 2, 10, 9)"
   ]
  },
  {
   "cell_type": "code",
   "execution_count": 14,
   "metadata": {},
   "outputs": [
    {
     "data": {
      "text/plain": [
       "\u001b[36mres13\u001b[0m: \u001b[32mList\u001b[0m[\u001b[32mInt\u001b[0m] = \u001b[33mList\u001b[0m(\u001b[32m2\u001b[0m, \u001b[32m3\u001b[0m, \u001b[32m5\u001b[0m, \u001b[32m9\u001b[0m, \u001b[32m10\u001b[0m)"
      ]
     },
     "metadata": {},
     "output_type": "display_data"
    }
   ],
   "source": [
    "a.sortWith(_ < _ )"
   ]
  },
  {
   "cell_type": "code",
   "execution_count": 18,
   "metadata": {},
   "outputs": [
    {
     "data": {
      "text/plain": [
       "\u001b[36mb\u001b[0m: \u001b[32mcollection\u001b[0m.\u001b[32mmutable\u001b[0m.\u001b[32mMap\u001b[0m[\u001b[32mString\u001b[0m, \u001b[32mString\u001b[0m] = \u001b[33mMap\u001b[0m()"
      ]
     },
     "metadata": {},
     "output_type": "display_data"
    }
   ],
   "source": [
    "val b = scala.collection.mutable.Map[String, String]()"
   ]
  },
  {
   "cell_type": "code",
   "execution_count": 21,
   "metadata": {},
   "outputs": [
    {
     "data": {
      "text/plain": [
       "\u001b[36mres20\u001b[0m: \u001b[32mcollection\u001b[0m.\u001b[32mmutable\u001b[0m.\u001b[32mMap\u001b[0m[\u001b[32mString\u001b[0m, \u001b[32mString\u001b[0m] = \u001b[33mMap\u001b[0m(\u001b[32m\"mardas\"\u001b[0m -> \u001b[32m\"raghas\"\u001b[0m)"
      ]
     },
     "metadata": {},
     "output_type": "display_data"
    }
   ],
   "source": [
    "b += \"mardas\" -> \"raghas\""
   ]
  },
  {
   "cell_type": "code",
   "execution_count": 22,
   "metadata": {},
   "outputs": [
    {
     "data": {
      "text/plain": [
       "\u001b[36mres21\u001b[0m: \u001b[32mList\u001b[0m[\u001b[32mInt\u001b[0m] = \u001b[33mList\u001b[0m(\u001b[32m5\u001b[0m, \u001b[32m3\u001b[0m, \u001b[32m2\u001b[0m, \u001b[32m10\u001b[0m, \u001b[32m9\u001b[0m, \u001b[32m6\u001b[0m)"
      ]
     },
     "metadata": {},
     "output_type": "display_data"
    }
   ],
   "source": [
    "a :+ 6"
   ]
  },
  {
   "cell_type": "code",
   "execution_count": 23,
   "metadata": {},
   "outputs": [
    {
     "data": {
      "text/plain": [
       "\u001b[36mres22\u001b[0m: \u001b[32mammonite\u001b[0m.\u001b[32mapi\u001b[0m.\u001b[32mClasspath\u001b[0m = ammonite.util.Classpath@63925472"
      ]
     },
     "metadata": {},
     "output_type": "display_data"
    }
   ],
   "source": [
    "classpath"
   ]
  },
  {
   "cell_type": "code",
   "execution_count": null,
   "metadata": {},
   "outputs": [],
   "source": []
  }
 ],
 "metadata": {
  "kernelspec": {
   "display_name": "Scala 2.11",
   "language": "scala211",
   "name": "scala211"
  },
  "language_info": {
   "codemirror_mode": "text/x-scala",
   "file_extension": ".scala",
   "mimetype": "text/x-scala",
   "name": "scala211",
   "pygments_lexer": "scala",
   "version": "2.11.7"
  }
 },
 "nbformat": 4,
 "nbformat_minor": 2
}
