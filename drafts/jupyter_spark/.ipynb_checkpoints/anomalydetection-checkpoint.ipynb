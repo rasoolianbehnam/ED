{
 "cells": [
  {
   "cell_type": "code",
   "execution_count": 1,
   "metadata": {},
   "outputs": [
    {
     "data": {
      "text/plain": []
     },
     "metadata": {},
     "output_type": "display_data"
    }
   ],
   "source": [
    "classpath.addPath(System.getProperty(\"user.home\") + \"/git/dl4j-examples/dl4j-examples/target/classes\")"
   ]
  },
  {
   "cell_type": "code",
   "execution_count": 2,
   "metadata": {
    "scrolled": true
   },
   "outputs": [
    {
     "name": "stdout",
     "output_type": "stream",
     "text": [
      "Added 1/298\n",
      "Added 2/298\n",
      "Added 3/298\n",
      "Added 4/298\n",
      "Added 5/298\n",
      "Added 6/298\n",
      "Added 7/298\n",
      "Added 8/298\n",
      "Added 9/298\n",
      "Added 10/298\n",
      "Added 11/298\n",
      "Added 12/298\n",
      "Added 13/298\n",
      "Added 14/298\n",
      "Added 15/298\n",
      "Added 16/298\n",
      "Added 17/298\n",
      "Added 18/298\n",
      "Added 19/298\n",
      "Added 20/298\n",
      "Added 21/298\n",
      "Added 22/298\n",
      "Added 23/298\n",
      "Added 24/298\n",
      "Added 25/298\n",
      "Added 26/298\n",
      "Added 27/298\n",
      "Added 28/298\n",
      "Added 29/298\n",
      "Added 30/298\n",
      "Added 31/298\n",
      "Added 32/298\n",
      "Added 33/298\n",
      "Added 34/298\n",
      "Added 35/298\n",
      "Added 36/298\n",
      "Added 37/298\n",
      "Added 38/298\n",
      "Added 39/298\n",
      "Added 40/298\n",
      "Added 41/298\n",
      "Added 42/298\n",
      "Added 43/298\n",
      "Added 44/298\n",
      "Added 45/298\n",
      "Added 46/298\n",
      "Added 47/298\n",
      "Added 48/298\n",
      "Added 49/298\n",
      "Added 50/298\n",
      "Added 51/298\n",
      "Added 52/298\n",
      "Added 53/298\n",
      "Added 54/298\n",
      "Added 55/298\n",
      "Added 56/298\n",
      "Added 57/298\n",
      "Added 58/298\n",
      "Added 59/298\n",
      "Added 60/298\n",
      "Added 61/298\n",
      "Added 62/298\n",
      "Added 63/298\n",
      "Added 64/298\n",
      "Added 65/298\n",
      "Added 66/298\n",
      "Added 67/298\n",
      "Added 68/298\n",
      "Added 69/298\n",
      "Added 70/298\n",
      "Added 71/298\n",
      "Added 72/298\n",
      "Added 73/298\n",
      "Added 74/298\n",
      "Added 75/298\n",
      "Added 76/298\n",
      "Added 77/298\n",
      "Added 78/298\n",
      "Added 79/298\n",
      "Added 80/298\n",
      "Added 81/298\n",
      "Added 82/298\n",
      "Added 83/298\n",
      "Added 84/298\n",
      "Added 85/298\n",
      "Added 86/298\n",
      "Added 87/298\n",
      "Added 88/298\n",
      "Added 89/298\n",
      "Added 90/298\n",
      "Added 91/298\n",
      "Added 92/298\n",
      "Added 93/298\n",
      "Added 94/298\n",
      "Added 95/298\n",
      "Added 96/298\n",
      "Added 97/298\n",
      "Added 98/298\n",
      "Added 99/298\n",
      "Added 100/298\n",
      "Added 101/298\n",
      "Added 102/298\n",
      "Added 103/298\n",
      "Added 104/298\n",
      "Added 105/298\n",
      "Added 106/298\n",
      "Added 107/298\n",
      "Added 108/298\n",
      "Added 109/298\n",
      "Added 110/298\n",
      "Added 111/298\n",
      "Added 112/298\n",
      "Added 113/298\n",
      "Added 114/298\n",
      "Added 115/298\n",
      "Added 116/298\n",
      "Added 117/298\n",
      "Added 118/298\n",
      "Added 119/298\n",
      "Added 120/298\n",
      "Added 121/298\n",
      "Added 122/298\n",
      "Added 123/298\n",
      "Added 124/298\n",
      "Added 125/298\n",
      "Added 126/298\n",
      "Added 127/298\n",
      "Added 128/298\n",
      "Added 129/298\n",
      "Added 130/298\n",
      "Added 131/298\n",
      "Added 132/298\n",
      "Added 133/298\n",
      "Added 134/298\n",
      "Added 135/298\n",
      "Added 136/298\n",
      "Added 137/298\n",
      "Added 138/298\n",
      "Added 139/298\n",
      "Added 140/298\n",
      "Added 141/298\n",
      "Added 142/298\n",
      "Added 143/298\n",
      "Added 144/298\n",
      "Added 145/298\n",
      "Added 146/298\n",
      "Added 147/298\n",
      "Added 148/298\n",
      "Added 149/298\n",
      "Added 150/298\n",
      "Added 151/298\n",
      "Added 152/298\n",
      "Added 153/298\n",
      "Added 154/298\n",
      "Added 155/298\n",
      "Added 156/298\n",
      "Added 157/298\n",
      "Added 158/298\n",
      "Added 159/298\n",
      "Added 160/298\n",
      "Added 161/298\n",
      "Added 162/298\n",
      "Added 163/298\n",
      "Added 164/298\n",
      "Added 165/298\n",
      "Added 166/298\n",
      "Added 167/298\n",
      "Added 168/298\n",
      "Added 169/298\n",
      "Added 170/298\n",
      "Added 171/298\n",
      "Added 172/298\n",
      "Added 173/298\n",
      "Added 174/298\n",
      "Added 175/298\n",
      "Added 176/298\n",
      "Added 177/298\n",
      "Added 178/298\n",
      "Added 179/298\n",
      "Added 180/298\n",
      "Added 181/298\n",
      "Added 182/298\n",
      "Added 183/298\n",
      "Added 184/298\n",
      "Added 185/298\n",
      "Added 186/298\n",
      "Added 187/298\n",
      "Added 188/298\n",
      "Added 189/298\n",
      "Added 190/298\n",
      "Added 191/298\n",
      "Added 192/298\n",
      "Added 193/298\n",
      "Added 194/298\n",
      "Added 195/298\n",
      "Added 196/298\n",
      "Added 197/298\n",
      "Added 198/298\n",
      "Added 199/298\n",
      "Added 200/298\n",
      "Added 201/298\n",
      "Added 202/298\n",
      "Added 203/298\n",
      "Added 204/298\n",
      "Added 205/298\n",
      "Added 206/298\n",
      "Added 207/298\n",
      "Added 208/298\n",
      "Added 209/298\n",
      "Added 210/298\n",
      "Added 211/298\n",
      "Added 212/298\n",
      "Added 213/298\n",
      "Added 214/298\n",
      "Added 215/298\n",
      "Added 216/298\n",
      "Added 217/298\n",
      "Added 218/298\n",
      "Added 219/298\n",
      "Added 220/298\n",
      "Added 221/298\n",
      "Added 222/298\n",
      "Added 223/298\n",
      "Added 224/298\n",
      "Added 225/298\n",
      "Added 226/298\n",
      "Added 227/298\n",
      "Added 228/298\n",
      "Added 229/298\n",
      "Added 230/298\n",
      "Added 231/298\n",
      "Added 232/298\n",
      "Added 233/298\n",
      "Added 234/298\n",
      "Added 235/298\n",
      "Added 236/298\n",
      "Added 237/298\n",
      "Added 238/298\n",
      "Added 239/298\n",
      "Added 240/298\n",
      "Added 241/298\n",
      "Added 242/298\n",
      "Added 243/298\n",
      "Added 244/298\n",
      "Added 245/298\n",
      "Added 246/298\n",
      "Added 247/298\n",
      "Added 248/298\n",
      "Added 249/298\n",
      "Added 250/298\n",
      "Added 251/298\n",
      "Added 252/298\n",
      "Added 253/298\n",
      "Added 254/298\n",
      "Added 255/298\n",
      "Added 256/298\n",
      "Added 257/298\n",
      "Added 258/298\n",
      "Added 259/298\n",
      "Added 260/298\n",
      "Added 261/298\n",
      "Added 262/298\n",
      "Added 263/298\n",
      "Added 264/298\n",
      "Added 265/298\n",
      "Added 266/298\n",
      "Added 267/298\n",
      "Added 268/298\n",
      "Added 269/298\n",
      "Added 270/298\n",
      "Added 271/298\n",
      "Added 272/298\n",
      "Added 273/298\n",
      "Added 274/298\n",
      "Added 275/298\n",
      "Added 276/298\n",
      "Added 277/298\n",
      "Added 278/298\n",
      "Added 279/298\n",
      "Added 280/298\n",
      "Added 281/298\n",
      "Added 282/298\n",
      "Added 283/298\n",
      "Added 284/298\n",
      "Added 285/298\n",
      "Added 286/298\n",
      "Added 287/298\n",
      "Added 288/298\n",
      "Added 289/298\n",
      "Added 290/298\n",
      "Added 291/298\n",
      "Added 292/298\n",
      "Added 293/298\n",
      "Added 294/298\n",
      "Added 295/298\n",
      "Added 296/298\n",
      "Added 297/298\n",
      "Added 298/298\n"
     ]
    },
    {
     "data": {
      "text/plain": [
       "\u001b[32mimport \u001b[36mjava.io.File\u001b[0m\n",
       "\u001b[36mf\u001b[0m: java.io.File = /Users/behnamrasoolian/git/dl4j-examples/dl4j-examples/target/dependency\n",
       "\u001b[36mn\u001b[0m: Int = \u001b[32m298\u001b[0m\n",
       "\u001b[36mi\u001b[0m: Int = \u001b[32m298\u001b[0m"
      ]
     },
     "metadata": {},
     "output_type": "display_data"
    }
   ],
   "source": [
    "import java.io.File\n",
    "val f:File = new File(System.getProperty(\"user.home\") + \"/git/dl4j-examples/dl4j-examples/target/dependency\")\n",
    "val n = f.listFiles.size\n",
    "var i = 0\n",
    "f.listFiles.foreach((f: File) => { \n",
    "    if (f.toString.endsWith(\"jar\")) {\n",
    "        i += 1\n",
    "        println(\"Added \" + i + \"/\" + n)\n",
    "        classpath.addPath(f.toString)\n",
    "    }\n",
    "})"
   ]
  },
  {
   "cell_type": "code",
   "execution_count": 3,
   "metadata": {},
   "outputs": [
    {
     "data": {
      "text/plain": [
       "\u001b[32mimport \u001b[36morg.deeplearning4j.nn.multilayer.MultiLayerNetwork\u001b[0m\n",
       "\u001b[32mimport \u001b[36morg.deeplearning4j.nn.conf.MultiLayerConfiguration\u001b[0m\n",
       "\u001b[32mimport \u001b[36morg.deeplearning4j.nn.conf.NeuralNetConfiguration\u001b[0m\n",
       "\u001b[32mimport \u001b[36morg.deeplearning4j.nn.weights.WeightInit\u001b[0m\n",
       "\u001b[32mimport \u001b[36morg.nd4j.linalg.learning.config.Adam\u001b[0m\n",
       "\u001b[32mimport \u001b[36morg.deeplearning4j.nn.conf.layers.LSTM\u001b[0m\n",
       "\u001b[32mimport \u001b[36morg.nd4j.linalg.activations.Activation\u001b[0m\n",
       "\u001b[32mimport \u001b[36morg.nd4j.linalg.lossfunctions.LossFunctions\u001b[0m\n",
       "\u001b[32mimport \u001b[36morg.deeplearning4j.nn.conf.layers.RnnOutputLayer\u001b[0m\n",
       "defined \u001b[32mfunction \u001b[36mcreateModel\u001b[0m"
      ]
     },
     "metadata": {},
     "output_type": "display_data"
    }
   ],
   "source": [
    "import org.deeplearning4j.nn.multilayer.MultiLayerNetwork\n",
    "import org.deeplearning4j.nn.conf.MultiLayerConfiguration\n",
    "import org.deeplearning4j.nn.conf.NeuralNetConfiguration\n",
    "import org.deeplearning4j.nn.weights.WeightInit\n",
    "import org.nd4j.linalg.learning.config.Adam\n",
    "import org.deeplearning4j.nn.conf.layers.LSTM\n",
    "import org.nd4j.linalg.activations.Activation\n",
    "import org.nd4j.linalg.lossfunctions.LossFunctions\n",
    "import org.deeplearning4j.nn.conf.layers.RnnOutputLayer\n",
    "def createModel(): MultiLayerNetwork = {\n",
    "    val conf: MultiLayerConfiguration = new  NeuralNetConfiguration.Builder()\n",
    "    .seed(123456)\n",
    "    .optimizationAlgo(org.deeplearning4j.nn.api.OptimizationAlgorithm.STOCHASTIC_GRADIENT_DESCENT)\n",
    "    .updater(new Adam(2e-3))\n",
    "    .l2(1e-5)\n",
    "    .weightInit(WeightInit.XAVIER)\n",
    "    .list()\n",
    "    .layer(0, new LSTM.Builder().name(\"encoder0\").nIn(784).nOut(800).build())\n",
    "    .layer(1, new LSTM.Builder().name(\"encoder1\").nIn(800).nOut(250).build())\n",
    "    .layer(2, new LSTM.Builder().name(\"encoder2\").nIn(250).nOut(10).build())\n",
    "    .layer(3, new LSTM.Builder().name(\"encoder3\").nIn(10).nOut(250).build())\n",
    "    .layer(4, new LSTM.Builder().name(\"encoder4\").nIn(250).nOut(800).build())\n",
    "    .layer(5, new RnnOutputLayer.Builder().name(\"output\").nIn(800).nOut(784)\n",
    "           .activation(Activation.IDENTITY).lossFunction(LossFunctions.LossFunction.MSE).build()\n",
    "          )\n",
    "    .pretrain(false).backprop(true)\n",
    "    .build()\n",
    "    val net:MultiLayerNetwork = new MultiLayerNetwork(conf)\n",
    "    net.init()\n",
    "    net\n",
    "}"
   ]
  },
  {
   "cell_type": "code",
   "execution_count": 4,
   "metadata": {},
   "outputs": [
    {
     "data": {
      "text/plain": [
       "defined \u001b[32mfunction \u001b[36mcreateModel2\u001b[0m"
      ]
     },
     "metadata": {},
     "output_type": "display_data"
    }
   ],
   "source": [
    "def createModel2(): MultiLayerNetwork = {\n",
    "    val conf: MultiLayerConfiguration = new  NeuralNetConfiguration.Builder()\n",
    "    .seed(123456)\n",
    "    .optimizationAlgo(org.deeplearning4j.nn.api.OptimizationAlgorithm.STOCHASTIC_GRADIENT_DESCENT)\n",
    "    .updater(new Adam(2e-3))\n",
    "    .l2(1e-5)\n",
    "    .weightInit(WeightInit.XAVIER)\n",
    "    .list()\n",
    "    .layer(0, new LSTM.Builder().name(\"encoder0\").nIn(28).nOut(30).build())\n",
    "    .layer(1, new LSTM.Builder().name(\"encoder1\").nIn(30).nOut(10).build())\n",
    "    .layer(2, new LSTM.Builder().name(\"encoder2\").nIn(10).nOut(30).build())\n",
    "    .layer(3, new RnnOutputLayer.Builder().name(\"output\").nIn(30).nOut(28)\n",
    "           .activation(Activation.IDENTITY).lossFunction(LossFunctions.LossFunction.MSE).build()\n",
    "          )\n",
    "    .pretrain(false).backprop(true)\n",
    "    .build()\n",
    "    val net:MultiLayerNetwork = new MultiLayerNetwork(conf)\n",
    "    net.init()\n",
    "    net\n",
    "}"
   ]
  },
  {
   "cell_type": "code",
   "execution_count": 5,
   "metadata": {},
   "outputs": [
    {
     "data": {
      "text/plain": [
       "\u001b[32mimport \u001b[36morg.deeplearning4j.ui.api.Utils\u001b[0m\n",
       "\u001b[32mimport \u001b[36morg.nd4j.linalg.dataset.api.iterator.DataSetIterator\u001b[0m\n",
       "\u001b[32mimport \u001b[36morg.deeplearning4j.examples.unsupervised.anomalydetection.MnistIterator\u001b[0m\n",
       "\u001b[32mimport \u001b[36morg.deeplearning4j.examples.unsupervised.anomalydetection.MnistLoader\u001b[0m\n",
       "\u001b[32mimport \u001b[36morg.deeplearning4j.examples.unsupervised.anomalydetection.MnistIterator\u001b[0m\n",
       "\u001b[32mimport \u001b[36morg.nd4j.linalg.api.ndarray.INDArray\u001b[0m\n",
       "\u001b[32mimport \u001b[36morg.deeplearning4j.datasets.iterator.impl.MnistDataSetIterator\u001b[0m\n",
       "\u001b[32mimport \u001b[36mjava.util.Random\u001b[0m\n",
       "\u001b[32mimport \u001b[36mjava.util.ArrayList\u001b[0m"
      ]
     },
     "metadata": {},
     "output_type": "display_data"
    }
   ],
   "source": [
    "import org.deeplearning4j.ui.api.Utils\n",
    "import org.nd4j.linalg.dataset.api.iterator.DataSetIterator\n",
    "import org.deeplearning4j.examples.unsupervised.anomalydetection.MnistIterator\n",
    "import org.deeplearning4j.examples.unsupervised.anomalydetection.MnistLoader\n",
    "import org.deeplearning4j.examples.unsupervised.anomalydetection.MnistIterator\n",
    "import org.nd4j.linalg.api.ndarray.INDArray\n",
    "import org.deeplearning4j.datasets.iterator.impl.MnistDataSetIterator\n",
    "import java.util.Random\n",
    "import java.util.ArrayList"
   ]
  },
  {
   "cell_type": "code",
   "execution_count": 6,
   "metadata": {},
   "outputs": [
    {
     "data": {
      "text/plain": [
       "\u001b[36mfeaturesTrain\u001b[0m: java.util.ArrayList[org.nd4j.linalg.api.ndarray.INDArray] = []\n",
       "\u001b[36mfeaturesTest\u001b[0m: java.util.ArrayList[org.nd4j.linalg.api.ndarray.INDArray] = []\n",
       "\u001b[36mlabelsTest\u001b[0m: java.util.ArrayList[org.nd4j.linalg.api.ndarray.INDArray] = []\n",
       "\u001b[36mrand\u001b[0m: java.util.Random = java.util.Random@35c7c8d3"
      ]
     },
     "metadata": {},
     "output_type": "display_data"
    }
   ],
   "source": [
    "val featuresTrain = new ArrayList[INDArray]\n",
    "val featuresTest = new ArrayList[INDArray]\n",
    "val labelsTest = new ArrayList[INDArray]\n",
    "val rand = new Random(12345)"
   ]
  },
  {
   "cell_type": "code",
   "execution_count": 7,
   "metadata": {},
   "outputs": [
    {
     "name": "stdout",
     "output_type": "stream",
     "text": [
      "o.n.l.f.Nd4jBackend - Loaded [CpuBackend] backend\n",
      "o.n.n.NativeOpsHolder - Number of threads used for NativeOps: 2\n",
      "o.n.n.Nd4jBlas - Number of threads used for BLAS: 2\n",
      "o.n.l.a.o.e.DefaultOpExecutioner - Backend used: [CPU]; OS: [Mac OS X]\n",
      "o.n.l.a.o.e.DefaultOpExecutioner - Cores: [4]; Memory: [0.9GB];\n",
      "o.n.l.a.o.e.DefaultOpExecutioner - Blas vendor: [MKL]\n",
      "o.d.n.m.MultiLayerNetwork - Starting MultiLayerNetwork with WorkspaceModes set to [training: ENABLED; inference: ENABLED], cacheMode set to [NONE]\n"
     ]
    },
    {
     "data": {
      "text/plain": [
       "\u001b[36mnet\u001b[0m: org.deeplearning4j.nn.multilayer.MultiLayerNetwork = org.deeplearning4j.nn.multilayer.MultiLayerNetwork@1f8334a2\n",
       "\u001b[36miter\u001b[0m: org.deeplearning4j.datasets.iterator.impl.MnistDataSetIterator = org.deeplearning4j.datasets.iterator.impl.MnistDataSetIterator@1655df71"
      ]
     },
     "metadata": {},
     "output_type": "display_data"
    }
   ],
   "source": [
    "/* main function */\n",
    "val net = createModel2()\n",
    "net.setListeners(new org.deeplearning4j.optimize.listeners.ScoreIterationListener(10))\n",
    "val iter = new MnistDataSetIterator(100,5000,false)"
   ]
  },
  {
   "cell_type": "code",
   "execution_count": 8,
   "metadata": {},
   "outputs": [
    {
     "data": {
      "text/plain": []
     },
     "metadata": {},
     "output_type": "display_data"
    }
   ],
   "source": [
    "while (iter.hasNext()) {\n",
    "    val ds = iter.next;\n",
    "    val split = ds.splitTestAndTrain(80, rand)\n",
    "    featuresTrain.add(split.getTrain.getFeatures().reshape(80, 28, 28))\n",
    "    featuresTest.add(split.getTest.getFeatures.reshape(20, 28, 28))\n",
    "    labelsTest.add(split.getTest.getLabels.argMax(1))\n",
    "}"
   ]
  },
  {
   "cell_type": "code",
   "execution_count": 9,
   "metadata": {},
   "outputs": [
    {
     "name": "stdout",
     "output_type": "stream",
     "text": [
      "o.d.o.l.ScoreIterationListener - Score at iteration 0 is 6.724102584218065\n",
      "o.d.o.l.ScoreIterationListener - Score at iteration 10 is 3.4469664196607472\n",
      "o.d.o.l.ScoreIterationListener - Score at iteration 20 is 3.130182747159287\n",
      "o.d.o.l.ScoreIterationListener - Score at iteration 30 is 2.454385762962058\n",
      "o.d.o.l.ScoreIterationListener - Score at iteration 40 is 2.518729729360114\n",
      "Epoch 1 complete\n"
     ]
    },
    {
     "data": {
      "text/plain": [
       "\u001b[36mnEpochs\u001b[0m: Int = \u001b[32m1\u001b[0m"
      ]
     },
     "metadata": {},
     "output_type": "display_data"
    }
   ],
   "source": [
    "val nEpochs = 1\n",
    "(1 to nEpochs).foreach{ epoch =>  \n",
    "    for(data <- featuresTrain.toArray){\n",
    "        net.fit(data.asInstanceOf[INDArray],data.asInstanceOf[INDArray]);\n",
    "    }\n",
    "    println(\"Epoch \" + epoch + \" complete\");\n",
    "}"
   ]
  },
  {
   "cell_type": "code",
   "execution_count": 10,
   "metadata": {},
   "outputs": [
    {
     "data": {
      "text/plain": [
       "\u001b[32mimport \u001b[36mscala.collection.mutable.ListBuffer\u001b[0m\n",
       "\u001b[36mevalList\u001b[0m: collection.mutable.ListBuffer[(Double, org.nd4j.linalg.api.ndarray.INDArray)] = \u001b[33mListBuffer\u001b[0m()\n",
       "\u001b[36mtotalScore\u001b[0m: Double = \u001b[32m0.0\u001b[0m"
      ]
     },
     "metadata": {},
     "output_type": "display_data"
    }
   ],
   "source": [
    "import scala.collection.mutable.ListBuffer\n",
    "val evalList = ListBuffer[(Double, INDArray)]()\n",
    "var totalScore:Double = 0"
   ]
  },
  {
   "cell_type": "code",
   "execution_count": 11,
   "metadata": {
    "scrolled": true
   },
   "outputs": [
    {
     "name": "stdout",
     "output_type": "stream",
     "text": [
      "featuresTest 0 complete\n",
      "featuresTest 1 complete\n",
      "featuresTest 2 complete\n",
      "featuresTest 3 complete\n",
      "featuresTest 4 complete\n",
      "featuresTest 5 complete\n",
      "featuresTest 6 complete\n",
      "featuresTest 7 complete\n",
      "featuresTest 8 complete\n",
      "featuresTest 9 complete\n",
      "featuresTest 10 complete\n",
      "featuresTest 11 complete\n",
      "featuresTest 12 complete\n",
      "featuresTest 13 complete\n",
      "featuresTest 14 complete\n",
      "featuresTest 15 complete\n",
      "featuresTest 16 complete\n",
      "featuresTest 17 complete\n",
      "featuresTest 18 complete\n",
      "featuresTest 19 complete\n",
      "featuresTest 20 complete\n",
      "featuresTest 21 complete\n",
      "featuresTest 22 complete\n",
      "featuresTest 23 complete\n",
      "featuresTest 24 complete\n",
      "featuresTest 25 complete\n",
      "featuresTest 26 complete\n",
      "featuresTest 27 complete\n",
      "featuresTest 28 complete\n",
      "featuresTest 29 complete\n",
      "featuresTest 30 complete\n",
      "featuresTest 31 complete\n",
      "featuresTest 32 complete\n",
      "featuresTest 33 complete\n",
      "featuresTest 34 complete\n",
      "featuresTest 35 complete\n",
      "featuresTest 36 complete\n",
      "featuresTest 37 complete\n",
      "featuresTest 38 complete\n",
      "featuresTest 39 complete\n",
      "featuresTest 40 complete\n",
      "featuresTest 41 complete\n",
      "featuresTest 42 complete\n",
      "featuresTest 43 complete\n",
      "featuresTest 44 complete\n",
      "featuresTest 45 complete\n",
      "featuresTest 46 complete\n",
      "featuresTest 47 complete\n",
      "featuresTest 48 complete\n",
      "featuresTest 49 complete\n"
     ]
    },
    {
     "data": {
      "text/plain": [
       "\u001b[32mimport \u001b[36morg.nd4j.linalg.dataset.DataSet\u001b[0m"
      ]
     },
     "metadata": {},
     "output_type": "display_data"
    }
   ],
   "source": [
    "import org.nd4j.linalg.dataset.DataSet \n",
    "\n",
    "(0 until featuresTest.size).foreach( i => {\n",
    "    val testData = featuresTest.get(i)\n",
    "    val nRows = testData.shape()(0).asInstanceOf[Int]\n",
    "    (1 until nRows).foreach( j => {\n",
    "        val example = testData.getRow(j).reshape(1, 28, 28)\n",
    "        val score = net.score(new DataSet(example, example))\n",
    "        totalScore = totalScore + score\n",
    "        evalList.append((score, example))\n",
    "    })\n",
    "    println(\"featuresTest \" + i + \" complete\")\n",
    "})"
   ]
  },
  {
   "cell_type": "code",
   "execution_count": 12,
   "metadata": {
    "scrolled": true
   },
   "outputs": [
    {
     "data": {
      "text/plain": [
       "\u001b[36msortedEvalList\u001b[0m: collection.mutable.ListBuffer[(Double, org.nd4j.linalg.api.ndarray.INDArray)] = \u001b[33mListBuffer\u001b[0m(\n",
       "  \u001b[33m\u001b[0m(\n",
       "    \u001b[32m5.231053246153825\u001b[0m,\n",
       "    [[[         0,         0,         0,         0,         0,         0,         0,         0,         0,         0,         0,         0,         0,         0,         0,         0,         0,         0,         0,         0,         0,         0,         0,         0,         0,         0,         0,         0], \n",
       "  [         0,         0,         0,         0,         0,         0,         0,         0,         0,         0,         0,         0,         0,         0,         0,         0,         0,         0,         0,         0,         0,         0,         0,         0,         0,         0,         0,         0], \n",
       "  [         0,         0,         0,         0,         0,         0,         0,         0,         0,         0,         0,         0,         0,         0,         0,         0,         0,         0,         0,         0,         0,         0,         0,         0,         0,         0,         0,         0], \n",
       "  [         0,         0,         0,         0,         0,         0,         0,         0,         0,         0,         0,         0,         0,         0,         0,         0,         0,         0,         0,         0,         0,         0,         0,         0,         0,         0,         0,         0], \n",
       "  [         0,         0,         0,         0,         0,         0,         0,\u001b[33m...\u001b[0m"
      ]
     },
     "metadata": {},
     "output_type": "display_data"
    }
   ],
   "source": [
    "val sortedEvalList = evalList.sortWith(_._1 > _._1)"
   ]
  },
  {
   "cell_type": "code",
   "execution_count": 15,
   "metadata": {},
   "outputs": [
    {
     "data": {
      "text/plain": [
       "\u001b[32mimport \u001b[36morg.deeplearning4j.examples.unsupervised.anomalydetection.VisualizerUtil\u001b[0m"
      ]
     },
     "metadata": {},
     "output_type": "display_data"
    }
   ],
   "source": [
    "import org.deeplearning4j.examples.unsupervised.anomalydetection.VisualizerUtil"
   ]
  },
  {
   "cell_type": "code",
   "execution_count": 16,
   "metadata": {},
   "outputs": [
    {
     "data": {
      "text/plain": [
       "\u001b[36mnormalList\u001b[0m: collection.immutable.IndexedSeq[org.nd4j.linalg.api.ndarray.INDArray] = \u001b[33mVector\u001b[0m(\n",
       "  [[[         0,         0,         0,         0,         0,         0,         0,         0,         0,         0,         0,         0,         0,         0,         0,         0,         0,         0,         0,         0,         0,         0,         0,         0,         0,         0,         0,         0], \n",
       "  [         0,         0,         0,         0,         0,         0,         0,         0,         0,         0,         0,         0,         0,         0,         0,         0,         0,         0,         0,         0,         0,         0,         0,         0,         0,         0,         0,         0], \n",
       "  [         0,         0,         0,         0,         0,         0,         0,         0,         0,         0,         0,         0,         0,         0,         0,         0,         0,         0,         0,         0,         0,         0,         0,         0,         0,         0,         0,         0], \n",
       "  [         0,         0,         0,         0,         0,         0,         0,         0,         0,         0,         0,         0,         0,         0,         0,         0,         0,         0,         0,         0,         0,         0,         0,         0,         0,         0,         0,         0], \n",
       "  [         0,         0,         0,         0,         0,         0,         0,         0,         0,         0,         0,         0,         0,         0,    0.2353,    0.5882,    0.9961,    0.9961,    0.9961,    0.5216,    0.2157,      \u001b[33m...\u001b[0m"
      ]
     },
     "metadata": {},
     "output_type": "display_data"
    }
   ],
   "source": [
    "val normalList = for (i <- 1 to 60 if i < sortedEvalList.size) yield sortedEvalList(i)._2"
   ]
  },
  {
   "cell_type": "code",
   "execution_count": 16,
   "metadata": {},
   "outputs": [
    {
     "ename": "",
     "evalue": "",
     "output_type": "error",
     "traceback": [
      "\u001b[31mMain.scala:26: polymorphic expression cannot be instantiated to expected type;",
      " found   : [B >: org.nd4j.linalg.api.ndarray.INDArray]Array[B]",
      " required: java.util.List[org.nd4j.linalg.api.ndarray.INDArray]",
      "new VisualizerUtil(2.0, normalList.toArray, \"best (High Rec. Error)\") ",
      "                                   ^\u001b[0m"
     ]
    }
   ],
   "source": [
    "val bestVisualizer = new VisualizerUtil(2.0, normalList, \"best (High Rec. Error)\")"
   ]
  },
  {
   "cell_type": "code",
   "execution_count": null,
   "metadata": {},
   "outputs": [],
   "source": []
  }
 ],
 "metadata": {
  "kernelspec": {
   "display_name": "Scala 2.10",
   "language": "scala210",
   "name": "scala210"
  },
  "language_info": {
   "codemirror_mode": "text/x-scala",
   "file_extension": ".scala",
   "mimetype": "text/x-scala",
   "name": "scala210",
   "pygments_lexer": "scala",
   "version": "2.10.6"
  }
 },
 "nbformat": 4,
 "nbformat_minor": 2
}
