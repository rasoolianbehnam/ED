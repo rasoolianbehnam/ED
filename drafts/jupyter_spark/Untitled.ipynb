{
 "cells": [
  {
   "cell_type": "code",
   "execution_count": 1,
   "metadata": {},
   "outputs": [
    {
     "data": {
      "text/plain": [
       "\u001b[32mimport \u001b[39m\u001b[36m$ivy.$                                          \n",
       "\u001b[39m\n",
       "\u001b[32mimport \u001b[39m\u001b[36m$ivy.$                               \n",
       "//import $ivy.`org.nd4j:nd4j-x86:0.4-rc3.8`\u001b[39m"
      ]
     },
     "execution_count": 1,
     "metadata": {},
     "output_type": "execute_result"
    }
   ],
   "source": [
    "import $ivy.`org.nd4j:nd4j-native-platform:1.0.0-alpha`\n",
    "import $ivy.`org.nd4j:nd4s_2.11:1.0.0-alpha`\n",
    "//import $ivy.`org.nd4j:nd4j-x86:0.4-rc3.8`"
   ]
  },
  {
   "cell_type": "code",
   "execution_count": 3,
   "metadata": {},
   "outputs": [
    {
     "data": {
      "text/plain": [
       "\u001b[32mimport \u001b[39m\u001b[36morg.nd4j.linalg.factory.Nd4j\n",
       "\u001b[39m\n",
       "\u001b[32mimport \u001b[39m\u001b[36morg.nd4s.Implicits._\u001b[39m"
      ]
     },
     "execution_count": 3,
     "metadata": {},
     "output_type": "execute_result"
    }
   ],
   "source": [
    "import org.nd4j.linalg.factory.Nd4j\n",
    "import org.nd4s.Implicits._"
   ]
  },
  {
   "cell_type": "code",
   "execution_count": 6,
   "metadata": {},
   "outputs": [
    {
     "data": {
      "text/plain": [
       "\u001b[32mimport \u001b[39m\u001b[36m$ivy.$                                 \n",
       "//import $ivy.`com.github.fommil.netlib:all:2.1.2`\n",
       "//import $ivy.`com.github.fommil.netlib:core:1.1.2`\n",
       "\u001b[39m\n",
       "\u001b[32mimport \u001b[39m\u001b[36m$ivy.$                                   \u001b[39m"
      ]
     },
     "execution_count": 6,
     "metadata": {},
     "output_type": "execute_result"
    }
   ],
   "source": [
    "import $ivy.`org.scalanlp:breeze_2.12:1.0-RC2`\n",
    "//import $ivy.`com.github.fommil.netlib:all:2.1.2`\n",
    "//import $ivy.`com.github.fommil.netlib:core:1.1.2`\n",
    "import $ivy.`com.github.fommil.netlib:all:1.1.2`"
   ]
  },
  {
   "cell_type": "code",
   "execution_count": 3,
   "metadata": {},
   "outputs": [
    {
     "data": {
      "text/plain": [
       "\u001b[32mimport \u001b[39m\u001b[36mbreeze.{linalg => np}\n",
       "\u001b[39m\n",
       "\u001b[32mimport \u001b[39m\u001b[36mbreeze.numerics._\n",
       "\u001b[39m\n",
       "\u001b[32mimport \u001b[39m\u001b[36mbreeze.linalg.{DenseMatrix => array}\u001b[39m"
      ]
     },
     "execution_count": 3,
     "metadata": {},
     "output_type": "execute_result"
    }
   ],
   "source": [
    "import breeze.{linalg => np}\n",
    "import breeze.numerics._\n",
    "import breeze.linalg.{DenseMatrix => array}"
   ]
  },
  {
   "cell_type": "code",
   "execution_count": 4,
   "metadata": {},
   "outputs": [
    {
     "data": {
      "text/plain": [
       "\u001b[36mx\u001b[39m: \u001b[32mbreeze\u001b[39m.\u001b[32mlinalg\u001b[39m.\u001b[32mDenseMatrix\u001b[39m[\u001b[32mDouble\u001b[39m] = 0.4988994202247996  0.1757710307341469  0.06953674383975605  \n",
       "0.0948640315493463  0.5785943063454204  0.18064948649543067  "
      ]
     },
     "execution_count": 4,
     "metadata": {},
     "output_type": "execute_result"
    }
   ],
   "source": [
    "val x = np.DenseMatrix.rand[Double](2, 3)"
   ]
  },
  {
   "cell_type": "code",
   "execution_count": 5,
   "metadata": {},
   "outputs": [
    {
     "name": "stderr",
     "output_type": "stream",
     "text": [
      "Feb 15, 2019 12:58:25 PM com.github.fommil.netlib.BLAS <clinit>\n",
      "WARNING: Failed to load implementation from: com.github.fommil.netlib.NativeSystemBLAS\n",
      "Feb 15, 2019 12:58:25 PM com.github.fommil.netlib.BLAS <clinit>\n",
      "WARNING: Failed to load implementation from: com.github.fommil.netlib.NativeRefBLAS\n"
     ]
    },
    {
     "data": {
      "text/plain": [
       "\u001b[36mres4\u001b[39m: \u001b[32mbreeze\u001b[39m.\u001b[32mlinalg\u001b[39m.\u001b[32mDenseMatrix\u001b[39m[\u001b[32mDouble\u001b[39m] = 0.28463144548982144  0.1615895050106155   \n",
       "0.1615895050106155   0.37640479278819633  "
      ]
     },
     "execution_count": 5,
     "metadata": {},
     "output_type": "execute_result"
    }
   ],
   "source": [
    "x * x.t"
   ]
  },
  {
   "cell_type": "code",
   "execution_count": 7,
   "metadata": {},
   "outputs": [
    {
     "data": {
      "text/plain": [
       "\u001b[36mres6\u001b[39m: \u001b[32mbreeze\u001b[39m.\u001b[32mlinalg\u001b[39m.\u001b[32mDenseMatrix\u001b[39m[\u001b[32mDouble\u001b[39m] = 0.43744444642166225  0.01737891583453297  0.4383566896845662    \n",
       "0.2585484679747986   0.16562448199427385  0.003570077371454383  "
      ]
     },
     "execution_count": 7,
     "metadata": {},
     "output_type": "execute_result"
    }
   ],
   "source": [
    "x *:* x"
   ]
  },
  {
   "cell_type": "code",
   "execution_count": 9,
   "metadata": {},
   "outputs": [
    {
     "name": "stderr",
     "output_type": "stream",
     "text": [
      "SLF4J: Failed to load class \"org.slf4j.impl.StaticLoggerBinder\".\n",
      "SLF4J: Defaulting to no-operation (NOP) logger implementation\n",
      "SLF4J: See http://www.slf4j.org/codes.html#StaticLoggerBinder for further details.\n"
     ]
    },
    {
     "name": "stdout",
     "output_type": "stream",
     "text": [
      "Took 0.006750472 seconds\n"
     ]
    },
    {
     "data": {
      "text/plain": [
       "\u001b[36mN\u001b[39m: \u001b[32mInt\u001b[39m = \u001b[32m1000000\u001b[39m\n",
       "\u001b[36mM\u001b[39m: \u001b[32mInt\u001b[39m = \u001b[32m100\u001b[39m\n",
       "\u001b[36mx\u001b[39m: \u001b[32morg\u001b[39m.\u001b[32mnd4j\u001b[39m.\u001b[32mlinalg\u001b[39m.\u001b[32mapi\u001b[39m.\u001b[32mndarray\u001b[39m.\u001b[32mINDArray\u001b[39m = [[   -0.2941,    0.4454,    0.4447  ...    1.4584    0.1096,    0.5660], \n",
       " [   -0.0480,    0.6321,    0.2317  ...   -0.7512   -0.6918,   -0.0147], \n",
       " [   -0.5767,   -0.8236,    0.5191  ...    1.1744   -0.2985,    1.9409], \n",
       "  ..., \n",
       " [   -0.2579,   -0.4969,   -1.5790  ...    0.3526    0.6035,    1.0644], \n",
       " [   -0.9057,   -0.9973,   -0.2534  ...    0.7005    0.8013,    0.1347], \n",
       " [   -0.7834,   -0.0847,   -0.3975  ...   -0.1399    0.4506,   -1.9991]]\n",
       "\u001b[36ms\u001b[39m: \u001b[32mLong\u001b[39m = \u001b[32m1387450208807596L\u001b[39m\n",
       "\u001b[36mres8_4\u001b[39m: \u001b[32morg\u001b[39m.\u001b[32mnd4j\u001b[39m.\u001b[32mlinalg\u001b[39m.\u001b[32mapi\u001b[39m.\u001b[32mndarray\u001b[39m.\u001b[32mINDArray\u001b[39m = [[  9.9893e5, -304.6689,-1045.8462  ... -954.6954-1168.4750, -374.4096], \n",
       " [ -304.6689,  1.0009e6,  563.8071  ...   80.2797 1301.6270,  422.2422], \n",
       " [-1045.8462,  563.8071,  9.9822e5  ...-1026.3806  625.3671,   36.3025], \n",
       "  ..., \n",
       " [ -954.6954,   80.2797,-1026.3806  ...  1.0023e6 -594.8437,   20.1082], \n",
       " [-1168.4750, 1301.6270,  625.3671  ... -594.8437  1.0009e6,  160.5548], \n",
       " [ -374.4096,  422.2422,   36.3025  ...   20.1082  160.5548,  9.9842e5]]\n",
       "\u001b[36mf\u001b[39m: \u001b[32mLong\u001b[39m = \u001b[32m1387450215558068L\u001b[39m"
      ]
     },
     "execution_count": 9,
     "metadata": {},
     "output_type": "execute_result"
    }
   ],
   "source": [
    "val N = (1E6).toInt\n",
    "val M = 100\n",
    "val x = Nd4j.randn(M, N)\n",
    "//val x = np.DenseMatrix.rand(M, N)\n",
    "val s = System.nanoTime()\n",
    "x.mmul(x.transpose)\n",
    "//x * x.t\n",
    "val f = System.nanoTime()\n",
    "println(f\"Took ${(f-s)/1e9} seconds\")"
   ]
  },
  {
   "cell_type": "code",
   "execution_count": 10,
   "metadata": {},
   "outputs": [
    {
     "name": "stdout",
     "output_type": "stream",
     "text": [
      "Took 0.575701975 seconds\n"
     ]
    },
    {
     "data": {
      "text/plain": [
       "\u001b[36mN\u001b[39m: \u001b[32mInt\u001b[39m = \u001b[32m1000000\u001b[39m\n",
       "\u001b[36mM\u001b[39m: \u001b[32mInt\u001b[39m = \u001b[32m100\u001b[39m\n",
       "\u001b[36mx\u001b[39m: \u001b[32mbreeze\u001b[39m.\u001b[32mlinalg\u001b[39m.\u001b[32mDenseMatrix\u001b[39m[\u001b[32mDouble\u001b[39m] = 0.574842810425052     0.6265592992806743    ... (1000000 total)\n",
       "0.18760759492671286   0.2958659795342642    ...\n",
       "0.09210833998116241   0.0722701556066021    ...\n",
       "0.48949009874928606   0.5707805849714513    ...\n",
       "0.14351132863954952   0.364340035835915     ...\n",
       "0.9659150681021706    0.1690744185004085    ...\n",
       "0.007218252457976915  0.1803109285130542    ...\n",
       "0.5728058782269112    0.5782459824597812    ...\n",
       "0.8992529191212462    0.8140285307141537    ...\n",
       "0.5578315249220578    0.6986974385249918    ...\n",
       "0.20050461003701425   0.5751310881313183    ...\n",
       "0.45051126926764806   0.8555962133389909    ...\n",
       "0.6245870777139375    0.12935454485860554   ...\n",
       "0.6191833271711644    0.9559170768741143    ...\n",
       "0.8257481139089549    0.5802052431121327    ...\n",
       "0.6091624914514544    0.5748503262183629    ...\n",
       "0.7113123591095736    0.9947103611155117    ...\n",
       "0.6356799115834546    0.5096101604452268    ...\n",
       "0.17818344564941402   0.88288320544394      ...\n",
       "0.6395058872343107    0.5127765509352042    ...\n",
       "0.9627957686176554    0.9004512344133935    ...\n",
       "0.21814595509466983   0.7157432392292808    ...\n",
       "0.7859703029244642    0.36861200498534763   ...\n",
       "0.9854282706850179    0.6559356244243417    ...\n",
       "0.20620911505402684   0.29501539467384963   ...\n",
       "0.2035820335346843    0.9617220425994737    ...\n",
       "0.6760195961091531    0.6581943508305932    ...\n",
       "0.43112952289243345   0.3521884347023949    ...\n",
       "0.43738140331140274   0.4060211893356238    ...\n",
       "0.7159915030281929    0.5150299233597735    ...\n",
       "0.3982757610484329    0.8507524018236914    ...\n",
       "0.6253538913433729    0.46750206587293097   ...\n",
       "0.31892458676899826   0.6279005883378781    ...\n",
       "0.05983380743540723   0.5324056286634957    ...\n",
       "0.32067026623398      0.8149957629623663    ...\n",
       "0.4529844271007235    0.24207028593138902   ...\n",
       "0.5232648736355947    0.47521634725199546   ...\n",
       "0.8057676022809885    0.6487097200049845    ...\n",
       "0.7558451761442728    0.4098757929237229    ...\n",
       "...\n",
       "\u001b[36ms\u001b[39m: \u001b[32mLong\u001b[39m = \u001b[32m1387461851303550L\u001b[39m\n",
       "\u001b[36mres9_4\u001b[39m: \u001b[32mbreeze\u001b[39m.\u001b[32mlinalg\u001b[39m.\u001b[32mDenseMatrix\u001b[39m[\u001b[32mDouble\u001b[39m] = 333796.71313519456  250016.56261065384  250142.8191600383   ... (100 total)\n",
       "250016.56261065384  333011.54707152274  249698.72727456555  ...\n",
       "250142.8191600383   249698.72727456555  332972.5392477663   ...\n",
       "250565.74860518242  250039.90357633907  250071.21342497237  ...\n",
       "250467.1735393559   249943.3462200268   249838.11105398668  ...\n",
       "250461.5710266132   250019.83854941482  250025.26447593395  ...\n",
       "250285.1627380628   249881.25486959543  249982.95404232922  ...\n",
       "250428.81795795995  250200.86545908905  250084.5369476421   ...\n",
       "250201.93776502844  249813.52180303386  249782.61964428332  ...\n",
       "250364.0856046183   249958.4954656251   250066.0324871317   ...\n",
       "250075.1891983899   249715.78495518255  249801.25619836213  ...\n",
       "250388.30724008777  249980.2281503615   250005.24756502153  ...\n",
       "249971.53032969864  249715.77921969123  249676.2777972627   ...\n",
       "250413.75540437613  249786.4364946593   250048.40802243433  ...\n",
       "250277.4581783274   249838.7057231502   249795.18081234337  ...\n",
       "250570.2227403994   249945.6972472779   250038.38824171838  ...\n",
       "250223.42749857882  249922.0072319274   249683.89642136567  ...\n",
       "250315.89287208093  249713.9568526591   249833.70547378802  ...\n",
       "250463.8935295865   250013.03692637003  250162.67153720825  ...\n",
       "250394.55092856468  249837.6916264613   249868.6657886611   ...\n",
       "250103.1723437132   249835.75793578767  249635.9900020762   ...\n",
       "250459.8166169592   250166.57594273638  250112.1945016459   ...\n",
       "250097.161879604    249785.85615706333  249743.04164759768  ...\n",
       "250193.67751466407  249924.26605397798  249891.15089477043  ...\n",
       "250630.04222499894  250132.27924572368  250210.77468663934  ...\n",
       "250062.65484479166  249567.21567369555  249580.50283819946  ...\n",
       "250344.96356001592  249956.06954530062  249992.75796879415  ...\n",
       "250114.4262615526   249644.90489909213  249717.76169683508  ...\n",
       "250373.0466034212   249808.30761045936  249785.75599075298  ...\n",
       "250099.4502014719   249839.76055360114  249832.81306503186  ...\n",
       "250296.75582134078  249933.33557786653  249949.09491955535  ...\n",
       "250051.9381430042   249712.59751033416  249836.79622981182  ...\n",
       "250086.40043889792  249779.00828082208  249800.89040942912  ...\n",
       "250362.87152353593  250001.89187841964  250045.15966551393  ...\n",
       "250261.76759166396  249836.33617769898  249823.41511397684  ...\n",
       "250250.39227381922  249769.93828870202  249702.81184068625  ...\n",
       "250322.93372949676  249805.47208674895  249711.88102544902  ...\n",
       "250401.38049352798  249732.41169330166  249958.05657211645  ...\n",
       "250125.79341008217  249828.4384390179   249686.40001381026  ...\n",
       "...\n",
       "\u001b[36mf\u001b[39m: \u001b[32mLong\u001b[39m = \u001b[32m1387462427005525L\u001b[39m"
      ]
     },
     "execution_count": 10,
     "metadata": {},
     "output_type": "execute_result"
    }
   ],
   "source": [
    "val N = (1E6).toInt\n",
    "val M = 100\n",
    "//val x = Nd4j.randn(M, N)\n",
    "val x = np.DenseMatrix.rand(M, N)\n",
    "val s = System.nanoTime()\n",
    "//x.mmul(x.transpose)\n",
    "x * x.t\n",
    "val f = System.nanoTime()\n",
    "println(f\"Took ${(f-s)/1e9} seconds\")"
   ]
  },
  {
   "cell_type": "code",
   "execution_count": 9,
   "metadata": {},
   "outputs": [
    {
     "ename": "",
     "evalue": "",
     "output_type": "error",
     "traceback": [
      "\u001b[31mjava.lang.NoSuchMethodError: scala.collection.immutable.$colon$colon.tl$1()Lscala/collection/immutable/List;\u001b[39m\n  org.nd4s.SliceableNDArray$class.modifyTargetIndices$2(\u001b[32mSliceableNDArray.scala\u001b[39m:\u001b[32m99\u001b[39m)\n  org.nd4s.SliceableNDArray$class.getINDArrayIndexfrom(\u001b[32mSliceableNDArray.scala\u001b[39m:\u001b[32m116\u001b[39m)\n  org.nd4s.Implicits$RichINDArray.getINDArrayIndexfrom(\u001b[32mImplicits.scala\u001b[39m:\u001b[32m10\u001b[39m)\n  org.nd4s.SliceableNDArray$class.subMatrix(\u001b[32mSliceableNDArray.scala\u001b[39m:\u001b[32m33\u001b[39m)\n  org.nd4s.Implicits$RichINDArray.subMatrix(\u001b[32mImplicits.scala\u001b[39m:\u001b[32m10\u001b[39m)\n  org.nd4s.SliceableNDArray$class.apply(\u001b[32mSliceableNDArray.scala\u001b[39m:\u001b[32m16\u001b[39m)\n  org.nd4s.Implicits$RichINDArray.apply(\u001b[32mImplicits.scala\u001b[39m:\u001b[32m10\u001b[39m)\n  ammonite.$sess.cmd8$Helper.<init>(\u001b[32mcmd8.sc\u001b[39m:\u001b[32m1\u001b[39m)\n  ammonite.$sess.cmd8$.<init>(\u001b[32mcmd8.sc\u001b[39m:\u001b[32m7\u001b[39m)\n  ammonite.$sess.cmd8$.<clinit>(\u001b[32mcmd8.sc\u001b[39m:\u001b[32m-1\u001b[39m)"
     ]
    }
   ],
   "source": [
    "x(1->2)"
   ]
  },
  {
   "cell_type": "code",
   "execution_count": null,
   "metadata": {},
   "outputs": [],
   "source": [
    "Nd4j.m"
   ]
  }
 ],
 "metadata": {
  "kernelspec": {
   "display_name": "Scala",
   "language": "scala",
   "name": "scala"
  },
  "language_info": {
   "codemirror_mode": "text/x-scala",
   "file_extension": ".scala",
   "mimetype": "text/x-scala",
   "name": "scala",
   "nbconvert_exporter": "script",
   "version": "2.12.8"
  }
 },
 "nbformat": 4,
 "nbformat_minor": 2
}
