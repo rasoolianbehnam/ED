{
 "cells": [
  {
   "cell_type": "code",
   "execution_count": 3,
   "metadata": {},
   "outputs": [
    {
     "ename": "",
     "evalue": "",
     "output_type": "error",
     "traceback": [
      "java.util.NoSuchElementException: Config config (Config config)",
      "  ammonite.util.Classpath.addInConfig(Classpath.scala:65)",
      "  cmd2$$user$$anonfun$1.apply$mcV$sp(Main.scala:24)"
     ]
    }
   ],
   "source": [
    "classpath.addInConfig(\"config\")(\n",
    "\"org.nd4j\"%\"nd4j-native-platform\"%\"0.9.1\"\n",
    ")"
   ]
  },
  {
   "cell_type": "code",
   "execution_count": 4,
   "metadata": {},
   "outputs": [
    {
     "data": {
      "text/plain": [
       "\u001b[36mres3\u001b[0m: \u001b[32mSeq\u001b[0m[\u001b[32mString\u001b[0m] = \u001b[33mList\u001b[0m(\n",
       "  \u001b[32m\"ivy2Local\"\u001b[0m,\n",
       "  \u001b[32m\"https://repo1.maven.org/maven2\"\u001b[0m,\n",
       "  \u001b[32m\"https://oss.sonatype.org/content/repositories/releases\"\u001b[0m,\n",
       "  \u001b[32m\"https://repo1.maven.org\"\u001b[0m\n",
       ")"
      ]
     },
     "metadata": {},
     "output_type": "display_data"
    }
   ],
   "source": [
    "classpath.repositories"
   ]
  },
  {
   "cell_type": "code",
   "execution_count": null,
   "metadata": {},
   "outputs": [],
   "source": []
  }
 ],
 "metadata": {
  "kernelspec": {
   "display_name": "Scala 2.11",
   "language": "scala211",
   "name": "scala211"
  },
  "language_info": {
   "codemirror_mode": "text/x-scala",
   "file_extension": ".scala",
   "mimetype": "text/x-scala",
   "name": "scala211",
   "pygments_lexer": "scala",
   "version": "2.11.7"
  }
 },
 "nbformat": 4,
 "nbformat_minor": 2
}
