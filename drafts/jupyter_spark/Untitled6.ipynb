{
 "cells": [
  {
   "cell_type": "code",
   "execution_count": 1,
   "metadata": {},
   "outputs": [
    {
     "data": {
      "text/plain": [
       "\u001b[32mimport \u001b[36mjava.io.File\u001b[0m\n",
       "\u001b[32mimport \u001b[36mammonite.api.Classpath\u001b[0m"
      ]
     },
     "metadata": {},
     "output_type": "display_data"
    }
   ],
   "source": [
    "import java.io.File\n",
    "import ammonite.api.Classpath"
   ]
  },
  {
   "cell_type": "code",
   "execution_count": 2,
   "metadata": {},
   "outputs": [
    {
     "name": "stdout",
     "output_type": "stream",
     "text": [
      "3.42%...6.85%...10.27%...13.70%...17.12%...20.55%...23.97%...27.40%...30.82%...34.25%...37.67%...41.10%...44.52%...47.95%...51.37%...54.79%...58.22%...61.64%...65.07%...68.49%...71.92%...75.34%...78.77%...82.19%...85.62%...89.04%...92.47%...95.89%...99.32%..."
     ]
    },
    {
     "data": {
      "text/plain": [
       "\u001b[36mf\u001b[0m: java.io.File = /Users/behnamrasoolian/git/dl4j-examples/dl4j-examples/target/dependency\n",
       "\u001b[36mn\u001b[0m: Int = \u001b[32m292\u001b[0m\n",
       "\u001b[36mi\u001b[0m: Int = \u001b[32m292\u001b[0m"
      ]
     },
     "metadata": {},
     "output_type": "display_data"
    }
   ],
   "source": [
    "val f:File = new File(System.getProperty(\"user.home\") + \"/git/dl4j-examples/dl4j-examples/target/dependency\")\n",
    "val n = f.listFiles.size\n",
    "var i = 0\n",
    "f.listFiles.map(_.toString).filter(_.endsWith(\"jar\")).par.foreach((f: String) => { \n",
    "    classpath.addPath(f.toString)\n",
    "    i += 1\n",
    "    if (i%10==0) print(f\"${i.toDouble / n * 100}%4.2f%%...\")\n",
    "})"
   ]
  },
  {
   "cell_type": "code",
   "execution_count": 3,
   "metadata": {},
   "outputs": [
    {
     "data": {
      "text/plain": []
     },
     "metadata": {},
     "output_type": "display_data"
    }
   ],
   "source": [
    "//myBlock(classpath)"
   ]
  },
  {
   "cell_type": "code",
   "execution_count": 4,
   "metadata": {},
   "outputs": [
    {
     "data": {
      "text/plain": [
       "defined \u001b[32mfunction \u001b[36mrunInThread\u001b[0m"
      ]
     },
     "metadata": {},
     "output_type": "display_data"
    }
   ],
   "source": [
    "def runInThread[T](a: T)(block: T => Unit) {\n",
    "new Thread {\n",
    "    override def run() { block(a) }\n",
    "    }.start()\n",
    "}"
   ]
  },
  {
   "cell_type": "code",
   "execution_count": 5,
   "metadata": {},
   "outputs": [
    {
     "data": {
      "text/plain": []
     },
     "metadata": {},
     "output_type": "display_data"
    }
   ],
   "source": [
    "//runInThread(classpath)(myBlock)"
   ]
  },
  {
   "cell_type": "code",
   "execution_count": 6,
   "metadata": {},
   "outputs": [
    {
     "name": "stdout",
     "output_type": "stream",
     "text": [
      "mardas\n"
     ]
    },
    {
     "data": {
      "text/plain": []
     },
     "metadata": {},
     "output_type": "display_data"
    }
   ],
   "source": [
    "runInThread(System.out)(_.println(\"mardas\"))"
   ]
  },
  {
   "cell_type": "code",
   "execution_count": 33,
   "metadata": {},
   "outputs": [
    {
     "data": {
      "text/plain": [
       "\u001b[32mimport \u001b[36morg.bytedeco.javacpp.opencv_core._\u001b[0m\n",
       "\u001b[32mimport \u001b[36morg.bytedeco.javacpp.opencv_core\u001b[0m"
      ]
     },
     "metadata": {},
     "output_type": "display_data"
    }
   ],
   "source": [
    "import org.bytedeco.javacpp.opencv_core._\n",
    "import org.bytedeco.javacpp.opencv_core"
   ]
  },
  {
   "cell_type": "code",
   "execution_count": 9,
   "metadata": {},
   "outputs": [
    {
     "data": {
      "text/plain": [
       "\u001b[32mimport \u001b[36morg.nd4s.Implicits._\u001b[0m\n",
       "\u001b[32mimport \u001b[36morg.datavec.image.loader.NativeImageLoader\u001b[0m"
      ]
     },
     "metadata": {},
     "output_type": "display_data"
    }
   ],
   "source": [
    "import org.nd4s.Implicits._\n",
    "import org.datavec.image.loader.NativeImageLoader"
   ]
  },
  {
   "cell_type": "code",
   "execution_count": 10,
   "metadata": {},
   "outputs": [
    {
     "data": {
      "text/plain": [
       "\u001b[36mloader\u001b[0m: org.datavec.image.loader.NativeImageLoader = org.datavec.image.loader.NativeImageLoader@5841af40"
      ]
     },
     "metadata": {},
     "output_type": "display_data"
    }
   ],
   "source": [
    "val loader = new NativeImageLoader(100, 200)"
   ]
  },
  {
   "cell_type": "code",
   "execution_count": 11,
   "metadata": {},
   "outputs": [
    {
     "name": "stdout",
     "output_type": "stream",
     "text": [
      "23:39:06.241 [pool-4-thread-3] INFO org.nd4j.linalg.factory.Nd4jBackend - Loaded [CpuBackend] backend\n",
      "23:39:06.338 [pool-4-thread-3] WARN org.reflections.Reflections - given scan urls are empty. set urls in the configuration\n",
      "23:39:07.979 [pool-4-thread-3] INFO org.nd4j.nativeblas.NativeOpsHolder - Number of threads used for NativeOps: 2\n",
      "23:39:08.396 [pool-4-thread-3] INFO org.nd4j.nativeblas.Nd4jBlas - Number of threads used for BLAS: 2\n",
      "23:39:08.508 [pool-4-thread-3] INFO org.nd4j.linalg.api.ops.executioner.DefaultOpExecutioner - Backend used: [CPU]; OS: [Mac OS X]\n",
      "23:39:08.509 [pool-4-thread-3] INFO org.nd4j.linalg.api.ops.executioner.DefaultOpExecutioner - Cores: [4]; Memory: [0.9GB];\n",
      "23:39:08.509 [pool-4-thread-3] INFO org.nd4j.linalg.api.ops.executioner.DefaultOpExecutioner - Blas vendor: [OPENBLAS]\n",
      "23:39:08.599 [pool-4-thread-3] DEBUG org.reflections.Reflections - going to scan these urls:\n",
      "jar:file:/Users/behnamrasoolian/git/dl4j-examples/dl4j-examples/target/dependency/nd4j-native-1.0.0-alpha-macosx-x86_64.jar!/\n",
      "jar:file:/Users/behnamrasoolian/git/dl4j-examples/dl4j-examples/target/dependency/nd4j-native-api-1.0.0-alpha.jar!/\n",
      "jar:file:/Users/behnamrasoolian/git/dl4j-examples/dl4j-examples/target/dependency/nd4j-common-1.0.0-alpha.jar!/\n",
      "jar:file:/Users/behnamrasoolian/git/dl4j-examples/dl4j-examples/target/dependency/nd4j-jackson-1.0.0-alpha.jar!/\n",
      "jar:file:/Users/behnamrasoolian/git/dl4j-examples/dl4j-examples/target/dependency/nd4j-native-1.0.0-alpha.jar!/\n",
      "jar:file:/Users/behnamrasoolian/git/dl4j-examples/dl4j-examples/target/dependency/nd4j-base64-1.0.0-alpha.jar!/\n",
      "jar:file:/Users/behnamrasoolian/git/dl4j-examples/dl4j-examples/target/dependency/nd4j-native-1.0.0-alpha-linux-x86_64.jar!/\n",
      "jar:file:/Users/behnamrasoolian/git/dl4j-examples/dl4j-examples/target/dependency/nd4j-native-1.0.0-alpha-ios-x86_64.jar!/\n",
      "jar:file:/Users/behnamrasoolian/git/dl4j-examples/dl4j-examples/target/dependency/nd4j-context-1.0.0-alpha.jar!/\n",
      "jar:file:/Users/behnamrasoolian/git/dl4j-examples/dl4j-examples/target/dependency/nd4j-native-1.0.0-alpha-linux-ppc64le.jar!/\n",
      "jar:file:/Users/behnamrasoolian/git/dl4j-examples/dl4j-examples/target/dependency/nd4j-buffer-1.0.0-alpha.jar!/\n",
      "jar:file:/Users/behnamrasoolian/git/dl4j-examples/dl4j-examples/target/dependency/nd4j-api-1.0.0-alpha.jar!/\n",
      "jar:file:/Users/behnamrasoolian/git/dl4j-examples/dl4j-examples/target/dependency/nd4j-native-1.0.0-alpha-windows-x86_64.jar!/\n",
      "jar:file:/Users/behnamrasoolian/git/dl4j-examples/dl4j-examples/target/dependency/nd4j-native-1.0.0-alpha-ios-arm64.jar!/\n",
      "jar:file:/Users/behnamrasoolian/git/dl4j-examples/dl4j-examples/target/dependency/jackson-1.0.0-alpha.jar!/\n",
      "jar:file:/Users/behnamrasoolian/git/dl4j-examples/dl4j-examples/target/dependency/nd4j-jackson-reflectionloader-1.0.0-alpha.jar!/\n",
      "23:39:09.404 [pool-4-thread-3] INFO org.reflections.Reflections - Reflections took 736 ms to scan 16 urls, producing 468 keys and 2930 values \n"
     ]
    },
    {
     "data": {
      "text/plain": [
       "\u001b[36mimage\u001b[0m: org.nd4j.linalg.api.ndarray.INDArray = [[[[         0,         0,         0  ...         0         0,         0], \n",
       "   [         0,         0,         0  ...         0         0,         0], \n",
       "   [         0,         0,         0  ...         0         0,         0], \n",
       "    ..., \n",
       "   [         0,         0,         0  ...         0         0,         0], \n",
       "   [         0,         0,         0  ...         0         0,         0], \n",
       "   [         0,         0,         0  ...         0         0,         0]], \n",
       "\n",
       "  [[         0,         0,         0  ...         0         0,         0], \n",
       "   [         0,         0,         0  ...         0         0,         0], \n",
       "   [         0,         0,         0  ...         0         0,         0], \n",
       "    ..., \n",
       "   [         0,         0,         0  ...         0         0,         0], \n",
       "   [         0,         0,         0  ...         0         0,         0], \n",
       "   [         0,         0,         0  ...         0         0,         0]], \n",
       "\n",
       "  [[         0,         0,         0  ...         0         0,         0], \n",
       "   [         0,         0,         0  ...         0         0,         0], \n",
       "   [         0,         0,         0  ...         0         0,         0], \n",
       "    ..., \n",
       "\u001b[33m...\u001b[0m"
      ]
     },
     "metadata": {},
     "output_type": "display_data"
    }
   ],
   "source": [
    "val image = loader.asMatrix(new File(\"/Users/behnamrasoolian/Dropbox/notebook/sesek/figures/fig_violing_plot.png\"))"
   ]
  },
  {
   "cell_type": "code",
   "execution_count": 30,
   "metadata": {},
   "outputs": [
    {
     "data": {
      "text/plain": [
       "\u001b[36mres29\u001b[0m: Array[Int] = \u001b[33mArray\u001b[0m(\u001b[32m100\u001b[0m, \u001b[32m200\u001b[0m)"
      ]
     },
     "metadata": {},
     "output_type": "display_data"
    }
   ],
   "source": [
    "image(0, 1, --->).shape"
   ]
  },
  {
   "cell_type": "code",
   "execution_count": 32,
   "metadata": {},
   "outputs": [
    {
     "data": {
      "text/plain": [
       "\u001b[36mindices\u001b[0m: org.bytedeco.javacpp.opencv_core.Mat = org.bytedeco.javacpp.opencv_core$Mat[width=0,height=0,depth=8,channels=1]\n",
       "\u001b[36mmat\u001b[0m: org.bytedeco.javacpp.opencv_core.Mat = org.bytedeco.javacpp.opencv_core$Mat[width=200,height=100,depth=32,channels=3]"
      ]
     },
     "metadata": {},
     "output_type": "display_data"
    }
   ],
   "source": [
    "val indices = new Mat()\n",
    "val mat = loader.asMat(image)"
   ]
  },
  {
   "cell_type": "code",
   "execution_count": null,
   "metadata": {},
   "outputs": [],
   "source": [
    "org.bytedeco.javacpp.opencv_core"
   ]
  },
  {
   "cell_type": "code",
   "execution_count": null,
   "metadata": {},
   "outputs": [],
   "source": []
  }
 ],
 "metadata": {
  "kernelspec": {
   "display_name": "Scala 2.10",
   "language": "scala210",
   "name": "scala210"
  },
  "language_info": {
   "codemirror_mode": "text/x-scala",
   "file_extension": ".scala",
   "mimetype": "text/x-scala",
   "name": "scala210",
   "pygments_lexer": "scala",
   "version": "2.10.6"
  }
 },
 "nbformat": 4,
 "nbformat_minor": 2
}
