{
 "cells": [
  {
   "cell_type": "code",
   "execution_count": 1,
   "metadata": {},
   "outputs": [
    {
     "data": {
      "text/plain": []
     },
     "metadata": {},
     "output_type": "display_data"
    }
   ],
   "source": [
    "classpath.addPath(System.getProperty(\"user.home\") + \"/git/dl4j-examples/dl4j-examples/target/classes\")"
   ]
  },
  {
   "cell_type": "code",
   "execution_count": 3,
   "metadata": {
    "scrolled": true
   },
   "outputs": [
    {
     "name": "stdout",
     "output_type": "stream",
     "text": [
      "Added 1/290\n",
      "Added 2/290\n",
      "Added 3/290\n",
      "Added 4/290\n",
      "Added 5/290\n",
      "Added 6/290\n",
      "Added 7/290\n",
      "Added 8/290\n",
      "Added 9/290\n",
      "Added 10/290\n",
      "Added 11/290\n",
      "Added 12/290\n",
      "Added 13/290\n",
      "Added 14/290\n",
      "Added 15/290\n",
      "Added 16/290\n",
      "Added 17/290\n",
      "Added 18/290\n",
      "Added 19/290\n",
      "Added 20/290\n",
      "Added 21/290\n",
      "Added 22/290\n",
      "Added 23/290\n",
      "Added 24/290\n",
      "Added 25/290\n",
      "Added 26/290\n",
      "Added 27/290\n",
      "Added 28/290\n",
      "Added 29/290\n",
      "Added 30/290\n",
      "Added 31/290\n",
      "Added 32/290\n",
      "Added 33/290\n",
      "Added 34/290\n",
      "Added 35/290\n",
      "Added 36/290\n",
      "Added 37/290\n",
      "Added 38/290\n",
      "Added 39/290\n",
      "Added 40/290\n",
      "Added 41/290\n",
      "Added 42/290\n",
      "Added 43/290\n",
      "Added 44/290\n",
      "Added 45/290\n",
      "Added 46/290\n",
      "Added 47/290\n",
      "Added 48/290\n",
      "Added 49/290\n",
      "Added 50/290\n",
      "Added 51/290\n",
      "Added 52/290\n",
      "Added 53/290\n",
      "Added 54/290\n",
      "Added 55/290\n",
      "Added 56/290\n",
      "Added 57/290\n",
      "Added 58/290\n",
      "Added 59/290\n",
      "Added 60/290\n",
      "Added 61/290\n",
      "Added 62/290\n",
      "Added 63/290\n",
      "Added 64/290\n",
      "Added 65/290\n",
      "Added 66/290\n",
      "Added 67/290\n",
      "Added 68/290\n",
      "Added 69/290\n",
      "Added 70/290\n",
      "Added 71/290\n",
      "Added 72/290\n",
      "Added 73/290\n",
      "Added 74/290\n",
      "Added 75/290\n",
      "Added 76/290\n",
      "Added 77/290\n",
      "Added 78/290\n",
      "Added 79/290\n",
      "Added 80/290\n",
      "Added 81/290\n",
      "Added 82/290\n",
      "Added 83/290\n",
      "Added 84/290\n",
      "Added 85/290\n",
      "Added 86/290\n",
      "Added 87/290\n",
      "Added 88/290\n",
      "Added 89/290\n",
      "Added 90/290\n",
      "Added 91/290\n",
      "Added 92/290\n",
      "Added 93/290\n",
      "Added 94/290\n",
      "Added 95/290\n",
      "Added 96/290\n",
      "Added 97/290\n",
      "Added 98/290\n",
      "Added 99/290\n",
      "Added 100/290\n",
      "Added 101/290\n",
      "Added 102/290\n",
      "Added 103/290\n",
      "Added 104/290\n",
      "Added 105/290\n",
      "Added 106/290\n",
      "Added 107/290\n",
      "Added 108/290\n",
      "Added 109/290\n",
      "Added 110/290\n",
      "Added 111/290\n",
      "Added 112/290\n",
      "Added 113/290\n",
      "Added 114/290\n",
      "Added 115/290\n",
      "Added 116/290\n",
      "Added 117/290\n",
      "Added 118/290\n",
      "Added 119/290\n",
      "Added 120/290\n",
      "Added 121/290\n",
      "Added 122/290\n",
      "Added 123/290\n",
      "Added 124/290\n",
      "Added 125/290\n",
      "Added 126/290\n",
      "Added 127/290\n",
      "Added 128/290\n",
      "Added 129/290\n",
      "Added 130/290\n",
      "Added 131/290\n",
      "Added 132/290\n",
      "Added 133/290\n",
      "Added 134/290\n",
      "Added 135/290\n",
      "Added 136/290\n",
      "Added 137/290\n",
      "Added 138/290\n",
      "Added 139/290\n",
      "Added 140/290\n",
      "Added 141/290\n",
      "Added 142/290\n",
      "Added 143/290\n",
      "Added 144/290\n",
      "Added 145/290\n",
      "Added 146/290\n",
      "Added 147/290\n",
      "Added 148/290\n",
      "Added 149/290\n",
      "Added 150/290\n",
      "Added 151/290\n",
      "Added 152/290\n",
      "Added 153/290\n",
      "Added 154/290\n",
      "Added 155/290\n",
      "Added 156/290\n",
      "Added 157/290\n",
      "Added 158/290\n",
      "Added 159/290\n",
      "Added 160/290\n",
      "Added 161/290\n",
      "Added 162/290\n",
      "Added 163/290\n",
      "Added 164/290\n",
      "Added 165/290\n",
      "Added 166/290\n",
      "Added 167/290\n",
      "Added 168/290\n",
      "Added 169/290\n",
      "Added 170/290\n",
      "Added 171/290\n",
      "Added 172/290\n",
      "Added 173/290\n",
      "Added 174/290\n",
      "Added 175/290\n",
      "Added 176/290\n",
      "Added 177/290\n",
      "Added 178/290\n",
      "Added 179/290\n",
      "Added 180/290\n",
      "Added 181/290\n",
      "Added 182/290\n",
      "Added 183/290\n",
      "Added 184/290\n",
      "Added 185/290\n",
      "Added 186/290\n",
      "Added 187/290\n",
      "Added 188/290\n",
      "Added 189/290\n",
      "Added 190/290\n",
      "Added 191/290\n",
      "Added 192/290\n",
      "Added 193/290\n",
      "Added 194/290\n",
      "Added 195/290\n",
      "Added 196/290\n",
      "Added 197/290\n",
      "Added 198/290\n",
      "Added 199/290\n",
      "Added 200/290\n",
      "Added 201/290\n",
      "Added 202/290\n",
      "Added 203/290\n",
      "Added 204/290\n",
      "Added 205/290\n",
      "Added 206/290\n",
      "Added 207/290\n",
      "Added 208/290\n",
      "Added 209/290\n",
      "Added 210/290\n",
      "Added 211/290\n",
      "Added 212/290\n",
      "Added 213/290\n",
      "Added 214/290\n",
      "Added 215/290\n",
      "Added 216/290\n",
      "Added 217/290\n",
      "Added 218/290\n",
      "Added 219/290\n",
      "Added 220/290\n",
      "Added 221/290\n",
      "Added 222/290\n",
      "Added 223/290\n",
      "Added 224/290\n",
      "Added 225/290\n",
      "Added 226/290\n",
      "Added 227/290\n",
      "Added 228/290\n",
      "Added 229/290\n",
      "Added 230/290\n",
      "Added 231/290\n",
      "Added 232/290\n",
      "Added 233/290\n",
      "Added 234/290\n",
      "Added 235/290\n",
      "Added 236/290\n",
      "Added 237/290\n",
      "Added 238/290\n",
      "Added 239/290\n",
      "Added 240/290\n",
      "Added 241/290\n",
      "Added 242/290\n",
      "Added 243/290\n",
      "Added 244/290\n",
      "Added 245/290\n",
      "Added 246/290\n",
      "Added 247/290\n",
      "Added 248/290\n",
      "Added 249/290\n",
      "Added 250/290\n",
      "Added 251/290\n",
      "Added 252/290\n",
      "Added 253/290\n",
      "Added 254/290\n",
      "Added 255/290\n",
      "Added 256/290\n",
      "Added 257/290\n",
      "Added 258/290\n",
      "Added 259/290\n",
      "Added 260/290\n",
      "Added 261/290\n",
      "Added 262/290\n",
      "Added 263/290\n",
      "Added 264/290\n",
      "Added 265/290\n",
      "Added 266/290\n",
      "Added 267/290\n",
      "Added 268/290\n",
      "Added 269/290\n",
      "Added 270/290\n",
      "Added 271/290\n",
      "Added 272/290\n",
      "Added 273/290\n",
      "Added 274/290\n",
      "Added 275/290\n",
      "Added 276/290\n",
      "Added 277/290\n",
      "Added 278/290\n",
      "Added 279/290\n",
      "Added 280/290\n",
      "Added 281/290\n",
      "Added 282/290\n",
      "Added 283/290\n",
      "Added 284/290\n",
      "Added 285/290\n",
      "Added 286/290\n",
      "Added 287/290\n",
      "Added 288/290\n",
      "Added 289/290\n",
      "Added 290/290\n"
     ]
    },
    {
     "data": {
      "text/plain": [
       "\u001b[32mimport \u001b[36mjava.io.File\u001b[0m\n",
       "\u001b[36mf\u001b[0m: \u001b[32mjava\u001b[0m.\u001b[32mio\u001b[0m.\u001b[32mFile\u001b[0m = /home/bzr0014/git/dl4j-examples/dl4j-examples/target/dependency\n",
       "\u001b[36mn\u001b[0m: \u001b[32mInt\u001b[0m = \u001b[32m290\u001b[0m\n",
       "\u001b[36mi\u001b[0m: \u001b[32mInt\u001b[0m = \u001b[32m290\u001b[0m"
      ]
     },
     "metadata": {},
     "output_type": "display_data"
    }
   ],
   "source": [
    "import java.io.File\n",
    "val f:File = new File(System.getProperty(\"user.home\") + \"/git/dl4j-examples/dl4j-examples/target/dependency\")\n",
    "val n = f.listFiles.size\n",
    "var i = 0\n",
    "f.listFiles.foreach((f: File) => { \n",
    "    if (f.toString.endsWith(\"jar\")) {\n",
    "        i += 1\n",
    "        println(\"Added \" + i + \"/\" + n)\n",
    "        classpath.addPath(f.toString)\n",
    "    }\n",
    "})"
   ]
  },
  {
   "cell_type": "code",
   "execution_count": 4,
   "metadata": {},
   "outputs": [
    {
     "data": {
      "text/plain": [
       "\u001b[32mimport \u001b[36morg.deeplearning4j.nn.multilayer.MultiLayerNetwork\u001b[0m\n",
       "\u001b[32mimport \u001b[36morg.deeplearning4j.nn.conf.MultiLayerConfiguration\u001b[0m\n",
       "\u001b[32mimport \u001b[36morg.deeplearning4j.nn.conf.NeuralNetConfiguration\u001b[0m\n",
       "\u001b[32mimport \u001b[36morg.deeplearning4j.nn.weights.WeightInit\u001b[0m\n",
       "\u001b[32mimport \u001b[36morg.nd4j.linalg.learning.config.Adam\u001b[0m\n",
       "\u001b[32mimport \u001b[36morg.deeplearning4j.nn.conf.layers.LSTM\u001b[0m\n",
       "\u001b[32mimport \u001b[36morg.nd4j.linalg.activations.Activation\u001b[0m\n",
       "\u001b[32mimport \u001b[36morg.nd4j.linalg.lossfunctions.LossFunctions\u001b[0m\n",
       "\u001b[32mimport \u001b[36morg.deeplearning4j.nn.conf.layers.RnnOutputLayer\u001b[0m\n",
       "defined \u001b[32mfunction \u001b[36mcreateModel\u001b[0m"
      ]
     },
     "metadata": {},
     "output_type": "display_data"
    }
   ],
   "source": [
    "import org.deeplearning4j.nn.multilayer.MultiLayerNetwork\n",
    "import org.deeplearning4j.nn.conf.MultiLayerConfiguration\n",
    "import org.deeplearning4j.nn.conf.NeuralNetConfiguration\n",
    "import org.deeplearning4j.nn.weights.WeightInit\n",
    "import org.nd4j.linalg.learning.config.Adam\n",
    "import org.deeplearning4j.nn.conf.layers.LSTM\n",
    "import org.nd4j.linalg.activations.Activation\n",
    "import org.nd4j.linalg.lossfunctions.LossFunctions\n",
    "import org.deeplearning4j.nn.conf.layers.RnnOutputLayer\n",
    "def createModel(): MultiLayerNetwork = {\n",
    "    val conf: MultiLayerConfiguration = new  NeuralNetConfiguration.Builder()\n",
    "    .seed(123456)\n",
    "    .optimizationAlgo(org.deeplearning4j.nn.api.OptimizationAlgorithm.STOCHASTIC_GRADIENT_DESCENT)\n",
    "    .updater(new Adam(2e-3))\n",
    "    .l2(1e-5)\n",
    "    .weightInit(WeightInit.XAVIER)\n",
    "    .list()\n",
    "    .layer(0, new LSTM.Builder().name(\"encoder0\").nIn(784).nOut(800).build())\n",
    "    .layer(1, new LSTM.Builder().name(\"encoder1\").nIn(800).nOut(250).build())\n",
    "    .layer(2, new LSTM.Builder().name(\"encoder2\").nIn(250).nOut(10).build())\n",
    "    .layer(3, new LSTM.Builder().name(\"encoder3\").nIn(10).nOut(250).build())\n",
    "    .layer(4, new LSTM.Builder().name(\"encoder4\").nIn(250).nOut(800).build())\n",
    "    .layer(5, new RnnOutputLayer.Builder().name(\"output\").nIn(800).nOut(784)\n",
    "           .activation(Activation.IDENTITY).lossFunction(LossFunctions.LossFunction.MSE).build()\n",
    "          )\n",
    "    .pretrain(false).backprop(true)\n",
    "    .build()\n",
    "    val net:MultiLayerNetwork = new MultiLayerNetwork(conf)\n",
    "    net.init()\n",
    "    net\n",
    "}"
   ]
  },
  {
   "cell_type": "code",
   "execution_count": 5,
   "metadata": {},
   "outputs": [
    {
     "data": {
      "text/plain": [
       "defined \u001b[32mfunction \u001b[36mcreateModel2\u001b[0m"
      ]
     },
     "metadata": {},
     "output_type": "display_data"
    }
   ],
   "source": [
    "def createModel2(): MultiLayerNetwork = {\n",
    "    val conf: MultiLayerConfiguration = new  NeuralNetConfiguration.Builder()\n",
    "    .seed(123456)\n",
    "    .optimizationAlgo(org.deeplearning4j.nn.api.OptimizationAlgorithm.STOCHASTIC_GRADIENT_DESCENT)\n",
    "    .updater(new Adam(2e-3))\n",
    "    .l2(1e-5)\n",
    "    .weightInit(WeightInit.XAVIER)\n",
    "    .list()\n",
    "    .layer(0, new LSTM.Builder().name(\"encoder0\").nIn(28).nOut(30).build())\n",
    "    .layer(1, new LSTM.Builder().name(\"encoder1\").nIn(30).nOut(10).build())\n",
    "    .layer(2, new LSTM.Builder().name(\"encoder2\").nIn(10).nOut(30).build())\n",
    "    .layer(3, new RnnOutputLayer.Builder().name(\"output\").nIn(30).nOut(28)\n",
    "           .activation(Activation.IDENTITY).lossFunction(LossFunctions.LossFunction.MSE).build()\n",
    "          )\n",
    "    .pretrain(false).backprop(true)\n",
    "    .build()\n",
    "    val net:MultiLayerNetwork = new MultiLayerNetwork(conf)\n",
    "    net.init()\n",
    "    net\n",
    "}"
   ]
  },
  {
   "cell_type": "code",
   "execution_count": 6,
   "metadata": {},
   "outputs": [
    {
     "data": {
      "text/plain": [
       "\u001b[32mimport \u001b[36morg.deeplearning4j.ui.api.Utils\u001b[0m\n",
       "\u001b[32mimport \u001b[36morg.nd4j.linalg.dataset.api.iterator.DataSetIterator\u001b[0m\n",
       "\u001b[32mimport \u001b[36morg.deeplearning4j.examples.unsupervised.anomalydetection.MnistIterator\u001b[0m\n",
       "\u001b[32mimport \u001b[36morg.deeplearning4j.examples.unsupervised.anomalydetection.MnistLoader\u001b[0m\n",
       "\u001b[32mimport \u001b[36morg.deeplearning4j.examples.unsupervised.anomalydetection.MnistIterator\u001b[0m\n",
       "\u001b[32mimport \u001b[36morg.nd4j.linalg.api.ndarray.INDArray\u001b[0m\n",
       "\u001b[32mimport \u001b[36morg.deeplearning4j.datasets.iterator.impl.MnistDataSetIterator\u001b[0m\n",
       "\u001b[32mimport \u001b[36mjava.util.Random\u001b[0m\n",
       "\u001b[32mimport \u001b[36mjava.util.ArrayList\u001b[0m"
      ]
     },
     "metadata": {},
     "output_type": "display_data"
    }
   ],
   "source": [
    "import org.deeplearning4j.ui.api.Utils\n",
    "import org.nd4j.linalg.dataset.api.iterator.DataSetIterator\n",
    "import org.deeplearning4j.examples.unsupervised.anomalydetection.MnistIterator\n",
    "import org.deeplearning4j.examples.unsupervised.anomalydetection.MnistLoader\n",
    "import org.deeplearning4j.examples.unsupervised.anomalydetection.MnistIterator\n",
    "import org.nd4j.linalg.api.ndarray.INDArray\n",
    "import org.deeplearning4j.datasets.iterator.impl.MnistDataSetIterator\n",
    "import java.util.Random\n",
    "import java.util.ArrayList"
   ]
  },
  {
   "cell_type": "code",
   "execution_count": 7,
   "metadata": {},
   "outputs": [
    {
     "data": {
      "text/plain": [
       "\u001b[36mfeaturesTrain\u001b[0m: \u001b[32mArrayList\u001b[0m[\u001b[32mINDArray\u001b[0m] = []\n",
       "\u001b[36mfeaturesTest\u001b[0m: \u001b[32mArrayList\u001b[0m[\u001b[32mINDArray\u001b[0m] = []\n",
       "\u001b[36mlabelsTest\u001b[0m: \u001b[32mArrayList\u001b[0m[\u001b[32mINDArray\u001b[0m] = []\n",
       "\u001b[36mrand\u001b[0m: \u001b[32mRandom\u001b[0m = java.util.Random@557b9b3d"
      ]
     },
     "metadata": {},
     "output_type": "display_data"
    }
   ],
   "source": [
    "val featuresTrain = new ArrayList[INDArray]\n",
    "val featuresTest = new ArrayList[INDArray]\n",
    "val labelsTest = new ArrayList[INDArray]\n",
    "val rand = new Random(12345)"
   ]
  },
  {
   "cell_type": "code",
   "execution_count": 8,
   "metadata": {},
   "outputs": [
    {
     "name": "stdout",
     "output_type": "stream",
     "text": [
      "o.n.l.f.Nd4jBackend - Loaded [CpuBackend] backend\n",
      "o.n.n.NativeOpsHolder - Number of threads used for NativeOps: 4\n",
      "o.n.n.Nd4jBlas - Number of threads used for BLAS: 4\n",
      "o.n.l.a.o.e.DefaultOpExecutioner - Backend used: [CPU]; OS: [Linux]\n",
      "o.n.l.a.o.e.DefaultOpExecutioner - Cores: [8]; Memory: [4.3GB];\n",
      "o.n.l.a.o.e.DefaultOpExecutioner - Blas vendor: [MKL]\n",
      "o.d.n.m.MultiLayerNetwork - Starting MultiLayerNetwork with WorkspaceModes set to [training: ENABLED; inference: ENABLED], cacheMode set to [NONE]\n"
     ]
    },
    {
     "data": {
      "text/plain": [
       "\u001b[36mnet\u001b[0m: \u001b[32mMultiLayerNetwork\u001b[0m = org.deeplearning4j.nn.multilayer.MultiLayerNetwork@8c7fc38\n",
       "\u001b[36miter\u001b[0m: \u001b[32mMnistDataSetIterator\u001b[0m = org.deeplearning4j.datasets.iterator.impl.MnistDataSetIterator@25294711"
      ]
     },
     "metadata": {},
     "output_type": "display_data"
    }
   ],
   "source": [
    "/* main function */\n",
    "val net = createModel2()\n",
    "net.setListeners(new org.deeplearning4j.optimize.listeners.ScoreIterationListener(10))\n",
    "val iter = new MnistDataSetIterator(100,5000,false)"
   ]
  },
  {
   "cell_type": "code",
   "execution_count": 9,
   "metadata": {},
   "outputs": [
    {
     "data": {
      "text/plain": []
     },
     "metadata": {},
     "output_type": "display_data"
    }
   ],
   "source": [
    "while (iter.hasNext()) {\n",
    "    val ds = iter.next;\n",
    "    val split = ds.splitTestAndTrain(80, rand)\n",
    "    featuresTrain.add(split.getTrain.getFeatures().reshape(80, 28, 28))\n",
    "    featuresTest.add(split.getTest.getFeatures.reshape(20, 28, 28))\n",
    "    labelsTest.add(split.getTest.getLabels.argMax(1))\n",
    "}"
   ]
  },
  {
   "cell_type": "code",
   "execution_count": 10,
   "metadata": {},
   "outputs": [
    {
     "name": "stdout",
     "output_type": "stream",
     "text": [
      "o.d.o.l.ScoreIterationListener - Score at iteration 0 is 6.724119586868734\n",
      "o.d.o.l.ScoreIterationListener - Score at iteration 10 is 3.4469648938166895\n",
      "o.d.o.l.ScoreIterationListener - Score at iteration 20 is 3.1301690142491303\n",
      "o.d.o.l.ScoreIterationListener - Score at iteration 30 is 2.454373991872006\n",
      "o.d.o.l.ScoreIterationListener - Score at iteration 40 is 2.51874869387573\n",
      "Epoch 1 complete\n"
     ]
    },
    {
     "data": {
      "text/plain": [
       "\u001b[36mnEpochs\u001b[0m: \u001b[32mInt\u001b[0m = \u001b[32m1\u001b[0m"
      ]
     },
     "metadata": {},
     "output_type": "display_data"
    }
   ],
   "source": [
    "val nEpochs = 1\n",
    "(1 to nEpochs).foreach{ epoch =>  \n",
    "    for(data <- featuresTrain.toArray){\n",
    "        net.fit(data.asInstanceOf[INDArray],data.asInstanceOf[INDArray]);\n",
    "    }\n",
    "    println(\"Epoch \" + epoch + \" complete\");\n",
    "}"
   ]
  },
  {
   "cell_type": "code",
   "execution_count": 11,
   "metadata": {},
   "outputs": [
    {
     "data": {
      "text/plain": [
       "\u001b[32mimport \u001b[36mscala.collection.mutable.ListBuffer\u001b[0m\n",
       "\u001b[36mevalList\u001b[0m: \u001b[32mcollection\u001b[0m.\u001b[32mmutable\u001b[0m.\u001b[32mListBuffer\u001b[0m[(\u001b[32mDouble\u001b[0m, \u001b[32mINDArray\u001b[0m)] = \u001b[33mListBuffer\u001b[0m()\n",
       "\u001b[36mtotalScore\u001b[0m: \u001b[32mDouble\u001b[0m = \u001b[32m0.0\u001b[0m"
      ]
     },
     "metadata": {},
     "output_type": "display_data"
    }
   ],
   "source": [
    "import scala.collection.mutable.ListBuffer\n",
    "val evalList = ListBuffer[(Double, INDArray)]()\n",
    "var totalScore:Double = 0"
   ]
  },
  {
   "cell_type": "code",
   "execution_count": 13,
   "metadata": {},
   "outputs": [
    {
     "name": "stdout",
     "output_type": "stream",
     "text": [
      "featuresTest 0 complete\n",
      "featuresTest 1 complete\n",
      "featuresTest 2 complete\n",
      "featuresTest 3 complete\n",
      "featuresTest 4 complete\n",
      "featuresTest 5 complete\n",
      "featuresTest 6 complete\n",
      "featuresTest 7 complete\n",
      "featuresTest 8 complete\n",
      "featuresTest 9 complete\n",
      "featuresTest 10 complete\n",
      "featuresTest 11 complete\n",
      "featuresTest 12 complete\n",
      "featuresTest 13 complete\n",
      "featuresTest 14 complete\n",
      "featuresTest 15 complete\n",
      "featuresTest 16 complete\n",
      "featuresTest 17 complete\n",
      "featuresTest 18 complete\n",
      "featuresTest 19 complete\n",
      "featuresTest 20 complete\n",
      "featuresTest 21 complete\n",
      "featuresTest 22 complete\n",
      "featuresTest 23 complete\n",
      "featuresTest 24 complete\n",
      "featuresTest 25 complete\n",
      "featuresTest 26 complete\n",
      "featuresTest 27 complete\n",
      "featuresTest 28 complete\n",
      "featuresTest 29 complete\n",
      "featuresTest 30 complete\n",
      "featuresTest 31 complete\n",
      "featuresTest 32 complete\n",
      "featuresTest 33 complete\n",
      "featuresTest 34 complete\n",
      "featuresTest 35 complete\n",
      "featuresTest 36 complete\n",
      "featuresTest 37 complete\n",
      "featuresTest 38 complete\n",
      "featuresTest 39 complete\n",
      "featuresTest 40 complete\n",
      "featuresTest 41 complete\n",
      "featuresTest 42 complete\n",
      "featuresTest 43 complete\n",
      "featuresTest 44 complete\n",
      "featuresTest 45 complete\n",
      "featuresTest 46 complete\n",
      "featuresTest 47 complete\n",
      "featuresTest 48 complete\n",
      "featuresTest 49 complete\n"
     ]
    },
    {
     "data": {
      "text/plain": [
       "\u001b[32mimport \u001b[36morg.nd4j.linalg.dataset.DataSet\u001b[0m"
      ]
     },
     "metadata": {},
     "output_type": "display_data"
    }
   ],
   "source": [
    "import org.nd4j.linalg.dataset.DataSet \n",
    "\n",
    "(0 until featuresTest.size).foreach( i => {\n",
    "    val testData = featuresTest.get(i)\n",
    "    val nRows = testData.shape()(0).asInstanceOf[Int]\n",
    "    (1 until nRows).foreach( j => {\n",
    "        val example = testData.getRow(j).reshape(1, 28, 28)\n",
    "        val score = net.score(new DataSet(example, example))\n",
    "        totalScore = totalScore + score\n",
    "        evalList.append((score, example))\n",
    "    })\n",
    "    println(\"featuresTest \" + i + \" complete\")\n",
    "})"
   ]
  },
  {
   "cell_type": "code",
   "execution_count": 14,
   "metadata": {
    "scrolled": true
   },
   "outputs": [
    {
     "name": "stdout",
     "output_type": "stream",
     "text": [
      "5.231053246266258\n",
      "5.21308983684243\n",
      "5.200954739883724\n",
      "5.0963339425901975\n",
      "4.816289386926135\n",
      "4.654412708459338\n",
      "4.5682079071723685\n",
      "4.51860866836796\n",
      "4.4718222238401975\n",
      "4.467093089144327\n",
      "4.445783645261794\n",
      "4.428220234094104\n",
      "4.422012359251052\n",
      "4.357196293054065\n",
      "4.315261598491426\n",
      "4.269474332168881\n",
      "4.254611454186877\n",
      "4.111653221852196\n",
      "4.109698189503563\n",
      "4.061509571252307\n",
      "4.033095526190923\n",
      "4.014776532486263\n",
      "3.9991313690864314\n",
      "3.9556634387013867\n",
      "3.953057727990589\n",
      "3.917366875416649\n",
      "3.897154974433111\n",
      "3.8937288313318277\n",
      "3.8809490505352318\n",
      "3.8555535209244614\n",
      "3.8482895198955833\n",
      "3.842058756868937\n",
      "3.822853118528396\n",
      "3.814809556865449\n",
      "3.7813470324513867\n",
      "3.752367867237938\n",
      "3.735102547413719\n",
      "3.730129272092849\n",
      "3.728538270854707\n",
      "3.7282679723056\n",
      "3.7054934121946905\n",
      "3.698349846608055\n",
      "3.683171711144886\n",
      "3.680642021901024\n",
      "3.678125411619216\n",
      "3.6498699489727318\n",
      "3.64654189808685\n",
      "3.6406487357682114\n",
      "3.6347345926146124\n",
      "3.6287512399534796\n",
      "3.628397563021281\n",
      "3.6207275692119896\n",
      "3.590278655637771\n",
      "3.5875628636630217\n",
      "3.585356333773234\n",
      "3.579480337592291\n",
      "3.5734081569805443\n",
      "3.5629485295565764\n",
      "3.5570482828001593\n",
      "3.531412699740031\n",
      "3.523584395994216\n",
      "3.5230503383770286\n",
      "3.4917161425588086\n",
      "3.485364671611543\n",
      "3.4831287140571345\n",
      "3.475080247783418\n",
      "3.4748685320851758\n",
      "3.474350278213803\n",
      "3.4737197632514705\n",
      "3.443212811783139\n",
      "3.4429929217336133\n",
      "3.42643577320892\n",
      "3.421667129148513\n",
      "3.4176518877980664\n",
      "3.414495770767514\n",
      "3.400672942747146\n",
      "3.378832983466314\n",
      "3.373071700681716\n",
      "3.372892954866984\n",
      "3.3706569973125755\n",
      "3.3664126016478155\n",
      "3.3640891785346736\n",
      "3.359018900911906\n",
      "3.3494006867133845\n",
      "3.3468216788834457\n",
      "3.3459641894338086\n",
      "3.343088725130656\n",
      "3.341058216271839\n",
      "3.3375247166903654\n",
      "3.336781123201945\n",
      "3.3335386305261636\n",
      "3.3189158059935187\n",
      "3.3057719940864314\n",
      "3.3012671090941046\n",
      "3.299148862198178\n",
      "3.2980930084907283\n",
      "3.2929151019093945\n",
      "3.291587042304205\n",
      "3.2808015307424023\n",
      "3.275885475880516\n",
      "3.270117381136515\n",
      "3.2651465581210295\n",
      "3.2639119585988476\n",
      "3.263069182981521\n",
      "3.260253118964361\n",
      "3.2546081844463646\n",
      "3.253579033619774\n",
      "3.2466850582256614\n",
      "3.2309050180296515\n",
      "3.229926003224266\n",
      "3.227721380683111\n",
      "3.226676426110706\n",
      "3.212457959488217\n",
      "3.2111800359042326\n",
      "3.2090552495272795\n",
      "3.199917414705851\n",
      "3.1955844635688533\n",
      "3.189222093486543\n",
      "3.182440106705014\n",
      "3.1815046884398077\n",
      "3.1770564789497127\n",
      "3.164197679424043\n",
      "3.1625666238646124\n",
      "3.1610249412125473\n",
      "3.158847566509004\n",
      "3.1585502926006614\n",
      "3.1518372428482895\n",
      "3.151389288397955\n",
      "3.135370012187715\n",
      "3.130412268134283\n",
      "3.1273727718487083\n",
      "3.1241003065515542\n",
      "3.120349096747564\n",
      "3.118786978217291\n",
      "3.1136006248062973\n",
      "3.113205258682553\n",
      "3.108364680330851\n",
      "3.10791645340214\n",
      "3.106239893953898\n",
      "3.1025505367412864\n",
      "3.100276977170974\n",
      "3.097990611116984\n",
      "3.0931546648976758\n",
      "3.090532333005935\n",
      "3.087710819421253\n",
      "3.0861655945502986\n",
      "3.085781672518351\n",
      "3.0847590611727873\n",
      "3.081840000329456\n",
      "3.0815130262781167\n",
      "3.0760141401697183\n",
      "3.0723242380003546\n",
      "3.064186671297648\n",
      "3.062985041658976\n",
      "3.043784852885957\n",
      "3.042535539531465\n",
      "3.0420281847951367\n",
      "3.0362595450943832\n",
      "3.0341472927227318\n",
      "3.032718416118379\n",
      "3.027058767768072\n",
      "3.027035334627726\n",
      "3.021422007601359\n",
      "3.016492328820667\n",
      "3.0153975107054327\n",
      "3.0135054208616827\n",
      "3.011581451047927\n",
      "2.9992294613018333\n",
      "2.9974103956628824\n",
      "2.993937658759283\n",
      "2.987810709993937\n",
      "2.98518320101305\n",
      "2.9759028600009123\n",
      "2.975772887815505\n",
      "2.975653542286766\n",
      "2.9753257508002986\n",
      "2.9750273869784514\n",
      "2.9748726192608177\n",
      "2.9673838235716437\n",
      "2.95772718992209\n",
      "2.956107850932832\n",
      "2.955401042025187\n",
      "2.955053359617263\n",
      "2.9530939676146124\n",
      "2.951962092440226\n",
      "2.93867086973166\n",
      "2.9355964962139427\n",
      "2.9305417498586133\n",
      "2.921871760408976\n",
      "2.91798839859257\n",
      "2.9174221885270004\n",
      "2.914295771639445\n",
      "2.9117145839824974\n",
      "2.9091851672170117\n",
      "2.904187913799043\n",
      "2.902471844986264\n",
      "2.896641080215756\n",
      "2.88597300683406\n",
      "2.8846738299367383\n",
      "2.879176033741844\n",
      "2.8789678602624917\n",
      "2.8757654219079996\n",
      "2.872562711075131\n",
      "2.8694112261769726\n",
      "2.8683305769372964\n",
      "2.861345321287185\n",
      "2.858660591847313\n",
      "2.8570952035765265\n",
      "2.8565682303971176\n",
      "2.8514453644477595\n",
      "2.8508606258526146\n",
      "2.8506423706733455\n",
      "2.8499238451955273\n",
      "2.847133666624099\n",
      "2.8434067073955833\n",
      "2.8424260577199414\n",
      "2.840749498271699\n",
      "2.8407072641234015\n",
      "2.840416257217709\n",
      "2.8370669530184904\n",
      "2.8351800402638867\n",
      "2.8349473437306836\n",
      "2.83248304929709\n",
      "2.8231324088639145\n",
      "2.8226340459139982\n",
      "2.821444950280628\n",
      "2.818516080215756\n",
      "2.8185073609077205\n",
      "2.816870038345639\n",
      "2.816592655358753\n",
      "2.815686937236543\n",
      "2.8114172010828042\n",
      "2.8103847805157005\n",
      "2.8093717059133008\n",
      "2.80543112363791\n",
      "2.80277854664642\n",
      "2.80127092379137\n",
      "2.800951851612938\n",
      "2.799554854978591\n",
      "2.7988938224381332\n",
      "2.795592474433111\n",
      "2.7928655108449414\n",
      "2.7922221893989314\n",
      "2.791956795460594\n",
      "2.791502846485985\n",
      "2.788614848177531\n",
      "2.786206684289417\n",
      "2.785197969341035\n",
      "2.783007515675438\n",
      "2.7813328635758285\n",
      "2.7803214238436857\n",
      "2.7737803079466437\n",
      "2.771252798529791\n",
      "2.77024680836517\n",
      "2.770150351020025\n",
      "2.768159079047369\n",
      "2.763654194055042\n",
      "2.760001893901582\n",
      "2.7560850172449136\n",
      "2.7547741237774193\n",
      "2.7532853019303207\n",
      "2.7525727709767773\n",
      "2.749446899045974\n",
      "2.7485937692503546\n",
      "2.746409582587408\n",
      "2.7442717172484015\n",
      "2.7427932495795955\n",
      "2.742540934603312\n",
      "2.742238211127447\n",
      "2.740334404713524\n",
      "2.7391006226264705\n",
      "2.7387436759537582\n",
      "2.7382305991715317\n",
      "2.735456224345918\n",
      "2.734519171210455\n",
      "2.732090298965756\n",
      "2.730673956366705\n",
      "2.7293265507968107\n",
      "2.7258796993389427\n",
      "2.724403411497146\n",
      "2.721734758281465\n",
      "2.7192244150023077\n",
      "2.71885520680267\n",
      "2.7180527579850082\n",
      "2.7178434945921515\n",
      "2.7152173480031445\n",
      "2.712673762362101\n",
      "2.711390389210594\n",
      "2.7065269226752986\n",
      "2.705565346485985\n",
      "2.7050901441980386\n",
      "2.7030569105554605\n",
      "2.700724223177531\n",
      "2.6972612954954718\n",
      "2.69696184176012\n",
      "2.6933757538520564\n",
      "2.6926948303901423\n",
      "2.6903659577094783\n",
      "2.6877092935423468\n",
      "2.686611750643351\n",
      "2.685093228653256\n",
      "2.67729380761531\n",
      "2.675634959261515\n",
      "2.6725556811330273\n",
      "2.6712605914113476\n",
      "2.6668159241401423\n",
      "2.6634366473195508\n",
      "2.6623933276174023\n",
      "2.6615709878782843\n",
      "2.6558767347742105\n",
      "2.6545064410207226\n",
      "2.6533881897651423\n",
      "2.650612452547648\n",
      "2.6495696778022517\n",
      "2.649094475514305\n",
      "2.6486140961372127\n",
      "2.64388441648459\n",
      "2.643260168524908\n",
      "2.6421198465208624\n",
      "2.6395457433016936\n",
      "2.6222929574827765\n",
      "2.6200864275929883\n",
      "2.616839575263189\n",
      "2.614848848247285\n",
      "2.6129829163276423\n",
      "2.612848039531465\n",
      "2.611202815096476\n",
      "2.60686904652435\n",
      "2.6061311750818277\n",
      "2.6044551605903377\n",
      "2.6036309135025864\n",
      "2.6028750584872404\n",
      "2.6013181170461133\n",
      "2.601310487651582\n",
      "2.6004265677994614\n",
      "2.5999805206977595\n",
      "2.5985693551878546\n",
      "2.597051923111264\n",
      "2.5946470289636636\n",
      "2.5932854545182114\n",
      "2.593189814608195\n",
      "2.584100753416091\n",
      "2.58296642593632\n",
      "2.576286073589082\n",
      "2.57392968059243\n",
      "2.5732588388304327\n",
      "2.570795906788719\n",
      "2.5702302416799023\n",
      "2.5689286124771957\n",
      "2.5668509648593107\n",
      "2.5662605042182673\n",
      "2.5648643250190486\n",
      "2.564715006868937\n",
      "2.5622439004759405\n",
      "2.560234372452084\n",
      "2.5569262124876593\n",
      "2.556766267680879\n",
      "2.5545281302994614\n",
      "2.5527578382898355\n",
      "2.5510117968556836\n",
      "2.5496014487809067\n",
      "2.549127608884841\n",
      "2.5489916421751593\n",
      "2.5479605839999357\n",
      "2.5471431488715877\n",
      "2.545392202826666\n",
      "2.544981577913859\n",
      "2.5420946695189093\n",
      "2.5368748012676536\n",
      "2.5334282222881614\n",
      "2.531366105937715\n",
      "2.528878378363775\n",
      "2.5258023699758008\n",
      "2.5237326242308233\n",
      "2.5228715925622964\n",
      "2.5210337259153937\n",
      "2.520950347532302\n",
      "2.520215745830293\n",
      "2.517755266093965\n",
      "2.517328020000215\n",
      "2.5164024109565486\n",
      "2.5154718973021124\n",
      "2.514067271273234\n",
      "2.51187027812661\n",
      "2.5115664647372404\n",
      "2.511562650039975\n",
      "2.51118553996743\n",
      "2.510565651661766\n",
      "2.5018049269128824\n",
      "2.500893214266398\n",
      "2.49601585133392\n",
      "2.4960065870691324\n",
      "2.491825406387631\n",
      "2.48788346172036\n",
      "2.4828001051355386\n",
      "2.481132264995332\n",
      "2.48008921777156\n",
      "2.478924917670416\n",
      "2.4785810499597574\n",
      "2.4762377359251593\n",
      "2.4686838179040933\n",
      "2.468225509275466\n",
      "2.4670394109042326\n",
      "2.4649492292810464\n",
      "2.463699370969802\n",
      "2.463361225305042\n",
      "2.4622666796681836\n",
      "2.4593985722811857\n",
      "2.4577378165787582\n",
      "2.4555446381294\n",
      "2.4546552687097574\n",
      "2.4543536351473967\n",
      "2.4538269344463646\n",
      "2.4493582890780607\n",
      "2.449322866889166\n",
      "2.4489599256921792\n",
      "2.4486713710918724\n",
      "2.444689644581688\n",
      "2.4432332476613476\n",
      "2.441941155201805\n",
      "2.441693472357916\n",
      "2.4413381605554605\n",
      "2.4397967503817717\n",
      "2.4382234602380777\n",
      "2.43794199007555\n",
      "2.4366719683644726\n",
      "2.4361071206907843\n",
      "2.4353403665403937\n",
      "2.431951825455014\n",
      "2.4301335772511914\n",
      "2.4294698199269726\n",
      "2.424927877875494\n",
      "2.422998458494216\n",
      "2.4209456064085577\n",
      "2.420878576728033\n",
      "2.418148070920974\n",
      "2.417333633054763\n",
      "2.4173082925657843\n",
      "2.417248892279791\n",
      "2.417073961162324\n",
      "2.416995759868379\n",
      "2.4158698792182673\n",
      "2.4121257538520564\n",
      "2.41104020000161\n",
      "2.4070524789671515\n",
      "2.4056704686434904\n",
      "2.4016732108658676\n",
      "2.4012195343696345\n",
      "2.3997004674227873\n"
     ]
    },
    {
     "name": "stdout",
     "output_type": "stream",
     "text": [
      "2.3983628710744336\n",
      "2.3980427089824974\n",
      "2.3954353634014427\n",
      "2.3950955828664258\n",
      "2.3937214744156723\n",
      "2.3935855077059904\n",
      "2.393131013774629\n",
      "2.391548731844523\n",
      "2.3913059536114036\n",
      "2.390788244696783\n",
      "2.3905667197770004\n",
      "2.387089078262631\n",
      "2.38562150972887\n",
      "2.382530515030209\n",
      "2.3753923990110968\n",
      "2.374231368650466\n",
      "2.3733921352520286\n",
      "2.3713193922449136\n",
      "2.371282062707386\n",
      "2.371055088220081\n",
      "2.3709300206454436\n",
      "2.370007681342291\n",
      "2.3685556440759683\n",
      "2.3680120497156167\n",
      "2.365402251829177\n",
      "2.364881000695667\n",
      "2.3622875515117943\n",
      "2.360186743231939\n",
      "2.3596810233658676\n",
      "2.3582066428727035\n",
      "2.3581657711162864\n",
      "2.3565423449513867\n",
      "2.3527110265048186\n",
      "2.3525625257898355\n",
      "2.350876157120053\n",
      "2.345890075315505\n",
      "2.3435503034997964\n",
      "2.343316789531465\n",
      "2.3432105229647795\n",
      "2.3413791957989036\n",
      "2.3410039930749917\n",
      "2.337725805731939\n",
      "2.3353882137432396\n",
      "2.3343179186818555\n",
      "2.3324214691840877\n",
      "2.33003183382555\n",
      "2.3298244777813255\n",
      "2.329091783427949\n",
      "2.328788514995332\n",
      "2.32851085953007\n",
      "2.3278558215138867\n",
      "2.3264184980798746\n",
      "2.3243013410974527\n",
      "2.3228762791903654\n",
      "2.3219449481008008\n",
      "2.3214076207431\n",
      "2.3203940011839483\n",
      "2.318962399795834\n",
      "2.3113507163590317\n",
      "2.3106736075943832\n",
      "2.308697866889166\n",
      "2.306315043490031\n",
      "2.303777724851638\n",
      "2.303756199059925\n",
      "2.29730363863512\n",
      "2.2962240793089483\n",
      "2.294860052558111\n",
      "2.291775597340477\n",
      "2.2876384219167187\n",
      "2.2871351543560325\n",
      "2.2867936027115707\n",
      "2.286765946156395\n",
      "2.2851940184045816\n",
      "2.283345388861822\n",
      "2.2828696416171232\n",
      "2.2824714144704297\n",
      "2.2822501620290234\n",
      "2.2780918695311163\n",
      "2.277728383377377\n",
      "2.2758698083738897\n",
      "2.26816602724596\n",
      "2.2679818318637053\n",
      "2.267351589379749\n",
      "2.2632358035085156\n",
      "2.2625116922239874\n",
      "2.2576272448537305\n",
      "2.2569904628887474\n",
      "2.2569343323432673\n",
      "2.2557931929040933\n",
      "2.2551724871633008\n",
      "2.2542391124859154\n",
      "2.2537091420443693\n",
      "2.2526229069979826\n",
      "2.252377812698666\n",
      "2.247999357672857\n",
      "2.2469921413555443\n",
      "2.2451826124597574\n",
      "2.2444745773994197\n",
      "2.244224442250145\n",
      "2.2402274569508984\n",
      "2.2376217462401007\n",
      "2.2359464129445508\n",
      "2.234642331436459\n",
      "2.2340202633037864\n",
      "2.2310799491471176\n",
      "2.2265269717214062\n",
      "2.22413161431697\n",
      "2.222881074809785\n",
      "2.222542520427461\n",
      "2.220084220518142\n",
      "2.2147644889420395\n",
      "2.2138045476229826\n",
      "2.2122405217440764\n",
      "2.210669411427391\n",
      "2.2087568857054327\n",
      "2.208319012955014\n",
      "2.207919559655628\n",
      "2.2069589371406306\n",
      "2.2055879621912027\n",
      "2.2035550010270004\n",
      "2.2022330721852734\n",
      "2.200126950577084\n",
      "2.195299859905\n",
      "2.1922237152778377\n",
      "2.1905925234792187\n",
      "2.1902294460430443\n",
      "2.1891201865738754\n",
      "2.1884413066997825\n",
      "2.188379590347592\n",
      "2.1871127021378403\n",
      "2.186504257923973\n",
      "2.1811496491157283\n",
      "2.176694218948666\n",
      "2.171463315323178\n",
      "2.170347652612171\n",
      "2.1674247770715738\n",
      "2.161500688457246\n",
      "2.1592640497068976\n",
      "2.15860369836238\n",
      "2.15815751502149\n",
      "2.1570464844428767\n",
      "2.1541794669693832\n",
      "2.1541511292182673\n",
      "2.1522648976596037\n",
      "2.148295432676345\n",
      "2.1448384995185603\n",
      "2.1442699733867943\n",
      "2.1416133092196623\n",
      "2.1407285719324136\n",
      "2.1405748941282843\n",
      "2.1390165902952765\n",
      "2.1364317241802513\n",
      "2.1361296819003264\n",
      "2.134731595352475\n",
      "2.13462600998173\n",
      "2.1345305063109015\n",
      "2.131621118449922\n",
      "2.1299553218975364\n",
      "2.128205874483683\n",
      "2.1280162295339062\n",
      "2.1261835399761497\n",
      "2.126045938396211\n",
      "2.125533542809925\n",
      "2.1254486657957647\n",
      "2.1214039967806975\n",
      "2.119986972985706\n",
      "2.119442561190226\n",
      "2.1181476077077344\n",
      "2.117979761028047\n",
      "2.1157999340191185\n",
      "2.1150891741750195\n",
      "2.1140771894861246\n",
      "2.112186462034255\n",
      "2.108429393945179\n",
      "2.1057174166676953\n",
      "2.1012362372940903\n",
      "2.1009170288764705\n",
      "2.1004077667915095\n",
      "2.0972506960866406\n",
      "2.09709361230281\n",
      "2.0970038306778793\n",
      "2.0939285034858455\n",
      "2.0922834152900447\n",
      "2.0900217085290933\n",
      "2.0892195321898077\n",
      "2.0849518396238897\n",
      "2.0839164217946484\n",
      "2.0807376890588785\n",
      "2.080638098212408\n",
      "2.073961833040812\n",
      "2.0733478030202344\n",
      "2.071750262301066\n",
      "2.071227376297299\n",
      "2.0708974049838225\n",
      "2.0706866429598967\n",
      "2.0705048998830273\n",
      "2.0691929165020286\n",
      "2.0690482304843107\n",
      "2.0655234502108732\n",
      "2.057447054903605\n",
      "2.057174167809925\n",
      "2.050520109625982\n",
      "2.0500530816893194\n",
      "2.048202817276303\n",
      "2.0436759977746988\n",
      "2.043028316674671\n",
      "2.042460607978033\n",
      "2.04170734150726\n",
      "2.041427233736613\n",
      "2.037425207587408\n",
      "2.0367822948589622\n",
      "2.0359967397006193\n",
      "2.033779446914975\n",
      "2.0331396676878546\n",
      "2.0309101133752847\n",
      "2.03049090539363\n",
      "2.0301511248586133\n",
      "2.02902606164363\n",
      "2.028652357550787\n",
      "2.0283940480502287\n",
      "2.0267617663381055\n",
      "2.0260604069979826\n",
      "2.024820902865031\n",
      "2.023642570127517\n",
      "2.0201089343068555\n",
      "2.019985637841663\n",
      "2.0183430019512474\n",
      "2.0179618047030607\n",
      "2.0152877019198576\n",
      "2.0146396121022656\n",
      "2.0139640019686857\n",
      "2.0133956120761076\n",
      "2.012023138495611\n",
      "2.01161210486524\n",
      "2.0075589890205134\n",
      "2.000556430993518\n",
      "2.000196895776233\n",
      "2.000191582447899\n",
      "1.998586276095011\n",
      "1.9928661375452064\n",
      "1.990337401975661\n",
      "1.9877063507758843\n",
      "1.985940282181088\n",
      "1.9849499595230942\n",
      "1.9799567932807671\n",
      "1.9774125264437834\n",
      "1.9773877309115568\n",
      "1.977250129331618\n",
      "1.976778060544997\n",
      "1.9760732952251727\n",
      "1.969091990511515\n",
      "1.9690057511054742\n",
      "1.9688429452757448\n",
      "1.9664080785067717\n",
      "1.965502632862938\n",
      "1.9624850710866404\n",
      "1.9614668193950946\n",
      "1.956246814904651\n",
      "1.952542198902977\n",
      "1.9525232616558368\n",
      "1.9519050082204294\n",
      "1.9518971063475221\n",
      "1.951809777027977\n",
      "1.9497807668002287\n",
      "1.9496013397895562\n",
      "1.9492127856252146\n",
      "1.9471185168263865\n",
      "1.9460103472707224\n",
      "1.9454099411689507\n",
      "1.941401239299531\n",
      "1.9405581912038279\n",
      "1.9390124213761215\n",
      "1.9388241388182252\n",
      "1.9338608089580829\n",
      "1.9308600046019166\n",
      "1.92818195088226\n",
      "1.9263528035433928\n",
      "1.9256152045792465\n",
      "1.925566975906674\n",
      "1.9253154783655189\n",
      "1.9237186188422906\n",
      "1.9204231291223548\n",
      "1.9201964271134262\n",
      "1.9196323968748659\n",
      "1.9162201501707643\n",
      "1.913850405733683\n",
      "1.9127220727781862\n",
      "1.9120066808016936\n",
      "1.910031485053228\n",
      "1.9090952493528932\n",
      "1.9028311077251727\n",
      "1.9028248407225221\n",
      "1.9010177641321204\n",
      "1.8994775801111243\n",
      "1.8972951645576226\n",
      "1.8956567520820367\n",
      "1.895385499858613\n",
      "1.8931417766704852\n",
      "1.8906325233048324\n",
      "1.8862307713778654\n",
      "1.8861694637432391\n",
      "1.8856254606653235\n",
      "1.8853457616122404\n",
      "1.8794753512380076\n",
      "1.8789496042112916\n",
      "1.8783805331227732\n",
      "1.8770530184743357\n",
      "1.8754686929564088\n",
      "1.8749693763321762\n",
      "1.8748453986710434\n",
      "1.8744016676355384\n",
      "1.8685571427070367\n",
      "1.8682946097916489\n",
      "1.866140123271699\n",
      "1.8657545663694948\n",
      "1.8595268006049859\n",
      "1.8558757266042185\n",
      "1.8555979348997682\n",
      "1.855388671506911\n",
      "1.852890725993867\n",
      "1.84966757928279\n",
      "1.8478327098980243\n",
      "1.8429184261455829\n",
      "1.8400651688300835\n",
      "1.8397320640152817\n",
      "1.836739706488775\n",
      "1.8359601458547068\n",
      "1.8353709113663559\n",
      "1.8352977509223687\n",
      "1.833577867412324\n",
      "1.8312177959575946\n",
      "1.8244911222864173\n",
      "1.8217456301686716\n",
      "1.818856950664277\n",
      "1.817110228034185\n",
      "1.8159888432772795\n",
      "1.8144719561574412\n",
      "1.810597722366635\n",
      "1.8095072639054184\n",
      "1.8087605369156723\n",
      "1.8074436489239032\n",
      "1.8064563235280466\n",
      "1.799269161401233\n",
      "1.7984228435650165\n",
      "1.7976015937394028\n",
      "1.7970003702025026\n",
      "1.7927386721608591\n",
      "1.7926497079710573\n",
      "1.7921025713918162\n",
      "1.7909581622121287\n",
      "1.7904905893187135\n",
      "1.7893608939713364\n",
      "1.7887277904644305\n",
      "1.7826498878067856\n",
      "1.7796001735821063\n",
      "1.7756422889298324\n",
      "1.7735948864116962\n",
      "1.7732190024918442\n",
      "1.7710277313911187\n",
      "1.7684687507218246\n",
      "1.7640945191108452\n",
      "1.7603927641321204\n",
      "1.759610342475103\n",
      "1.7591269658358732\n",
      "1.7587291474067437\n",
      "1.7580708396500473\n",
      "1.7545333891321204\n",
      "1.7543686759537582\n",
      "1.7540704483710992\n",
      "1.7537873433383147\n",
      "1.7529509709628264\n",
      "1.7495756450786883\n",
      "1.7434485600741545\n",
      "1.7421068765501588\n",
      "1.741877041039905\n",
      "1.7403191459244614\n",
      "1.7378932709419\n",
      "1.7370499503678207\n",
      "1.733470538179972\n",
      "1.729263880770304\n",
      "1.7283638846939926\n",
      "1.7279159302436577\n",
      "1.7242174450054462\n",
      "1.7235389738489173\n",
      "1.7221568272860686\n",
      "1.721716502230265\n",
      "1.7212696376934344\n",
      "1.717726192651233\n",
      "1.7169511279103709\n",
      "1.7169065776958758\n",
      "1.7161806953019028\n",
      "1.7146708926198435\n",
      "1.7119484249248798\n",
      "1.7064560782975082\n",
      "1.7063209290229546\n",
      "1.6984871757096176\n",
      "1.6981187849451087\n",
      "1.6960850063457782\n",
      "1.6959228817119891\n",
      "1.694037467588454\n",
      "1.6938599479264145\n",
      "1.6875301390100501\n",
      "1.6874861337523073\n",
      "1.6848640743389423\n",
      "1.6848311044554323\n",
      "1.680221860245053\n",
      "1.6752929988994891\n",
      "1.6710863414898212\n",
      "1.6706857982769305\n",
      "1.6635600800239312\n",
      "1.6604457884241126\n",
      "1.657003160381074\n",
      "1.6564479856897376\n",
      "1.6532880539619195\n",
      "1.6521492305889423\n",
      "1.6507522339545952\n",
      "1.647110560457804\n",
      "1.6461007555959177\n",
      "1.6444197002544696\n",
      "1.6431724304877984\n",
      "1.6412476432389145\n",
      "1.640736882522885\n",
      "1.63869288598445\n",
      "1.6375670053343385\n",
      "1.6353815925186996\n",
      "1.6276141876899468\n",
      "1.6261365374562693\n",
      "1.6259746853008563\n",
      "1.609684156867193\n",
      "1.6078011950490427\n",
      "1.6040914019582224\n",
      "1.5997166253904909\n",
      "1.5980376136368637\n",
      "1.5980295755247682\n",
      "1.5969135040961968\n",
      "1.5923939052715594\n",
      "1.5877056423321063\n",
      "1.5875409291537443\n",
      "1.581239730466872\n",
      "1.5730995752195924\n",
      "1.5718508068218524\n",
      "1.571314160660092\n",
      "1.570079833616286\n",
      "1.565645111805809\n",
      "1.5604835539270423\n",
      "1.5594210244993776\n"
     ]
    },
    {
     "name": "stdout",
     "output_type": "stream",
     "text": [
      "1.5454480608937693\n",
      "1.5344440216743218\n",
      "1.5311402213639145\n",
      "1.5304869544571762\n",
      "1.5285422762868357\n",
      "1.5228758159771258\n",
      "1.51793660045327\n",
      "1.5178882355415093\n",
      "1.5135029685562973\n",
      "1.512685124710385\n",
      "1.512605833502935\n",
      "1.5043727631294\n",
      "1.500001801258934\n",
      "1.4981670681133563\n",
      "1.4921751323833758\n",
      "1.4886276001655327\n",
      "1.4875758336337248\n",
      "1.481296841934506\n",
      "1.4797446688649607\n",
      "1.4771148438178765\n",
      "1.4732456508770282\n",
      "1.4703250914026282\n",
      "1.4646292034282977\n",
      "1.4469474004061857\n",
      "1.4465480833459876\n",
      "1.4458843260217689\n",
      "1.434168573283906\n",
      "1.4319454222131751\n",
      "1.4306439292496567\n",
      "1.4270237815445785\n",
      "1.4237631690567856\n",
      "1.4175206894599663\n",
      "1.4046325985088641\n",
      "1.3888939750260239\n",
      "1.3881156405446482\n",
      "1.3825469999719642\n",
      "1.3815667590138865\n",
      "1.3765599688527537\n",
      "1.37475302850154\n",
      "1.3666270421298186\n",
      "1.3284187618389423\n",
      "1.3270103211127984\n",
      "1.3254689109391098\n",
      "1.3227642905777817\n",
      "1.3134974372452621\n",
      "1.2963300733972571\n",
      "1.267403905227963\n",
      "1.266352274935343\n",
      "1.262875178377726\n",
      "1.2579866438318275\n",
      "1.256424252823178\n",
      "1.2216177288189227\n",
      "1.155284775502098\n",
      "1.1321159391809485\n",
      "1.0392912076266447\n"
     ]
    },
    {
     "data": {
      "text/plain": []
     },
     "metadata": {},
     "output_type": "display_data"
    }
   ],
   "source": [
    "evalList.sortWith(_._1 > _._1).foreach( a => println(a._1))"
   ]
  },
  {
   "cell_type": "code",
   "execution_count": 16,
   "metadata": {},
   "outputs": [
    {
     "name": "stdout",
     "output_type": "stream",
     "text": [
      "5.231053246266258\n",
      "5.21308983684243\n",
      "5.200954739883724\n",
      "5.0963339425901975\n",
      "4.816289386926135\n",
      "4.654412708459338\n",
      "4.5682079071723685\n",
      "4.51860866836796\n",
      "4.4718222238401975\n",
      "4.467093089144327\n",
      "4.445783645261794\n",
      "4.428220234094104\n",
      "4.422012359251052\n",
      "4.357196293054065\n",
      "4.315261598491426\n",
      "4.269474332168881\n",
      "4.254611454186877\n",
      "4.111653221852196\n",
      "4.109698189503563\n",
      "4.061509571252307\n",
      "4.033095526190923\n",
      "4.014776532486263\n",
      "3.9991313690864314\n",
      "3.9556634387013867\n",
      "3.953057727990589\n",
      "3.917366875416649\n",
      "3.897154974433111\n",
      "3.8937288313318277\n",
      "3.8809490505352318\n",
      "3.8555535209244614\n",
      "3.8482895198955833\n",
      "3.842058756868937\n",
      "3.822853118528396\n",
      "3.814809556865449\n",
      "3.7813470324513867\n",
      "3.752367867237938\n",
      "3.735102547413719\n",
      "3.730129272092849\n",
      "3.728538270854707\n",
      "3.7282679723056\n",
      "3.7054934121946905\n",
      "3.698349846608055\n",
      "3.683171711144886\n",
      "3.680642021901024\n",
      "3.678125411619216\n",
      "3.6498699489727318\n",
      "3.64654189808685\n",
      "3.6406487357682114\n",
      "3.6347345926146124\n",
      "3.6287512399534796\n",
      "3.628397563021281\n",
      "3.6207275692119896\n",
      "3.590278655637771\n",
      "3.5875628636630217\n",
      "3.585356333773234\n",
      "3.579480337592291\n",
      "3.5734081569805443\n",
      "3.5629485295565764\n",
      "3.5570482828001593\n",
      "3.531412699740031\n",
      "3.523584395994216\n",
      "3.5230503383770286\n",
      "3.4917161425588086\n",
      "3.485364671611543\n",
      "3.4831287140571345\n",
      "3.475080247783418\n",
      "3.4748685320851758\n",
      "3.474350278213803\n",
      "3.4737197632514705\n",
      "3.443212811783139\n",
      "3.4429929217336133\n",
      "3.42643577320892\n",
      "3.421667129148513\n",
      "3.4176518877980664\n",
      "3.414495770767514\n",
      "3.400672942747146\n",
      "3.378832983466314\n",
      "3.373071700681716\n",
      "3.372892954866984\n",
      "3.3706569973125755\n",
      "3.3664126016478155\n",
      "3.3640891785346736\n",
      "3.359018900911906\n",
      "3.3494006867133845\n",
      "3.3468216788834457\n",
      "3.3459641894338086\n",
      "3.343088725130656\n",
      "3.341058216271839\n",
      "3.3375247166903654\n",
      "3.336781123201945\n",
      "3.3335386305261636\n",
      "3.3189158059935187\n",
      "3.3057719940864314\n",
      "3.3012671090941046\n",
      "3.299148862198178\n",
      "3.2980930084907283\n",
      "3.2929151019093945\n",
      "3.291587042304205\n",
      "3.2808015307424023\n",
      "3.275885475880516\n",
      "3.270117381136515\n",
      "3.2651465581210295\n",
      "3.2639119585988476\n",
      "3.263069182981521\n",
      "3.260253118964361\n",
      "3.2546081844463646\n",
      "3.253579033619774\n",
      "3.2466850582256614\n",
      "3.2309050180296515\n",
      "3.229926003224266\n",
      "3.227721380683111\n",
      "3.226676426110706\n",
      "3.212457959488217\n",
      "3.2111800359042326\n",
      "3.2090552495272795\n",
      "3.199917414705851\n",
      "3.1955844635688533\n",
      "3.189222093486543\n",
      "3.182440106705014\n",
      "3.1815046884398077\n",
      "3.1770564789497127\n",
      "3.164197679424043\n",
      "3.1625666238646124\n",
      "3.1610249412125473\n",
      "3.158847566509004\n",
      "3.1585502926006614\n",
      "3.1518372428482895\n",
      "3.151389288397955\n",
      "3.135370012187715\n",
      "3.130412268134283\n",
      "3.1273727718487083\n",
      "3.1241003065515542\n",
      "3.120349096747564\n",
      "3.118786978217291\n",
      "3.1136006248062973\n",
      "3.113205258682553\n",
      "3.108364680330851\n",
      "3.10791645340214\n",
      "3.106239893953898\n",
      "3.1025505367412864\n",
      "3.100276977170974\n",
      "3.097990611116984\n",
      "3.0931546648976758\n",
      "3.090532333005935\n",
      "3.087710819421253\n",
      "3.0861655945502986\n",
      "3.085781672518351\n",
      "3.0847590611727873\n",
      "3.081840000329456\n",
      "3.0815130262781167\n",
      "3.0760141401697183\n",
      "3.0723242380003546\n",
      "3.064186671297648\n",
      "3.062985041658976\n",
      "3.043784852885957\n",
      "3.042535539531465\n",
      "3.0420281847951367\n",
      "3.0362595450943832\n",
      "3.0341472927227318\n",
      "3.032718416118379\n",
      "3.027058767768072\n",
      "3.027035334627726\n",
      "3.021422007601359\n",
      "3.016492328820667\n",
      "3.0153975107054327\n",
      "3.0135054208616827\n",
      "3.011581451047927\n",
      "2.9992294613018333\n",
      "2.9974103956628824\n",
      "2.993937658759283\n",
      "2.987810709993937\n",
      "2.98518320101305\n",
      "2.9759028600009123\n",
      "2.975772887815505\n",
      "2.975653542286766\n",
      "2.9753257508002986\n",
      "2.9750273869784514\n",
      "2.9748726192608177\n",
      "2.9673838235716437\n",
      "2.95772718992209\n",
      "2.956107850932832\n",
      "2.955401042025187\n",
      "2.955053359617263\n",
      "2.9530939676146124\n",
      "2.951962092440226\n",
      "2.93867086973166\n",
      "2.9355964962139427\n",
      "2.9305417498586133\n",
      "2.921871760408976\n",
      "2.91798839859257\n",
      "2.9174221885270004\n",
      "2.914295771639445\n",
      "2.9117145839824974\n",
      "2.9091851672170117\n",
      "2.904187913799043\n",
      "2.902471844986264\n",
      "2.896641080215756\n",
      "2.88597300683406\n",
      "2.8846738299367383\n",
      "2.879176033741844\n",
      "2.8789678602624917\n",
      "2.8757654219079996\n",
      "2.872562711075131\n",
      "2.8694112261769726\n",
      "2.8683305769372964\n",
      "2.861345321287185\n",
      "2.858660591847313\n",
      "2.8570952035765265\n",
      "2.8565682303971176\n",
      "2.8514453644477595\n",
      "2.8508606258526146\n",
      "2.8506423706733455\n",
      "2.8499238451955273\n",
      "2.847133666624099\n",
      "2.8434067073955833\n",
      "2.8424260577199414\n",
      "2.840749498271699\n",
      "2.8407072641234015\n",
      "2.840416257217709\n",
      "2.8370669530184904\n",
      "2.8351800402638867\n",
      "2.8349473437306836\n",
      "2.83248304929709\n",
      "2.8231324088639145\n",
      "2.8226340459139982\n",
      "2.821444950280628\n",
      "2.818516080215756\n",
      "2.8185073609077205\n",
      "2.816870038345639\n",
      "2.816592655358753\n",
      "2.815686937236543\n",
      "2.8114172010828042\n",
      "2.8103847805157005\n",
      "2.8093717059133008\n",
      "2.80543112363791\n",
      "2.80277854664642\n",
      "2.80127092379137\n",
      "2.800951851612938\n",
      "2.799554854978591\n",
      "2.7988938224381332\n",
      "2.795592474433111\n",
      "2.7928655108449414\n",
      "2.7922221893989314\n",
      "2.791956795460594\n",
      "2.791502846485985\n",
      "2.788614848177531\n",
      "2.786206684289417\n",
      "2.785197969341035\n",
      "2.783007515675438\n",
      "2.7813328635758285\n",
      "2.7803214238436857\n",
      "2.7737803079466437\n",
      "2.771252798529791\n",
      "2.77024680836517\n",
      "2.770150351020025\n",
      "2.768159079047369\n",
      "2.763654194055042\n",
      "2.760001893901582\n",
      "2.7560850172449136\n",
      "2.7547741237774193\n",
      "2.7532853019303207\n",
      "2.7525727709767773\n",
      "2.749446899045974\n",
      "2.7485937692503546\n",
      "2.746409582587408\n",
      "2.7442717172484015\n",
      "2.7427932495795955\n",
      "2.742540934603312\n",
      "2.742238211127447\n",
      "2.740334404713524\n",
      "2.7391006226264705\n",
      "2.7387436759537582\n",
      "2.7382305991715317\n",
      "2.735456224345918\n",
      "2.734519171210455\n",
      "2.732090298965756\n",
      "2.730673956366705\n",
      "2.7293265507968107\n",
      "2.7258796993389427\n",
      "2.724403411497146\n",
      "2.721734758281465\n",
      "2.7192244150023077\n",
      "2.71885520680267\n",
      "2.7180527579850082\n",
      "2.7178434945921515\n",
      "2.7152173480031445\n",
      "2.712673762362101\n",
      "2.711390389210594\n",
      "2.7065269226752986\n",
      "2.705565346485985\n",
      "2.7050901441980386\n",
      "2.7030569105554605\n",
      "2.700724223177531\n",
      "2.6972612954954718\n",
      "2.69696184176012\n",
      "2.6933757538520564\n",
      "2.6926948303901423\n",
      "2.6903659577094783\n",
      "2.6877092935423468\n",
      "2.686611750643351\n",
      "2.685093228653256\n",
      "2.67729380761531\n",
      "2.675634959261515\n",
      "2.6725556811330273\n",
      "2.6712605914113476\n",
      "2.6668159241401423\n",
      "2.6634366473195508\n",
      "2.6623933276174023\n",
      "2.6615709878782843\n",
      "2.6558767347742105\n",
      "2.6545064410207226\n",
      "2.6533881897651423\n",
      "2.650612452547648\n",
      "2.6495696778022517\n",
      "2.649094475514305\n",
      "2.6486140961372127\n",
      "2.64388441648459\n",
      "2.643260168524908\n",
      "2.6421198465208624\n",
      "2.6395457433016936\n",
      "2.6222929574827765\n",
      "2.6200864275929883\n",
      "2.616839575263189\n",
      "2.614848848247285\n",
      "2.6129829163276423\n",
      "2.612848039531465\n",
      "2.611202815096476\n",
      "2.60686904652435\n",
      "2.6061311750818277\n",
      "2.6044551605903377\n",
      "2.6036309135025864\n",
      "2.6028750584872404\n",
      "2.6013181170461133\n",
      "2.601310487651582\n",
      "2.6004265677994614\n",
      "2.5999805206977595\n",
      "2.5985693551878546\n",
      "2.597051923111264\n",
      "2.5946470289636636\n",
      "2.5932854545182114\n",
      "2.593189814608195\n",
      "2.584100753416091\n",
      "2.58296642593632\n",
      "2.576286073589082\n",
      "2.57392968059243\n",
      "2.5732588388304327\n",
      "2.570795906788719\n",
      "2.5702302416799023\n",
      "2.5689286124771957\n",
      "2.5668509648593107\n",
      "2.5662605042182673\n",
      "2.5648643250190486\n",
      "2.564715006868937\n",
      "2.5622439004759405\n",
      "2.560234372452084\n",
      "2.5569262124876593\n",
      "2.556766267680879\n",
      "2.5545281302994614\n",
      "2.5527578382898355\n",
      "2.5510117968556836\n",
      "2.5496014487809067\n",
      "2.549127608884841\n",
      "2.5489916421751593\n",
      "2.5479605839999357\n",
      "2.5471431488715877\n",
      "2.545392202826666\n",
      "2.544981577913859\n",
      "2.5420946695189093\n",
      "2.5368748012676536\n",
      "2.5334282222881614\n",
      "2.531366105937715\n",
      "2.528878378363775\n",
      "2.5258023699758008\n",
      "2.5237326242308233\n",
      "2.5228715925622964\n",
      "2.5210337259153937\n",
      "2.520950347532302\n",
      "2.520215745830293\n",
      "2.517755266093965\n",
      "2.517328020000215\n",
      "2.5164024109565486\n",
      "2.5154718973021124\n",
      "2.514067271273234\n",
      "2.51187027812661\n",
      "2.5115664647372404\n",
      "2.511562650039975\n",
      "2.51118553996743\n",
      "2.510565651661766\n",
      "2.5018049269128824\n",
      "2.500893214266398\n",
      "2.49601585133392\n",
      "2.4960065870691324\n",
      "2.491825406387631\n",
      "2.48788346172036\n",
      "2.4828001051355386\n",
      "2.481132264995332\n",
      "2.48008921777156\n",
      "2.478924917670416\n",
      "2.4785810499597574\n",
      "2.4762377359251593\n",
      "2.4686838179040933\n",
      "2.468225509275466\n",
      "2.4670394109042326\n",
      "2.4649492292810464\n",
      "2.463699370969802\n",
      "2.463361225305042\n",
      "2.4622666796681836\n",
      "2.4593985722811857\n",
      "2.4577378165787582\n",
      "2.4555446381294\n",
      "2.4546552687097574\n",
      "2.4543536351473967\n",
      "2.4538269344463646\n",
      "2.4493582890780607\n",
      "2.449322866889166\n",
      "2.4489599256921792\n",
      "2.4486713710918724\n",
      "2.444689644581688\n",
      "2.4432332476613476\n",
      "2.441941155201805\n",
      "2.441693472357916\n",
      "2.4413381605554605\n",
      "2.4397967503817717\n",
      "2.4382234602380777\n",
      "2.43794199007555\n",
      "2.4366719683644726\n",
      "2.4361071206907843\n",
      "2.4353403665403937\n",
      "2.431951825455014\n",
      "2.4301335772511914\n",
      "2.4294698199269726\n",
      "2.424927877875494\n",
      "2.422998458494216\n",
      "2.4209456064085577\n",
      "2.420878576728033\n",
      "2.418148070920974\n",
      "2.417333633054763\n",
      "2.4173082925657843\n",
      "2.417248892279791\n",
      "2.417073961162324\n",
      "2.416995759868379\n",
      "2.4158698792182673\n",
      "2.4121257538520564\n",
      "2.41104020000161\n",
      "2.4070524789671515\n",
      "2.4056704686434904\n",
      "2.4016732108658676\n",
      "2.4012195343696345\n",
      "2.3997004674227873\n",
      "2.3983628710744336\n",
      "2.3980427089824974\n"
     ]
    },
    {
     "name": "stdout",
     "output_type": "stream",
     "text": [
      "2.3954353634014427\n",
      "2.3950955828664258\n",
      "2.3937214744156723\n",
      "2.3935855077059904\n",
      "2.393131013774629\n",
      "2.391548731844523\n",
      "2.3913059536114036\n",
      "2.390788244696783\n",
      "2.3905667197770004\n",
      "2.387089078262631\n",
      "2.38562150972887\n",
      "2.382530515030209\n",
      "2.3753923990110968\n",
      "2.374231368650466\n",
      "2.3733921352520286\n",
      "2.3713193922449136\n",
      "2.371282062707386\n",
      "2.371055088220081\n",
      "2.3709300206454436\n",
      "2.370007681342291\n",
      "2.3685556440759683\n",
      "2.3680120497156167\n",
      "2.365402251829177\n",
      "2.364881000695667\n",
      "2.3622875515117943\n",
      "2.360186743231939\n",
      "2.3596810233658676\n",
      "2.3582066428727035\n",
      "2.3581657711162864\n",
      "2.3565423449513867\n",
      "2.3527110265048186\n",
      "2.3525625257898355\n",
      "2.350876157120053\n",
      "2.345890075315505\n",
      "2.3435503034997964\n",
      "2.343316789531465\n",
      "2.3432105229647795\n",
      "2.3413791957989036\n",
      "2.3410039930749917\n",
      "2.337725805731939\n",
      "2.3353882137432396\n",
      "2.3343179186818555\n",
      "2.3324214691840877\n",
      "2.33003183382555\n",
      "2.3298244777813255\n",
      "2.329091783427949\n",
      "2.328788514995332\n",
      "2.32851085953007\n",
      "2.3278558215138867\n",
      "2.3264184980798746\n",
      "2.3243013410974527\n",
      "2.3228762791903654\n",
      "2.3219449481008008\n",
      "2.3214076207431\n",
      "2.3203940011839483\n",
      "2.318962399795834\n",
      "2.3113507163590317\n",
      "2.3106736075943832\n",
      "2.308697866889166\n",
      "2.306315043490031\n",
      "2.303777724851638\n",
      "2.303756199059925\n",
      "2.29730363863512\n",
      "2.2962240793089483\n",
      "2.294860052558111\n",
      "2.291775597340477\n",
      "2.2876384219167187\n",
      "2.2871351543560325\n",
      "2.2867936027115707\n",
      "2.286765946156395\n",
      "2.2851940184045816\n",
      "2.283345388861822\n",
      "2.2828696416171232\n",
      "2.2824714144704297\n",
      "2.2822501620290234\n",
      "2.2780918695311163\n",
      "2.277728383377377\n",
      "2.2758698083738897\n",
      "2.26816602724596\n",
      "2.2679818318637053\n",
      "2.267351589379749\n",
      "2.2632358035085156\n",
      "2.2625116922239874\n",
      "2.2576272448537305\n",
      "2.2569904628887474\n",
      "2.2569343323432673\n",
      "2.2557931929040933\n",
      "2.2551724871633008\n",
      "2.2542391124859154\n",
      "2.2537091420443693\n",
      "2.2526229069979826\n",
      "2.252377812698666\n",
      "2.247999357672857\n",
      "2.2469921413555443\n",
      "2.2451826124597574\n",
      "2.2444745773994197\n",
      "2.244224442250145\n",
      "2.2402274569508984\n",
      "2.2376217462401007\n",
      "2.2359464129445508\n",
      "2.234642331436459\n",
      "2.2340202633037864\n",
      "2.2310799491471176\n",
      "2.2265269717214062\n",
      "2.22413161431697\n",
      "2.222881074809785\n",
      "2.222542520427461\n",
      "2.220084220518142\n",
      "2.2147644889420395\n",
      "2.2138045476229826\n",
      "2.2122405217440764\n",
      "2.210669411427391\n",
      "2.2087568857054327\n",
      "2.208319012955014\n",
      "2.207919559655628\n",
      "2.2069589371406306\n",
      "2.2055879621912027\n",
      "2.2035550010270004\n",
      "2.2022330721852734\n",
      "2.200126950577084\n",
      "2.195299859905\n",
      "2.1922237152778377\n",
      "2.1905925234792187\n",
      "2.1902294460430443\n",
      "2.1891201865738754\n",
      "2.1884413066997825\n",
      "2.188379590347592\n",
      "2.1871127021378403\n",
      "2.186504257923973\n",
      "2.1811496491157283\n",
      "2.176694218948666\n",
      "2.171463315323178\n",
      "2.170347652612171\n",
      "2.1674247770715738\n",
      "2.161500688457246\n",
      "2.1592640497068976\n",
      "2.15860369836238\n",
      "2.15815751502149\n",
      "2.1570464844428767\n",
      "2.1541794669693832\n",
      "2.1541511292182673\n",
      "2.1522648976596037\n",
      "2.148295432676345\n",
      "2.1448384995185603\n",
      "2.1442699733867943\n",
      "2.1416133092196623\n",
      "2.1407285719324136\n",
      "2.1405748941282843\n",
      "2.1390165902952765\n",
      "2.1364317241802513\n",
      "2.1361296819003264\n",
      "2.134731595352475\n",
      "2.13462600998173\n",
      "2.1345305063109015\n",
      "2.131621118449922\n",
      "2.1299553218975364\n",
      "2.128205874483683\n",
      "2.1280162295339062\n",
      "2.1261835399761497\n",
      "2.126045938396211\n",
      "2.125533542809925\n",
      "2.1254486657957647\n",
      "2.1214039967806975\n",
      "2.119986972985706\n",
      "2.119442561190226\n",
      "2.1181476077077344\n",
      "2.117979761028047\n",
      "2.1157999340191185\n",
      "2.1150891741750195\n",
      "2.1140771894861246\n",
      "2.112186462034255\n",
      "2.108429393945179\n",
      "2.1057174166676953\n",
      "2.1012362372940903\n",
      "2.1009170288764705\n",
      "2.1004077667915095\n",
      "2.0972506960866406\n",
      "2.09709361230281\n",
      "2.0970038306778793\n",
      "2.0939285034858455\n",
      "2.0922834152900447\n",
      "2.0900217085290933\n",
      "2.0892195321898077\n",
      "2.0849518396238897\n",
      "2.0839164217946484\n",
      "2.0807376890588785\n",
      "2.080638098212408\n",
      "2.073961833040812\n",
      "2.0733478030202344\n",
      "2.071750262301066\n",
      "2.071227376297299\n",
      "2.0708974049838225\n",
      "2.0706866429598967\n",
      "2.0705048998830273\n",
      "2.0691929165020286\n",
      "2.0690482304843107\n",
      "2.0655234502108732\n",
      "2.057447054903605\n",
      "2.057174167809925\n",
      "2.050520109625982\n",
      "2.0500530816893194\n",
      "2.048202817276303\n",
      "2.0436759977746988\n",
      "2.043028316674671\n",
      "2.042460607978033\n",
      "2.04170734150726\n",
      "2.041427233736613\n",
      "2.037425207587408\n",
      "2.0367822948589622\n",
      "2.0359967397006193\n",
      "2.033779446914975\n",
      "2.0331396676878546\n",
      "2.0309101133752847\n",
      "2.03049090539363\n",
      "2.0301511248586133\n",
      "2.02902606164363\n",
      "2.028652357550787\n",
      "2.0283940480502287\n",
      "2.0267617663381055\n",
      "2.0260604069979826\n",
      "2.024820902865031\n",
      "2.023642570127517\n",
      "2.0201089343068555\n",
      "2.019985637841663\n",
      "2.0183430019512474\n",
      "2.0179618047030607\n",
      "2.0152877019198576\n",
      "2.0146396121022656\n",
      "2.0139640019686857\n",
      "2.0133956120761076\n",
      "2.012023138495611\n",
      "2.01161210486524\n",
      "2.0075589890205134\n",
      "2.000556430993518\n",
      "2.000196895776233\n",
      "2.000191582447899\n",
      "1.998586276095011\n",
      "1.9928661375452064\n",
      "1.990337401975661\n",
      "1.9877063507758843\n",
      "1.985940282181088\n",
      "1.9849499595230942\n",
      "1.9799567932807671\n",
      "1.9774125264437834\n",
      "1.9773877309115568\n",
      "1.977250129331618\n",
      "1.976778060544997\n",
      "1.9760732952251727\n",
      "1.969091990511515\n",
      "1.9690057511054742\n",
      "1.9688429452757448\n",
      "1.9664080785067717\n",
      "1.965502632862938\n",
      "1.9624850710866404\n",
      "1.9614668193950946\n",
      "1.956246814904651\n",
      "1.952542198902977\n",
      "1.9525232616558368\n",
      "1.9519050082204294\n",
      "1.9518971063475221\n",
      "1.951809777027977\n",
      "1.9497807668002287\n",
      "1.9496013397895562\n",
      "1.9492127856252146\n",
      "1.9471185168263865\n",
      "1.9460103472707224\n",
      "1.9454099411689507\n",
      "1.941401239299531\n",
      "1.9405581912038279\n",
      "1.9390124213761215\n",
      "1.9388241388182252\n",
      "1.9338608089580829\n",
      "1.9308600046019166\n",
      "1.92818195088226\n",
      "1.9263528035433928\n",
      "1.9256152045792465\n",
      "1.925566975906674\n",
      "1.9253154783655189\n",
      "1.9237186188422906\n",
      "1.9204231291223548\n",
      "1.9201964271134262\n",
      "1.9196323968748659\n",
      "1.9162201501707643\n",
      "1.913850405733683\n",
      "1.9127220727781862\n",
      "1.9120066808016936\n",
      "1.910031485053228\n",
      "1.9090952493528932\n",
      "1.9028311077251727\n",
      "1.9028248407225221\n",
      "1.9010177641321204\n",
      "1.8994775801111243\n",
      "1.8972951645576226\n",
      "1.8956567520820367\n",
      "1.895385499858613\n",
      "1.8931417766704852\n",
      "1.8906325233048324\n",
      "1.8862307713778654\n",
      "1.8861694637432391\n",
      "1.8856254606653235\n",
      "1.8853457616122404\n",
      "1.8794753512380076\n",
      "1.8789496042112916\n",
      "1.8783805331227732\n",
      "1.8770530184743357\n",
      "1.8754686929564088\n",
      "1.8749693763321762\n",
      "1.8748453986710434\n",
      "1.8744016676355384\n",
      "1.8685571427070367\n",
      "1.8682946097916489\n",
      "1.866140123271699\n",
      "1.8657545663694948\n",
      "1.8595268006049859\n",
      "1.8558757266042185\n",
      "1.8555979348997682\n",
      "1.855388671506911\n",
      "1.852890725993867\n",
      "1.84966757928279\n",
      "1.8478327098980243\n",
      "1.8429184261455829\n",
      "1.8400651688300835\n",
      "1.8397320640152817\n",
      "1.836739706488775\n",
      "1.8359601458547068\n",
      "1.8353709113663559\n",
      "1.8352977509223687\n",
      "1.833577867412324\n",
      "1.8312177959575946\n",
      "1.8244911222864173\n",
      "1.8217456301686716\n",
      "1.818856950664277\n",
      "1.817110228034185\n",
      "1.8159888432772795\n",
      "1.8144719561574412\n",
      "1.810597722366635\n",
      "1.8095072639054184\n",
      "1.8087605369156723\n",
      "1.8074436489239032\n",
      "1.8064563235280466\n",
      "1.799269161401233\n",
      "1.7984228435650165\n",
      "1.7976015937394028\n",
      "1.7970003702025026\n",
      "1.7927386721608591\n",
      "1.7926497079710573\n",
      "1.7921025713918162\n",
      "1.7909581622121287\n",
      "1.7904905893187135\n",
      "1.7893608939713364\n",
      "1.7887277904644305\n",
      "1.7826498878067856\n",
      "1.7796001735821063\n",
      "1.7756422889298324\n",
      "1.7735948864116962\n",
      "1.7732190024918442\n",
      "1.7710277313911187\n",
      "1.7684687507218246\n",
      "1.7640945191108452\n",
      "1.7603927641321204\n",
      "1.759610342475103\n",
      "1.7591269658358732\n",
      "1.7587291474067437\n",
      "1.7580708396500473\n",
      "1.7545333891321204\n",
      "1.7543686759537582\n",
      "1.7540704483710992\n",
      "1.7537873433383147\n",
      "1.7529509709628264\n",
      "1.7495756450786883\n",
      "1.7434485600741545\n",
      "1.7421068765501588\n",
      "1.741877041039905\n",
      "1.7403191459244614\n",
      "1.7378932709419\n",
      "1.7370499503678207\n",
      "1.733470538179972\n",
      "1.729263880770304\n",
      "1.7283638846939926\n",
      "1.7279159302436577\n",
      "1.7242174450054462\n",
      "1.7235389738489173\n",
      "1.7221568272860686\n",
      "1.721716502230265\n",
      "1.7212696376934344\n",
      "1.717726192651233\n",
      "1.7169511279103709\n",
      "1.7169065776958758\n",
      "1.7161806953019028\n",
      "1.7146708926198435\n",
      "1.7119484249248798\n",
      "1.7064560782975082\n",
      "1.7063209290229546\n",
      "1.6984871757096176\n",
      "1.6981187849451087\n",
      "1.6960850063457782\n",
      "1.6959228817119891\n",
      "1.694037467588454\n",
      "1.6938599479264145\n",
      "1.6875301390100501\n",
      "1.6874861337523073\n",
      "1.6848640743389423\n",
      "1.6848311044554323\n",
      "1.680221860245053\n",
      "1.6752929988994891\n",
      "1.6710863414898212\n",
      "1.6706857982769305\n",
      "1.6635600800239312\n",
      "1.6604457884241126\n",
      "1.657003160381074\n",
      "1.6564479856897376\n",
      "1.6532880539619195\n",
      "1.6521492305889423\n",
      "1.6507522339545952\n",
      "1.647110560457804\n",
      "1.6461007555959177\n",
      "1.6444197002544696\n",
      "1.6431724304877984\n",
      "1.6412476432389145\n",
      "1.640736882522885\n",
      "1.63869288598445\n",
      "1.6375670053343385\n",
      "1.6353815925186996\n",
      "1.6276141876899468\n",
      "1.6261365374562693\n",
      "1.6259746853008563\n",
      "1.609684156867193\n",
      "1.6078011950490427\n",
      "1.6040914019582224\n",
      "1.5997166253904909\n",
      "1.5980376136368637\n",
      "1.5980295755247682\n",
      "1.5969135040961968\n",
      "1.5923939052715594\n",
      "1.5877056423321063\n",
      "1.5875409291537443\n",
      "1.581239730466872\n",
      "1.5730995752195924\n",
      "1.5718508068218524\n",
      "1.571314160660092\n",
      "1.570079833616286\n",
      "1.565645111805809\n",
      "1.5604835539270423\n",
      "1.5594210244993776\n"
     ]
    },
    {
     "name": "stdout",
     "output_type": "stream",
     "text": [
      "1.5454480608937693\n",
      "1.5344440216743218\n",
      "1.5311402213639145\n",
      "1.5304869544571762\n",
      "1.5285422762868357\n",
      "1.5228758159771258\n",
      "1.51793660045327\n",
      "1.5178882355415093\n",
      "1.5135029685562973\n",
      "1.512685124710385\n",
      "1.512605833502935\n",
      "1.5043727631294\n",
      "1.500001801258934\n",
      "1.4981670681133563\n",
      "1.4921751323833758\n",
      "1.4886276001655327\n",
      "1.4875758336337248\n",
      "1.481296841934506\n",
      "1.4797446688649607\n",
      "1.4771148438178765\n",
      "1.4732456508770282\n",
      "1.4703250914026282\n",
      "1.4646292034282977\n",
      "1.4469474004061857\n",
      "1.4465480833459876\n",
      "1.4458843260217689\n",
      "1.434168573283906\n",
      "1.4319454222131751\n",
      "1.4306439292496567\n",
      "1.4270237815445785\n",
      "1.4237631690567856\n",
      "1.4175206894599663\n",
      "1.4046325985088641\n",
      "1.3888939750260239\n",
      "1.3881156405446482\n",
      "1.3825469999719642\n",
      "1.3815667590138865\n",
      "1.3765599688527537\n",
      "1.37475302850154\n",
      "1.3666270421298186\n",
      "1.3284187618389423\n",
      "1.3270103211127984\n",
      "1.3254689109391098\n",
      "1.3227642905777817\n",
      "1.3134974372452621\n",
      "1.2963300733972571\n",
      "1.267403905227963\n",
      "1.266352274935343\n",
      "1.262875178377726\n",
      "1.2579866438318275\n",
      "1.256424252823178\n",
      "1.2216177288189227\n",
      "1.155284775502098\n",
      "1.1321159391809485\n",
      "1.0392912076266447\n"
     ]
    },
    {
     "data": {
      "text/plain": []
     },
     "metadata": {},
     "output_type": "display_data"
    }
   ],
   "source": [
    "evalList.sortWith((a, b) => a._1 > b._1).foreach( a => println(a._1))"
   ]
  },
  {
   "cell_type": "code",
   "execution_count": 19,
   "metadata": {},
   "outputs": [
    {
     "data": {
      "text/plain": [
       "\u001b[36mres18\u001b[0m: \u001b[32mArray\u001b[0m[\u001b[32mInt\u001b[0m] = \u001b[33mArray\u001b[0m(\u001b[32m1\u001b[0m, \u001b[32m2\u001b[0m)"
      ]
     },
     "metadata": {},
     "output_type": "display_data"
    }
   ],
   "source": [
    "Array.apply(1, 2)"
   ]
  },
  {
   "cell_type": "code",
   "execution_count": 72,
   "metadata": {},
   "outputs": [
    {
     "data": {
      "text/plain": [
       "defined \u001b[32mfunction \u001b[36m%%%%\u001b[0m\n",
       "\u001b[36m%%%%%\u001b[0m: \u001b[32mInt\u001b[0m => \u001b[32mInt\u001b[0m = <function1>"
      ]
     },
     "metadata": {},
     "output_type": "display_data"
    }
   ],
   "source": [
    "def %%%%(t: Int): Unit = {\n",
    "    print(t*t)\n",
    "}\n",
    "var %%%%% = (t: Int) => {\n",
    "    t*t*t\n",
    "}"
   ]
  },
  {
   "cell_type": "code",
   "execution_count": 63,
   "metadata": {},
   "outputs": [
    {
     "name": "stdout",
     "output_type": "stream",
     "text": [
      "125\n"
     ]
    },
    {
     "data": {
      "text/plain": []
     },
     "metadata": {},
     "output_type": "display_data"
    }
   ],
   "source": [
    "println(%%%%%(5))"
   ]
  },
  {
   "cell_type": "code",
   "execution_count": 42,
   "metadata": {},
   "outputs": [
    {
     "data": {
      "text/plain": [
       "\u001b[36mres41\u001b[0m: \u001b[32mDouble\u001b[0m = \u001b[32m-1.2679491924311228\u001b[0m"
      ]
     },
     "metadata": {},
     "output_type": "display_data"
    }
   ],
   "source": [
    "Math.sqrt(3).-(3)"
   ]
  },
  {
   "cell_type": "code",
   "execution_count": null,
   "metadata": {},
   "outputs": [],
   "source": []
  },
  {
   "cell_type": "code",
   "execution_count": 47,
   "metadata": {},
   "outputs": [
    {
     "data": {
      "text/plain": [
       "\u001b[36mres46\u001b[0m: \u001b[32mInt\u001b[0m = \u001b[32m2\u001b[0m"
      ]
     },
     "metadata": {},
     "output_type": "display_data"
    }
   ],
   "source": [
    "10 min 2"
   ]
  },
  {
   "cell_type": "code",
   "execution_count": 49,
   "metadata": {},
   "outputs": [
    {
     "data": {
      "text/plain": [
       "\u001b[36mres48\u001b[0m: \u001b[32mBigInt\u001b[0m = 179769313486231590772930519078902473361797697894230657273430081157732675805500963132708477322407536021120113879871393357658789768814416622492847430639474124377767893424865485276302219601246094119453082952085005768838150682342462881473913110540827237163350510684586298239947245938479716304835356329624224137216"
      ]
     },
     "metadata": {},
     "output_type": "display_data"
    }
   ],
   "source": [
    "BigInt(2).pow(1024)"
   ]
  },
  {
   "cell_type": "code",
   "execution_count": 55,
   "metadata": {},
   "outputs": [
    {
     "data": {
      "text/plain": [
       "\u001b[36mres54\u001b[0m: \u001b[32mString\u001b[0m = \u001b[32m\"1sbvxmzr3p63mq6l51dz\"\u001b[0m"
      ]
     },
     "metadata": {},
     "output_type": "display_data"
    }
   ],
   "source": [
    "BigInt.probablePrime(100, scala.util.Random).toString(36)"
   ]
  },
  {
   "cell_type": "code",
   "execution_count": 58,
   "metadata": {},
   "outputs": [
    {
     "data": {
      "text/plain": [
       "\u001b[36mres57\u001b[0m: \u001b[32mString\u001b[0m = \u001b[32m\"rdas\"\u001b[0m"
      ]
     },
     "metadata": {},
     "output_type": "display_data"
    }
   ],
   "source": [
    "\"mardas\".drop(2)"
   ]
  },
  {
   "cell_type": "code",
   "execution_count": 67,
   "metadata": {},
   "outputs": [
    {
     "data": {
      "text/plain": [
       "\u001b[36mres66\u001b[0m: \u001b[32mcollection\u001b[0m.\u001b[32mimmutable\u001b[0m.\u001b[32mIndexedSeq\u001b[0m[\u001b[32mInt\u001b[0m] = \u001b[33mVector\u001b[0m(\u001b[32m1\u001b[0m, \u001b[32m3\u001b[0m)"
      ]
     },
     "metadata": {},
     "output_type": "display_data"
    }
   ],
   "source": [
    "(1 to 3).filter(_ != 2)"
   ]
  },
  {
   "cell_type": "code",
   "execution_count": 71,
   "metadata": {},
   "outputs": [
    {
     "name": "stdout",
     "output_type": "stream",
     "text": [
      "(H 0,72)\n",
      "(H 1,73)\n",
      "(e 0,101)\n",
      "(e 1,102)\n",
      "(l 0,108)\n",
      "(l 1,109)\n",
      "(l 0,108)\n",
      "(l 1,109)\n",
      "(o 0,111)\n",
      "(o 1,112)\n"
     ]
    },
    {
     "data": {
      "text/plain": []
     },
     "metadata": {},
     "output_type": "display_data"
    }
   ],
   "source": [
    "for (c <- \"Hello\"; i <- 0 to 1) println(c + \" \" + i, + ((c+i).toChar))"
   ]
  },
  {
   "cell_type": "code",
   "execution_count": 163,
   "metadata": {},
   "outputs": [
    {
     "data": {
      "text/plain": [
       "defined \u001b[32mfunction \u001b[36msignum\u001b[0m"
      ]
     },
     "metadata": {},
     "output_type": "display_data"
    }
   ],
   "source": [
    "def signum(x: Int) = if (x > 0) 1 else if (x < 0) -1 else 0"
   ]
  },
  {
   "cell_type": "code",
   "execution_count": 87,
   "metadata": {},
   "outputs": [
    {
     "data": {
      "text/plain": [
       "defined \u001b[32mfunction \u001b[36mcountdown\u001b[0m"
      ]
     },
     "metadata": {},
     "output_type": "display_data"
    }
   ],
   "source": [
    "def countdown(n: Int) {\n",
    "    for (i <- 0 to n; j = n - i) println(j)\n",
    "}"
   ]
  },
  {
   "cell_type": "code",
   "execution_count": 100,
   "metadata": {},
   "outputs": [
    {
     "data": {
      "text/plain": [
       "defined \u001b[32mfunction \u001b[36municodeProduct\u001b[0m\n",
       "defined \u001b[32mfunction \u001b[36municodeProduct2\u001b[0m"
      ]
     },
     "metadata": {},
     "output_type": "display_data"
    }
   ],
   "source": [
    "def unicodeProduct(a: String) = {\n",
    "    var product = 1: Long\n",
    "    for (c <- a) product *= c.toInt\n",
    "    product\n",
    "}\n",
    "def unicodeProduct2(a: String) = {\n",
    "    a.foldLeft(1L)(_ * _.toInt)\n",
    "}"
   ]
  },
  {
   "cell_type": "code",
   "execution_count": 101,
   "metadata": {},
   "outputs": [
    {
     "data": {
      "text/plain": [
       "\u001b[36mres100_0\u001b[0m: \u001b[32mLong\u001b[0m = \u001b[32m9415087488L\u001b[0m\n",
       "\u001b[36mres100_1\u001b[0m: \u001b[32mLong\u001b[0m = \u001b[32m9415087488L\u001b[0m"
      ]
     },
     "metadata": {},
     "output_type": "display_data"
    }
   ],
   "source": [
    "unicodeProduct(\"Hello\")\n",
    "unicodeProduct2(\"Hello\")"
   ]
  },
  {
   "cell_type": "code",
   "execution_count": 106,
   "metadata": {},
   "outputs": [
    {
     "data": {
      "text/plain": [
       "defined \u001b[32mfunction \u001b[36mproduct\u001b[0m"
      ]
     },
     "metadata": {},
     "output_type": "display_data"
    }
   ],
   "source": [
    "def product(s: String): Long = {\n",
    "    if (s.size > 0) s.head.toInt * product(s.tail) else 1\n",
    "}"
   ]
  },
  {
   "cell_type": "code",
   "execution_count": 107,
   "metadata": {},
   "outputs": [
    {
     "data": {
      "text/plain": [
       "\u001b[36mres106\u001b[0m: \u001b[32mLong\u001b[0m = \u001b[32m9415087488L\u001b[0m"
      ]
     },
     "metadata": {},
     "output_type": "display_data"
    }
   ],
   "source": [
    "product(\"Hello\")"
   ]
  },
  {
   "cell_type": "code",
   "execution_count": 113,
   "metadata": {},
   "outputs": [
    {
     "data": {
      "text/plain": [
       "defined \u001b[32mfunction \u001b[36mpower\u001b[0m"
      ]
     },
     "metadata": {},
     "output_type": "display_data"
    }
   ],
   "source": [
    "def power(x: Double, n: Int): Double = \n",
    "    if (n < 0) 1 / power(x, -n)\n",
    "    else if (n == 0) 1\n",
    "    else if (n % 2 == 1) x * power(x, n-1)\n",
    "    else {\n",
    "        val y = power(x, n/2)\n",
    "        y * y\n",
    "    }"
   ]
  },
  {
   "cell_type": "code",
   "execution_count": 114,
   "metadata": {},
   "outputs": [
    {
     "data": {
      "text/plain": [
       "\u001b[36mres113\u001b[0m: \u001b[32mDouble\u001b[0m = \u001b[32m0.0625\u001b[0m"
      ]
     },
     "metadata": {},
     "output_type": "display_data"
    }
   ],
   "source": [
    "power(4, -2)"
   ]
  },
  {
   "cell_type": "code",
   "execution_count": 117,
   "metadata": {},
   "outputs": [
    {
     "data": {
      "text/plain": [
       "\u001b[32mimport \u001b[36mjava.time.LocalDate\u001b[0m\n",
       "defined \u001b[32mclass \u001b[36mDateInterpolator\u001b[0m"
      ]
     },
     "metadata": {},
     "output_type": "display_data"
    }
   ],
   "source": [
    "import java.time.LocalDate\n",
    "implicit class DateInterpolator(val sc: StringContext) {\n",
    "    def data(args: Any*) = {\n",
    "        print(\"mardas\")\n",
    "    }\n",
    "}"
   ]
  },
  {
   "cell_type": "code",
   "execution_count": 59,
   "metadata": {},
   "outputs": [
    {
     "data": {
      "text/plain": [
       "\u001b[32mimport \u001b[36mscala.collection.mutable.ArrayBuffer\u001b[0m\n",
       "\u001b[36ma\u001b[0m: collection.mutable.ArrayBuffer[Int] = \u001b[33mArrayBuffer\u001b[0m()"
      ]
     },
     "metadata": {},
     "output_type": "display_data"
    }
   ],
   "source": [
    "import scala.collection.mutable.ArrayBuffer\n",
    "val a = ArrayBuffer[Int]()"
   ]
  },
  {
   "cell_type": "code",
   "execution_count": 124,
   "metadata": {},
   "outputs": [
    {
     "data": {
      "text/plain": [
       "\u001b[36mres123\u001b[0m: \u001b[32mArrayBuffer\u001b[0m[\u001b[32mInt\u001b[0m] = \u001b[33mArrayBuffer\u001b[0m(\u001b[32m1\u001b[0m, \u001b[32m1\u001b[0m, \u001b[32m1\u001b[0m, \u001b[32m1\u001b[0m)"
      ]
     },
     "metadata": {},
     "output_type": "display_data"
    }
   ],
   "source": [
    "a.++=(Array(1))"
   ]
  },
  {
   "cell_type": "code",
   "execution_count": 125,
   "metadata": {},
   "outputs": [
    {
     "data": {
      "text/plain": [
       "\u001b[36mres124\u001b[0m: \u001b[32mArrayBuffer\u001b[0m[\u001b[32mInt\u001b[0m] = \u001b[33mArrayBuffer\u001b[0m(\u001b[32m1\u001b[0m, \u001b[32m1\u001b[0m, \u001b[32m1\u001b[0m, \u001b[32m1\u001b[0m, \u001b[32m1\u001b[0m)"
      ]
     },
     "metadata": {},
     "output_type": "display_data"
    }
   ],
   "source": [
    "a += 1"
   ]
  },
  {
   "cell_type": "code",
   "execution_count": 127,
   "metadata": {},
   "outputs": [
    {
     "data": {
      "text/plain": [
       "\u001b[32mimport \u001b[36morg.nd4j.linalg.factory.Nd4j\u001b[0m"
      ]
     },
     "metadata": {},
     "output_type": "display_data"
    }
   ],
   "source": [
    "import org.nd4j.linalg.factory.Nd4j"
   ]
  },
  {
   "cell_type": "code",
   "execution_count": 158,
   "metadata": {},
   "outputs": [
    {
     "data": {
      "text/plain": [
       "\u001b[36ma\u001b[0m: \u001b[32mcollection\u001b[0m.\u001b[32mmutable\u001b[0m.\u001b[32mBuffer\u001b[0m[\u001b[32mInt\u001b[0m] = \u001b[33mArrayBuffer\u001b[0m(\u001b[32m10\u001b[0m, \u001b[32m11\u001b[0m, \u001b[32m29\u001b[0m, \u001b[32m52\u001b[0m, \u001b[32m16\u001b[0m, \u001b[32m47\u001b[0m, \u001b[32m94\u001b[0m, \u001b[32m20\u001b[0m, \u001b[32m86\u001b[0m, \u001b[32m1\u001b[0m, \u001b[32m33\u001b[0m, \u001b[32m5\u001b[0m, \u001b[32m82\u001b[0m, \u001b[32m55\u001b[0m, \u001b[32m47\u001b[0m)"
      ]
     },
     "metadata": {},
     "output_type": "display_data"
    }
   ],
   "source": [
    "val a = Nd4j.rand(1, 15).toDoubleVector.map(a => (a*100).toInt).toBuffer"
   ]
  },
  {
   "cell_type": "code",
   "execution_count": 153,
   "metadata": {},
   "outputs": [
    {
     "data": {
      "text/plain": [
       "\u001b[36mres152\u001b[0m: \u001b[32mcollection\u001b[0m.\u001b[32mmutable\u001b[0m.\u001b[32mBuffer\u001b[0m[\u001b[32mInt\u001b[0m] = \u001b[33mArrayBuffer\u001b[0m(\u001b[32m44\u001b[0m, \u001b[32m28\u001b[0m, \u001b[32m66\u001b[0m, \u001b[32m22\u001b[0m, \u001b[32m42\u001b[0m, \u001b[32m54\u001b[0m, \u001b[32m60\u001b[0m, \u001b[32m54\u001b[0m, \u001b[32m4\u001b[0m, \u001b[32m12\u001b[0m)"
      ]
     },
     "metadata": {},
     "output_type": "display_data"
    }
   ],
   "source": [
    "a.filter(_ % 2 == 0)"
   ]
  },
  {
   "cell_type": "code",
   "execution_count": 157,
   "metadata": {},
   "outputs": [
    {
     "data": {
      "text/plain": [
       "\u001b[36mpositionsToRemove\u001b[0m: \u001b[32mcollection\u001b[0m.\u001b[32mimmutable\u001b[0m.\u001b[32mIndexedSeq\u001b[0m[\u001b[32mInt\u001b[0m] = \u001b[33mVector\u001b[0m(\u001b[32m10\u001b[0m, \u001b[32m8\u001b[0m, \u001b[32m7\u001b[0m, \u001b[32m4\u001b[0m, \u001b[32m0\u001b[0m)\n",
       "\u001b[36mres156_2\u001b[0m: \u001b[32mcollection\u001b[0m.\u001b[32mmutable\u001b[0m.\u001b[32mBuffer\u001b[0m[\u001b[32mInt\u001b[0m] = \u001b[33mArrayBuffer\u001b[0m(\u001b[32m44\u001b[0m, \u001b[32m28\u001b[0m, \u001b[32m66\u001b[0m, \u001b[32m22\u001b[0m, \u001b[32m42\u001b[0m, \u001b[32m54\u001b[0m, \u001b[32m60\u001b[0m, \u001b[32m54\u001b[0m, \u001b[32m4\u001b[0m, \u001b[32m12\u001b[0m)"
      ]
     },
     "metadata": {},
     "output_type": "display_data"
    }
   ],
   "source": [
    "val positionsToRemove = for (i <- a.indices.reverse if a(i) % 2 == 1) yield i\n",
    "for (i <- positionsToRemove ) a.remove(i)\n",
    "a"
   ]
  },
  {
   "cell_type": "code",
   "execution_count": 145,
   "metadata": {},
   "outputs": [
    {
     "data": {
      "text/plain": [
       "\u001b[36mres144\u001b[0m: \u001b[32mcollection\u001b[0m.\u001b[32mmutable\u001b[0m.\u001b[32mBuffer\u001b[0m[\u001b[32mInt\u001b[0m] = \u001b[33mArrayBuffer\u001b[0m(\u001b[32m48\u001b[0m, \u001b[32m42\u001b[0m, \u001b[32m70\u001b[0m, \u001b[32m78\u001b[0m, \u001b[32m24\u001b[0m, \u001b[32m90\u001b[0m, \u001b[32m12\u001b[0m)"
      ]
     },
     "metadata": {},
     "output_type": "display_data"
    }
   ],
   "source": [
    "for (i <- a if i%2==0) yield i"
   ]
  },
  {
   "cell_type": "code",
   "execution_count": 162,
   "metadata": {},
   "outputs": [
    {
     "data": {
      "text/plain": [
       "\u001b[36mres161\u001b[0m: \u001b[32mDouble\u001b[0m = \u001b[32m39.2\u001b[0m"
      ]
     },
     "metadata": {},
     "output_type": "display_data"
    }
   ],
   "source": [
    "a.sum.toDouble./(a.size)"
   ]
  },
  {
   "cell_type": "code",
   "execution_count": 60,
   "metadata": {},
   "outputs": [
    {
     "data": {
      "text/plain": [
       "\u001b[32mimport \u001b[36mscala.collection.JavaConversions.bufferAsJavaList\u001b[0m\n",
       "\u001b[32mimport \u001b[36mscala.collection.JavaConversions.asScalaBuffer\u001b[0m"
      ]
     },
     "metadata": {},
     "output_type": "display_data"
    }
   ],
   "source": [
    "import scala.collection.JavaConversions.bufferAsJavaList\n",
    "import scala.collection.JavaConversions.asScalaBuffer"
   ]
  },
  {
   "cell_type": "code",
   "execution_count": 61,
   "metadata": {},
   "outputs": [
    {
     "data": {
      "text/plain": [
       "\u001b[36mcommand\u001b[0m: collection.mutable.ArrayBuffer[String] = \u001b[33mArrayBuffer\u001b[0m(\u001b[32m\"ls\"\u001b[0m, \u001b[32m\"-al\"\u001b[0m, \u001b[32m\"./\"\u001b[0m)\n",
       "\u001b[36mpb\u001b[0m: ProcessBuilder = java.lang.ProcessBuilder@d98f316"
      ]
     },
     "metadata": {},
     "output_type": "display_data"
    }
   ],
   "source": [
    "val command = ArrayBuffer(\"ls\", \"-al\", \"./\")\n",
    "val pb = new ProcessBuilder(command)"
   ]
  },
  {
   "cell_type": "code",
   "execution_count": 74,
   "metadata": {},
   "outputs": [
    {
     "data": {
      "text/plain": [
       "\u001b[32mimport \u001b[36mjava.io.File\u001b[0m\n",
       "\u001b[32mimport \u001b[36mjava.util.Scanner\u001b[0m\n",
       "\u001b[36mpb\u001b[0m: Process = java.lang.UNIXProcess@1cf7eb7b\n",
       "\u001b[36mis\u001b[0m: java.util.Scanner = java.util.Scanner[delimiters=\\p{javaWhitespace}+][position=0][match valid=false][need input=false][source closed=true][skipped=false][group separator=\\,][decimal separator=\\.][positive prefix=][negative prefix=\\Q-\\E][positive suffix=][negative suffix=][NaN string=\\Q�\\E][infinity string=\\Q∞\\E]"
      ]
     },
     "metadata": {},
     "output_type": "display_data"
    }
   ],
   "source": [
    "import java.io.File\n",
    "import java.util.Scanner\n",
    "val pb = new ProcessBuilder(\"ls\", \"./\").inheritIO().start();\n",
    "val is = new Scanner(pb.getInputStream)\n",
    "while (is.hasNextLine) {\n",
    "    println(is.nextLine)\n",
    "}"
   ]
  },
  {
   "cell_type": "code",
   "execution_count": 179,
   "metadata": {},
   "outputs": [
    {
     "data": {
      "text/plain": [
       "\u001b[32mimport \u001b[36mscala.collection.mutable.Buffer\u001b[0m\n",
       "\u001b[36mcmd\u001b[0m: \u001b[32mcollection\u001b[0m.\u001b[32mmutable\u001b[0m.\u001b[32mBuffer\u001b[0m[\u001b[32mString\u001b[0m] = \u001b[33mArrayBuffer\u001b[0m(\u001b[32m\"ls\"\u001b[0m, \u001b[32m\"-al\"\u001b[0m, \u001b[32m\"./\"\u001b[0m)"
      ]
     },
     "metadata": {},
     "output_type": "display_data"
    }
   ],
   "source": [
    "import scala.collection.mutable.Buffer\n",
    "val cmd: Buffer[String] = pb.command()"
   ]
  },
  {
   "cell_type": "code",
   "execution_count": 251,
   "metadata": {},
   "outputs": [
    {
     "data": {
      "text/plain": [
       "defined \u001b[32mfunction \u001b[36mrandomArray\u001b[0m"
      ]
     },
     "metadata": {},
     "output_type": "display_data"
    }
   ],
   "source": [
    "def randomArray(n:Int, b:Int) = for (i <- 0 until n) yield scala.util.Random.nextInt(b)"
   ]
  },
  {
   "cell_type": "code",
   "execution_count": 252,
   "metadata": {},
   "outputs": [
    {
     "data": {
      "text/plain": [
       "\u001b[36mswapAdjacentInplace\u001b[0m: \u001b[32mArray\u001b[0m[\u001b[32mInt\u001b[0m] => \u001b[32mUnit\u001b[0m = <function1>\n",
       "defined \u001b[32mfunction \u001b[36mswapAdjacent\u001b[0m"
      ]
     },
     "metadata": {},
     "output_type": "display_data"
    }
   ],
   "source": [
    "val swapAdjacentInplace = (array:Array[Int]) => for (i <- 1 until array.size by 2) {\n",
    "    val tmp = array(i)\n",
    "    array(i) = array(i-1)\n",
    "    array(i-1) = tmp\n",
    "}\n",
    "def swapAdjacent(array:Array[Int]) = \n",
    "    for (i <- 0 until array.size ) \n",
    "        yield \n",
    "            if (i%2 == 0 && i+1 < array.size) array(i+1) \n",
    "            else if (i%2==1) array(i-1)\n",
    "            else array(i)"
   ]
  },
  {
   "cell_type": "code",
   "execution_count": 275,
   "metadata": {},
   "outputs": [
    {
     "name": "stdout",
     "output_type": "stream",
     "text": [
      "0,5,3,1,6,4,2\n"
     ]
    },
    {
     "data": {
      "text/plain": [
       "\u001b[36ma\u001b[0m: \u001b[32mArray\u001b[0m[\u001b[32mInt\u001b[0m] = \u001b[33mArray\u001b[0m(\u001b[32m0\u001b[0m, \u001b[32m5\u001b[0m, \u001b[32m3\u001b[0m, \u001b[32m1\u001b[0m, \u001b[32m6\u001b[0m, \u001b[32m4\u001b[0m, \u001b[32m2\u001b[0m)\n",
       "\u001b[36mres274_2\u001b[0m: \u001b[32mcollection\u001b[0m.\u001b[32mimmutable\u001b[0m.\u001b[32mIndexedSeq\u001b[0m[\u001b[32mInt\u001b[0m] = \u001b[33mVector\u001b[0m(\u001b[32m5\u001b[0m, \u001b[32m0\u001b[0m, \u001b[32m1\u001b[0m, \u001b[32m3\u001b[0m, \u001b[32m4\u001b[0m, \u001b[32m6\u001b[0m, \u001b[32m2\u001b[0m)"
      ]
     },
     "metadata": {},
     "output_type": "display_data"
    }
   ],
   "source": [
    "val a = randomArray(7, 7).toArray\n",
    "println(a.mkString(\",\"))\n",
    "swapAdjacent(a)"
   ]
  },
  {
   "cell_type": "code",
   "execution_count": null,
   "metadata": {},
   "outputs": [],
   "source": []
  },
  {
   "cell_type": "code",
   "execution_count": 293,
   "metadata": {},
   "outputs": [
    {
     "ename": "",
     "evalue": "",
     "output_type": "error",
     "traceback": [
      "\u001b[31mMain.scala:29: only classes can have declared but undefined members",
      "(Note that variables need to be initialized to be defined)",
      "    var j: Int",
      "        ^\u001b[0m"
     ]
    }
   ],
   "source": [
    "def sortBySign(array:Array[Int]) = {\n",
    "    var j: Int = 0\n",
    "    for (i <- array.indices if array(i) < 0) {\n",
    "        val tmp = array(i)\n",
    "        array(i) = array(indicesOfNegatives(j))\n",
    "        array(indicesOfNegatives(j)) = tmp\n",
    "        j += 1\n",
    "    }\n",
    "}"
   ]
  },
  {
   "cell_type": "code",
   "execution_count": 286,
   "metadata": {},
   "outputs": [
    {
     "name": "stdout",
     "output_type": "stream",
     "text": [
      "Vector(-1, 3, -5, -1, -2, -4, -5, -3, 5, -1)\n"
     ]
    },
    {
     "data": {
      "text/plain": [
       "\u001b[36ma\u001b[0m: \u001b[32mcollection\u001b[0m.\u001b[32mimmutable\u001b[0m.\u001b[32mIndexedSeq\u001b[0m[\u001b[32mInt\u001b[0m] = \u001b[33mVector\u001b[0m(\u001b[32m-1\u001b[0m, \u001b[32m3\u001b[0m, \u001b[32m-5\u001b[0m, \u001b[32m-1\u001b[0m, \u001b[32m-2\u001b[0m, \u001b[32m-4\u001b[0m, \u001b[32m-5\u001b[0m, \u001b[32m-3\u001b[0m, \u001b[32m5\u001b[0m, \u001b[32m-1\u001b[0m)"
      ]
     },
     "metadata": {},
     "output_type": "display_data"
    }
   ],
   "source": [
    "val a = randomArray(10, 11).map(_-5)\n",
    "println(a)\n",
    "sortBySign(a.toArray)"
   ]
  },
  {
   "cell_type": "code",
   "execution_count": 294,
   "metadata": {},
   "outputs": [
    {
     "data": {
      "text/plain": [
       "\u001b[36mres293\u001b[0m: \u001b[32mcollection\u001b[0m.\u001b[32mimmutable\u001b[0m.\u001b[32mIndexedSeq\u001b[0m[\u001b[32mInt\u001b[0m] = \u001b[33mVector\u001b[0m(\u001b[32m-1\u001b[0m, \u001b[32m3\u001b[0m, \u001b[32m-5\u001b[0m, \u001b[32m-2\u001b[0m, \u001b[32m-4\u001b[0m, \u001b[32m-3\u001b[0m, \u001b[32m5\u001b[0m)"
      ]
     },
     "metadata": {},
     "output_type": "display_data"
    }
   ],
   "source": [
    "a.distinct"
   ]
  },
  {
   "cell_type": "code",
   "execution_count": 341,
   "metadata": {},
   "outputs": [
    {
     "data": {
      "text/plain": [
       "defined \u001b[32mfunction \u001b[36mremoveNegativeButFirstOne\u001b[0m"
      ]
     },
     "metadata": {},
     "output_type": "display_data"
    }
   ],
   "source": [
    "def removeNegativeButFirstOne(array: Buffer[Int]) {\n",
    "    val negativeIndices = for (i <- array.indices if array(i) < 0) yield i\n",
    "    println(\"Negative indices: \" + negativeIndices)\n",
    "    for (i <- negativeIndices.size-1 to 1 by -1)  array.remove(negativeIndices(i))\n",
    "}"
   ]
  },
  {
   "cell_type": "code",
   "execution_count": 342,
   "metadata": {},
   "outputs": [
    {
     "name": "stdout",
     "output_type": "stream",
     "text": [
      "ArrayBuffer(-4, 0, -4, 5, 4, 3, 5, -1, 5, -4)\n",
      "Negative indices: Vector(0, 2, 7, 9)\n",
      "ArrayBuffer(-4, 0, 5, 4, 3, 5, 5)\n"
     ]
    },
    {
     "data": {
      "text/plain": [
       "\u001b[36ma\u001b[0m: \u001b[32mBuffer\u001b[0m[\u001b[32mInt\u001b[0m] = \u001b[33mArrayBuffer\u001b[0m(\u001b[32m-4\u001b[0m, \u001b[32m0\u001b[0m, \u001b[32m5\u001b[0m, \u001b[32m4\u001b[0m, \u001b[32m3\u001b[0m, \u001b[32m5\u001b[0m, \u001b[32m5\u001b[0m)"
      ]
     },
     "metadata": {},
     "output_type": "display_data"
    }
   ],
   "source": [
    "val a = randomArray(10, 11).map(_-5).toBuffer\n",
    "println(a)\n",
    "removeNegativeButFirstOne(a)\n",
    "println(a)"
   ]
  },
  {
   "cell_type": "code",
   "execution_count": null,
   "metadata": {},
   "outputs": [],
   "source": []
  },
  {
   "cell_type": "code",
   "execution_count": 351,
   "metadata": {},
   "outputs": [
    {
     "data": {
      "text/plain": [
       "\u001b[36mres350\u001b[0m: \u001b[32mArray\u001b[0m[\u001b[32mString\u001b[0m] = \u001b[33mArray\u001b[0m(\n",
       "  \u001b[32m\"Adak\"\u001b[0m,\n",
       "  \u001b[32m\"Anchorage\"\u001b[0m,\n",
       "  \u001b[32m\"Anguilla\"\u001b[0m,\n",
       "  \u001b[32m\"Antigua\"\u001b[0m,\n",
       "  \u001b[32m\"Araguaina\"\u001b[0m,\n",
       "  \u001b[32m\"Argentina/Buenos_Aires\"\u001b[0m,\n",
       "  \u001b[32m\"Argentina/Catamarca\"\u001b[0m,\n",
       "  \u001b[32m\"Argentina/ComodRivadavia\"\u001b[0m,\n",
       "  \u001b[32m\"Argentina/Cordoba\"\u001b[0m,\n",
       "  \u001b[32m\"Argentina/Jujuy\"\u001b[0m,\n",
       "  \u001b[32m\"Argentina/La_Rioja\"\u001b[0m,\n",
       "  \u001b[32m\"Argentina/Mendoza\"\u001b[0m,\n",
       "  \u001b[32m\"Argentina/Rio_Gallegos\"\u001b[0m,\n",
       "  \u001b[32m\"Argentina/Salta\"\u001b[0m,\n",
       "  \u001b[32m\"Argentina/San_Juan\"\u001b[0m,\n",
       "  \u001b[32m\"Argentina/San_Luis\"\u001b[0m,\n",
       "  \u001b[32m\"Argentina/Tucuman\"\u001b[0m,\n",
       "  \u001b[32m\"Argentina/Ushuaia\"\u001b[0m,\n",
       "  \u001b[32m\"Aruba\"\u001b[0m,\n",
       "\u001b[33m...\u001b[0m"
      ]
     },
     "metadata": {},
     "output_type": "display_data"
    }
   ],
   "source": [
    "java.util.TimeZone.getAvailableIDs.filter(_.startsWith(\"America/\")).map(_.drop(8)).sorted"
   ]
  },
  {
   "cell_type": "code",
   "execution_count": 354,
   "metadata": {},
   "outputs": [
    {
     "data": {
      "text/plain": [
       "\u001b[32mimport \u001b[36mjava.awt.datatransfer._\u001b[0m\n",
       "\u001b[36mflavors\u001b[0m: \u001b[32mSystemFlavorMap\u001b[0m = java.awt.datatransfer.SystemFlavorMap@6c7cb507"
      ]
     },
     "metadata": {},
     "output_type": "display_data"
    }
   ],
   "source": [
    "import java.awt.datatransfer._\n",
    "val flavors = SystemFlavorMap.getDefaultFlavorMap().asInstanceOf[SystemFlavorMap]"
   ]
  },
  {
   "cell_type": "code",
   "execution_count": 357,
   "metadata": {},
   "outputs": [
    {
     "data": {
      "text/plain": [
       "\u001b[36mmardas\u001b[0m: \u001b[32mBuffer\u001b[0m[\u001b[32mString\u001b[0m] = \u001b[33mBuffer\u001b[0m(\n",
       "  \u001b[32m\"\"\u001b[0m,\n",
       "  \u001b[32m\"image/png\"\u001b[0m,\n",
       "  \u001b[32m\"image/jpeg\"\u001b[0m,\n",
       "  \u001b[32m\"image/gif\"\u001b[0m,\n",
       "  \u001b[32m\"image/x-png\"\u001b[0m,\n",
       "  \u001b[32m\"image/tiff\"\u001b[0m,\n",
       "  \u001b[32m\"image/x-tiff\"\u001b[0m,\n",
       "  \u001b[32m\"PNG\"\u001b[0m,\n",
       "  \u001b[32m\"JFIF\"\u001b[0m\n",
       ")"
      ]
     },
     "metadata": {},
     "output_type": "display_data"
    }
   ],
   "source": [
    "val mardas: Buffer[String] = flavors.getNativesForFlavor(DataFlavor.imageFlavor)"
   ]
  },
  {
   "cell_type": "code",
   "execution_count": 1,
   "metadata": {},
   "outputs": [
    {
     "data": {
      "text/plain": [
       "\u001b[36ma\u001b[0m: collection.immutable.Map[String,Int] = \u001b[33mMap\u001b[0m(\u001b[32m\"iphone\"\u001b[0m -> \u001b[32m100\u001b[0m, \u001b[32m\"ipad\"\u001b[0m -> \u001b[32m250\u001b[0m)"
      ]
     },
     "metadata": {},
     "output_type": "display_data"
    }
   ],
   "source": [
    "val a = Map(\"iphone\" -> 100, \"ipad\" -> 250)"
   ]
  },
  {
   "cell_type": "code",
   "execution_count": 2,
   "metadata": {},
   "outputs": [
    {
     "data": {
      "text/plain": [
       "\u001b[36mres1\u001b[0m: collection.immutable.Map[String,Double] = \u001b[33mMap\u001b[0m(\u001b[32m\"iphone\"\u001b[0m -> \u001b[32m90.0\u001b[0m, \u001b[32m\"ipad\"\u001b[0m -> \u001b[32m225.0\u001b[0m)"
      ]
     },
     "metadata": {},
     "output_type": "display_data"
    }
   ],
   "source": [
    "for ((item, price) <- a) yield (item, price * .9)"
   ]
  },
  {
   "cell_type": "code",
   "execution_count": 5,
   "metadata": {},
   "outputs": [
    {
     "data": {
      "text/plain": [
       "\u001b[36mres4\u001b[0m: collection.immutable.IndexedSeq[(Char, Char)] = \u001b[33mVector\u001b[0m(\u001b[33m\u001b[0m(\u001b[32m'h'\u001b[0m, \u001b[32m'w'\u001b[0m), \u001b[33m\u001b[0m(\u001b[32m'e'\u001b[0m, \u001b[32m'o'\u001b[0m), \u001b[33m\u001b[0m(\u001b[32m'l'\u001b[0m, \u001b[32m'r'\u001b[0m), \u001b[33m\u001b[0m(\u001b[32m'l'\u001b[0m, \u001b[32m'l'\u001b[0m), \u001b[33m\u001b[0m(\u001b[32m'o'\u001b[0m, \u001b[32m'd'\u001b[0m), \u001b[33m\u001b[0m(\u001b[32m's'\u001b[0m, \u001b[32m's'\u001b[0m))"
      ]
     },
     "metadata": {},
     "output_type": "display_data"
    }
   ],
   "source": [
    "\"hellos\".zip(\"worlds\")"
   ]
  },
  {
   "cell_type": "code",
   "execution_count": 8,
   "metadata": {},
   "outputs": [
    {
     "data": {
      "text/plain": [
       "defined \u001b[32mclass \u001b[36mCounter\u001b[0m"
      ]
     },
     "metadata": {},
     "output_type": "display_data"
    }
   ],
   "source": [
    "class Counter {\n",
    "private var value = 0 // You must initialize the field\n",
    "def increment() { value += 1 } // Methods are public by default\n",
    "def current() = value\n",
    "}"
   ]
  },
  {
   "cell_type": "code",
   "execution_count": 29,
   "metadata": {},
   "outputs": [
    {
     "data": {
      "text/plain": [
       "defined \u001b[32mclass \u001b[36mBalance\u001b[0m\n",
       "defined \u001b[32mobject \u001b[36mBalance\u001b[0m"
      ]
     },
     "metadata": {},
     "output_type": "display_data"
    }
   ],
   "source": [
    "class Balance(val raghas: String, var mardas: String, private val pertas: String, private var shamas: String=\"shamas_default\") {\n",
    "    var abbas = \"abbas\"\n",
    "}\n",
    "object Balance {\n",
    "    def Balance() = {\n",
    "        new Balance(\"raghas\", \"mardas\", \"pertas\", \"shamas\")\n",
    "    }\n",
    "}"
   ]
  },
  {
   "cell_type": "code",
   "execution_count": 30,
   "metadata": {},
   "outputs": [
    {
     "data": {
      "text/plain": [
       "\u001b[36ma\u001b[0m: INSTANCE.$ref$Balance = cmd28$$user$Balance@5fe7fa6e\n",
       "\u001b[36mb\u001b[0m: INSTANCE.$ref$Balance = cmd28$$user$Balance@4900dadb"
      ]
     },
     "metadata": {},
     "output_type": "display_data"
    }
   ],
   "source": [
    "val a = new Balance(\"raghas\", \"mardas\", \"pertas\", \"shamas\")\n",
    "val b = Balance.Balance()"
   ]
  },
  {
   "cell_type": "code",
   "execution_count": 34,
   "metadata": {},
   "outputs": [
    {
     "data": {
      "text/plain": []
     },
     "metadata": {},
     "output_type": "display_data"
    }
   ],
   "source": [
    "a mardas_= \"raghas_renamed2\"\n",
    "a abbas_= \"abbas_renamed\""
   ]
  },
  {
   "cell_type": "code",
   "execution_count": 35,
   "metadata": {},
   "outputs": [
    {
     "data": {
      "text/plain": [
       "\u001b[36mres34_0\u001b[0m: String = \u001b[32m\"abbas_renamed\"\u001b[0m\n",
       "\u001b[36mres34_1\u001b[0m: String = \u001b[32m\"abbas\"\u001b[0m"
      ]
     },
     "metadata": {},
     "output_type": "display_data"
    }
   ],
   "source": [
    "a.abbas\n",
    "b.abbas"
   ]
  },
  {
   "cell_type": "code",
   "execution_count": 43,
   "metadata": {},
   "outputs": [
    {
     "data": {
      "text/plain": [
       "defined \u001b[32mclass \u001b[36mPerson\u001b[0m"
      ]
     },
     "metadata": {},
     "output_type": "display_data"
    }
   ],
   "source": [
    "class Person(var age: Int) {\n",
    "    age = if (age < 0) 0 else age\n",
    "}"
   ]
  },
  {
   "cell_type": "code",
   "execution_count": 47,
   "metadata": {},
   "outputs": [
    {
     "data": {
      "text/plain": [
       "\u001b[36ma\u001b[0m: INSTANCE.$ref$Person = cmd42$$user$Person@2247f4a4"
      ]
     },
     "metadata": {},
     "output_type": "display_data"
    }
   ],
   "source": [
    "val a = new Person(-1)\n",
    "a.age"
   ]
  },
  {
   "cell_type": "code",
   "execution_count": 53,
   "metadata": {},
   "outputs": [
    {
     "data": {
      "text/plain": [
       "defined \u001b[32mclass \u001b[36mPerson\u001b[0m"
      ]
     },
     "metadata": {},
     "output_type": "display_data"
    }
   ],
   "source": [
    "class Person(name:String) {\n",
    "    val firstName = name.split(\" \")(0)\n",
    "    val lastName = name.split(\" \")(1)\n",
    "}"
   ]
  },
  {
   "cell_type": "code",
   "execution_count": 54,
   "metadata": {},
   "outputs": [
    {
     "data": {
      "text/plain": [
       "\u001b[36ma\u001b[0m: INSTANCE.$ref$Person = cmd52$$user$Person@4bb2ebdd"
      ]
     },
     "metadata": {},
     "output_type": "display_data"
    }
   ],
   "source": [
    "val a = new Person(\"Behnam Rasoolian\")"
   ]
  },
  {
   "cell_type": "code",
   "execution_count": 55,
   "metadata": {},
   "outputs": [
    {
     "data": {
      "text/plain": [
       "\u001b[36mres54_0\u001b[0m: String = \u001b[32m\"Behnam\"\u001b[0m\n",
       "\u001b[36mres54_1\u001b[0m: String = \u001b[32m\"Rasoolian\"\u001b[0m"
      ]
     },
     "metadata": {},
     "output_type": "display_data"
    }
   ],
   "source": [
    "a.firstName \n",
    "a.lastName "
   ]
  },
  {
   "cell_type": "code",
   "execution_count": 55,
   "metadata": {},
   "outputs": [
    {
     "ename": "",
     "evalue": "",
     "output_type": "error",
     "traceback": [
      "\u001b[31mMain.scala:25: value name is not a member of cmd53.INSTANCE.$ref$cmd52.Person",
      "a.name",
      "  ^\u001b[0m"
     ]
    }
   ],
   "source": [
    "a.name"
   ]
  },
  {
   "cell_type": "code",
   "execution_count": 75,
   "metadata": {},
   "outputs": [
    {
     "data": {
      "text/plain": [
       "defined \u001b[32mclass \u001b[36mCar\u001b[0m"
      ]
     },
     "metadata": {},
     "output_type": "display_data"
    }
   ],
   "source": [
    "class Car(val manufacturer: String, val modelName: String, val modelYear: Int = -1, var licensePlate:String=\"\") {\n",
    "    \n",
    "}"
   ]
  },
  {
   "cell_type": "code",
   "execution_count": 76,
   "metadata": {},
   "outputs": [
    {
     "data": {
      "text/plain": [
       "\u001b[36ma\u001b[0m: INSTANCE.$ref$Car = cmd74$$user$Car@13a61849"
      ]
     },
     "metadata": {},
     "output_type": "display_data"
    }
   ],
   "source": [
    "val a = new Car(\"VW\", \"Jetta\")"
   ]
  },
  {
   "cell_type": "code",
   "execution_count": 78,
   "metadata": {},
   "outputs": [
    {
     "data": {
      "text/plain": [
       "\u001b[36mres77_0\u001b[0m: Int = \u001b[32m-1\u001b[0m\n",
       "\u001b[36mres77_1\u001b[0m: String = \u001b[32m\"\"\u001b[0m"
      ]
     },
     "metadata": {},
     "output_type": "display_data"
    }
   ],
   "source": [
    "a.modelYear \n",
    "a.licensePlate "
   ]
  },
  {
   "cell_type": "code",
   "execution_count": 79,
   "metadata": {},
   "outputs": [
    {
     "data": {
      "text/plain": [
       "defined \u001b[32mclass \u001b[36mEmployee\u001b[0m"
      ]
     },
     "metadata": {},
     "output_type": "display_data"
    }
   ],
   "source": [
    "class Employee(val name: String, var salary: Double) {\n",
    "    def this() { this(\"John Q. Public\", 0.0) }\n",
    "}"
   ]
  },
  {
   "cell_type": "code",
   "execution_count": 80,
   "metadata": {},
   "outputs": [
    {
     "data": {
      "text/plain": [
       "\u001b[36ma\u001b[0m: INSTANCE.$ref$Employee = cmd78$$user$Employee@ccdc4fd"
      ]
     },
     "metadata": {},
     "output_type": "display_data"
    }
   ],
   "source": [
    "val a = new Employee()"
   ]
  },
  {
   "cell_type": "code",
   "execution_count": 85,
   "metadata": {},
   "outputs": [
    {
     "data": {
      "text/plain": [
       "defined \u001b[32mclass \u001b[36mEmployee\u001b[0m"
      ]
     },
     "metadata": {},
     "output_type": "display_data"
    }
   ],
   "source": [
    "class Employee(val name: String = \"John Q. Public\", var salary: Double = 0)"
   ]
  },
  {
   "cell_type": "code",
   "execution_count": 86,
   "metadata": {},
   "outputs": [
    {
     "data": {
      "text/plain": [
       "\u001b[36ma\u001b[0m: INSTANCE.$ref$Employee = cmd84$$user$Employee@4f24950b"
      ]
     },
     "metadata": {},
     "output_type": "display_data"
    }
   ],
   "source": [
    "val a = new Employee()"
   ]
  },
  {
   "cell_type": "code",
   "execution_count": 1,
   "metadata": {},
   "outputs": [
    {
     "data": {
      "text/plain": [
       "defined \u001b[32mclass \u001b[36mEmployee\u001b[0m"
      ]
     },
     "metadata": {},
     "output_type": "display_data"
    }
   ],
   "source": [
    "class Employee {\n",
    "    val name: String = \"John Q. Public\"\n",
    "    var salary: Double = 0\n",
    "}"
   ]
  },
  {
   "cell_type": "code",
   "execution_count": 2,
   "metadata": {},
   "outputs": [
    {
     "data": {
      "text/plain": [
       "\u001b[36ma\u001b[0m: INSTANCE.$ref$Employee = cmd0$$user$Employee@719758fe"
      ]
     },
     "metadata": {},
     "output_type": "display_data"
    }
   ],
   "source": [
    "val a = new Employee()"
   ]
  },
  {
   "cell_type": "code",
   "execution_count": 1,
   "metadata": {},
   "outputs": [
    {
     "data": {
      "text/plain": [
       "defined \u001b[32mobject \u001b[36mConversions\u001b[0m"
      ]
     },
     "metadata": {},
     "output_type": "display_data"
    }
   ],
   "source": [
    "object Conversions {\n",
    "    def inchesToCentimeters(value: Double)  = value * 2.54\n",
    "    def gallonsToLiters(value: Double)  = value * 3.78541\n",
    "    def milesToKilometers(value: Double)  = value * 1.60934\n",
    "}"
   ]
  },
  {
   "cell_type": "code",
   "execution_count": 2,
   "metadata": {},
   "outputs": [
    {
     "data": {
      "text/plain": [
       "\u001b[36mres1\u001b[0m: Double = \u001b[32m5.08\u001b[0m"
      ]
     },
     "metadata": {},
     "output_type": "display_data"
    }
   ],
   "source": [
    "Conversions.inchesToCentimeters(2)"
   ]
  },
  {
   "cell_type": "code",
   "execution_count": 3,
   "metadata": {},
   "outputs": [
    {
     "data": {
      "text/plain": [
       "\u001b[36mres2\u001b[0m: Double = \u001b[32m24.1401\u001b[0m"
      ]
     },
     "metadata": {},
     "output_type": "display_data"
    }
   ],
   "source": [
    "Conversions.milesToKilometers(15)"
   ]
  },
  {
   "cell_type": "code",
   "execution_count": 6,
   "metadata": {},
   "outputs": [
    {
     "data": {
      "text/plain": [
       "defined \u001b[32mobject \u001b[36mPoint\u001b[0m"
      ]
     },
     "metadata": {},
     "output_type": "display_data"
    }
   ],
   "source": [
    "object Point extends java.awt.Point {\n",
    "    def Point(a: Int, b: Int) = {\n",
    "        new java.awt.Point(a, b)\n",
    "    }\n",
    "}"
   ]
  },
  {
   "cell_type": "code",
   "execution_count": 7,
   "metadata": {},
   "outputs": [
    {
     "data": {
      "text/plain": [
       "\u001b[36ma\u001b[0m: java.awt.Point = java.awt.Point[x=2,y=4]"
      ]
     },
     "metadata": {},
     "output_type": "display_data"
    }
   ],
   "source": [
    "val a = Point.Point(2, 4)"
   ]
  },
  {
   "cell_type": "code",
   "execution_count": 9,
   "metadata": {},
   "outputs": [
    {
     "data": {
      "text/plain": [
       "defined \u001b[32mobject \u001b[36mMardas\u001b[0m"
      ]
     },
     "metadata": {},
     "output_type": "display_data"
    }
   ],
   "source": [
    "object Mardas extends App {\n",
    "    println(args)\n",
    "}"
   ]
  },
  {
   "cell_type": "code",
   "execution_count": null,
   "metadata": {},
   "outputs": [],
   "source": []
  },
  {
   "cell_type": "code",
   "execution_count": 12,
   "metadata": {},
   "outputs": [
    {
     "data": {
      "text/plain": [
       "defined \u001b[32mobject \u001b[36mTrafficLightColor\u001b[0m"
      ]
     },
     "metadata": {},
     "output_type": "display_data"
    }
   ],
   "source": [
    "object TrafficLightColor extends Enumeration {\n",
    "    val Red = Value(0, \"Stop\")\n",
    "    val Yellow = Value(10) // Name \"Yellow\"\n",
    "    val Green = Value(\"Go\") // ID 11\n",
    "}"
   ]
  },
  {
   "cell_type": "code",
   "execution_count": 13,
   "metadata": {},
   "outputs": [
    {
     "data": {
      "text/plain": [
       "\u001b[36mres12\u001b[0m: INSTANCE.$ref$TrafficLightColor.Value = Stop"
      ]
     },
     "metadata": {},
     "output_type": "display_data"
    }
   ],
   "source": [
    "TrafficLightColor.Re"
   ]
  },
  {
   "cell_type": "code",
   "execution_count": null,
   "metadata": {},
   "outputs": [],
   "source": []
  }
 ],
 "metadata": {
  "kernelspec": {
   "display_name": "Scala 2.10",
   "language": "scala210",
   "name": "scala210"
  },
  "language_info": {
   "codemirror_mode": "text/x-scala",
   "file_extension": ".scala",
   "mimetype": "text/x-scala",
   "name": "scala210",
   "pygments_lexer": "scala",
   "version": "2.10.6"
  }
 },
 "nbformat": 4,
 "nbformat_minor": 2
}
