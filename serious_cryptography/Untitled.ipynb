{
 "cells": [
  {
   "cell_type": "code",
   "execution_count": 51,
   "metadata": {},
   "outputs": [],
   "source": [
    "import numpy as np"
   ]
  },
  {
   "cell_type": "code",
   "execution_count": 80,
   "metadata": {},
   "outputs": [
    {
     "name": "stdout",
     "output_type": "stream",
     "text": [
      "dmgbmo\n",
      "evecvm\n"
     ]
    }
   ],
   "source": [
    "def caesar_encrypt(p, k):\n",
    "    orda = ord('a')\n",
    "    return ''.join([chr(orda+(ord(i)+k-orda)%26) for i in p])\n",
    "\n",
    "def caesar_decrypt(p, k):\n",
    "    return ''.join([chr(orda+(ord(i)-k-orda)%26) for i in p])\n",
    "\n",
    "def vinegere_encrypt(p, k):\n",
    "    n = len(k)\n",
    "    orda = ord('a')\n",
    "    displacements = [ord(i)-orda for i in k]\n",
    "    return ''.join([chr(orda+(ord(c)+displacements[i%n]-orda)%26) for i, c in enumerate(p)])\n",
    "def vinegere_decrypt(p, k):\n",
    "    n = len(k)\n",
    "    orda = ord('a')\n",
    "    displacements = [ord(i)-orda for i in k]\n",
    "    return ''.join([chr(orda+(ord(c)-displacements[i%n]-orda)%26) for i, c in enumerate(p)])\n",
    "\n",
    "def tobits(s):\n",
    "    result = []\n",
    "    for c in s:\n",
    "        bits = bin(ord(c))[2:]\n",
    "        bits = '00000000'[len(bits):] + bits\n",
    "        result.extend([int(b) for b in bits])\n",
    "    return result\n",
    "\n",
    "def frombits(bits):\n",
    "    chars = []\n",
    "    for b in range(len(bits) / 8):\n",
    "        byte = bits[b*8:(b+1)*8]\n",
    "        chars.append(chr(int(''.join([str(bit) for bit in byte]), 2)))\n",
    "    return ''.join(chars)\n",
    "\n",
    "p = ''.join([chr(np.random.randint(97, 123)) for _ in range(6)])\n",
    "k = ''.join([chr(np.random.randint(97, 123)) for _ in range(3)])\n",
    "\n",
    "print(p)\n",
    "c = vinegere_encrypt(p, k)\n",
    "print(c)\n",
    "assert(vinegere_decrypt(c, k) == p)\n",
    "\n",
    "k = np.random.randint(4)\n",
    "c = caesar_encrypt(p, k)\n",
    "assert caesar_decrypt(c, k) == p"
   ]
  },
  {
   "cell_type": "code",
   "execution_count": 81,
   "metadata": {},
   "outputs": [
    {
     "data": {
      "text/plain": [
       "[0, 1, 1, 0, 1, 1, 0, 1, 0, 1, 1, 0, 0, 0, 0, 1, 0, 1, 1, 1, 0, 0, 1, 0]"
      ]
     },
     "execution_count": 81,
     "metadata": {},
     "output_type": "execute_result"
    }
   ],
   "source": [
    "tobits('mar')"
   ]
  },
  {
   "cell_type": "code",
   "execution_count": 53,
   "metadata": {},
   "outputs": [
    {
     "data": {
      "text/plain": [
       "122"
      ]
     },
     "execution_count": 53,
     "metadata": {},
     "output_type": "execute_result"
    }
   ],
   "source": [
    "ord('z')"
   ]
  },
  {
   "cell_type": "code",
   "execution_count": null,
   "metadata": {},
   "outputs": [],
   "source": []
  }
 ],
 "metadata": {
  "kernelspec": {
   "display_name": "Python 2",
   "language": "python",
   "name": "python2"
  },
  "language_info": {
   "codemirror_mode": {
    "name": "ipython",
    "version": 2
   },
   "file_extension": ".py",
   "mimetype": "text/x-python",
   "name": "python",
   "nbconvert_exporter": "python",
   "pygments_lexer": "ipython2",
   "version": "2.7.10"
  }
 },
 "nbformat": 4,
 "nbformat_minor": 2
}
